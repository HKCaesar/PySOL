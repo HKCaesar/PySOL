{
 "cells": [
  {
   "cell_type": "code",
   "execution_count": 1,
   "metadata": {
    "collapsed": true
   },
   "outputs": [],
   "source": [
    "from numpy.random import random as randomArray\n",
    "import numpy as np\n",
    "import pyopencl as cl\n",
    "\n",
    "%load_ext pyopencl.ipython_ext"
   ]
  },
  {
   "cell_type": "code",
   "execution_count": 2,
   "metadata": {
    "collapsed": false
   },
   "outputs": [],
   "source": [
    "def opencl(data):\n",
    "    #array = np.ma.array(randomArray((8*256,8*256))*255, np.double)\n",
    "    #someArray = np.array(randomArray((256,256))*255, np.float32)\n",
    "\n",
    "    #someArray\n",
    "\n",
    "    # Context\n",
    "    ctx = cl.create_some_context()\n",
    "    # Create queue\n",
    "    queue = cl.CommandQueue(ctx)\n",
    "\n",
    "    # Get mem flags\n",
    "    mf = cl.mem_flags\n",
    "\n",
    "    # Create a read-only buffer on device and copy 'someArray' from host to device\n",
    "    someArrayAsOpenCLType = cl.Buffer(ctx, mf.READ_ONLY | mf.COPY_HOST_PTR, hostbuf=data)\n",
    "\n",
    "    # Create a write-only buffer to get the result from device\n",
    "    resultAsOpenCLType = cl.Buffer(ctx, mf.WRITE_ONLY, data.nbytes)\n",
    "\n",
    "    program = cl.Program(ctx, \"\"\"\n",
    "    __kernel void multiplyByTwo(__global const float4 *someArrayAsOpenCLType, __global float4 *resultAsOpenCLType) {\n",
    "            int gid = get_global_id(0);\n",
    "\n",
    "            float4 data = someArrayAsOpenCLType[gid];\n",
    "            resultAsOpenCLType[gid] =  data * (float) 2.0;\n",
    "    }\n",
    "    \"\"\").build()\n",
    "\n",
    "    program.multiplyByTwo(queue, data.shape, None, someArrayAsOpenCLType, resultAsOpenCLType)\n",
    "\n",
    "    # Creates a buffer for the result (host memory)\n",
    "    result = np.empty_like(data)\n",
    "\n",
    "    # Copy the results from device to host\n",
    "    cl.enqueue_copy(queue, result, resultAsOpenCLType)"
   ]
  },
  {
   "cell_type": "code",
   "execution_count": 16,
   "metadata": {
    "collapsed": true
   },
   "outputs": [],
   "source": [
    "array = np.array(randomArray((10*2048,10*2048))*255, np.float32)"
   ]
  },
  {
   "cell_type": "code",
   "execution_count": 21,
   "metadata": {
    "collapsed": false
   },
   "outputs": [
    {
     "name": "stdout",
     "output_type": "stream",
     "text": [
      "1 loop, best of 3: 1.78 s per loop\n"
     ]
    }
   ],
   "source": [
    "# with opencl \n",
    "%timeit opencl(array)"
   ]
  },
  {
   "cell_type": "code",
   "execution_count": 20,
   "metadata": {
    "collapsed": false
   },
   "outputs": [
    {
     "name": "stdout",
     "output_type": "stream",
     "text": [
      "1 loop, best of 3: 462 ms per loop\n"
     ]
    }
   ],
   "source": [
    "# no opencl\n",
    "%timeit array * 2.0"
   ]
  }
 ],
 "metadata": {
  "kernelspec": {
   "display_name": "Python 2",
   "language": "python",
   "name": "python2"
  },
  "language_info": {
   "codemirror_mode": {
    "name": "ipython",
    "version": 2
   },
   "file_extension": ".py",
   "mimetype": "text/x-python",
   "name": "python",
   "nbconvert_exporter": "python",
   "pygments_lexer": "ipython2",
   "version": "2.7.6"
  },
  "latex_envs": {
   "bibliofile": "biblio.bib",
   "cite_by": "apalike",
   "current_citInitial": 1,
   "eqLabelWithNumbers": true,
   "eqNumInitial": 0
  }
 },
 "nbformat": 4,
 "nbformat_minor": 0
}
