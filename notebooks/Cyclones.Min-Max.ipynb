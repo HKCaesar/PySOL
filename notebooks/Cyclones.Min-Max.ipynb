{
 "metadata": {
  "name": "Cyclones.Min-Max"
 },
 "nbformat": 3,
 "nbformat_minor": 0,
 "worksheets": [
  {
   "cells": [
    {
     "cell_type": "heading",
     "level": 1,
     "metadata": {},
     "source": [
      "Includes"
     ]
    },
    {
     "cell_type": "code",
     "collapsed": false,
     "input": [
      "%pylab inline\n",
      "import json\n",
      "import os"
     ],
     "language": "python",
     "metadata": {},
     "outputs": [
      {
       "output_type": "stream",
       "stream": "stdout",
       "text": [
        "\n",
        "Welcome to pylab, a matplotlib-based Python environment [backend: module://IPython.kernel.zmq.pylab.backend_inline].\n",
        "For more information, type 'help(pylab)'.\n"
       ]
      }
     ],
     "prompt_number": 23
    },
    {
     "cell_type": "heading",
     "level": 1,
     "metadata": {},
     "source": [
      "Classes"
     ]
    },
    {
     "cell_type": "heading",
     "level": 3,
     "metadata": {},
     "source": [
      "Logger"
     ]
    },
    {
     "cell_type": "code",
     "collapsed": false,
     "input": [
      "class LoggerEntryLevels:\n",
      "    message = 'Message'\n",
      "    error = 'Error'\n",
      "    warning = 'Warning'\n",
      "\n",
      "\n",
      "class LogEntry:\n",
      "    def __init__(self, level, data):\n",
      "        self.level = level\n",
      "        self.data = data\n",
      "\n",
      "\n",
      "class Logger:\n",
      "    __log_data = []\n",
      "    \n",
      "    def __init__(self):\n",
      "        __log_data = []\n",
      "        \n",
      "    def msg(self, data_to_log):\n",
      "        \"\"\"\n",
      "            Set message to log.\n",
      "            data_to_log -- string\n",
      "        \"\"\"\n",
      "        self.__log_data.append(LogEntry(LoggerEntryLevels.message, data_to_log))\n",
      "    \n",
      "    def error(self, data_to_log):\n",
      "        \"\"\"\n",
      "            Set error to log.\n",
      "            data_to_log -- string\n",
      "        \"\"\"\n",
      "        self.__log_data.append(LogEntry(LoggerEntryLevels.error, data_to_log))\n",
      "    \n",
      "    def warn(self, data_to_log):\n",
      "        \"\"\"\n",
      "            Set warning to log.\n",
      "            data_to_log -- string\n",
      "        \"\"\"\n",
      "        self.__log_data.append(LogEntry(LoggerEntryLevels.warning, data_to_log))\n",
      "        \n",
      "    def show_log(self):\n",
      "        \"\"\"\n",
      "            Prints log to display\n",
      "        \"\"\"\n",
      "        for log_entry in self.__log_data:\n",
      "            print '%s \\t %s' % (log_entry.level, log_entry.data)"
     ],
     "language": "python",
     "metadata": {},
     "outputs": [],
     "prompt_number": 24
    },
    {
     "cell_type": "heading",
     "level": 3,
     "metadata": {},
     "source": [
      "SerializableCSV"
     ]
    },
    {
     "cell_type": "code",
     "collapsed": false,
     "input": [
      "class SerializableCSV(object):\n",
      "    def __setattr__(self, name, value):\n",
      "        object.__setattr__(self, name, value)\n",
      "    def __getattr__(self, name):\n",
      "        object.__getattr__(self, name)\n",
      "        \n",
      "    \n",
      "    def getCSV(self, inNames, innerNames = '', separator = ';'):\n",
      "        \"\"\"\n",
      "            Returns comma separated values\n",
      "            separator -- char, specifies values separator\n",
      "            inNames -- list of strings or string with values separated by comma, specifies parameters for export\n",
      "        \"\"\"\n",
      "        if (inNames.__class__ == ''.__class__):\n",
      "            names = inNames.split(',')\n",
      "        elif (inNames.__class__ == [].__class__):\n",
      "            names = inNames\n",
      "        else:\n",
      "            raise Exception('Parameter inNames must be list of strings or string with values separated by comma. But it is %s', inNames.__class__)\n",
      "        \n",
      "        csv = {\n",
      "            'csv': '',\n",
      "            'inner': '' }\n",
      "        for name in names:\n",
      "            csv['csv'] += str(self.__dict__[name]) + separator\n",
      "        for name in innerNames:\n",
      "            for item in self.__dict__[name]:\n",
      "                csv['inner'] += item.getCSV('satellite,parameter,year,day,path,postfix,number,time_to_display')['csv'] + '\\n'\n",
      "        return csv"
     ],
     "language": "python",
     "metadata": {},
     "outputs": [],
     "prompt_number": 25
    },
    {
     "cell_type": "heading",
     "level": 3,
     "metadata": {},
     "source": [
      "Snapshot"
     ]
    },
    {
     "cell_type": "code",
     "collapsed": false,
     "input": [
      "\n",
      "class Snapshot(SerializableCSV):\n",
      "    def __init__(self):\n",
      "        self.satellite = ''\n",
      "        self.parameter = ''\n",
      "        self.year = ''\n",
      "        self.day = ''\n",
      "        self.path = ''\n",
      "        self.postfix = ''\n",
      "        self.number = ''\n",
      "        self.time_to_display = ''\n",
      "        self.center = []\n",
      "        self.min = []\n",
      "        self.max = []\n",
      "        self.bound_points = []\n",
      "        self.bounds = []\n",
      "        self.most_distant = []\n",
      "        self.size = -1\n",
      "        self.valid = -1\n",
      "        \n",
      "    @staticmethod\n",
      "    def fromJSON(jsonObjs):\n",
      "        snapshot = Snapshot()\n",
      "        for item in jsonObjs.items():\n",
      "            Snapshot.__setattr__(snapshot, item[0], item[1])\n",
      "        return snapshot\n"
     ],
     "language": "python",
     "metadata": {},
     "outputs": [],
     "prompt_number": 26
    },
    {
     "cell_type": "heading",
     "level": 3,
     "metadata": {},
     "source": [
      "Cyclone"
     ]
    },
    {
     "cell_type": "code",
     "collapsed": false,
     "input": [
      "\n",
      "class Cyclone(SerializableCSV):\n",
      "    def __init__(self):\n",
      "        self.paths = ''\n",
      "        self.pStep = -1 \n",
      "        self.hash = ''\n",
      "        self.processed_snapshots = []\n",
      "        self.postfix = ''\n",
      "        self.pBounds = []\n",
      "        self.image = ''\n",
      "        self.snapshots = []\n",
      "        self.raw = ''\n",
      "        self.latBounds = []\n",
      "        self.lonBounds = []\n",
      "        self.parameter = ''\n",
      "        \n",
      "    @staticmethod\n",
      "    def fromJSON(jsonObj):\n",
      "        cyclone = Cyclone()\n",
      "        items = jsonObj.items()\n",
      "        while items:\n",
      "            item = items.pop()\n",
      "            if item[0] == 'processed_snapshots':\n",
      "                if isinstance(item[1], dict):\n",
      "                    cyclone.processed_snapshots.append(Snapshot.fromJSON(item[1]))\n",
      "                elif isinstance(item[1], list):\n",
      "                    for d in item[1]:\n",
      "                        cyclone.processed_snapshots.append(Snapshot.fromJSON(d))\n",
      "            else:\n",
      "                Cyclone.__setattr__(cyclone, item[0], item[1])\n",
      "        return cyclone\n",
      "               "
     ],
     "language": "python",
     "metadata": {},
     "outputs": [],
     "prompt_number": 27
    },
    {
     "cell_type": "heading",
     "level": 1,
     "metadata": {},
     "source": [
      "Defines"
     ]
    },
    {
     "cell_type": "code",
     "collapsed": false,
     "input": [
      "SHOW_LOG = True\n",
      "\n",
      "logger = Logger()"
     ],
     "language": "python",
     "metadata": {},
     "outputs": [],
     "prompt_number": 28
    },
    {
     "cell_type": "heading",
     "level": 1,
     "metadata": {},
     "source": [
      "Code"
     ]
    },
    {
     "cell_type": "heading",
     "level": 2,
     "metadata": {},
     "source": [
      "JSON work"
     ]
    },
    {
     "cell_type": "heading",
     "level": 3,
     "metadata": {},
     "source": [
      "Load JSON"
     ]
    },
    {
     "cell_type": "code",
     "collapsed": false,
     "input": [
      "logger.msg('JSON loading')\n",
      "\n",
      "fileName = 'processed_cyclones.json'\n",
      "path = '/home/roma/cyclones/'\n",
      "filePath = os.path.join(path, fileName)\n",
      "logger.msg('file path: %s' % filePath)\n",
      "\n",
      "file = open(filePath)\n",
      "fileContent = file.read()\n",
      "json_data = json.loads(fileContent)\n",
      "json_loaded = not json_data is None\n",
      "logger.msg('JSON loaded:\\t%s' % json_loaded)\n",
      "\n",
      "#print json_data.get('processed_cyclones')"
     ],
     "language": "python",
     "metadata": {},
     "outputs": [
      {
       "ename": "ValueError",
       "evalue": "Extra data: line 87666 column 1 - line 175331 column 1 (char 2211956 - 4423912)",
       "output_type": "pyerr",
       "traceback": [
        "\u001b[1;31m---------------------------------------------------------------------------\u001b[0m\n\u001b[1;31mValueError\u001b[0m                                Traceback (most recent call last)",
        "\u001b[1;32m<ipython-input-29-acb0ce98cb3e>\u001b[0m in \u001b[0;36m<module>\u001b[1;34m()\u001b[0m\n\u001b[0;32m      8\u001b[0m \u001b[0mfile\u001b[0m \u001b[1;33m=\u001b[0m \u001b[0mopen\u001b[0m\u001b[1;33m(\u001b[0m\u001b[0mfilePath\u001b[0m\u001b[1;33m)\u001b[0m\u001b[1;33m\u001b[0m\u001b[0m\n\u001b[0;32m      9\u001b[0m \u001b[0mfileContent\u001b[0m \u001b[1;33m=\u001b[0m \u001b[0mfile\u001b[0m\u001b[1;33m.\u001b[0m\u001b[0mread\u001b[0m\u001b[1;33m(\u001b[0m\u001b[1;33m)\u001b[0m\u001b[1;33m\u001b[0m\u001b[0m\n\u001b[1;32m---> 10\u001b[1;33m \u001b[0mjson_data\u001b[0m \u001b[1;33m=\u001b[0m \u001b[0mjson\u001b[0m\u001b[1;33m.\u001b[0m\u001b[0mloads\u001b[0m\u001b[1;33m(\u001b[0m\u001b[0mfileContent\u001b[0m\u001b[1;33m)\u001b[0m\u001b[1;33m\u001b[0m\u001b[0m\n\u001b[0m\u001b[0;32m     11\u001b[0m \u001b[0mjson_loaded\u001b[0m \u001b[1;33m=\u001b[0m \u001b[1;32mnot\u001b[0m \u001b[0mjson_data\u001b[0m \u001b[1;32mis\u001b[0m \u001b[0mNone\u001b[0m\u001b[1;33m\u001b[0m\u001b[0m\n\u001b[0;32m     12\u001b[0m \u001b[0mlogger\u001b[0m\u001b[1;33m.\u001b[0m\u001b[0mmsg\u001b[0m\u001b[1;33m(\u001b[0m\u001b[1;34m'JSON loaded:\\t%s'\u001b[0m \u001b[1;33m%\u001b[0m \u001b[0mjson_loaded\u001b[0m\u001b[1;33m)\u001b[0m\u001b[1;33m\u001b[0m\u001b[0m\n",
        "\u001b[1;32m/usr/lib/python2.7/json/__init__.pyc\u001b[0m in \u001b[0;36mloads\u001b[1;34m(s, encoding, cls, object_hook, parse_float, parse_int, parse_constant, object_pairs_hook, **kw)\u001b[0m\n\u001b[0;32m    324\u001b[0m             \u001b[0mparse_int\u001b[0m \u001b[1;32mis\u001b[0m \u001b[0mNone\u001b[0m \u001b[1;32mand\u001b[0m \u001b[0mparse_float\u001b[0m \u001b[1;32mis\u001b[0m \u001b[0mNone\u001b[0m \u001b[1;32mand\u001b[0m\u001b[1;33m\u001b[0m\u001b[0m\n\u001b[0;32m    325\u001b[0m             parse_constant is None and object_pairs_hook is None and not kw):\n\u001b[1;32m--> 326\u001b[1;33m         \u001b[1;32mreturn\u001b[0m \u001b[0m_default_decoder\u001b[0m\u001b[1;33m.\u001b[0m\u001b[0mdecode\u001b[0m\u001b[1;33m(\u001b[0m\u001b[0ms\u001b[0m\u001b[1;33m)\u001b[0m\u001b[1;33m\u001b[0m\u001b[0m\n\u001b[0m\u001b[0;32m    327\u001b[0m     \u001b[1;32mif\u001b[0m \u001b[0mcls\u001b[0m \u001b[1;32mis\u001b[0m \u001b[0mNone\u001b[0m\u001b[1;33m:\u001b[0m\u001b[1;33m\u001b[0m\u001b[0m\n\u001b[0;32m    328\u001b[0m         \u001b[0mcls\u001b[0m \u001b[1;33m=\u001b[0m \u001b[0mJSONDecoder\u001b[0m\u001b[1;33m\u001b[0m\u001b[0m\n",
        "\u001b[1;32m/usr/lib/python2.7/json/decoder.pyc\u001b[0m in \u001b[0;36mdecode\u001b[1;34m(self, s, _w)\u001b[0m\n\u001b[0;32m    367\u001b[0m         \u001b[0mend\u001b[0m \u001b[1;33m=\u001b[0m \u001b[0m_w\u001b[0m\u001b[1;33m(\u001b[0m\u001b[0ms\u001b[0m\u001b[1;33m,\u001b[0m \u001b[0mend\u001b[0m\u001b[1;33m)\u001b[0m\u001b[1;33m.\u001b[0m\u001b[0mend\u001b[0m\u001b[1;33m(\u001b[0m\u001b[1;33m)\u001b[0m\u001b[1;33m\u001b[0m\u001b[0m\n\u001b[0;32m    368\u001b[0m         \u001b[1;32mif\u001b[0m \u001b[0mend\u001b[0m \u001b[1;33m!=\u001b[0m \u001b[0mlen\u001b[0m\u001b[1;33m(\u001b[0m\u001b[0ms\u001b[0m\u001b[1;33m)\u001b[0m\u001b[1;33m:\u001b[0m\u001b[1;33m\u001b[0m\u001b[0m\n\u001b[1;32m--> 369\u001b[1;33m             \u001b[1;32mraise\u001b[0m \u001b[0mValueError\u001b[0m\u001b[1;33m(\u001b[0m\u001b[0merrmsg\u001b[0m\u001b[1;33m(\u001b[0m\u001b[1;34m\"Extra data\"\u001b[0m\u001b[1;33m,\u001b[0m \u001b[0ms\u001b[0m\u001b[1;33m,\u001b[0m \u001b[0mend\u001b[0m\u001b[1;33m,\u001b[0m \u001b[0mlen\u001b[0m\u001b[1;33m(\u001b[0m\u001b[0ms\u001b[0m\u001b[1;33m)\u001b[0m\u001b[1;33m)\u001b[0m\u001b[1;33m)\u001b[0m\u001b[1;33m\u001b[0m\u001b[0m\n\u001b[0m\u001b[0;32m    370\u001b[0m         \u001b[1;32mreturn\u001b[0m \u001b[0mobj\u001b[0m\u001b[1;33m\u001b[0m\u001b[0m\n\u001b[0;32m    371\u001b[0m \u001b[1;33m\u001b[0m\u001b[0m\n",
        "\u001b[1;31mValueError\u001b[0m: Extra data: line 87666 column 1 - line 175331 column 1 (char 2211956 - 4423912)"
       ]
      }
     ],
     "prompt_number": 29
    },
    {
     "cell_type": "heading",
     "level": 3,
     "metadata": {},
     "source": [
      "Extract CSV for Cyclone "
     ]
    },
    {
     "cell_type": "code",
     "collapsed": false,
     "input": [
      "cyclones = []\n",
      "jsonCyclones = json_data.get('processed_cyclones')\n",
      "while jsonCyclones:\n",
      "    cyclone = Cyclone.fromJSON(jsonCyclones.pop())\n",
      "    cyclones.append(cyclone)\n",
      "\n",
      "csvCy = ''\n",
      "csvSn = ''\n",
      "csvCyclones = []\n",
      "parameters = 'parameter,hash,paths,pStep,postfix'\n",
      "for cyclone in cyclones:\n",
      "    csvObj = cyclone.getCSV(parameters, ['processed_snapshots'])\n",
      "    csvCy += csvObj['csv'] + '\\n'\n",
      "    csvSn += csvObj['inner'] + '\\n'\n",
      "    csvCyclones.append({ 'cyclone': csvObj['csv'], 'snapshots': csvObj['inner'] })\n",
      "        \n",
      "#print csvSn#apshots\n",
      "#for csvCyclone in csvCyclones:\n",
      "    #print csvCyclone['cyclone'] + '\\n'\n",
      "    #print csvCyclone['snapshots']\n",
      "    #break\n",
      "\n",
      "cyclonesFileName = 'processed_cyclones.csv'\n",
      "cyclonesfilePath = os.path.join(path, cyclonesFileName)\n",
      "snapshotsFileName = 'snapshots.csv'\n",
      "snapshotsfilePath = os.path.join(path, snapshotsFileName)\n",
      "\n",
      "f = open(cyclonesfilePath, \"w\")\n",
      "f.write(csvCy)\n",
      "f.close()\n",
      "\n",
      "f = open(snapshotsfilePath, \"w\")\n",
      "f.write(csvSn)\n",
      "f.close()"
     ],
     "language": "python",
     "metadata": {},
     "outputs": []
    },
    {
     "cell_type": "heading",
     "level": 3,
     "metadata": {},
     "source": [
      "Check output file"
     ]
    },
    {
     "cell_type": "code",
     "collapsed": false,
     "input": [
      "f = open(cyclonesfilePath, \"r\")\n",
      "print f.readline(), f.readline()\n",
      "f.close()"
     ],
     "language": "python",
     "metadata": {},
     "outputs": []
    },
    {
     "cell_type": "heading",
     "level": 1,
     "metadata": {},
     "source": [
      "Show log"
     ]
    },
    {
     "cell_type": "code",
     "collapsed": false,
     "input": [
      "if SHOW_LOG:\n",
      "    logger.show_log()"
     ],
     "language": "python",
     "metadata": {},
     "outputs": []
    },
    {
     "cell_type": "code",
     "collapsed": false,
     "input": [
      "ls /home/roma/cyclones/"
     ],
     "language": "python",
     "metadata": {},
     "outputs": []
    },
    {
     "cell_type": "code",
     "collapsed": false,
     "input": [
      "name = unicode('name')\n",
      "format = '%s'\n",
      "str.format(format % str(name))"
     ],
     "language": "python",
     "metadata": {},
     "outputs": [
      {
       "output_type": "pyout",
       "prompt_number": 57,
       "text": [
        "'name'"
       ]
      }
     ],
     "prompt_number": 57
    },
    {
     "cell_type": "code",
     "collapsed": false,
     "input": [],
     "language": "python",
     "metadata": {},
     "outputs": []
    }
   ],
   "metadata": {}
  }
 ]
}