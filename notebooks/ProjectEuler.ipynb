{
 "metadata": {
  "name": "ProjectEuler"
 },
 "nbformat": 3,
 "nbformat_minor": 0,
 "worksheets": [
  {
   "cells": [
    {
     "cell_type": "heading",
     "level": 1,
     "metadata": {},
     "source": [
      "Problem 1"
     ]
    },
    {
     "cell_type": "code",
     "collapsed": false,
     "input": [
      "from datetime import datetime\n",
      "\n",
      "limit = 1000\n",
      "sumOfMultiples = 0\n",
      "multiplesFor = [3, 5]\n",
      "\n",
      "# Failed try to optimize first solution\n",
      "multiples = []\n",
      "for multiple in multiplesFor:\n",
      "    multiples.append({ 'initial': multiple, 'current': 0 })\n",
      "print multiples\n",
      "\n",
      "before = datetime.now()\n",
      "\n",
      "someInGame = True\n",
      "allMultiples = []\n",
      "while len(multiples) > 0:\n",
      "    for m in multiples:\n",
      "        m['current'] += m['initial']\n",
      "        if m['current'] < limit:\n",
      "            if not m['current'] in allMultiples:\n",
      "                allMultiples.append(m['current'])\n",
      "                sumOfMultiples += m['current']\n",
      "        else:\n",
      "            multiples.remove(m)\n",
      "\n",
      "after = datetime.now()\n",
      "print after - before\n",
      "print 'Result = %s' % sumOfMultiples\n",
      "##\n",
      "\n",
      "# First solution\n",
      "sumOfMultiples = 0\n",
      "i = 0\n",
      "\n",
      "before = datetime.now()\n",
      "while i < limit:\n",
      "    for m in multiplesFor:\n",
      "        if (i % m == 0 ):\n",
      "            sumOfMultiples += i\n",
      "            break\n",
      "    i += 1\n",
      "\n",
      "after = datetime.now()\n",
      "print after - before\n",
      "##\n",
      "\n",
      "# Someone's great solution\n",
      "print 'Result = %s' % sumOfMultiples\n",
      "before = datetime.now()\n",
      "sumOfMultiples = sum([i for i in range(1, limit) for m in multiplesFor if i%m==0])\n",
      "after = datetime.now()\n",
      "print after - before\n",
      "print 'Result = %s' % sumOfMultiples"
     ],
     "language": "python",
     "metadata": {},
     "outputs": [
      {
       "output_type": "stream",
       "stream": "stdout",
       "text": [
        "[{'current': 0, 'initial': 3}, {'current': 0, 'initial': 5}]\n",
        "0:00:00.002399\n",
        "Result = 233168\n",
        "0:00:00.000728\n",
        "Result = 233168\n",
        "0:00:00.000787\n",
        "Result = 266333\n"
       ]
      }
     ],
     "prompt_number": 4
    },
    {
     "cell_type": "code",
     "collapsed": false,
     "input": [
      "sum = 0\n",
      "current = 1\n",
      "fibonacciState = { 'current': 1, 'previous': 0 }\n",
      "while fibonacciState['current'] < 4000000:\n",
      "    if fibonacciState['current'] % 2 == 0:\n",
      "        sum += fibonacciState['current']\n",
      "    # Next fibonacci step\n",
      "    buffer_for_previous = fibonacciState['previous']\n",
      "    fibonacciState['previous'] = fibonacciState['current']\n",
      "    fibonacciState['current'] = fibonacciState['current'] + buffer_for_previous\n",
      "sum"
     ],
     "language": "python",
     "metadata": {},
     "outputs": [
      {
       "output_type": "pyout",
       "prompt_number": 7,
       "text": [
        "4613732"
       ]
      }
     ],
     "prompt_number": 7
    },
    {
     "cell_type": "heading",
     "level": 1,
     "metadata": {},
     "source": [
      "Problem 3"
     ]
    },
    {
     "cell_type": "code",
     "collapsed": false,
     "input": [
      "primes = [29, 37, 53]\n",
      "non_primes = [29, 42, 81]\n",
      "\n",
      "def is_prime(number):\n",
      "    number = abs(number)\n",
      "    \n",
      "    # Hardcode tests\n",
      "    if number < 3:\n",
      "        return True\n",
      "    if number == 5:\n",
      "        return True\n",
      "    if number % 2 == 0:\n",
      "        return False\n",
      "    if number % 5 == 0:\n",
      "        return False\n",
      "    ##\n",
      "    \n",
      "    1,  2, 3,  5,  7,\n",
      "    11,    13,    17,   19,\n",
      "           23,          29,\n",
      "    31,           37,\n",
      "    41,    43,    47,\n",
      "           53,          59,\n",
      "    61,           67,\n",
      "    71,    73,          79,\n",
      "           83,          89,\n",
      "    91,\n",
      "    101,   103"
     ],
     "language": "python",
     "metadata": {},
     "outputs": []
    },
    {
     "cell_type": "code",
     "collapsed": false,
     "input": [],
     "language": "python",
     "metadata": {},
     "outputs": [
      {
       "ename": "KeyError",
       "evalue": "'p'",
       "output_type": "pyerr",
       "traceback": [
        "\u001b[1;31m---------------------------------------------------------------------------\u001b[0m\n\u001b[1;31mKeyError\u001b[0m                                  Traceback (most recent call last)",
        "\u001b[1;32m<ipython-input-8-bc8ff3bf4d10>\u001b[0m in \u001b[0;36m<module>\u001b[1;34m()\u001b[0m\n\u001b[0;32m      1\u001b[0m \u001b[0md\u001b[0m \u001b[1;33m=\u001b[0m \u001b[1;33m{\u001b[0m\u001b[1;33m}\u001b[0m\u001b[1;33m\u001b[0m\u001b[0m\n\u001b[1;32m----> 2\u001b[1;33m \u001b[0ma\u001b[0m \u001b[1;33m=\u001b[0m \u001b[0md\u001b[0m\u001b[1;33m[\u001b[0m\u001b[1;34m'p'\u001b[0m\u001b[1;33m]\u001b[0m\u001b[1;33m\u001b[0m\u001b[0m\n\u001b[0m\u001b[0;32m      3\u001b[0m \u001b[0ma\u001b[0m\u001b[1;33m\u001b[0m\u001b[0m\n",
        "\u001b[1;31mKeyError\u001b[0m: 'p'"
       ]
      }
     ],
     "prompt_number": 8
    },
    {
     "cell_type": "code",
     "collapsed": false,
     "input": [],
     "language": "python",
     "metadata": {},
     "outputs": []
    }
   ],
   "metadata": {}
  }
 ]
}