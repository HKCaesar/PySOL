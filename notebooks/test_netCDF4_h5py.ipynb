{
 "metadata": {
  "name": "",
  "signature": "sha256:d290fa5368d7ad9a859d2160817641c0ce8d9318be0f25e53ababe471c320a5a"
 },
 "nbformat": 3,
 "nbformat_minor": 0,
 "worksheets": [
  {
   "cells": [
    {
     "cell_type": "code",
     "collapsed": false,
     "input": [
      "from netCDF4 import Dataset\n",
      "import os"
     ],
     "language": "python",
     "metadata": {},
     "outputs": [],
     "prompt_number": 2
    },
    {
     "cell_type": "code",
     "collapsed": false,
     "input": [
      "rootgrp = Dataset('/media/SOLabNFS2/store/satellite/jpl_ourocean-l4uhfnd_glob_g1sst/G1SST/2010/160/20100609-JPL_OUROCEAN-L4UHfnd-GLOB-v01-fv01_0-G1SST.nc', mode='r', format='NETCDF4')\n"
     ],
     "language": "python",
     "metadata": {},
     "outputs": [],
     "prompt_number": 3
    },
    {
     "cell_type": "code",
     "collapsed": false,
     "input": [
      "rootgrp.variables"
     ],
     "language": "python",
     "metadata": {},
     "outputs": [
      {
       "metadata": {},
       "output_type": "pyout",
       "prompt_number": 4,
       "text": [
        "OrderedDict([(u'time', <netCDF4.Variable object at 0x2fab830>), (u'lon', <netCDF4.Variable object at 0x2fab8c0>), (u'lat', <netCDF4.Variable object at 0x2fab950>), (u'analysed_sst', <netCDF4.Variable object at 0x2fab9e0>), (u'mask', <netCDF4.Variable object at 0x2faba70>), (u'analysis_error', <netCDF4.Variable object at 0x2fabb00>)])"
       ]
      }
     ],
     "prompt_number": 4
    },
    {
     "cell_type": "code",
     "collapsed": false,
     "input": [
      "# read the data in variable named 'data'.\n",
      "lat = rootgrp.variables['lat']\n",
      "sst = rootgrp.variables['analysed_sst']\n",
      "\n",
      "sst.shape"
     ],
     "language": "python",
     "metadata": {},
     "outputs": [
      {
       "metadata": {},
       "output_type": "pyout",
       "prompt_number": 5,
       "text": [
        "(1, 16000, 36000)"
       ]
      }
     ],
     "prompt_number": 5
    },
    {
     "cell_type": "code",
     "collapsed": false,
     "input": [
      "squeeze(sst)"
     ],
     "language": "python",
     "metadata": {},
     "outputs": []
    },
    {
     "cell_type": "code",
     "collapsed": false,
     "input": [
      "print lat"
     ],
     "language": "python",
     "metadata": {},
     "outputs": []
    },
    {
     "cell_type": "code",
     "collapsed": false,
     "input": [
      "print lat"
     ],
     "language": "python",
     "metadata": {},
     "outputs": []
    },
    {
     "cell_type": "code",
     "collapsed": false,
     "input": [],
     "language": "python",
     "metadata": {},
     "outputs": [
      {
       "ename": "NameError",
       "evalue": "name 'lon' is not defined",
       "output_type": "pyerr",
       "traceback": [
        "\u001b[1;31m---------------------------------------------------------------------------\u001b[0m\n\u001b[1;31mNameError\u001b[0m                                 Traceback (most recent call last)",
        "\u001b[1;32m<ipython-input-21-c50a05302ec7>\u001b[0m in \u001b[0;36m<module>\u001b[1;34m()\u001b[0m\n\u001b[1;32m----> 1\u001b[1;33m \u001b[0mplot\u001b[0m\u001b[1;33m(\u001b[0m\u001b[0mlon\u001b[0m\u001b[1;33m)\u001b[0m\u001b[1;33m\u001b[0m\u001b[0m\n\u001b[0m",
        "\u001b[1;31mNameError\u001b[0m: name 'lon' is not defined"
       ]
      }
     ],
     "prompt_number": 21
    },
    {
     "cell_type": "code",
     "collapsed": false,
     "input": [
      "ls -la /media/SOLabNFS/store/satellite/ssmi/f08/bmaps_v07/y1988/m02/"
     ],
     "language": "python",
     "metadata": {},
     "outputs": []
    },
    {
     "cell_type": "code",
     "collapsed": false,
     "input": [
      "import gzip\n",
      "f = gzip.open('/media/SOLabNFS/store/satellite/ssmi/f08/bmaps_v07/y1988/m02/f08_19880201v7.gz', 'rb')\n",
      "f.close()"
     ],
     "language": "python",
     "metadata": {},
     "outputs": [],
     "prompt_number": 5
    },
    {
     "cell_type": "code",
     "collapsed": false,
     "input": [],
     "language": "python",
     "metadata": {},
     "outputs": [
      {
       "metadata": {},
       "output_type": "pyout",
       "prompt_number": 4,
       "text": [
        "1"
       ]
      }
     ],
     "prompt_number": 4
    },
    {
     "cell_type": "code",
     "collapsed": false,
     "input": [],
     "language": "python",
     "metadata": {},
     "outputs": [],
     "prompt_number": 3
    },
    {
     "cell_type": "code",
     "collapsed": false,
     "input": [
      "import h5py"
     ],
     "language": "python",
     "metadata": {},
     "outputs": [],
     "prompt_number": 4
    },
    {
     "cell_type": "code",
     "collapsed": false,
     "input": [
      "f1 = h5py.File('/home/mag/Documents/repos/solab/PySOL/drafts/myfile.hdf5', 'w')"
     ],
     "language": "python",
     "metadata": {},
     "outputs": [],
     "prompt_number": 5
    },
    {
     "cell_type": "code",
     "collapsed": false,
     "input": [
      "my_dtype = dtype([('name', 'S16')])"
     ],
     "language": "python",
     "metadata": {},
     "outputs": [],
     "prompt_number": 6
    },
    {
     "cell_type": "code",
     "collapsed": true,
     "input": [
      "ds = f1.create_dataset('file_names', (10,), dtype=my_dtype)"
     ],
     "language": "python",
     "metadata": {},
     "outputs": [],
     "prompt_number": 7
    },
    {
     "cell_type": "code",
     "collapsed": false,
     "input": [
      "ds[:]"
     ],
     "language": "python",
     "metadata": {},
     "outputs": [
      {
       "metadata": {},
       "output_type": "pyout",
       "prompt_number": 8,
       "text": [
        "array([('',), ('',), ('',), ('',), ('',), ('',), ('',), ('',), ('',), ('',)], \n",
        "      dtype=[('name', 'S16')])"
       ]
      }
     ],
     "prompt_number": 8
    },
    {
     "cell_type": "code",
     "collapsed": false,
     "input": [
      "ds[0] = 'HELLO!!!'\n",
      "ds[1] = 'Howdy!!!'"
     ],
     "language": "python",
     "metadata": {},
     "outputs": [],
     "prompt_number": 9
    },
    {
     "cell_type": "code",
     "collapsed": false,
     "input": [
      "ds[:]"
     ],
     "language": "python",
     "metadata": {},
     "outputs": [
      {
       "metadata": {},
       "output_type": "pyout",
       "prompt_number": 10,
       "text": [
        "array([('HELLO!!!',), ('Howdy!!!',), ('',), ('',), ('',), ('',), ('',),\n",
        "       ('',), ('',), ('',)], \n",
        "      dtype=[('name', 'S16')])"
       ]
      }
     ],
     "prompt_number": 10
    },
    {
     "cell_type": "code",
     "collapsed": false,
     "input": [
      "f1.close()"
     ],
     "language": "python",
     "metadata": {},
     "outputs": [],
     "prompt_number": 11
    },
    {
     "cell_type": "code",
     "collapsed": false,
     "input": [
      "f1 = h5py.File('/home/mag/Documents/repos/solab/PySOL/drafts/myfile.hdf5', 'a')"
     ],
     "language": "python",
     "metadata": {},
     "outputs": [],
     "prompt_number": 12
    },
    {
     "cell_type": "code",
     "collapsed": false,
     "input": [
      "ds = f1['file_names']"
     ],
     "language": "python",
     "metadata": {},
     "outputs": [],
     "prompt_number": 13
    },
    {
     "cell_type": "code",
     "collapsed": false,
     "input": [
      "ds[:]"
     ],
     "language": "python",
     "metadata": {},
     "outputs": [
      {
       "metadata": {},
       "output_type": "pyout",
       "prompt_number": 14,
       "text": [
        "array([('HELLO!!!',), ('Howdy!!!',), ('',), ('',), ('',), ('',), ('',),\n",
        "       ('',), ('',), ('',)], \n",
        "      dtype=[('name', 'S16')])"
       ]
      }
     ],
     "prompt_number": 14
    },
    {
     "cell_type": "code",
     "collapsed": false,
     "input": [
      "ds[9] = 'END!!!'"
     ],
     "language": "python",
     "metadata": {},
     "outputs": [],
     "prompt_number": 15
    },
    {
     "cell_type": "code",
     "collapsed": false,
     "input": [
      "f1.close()"
     ],
     "language": "python",
     "metadata": {},
     "outputs": [],
     "prompt_number": 16
    },
    {
     "cell_type": "code",
     "collapsed": false,
     "input": [
      "f1 = h5py.File('/home/mag/Documents/repos/solab/PySOL/drafts/myfile.hdf5', 'a')\n",
      "ds = f1['file_names']\n",
      "print ds[:]\n",
      "f1.close()"
     ],
     "language": "python",
     "metadata": {},
     "outputs": [
      {
       "output_type": "stream",
       "stream": "stdout",
       "text": [
        "[('HELLO!!!',) ('Howdy!!!',) ('',) ('',) ('',) ('',) ('',) ('',) ('',)\n",
        " ('END!!!',)]\n"
       ]
      }
     ],
     "prompt_number": 17
    },
    {
     "cell_type": "heading",
     "level": 3,
     "metadata": {},
     "source": [
      "Using Chunks"
     ]
    },
    {
     "cell_type": "raw",
     "metadata": {},
     "source": [
      "Extendible datasets must be chunked."
     ]
    },
    {
     "cell_type": "code",
     "collapsed": false,
     "input": [
      "f1 = h5py.File('/home/mag/Documents/repos/solab/PySOL/drafts/myfile.hdf5', 'a')\n",
      "ds = f1['file_names']\n",
      "ds.chunks == None"
     ],
     "language": "python",
     "metadata": {},
     "outputs": [
      {
       "metadata": {},
       "output_type": "pyout",
       "prompt_number": 18,
       "text": [
        "True"
       ]
      }
     ],
     "prompt_number": 18
    },
    {
     "cell_type": "code",
     "collapsed": false,
     "input": [
      "ds.resize((20,))"
     ],
     "language": "python",
     "metadata": {},
     "outputs": [
      {
       "ename": "TypeError",
       "evalue": "Only chunked datasets can be resized",
       "output_type": "pyerr",
       "traceback": [
        "\u001b[1;31m---------------------------------------------------------------------------\u001b[0m\n\u001b[1;31mTypeError\u001b[0m                                 Traceback (most recent call last)",
        "\u001b[1;32m<ipython-input-19-fc7f6a5b0196>\u001b[0m in \u001b[0;36m<module>\u001b[1;34m()\u001b[0m\n\u001b[1;32m----> 1\u001b[1;33m \u001b[0mds\u001b[0m\u001b[1;33m.\u001b[0m\u001b[0mresize\u001b[0m\u001b[1;33m(\u001b[0m\u001b[1;33m(\u001b[0m\u001b[1;36m20\u001b[0m\u001b[1;33m,\u001b[0m\u001b[1;33m)\u001b[0m\u001b[1;33m)\u001b[0m\u001b[1;33m\u001b[0m\u001b[0m\n\u001b[0m",
        "\u001b[1;32m/usr/lib/python2.7/dist-packages/h5py/_hl/dataset.pyc\u001b[0m in \u001b[0;36mresize\u001b[1;34m(self, size, axis)\u001b[0m\n\u001b[0;32m    207\u001b[0m         \"\"\"\n\u001b[0;32m    208\u001b[0m         \u001b[1;32mif\u001b[0m \u001b[0mself\u001b[0m\u001b[1;33m.\u001b[0m\u001b[0mchunks\u001b[0m \u001b[1;32mis\u001b[0m \u001b[0mNone\u001b[0m\u001b[1;33m:\u001b[0m\u001b[1;33m\u001b[0m\u001b[0m\n\u001b[1;32m--> 209\u001b[1;33m             \u001b[1;32mraise\u001b[0m \u001b[0mTypeError\u001b[0m\u001b[1;33m(\u001b[0m\u001b[1;34m\"Only chunked datasets can be resized\"\u001b[0m\u001b[1;33m)\u001b[0m\u001b[1;33m\u001b[0m\u001b[0m\n\u001b[0m\u001b[0;32m    210\u001b[0m \u001b[1;33m\u001b[0m\u001b[0m\n\u001b[0;32m    211\u001b[0m         \u001b[1;32mif\u001b[0m \u001b[0maxis\u001b[0m \u001b[1;32mis\u001b[0m \u001b[1;32mnot\u001b[0m \u001b[0mNone\u001b[0m\u001b[1;33m:\u001b[0m\u001b[1;33m\u001b[0m\u001b[0m\n",
        "\u001b[1;31mTypeError\u001b[0m: Only chunked datasets can be resized"
       ]
      }
     ],
     "prompt_number": 19
    },
    {
     "cell_type": "raw",
     "metadata": {},
     "source": [
      "Data for any array can be stored in chunked format.\n",
      "When compression is used, chunking is automatically activated.\n",
      "You can have h5py guess a chunk layout for you"
     ]
    },
    {
     "cell_type": "code",
     "collapsed": false,
     "input": [
      "f1.close()"
     ],
     "language": "python",
     "metadata": {},
     "outputs": [],
     "prompt_number": 20
    },
    {
     "cell_type": "code",
     "collapsed": false,
     "input": [
      "f1 = h5py.File('/home/mag/Documents/repos/solab/PySOL/drafts/myfile.hdf5', 'w')\n",
      "my_dtype = dtype([('name', 'S16')])\n",
      "ds = f1.create_dataset('file_names', (10,), dtype=my_dtype, chunks=True, compression='gzip', compression_opts=4)\n",
      "ds[0] = 'HELLO!!!'\n",
      "ds[1] = 'Howdy!!!'\n",
      "ds[9] = 'END!!!'\n",
      "f1.close()"
     ],
     "language": "python",
     "metadata": {},
     "outputs": [],
     "prompt_number": 21
    },
    {
     "cell_type": "code",
     "collapsed": false,
     "input": [
      "f1 = h5py.File('/home/mag/Documents/repos/solab/PySOL/drafts/myfile.hdf5', 'a')\n",
      "ds = f1['file_names']\n",
      "print ds[:]"
     ],
     "language": "python",
     "metadata": {},
     "outputs": [
      {
       "output_type": "stream",
       "stream": "stdout",
       "text": [
        "[('HELLO!!!',) ('Howdy!!!',) ('',) ('',) ('',) ('',) ('',) ('',) ('',)\n",
        " ('END!!!',)]\n"
       ]
      }
     ],
     "prompt_number": 22
    },
    {
     "cell_type": "code",
     "collapsed": false,
     "input": [
      "ds.resize((200,))\n",
      "ds[199] = 'NEW END!!!'"
     ],
     "language": "python",
     "metadata": {},
     "outputs": [],
     "prompt_number": 23
    },
    {
     "cell_type": "code",
     "collapsed": false,
     "input": [
      "print ds[:]\n",
      "f1.close()"
     ],
     "language": "python",
     "metadata": {},
     "outputs": [
      {
       "output_type": "stream",
       "stream": "stdout",
       "text": [
        "[('HELLO!!!',) ('Howdy!!!',) ('',) ('',) ('',) ('',) ('',) ('',) ('',)\n",
        " ('END!!!',) ('',) ('',) ('',) ('',) ('',) ('',) ('',) ('',) ('',) ('',)\n",
        " ('',) ('',) ('',) ('',) ('',) ('',) ('',) ('',) ('',) ('',) ('',) ('',)\n",
        " ('',) ('',) ('',) ('',) ('',) ('',) ('',) ('',) ('',) ('',) ('',) ('',)\n",
        " ('',) ('',) ('',) ('',) ('',) ('',) ('',) ('',) ('',) ('',) ('',) ('',)\n",
        " ('',) ('',) ('',) ('',) ('',) ('',) ('',) ('',) ('',) ('',) ('',) ('',)\n",
        " ('',) ('',) ('',) ('',) ('',) ('',) ('',) ('',) ('',) ('',) ('',) ('',)\n",
        " ('',) ('',) ('',) ('',) ('',) ('',) ('',) ('',) ('',) ('',) ('',) ('',)\n",
        " ('',) ('',) ('',) ('',) ('',) ('',) ('',) ('',) ('',) ('',) ('',) ('',)\n",
        " ('',) ('',) ('',) ('',) ('',) ('',) ('',) ('',) ('',) ('',) ('',) ('',)\n",
        " ('',) ('',) ('',) ('',) ('',) ('',) ('',) ('',) ('',) ('',) ('',) ('',)\n",
        " ('',) ('',) ('',) ('',) ('',) ('',) ('',) ('',) ('',) ('',) ('',) ('',)\n",
        " ('',) ('',) ('',) ('',) ('',) ('',) ('',) ('',) ('',) ('',) ('',) ('',)\n",
        " ('',) ('',) ('',) ('',) ('',) ('',) ('',) ('',) ('',) ('',) ('',) ('',)\n",
        " ('',) ('',) ('',) ('',) ('',) ('',) ('',) ('',) ('',) ('',) ('',) ('',)\n",
        " ('',) ('',) ('',) ('',) ('',) ('',) ('',) ('',) ('',) ('',) ('',) ('',)\n",
        " ('',) ('',) ('',) ('',) ('',) ('',) ('',) ('',) ('',) ('',) ('',)\n",
        " ('NEW END!!!',)]\n"
       ]
      }
     ],
     "prompt_number": 24
    }
   ],
   "metadata": {}
  }
 ]
}