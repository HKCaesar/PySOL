{
 "metadata": {
  "name": "cross_cor"
 },
 "nbformat": 3,
 "nbformat_minor": 0,
 "worksheets": [
  {
   "cells": [
    {
     "cell_type": "code",
     "collapsed": false,
     "input": [
      "import datetime\n",
      "\n",
      "__author__   = 'Alexander Myasoedov'\n",
      "__email__    = 'mag@rshu.ru'\n",
      "__created__  = datetime.datetime(2013, 3, 23)\n",
      "__modified__ = datetime.datetime(2013, 3, 24)\n",
      "__version__  = \"1.0\"\n",
      "__status__   = \"Development\""
     ],
     "language": "python",
     "metadata": {},
     "outputs": [],
     "prompt_number": 1
    },
    {
     "cell_type": "code",
     "collapsed": true,
     "input": [
      "#from scipy.io import loadmat\n",
      "from scipy.io import savemat\n",
      "\n",
      "import openpiv.tools\n",
      "import openpiv.process\n",
      "import openpiv.scaling\n",
      "import openpiv.filters\n",
      "\n",
      "from skimage import filter\n",
      "\n",
      "from nansat import Nansat, Domain, Nansatmap\n",
      "\n",
      "import distancelib\n",
      "\n",
      "from numpy import array, int32, gradient\n",
      "import matplotlib.pyplot as plt\n"
     ],
     "language": "python",
     "metadata": {},
     "outputs": [],
     "prompt_number": 2
    },
    {
     "cell_type": "code",
     "collapsed": false,
     "input": [
      "iPath = '/media/data/data/gulfstream/Gulfstream_20100401_synergy/'\n",
      "fileName1 = 'MOD021KM.A2010091.1630.005.2010092163141.hdf'\n",
      "fileName2 = 'MYD021KM.A2010091.1805.005.2010093021925.hdf'\n",
      "lonlim = array((-83, -77)); latlim = array((27, 33));"
     ],
     "language": "python",
     "metadata": {},
     "outputs": [],
     "prompt_number": 3
    },
    {
     "cell_type": "code",
     "collapsed": false,
     "input": [
      "def sstLap(n):\n",
      "    \"\"\"\n",
      "    Find Laplacian of the 11micron 33rd MODIS channel from the Nansat object\n",
      "    \"\"\"\n",
      "    Gr1, Gr2 = gradient(n[33].astype('float64'))\n",
      "    Gr11, Gr12 = gradient(Gr1)\n",
      "    Gr21, Gr22 = gradient(Gr2)\n",
      "    laplacian = Gr11+Gr22\n",
      "    minval = laplacian.min()\n",
      "    maxval = laplacian.max()\n",
      "    laplacian -= minval\n",
      "    laplacian *= (1.0/(maxval-minval))\n",
      "    return laplacian"
     ],
     "language": "python",
     "metadata": {},
     "outputs": [],
     "prompt_number": 4
    },
    {
     "cell_type": "code",
     "collapsed": false,
     "input": [
      "def reproject(n,lonlim=None,latlim=None):\n",
      "    \"\"\"\n",
      "    # Reprojected image into Lat/Lon WGS84 (Simple Cylindrical) projection\n",
      "    # 1. Cancel previous reprojection\n",
      "    # 2. Get corners of the image and the pixel resolution\n",
      "    # 3. Create Domain with projection, corner coordinates and resolution 1000m\n",
      "    # 4. Reproject\n",
      "    # 5. Write image\n",
      "    \"\"\"\n",
      "\n",
      "    n.reproject() # 1.\n",
      "    if lonlim is None or latlim is None:\n",
      "        lons, lats = n.get_corners() # 2.\n",
      "    #pxlRes = distancelib.getPixelResolution(array(lats), array(lons), n.shape(), units=\"deg\")\n",
      "    pxlRes = array((double(1*360)/40000,double(1*360)/40000)) # about 1km resolution\n",
      "    srsString = \"+proj=latlong +datum=WGS84 +ellps=WGS84 +no_defs\"\n",
      "    extentString = '-lle %f %f %f %f -tr %f %f' % (min(lonlim), min(latlim), \\\n",
      "                    max(lonlim), max(latlim), pxlRes[1], pxlRes[0])\n",
      "    #d = Domain(lon=lon,lat=lat, ds = n.vrt.dataset)\n",
      "    #d = Domain(srs=srsString, ext=extentString) # 3.\n",
      "    d = Domain(srs=srsString, ds = n.vrt.dataset)\n",
      "    # Use for faster and correct reprojection especially in Polar regions. Needs GCPs!!! and doesn't use epsg Numbering\n",
      "    n.reproject_GCPs(srsString)\n",
      "    n.reproject(d, tps=True) # 4.\n",
      "    #n.reproject(d)\n",
      "    return n"
     ],
     "language": "python",
     "metadata": {},
     "outputs": [],
     "prompt_number": 15
    },
    {
     "cell_type": "code",
     "collapsed": false,
     "input": [
      "def cross_cor(fileName1, fileName2):\n",
      "    # set the default path\n",
      "    if len(fileName1)==len('MOD02QKM.A2010091.1630.005.2010092163141.hdf'):\n",
      "        iPath = '/media/data/data/gulfstream/Gulfstream_20100401_synergy/'\n",
      "    else:\n",
      "        iPath = ''"
     ],
     "language": "python",
     "metadata": {},
     "outputs": [],
     "prompt_number": 6
    },
    {
     "cell_type": "code",
     "collapsed": false,
     "input": [
      "# create Nansat object\n",
      "n1 = Nansat(iPath + fileName1, mapperName=\"modis_l1\")\n",
      "n2 = Nansat(iPath + fileName2, mapperName=\"modis_l1\")"
     ],
     "language": "python",
     "metadata": {},
     "outputs": [],
     "prompt_number": "*"
    },
    {
     "cell_type": "code",
     "collapsed": true,
     "input": [
      "# list bands and georeference of the object\n",
      "#print n1"
     ],
     "language": "python",
     "metadata": {},
     "outputs": [],
     "prompt_number": 10
    },
    {
     "cell_type": "code",
     "collapsed": false,
     "input": [
      "# Find Laplacian of the 11micron channel\n",
      "lap1 = sstLap(n1)\n",
      "lap2 = sstLap(n2)\n"
     ],
     "language": "python",
     "metadata": {},
     "outputs": [],
     "prompt_number": "*"
    },
    {
     "cell_type": "code",
     "collapsed": false,
     "input": [
      "# Create new bands in Nansat objects to reproject them\n",
      "n1.add_band(bandID=39, array=lap1, parameters={'name': 'sst laplacian', 'about': 'Laplacian of the 11micron 33rd MODIS channel '})\n",
      "n2.add_band(bandID=39, array=lap2, parameters={'name': 'sst laplacian', 'about': 'Laplacian of the 11micron 33rd MODIS channel '})"
     ],
     "language": "python",
     "metadata": {},
     "outputs": [],
     "prompt_number": "*"
    },
    {
     "cell_type": "code",
     "collapsed": false,
     "input": [
      "# Try to Crop the area like in createMapsEtopo with \"findSubsetIndices\"\n",
      "# or\n",
      "# Try to  specify the Lat/Lon area to crop in reproject() like:\n",
      "lonlim = array((-83, -77)); latlim = array((27, 33));\n",
      "\n",
      "# Reproject both images on the same Lat/Lon WGS84 (Simple Cylindrical) projection\n",
      "n1 = reproject(n1,lonlim,latlim)\n",
      "n2 = reproject(n2,lonlim,latlim)\n",
      "\n",
      "lap1r = n1[39]\n",
      "lap2r = n2[39]"
     ],
     "language": "python",
     "metadata": {},
     "outputs": [],
     "prompt_number": "*"
    },
    {
     "cell_type": "code",
     "collapsed": false,
     "input": [
      "# get array with watermask (landmask)\n",
      "# it must be done after reprojection!\n",
      "# 1. Get Nansat object with watermask\n",
      "# 2. Get array from Nansat object. 0 - land, 1 - water\n",
      "#wm = n.watermask(mod44path='/media/magDesk/media/SOLabNFS/store/auxdata/coastline/mod44w/')\n",
      "wm = n1.watermask(mod44path='/media/data/data/auxdata/coastline/mod44w/')\n",
      "wmArray = wm[1]ml"
     ],
     "language": "python",
     "metadata": {},
     "outputs": []
    },
    {
     "cell_type": "code",
     "collapsed": false,
     "input": [
      "n1.write_figure('crossCorr1', clim='hist', bands=[39], cmapName='gray', \\\n",
      "                mask_array=wmArray, mask_lut={0: [204, 153, 25]}, ratio=0.7)\n",
      "\n",
      "n2.write_figure('crossCorr2', clim='hist', bands=[39], cmapName='gray', \\\n",
      "                mask_array=wmArray, mask_lut={0: [204, 153, 25]}, ratio=0.7)"
     ],
     "language": "python",
     "metadata": {},
     "outputs": []
    },
    {
     "cell_type": "code",
     "collapsed": false,
     "input": [
      "# Normalize the image to 0:1 before Canny filtering\n",
      "edges1 = lap1\n",
      "minval = edges1.min()\n",
      "maxval = edges1.max()\n",
      "edges1 -= minval\n",
      "edges1 *= (1.0/(maxval-minval))\n",
      "\n",
      "edges2 = lap2\n",
      "minval = edges2.min()\n",
      "maxval = edges2.max()\n",
      "edges2 -= minval\n",
      "edges2 *= (1.0/(maxval-minval))"
     ],
     "language": "python",
     "metadata": {},
     "outputs": []
    },
    {
     "cell_type": "code",
     "collapsed": true,
     "input": [
      "# Compute the Canny filter\n",
      "sigma1=1.7\n",
      "\n",
      "edges1 = filter.canny(edges1, sigma=sigma1, low_threshold=-0.02, high_threshold=0.01)\n",
      "edges2 = filter.canny(edges2, sigma=sigma1, low_threshold=-0.02, high_threshold=0.01)\n",
      "\n",
      "edges1 = edges1.astype('int16')\n",
      "edges2 = edges2.astype('int16')\n",
      "\n",
      "\n",
      "# Display results\n",
      "plt.close('all')\n",
      "\n",
      "plt.figure(figsize=(8, 3))\n",
      "\n",
      "plt.subplot(121)\n",
      "plt.imshow(edges1, cmap=plt.cm.gray)\n",
      "plt.axis('off')\n",
      "plt.title('Canny filter, $\\sigma=%s$'%sigma1, fontsize=20)\n",
      "\n",
      "plt.subplot(122)\n",
      "plt.imshow(edges2, cmap=plt.cm.gray)\n",
      "plt.axis('off')\n",
      "plt.title('Canny filter, $\\sigma=%s$'%sigma1, fontsize=20)\n",
      "\n",
      "plt.subplots_adjust(wspace=0.02, hspace=0.02, top=0.9,\n",
      "                    bottom=0.02, left=0.02, right=0.98)\n",
      "plt.show()"
     ],
     "language": "python",
     "metadata": {},
     "outputs": []
    },
    {
     "cell_type": "code",
     "collapsed": true,
     "input": [
      "# Create new bands in Nansat objects to save them\n",
      "from nansat import Nansat, Domain, Nansatmap\n",
      "\n",
      "n1.add_band(bandID=40, array=edges1, parameters={'name': 'sst laplacian edges', 'about': 'Laplacian of the 11micron 33rd MODIS channel: edges'})\n",
      "n2.add_band(bandID=40, array=edges2, parameters={'name': 'sst laplacian edges', 'about': 'Laplacian of the 11micron 33rd MODIS channel: edges'})\n",
      "\n",
      "# Reproject both images on the same Lat/Lon WGS84 (Simple Cylindrical) projection\n",
      "n1 = reproject(n1,lonlim,latlim)\n",
      "n2 = reproject(n2,lonlim,latlim)"
     ],
     "language": "python",
     "metadata": {},
     "outputs": []
    },
    {
     "cell_type": "code",
     "collapsed": false,
     "input": [
      "wm = n1.watermask(mod44path='/media/data/data/auxdata/coastline/mod44w/')\n",
      "wmArray = wm[1]\n",
      "n1.write_figure('crossCorr1edges', bands=[40], cmapName='gray', \\\n",
      "                mask_array=wmArray, mask_lut={0: [204, 153, 25]})\n",
      "n2.write_figure('crossCorr2edges', bands=[40], cmapName='gray', \\\n",
      "                mask_array=wmArray, mask_lut={0: [204, 153, 25]})"
     ],
     "language": "python",
     "metadata": {},
     "outputs": []
    },
    {
     "cell_type": "code",
     "collapsed": false,
     "input": [
      "# PIV calc\n",
      "#frame_a = int32(lap1r*(2**32-1))\n",
      "#frame_b = int32(lap2r*(2**32-1))\n",
      "\n",
      "frame_a = int32(edges1)\n",
      "frame_b = int32(edges2)\n",
      "\n",
      "u, v, sig2noise = openpiv.process.extended_search_area_piv( frame_a, frame_b, window_size=24, overlap=12, dt=5700, search_area_size=24, sig2noise_method='peak2peak' )\n",
      "x, y = openpiv.process.get_coordinates( image_size=frame_a.shape, window_size=24, overlap=12 )\n",
      "u, v, mask = openpiv.validation.sig2noise_val( u, v, sig2noise, threshold = 1.3 )\n",
      "u, v = openpiv.filters.replace_outliers( u, v, method='localmean', max_iter=10, kernel_size=2 )\n"
     ],
     "language": "python",
     "metadata": {},
     "outputs": []
    },
    {
     "cell_type": "code",
     "collapsed": false,
     "input": [
      "plt.figure(figsize=(7, 5))\n",
      "plt.imshow(edges1)\n",
      "plt.hold(True)\n",
      "plt.imshow(edges2)\n",
      "plt.gray()\n",
      "plt.quiver( x[::-1], y[::-1], u, v)\n",
      "plt.savefig('crossCorr1.tiff', facecolor='w', edgecolor='w', \\\n",
      "            dpi=300, bbox_inches=\"tight\", pad_inches=0.1)"
     ],
     "language": "python",
     "metadata": {},
     "outputs": []
    },
    {
     "cell_type": "code",
     "collapsed": false,
     "input": [],
     "language": "python",
     "metadata": {},
     "outputs": []
    },
    {
     "cell_type": "code",
     "collapsed": false,
     "input": [
      "n1.reproject()\n",
      "lonGrid, latGrid = n1.get_geolocation_grids()\n",
      "savemat('lonGrid.mat', mdict={ \\\n",
      "                'lonGrid':lonGrid, \\\n",
      "                'latGrid':latGrid, \\\n",
      "                }, do_compression=False)"
     ],
     "language": "python",
     "metadata": {},
     "outputs": []
    },
    {
     "cell_type": "code",
     "collapsed": false,
     "input": [
      "plt.figure()\n",
      "plt.imshow(lap1r, vmin=-.03, vmax=.03)\n",
      "plt.gray()\n",
      "plt.figure()\n",
      "plt.imshow(lap2r, vmin=-.03, vmax=.03)\n",
      "plt.gray()\n"
     ],
     "language": "python",
     "metadata": {},
     "outputs": []
    },
    {
     "cell_type": "code",
     "collapsed": true,
     "input": [
      "nMap = Nansatmap(n1)\n",
      "# quiver plot\n",
      "nMap.quiver(u, v, quivectors=10)\n",
      "nMap.save('crossCorr1.tiff'+'pcolormesh_quiver.png')"
     ],
     "language": "python",
     "metadata": {},
     "outputs": []
    }
   ],
   "metadata": {}
  }
 ]
}