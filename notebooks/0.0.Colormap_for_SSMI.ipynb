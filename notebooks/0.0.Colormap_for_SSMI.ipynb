{
 "metadata": {
  "name": ""
 },
 "nbformat": 3,
 "nbformat_minor": 0,
 "worksheets": [
  {
   "cells": [
    {
     "cell_type": "code",
     "collapsed": false,
     "input": [
      "from netCDF4 import Dataset\n",
      "from mpl_toolkits.basemap import Basemap\n",
      "\n",
      "from gmtColormap import gmtColormap\n",
      "\n",
      "import laplaceFilter\n",
      "from mpl_util import LevelColormap"
     ],
     "language": "python",
     "metadata": {},
     "outputs": [],
     "prompt_number": 2
    },
    {
     "cell_type": "code",
     "collapsed": false,
     "input": [
      "def findSubsetIndices(min_lat,max_lat,min_lon,max_lon,lats,lons):\n",
      "    \"\"\"Array to store the results returned from the function\"\"\"\n",
      "    res=np.zeros((4),dtype=np.float64)\n",
      "    minLon=min_lon; maxLon=max_lon\n",
      "\n",
      "    distances1 = []; distances2 = []\n",
      "    indices=[]; index=1\n",
      "\n",
      "    for point in lats:\n",
      "        s1 = max_lat-point # (vector subtract)\n",
      "        s2 = min_lat-point # (vector subtract)\n",
      "        distances1.append((np.dot(s1, s1), point, index))\n",
      "        distances2.append((np.dot(s2, s2), point, index-1))\n",
      "        index=index+1\n",
      "\n",
      "    distances1.sort()\n",
      "    distances2.sort()\n",
      "    indices.append(distances1[0])\n",
      "    indices.append(distances2[0])\n",
      "\n",
      "    distances1 = []; distances2 = []; index=1\n",
      "\n",
      "    for point in lons:\n",
      "        s1 = maxLon-point # (vector subtract)\n",
      "        s2 = minLon-point # (vector subtract)\n",
      "        distances1.append((np.dot(s1, s1), point, index))\n",
      "        distances2.append((np.dot(s2, s2), point, index-1))\n",
      "        index=index+1\n",
      "\n",
      "    distances1.sort()\n",
      "    distances2.sort()\n",
      "    indices.append(distances1[0])\n",
      "    indices.append(distances2[0])\n",
      "\n",
      "    # Save final product: max_lat_indices,min_lat_indices,max_lon_indices,min_lon_indices\n",
      "    minJ=indices[1][2]\n",
      "    maxJ=indices[0][2]\n",
      "    minI=indices[3][2]\n",
      "    maxI=indices[2][2]\n",
      "\n",
      "    res[0]=min(minI,maxI); res[1]=max(minI,maxI); res[2]=min(minJ,maxJ); res[3]=max(minJ,maxJ)\n",
      "    return res"
     ],
     "language": "python",
     "metadata": {},
     "outputs": [],
     "prompt_number": 82
    },
    {
     "cell_type": "code",
     "collapsed": false,
     "input": [
      "lonStart=1\n",
      "lonEnd=5\n",
      "latStart=37\n",
      "latEnd=47\n",
      "m=None\n",
      "name='etopo1map'"
     ],
     "language": "python",
     "metadata": {},
     "outputs": [],
     "prompt_number": 84
    },
    {
     "cell_type": "code",
     "collapsed": false,
     "input": [
      " # Get the etopo1 data\n",
      "etopo1name='/media/SOLabNFS/store/auxdata/dem/ETOPO1/data/bedrock/grid_registered/netcdf/ETOPO1_Bed_g_gmt4.grd'\n",
      "etopo1 = Dataset(etopo1name,'r')\n",
      "\n",
      "lons = etopo1.variables[\"x\"][:]\n",
      "lats = etopo1.variables[\"y\"][:]"
     ],
     "language": "python",
     "metadata": {},
     "outputs": [],
     "prompt_number": 98
    },
    {
     "cell_type": "code",
     "collapsed": false,
     "input": [
      "res = findSubsetIndices(latStart,latEnd,lonStart,lonEnd,lats,lons)\n",
      "\n",
      "lon,lat=np.meshgrid(lons[res[0]:res[1]],lats[res[2]:res[3]])\n",
      "print \"Extracted data for area %s : (%s,%s) to (%s,%s)\"%(name,lon.min(),lat.min(),lon.max(),lat.max())\n",
      "bathy = etopo1.variables[\"z\"][int(res[2]):int(res[3]),int(res[0]):int(res[1])]\n",
      "bathy = laplaceFilter.laplace_filter(bathy,M=None)\n",
      "\n",
      "if lonStart< 0 and lonEnd < 0:\n",
      "    lon_0= - (abs(lonEnd)+abs(lonStart))/2.0\n",
      "else:\n",
      "    lon_0=(abs(lonEnd)+abs(lonStart))/2.0\n",
      "\n",
      "if latStart< 0 and latEnd < 0:\n",
      "    lat_0= - (abs(latEnd)+abs(latStart))/2.0\n",
      "else:\n",
      "    lat_0=(abs(latEnd)+abs(latStart))/2.0"
     ],
     "language": "python",
     "metadata": {},
     "outputs": [
      {
       "output_type": "stream",
       "stream": "stdout",
       "text": [
        "Extracted data for area etopo1map : (-92.15,-74.85) to (123.46,88.4)\n"
       ]
      },
      {
       "ename": "KeyError",
       "evalue": "'z'",
       "output_type": "pyerr",
       "traceback": [
        "\u001b[1;31m---------------------------------------------------------------------------\u001b[0m\n\u001b[1;31mKeyError\u001b[0m                                  Traceback (most recent call last)",
        "\u001b[1;32m<ipython-input-93-8aa24a9d46e1>\u001b[0m in \u001b[0;36m<module>\u001b[1;34m()\u001b[0m\n\u001b[0;32m      3\u001b[0m \u001b[0mlon\u001b[0m\u001b[1;33m,\u001b[0m\u001b[0mlat\u001b[0m\u001b[1;33m=\u001b[0m\u001b[0mnp\u001b[0m\u001b[1;33m.\u001b[0m\u001b[0mmeshgrid\u001b[0m\u001b[1;33m(\u001b[0m\u001b[0mlons\u001b[0m\u001b[1;33m[\u001b[0m\u001b[0mres\u001b[0m\u001b[1;33m[\u001b[0m\u001b[1;36m0\u001b[0m\u001b[1;33m]\u001b[0m\u001b[1;33m:\u001b[0m\u001b[0mres\u001b[0m\u001b[1;33m[\u001b[0m\u001b[1;36m1\u001b[0m\u001b[1;33m]\u001b[0m\u001b[1;33m]\u001b[0m\u001b[1;33m,\u001b[0m\u001b[0mlats\u001b[0m\u001b[1;33m[\u001b[0m\u001b[0mres\u001b[0m\u001b[1;33m[\u001b[0m\u001b[1;36m2\u001b[0m\u001b[1;33m]\u001b[0m\u001b[1;33m:\u001b[0m\u001b[0mres\u001b[0m\u001b[1;33m[\u001b[0m\u001b[1;36m3\u001b[0m\u001b[1;33m]\u001b[0m\u001b[1;33m]\u001b[0m\u001b[1;33m)\u001b[0m\u001b[1;33m\u001b[0m\u001b[0m\n\u001b[0;32m      4\u001b[0m \u001b[1;32mprint\u001b[0m \u001b[1;34m\"Extracted data for area %s : (%s,%s) to (%s,%s)\"\u001b[0m\u001b[1;33m%\u001b[0m\u001b[1;33m(\u001b[0m\u001b[0mname\u001b[0m\u001b[1;33m,\u001b[0m\u001b[0mlon\u001b[0m\u001b[1;33m.\u001b[0m\u001b[0mmin\u001b[0m\u001b[1;33m(\u001b[0m\u001b[1;33m)\u001b[0m\u001b[1;33m,\u001b[0m\u001b[0mlat\u001b[0m\u001b[1;33m.\u001b[0m\u001b[0mmin\u001b[0m\u001b[1;33m(\u001b[0m\u001b[1;33m)\u001b[0m\u001b[1;33m,\u001b[0m\u001b[0mlon\u001b[0m\u001b[1;33m.\u001b[0m\u001b[0mmax\u001b[0m\u001b[1;33m(\u001b[0m\u001b[1;33m)\u001b[0m\u001b[1;33m,\u001b[0m\u001b[0mlat\u001b[0m\u001b[1;33m.\u001b[0m\u001b[0mmax\u001b[0m\u001b[1;33m(\u001b[0m\u001b[1;33m)\u001b[0m\u001b[1;33m)\u001b[0m\u001b[1;33m\u001b[0m\u001b[0m\n\u001b[1;32m----> 5\u001b[1;33m \u001b[0mbathy\u001b[0m \u001b[1;33m=\u001b[0m \u001b[0metopo1\u001b[0m\u001b[1;33m.\u001b[0m\u001b[0mvariables\u001b[0m\u001b[1;33m[\u001b[0m\u001b[1;34m\"z\"\u001b[0m\u001b[1;33m]\u001b[0m\u001b[1;33m[\u001b[0m\u001b[0mint\u001b[0m\u001b[1;33m(\u001b[0m\u001b[0mres\u001b[0m\u001b[1;33m[\u001b[0m\u001b[1;36m2\u001b[0m\u001b[1;33m]\u001b[0m\u001b[1;33m)\u001b[0m\u001b[1;33m:\u001b[0m\u001b[0mint\u001b[0m\u001b[1;33m(\u001b[0m\u001b[0mres\u001b[0m\u001b[1;33m[\u001b[0m\u001b[1;36m3\u001b[0m\u001b[1;33m]\u001b[0m\u001b[1;33m)\u001b[0m\u001b[1;33m,\u001b[0m\u001b[0mint\u001b[0m\u001b[1;33m(\u001b[0m\u001b[0mres\u001b[0m\u001b[1;33m[\u001b[0m\u001b[1;36m0\u001b[0m\u001b[1;33m]\u001b[0m\u001b[1;33m)\u001b[0m\u001b[1;33m:\u001b[0m\u001b[0mint\u001b[0m\u001b[1;33m(\u001b[0m\u001b[0mres\u001b[0m\u001b[1;33m[\u001b[0m\u001b[1;36m1\u001b[0m\u001b[1;33m]\u001b[0m\u001b[1;33m)\u001b[0m\u001b[1;33m]\u001b[0m\u001b[1;33m\u001b[0m\u001b[0m\n\u001b[0m\u001b[0;32m      6\u001b[0m \u001b[0mbathy\u001b[0m \u001b[1;33m=\u001b[0m \u001b[0mlaplaceFilter\u001b[0m\u001b[1;33m.\u001b[0m\u001b[0mlaplace_filter\u001b[0m\u001b[1;33m(\u001b[0m\u001b[0mbathy\u001b[0m\u001b[1;33m,\u001b[0m\u001b[0mM\u001b[0m\u001b[1;33m=\u001b[0m\u001b[0mNone\u001b[0m\u001b[1;33m)\u001b[0m\u001b[1;33m\u001b[0m\u001b[0m\n\u001b[0;32m      7\u001b[0m \u001b[1;33m\u001b[0m\u001b[0m\n",
        "\u001b[1;31mKeyError\u001b[0m: 'z'"
       ]
      }
     ],
     "prompt_number": 93
    },
    {
     "cell_type": "code",
     "collapsed": false,
     "input": [
      "lon,lat=np.meshgrid(lons,lats)"
     ],
     "language": "python",
     "metadata": {},
     "outputs": [],
     "prompt_number": 87
    },
    {
     "cell_type": "code",
     "collapsed": false,
     "input": [
      "res  = logical_and(lat>latStart, lat<latEnd)\n",
      "res = logical_and(res==True, lon>lonStart)\n",
      "res = logical_and(res==True, lon<lonEnd)"
     ],
     "language": "python",
     "metadata": {},
     "outputs": [],
     "prompt_number": 88
    },
    {
     "cell_type": "code",
     "collapsed": false,
     "input": [
      "lonStart=11\n",
      "lonEnd=149\n",
      "latStart=11\n",
      "latEnd=80\n",
      " # Get the etopo1 data\n",
      "etopo1name='http://opendap.solab.rshu.ru:8080/opendap/allData/SOLAB_AMSRE_L2_NN/2011/01/SOLAB_AMSRE_L2_NN_20110101_004243_20110101_013239_188_D_v1.nc'\n",
      "etopo1 = Dataset(etopo1name,'r')\n",
      "lon = etopo1.variables[\"longitude\"][:]\n",
      "lat = etopo1.variables[\"latitude\"][:]\n",
      "\n",
      "res  = logical_and(lat>latStart, lat<latEnd)\n",
      "res = logical_and(res==True, lon>lonStart)\n",
      "res = logical_and(res==True, lon<lonEnd)"
     ],
     "language": "python",
     "metadata": {},
     "outputs": [],
     "prompt_number": 41
    },
    {
     "cell_type": "code",
     "collapsed": false,
     "input": [
      "imshow(res)"
     ],
     "language": "python",
     "metadata": {},
     "outputs": [
      {
       "metadata": {},
       "output_type": "pyout",
       "prompt_number": 42,
       "text": [
        "<matplotlib.image.AxesImage at 0x4836d90>"
       ]
      },
      {
       "metadata": {},
       "output_type": "display_data",
       "png": "[encoded data removed]",
       "text": [
        "<matplotlib.figure.Figure at 0x461e350>"
       ]
      }
     ],
     "prompt_number": 42
    },
    {
     "cell_type": "code",
     "collapsed": false,
     "input": [
      "# res_list = res.tolist()\n",
      "# res_list\n",
      "# res_list.index('True')\n",
      "res"
     ],
     "language": "python",
     "metadata": {},
     "outputs": [
      {
       "metadata": {},
       "output_type": "pyout",
       "prompt_number": 22,
       "text": [
        "array([[False, False, False, ..., False, False, False],\n",
        "       [False, False, False, ..., False, False, False],\n",
        "       [False, False, False, ..., False, False, False],\n",
        "       ..., \n",
        "       [False, False, False, ..., False, False, False],\n",
        "       [False, False, False, ..., False, False, False],\n",
        "       [ True, False, False, ..., False, False, False]], dtype=bool)"
       ]
      }
     ],
     "prompt_number": 22
    },
    {
     "cell_type": "code",
     "collapsed": false,
     "input": [
      "(i,j) = where(res==True)\n",
      "print i.min()\n",
      "print i.max()\n",
      "print j.min()\n",
      "print j.max()"
     ],
     "language": "python",
     "metadata": {},
     "outputs": [
      {
       "output_type": "stream",
       "stream": "stdout",
       "text": [
        "0\n",
        "195\n",
        "0\n",
        "908\n"
       ]
      }
     ],
     "prompt_number": 44
    },
    {
     "cell_type": "code",
     "collapsed": false,
     "input": [
      "where(res!=False)"
     ],
     "language": "python",
     "metadata": {},
     "outputs": [
      {
       "metadata": {},
       "output_type": "pyout",
       "prompt_number": 28,
       "text": [
        "(array([  0,   0,   0,   0,   0,   0,   0,   0,   0,   0,   0,   0,   0,\n",
        "          0,   0,   1,   1,   1,   1,   1,   1,   1,   1,   1,   1,   1,\n",
        "          1,   1,   1,   1,   2,   2,   2,   2,   2,   2,   2,   2,   2,\n",
        "          2,   2,   2,   2,   2,   2,   3,   3,   3,   3,   3,   3,   3,\n",
        "          3,   3,   3,   3,   3,   3,   3,   3,   3,   4,   4,   4,   4,\n",
        "          4,   4,   4,   4,   4,   4,   4,   4,   4,   4,   4,   4,   5,\n",
        "          5,   5,   5,   5,   5,   5,   5,   5,   5,   5,   5,   5,   5,\n",
        "          5,   5,   6,   6,   6,   6,   6,   6,   6,   6,   6,   6,   6,\n",
        "          6,   6,   6,   6,   6,   7,   7,   7,   7,   7,   7,   7,   7,\n",
        "          7,   7,   7,   7,   7,   7,   7,   7,   7,   8,   8,   8,   8,\n",
        "          8,   8,   8,   8,   8,   8,   8,   8,   8,   8,   8,   8,   8,\n",
        "          9,   9,   9,   9,   9,   9,   9,   9,   9,   9,   9,   9,   9,\n",
        "          9,   9,   9,   9,   9,   9,  10,  10,  10,  10,  10,  10,  10,\n",
        "         10,  10,  10,  10,  10,  10,  10,  10,  10,  10,  10,  10,  11,\n",
        "         11,  11,  11,  11,  11,  11,  11,  11,  11,  11,  11,  11,  11,\n",
        "         11,  11,  11,  11,  11,  12,  12,  12,  12,  12,  12,  12,  12,\n",
        "         12,  12,  12,  12,  12,  12,  12,  12,  12,  12,  12,  12,  13,\n",
        "         13,  13,  13,  13,  13,  13,  13,  13,  13,  13,  13,  13,  13,\n",
        "         13,  13,  13,  13,  13,  13,  14,  14,  14,  14,  14,  14,  14,\n",
        "         14,  14,  14,  14,  14,  14,  14,  14,  14,  14,  14,  14,  14,\n",
        "         15,  15,  15,  15,  15,  15,  15,  15,  15,  15,  15,  15,  15,\n",
        "         15,  15,  15,  15,  15,  15,  15,  15,  16,  16,  16,  16,  16,\n",
        "         16,  16,  16,  16,  16,  16,  16,  16,  16,  16,  16,  16,  16,\n",
        "         16,  16,  16,  17,  17,  17,  17,  17,  17,  17,  17,  17,  17,\n",
        "         17,  17,  17,  17,  17,  17,  17,  17,  17,  17,  17,  18,  18,\n",
        "         18,  18,  18,  18,  18,  18,  18,  18,  18,  18,  18,  18,  18,\n",
        "         18,  18,  18,  18,  18,  18,  18,  19,  19,  19,  19,  19,  19,\n",
        "         19,  19,  19,  19,  19,  19,  19,  19,  19,  19,  19,  19,  19,\n",
        "         19,  19,  19,  19,  20,  20,  20,  20,  20,  20,  20,  20,  20,\n",
        "         20,  20,  20,  20,  20,  20,  20,  20,  20,  20,  20,  20,  20,\n",
        "         20,  21,  21,  21,  21,  21,  21,  21,  21,  21,  21,  21,  21,\n",
        "         21,  21,  21,  21,  21,  21,  21,  21,  21,  21,  21,  21,  22,\n",
        "         22,  22,  22,  22,  22,  22,  22,  22,  22,  22,  22,  22,  22,\n",
        "         22,  22,  22,  22,  22,  22,  22,  22,  22,  22,  23,  23,  23,\n",
        "         23,  23,  23,  23,  23,  23,  23,  23,  23,  23,  23,  23,  23,\n",
        "         23,  23,  23,  23,  23,  23,  23,  23,  24,  24,  24,  24,  24,\n",
        "         24,  24,  24,  24,  24,  24,  24,  24,  24,  24,  24,  24,  24,\n",
        "         24,  24,  24,  24,  24,  24,  24,  25,  25,  25,  25,  25,  25,\n",
        "         25,  25,  25,  25,  25,  25,  25,  25,  25,  25,  25,  25,  25,\n",
        "         25,  25,  25,  25,  25,  26,  26,  26,  26,  26,  26,  26,  26,\n",
        "         26,  26,  26,  26,  26,  26,  26,  26,  26,  26,  26,  26,  26,\n",
        "         26,  26,  26,  27,  27,  27,  27,  27,  27,  27,  27,  27,  27,\n",
        "         27,  27,  27,  27,  27,  27,  27,  27,  27,  27,  27,  27,  27,\n",
        "         28,  28,  28,  28,  28,  28,  28,  28,  28,  28,  28,  28,  28,\n",
        "         28,  28,  28,  28,  28,  28,  28,  28,  28,  29,  29,  29,  29,\n",
        "         29,  29,  29,  29,  29,  29,  29,  29,  29,  29,  29,  29,  29,\n",
        "         29,  29,  29,  29,  30,  30,  30,  30,  30,  30,  30,  30,  30,\n",
        "         30,  30,  30,  30,  30,  30,  30,  30,  30,  30,  30,  31,  31,\n",
        "         31,  31,  31,  31,  31,  31,  31,  31,  31,  31,  31,  31,  31,\n",
        "         31,  31,  31,  31,  32,  32,  32,  32,  32,  32,  32,  32,  32,\n",
        "         32,  32,  32,  32,  32,  32,  32,  32,  32,  32,  33,  33,  33,\n",
        "         33,  33,  33,  33,  33,  33,  33,  33,  33,  33,  33,  33,  33,\n",
        "         33,  33,  34,  34,  34,  34,  34,  34,  34,  34,  34,  34,  34,\n",
        "         34,  34,  34,  34,  34,  34,  35,  35,  35,  35,  35,  35,  35,\n",
        "         35,  35,  35,  35,  35,  35,  35,  35,  35,  36,  36,  36,  36,\n",
        "         36,  36,  36,  36,  36,  36,  36,  36,  36,  36,  36,  37,  37,\n",
        "         37,  37,  37,  37,  37,  37,  37,  37,  37,  37,  37,  37,  37,\n",
        "         38,  38,  38,  38,  38,  38,  38,  38,  38,  38,  38,  38,  38,\n",
        "         38,  39,  39,  39,  39,  39,  39,  39,  39,  39,  39,  39,  39,\n",
        "         39,  40,  40,  40,  40,  40,  40,  40,  40,  40,  40,  40,  40,\n",
        "         41,  41,  41,  41,  41,  41,  41,  41,  41,  41,  41,  41,  42,\n",
        "         42,  42,  42,  42,  42,  42,  42,  42,  42,  42,  43,  43,  43,\n",
        "         43,  43,  43,  43,  43,  43,  43,  44,  44,  44,  44,  44,  44,\n",
        "         44,  44,  44,  45,  45,  45,  45,  45,  45,  45,  45,  45,  46,\n",
        "         46,  46,  46,  46,  46,  46,  46,  47,  47,  47,  47,  47,  47,\n",
        "         47,  48,  48,  48,  48,  48,  48,  49,  49,  49,  49,  49,  49,\n",
        "         50,  50,  50,  50,  50,  51,  51,  51,  51,  52,  52,  52,  52,\n",
        "         53,  53,  53,  54,  54,  55,  55,  56, 195]),\n",
        " array([32, 33, 34, 35, 36, 37, 38, 39, 40, 41, 42, 43, 44, 45, 46, 31, 32,\n",
        "        33, 34, 35, 36, 37, 38, 39, 40, 41, 42, 43, 44, 45, 30, 31, 32, 33,\n",
        "        34, 35, 36, 37, 38, 39, 40, 41, 42, 43, 44, 28, 29, 30, 31, 32, 33,\n",
        "        34, 35, 36, 37, 38, 39, 40, 41, 42, 43, 27, 28, 29, 30, 31, 32, 33,\n",
        "        34, 35, 36, 37, 38, 39, 40, 41, 42, 26, 27, 28, 29, 30, 31, 32, 33,\n",
        "        34, 35, 36, 37, 38, 39, 40, 41, 25, 26, 27, 28, 29, 30, 31, 32, 33,\n",
        "        34, 35, 36, 37, 38, 39, 40, 23, 24, 25, 26, 27, 28, 29, 30, 31, 32,\n",
        "        33, 34, 35, 36, 37, 38, 39, 22, 23, 24, 25, 26, 27, 28, 29, 30, 31,\n",
        "        32, 33, 34, 35, 36, 37, 38, 20, 21, 22, 23, 24, 25, 26, 27, 28, 29,\n",
        "        30, 31, 32, 33, 34, 35, 36, 37, 38, 19, 20, 21, 22, 23, 24, 25, 26,\n",
        "        27, 28, 29, 30, 31, 32, 33, 34, 35, 36, 37, 18, 19, 20, 21, 22, 23,\n",
        "        24, 25, 26, 27, 28, 29, 30, 31, 32, 33, 34, 35, 36, 16, 17, 18, 19,\n",
        "        20, 21, 22, 23, 24, 25, 26, 27, 28, 29, 30, 31, 32, 33, 34, 35, 15,\n",
        "        16, 17, 18, 19, 20, 21, 22, 23, 24, 25, 26, 27, 28, 29, 30, 31, 32,\n",
        "        33, 34, 14, 15, 16, 17, 18, 19, 20, 21, 22, 23, 24, 25, 26, 27, 28,\n",
        "        29, 30, 31, 32, 33, 12, 13, 14, 15, 16, 17, 18, 19, 20, 21, 22, 23,\n",
        "        24, 25, 26, 27, 28, 29, 30, 31, 32, 11, 12, 13, 14, 15, 16, 17, 18,\n",
        "        19, 20, 21, 22, 23, 24, 25, 26, 27, 28, 29, 30, 31, 10, 11, 12, 13,\n",
        "        14, 15, 16, 17, 18, 19, 20, 21, 22, 23, 24, 25, 26, 27, 28, 29, 30,\n",
        "         8,  9, 10, 11, 12, 13, 14, 15, 16, 17, 18, 19, 20, 21, 22, 23, 24,\n",
        "        25, 26, 27, 28, 29,  7,  8,  9, 10, 11, 12, 13, 14, 15, 16, 17, 18,\n",
        "        19, 20, 21, 22, 23, 24, 25, 26, 27, 28, 29,  6,  7,  8,  9, 10, 11,\n",
        "        12, 13, 14, 15, 16, 17, 18, 19, 20, 21, 22, 23, 24, 25, 26, 27, 28,\n",
        "         4,  5,  6,  7,  8,  9, 10, 11, 12, 13, 14, 15, 16, 17, 18, 19, 20,\n",
        "        21, 22, 23, 24, 25, 26, 27,  3,  4,  5,  6,  7,  8,  9, 10, 11, 12,\n",
        "        13, 14, 15, 16, 17, 18, 19, 20, 21, 22, 23, 24, 25, 26,  2,  3,  4,\n",
        "         5,  6,  7,  8,  9, 10, 11, 12, 13, 14, 15, 16, 17, 18, 19, 20, 21,\n",
        "        22, 23, 24, 25,  0,  1,  2,  3,  4,  5,  6,  7,  8,  9, 10, 11, 12,\n",
        "        13, 14, 15, 16, 17, 18, 19, 20, 21, 22, 23, 24,  0,  1,  2,  3,  4,\n",
        "         5,  6,  7,  8,  9, 10, 11, 12, 13, 14, 15, 16, 17, 18, 19, 20, 21,\n",
        "        22, 23,  0,  1,  2,  3,  4,  5,  6,  7,  8,  9, 10, 11, 12, 13, 14,\n",
        "        15, 16, 17, 18, 19, 20, 21, 22, 23,  0,  1,  2,  3,  4,  5,  6,  7,\n",
        "         8,  9, 10, 11, 12, 13, 14, 15, 16, 17, 18, 19, 20, 21, 22,  0,  1,\n",
        "         2,  3,  4,  5,  6,  7,  8,  9, 10, 11, 12, 13, 14, 15, 16, 17, 18,\n",
        "        19, 20, 21,  0,  1,  2,  3,  4,  5,  6,  7,  8,  9, 10, 11, 12, 13,\n",
        "        14, 15, 16, 17, 18, 19, 20,  0,  1,  2,  3,  4,  5,  6,  7,  8,  9,\n",
        "        10, 11, 12, 13, 14, 15, 16, 17, 18, 19,  0,  1,  2,  3,  4,  5,  6,\n",
        "         7,  8,  9, 10, 11, 12, 13, 14, 15, 16, 17, 18,  0,  1,  2,  3,  4,\n",
        "         5,  6,  7,  8,  9, 10, 11, 12, 13, 14, 15, 16, 17, 18,  0,  1,  2,\n",
        "         3,  4,  5,  6,  7,  8,  9, 10, 11, 12, 13, 14, 15, 16, 17,  0,  1,\n",
        "         2,  3,  4,  5,  6,  7,  8,  9, 10, 11, 12, 13, 14, 15, 16,  0,  1,\n",
        "         2,  3,  4,  5,  6,  7,  8,  9, 10, 11, 12, 13, 14, 15,  0,  1,  2,\n",
        "         3,  4,  5,  6,  7,  8,  9, 10, 11, 12, 13, 14,  0,  1,  2,  3,  4,\n",
        "         5,  6,  7,  8,  9, 10, 11, 12, 13, 14,  0,  1,  2,  3,  4,  5,  6,\n",
        "         7,  8,  9, 10, 11, 12, 13,  0,  1,  2,  3,  4,  5,  6,  7,  8,  9,\n",
        "        10, 11, 12,  0,  1,  2,  3,  4,  5,  6,  7,  8,  9, 10, 11,  0,  1,\n",
        "         2,  3,  4,  5,  6,  7,  8,  9, 10, 11,  0,  1,  2,  3,  4,  5,  6,\n",
        "         7,  8,  9, 10,  0,  1,  2,  3,  4,  5,  6,  7,  8,  9,  0,  1,  2,\n",
        "         3,  4,  5,  6,  7,  8,  0,  1,  2,  3,  4,  5,  6,  7,  8,  0,  1,\n",
        "         2,  3,  4,  5,  6,  7,  0,  1,  2,  3,  4,  5,  6,  0,  1,  2,  3,\n",
        "         4,  5,  0,  1,  2,  3,  4,  5,  0,  1,  2,  3,  4,  0,  1,  2,  3,\n",
        "         0,  1,  2,  3,  0,  1,  2,  0,  1,  0,  1,  0,  0]))"
       ]
      }
     ],
     "prompt_number": 28
    },
    {
     "cell_type": "code",
     "collapsed": false,
     "input": [
      "r = array(arange(size(res)).reshape(shape(res)))"
     ],
     "language": "python",
     "metadata": {},
     "outputs": [],
     "prompt_number": 68
    },
    {
     "cell_type": "code",
     "collapsed": false,
     "input": [
      "r.shape"
     ],
     "language": "python",
     "metadata": {},
     "outputs": [
      {
       "metadata": {},
       "output_type": "pyout",
       "prompt_number": 69,
       "text": [
        "(10801, 21601)"
       ]
      }
     ],
     "prompt_number": 69
    },
    {
     "cell_type": "code",
     "collapsed": false,
     "input": [
      "print r[res].max()"
     ],
     "language": "python",
     "metadata": {},
     "outputs": [
      {
       "output_type": "stream",
       "stream": "stdout",
       "text": [
        "177549719\n"
       ]
      }
     ],
     "prompt_number": 78
    },
    {
     "cell_type": "code",
     "collapsed": false,
     "input": [
      "lat>latStart & lat<latEnd & lon>lonStart & lon<lonEnd"
     ],
     "language": "python",
     "metadata": {},
     "outputs": [
      {
       "ename": "TypeError",
       "evalue": "ufunc 'bitwise_and' not supported for the input types, and the inputs could not be safely coerced to any supported types according to the casting rule ''safe''",
       "output_type": "pyerr",
       "traceback": [
        "\u001b[1;31m---------------------------------------------------------------------------\u001b[0m\n\u001b[1;31mTypeError\u001b[0m                                 Traceback (most recent call last)",
        "\u001b[1;32m<ipython-input-55-93a0a7f0df6c>\u001b[0m in \u001b[0;36m<module>\u001b[1;34m()\u001b[0m\n\u001b[1;32m----> 1\u001b[1;33m \u001b[0mlat\u001b[0m\u001b[1;33m>\u001b[0m\u001b[0mlatStart\u001b[0m \u001b[1;33m&\u001b[0m \u001b[0mlat\u001b[0m\u001b[1;33m<\u001b[0m\u001b[0mlatEnd\u001b[0m \u001b[1;33m&\u001b[0m \u001b[0mlon\u001b[0m\u001b[1;33m>\u001b[0m\u001b[0mlonStart\u001b[0m \u001b[1;33m&\u001b[0m \u001b[0mlon\u001b[0m\u001b[1;33m<\u001b[0m\u001b[0mlonEnd\u001b[0m\u001b[1;33m\u001b[0m\u001b[0m\n\u001b[0m",
        "\u001b[1;31mTypeError\u001b[0m: ufunc 'bitwise_and' not supported for the input types, and the inputs could not be safely coerced to any supported types according to the casting rule ''safe''"
       ]
      }
     ],
     "prompt_number": 55
    },
    {
     "cell_type": "code",
     "collapsed": false,
     "input": [
      "print res"
     ],
     "language": "python",
     "metadata": {},
     "outputs": [
      {
       "output_type": "stream",
       "stream": "stdout",
       "text": [
        "[ 10860.  11101.   7620.   8221.]\n"
       ]
      }
     ],
     "prompt_number": 7
    },
    {
     "cell_type": "code",
     "collapsed": false,
     "input": [
      "m = Basemap(llcrnrlat=latStart,urcrnrlat=latEnd,\\\n",
      "        llcrnrlon=lonStart,urcrnrlon=lonEnd,\\\n",
      "        satellite_height=798000, \\\n",
      "        resolution='h',area_thresh=1000.,projection='nsper',\\\n",
      "        lat_1=latStart,lon_0=lon_0,lat_0=lat_0)"
     ],
     "language": "python",
     "metadata": {},
     "outputs": [],
     "prompt_number": 12
    },
    {
     "cell_type": "code",
     "collapsed": false,
     "input": [
      "x, y = m(lon,lat)"
     ],
     "language": "python",
     "metadata": {},
     "outputs": [],
     "prompt_number": 35
    },
    {
     "cell_type": "code",
     "collapsed": false,
     "input": [
      "close(\"all\")\n",
      "figure()\n",
      "cm = gmtColormap(fileName='GMT_rainbow', \\\n",
      "GMTPath='/home/mag/Documents/repos/solab/PySOL/cmap_data/')\n",
      "cs = m.contourf(x,y,bathy,cmap=cm,\n",
      "                   alpha=1.0,\n",
      "                   extend='both')\n",
      "cs.axis='tight'\n",
      "# new axis for colorbar.\n",
      "ax = plt.gca()\n",
      "l,b,w,h=ax.get_position().bounds\n",
      "# cax = plt.axes([l-0.25, b+h*0.1, 0.025, h*0.8]) # setup colorbar axes\n",
      "# cb = plt.colorbar(cs, cax, orientation='vertical')\n",
      "# cb.set_label('Height [m]')\n",
      "cax = plt.axes([l+w*0.1, b-0.05, w*0.8, 0.025]) # setup colorbar axes\n",
      "cb = plt.colorbar(cs, cax, orientation='horizontal')\n",
      "plt.axes(ax)  # make the original axes current again"
     ],
     "language": "python",
     "metadata": {},
     "outputs": [
      {
       "metadata": {},
       "output_type": "pyout",
       "prompt_number": 42,
       "text": [
        "<matplotlib.axes._subplots.AxesSubplot at 0x860d6d0>"
       ]
      },
      {
       "metadata": {},
       "output_type": "display_data",
       "png": "[encoded data removed]",
       "text": [
        "<matplotlib.figure.Figure at 0x971fd90>"
       ]
      }
     ],
     "prompt_number": 42
    },
    {
     "cell_type": "code",
     "collapsed": false,
     "input": [],
     "language": "python",
     "metadata": {},
     "outputs": []
    },
    {
     "cell_type": "code",
     "collapsed": false,
     "input": [
      "import numpy as np\n",
      "data = np.arange(40000).reshape((200,200))"
     ],
     "language": "python",
     "metadata": {},
     "outputs": [],
     "prompt_number": 95
    },
    {
     "cell_type": "code",
     "collapsed": false,
     "input": [
      "cm = gmtColormap(fileName='GMT_rainbow', \\\n",
      "                GMTPath='/home/mag/Documents/repos/solab/PySOL/cmap_data/')"
     ],
     "language": "python",
     "metadata": {},
     "outputs": [],
     "prompt_number": 99
    },
    {
     "cell_type": "code",
     "collapsed": false,
     "input": [
      "fig = plt.figure(figsize=(3,3), dpi=200)\n",
      "ax = plt.axes([0., 0., 1., 1.], frameon=False, xticks=[],yticks=[])\n",
      "ax.imshow(data, interpolation='none', cmap=cm)\n",
      "ax.set_title('Matplotlib is fun!', size=16, weight='bold')\n",
      "plt.savefig('test.png', dpi=200, transparent=True)\n"
     ],
     "language": "python",
     "metadata": {},
     "outputs": [
      {
       "metadata": {},
       "output_type": "display_data",
       "png": "[encoded data removed]",
       "text": [
        "<matplotlib.figure.Figure at 0x1103c150>"
       ]
      }
     ],
     "prompt_number": 100
    },
    {
     "cell_type": "code",
     "collapsed": false,
     "input": [
      "fig = plt.figure(figsize=(3,3), dpi=200)\n",
      "# ax = plt.axes([0., 0., 1., 1.], frameon=False, xticks=[],yticks=[])\n",
      "# ax.imshow(data, interpolation='none', cmap=cm)\n",
      "plt.imshow(data.T, interpolation='none', cmap=cm)\n",
      "plt.colorbar()\n",
      "# ax.set_title('Matplotlib is fun!', size=16, weight='bold')\n",
      "plt.savefig('test.png', dpi=200, transparent=True)\n"
     ],
     "language": "python",
     "metadata": {},
     "outputs": [
      {
       "metadata": {},
       "output_type": "display_data",
       "png": "[encoded data removed]",
       "text": [
        "<matplotlib.figure.Figure at 0x10d5b2d0>"
       ]
      }
     ],
     "prompt_number": 102
    },
    {
     "cell_type": "code",
     "collapsed": false,
     "input": [],
     "language": "python",
     "metadata": {},
     "outputs": []
    },
    {
     "cell_type": "code",
     "collapsed": false,
     "input": [],
     "language": "python",
     "metadata": {},
     "outputs": []
    },
    {
     "cell_type": "code",
     "collapsed": false,
     "input": [
      "f = open('/home/mag/Documents/repos/solab/PySOL/cmap_data/SSMI_wind_speed.txt', 'r')\n",
      "cma = []\n",
      "for line in f:\n",
      "    cma.append([float(x) for x in line.strip().split()])\n",
      "f.close()\n",
      "\n",
      "ssmi_cmap = matplotlib.colors.ListedColormap(cma, name='SSMI_colormap')\n",
      "\n",
      "fig = plt.figure(figsize=(7,7), dpi=200)\n",
      "# plt.pcolormesh(rand(30,30)*30, cmap=ssmi_cmap)\n",
      "data = arange(40000).reshape((200,200))/4000*3\n",
      "plt.imshow(data.T, interpolation='none', cmap=ssmi_cmap)\n",
      "plt.colorbar()\n",
      "plt.savefig('test.png', dpi=200, transparent=True)\n"
     ],
     "language": "python",
     "metadata": {},
     "outputs": [
      {
       "metadata": {},
       "output_type": "display_data",
       "png": "[encoded data removed]",
       "text": [
        "<matplotlib.figure.Figure at 0x41f1310>"
       ]
      }
     ],
     "prompt_number": 1
    },
    {
     "cell_type": "code",
     "collapsed": false,
     "input": [
      "# define individual colors as hex values\n",
      "colors = ['#AF00FF', '#4657FF', '#00FFFF', '#FFFF00', '#FF0000', '#FF46FF']\n",
      "ssmi_cmap = matplotlib.colors.LinearSegmentedColormap.from_list('SSMI_colormap', colors, 256)"
     ],
     "language": "python",
     "metadata": {},
     "outputs": [],
     "prompt_number": 26
    },
    {
     "cell_type": "code",
     "collapsed": false,
     "input": [],
     "language": "python",
     "metadata": {},
     "outputs": []
    }
   ],
   "metadata": {}
  }
 ]
}