{
 "cells": [
  {
   "cell_type": "code",
   "execution_count": 10,
   "metadata": {
    "collapsed": false
   },
   "outputs": [],
   "source": [
    "%matplotlib inline\n",
    "from pylab import *\n",
    "from ipywidgets import widgets\n",
    "# [widget for widget in dir(widgets) if widget.endswith('Widget')]"
   ]
  },
  {
   "cell_type": "markdown",
   "metadata": {},
   "source": [
    "### Importing"
   ]
  },
  {
   "cell_type": "code",
   "execution_count": 11,
   "metadata": {
    "collapsed": true
   },
   "outputs": [],
   "source": [
    "import os, sys"
   ]
  },
  {
   "cell_type": "code",
   "execution_count": 12,
   "metadata": {
    "collapsed": false
   },
   "outputs": [],
   "source": [
    "sys.path.append('/home/mag/Documents/repos/solab/posada/')"
   ]
  },
  {
   "cell_type": "code",
   "execution_count": 13,
   "metadata": {
    "collapsed": false
   },
   "outputs": [],
   "source": [
    "import CommonSAR\n",
    "reload(CommonSAR)\n",
    "import pySAR\n",
    "reload(pySAR)\n",
    "import pySAR"
   ]
  },
  {
   "cell_type": "markdown",
   "metadata": {},
   "source": [
    "### Default values"
   ]
  },
  {
   "cell_type": "code",
   "execution_count": 14,
   "metadata": {
    "collapsed": true
   },
   "outputs": [],
   "source": [
    "iPath = '/nfs1/store/satellite/asar/2012/036'\n",
    "fileName = 'ASA_WSM_1PNPDK20120205_093002_000000923111_00223_51961_2779.N1'\n",
    "pxlRes   = 800\n",
    "image_size_skip = 140*1e6\n",
    "area_bbox = 35\n",
    "units     = 'dB'\n",
    "oPath     = '/media/SOLabNFS/hyrax-cluster/data/public/allData/tzh/'\n",
    "# When False append to NC wind and roughness and skip appending sigma0?\n",
    "overwrite_nc = True\n",
    "asar_conf = '/home/mag/Documents/repos/solab/PySOL/notebooks/pySAR/ASAR.json'\n",
    "proj      = 'EPSG:3413'\n",
    "numProcs  = 8"
   ]
  },
  {
   "cell_type": "markdown",
   "metadata": {},
   "source": [
    "### Computaions"
   ]
  },
  {
   "cell_type": "code",
   "execution_count": 15,
   "metadata": {
    "collapsed": false
   },
   "outputs": [],
   "source": [
    "asar = pySAR.pySAR(iPath, fileName, pxlRes, image_size_skip, area_bbox, units, oPath, overwrite_nc, asar_conf, proj, numProcs)"
   ]
  },
  {
   "cell_type": "code",
   "execution_count": 16,
   "metadata": {
    "collapsed": false
   },
   "outputs": [
    {
     "name": "stdout",
     "output_type": "stream",
     "text": [
      "Calculating CMOD...\n",
      "Sigma to Wind LUT...\n",
      "CMOD elapsed time: 0.386897\n"
     ]
    }
   ],
   "source": [
    "asar.computeSARwind()"
   ]
  },
  {
   "cell_type": "code",
   "execution_count": 17,
   "metadata": {
    "collapsed": false
   },
   "outputs": [],
   "source": [
    "# asar.resampleSAR(var_name=['sigma0'])\n",
    "asar.resampleSAR(var_name=['sigma0', 'wind_speed'])"
   ]
  },
  {
   "cell_type": "code",
   "execution_count": 18,
   "metadata": {
    "collapsed": false
   },
   "outputs": [],
   "source": [
    "# asar.generateTiles(var_name=['sigma0'])\n",
    "asar.generateTiles(var_name=['sigma0', 'wind_speed'])"
   ]
  },
  {
   "cell_type": "code",
   "execution_count": null,
   "metadata": {
    "collapsed": true
   },
   "outputs": [],
   "source": []
  },
  {
   "cell_type": "code",
   "execution_count": null,
   "metadata": {
    "collapsed": false
   },
   "outputs": [],
   "source": [
    "print asar.startTime\n",
    "\n",
    "# print 'http://earth.nullschool.net/#'+startTime.strftime(\"%Y/%m/%d/\")+'%.2d' %(ncepGFSmodelWind['baseHour'])+'00Z/wind/surface/level/orthographic=-327.02,60.84,3000'\n",
    "print 'http://earth.nullschool.net/#'+asar.startTime.strftime(\"%Y/%m/%d/\")+'%.2d' %(asar.ncepGFSmodelWind['baseHour'])+'00Z/wind/surface/level/orthographic='+str(asar.lonlim[0])+','+str(asar.latlim[0])+',3000'"
   ]
  },
  {
   "cell_type": "markdown",
   "metadata": {},
   "source": [
    "### Interactive plotting"
   ]
  },
  {
   "cell_type": "code",
   "execution_count": null,
   "metadata": {
    "collapsed": true
   },
   "outputs": [],
   "source": [
    "# from IPython.html import widgets\n",
    "from ipywidgets import widgets, interact\n",
    "# [widget for widget in dir(widgets) if widget.endswith('Widget')]"
   ]
  },
  {
   "cell_type": "code",
   "execution_count": null,
   "metadata": {
    "collapsed": true
   },
   "outputs": [],
   "source": [
    "# %matplotlib inline\n",
    "def ntrctv_imshow(p = 'hh', vmi=-1., vma=1., cmap='bone', crop='[:,:]'):\n",
    "    # check if data type is dictionary and there is no wind\n",
    "    if type(data) == dict and all(k!='wind_speed' for k in data.iterkeys()):\n",
    "        plt.figure(figsize=(16,16*double(data[p].shape[0])/double(data[p].shape[1])))\n",
    "        plt.imshow(eval(\"data[p]\"+str(crop)), vmin=vmi, vmax=vma)\n",
    "    elif type(data) == dict and any(k=='wind_speed' for k in data.iterkeys()):\n",
    "        plt.figure(figsize=(16,16*double(data[p].shape[0])/double(data[p].shape[1])))\n",
    "        X,Y = meshgrid( arange(0,eval(\"data[p]\"+str(crop)).shape[1]),arange(0,eval(\"data[p]\"+str(crop)).shape[0]) )\n",
    "        U = (data['u'])\n",
    "        V = (data['v'])\n",
    "        U = eval(\"U\"+str(crop))\n",
    "        V = eval(\"V\"+str(crop))\n",
    "        scl = 100\n",
    "        plt.quiver(X[::scl,::scl], Y[::scl,::scl], U[::scl,::scl], V[::scl,::scl])\n",
    "        plt.imshow(eval(\"data[p]\"+str(crop)), vmin=vmi, vmax=vma)\n",
    "        plt.axis('tight')\n",
    "    elif type(data) != dict:\n",
    "        plt.figure(figsize=(16,16*double(data.shape[0])/double(data.shape[1])))\n",
    "        plt.imshow(eval(\"data\"+str(crop)), vmin=vmi, vmax=vma)\n",
    "    plt.colorbar()\n",
    "    plt.set_cmap(cmap)"
   ]
  },
  {
   "cell_type": "code",
   "execution_count": null,
   "metadata": {
    "collapsed": true
   },
   "outputs": [],
   "source": [
    "from scipy.stats import scoreatpercentile\n",
    "\n",
    "data=10*log10(asar.sigma0)\n",
    "\n",
    "vmin = None\n",
    "vmax = None\n",
    "# vmin_r = None\n",
    "# vmax_r = None\n",
    "\n",
    "if vmin is None:\n",
    "    vmin = scoreatpercentile(data[25:-25, 25:-25], 1)\n",
    "if vmax is None:\n",
    "    vmax = scoreatpercentile(data[25:-25, 25:-25], 99.9)\n",
    "\n",
    "# if vmin_r is None:\n",
    "#     vmin_r = scoreatpercentile(roughness[p][25:-25, 25:-25], 1)\n",
    "# if vmax_r is None:\n",
    "#     vmax_r = scoreatpercentile(roughness[p][25:-25, 25:-25], 99.9)"
   ]
  },
  {
   "cell_type": "code",
   "execution_count": null,
   "metadata": {
    "collapsed": false
   },
   "outputs": [],
   "source": [
    "\n",
    "ntrctv = interact(ntrctv_imshow, \\\n",
    "                 vmi=widgets.FloatSlider(min=-35, max=5, value=vmin, step=0.5), \\\n",
    "                 vma=widgets.FloatSlider(min=-35, max=5, value=vmax, step=0.5), \\\n",
    "                cmap = ['bone', 'gray', 'RdBu_r'], crop = '[:,:]');"
   ]
  },
  {
   "cell_type": "code",
   "execution_count": null,
   "metadata": {
    "collapsed": true
   },
   "outputs": [],
   "source": []
  },
  {
   "cell_type": "code",
   "execution_count": null,
   "metadata": {
    "collapsed": false
   },
   "outputs": [],
   "source": [
    "# data=asar.ncepGFSmodelWind\n",
    "data = asar.wind_speed_asar\n",
    "\n",
    "# ntrctv = interact(ntrctv_imshow, p = widgets.RadioButtons(description='wind speed', options=data.keys()), \\\n",
    "ntrctv = interact(ntrctv_imshow, \\\n",
    "                 vmi=widgets.FloatSlider(min=0, max=30, value=0, step=1), \\\n",
    "                 vma=widgets.FloatSlider(min=0, max=30, value=15., step=1), \\\n",
    "                cmap = ['jet'], crop = '[:,:]');\n",
    "# crop = '[600:1400,0:900]'"
   ]
  },
  {
   "cell_type": "code",
   "execution_count": null,
   "metadata": {
    "collapsed": true
   },
   "outputs": [],
   "source": []
  }
 ],
 "metadata": {
  "kernelspec": {
   "display_name": "Python 2",
   "language": "python",
   "name": "python2"
  },
  "language_info": {
   "codemirror_mode": {
    "name": "ipython",
    "version": 2
   },
   "file_extension": ".py",
   "mimetype": "text/x-python",
   "name": "python",
   "nbconvert_exporter": "python",
   "pygments_lexer": "ipython2",
   "version": "2.7.6"
  },
  "latex_envs": {
   "bibliofile": "biblio.bib",
   "cite_by": "apalike",
   "current_citInitial": 1,
   "eqLabelWithNumbers": true,
   "eqNumInitial": 0
  },
  "widgets": {
   "state": {
    "16b53f5558584fbda742810254d3b29d": {
     "views": []
    },
    "185e2ae9cd624ee08de161cb6cbe8af3": {
     "views": []
    },
    "1c8d66056ac64668a244045481af6271": {
     "views": []
    },
    "1e9d926dd6454961bbc2385815521f33": {
     "views": []
    },
    "26de0722e5484113b579d613588c96b8": {
     "views": []
    },
    "289eef91982d4bd5a3601762a38d3bf6": {
     "views": []
    },
    "29189ff1d58646318f0d1625dd3e0efb": {
     "views": []
    },
    "2980657324a84426b4260510945ff205": {
     "views": []
    },
    "2edf77ecbf394c1596d7c590b58a058e": {
     "views": []
    },
    "323d1d732b7c42aaa2a4c83e33963149": {
     "views": []
    },
    "3d39e042ea4f47199528fe5c311937dd": {
     "views": []
    },
    "3f0e9297be584eb3baf3e83636b6d07e": {
     "views": []
    },
    "43d2ec82fe154ad5a585906dc0694264": {
     "views": []
    },
    "47aa5577521f4d5893a3f01a1eec65c4": {
     "views": []
    },
    "483b4ac026f744bdb25e0443dca36d92": {
     "views": []
    },
    "49d086ceaa5a437ebe5ab07655b7395b": {
     "views": []
    },
    "4d1204d2e911409885ea1ed187219072": {
     "views": []
    },
    "5336cc8b55ae4f8db14d2fd6703c79cd": {
     "views": []
    },
    "5d274958f7804953961c90b7206b6e9a": {
     "views": []
    },
    "5d9b1be0bb824e6bb29f4f9ed015d5d5": {
     "views": []
    },
    "61eb58e6783a44bfb55da7e75b0270b6": {
     "views": []
    },
    "62e9e334a72043aeb463ed7b89187952": {
     "views": []
    },
    "668af024f7e64edca00f9bcdf323d7d3": {
     "views": []
    },
    "69b6a5c95cf1477cb15ce87ea20009d2": {
     "views": []
    },
    "719f13a719a74084a5bc5f9b3a3f422e": {
     "views": []
    },
    "72d2b46e44a64257af8d7105e7f391d1": {
     "views": []
    },
    "738829681fba4edc986099fe2d28b2cb": {
     "views": []
    },
    "797dbd64ae59456295d8565de8ac614b": {
     "views": []
    },
    "7ee583ad037a45f595d96c127e1b292e": {
     "views": []
    },
    "84dca504138f47eab6bd1491953c62fe": {
     "views": []
    },
    "86064d152d2c4b7c9b66961bc3ba0b3f": {
     "views": []
    },
    "89f15eab0b22441ca2af00d8365627af": {
     "views": []
    },
    "8b51f274269b4f9083e84efb6d771793": {
     "views": []
    },
    "8e3ae826025349deacc01ede527c83d1": {
     "views": [
      {
       "cell_index": 20
      }
     ]
    },
    "9505b7acf7194f8d8b78ec4de957269a": {
     "views": []
    },
    "9a387e601e1e423394a91a0fbe383097": {
     "views": []
    },
    "9f77401319b04ed9b3e29cfaaffd41aa": {
     "views": []
    },
    "a25ff79f714841f09082fbf43b15ee58": {
     "views": []
    },
    "a5f9e38a60b2435dbe203f9ab0916d3c": {
     "views": []
    },
    "aa11903dd40b4765bc868099555e9dc1": {
     "views": []
    },
    "acbea376d9754727bb5cacf72bcbf978": {
     "views": []
    },
    "acc0ee439dda4c128893904733281c48": {
     "views": []
    },
    "adda1fa1038549e487ccd47fa92932b6": {
     "views": []
    },
    "ade29683e2fc46ffb216e2cc9f74c8a1": {
     "views": []
    },
    "afc2cf74cb96434b88b80f18d3dbfe2e": {
     "views": []
    },
    "b049e0e96fdb4efd94b35b9e8d147e41": {
     "views": []
    },
    "b48595b4910d4e9b996cabb502b7ec12": {
     "views": []
    },
    "c26c00271cd94af68f02c4d0a807b6c1": {
     "views": []
    },
    "c487d35d3c664c898b2f111a3582efe2": {
     "views": []
    },
    "cb8731c0aa36404a9df4bf81a833e766": {
     "views": []
    },
    "d40821a4e5b448f8bb73224b0a19b27d": {
     "views": []
    },
    "d57c2a91bb594c2fb48d0c4880ba97f6": {
     "views": []
    },
    "d85e4e5ea7b443e79034bcc2ff4c3f72": {
     "views": [
      {
       "cell_index": 22
      }
     ]
    },
    "d9ad5e74750945949ab4ece50c30537b": {
     "views": []
    },
    "dcd927c55f324702be854be1b0f266a3": {
     "views": []
    },
    "e761a5b07f5a41d08a5ddf615f661b2d": {
     "views": []
    },
    "e8b20273140f4bada91c1c6b38c5f132": {
     "views": []
    },
    "ec9f8764ffb64f16bee2ac80a69a064c": {
     "views": []
    },
    "f795aa81b5ba4d419380d788158e36d5": {
     "views": []
    },
    "fce194fafdb54cb6a2ae65a509268ea0": {
     "views": []
    }
   },
   "version": "1.1.1"
  }
 },
 "nbformat": 4,
 "nbformat_minor": 0
}
