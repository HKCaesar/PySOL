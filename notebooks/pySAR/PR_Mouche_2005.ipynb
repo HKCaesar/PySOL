{
 "metadata": {
  "name": "",
  "signature": "sha256:a797cf5f558a89e385dbb9782c0a11fa36af332c49f927487fc9e4a7c624d83c"
 },
 "nbformat": 3,
 "nbformat_minor": 0,
 "worksheets": [
  {
   "cells": [
    {
     "cell_type": "code",
     "collapsed": false,
     "input": [
      "import numpy as np\n",
      "import math"
     ],
     "language": "python",
     "metadata": {},
     "outputs": [],
     "prompt_number": 1
    },
    {
     "cell_type": "code",
     "collapsed": false,
     "input": [
      "def PR_Mouche(theta, phi):\n",
      "    \n",
      "    A_0 = 0.00650704\n",
      "    B_0 = 0.128983\n",
      "    C_0 = 0.992839\n",
      "    A_HALF_PI = 0.00782194\n",
      "    B_HALF_PI = 0.121405\n",
      "    C_HALF_PI = 0.992839\n",
      "    A_PI = 0.00598416\n",
      "    B_PI = 0.140952\n",
      "    C_PI = 0.992885\n",
      "    \n",
      "    P_0 = A_0 * np.exp(B_0* thetha) + C_0\n",
      "    P_HALF_PI = A_HALF_PI * np.exp(B_HALF_PI* thetha) + C_HALF_PI\n",
      "    P_PI = A_PI * np.exp(B_PI* thetha) + C_PI\n",
      "    \n",
      "    C0 = (P_0 + P_PI + 2 * P_HALF_PI) / 4\n",
      "    C1 = (P_0 - P_PI) / 2\n",
      "    C2 = (P_0 + P_PI - 2 * P_HALF_PI) / 4\n",
      "    \n",
      "    P = C0 + C1 * np.cos(np.radians(phi)) + C2 * np.cos(np.radians(2 * phi))\n",
      "    \n",
      "    return P"
     ],
     "language": "python",
     "metadata": {},
     "outputs": [],
     "prompt_number": 2
    }
   ],
   "metadata": {}
  }
 ]
}