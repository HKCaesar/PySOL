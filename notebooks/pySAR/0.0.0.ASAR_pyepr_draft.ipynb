{
 "cells": [
  {
   "cell_type": "code",
   "execution_count": null,
   "metadata": {
    "collapsed": false
   },
   "outputs": [],
   "source": []
  },
  {
   "cell_type": "code",
   "execution_count": null,
   "metadata": {
    "collapsed": false
   },
   "outputs": [],
   "source": []
  },
  {
   "cell_type": "markdown",
   "metadata": {},
   "source": [
    "# http://earthpy.org/smos_sea_ice_thickness.html"
   ]
  },
  {
   "cell_type": "code",
   "execution_count": null,
   "metadata": {
    "collapsed": false
   },
   "outputs": [],
   "source": []
  },
  {
   "cell_type": "code",
   "execution_count": null,
   "metadata": {
    "collapsed": false
   },
   "outputs": [],
   "source": []
  },
  {
   "cell_type": "markdown",
   "metadata": {},
   "source": [
    "# Reading and processing Envisat ASAR"
   ]
  },
  {
   "cell_type": "code",
   "execution_count": 1,
   "metadata": {
    "collapsed": false
   },
   "outputs": [],
   "source": [
    "from multiprocessing import cpu_count\n",
    "numProcs = cpu_count()"
   ]
  },
  {
   "cell_type": "code",
   "execution_count": 2,
   "metadata": {
    "collapsed": false
   },
   "outputs": [],
   "source": [
    "import datetime\n",
    "\n",
    "import epr\n",
    "reload(epr)\n",
    "\n",
    "# import numpy.polynomial.polynomial as pl\n",
    "import matplotlib.pyplot as plt\n",
    "from numpy import row_stack, asarray, double, fliplr, delete, sin, pi, exp, log, log10\n",
    "# from numpy import meshgrid"
   ]
  },
  {
   "cell_type": "code",
   "execution_count": 3,
   "metadata": {
    "collapsed": false
   },
   "outputs": [],
   "source": [
    "fileNameList = [\n",
    "            'ASA_WSM_1PNPDE20110523_084634_000000983102_00395_48254_2349.N1',\n",
    "            'ASA_WSM_1PNPDE20111127_085336_000002143109_00079_50955_3727.N1',\n",
    "            'ASA_WSM_1PNPDK20111216_202156_000002693109_00359_51235_5447.N1',\n",
    "            'ASA_WSM_1PNPDK20111227_085404_000002453110_00079_51386_9192.N1',\n",
    "            'ASA_WSM_1PNPDK20120105_194838_000002693110_00215_51522_2440.N1',\n",
    "            'ASA_WSM_1PNPDK20120108_193839_000002693110_00258_51565_3503.N1',\n",
    "            'ASA_WSM_1PNPDK20120113_195518_000002693110_00330_51637_5211.N1',\n",
    "\n",
    "            'ASA_WSM_1PNPDK20100921_194247_000001772093_00114_44757_1367.N1',\n",
    "            'ASA_WSM_1PNPDK20100927_195408_000000862093_00200_44843_3688.N1',\n",
    "            \n",
    "            'ASA_WSM_1PNPDE20110815_090644_000001903105_00309_49461_8731.N1'\n",
    "            ]\n",
    "\n",
    "fileName = fileNameList[-2]\n",
    "\n",
    "# YellowSea - 3413 Doesn't work correctly\n",
    "# fileName = 'ASA_IMM_1PNPDE20080202_021339_000000812065_00361_30976_3972.N1'\n",
    "# fileName = 'ASA_WSM_1PNPDK20120320_135328_000000923112_00427_52596_1286.N1'\n",
    "\n",
    "# Baikal - same thing\n",
    "# fileName = 'ASA_WSM_1PNPDE20100912_025847_000000922092_00476_44618_1878.N1'\n",
    "\n",
    "# Kuroshio - also cropping is not correct enough\n",
    "# fileName = 'ASA_WSM_1PNPDK20120108_125143_000000923110_00254_51561_3395.N1'\n",
    "\n",
    "# Laptev - awful cropping in 3413 around 150E\n",
    "# (134.73301433365424, 158.69928524693626) (67.91966824291822, 78.468371541120206)\n",
    "# fileName = 'ASA_WSM_1PNPDE20120303_110522_000001773112_00181_52350_7967.N1'\n",
    "\n",
    "# Looks like the problem is with lons around 110-140 East\n",
    "# http://epsg.io/3413 notes that the EPSG3413 is a Cartesian 2D CS for north polar azimuthal lonO 45°W.\n",
    "# Axes: X,Y. Orientations: X along 45°E, Y along 135°E meridians. UoM: m.\n",
    "# That could be the case!!!! Y along 135°E meridians!!!!!!\n",
    "# In any case this coordinate system is used for above 60°N only!!!!\n",
    "# YES looks like that this was the case, for 3413 lat_0=90 and lon_0=-45\n",
    "# SO THE PROJ DOESN'T SEE some parts of the image\n",
    "# If you specify lat_0/lon_0 for the center of the image everything works great\n",
    "#         lat_0 = (up + down) / 2\n",
    "#         lon_0 = (right + left) / 2\n",
    "# But that wouldn't be 3413 anymore :)\n",
    "\n",
    "# Gibraltar - 3413 OK!\n",
    "# fileName = 'ASA_WSM_1PNPDE20120405_222713_000000923113_00231_52831_0092.N1'\n",
    "\n",
    "# Agulhas - 3413 OK!\n",
    "# fileName = 'ASA_WSM_1PNPDE20120311_204437_000000733112_00301_52470_1138.N1'\n",
    "\n",
    "# BlackSea - 3413 OK!\n",
    "# fileName = 'ASA_WSM_1PNPDE20120402_191831_000000923113_00186_52786_8976.N1'\n",
    "\n",
    "# Svalbard\n",
    "# fileName = 'ASA_WSM_1PNPDK20100920_102202_000001162093_00094_44737_0804.N1'\n",
    "\n",
    "# for Ania\n",
    "fileName = 'ASA_WSM_1PNPDE20101006_084238_000002692093_00322_44965_8292.N1'\n",
    "\n",
    "\n",
    "fileName = 'ASA_IMM_1PNPDE20080202_021339_000000812065_00361_30976_3972.N1'\n",
    "\n",
    "dt = datetime.datetime.strptime(fileName[14:22], '%Y%m%d').timetuple()\n",
    "\n",
    "year = str(dt.tm_year)\n",
    "day = str(dt.tm_yday)\n",
    "\n",
    "if len(day) == 1:\n",
    "    day = '00' + day\n",
    "elif len(day) == 2:\n",
    "    day = '0' + day\n",
    "\n",
    "iPath = '/media/SOLabNFS2/store/satellite/asar/' + year + '/' + day + '/'\n",
    "# oPath = '/media/SOLabNFS2/tmp/roughness/'\n",
    "oPath = '/home/mag/'\n",
    "\n",
    "product = epr.Product(iPath + fileName)"
   ]
  },
  {
   "cell_type": "code",
   "execution_count": 4,
   "metadata": {
    "collapsed": false
   },
   "outputs": [],
   "source": [
    "# print product.get_band_names()\n",
    "# print product.get_dataset_names()\n",
    "# dataset = product.get_dataset('GEOLOCATION_GRID_ADS')\n",
    "# record = dataset.read_record(12)\n",
    "# record.get_field_names()[:30]\n",
    "\n",
    "# field = record.get_field('line_num')\n",
    "# print field\n",
    "# field = record.get_field('num_lines')\n",
    "# print field\n",
    "# field = record.get_field('first_line_tie_points.samp_numbers')\n",
    "# print field"
   ]
  },
  {
   "cell_type": "markdown",
   "metadata": {},
   "source": [
    "## Reading product raw_counts, lats/lons and incident angles"
   ]
  },
  {
   "cell_type": "code",
   "execution_count": 5,
   "metadata": {
    "collapsed": false
   },
   "outputs": [],
   "source": [
    "band = product.get_band('proc_data')\n",
    "\n",
    "sc_w = product.get_scene_width()\n",
    "sc_h = product.get_scene_height()\n",
    "\n",
    "raw_counts = band.read_as_array(sc_w, sc_h)#, xoffset=100, yoffset=6500, xstep=2, ystep=2)\n",
    "# lat and lon are incorrect!\n",
    "# lat = product.get_band('latitude').read_as_array()\n",
    "# lon = product.get_band('longitude').read_as_array()\n",
    "incident_angle = product.get_band('incident_angle').read_as_array()"
   ]
  },
  {
   "cell_type": "raw",
   "metadata": {},
   "source": [
    "print product.get_dataset_names()\n",
    "dataset = product.get_dataset('MDS1')\n",
    "record = dataset.read_record(1)\n",
    "record.get_field_names()[:70]"
   ]
  },
  {
   "cell_type": "code",
   "execution_count": 6,
   "metadata": {
    "collapsed": false
   },
   "outputs": [],
   "source": [
    "dataset = product.get_dataset('GEOLOCATION_GRID_ADS')"
   ]
  },
  {
   "cell_type": "code",
   "execution_count": 7,
   "metadata": {
    "collapsed": false
   },
   "outputs": [],
   "source": [
    "# Get lat/lon from geolocation grid\n",
    "fltp_lats = map(lambda x: \\\n",
    "               dataset.read_record(x).get_field('first_line_tie_points.lats').get_elems(), \\\n",
    "               range(dataset.get_num_records()))\n",
    "lltp_lats = map(lambda x: \\\n",
    "               dataset.read_record(x).get_field('last_line_tie_points.lats').get_elems(), \\\n",
    "               range(dataset.get_num_records()))\n",
    "fltp_lons = map(lambda x: \\\n",
    "               dataset.read_record(x).get_field('first_line_tie_points.longs').get_elems(), \\\n",
    "               range(dataset.get_num_records()))\n",
    "lltp_lons = map(lambda x: \\\n",
    "               dataset.read_record(x).get_field('last_line_tie_points.longs').get_elems(), \\\n",
    "               range(dataset.get_num_records()))\n",
    "\n",
    "fltp_lats = asarray(double(fltp_lats))/1e6\n",
    "lltp_lats = asarray(double(lltp_lats))/1e6\n",
    "fltp_lons = asarray(double(fltp_lons))/1e6\n",
    "lltp_lons = asarray(double(lltp_lons))/1e6\n",
    "\n",
    "lats = row_stack((fltp_lats, lltp_lats[-1,:]))\n",
    "lons = row_stack((fltp_lons, lltp_lons[-1,:]))"
   ]
  },
  {
   "cell_type": "code",
   "execution_count": 8,
   "metadata": {
    "collapsed": false
   },
   "outputs": [],
   "source": [
    "from scipy.interpolate import RectBivariateSpline\n",
    "from numpy import linspace, arange\n",
    "\n",
    "def imresize(image, size):\n",
    "    \"\"\"\n",
    "    Resizes coefficient arrays using bivariate spline approximation.\n",
    "    \"\"\"\n",
    "    m, n = image.shape\n",
    "    X = linspace(0, m - 1, size[0])\n",
    "    Y = linspace(0, n - 1, size[1])\n",
    "    kx, ky = min([m - 1, 3]), min([n - 1, 3])\n",
    "    interp = RectBivariateSpline(\n",
    "        arange(m), arange(n), image, kx=kx, ky=ky)\n",
    "    resized = interp(X, Y)\n",
    "    return resized"
   ]
  },
  {
   "cell_type": "code",
   "execution_count": 9,
   "metadata": {
    "collapsed": false
   },
   "outputs": [],
   "source": [
    "lats = fliplr(lats)\n",
    "lons = fliplr(lons)\n",
    "\n",
    "lats_2 = imresize(lats, raw_counts.shape)\n",
    "lons_2 = imresize(lons, raw_counts.shape)"
   ]
  },
  {
   "cell_type": "code",
   "execution_count": 10,
   "metadata": {
    "collapsed": false
   },
   "outputs": [
    {
     "name": "stdout",
     "output_type": "stream",
     "text": [
      "36.884452 36.884452\n",
      "41.916864 41.916864\n",
      "119.487065 119.487065\n",
      "122.130979 122.130979\n",
      "(55, 11) (7290, 1504)\n",
      "136\n"
     ]
    }
   ],
   "source": [
    "print lats.min(), lats_2.min()\n",
    "print lats.max(), lats_2.max()\n",
    "print lons.min(), lons_2.min()\n",
    "print lons.max(), lons_2.max()\n",
    "print lats.shape, lats_2.shape\n",
    "print lats_2.shape[1]/lats.shape[1]"
   ]
  },
  {
   "cell_type": "code",
   "execution_count": 11,
   "metadata": {
    "collapsed": false
   },
   "outputs": [],
   "source": [
    "raw_counts_trmmd = raw_counts\n",
    "# Trimming the array by removing zero values from side rows and cols\n",
    "msk = []\n",
    "for m in range(raw_counts_trmmd.shape[0]):\n",
    "    if raw_counts_trmmd[m,:].sum()==0:\n",
    "        msk.append(m)\n",
    "raw_counts_trmmd = delete(raw_counts_trmmd,msk,axis=0)\n",
    "lats_2 =  delete(lats_2,msk,axis=0)\n",
    "lons_2 =  delete(lons_2,msk,axis=0)\n",
    "incident_angle = delete(incident_angle,msk,axis=0)\n",
    "\n",
    "msk = []\n",
    "for n in range(raw_counts_trmmd.shape[1]):\n",
    "    if raw_counts_trmmd[:,n].sum()==0:\n",
    "        msk.append(n)\n",
    "raw_counts_trmmd = delete(raw_counts_trmmd,msk,axis=1)\n",
    "lats_2 =  delete(lats_2,msk,axis=1)\n",
    "lons_2 =  delete(lons_2,msk,axis=1)\n",
    "incident_angle = delete(incident_angle,msk,axis=1)\n",
    "raw_counts = raw_counts_trmmd"
   ]
  },
  {
   "cell_type": "code",
   "execution_count": 12,
   "metadata": {
    "collapsed": false
   },
   "outputs": [],
   "source": [
    "# Masking Land\n",
    "\n",
    "# https://github.com/tkrajina/srtm.py\n",
    "\n",
    "# http://glcf.umd.edu/data/watermask/\n",
    "\n",
    "# http://pycoast.googlecode.com/git/docs/build/html/index.html\n",
    "# http://blogg.uit.no/thk031/2013/05/04/rasterizing-a-land-mask-for-an-unprojected-satellite-image/\n",
    "# http://www.soest.hawaii.edu/pwessel/gshhs/index.html\n",
    "\n"
   ]
  },
  {
   "cell_type": "raw",
   "metadata": {},
   "source": [
    "from scipy.io import savemat, loadmat, whosmat\n",
    "pn = '/home/mag/'\n",
    "expFn = 'ASAR_pyepr_test.mat'\n",
    "savemat(pn + expFn, mdict={ \\\n",
    "        'lats_2':lats_2, \\\n",
    "        'lons_2':lons_2, \\\n",
    "        'raw_counts':raw_counts, \\\n",
    "        }, do_compression=False)"
   ]
  },
  {
   "cell_type": "markdown",
   "metadata": {},
   "source": [
    "## Adding Sigma_0"
   ]
  },
  {
   "cell_type": "code",
   "execution_count": 13,
   "metadata": {
    "collapsed": false
   },
   "outputs": [],
   "source": [
    "# dataset = product.get_dataset('MAIN_PROCESSING_PARAMS_ADS')\n",
    "# record = dataset.read_record(0)\n",
    "# record.get_field_names()[:30]\n",
    "\n",
    "# field = record.get_field('calibration_factors.1.proc_scaling_fact')\n",
    "# print field\n",
    "# field = record.get_field('calibration_factors.1.ext_cal_fact')\n",
    "# print field\n",
    "# field = record.get_field('calibration_factors.2.proc_scaling_fact')\n",
    "# print field\n",
    "# field = record.get_field('calibration_factors.2.ext_cal_fact')\n",
    "# print field"
   ]
  },
  {
   "cell_type": "code",
   "execution_count": 14,
   "metadata": {
    "collapsed": false
   },
   "outputs": [],
   "source": [
    "calibration_constant = \\\n",
    "product.get_dataset('MAIN_PROCESSING_PARAMS_ADS').read_record(0).get_field('calibration_factors.1.ext_cal_fact').get_elems()\n",
    "# sigma0 = 10*log10( raw_counts_trmmd**2*sin(incident_angle*pi/180)/calibration_constant )\n",
    "sigma0 = raw_counts_trmmd**2*sin(incident_angle*pi/180)/calibration_constant\n",
    "\n",
    "# normalizing sigma0 for water\n",
    "# range_water = (sin(incident_angle*pi/180)**4)/(sin(31*pi/180)**4)\n",
    "# sigma0w = ( raw_counts_trmmd**2*sin(incident_angle*pi/180)*range_water/calibration_constant )"
   ]
  },
  {
   "cell_type": "markdown",
   "metadata": {},
   "source": [
    "## NICE image (roughness)"
   ]
  },
  {
   "cell_type": "code",
   "execution_count": 15,
   "metadata": {
    "collapsed": false
   },
   "outputs": [],
   "source": [
    "from scipy.signal import wiener\n",
    "# sigma0w = wiener(sigma0, mysize=(3,3), noise=None)\n",
    "# Lee-Wiener filtering blures to much the ASAR scenes, so we use it only for wind field\n",
    "sigma0w = sigma0"
   ]
  },
  {
   "cell_type": "code",
   "execution_count": 16,
   "metadata": {
    "collapsed": false
   },
   "outputs": [],
   "source": [
    "# # Earlier form Fabrice - simplyfied\n",
    "# pol = product.get_sph().get_field('MDS1_TX_RX_POLAR').get_elem()\n",
    "# if pol == 'H/H':\n",
    "#     ph = (2.20495, -14.3561e-2, 11.28e-4)\n",
    "#     sigma0_hh_ref = exp( ( ph[0]+incident_angle*ph[1]+incident_angle**2*ph[2])*log(10) )\n",
    "#     roughness = sigma0w/sigma0_hh_ref\n",
    "# elif pol == 'V/V':\n",
    "#     pv = (2.29373, -15.393e-2, 15.1762e-4)\n",
    "#     sigma0_vv_ref = exp( ( pv[0]+incident_angle*pv[1]+incident_angle**2*pv[2])*log(10) )\n",
    "#     roughness = sigma0w/sigma0_vv_ref\n",
    "\n",
    "\n",
    "# From sar/cerbere\n",
    "from cmod_vect import cmod5n_forward as cmod5\n",
    "pol = product.get_sph().get_field('MDS1_TX_RX_POLAR').get_elem()\n",
    "def compute_roughness(sigma0, incidence, polarisation):\n",
    "    \"\"\"Compute sea surface roughness.\n",
    "\n",
    "    Parameters\n",
    "    ----------\n",
    "    sigma0 : ndarray\n",
    "        NRCS backscatter.\n",
    "    incidence : ndarray\n",
    "        Incidence angle in degrees.\n",
    "    polarisation : str\n",
    "        'VV' or 'HH' or 'VH' or 'HV'\n",
    "\n",
    "    Returns\n",
    "    -------\n",
    "    ndarray\n",
    "    \"\"\"\n",
    "    if polarisation == 'VV' or polarisation == 'V/V': # Use cmod5\n",
    "        sigma0_vv = cmod5(10, 45, incidence)\n",
    "        return sigma0/sigma0_vv\n",
    "    elif polarisation == 'HH' or polarisation == 'H/H': # Use cmod5 and Thompson polarisation ratio\n",
    "        sigma0_vv = cmod5(10, 45, incidence)\n",
    "        alpha = 0.7\n",
    "        polrat = (1 + 2*tan(incidence*pi/180)**2)**2 / \\\n",
    "                 (1 + alpha*tan(incidence*pi/180)**2)**2\n",
    "        return sigma0/sigma0_vv*polrat\n",
    "    elif polarisation == 'VH' or polarisation == 'HV' \\\n",
    "      or polarisation == 'V/H' or polarisation == 'H/V': # Use simple model\n",
    "        # nrcs_vh_db = 0.580*wsp - 35.652\n",
    "        # nrcs_vh_lin = 10^(nrcs_vh_db/10.)\n",
    "        sigma0_cross = 10**((0.58*10-35.652)/10)\n",
    "        return sigma0/sigma0_cross\n",
    "    else:\n",
    "        raise Exception('Unknown polarisation : '+polarisation)\n",
    "\n",
    "roughness = compute_roughness(sigma0, incident_angle, pol)"
   ]
  },
  {
   "cell_type": "code",
   "execution_count": null,
   "metadata": {
    "collapsed": true
   },
   "outputs": [],
   "source": []
  },
  {
   "cell_type": "code",
   "execution_count": 26,
   "metadata": {
    "collapsed": false
   },
   "outputs": [],
   "source": [
    "scale = 1\n",
    "\n",
    "from scipy.stats import scoreatpercentile\n",
    "\n",
    "vmin = None\n",
    "vmax = None\n",
    "vmin_r = None\n",
    "vmax_r = None\n",
    "\n",
    "if vmin is None:\n",
    "    vmin = 10*log10(scoreatpercentile(sigma0[25:-25, 25:-25], 1))\n",
    "if vmax is None:\n",
    "    vmax = 10*log10(scoreatpercentile(sigma0[25:-25, 25:-25], 99.9))\n",
    "\n",
    "if vmin_r is None:\n",
    "    vmin_r = scoreatpercentile(roughness[25:-25, 25:-25], 1)\n",
    "if vmax_r is None:\n",
    "    vmax_r = scoreatpercentile(roughness[25:-25, 25:-25], 99.9)\n",
    "\n",
    "plt.close('all')\n",
    "plt.figure(figsize=(16,4))\n",
    "plt.subplot(131)\n",
    "plt.imshow(10*log10(sigma0[::scale,::scale]), vmin=vmin, vmax=vmax)\n",
    "plt.gray()\n",
    "plt.colorbar()\n",
    "plt.subplot(132)\n",
    "plt.imshow(10*log10(sigma0w[::scale,::scale]), vmin=vmin, vmax=vmax)\n",
    "plt.gray()\n",
    "plt.colorbar()\n",
    "plt.subplot(133)\n",
    "plt.imshow(roughness[::scale,::scale], vmin=vmin_r, vmax=vmax_r)\n",
    "plt.gray()\n",
    "plt.colorbar()\n",
    "plt.show()"
   ]
  },
  {
   "cell_type": "code",
   "execution_count": null,
   "metadata": {
    "collapsed": false
   },
   "outputs": [],
   "source": [
    "plt.close('all')\n",
    "plt.figure(figsize=(16,12))\n",
    "plt.imshow(raw_counts[::scale,::scale])\n",
    "plt.gray()\n",
    "plt.colorbar()\n",
    "plt.show()"
   ]
  },
  {
   "cell_type": "code",
   "execution_count": null,
   "metadata": {
    "collapsed": false
   },
   "outputs": [],
   "source": [
    "plt.close('all')\n",
    "plt.figure(figsize=(24,10))\n",
    "plt.subplot(131)\n",
    "plt.imshow(10*log10(sigma0[::scale,::scale]), vmin=-20, vmax=0)\n",
    "plt.gray()\n",
    "plt.colorbar()\n",
    "plt.show()"
   ]
  },
  {
   "cell_type": "markdown",
   "metadata": {},
   "source": [
    "## Adding Model wind"
   ]
  },
  {
   "cell_type": "code",
   "execution_count": null,
   "metadata": {
    "collapsed": false
   },
   "outputs": [],
   "source": [
    "from math import atan\n",
    "\n",
    "def windDirection(u, v):\n",
    "    U = u.ravel()\n",
    "    V = v.ravel()\n",
    "    direction = zeros(size(U))\n",
    "    for i in range(0, len(U)):\n",
    "        if U[i] >= 0 and V[i] > 0: direction[i] = ((180 / pi) * atan(abs(U[i] / V[i])) + 180)\n",
    "        if U[i] < 0 and V[i] > 0: direction[i] = (-(180 / pi) * atan(abs(U[i] / V[i])) + 180)\n",
    "        if U[i] >= 0 and V[i] < 0: direction[i] = (-(180 / pi) * atan(abs(U[i] / V[i])) + 360)\n",
    "        if U[i] < 0 and V[i] < 0: direction[i] = ((180 / pi) * atan(abs(U[i] / V[i])))\n",
    "        if V[i] == 0 and U[i] > 0: direction[i] = 270\n",
    "        if V[i] == 0 and U[i] < 0: direction[i] = 90\n",
    "        if V[i] == 0 and U[i] == 0: direction[i] = 0\n",
    "    return reshape(direction, v.shape)"
   ]
  },
  {
   "cell_type": "code",
   "execution_count": null,
   "metadata": {
    "collapsed": false
   },
   "outputs": [],
   "source": [
    "# Using NCEP\n",
    "from createMapsEtopo1 import findSubsetIndices\n",
    "import pygrib\n",
    "\n",
    "def ncepGFSmodel(startTime, lats_2, lons_2):\n",
    "    \"\"\"\n",
    "    NCEP GFS model wind for givven time, lat/lon crop \n",
    "    \"\"\"\n",
    "    ncepGFSmodel = {} # empty dict for ncepGFSmodel\n",
    "\n",
    "    iPath_wind = '/media/SOLabNFS2/store/model/ncep/gfs/'\n",
    "\n",
    "    # find the ncep gfs filename to open from ASAR filename\n",
    "    baseHour = floor((startTime.hour+3/2)/6)*6\n",
    "    baseHour = min(18, baseHour)\n",
    "    if startTime.hour-baseHour>1.5:\n",
    "        forecastHour = 3\n",
    "    else:\n",
    "        forecastHour = 0\n",
    "\n",
    "    if startTime <= datetime.datetime(2014, 8, 19):\n",
    "        ncepFileName = 'gfs' + startTime.strftime(\"%Y%m%d\") + '/gfs.t' + '%.2d' %(baseHour) + 'z.master.grbf' + '%.2d' %(forecastHour)\n",
    "\n",
    "        grbs = pygrib.open(iPath_wind + ncepFileName)\n",
    "\n",
    "        u_wind = None\n",
    "        v_wind = None\n",
    "\n",
    "        # wind contains u=u_wind.values[:], Lats=u_wind.latlons()[0], Lons=u_wind.latlons()[1]\n",
    "        for idx, msg_info in enumerate(grbs.select()):\n",
    "            if msg_info['short_name'] == '10u':\n",
    "                u_wind = grbs.message(idx + 1)\n",
    "            elif msg_info['short_name'] == '10v':\n",
    "                v_wind = grbs.message(idx + 1)\n",
    "\n",
    "        u = u_wind.values[:]\n",
    "        v = v_wind.values[:]\n",
    "        lats_wind = u_wind.latlons()[0]\n",
    "        lons_wind = u_wind.latlons()[1]\n",
    "    else:\n",
    "        ncepFileName = 'gfs.' + startTime.strftime(\"%Y%m%d\") + '%.2d' %(baseHour) + '/gfs.t' + '%.2d' %(baseHour) + 'z.master.grbf' + '%.2d' %(forecastHour) + '.10m.uv.grib2'\n",
    "\n",
    "        grbs = pygrib.open(iPath_wind + ncepFileName)\n",
    "\n",
    "        u_wind = grbs.message(1)\n",
    "        v_wind = grbs.message(2)\n",
    "        u = u_wind['values']\n",
    "        v = v_wind['values']\n",
    "        lats_wind = u_wind['latitudes']\n",
    "        lons_wind = u_wind['longitudes']\n",
    "        lons_wind = reshape(lons_wind, (lons_wind.shape[0]/720, 720))\n",
    "        lats_wind = reshape(lats_wind, (lats_wind.shape[0]/720, 720))\n",
    "\n",
    "\n",
    "    #Make sure the longitude is between -180.00 .. 179.9\n",
    "    lons_wind = map(lambda x : (lons_wind.ravel()[x]+180)-int((lons_wind.ravel()[x]+180)/360)*360-180, range(0,lons_wind.size))\n",
    "    lons_wind = reshape(lons_wind, lats_wind.shape)\n",
    "    # plt.close('all')\n",
    "    # plt.imshow(lons_wind)\n",
    "    # plt.colorbar()\n",
    "\n",
    "#     #Make sure the latitudes is between -90.00 .. 89.9, starting from North - positive\n",
    "#     lats_wind = map(lambda x : (lats_wind.ravel()[x]+90)-int((lats_wind.ravel()[x]+90)/180)*180-90, xrange(0,lats_wind.size))\n",
    "#     lats_wind = reshape(lats_wind, lons_wind.shape)\n",
    "#     if lats_wind[0,0] < lats_wind[-1,-1]:\n",
    "#         lats_wind = flipud(lats_wind)\n",
    "#         u = flipud(u)\n",
    "#         v = flipud(v)\n",
    "#     plt.close('all')\n",
    "#     plt.imshow(lats_wind)\n",
    "#     plt.colorbar()\n",
    "\n",
    "\n",
    "    # find subset\n",
    "    res = findSubsetIndices(lats_2.min(),lats_2.max(),lons_2.min(),lons_2.max(),lats_wind[:,0],lons_wind[0,:])\n",
    "    # expand subset by 1 pixel for better further pyresample\n",
    "    res[0]=res[0]-1\n",
    "    res[1]=res[1]+1\n",
    "    res[2]=res[2]-1\n",
    "    res[3]=res[3]+1\n",
    "\n",
    "    # crop the data\n",
    "    u = u[int(res[2]):int(res[3]),int(res[0]):int(res[1])]\n",
    "    v = v[int(res[2]):int(res[3]),int(res[0]):int(res[1])]\n",
    "    ncepGFSmodel['lats_wind'] = lats_wind[int(res[2]):int(res[3]),int(res[0]):int(res[1])]\n",
    "    ncepGFSmodel['lons_wind'] = lons_wind[int(res[2]):int(res[3]),int(res[0]):int(res[1])]\n",
    "\n",
    "#     ncepGFSmodel['lats_wind'] = lats_wind\n",
    "#     ncepGFSmodel['lons_wind'] = lons_wind\n",
    "\n",
    "    ncepGFSmodel['wind_dir'] = windDirection(u,v)\n",
    "    ncepGFSmodel['wind_speed'] = sqrt(u**2 + v**2)\n",
    "\n",
    "#     del u_wind, v_wind\n",
    "    return ncepGFSmodel"
   ]
  },
  {
   "cell_type": "code",
   "execution_count": null,
   "metadata": {
    "collapsed": false
   },
   "outputs": [],
   "source": [
    "# Adding Model wind\n",
    "\n",
    "startTime = datetime.datetime.strptime(fileName[14:29],\"%Y%m%d_%H%M%S\")\n",
    "\n",
    "ncepGFSmodelWind = ncepGFSmodel(startTime, lats_2, lons_2)"
   ]
  },
  {
   "cell_type": "code",
   "execution_count": null,
   "metadata": {
    "collapsed": false
   },
   "outputs": [],
   "source": [
    "plt.close('all')\n",
    "plt.figure(figsize=(16,2*double(sigma0w.shape[0])/double(sigma0w.shape[1])))\n",
    "plt.subplot(211)\n",
    "plt.imshow(ncepGFSmodelWind['wind_speed'])\n",
    "plt.jet()\n",
    "plt.colorbar()\n",
    "plt.subplot(212)\n",
    "plt.imshow(ncepGFSmodelWind['wind_dir'])\n",
    "plt.jet()\n",
    "plt.colorbar()\n"
   ]
  },
  {
   "cell_type": "code",
   "execution_count": null,
   "metadata": {
    "collapsed": false
   },
   "outputs": [],
   "source": [
    "plt.close('all')\n",
    "plt.figure(figsize=(16,4))\n",
    "plt.subplot(121)\n",
    "plt.imshow(ncepGFSmodelWind['lats_wind'])\n",
    "plt.jet()\n",
    "plt.colorbar()\n",
    "plt.subplot(122)\n",
    "plt.imshow(ncepGFSmodelWind['lons_wind'])\n",
    "plt.jet()\n",
    "plt.colorbar()"
   ]
  },
  {
   "cell_type": "code",
   "execution_count": null,
   "metadata": {
    "collapsed": false
   },
   "outputs": [],
   "source": []
  },
  {
   "cell_type": "markdown",
   "metadata": {},
   "source": [
    "# Reprojecting data"
   ]
  },
  {
   "cell_type": "code",
   "execution_count": null,
   "metadata": {
    "collapsed": false
   },
   "outputs": [],
   "source": [
    "from pylab import *\n",
    "import pyresample as pr\n",
    "from pyproj import Proj"
   ]
  },
  {
   "cell_type": "code",
   "execution_count": null,
   "metadata": {
    "collapsed": false
   },
   "outputs": [],
   "source": [
    "pr.kd_tree.which_kdtree()\n",
    "pr.get_capabilities()"
   ]
  },
  {
   "cell_type": "code",
   "execution_count": null,
   "metadata": {
    "collapsed": false
   },
   "outputs": [],
   "source": [
    "# Pixel resolution\n",
    "import distancelib\n",
    "\n",
    "# we use pxlResWind/pxlResSAR for further pyresample radius_of_influence and sigmas\n",
    "pxlResWind = asarray(distancelib.getPixelResolution(ncepGFSmodelWind['lats_wind'], \\\n",
    "                                                    ncepGFSmodelWind['lons_wind'], \\\n",
    "                                                    ncepGFSmodelWind['lats_wind'].shape, 'km'))\n",
    "pxlResSAR  = asarray(distancelib.getPixelResolution(lats_2, lons_2, lons_2.shape, 'km'))*1e3\n",
    "\n",
    "# Note pxlResWind is in KM, multiply by 1e3 for meters\n",
    "print \"ASAR cell resolution, %s m\"  % pxlResSAR\n",
    "print \"Wind cell resolution, %s km\" % pxlResWind"
   ]
  },
  {
   "cell_type": "code",
   "execution_count": null,
   "metadata": {
    "collapsed": false
   },
   "outputs": [],
   "source": [
    "# reproject NCEP onto ASAR grid before calculations\n",
    "# Try both BivariateSpline, griddata and pyresample\n",
    "\n",
    "ncep_def  = pr.geometry.GridDefinition (lons=ncepGFSmodelWind['lons_wind'], \\\n",
    "                                        lats=ncepGFSmodelWind['lats_wind'])\n",
    "swath_def = pr.geometry.SwathDefinition(lons=lons_2, lats=lats_2)\n"
   ]
  },
  {
   "cell_type": "code",
   "execution_count": null,
   "metadata": {
    "collapsed": false
   },
   "outputs": [],
   "source": [
    "# wind_speed_model_swath = pr.kd_tree.resample_gauss(ncep_def, ncepGFSmodelWind['wind_speed'].ravel(), swath_def, \\\n",
    "#                                              radius_of_influence=2*pxlResWind.min()*1e3, neighbours=12, \\\n",
    "#                                              sigmas=pxlResWind.max()*1e3, fill_value=None, nprocs=numProcs)\n",
    "wind_dir_model_swath   = pr.kd_tree.resample_gauss(ncep_def, ncepGFSmodelWind['wind_dir'].ravel(), swath_def, \\\n",
    "                                             radius_of_influence=2*pxlResWind.min()*1e3, neighbours=12, \\\n",
    "                                             sigmas=pxlResWind.max()*1e3, fill_value=None, nprocs=numProcs)"
   ]
  },
  {
   "cell_type": "code",
   "execution_count": null,
   "metadata": {
    "collapsed": false
   },
   "outputs": [],
   "source": [
    "plt.close('all')\n",
    "plt.figure(figsize=(16,3))\n",
    "# plt.subplot(121)\n",
    "# plt.imshow(wind_speed_model_swath[::scale,::scale])\n",
    "# plt.jet()\n",
    "# plt.colorbar()\n",
    "# plt.subplot(122)\n",
    "plt.imshow(wind_dir_model_swath[::scale,::scale])\n",
    "plt.jet()\n",
    "plt.colorbar()"
   ]
  },
  {
   "cell_type": "code",
   "execution_count": null,
   "metadata": {
    "collapsed": false
   },
   "outputs": [],
   "source": [
    "# calculate bearing from initial lats/lons for further wind calculation\n",
    "bearing = zeros((lons.shape[0]-1,lons.shape[1]))\n",
    "\n",
    "for n in range(0,lons.shape[1]):\n",
    "    col = ([lats[:-1,n], lons[:-1,n]], [lats[1:,n], lons[1:,n]])\n",
    "    for m in range(0,lons.shape[0]-1):\n",
    "        bearing[m][n] = distancelib.bearing(asarray(col[0])[:,m], asarray(col[1])[:,m])\n",
    "\n",
    "# interpolate to raw_counts.shape\n",
    "bearing_2 = imresize(bearing, raw_counts.shape)"
   ]
  },
  {
   "cell_type": "code",
   "execution_count": null,
   "metadata": {
    "collapsed": false
   },
   "outputs": [],
   "source": []
  },
  {
   "cell_type": "code",
   "execution_count": null,
   "metadata": {
    "collapsed": false
   },
   "outputs": [],
   "source": [
    "# convert the signal measured in HH into VV polarization before using a GMF from the CMOD family\n",
    "if pol == 'H/H':\n",
    "    alpha=1 # for Sentinel Toolbox alpha=1, initially it was 0.6\n",
    "    sigma0w = sigma0w*(1+2*tan(incident_angle*pi/180)**2)**2/(1+alpha*tan(incident_angle*pi/180)**2)**2"
   ]
  },
  {
   "cell_type": "code",
   "execution_count": null,
   "metadata": {
    "collapsed": false
   },
   "outputs": [],
   "source": [
    "#NB! WINDDIR = 0 WHEN WIND BLOWS TOWARDS RADAR!\n",
    "wind_dir_model_swath_rel = 90 + bearing_2 - wind_dir_model_swath\n",
    "\n",
    "from cmod_gpu import rcs2windOpenCl\n",
    "wind_speed_asar = rcs2windOpenCl(sar=sigma0w, windir=wind_dir_model_swath_rel, theta=incident_angle)"
   ]
  },
  {
   "cell_type": "code",
   "execution_count": null,
   "metadata": {
    "collapsed": false
   },
   "outputs": [],
   "source": [
    "#NB! WINDDIR = 0 WHEN WIND BLOWS TOWARDS RADAR!\n",
    "wind_dir_model_swath_rel = 90 + bearing_2 - wind_dir_model_swath\n",
    "try:\n",
    "    from cmod_gpu import rcs2windOpenCl\n",
    "    wind_speed_asar = rcs2windOpenCl(sar=sigma0w, windir=wind_dir_model_swath_rel, theta=incident_angle)\n",
    "except Exception:\n",
    "    from cmod_vect import rcs2windPar\n",
    "    wind_speed_asar = rcs2windPar(sigma0w, cmdv=5, windir=wind_dir_model_swath_rel, theta=incident_angle, nprocs=numProcs)"
   ]
  },
  {
   "cell_type": "code",
   "execution_count": null,
   "metadata": {
    "collapsed": false
   },
   "outputs": [],
   "source": [
    "plt.close('all')\n",
    "plt.figure(figsize=(16,8))\n",
    "# plt.subplot(121)\n",
    "# plt.imshow(wind_speed_model_swath[::scale,::scale], vmin=3, vmax=11)\n",
    "# plt.jet()\n",
    "# plt.colorbar()\n",
    "plt.subplot(122)\n",
    "plt.imshow(wind_speed_asar[::scale,::scale], vmin=3, vmax=20)\n",
    "plt.jet()\n",
    "plt.colorbar()"
   ]
  },
  {
   "cell_type": "code",
   "execution_count": null,
   "metadata": {
    "collapsed": false
   },
   "outputs": [],
   "source": [
    "from mpl_toolkits.basemap import Basemap\n",
    "\n",
    "plt.close('all')\n",
    "plt.figure(figsize=(16,16))\n",
    "lat_ts=70.0\n",
    "lat_0=90.0\n",
    "lon_0=-45\n",
    "\n",
    "# width=7000000.\n",
    "# height=7000000.\n",
    "# m = Basemap(width=width,height=height,resolution='l',\\\n",
    "#             projection='stere',lat_ts=lat_ts,lat_0=lat_0,lon_0=lon_0)\n",
    "\n",
    "# Lat/Lon coords of image corners\n",
    "ll_lat = lats_2.min()\n",
    "ur_lat = lats_2.max()\n",
    "ll_lon = lons_2.min()\n",
    "ur_lon = lons_2.max()\n",
    "cent_lat = lats_2.mean()\n",
    "cent_lon = lons_2.mean()\n",
    "m = Basemap(llcrnrlat=ll_lat, urcrnrlat=ur_lat,\\\n",
    "            llcrnrlon=ll_lon, urcrnrlon=ur_lon, \\\n",
    "            resolution='i', projection='stere', \\\n",
    "            lat_ts=lat_ts,lat_0=lat_0,lon_0=lon_0)\n",
    "\n",
    "\n",
    "m.bluemarble()\n",
    "\n",
    "x,y=m(lons_2[::30,::10],lats_2[::30,::10])\n",
    "CS=m.pcolormesh(x,y,wind_speed_asar[::30,::10],cmap=cm.gist_earth, vmin=0, vmax=20)#,ps,cmap=cm.jet,extend='max')\n",
    "\n",
    "m.drawmeridians(np.arange(lonlim[0],lonlim[1],5),labels=[0,0,0,1],color='y')\n",
    "m.drawparallels(np.arange(0,80,5),labels=[1,0,0,0],color='y')\n",
    "m.drawcoastlines(linewidth=0.5,color='0.5')\n",
    "plt.title('CMOD5.N Wind speed, [m/s]')"
   ]
  },
  {
   "cell_type": "code",
   "execution_count": null,
   "metadata": {
    "collapsed": false
   },
   "outputs": [],
   "source": []
  },
  {
   "cell_type": "code",
   "execution_count": null,
   "metadata": {
    "collapsed": false
   },
   "outputs": [],
   "source": []
  },
  {
   "cell_type": "code",
   "execution_count": null,
   "metadata": {
    "collapsed": false
   },
   "outputs": [],
   "source": []
  },
  {
   "cell_type": "code",
   "execution_count": null,
   "metadata": {
    "collapsed": false
   },
   "outputs": [],
   "source": [
    "# scale = 1\n",
    "# ln = lons_2[::scale,::scale]\n",
    "# lt = lats_2[::scale,::scale]\n",
    "# data = roughness[::scale,::scale]"
   ]
  },
  {
   "cell_type": "code",
   "execution_count": null,
   "metadata": {
    "collapsed": false
   },
   "outputs": [],
   "source": [
    "def swath_area_def(name='Temporal SWATH EPSG Projection 4326', proj='eqc', lonlim=(-180,180), latlim=(-90,90), ellps=\"WGS84\", res=111.2e3, lat_ts=None, lat_0=None, lon_0=None):\n",
    "    \"\"\"\n",
    "    Convert given swath coordinates to pyresample area definition.\n",
    "    The arguments are standard for Proj:\n",
    "    name\n",
    "    proj\n",
    "    lonlim\n",
    "    latlim\n",
    "    ellipsoid\n",
    "    resolution(meters)\n",
    "    lat_ts (latitude of true scale)\n",
    "    lat_0,lon_0 is central point\n",
    "    EXAMPLE:\n",
    "    \n",
    "    epsg3426 is the default one\n",
    "    for epsg3413:\n",
    "    swath_area_def(name='Temporal SWATH EPSG Projection 3413', proj='stere', lonlim=(-180,180), latlim=(30,90), ellps=\"WGS84\", res=111.2e3, lat_ts=70, lat_0=90, lon_0=-45)\n",
    "        \n",
    "    \"\"\"\n",
    "\n",
    "    area_id = name.replace(\" \", \"_\").lower()\n",
    "    proj_id = area_id\n",
    "\n",
    "    up    = min(latlim)\n",
    "    down  = max(latlim)\n",
    "    left  = min(lonlim)\n",
    "    right = max(lonlim)\n",
    "    \n",
    "    if proj == 'eqc':\n",
    "        p = Proj(proj=proj, llcrnrlat=up, urcrnrlat=down, llcrnrlon=left, urcrnrlon=right, ellps=ellps)\n",
    "        proj4_args = '+proj=' + str(proj) + ' ' + \\\n",
    "             '+llcrnrlat=' + str(up) + ' ' + \\\n",
    "             '+urcrnrlat=' + str(down) + ' ' + \\\n",
    "             '+llcrnrlon=' + str(left) + ' ' + \\\n",
    "             '+urcrnrlon=' + str(right) + ' ' + \\\n",
    "             '+ellps=' + str(ellps)\n",
    "    elif lat_ts!=None and lat_0!=None:\n",
    "        # lat_ts is latitude of true scale.\n",
    "        # lon_0,lat_0 is central point.\n",
    "        p = Proj(proj=proj, lat_0=lat_0, lon_0=lon_0, lat_ts=lat_ts, ellps=ellps)\n",
    "        proj4_args = '+proj=' + str(proj) + ' ' + \\\n",
    "             '+lat_0=' + str(lat_0) + ' ' + \\\n",
    "             '+lon_0=' + str(lon_0) + ' ' + \\\n",
    "             '+lat_ts=' + str(lat_ts) + ' ' + \\\n",
    "             '+ellps=' + str(ellps)\n",
    "    elif lon_0!=None and lat_0!=None and lat_ts==None:\n",
    "        # lon_0,lat_0 is central point.\n",
    "        p = Proj(proj=proj, lat_0=lat_0, lon_0=lon_0, ellps=ellps)\n",
    "        proj4_args = '+proj=' + str(proj) + ' ' + \\\n",
    "             '+lat_0=' + str(lat_0) + ' ' + \\\n",
    "             '+lon_0=' + str(lon_0) + ' ' + \\\n",
    "             '+ellps=' + str(ellps)\n",
    "    elif lon_0==None and lat_0==None and lat_ts==None:\n",
    "        # lon_0,lat_0 is central point.\n",
    "        lat_0 = (min(latlim) + max(latlim)) / 2\n",
    "        lon_0 = (min(lonlim) + max(lonlim)) / 2\n",
    "        p = Proj(proj=proj, lat_0=lat_0, lon_0=lon_0, ellps=ellps)\n",
    "        proj4_args = '+proj=' + str(proj) + ' ' + \\\n",
    "             '+lat_0=' + str(lat_0) + ' ' + \\\n",
    "             '+lon_0=' + str(lon_0) + ' ' + \\\n",
    "             '+ellps=' + str(ellps)\n",
    "\n",
    "    # area_extent defined as (x_min, y_min, x_max, y_max)\n",
    "    left_ex1, up_ex1 = p(left, up)\n",
    "    right_ex1, up_ex2 = p(right, up)\n",
    "    left_ex2, down_ex1 = p(left, down)\n",
    "    right_ex2, down_ex2 = p(right, down)\n",
    "\n",
    "#     area_extent = (min(left_ex1, left_ex2),\n",
    "#                    min(up_ex1, up_ex2),\n",
    "#                    max(right_ex1, right_ex2),\n",
    "#                    max(down_ex1, down_ex2))\n",
    "\n",
    "    # минимум из всех координат X, Y, максимум из всех координат X, Y\n",
    "    # Такой результат даёт правильный area_extent для 3413\n",
    "    # При этом для 4326 area_extent остаётся неизменным\n",
    "    # area_def_3413 = swath_area_def(name='Temporal SWATH EPSG Projection 3413', proj='stere', \\\n",
    "    #                                lonlim=(-180,180), latlim=(30,90), ellps=\"WGS84\", res=1500, \\\n",
    "    #                                lat_ts=70, lat_0=90, lon_0=-45)\n",
    "    # Area extent: (-5050747.263141337, 0.0, 0.0, 5050747.263141336)\n",
    "    area_extent = (min(left_ex1, left_ex2, right_ex1, right_ex2),\n",
    "                   min(up_ex1, up_ex2, down_ex1, down_ex2),\n",
    "                   max(left_ex1, left_ex2, right_ex1, right_ex2),\n",
    "                   max(up_ex1, up_ex2, down_ex1, down_ex2))\n",
    "\n",
    "#     newCS = (p(min(lonlim),latlim[0]), \\\n",
    "#              p(min(lonlim),latlim[1]), \\\n",
    "#              p(max(lonlim),latlim[0]), \\\n",
    "#              p(max(lonlim),latlim[1]))\n",
    "#     newCS = asarray(newCS)\n",
    "#     area_extent = (max(newCS[:,0]), max(newCS[:,1]), min(newCS[:,0]),  min(newCS[:,1]))\n",
    "\n",
    "#     area_extent = (min(newCS[:,0]), max(newCS[:,0]), min(newCS[:,1]),  max(newCS[:,1]))\n",
    "#     area_extent = (min(newCS[:,0]), min(newCS[:,1]), max(newCS[:,0]), max(newCS[:,1]))\n",
    "#     newCS = p(min(lonlim),max(latlim)), p(max(lonlim),min(latlim))\n",
    "#     area_extent = (min(newCS[0]), max(newCS[0]), min(newCS[1]), max(newCS[1]))\n",
    "\n",
    "#     Using abs() to avoid negative numbers of coloumns/rows as for epsg3413 for example\n",
    "    xsize = abs(int((area_extent[2] - area_extent[0]) / res))\n",
    "    ysize = abs(int((area_extent[3] - area_extent[1]) / res))\n",
    "\n",
    "    swath_area_def = pr.utils.get_area_def(area_id, name, proj_id, proj4_args, xsize, ysize, area_extent)\n",
    "\n",
    "    print swath_area_def\n",
    "\n",
    "    return swath_area_def\n",
    "\n"
   ]
  },
  {
   "cell_type": "code",
   "execution_count": null,
   "metadata": {
    "collapsed": false
   },
   "outputs": [],
   "source": [
    "lonlim=(lons_2.min(),lons_2.max())\n",
    "latlim=(lats_2.min(),lats_2.max())\n",
    "print lonlim, latlim"
   ]
  },
  {
   "cell_type": "markdown",
   "metadata": {},
   "source": [
    "# http://epsg.io/3413/map"
   ]
  },
  {
   "cell_type": "code",
   "execution_count": null,
   "metadata": {
    "collapsed": false
   },
   "outputs": [],
   "source": [
    "# 4326 lat/lon Area extent: (13306222.537383052, 4124755.141144392, 13587395.30854013, 4666106.128145058)\n",
    "# 3413 lat/lon Area extent: (1473617.164248772, 5942067.021573546, 1380864.7441117594, 5384946.266147111)\n",
    "\n",
    "# Area extent: (5839.8649434382805, 2216607.6224251273, -503728.2993214028, 1253240.2843227405)\n",
    "\n",
    "\n",
    "\n",
    "p = Proj('+units=m +ellps=WGS84 +lon_0=-45 +proj=stere +lat_ts=70 +lat_0=90')\n",
    "# oldCS = ((lons_2[0,0],lats_2[0,0]), \\\n",
    "#          (lons_2[-1,0],lats_2[-1,0]), \\\n",
    "#          (lons_2[0,-1],lats_2[0,-1]), \\\n",
    "#          (lons_2[-1,-1],lats_2[-1,-1]))\n",
    "# newCS = (p(lons_2[0,0],lats_2[0,0]), \\\n",
    "#          p(lons_2[-1,0],lats_2[-1,0]), \\\n",
    "#          p(lons_2[0,-1],lats_2[0,-1]), \\\n",
    "#          p(lons_2[-1,-1],lats_2[-1,-1]))\n",
    "oldCS = ((min(lonlim),min(latlim)), \\\n",
    "         (min(lonlim),max(latlim)), \\\n",
    "         (max(lonlim),min(latlim)), \\\n",
    "         (max(lonlim),max(latlim)))\n",
    "# newCS = (p(min(lonlim),min(latlim)), \\\n",
    "#          p(min(lonlim),max(latlim)), \\\n",
    "#          p(max(lonlim),min(latlim)), \\\n",
    "#          p(max(lonlim),max(latlim)))\n",
    "newCS = p(min(lonlim),max(latlim)), p(max(lonlim),min(latlim))\n",
    "oldCS = asarray(oldCS)\n",
    "newCS = asarray(newCS)\n",
    "\n",
    "# area_extent = (min(newCS[:,0]), max(newCS[:,0]), min(newCS[:,1]),  max(newCS[:,1]))\n",
    "# Area extent: (1644326.5606826267, 5942067.0215735463, 1237507.2185079353, 5384946.2661471106)\n",
    "# area_extent = (newCS[0,0], newCS[0,1], newCS[-1,0], newCS[-1,1])\n",
    "# Area extent: (1644326.5606826267, 5942067.0215735463, 1237507.2185079353, 5325178.1996833086)\n",
    "# area_extent = (newCS[0,0], newCS[0,1], newCS[-1,0], newCS[1,1])\n",
    "# Area extent: (1644326.5606826267, 6008758.8473417237, 1237507.2185079353, 5325178.1996833086)\n",
    "# area_extent = (newCS[0,0], newCS[2,1], newCS[-1,0], newCS[1,1])\n",
    "area_extent = (min(newCS[0]), min(newCS[1]), max(newCS[1]), max(newCS[0]))\n",
    "print oldCS\n",
    "print '\\n'\n",
    "print newCS\n",
    "print '\\n'\n",
    "print area_extent\n"
   ]
  },
  {
   "cell_type": "code",
   "execution_count": null,
   "metadata": {
    "collapsed": false
   },
   "outputs": [],
   "source": [
    "from pyresample import utils\n",
    "name = 'Temporal SWATH EPSG Projection 3413'\n",
    "area_id = name.replace(\" \", \"_\").lower()\n",
    "proj_id = area_id\n",
    "proj4_args = '+proj=stere +lat_0=90 +lat_ts=70 +lon_0=-45 +ellps=WGS84 +datum=WGS84 +units=m'\n",
    "x_size = 9000\n",
    "y_size = 9000\n",
    "area_extent = (-5050747.2631, 0.0000, 0.0000, 5050747.2631)\n",
    "area_def = utils.get_area_def(area_id, name, proj_id, proj4_args, x_size, y_size, area_extent)\n",
    "print area_def"
   ]
  },
  {
   "cell_type": "code",
   "execution_count": null,
   "metadata": {
    "collapsed": false
   },
   "outputs": [],
   "source": [
    "area_def_3413 = swath_area_def(name='Temporal SWATH EPSG Projection 3413', proj='stere',\n",
    "                          lonlim=(-180,180), latlim=(30,90), ellps=\"WGS84\", res=1500,\n",
    "                          lat_ts=70, lat_0=90, lon_0=-45)"
   ]
  },
  {
   "cell_type": "code",
   "execution_count": null,
   "metadata": {
    "collapsed": false
   },
   "outputs": [],
   "source": []
  },
  {
   "cell_type": "code",
   "execution_count": null,
   "metadata": {
    "collapsed": false
   },
   "outputs": [],
   "source": [
    "# area_def = swath_area_def(name='Temporal SWATH EPSG Projection 3413', proj='stere', lonlim=(-180,180), latlim=(30,90), ellps=\"WGS84\", res=111.2e3, lat_ts=70, lat_0=90, lon_0=-45)\n",
    "# area_def = swath_area_def()\n",
    "\n",
    "# area_def = swath_area_def(name='Temporal SWATH EPSG Projection 4326', proj='eqc',\n",
    "#                           lonlim=(lon.min(),lon.max()), latlim=(lat.min(),lat.max()), ellps=\"WGS84\", res=1500)\n",
    "\n",
    "# area_def3413 = swath_area_def(name='Temporal SWATH EPSG Projection 3413', proj='stere',\n",
    "#                           lonlim=(lons_2.min(),lons_2.max()), latlim=(lats_2.min(),lats_2.max()), ellps=\"WGS84\", res=1500,\n",
    "#                           lat_ts=70, lat_0=90, lon_0=-45)\n",
    "\n",
    "area_def_4326 = swath_area_def(name='Temporal SWATH EPSG Projection 4326', proj='eqc',\n",
    "                          lonlim=(lons_2.min(),lons_2.max()), latlim=(lats_2.min(),lats_2.max()), ellps=\"WGS84\", res=1500)\n",
    "\n",
    "# NB! multiproc and zmq doesn't work properly under IPython yet\n",
    "# result = pr.kd_tree.resample_nearest(swath_def, data.ravel(), area_def, radius_of_influence=300, nprocs=numProcs)\n",
    "# result = pr.kd_tree.resample_gauss(swath_def, data, area_def, radius_of_influence=500, sigmas=500, fill_value=None)\n",
    "roughness_4326 = pr.kd_tree.resample_nearest(swath_def, roughness, area_def_4326, \\\n",
    "                                             radius_of_influence=4*pxlResSAR.max(), epsilon=0.5, fill_value=None)\n",
    "\n",
    "# wind_speed_asar_4326 = pr.kd_tree.resample_nearest(swath_def, wind_speed_asar, area_def_4326, \\\n",
    "#                                                    radius_of_influence=4*pxlResSAR.max(), epsilon=0.5, fill_value=None)\n"
   ]
  },
  {
   "cell_type": "code",
   "execution_count": null,
   "metadata": {
    "collapsed": false
   },
   "outputs": [],
   "source": [
    "plt.close('all')\n",
    "plt.figure(figsize=(16,4))\n",
    "pr.plot.show_quicklook(area_def_4326, roughness_4326, vmin=0, vmax=2, \\\n",
    "                       label='Test', num_meridians=45, num_parallels=10, coast_res='i')"
   ]
  },
  {
   "cell_type": "code",
   "execution_count": null,
   "metadata": {
    "collapsed": false
   },
   "outputs": [],
   "source": [
    "lonlim=(lons_2.min(),lons_2.max())\n",
    "latlim=(lats_2.min(),lats_2.max())\n",
    "up    = min(latlim)\n",
    "down  = max(latlim)\n",
    "left  = min(lonlim)\n",
    "right = max(lonlim)\n",
    "# lat_0 = (up + down) / 2\n",
    "# lon_0 = (right + left) / 2\n",
    "lat_0=90\n",
    "lon_0=(right + left) / 2\n",
    "\n",
    "# Classical 3413 with Greenland centered\n",
    "lat_0=90\n",
    "lon_0=-45\n",
    "\n",
    "area_def_3413 = swath_area_def(name='Temporal SWATH EPSG Projection 3413', proj='stere',\n",
    "                          lonlim=(lons_2.min(),lons_2.max()), latlim=(lats_2.min(),lats_2.max()), ellps=\"WGS84\", res=1500,\n",
    "                          lat_ts=70, lat_0=lat_0, lon_0=lon_0)\n",
    "\n",
    "roughness_3413 = pr.kd_tree.resample_nearest(swath_def, roughness, area_def_3413, \\\n",
    "                                             radius_of_influence=4*pxlResSAR.max(), epsilon=0.5, fill_value=None)\n",
    "\n",
    "# wind_speed_asar_3413 = pr.kd_tree.resample_nearest(swath_def, wind_speed_asar, area_def_3413, \\\n",
    "#                                                    radius_of_influence=4*pxlResSAR.max(), epsilon=0.5, fill_value=None)\n"
   ]
  },
  {
   "cell_type": "code",
   "execution_count": null,
   "metadata": {
    "collapsed": false
   },
   "outputs": [],
   "source": [
    "!!!! expand area_def CENTERED ON GREENLAND !!!!!\n",
    "# Classical 3413 with Greenland centered\n",
    "lat_0=90\n",
    "lon_0=-45\n",
    "\n",
    "area_def_3413 = swath_area_def(name='Temporal SWATH EPSG Projection 3413', proj='stere',\n",
    "                          lonlim=(lons_2.min()-25,lons_2.max()+35), latlim=(lats_2.min()-5,lats_2.max()+5), ellps=\"WGS84\", res=1500,\n",
    "                          lat_ts=70, lat_0=lat_0, lon_0=lon_0)\n",
    "\n",
    "roughness_3413 = pr.kd_tree.resample_nearest(swath_def, roughness, area_def_3413, \\\n",
    "                                             radius_of_influence=4*pxlResSAR.max(), epsilon=0.5, fill_value=None)\n",
    "\n",
    "plt.close('all')\n",
    "plt.figure(figsize=(16,4))\n",
    "pr.plot.show_quicklook(area_def_3413, roughness_3413, vmin=0, vmax=2, \\\n",
    "                       label='Test', num_meridians=10, num_parallels=5, coast_res='i')"
   ]
  },
  {
   "cell_type": "code",
   "execution_count": null,
   "metadata": {
    "collapsed": false
   },
   "outputs": [],
   "source": [
    "!!!! CENTERED ON IMAGE !!!!!\n",
    "\n",
    "lonlim=(lons_2.min(),lons_2.max())\n",
    "latlim=(lats_2.min(),lats_2.max())\n",
    "up    = min(latlim)\n",
    "down  = max(latlim)\n",
    "left  = min(lonlim)\n",
    "right = max(lonlim)\n",
    "# lat_0 = (up + down) / 2\n",
    "# lon_0 = (right + left) / 2\n",
    "lat_0=90\n",
    "lon_0=(right + left) / 2\n",
    "\n",
    "area_def_3413 = swath_area_def(name='Temporal SWATH EPSG Projection 3413', proj='stere',\n",
    "                          lonlim=(lons_2.min(),lons_2.max()), latlim=(lats_2.min(),lats_2.max()), ellps=\"WGS84\", res=1500,\n",
    "                          lat_ts=70, lat_0=lat_0, lon_0=lon_0)\n",
    "\n",
    "roughness_3413 = pr.kd_tree.resample_nearest(swath_def, roughness, area_def_3413, \\\n",
    "                                             radius_of_influence=4*pxlResSAR.max(), epsilon=0.5, fill_value=None)\n",
    "\n",
    "plt.close('all')\n",
    "plt.figure(figsize=(16,4))\n",
    "pr.plot.show_quicklook(area_def_3413, roughness_3413, vmin=0, vmax=2, \\\n",
    "                       label='Test', num_meridians=10, num_parallels=5, coast_res='i')"
   ]
  },
  {
   "cell_type": "code",
   "execution_count": null,
   "metadata": {
    "collapsed": false
   },
   "outputs": [],
   "source": [
    "!!!! CENTERED ON GREENLAND !!!!!\n",
    "\n",
    "# Classical 3413 with Greenland centered\n",
    "lat_0=90\n",
    "lon_0=-45\n",
    "\n",
    "area_def_3413 = swath_area_def(name='Temporal SWATH EPSG Projection 3413', proj='stere',\n",
    "                          lonlim=(lons_2.min(),lons_2.max()), latlim=(lats_2.min(),lats_2.max()), ellps=\"WGS84\", res=1500,\n",
    "                          lat_ts=70, lat_0=lat_0, lon_0=lon_0)\n",
    "\n",
    "roughness_3413 = pr.kd_tree.resample_nearest(swath_def, roughness, area_def_3413, \\\n",
    "                                             radius_of_influence=4*pxlResSAR.max(), epsilon=0.5, fill_value=None)\n",
    "\n",
    "plt.close('all')\n",
    "plt.figure(figsize=(16,4))\n",
    "pr.plot.show_quicklook(area_def_3413, roughness_3413, vmin=0, vmax=2, \\\n",
    "                       label='Test', num_meridians=10, num_parallels=5, coast_res='i')"
   ]
  },
  {
   "cell_type": "code",
   "execution_count": null,
   "metadata": {
    "collapsed": false
   },
   "outputs": [],
   "source": [
    "from mpl_toolkits.basemap import Basemap\n",
    "\n",
    "plt.close('all')\n",
    "plt.figure(figsize=(16,16))\n",
    "lat_ts=70.0\n",
    "lat_0=90.0\n",
    "lon_0=-45\n",
    "\n",
    "# width=7000000.\n",
    "# height=7000000.\n",
    "# m = Basemap(width=width,height=height,resolution='l',\\\n",
    "#             projection='stere',lat_ts=lat_ts,lat_0=lat_0,lon_0=lon_0)\n",
    "\n",
    "# Lat/Lon coords of image corners\n",
    "ll_lat = lats_2.min()\n",
    "ur_lat = lats_2.max()\n",
    "ll_lon = lons_2.min()\n",
    "ur_lon = lons_2.max()\n",
    "cent_lat = lats_2.mean()\n",
    "cent_lon = lons_2.mean()\n",
    "m = Basemap(llcrnrlat=ll_lat, urcrnrlat=ur_lat,\\\n",
    "            llcrnrlon=ll_lon, urcrnrlon=ur_lon, \\\n",
    "            resolution='i', projection='stere', \\\n",
    "            lat_ts=lat_ts,lat_0=lat_0,lon_0=lon_0)\n",
    "\n",
    "\n",
    "m.bluemarble()\n",
    "\n",
    "x,y=m(lons_2[::30,::10],lats_2[::30,::10])\n",
    "CS=m.pcolormesh(x,y,roughness[::30,::10],cmap=cm.gist_earth, vmin=0, vmax=2)#,ps,cmap=cm.jet,extend='max')\n",
    "\n",
    "m.drawmeridians(np.arange(lonlim[0],lonlim[1],5),labels=[0,0,0,1],color='y')\n",
    "m.drawparallels(np.arange(0,80,5),labels=[1,0,0,0],color='y')\n",
    "m.drawcoastlines(linewidth=0.5,color='0.5')\n",
    "plt.title('test EPSG=3413')"
   ]
  },
  {
   "cell_type": "code",
   "execution_count": null,
   "metadata": {
    "collapsed": false
   },
   "outputs": [],
   "source": []
  },
  {
   "cell_type": "markdown",
   "metadata": {},
   "source": [
    "# Apply Mask from GSHHS"
   ]
  },
  {
   "cell_type": "code",
   "execution_count": null,
   "metadata": {
    "collapsed": false
   },
   "outputs": [],
   "source": [
    "import gshhs_rasterize\n",
    "reload(gshhs_rasterize)"
   ]
  },
  {
   "cell_type": "code",
   "execution_count": null,
   "metadata": {
    "collapsed": false
   },
   "outputs": [],
   "source": [
    "import os, re\n",
    "\n",
    "def purgeFile(dir, pattern):\n",
    "    for f in os.listdir(dir):\n",
    "        if re.search(pattern, f):\n",
    "            os.remove(os.path.join(dir, f))\n"
   ]
  },
  {
   "cell_type": "code",
   "execution_count": null,
   "metadata": {
    "collapsed": false
   },
   "outputs": [],
   "source": [
    "# ESRI shapefile containing land polygons\n",
    "shapefile = '/media/SOLabNFS/store/auxdata/coastline/GSHHS_shp/f/GSHHS_f_L1.shp'\n",
    "\n",
    "# purge other projections if exist\n",
    "purgeFile(shapefile[:-14], 'GSHHS_f_L1_')\n"
   ]
  },
  {
   "cell_type": "code",
   "execution_count": null,
   "metadata": {
    "collapsed": false
   },
   "outputs": [],
   "source": [
    "\n",
    "# lonlim = (lons_2.min(),lons_2.max())\n",
    "# latlim = (lats_2.min(),lats_2.max())\n",
    "\n",
    "# lonlim = (100,130)\n",
    "# latlim = (30,50)\n",
    "\n",
    "raster_shape = roughness_3413.shape\n",
    "proj = '+units=m +ellps=WGS84 +lon_0=-45 +proj=stere +lat_ts=70 +lat_0=90'\n",
    "proj = '+units=m +ellps=WGS84 +lon_0=' + str(lon_0) +' +proj=stere +lat_ts=70 +lat_0=90'\n",
    "proj_name = '3413'\n",
    "lakes = True\n",
    "\n",
    "mask_arr_3413 = gshhs_rasterize.gshhs_rasterize(lonlim, latlim, 'm', \\\n",
    "                    raster_shape, proj, proj_name, lakes, \\\n",
    "                    shapefile)\n",
    "\n",
    "raster_shape = roughness_4326.shape\n",
    "proj = '4326'\n",
    "proj_name=None\n",
    "\n",
    "mask_arr_4326 = gshhs_rasterize.gshhs_rasterize(lonlim, latlim, 'deg', \\\n",
    "                    raster_shape, proj, proj_name, lakes, \\\n",
    "                    shapefile)\n",
    "\n",
    "\n",
    "plt.close('all')\n",
    "plt.figure(figsize=(16,8))\n",
    "plt.subplot(141)\n",
    "plt.imshow(mask_arr_3413)\n",
    "plt.subplot(142)\n",
    "plt.imshow(mask_arr_4326)\n",
    "plt.subplot(143)\n",
    "plt.imshow(roughness_3413, vmin=0, vmax=2)\n",
    "plt.subplot(144)\n",
    "plt.imshow(roughness_4326, vmin=0, vmax=2)"
   ]
  },
  {
   "cell_type": "code",
   "execution_count": null,
   "metadata": {
    "collapsed": false
   },
   "outputs": [],
   "source": [
    "roughness_4326_masked = ma.masked_where(mask_arr_4326, roughness_4326)\n",
    "# wind_speed_asar_4326_masked = ma.masked_where(mask_arr_4326, wind_speed_asar_4326)\n",
    "\n",
    "roughness_3413_masked = ma.masked_where(mask_arr_3413, roughness_3413)\n",
    "# wind_speed_asar_3413_masked = ma.masked_where(mask_arr_3413, wind_speed_asar_3413)"
   ]
  },
  {
   "cell_type": "code",
   "execution_count": null,
   "metadata": {
    "collapsed": false
   },
   "outputs": [],
   "source": [
    "close(\"all\")\n",
    "plt.figure(figsize=(8,8))\n",
    "pr.plot.show_quicklook(area_def_4326, roughness_4326_masked, vmin=0, vmax=2, \\\n",
    "                       label='Test', num_meridians=45, num_parallels=10, coast_res='i')"
   ]
  },
  {
   "cell_type": "code",
   "execution_count": null,
   "metadata": {
    "collapsed": false
   },
   "outputs": [],
   "source": [
    "close(\"all\")\n",
    "plt.figure(figsize=(8,8))\n",
    "pr.plot.show_quicklook(area_def_4326, wind_speed_asar_4326_masked, vmin=3, vmax=13, \\\n",
    "                       label='Test', num_meridians=45, num_parallels=10, coast_res='i')"
   ]
  },
  {
   "cell_type": "code",
   "execution_count": null,
   "metadata": {
    "collapsed": false
   },
   "outputs": [],
   "source": []
  },
  {
   "cell_type": "code",
   "execution_count": null,
   "metadata": {
    "collapsed": false
   },
   "outputs": [],
   "source": [
    "close(\"all\")\n",
    "plt.figure(figsize=(8,8*double(roughness_3413.shape[0])/double(roughness_3413.shape[1])))\n",
    "pr.plot.show_quicklook(area_def_3413, roughness_3413_masked, vmin=0, vmax=2, \\\n",
    "                       label='Test', num_meridians=45, num_parallels=10, coast_res='i')"
   ]
  },
  {
   "cell_type": "code",
   "execution_count": null,
   "metadata": {
    "collapsed": false
   },
   "outputs": [],
   "source": [
    "close(\"all\")\n",
    "plt.figure(figsize=(8,8*double(roughness_3413.shape[0])/double(roughness_3413.shape[1])))\n",
    "pr.plot.show_quicklook(area_def_3413, wind_speed_asar_3413_masked, vmin=3, vmax=13, \\\n",
    "                       label='Test', num_meridians=45, num_parallels=10, coast_res='i')"
   ]
  },
  {
   "cell_type": "code",
   "execution_count": null,
   "metadata": {
    "collapsed": false
   },
   "outputs": [],
   "source": []
  },
  {
   "cell_type": "code",
   "execution_count": null,
   "metadata": {
    "collapsed": false
   },
   "outputs": [],
   "source": [
    "oFileName"
   ]
  },
  {
   "cell_type": "code",
   "execution_count": null,
   "metadata": {
    "collapsed": false
   },
   "outputs": [],
   "source": [
    "# Save png image and kml file\n",
    "\n",
    "import simplekml\n",
    "\n",
    "def create_KML_asar(area_extent, savepath):\n",
    "    kml = simplekml.Kml()\n",
    "\n",
    "    pol = kml.newpolygon(name='area_extent', visibility=1)\n",
    "    pol.tessellate = 1\n",
    "\n",
    "    pol.altitudemode = 'clampToGround'\n",
    "    pol.outerboundaryis.coords = [(area_extent[0], area_extent[1]), (area_extent[2], area_extent[3])]\n",
    "    if type(savepath) == list:\n",
    "        for _savepath in savepath:\n",
    "            kml.save(_savepath)\n",
    "    else:\n",
    "        kml.save(savepath)\n",
    "\n",
    "oPath = '/media/SOLabNFS2/http/tiles/ASAR_sigma0/sigma0/tmp/'\n",
    "oFileName = os.path.join(oPath, fileName+'.png')\n",
    "\n",
    "close('all')\n",
    "gray()\n",
    "imsave(oFileName, roughness_3413_masked, vmin=0, vmax=2)\n",
    "# create_KML_asar(area_def.area_extent, os.path.join(oPath, fileName+'.kml'))"
   ]
  },
  {
   "cell_type": "code",
   "execution_count": null,
   "metadata": {
    "collapsed": false
   },
   "outputs": [],
   "source": [
    "# Generate tiles\n",
    "\n",
    "import gdal\n",
    "import sys\n",
    "sys.path.append('/usr/bin')\n",
    "from gdal2tiles import GDAL2Tiles\n",
    "\n",
    "def create_asar_tiles(png_filename, tiles_output_dir, proj):\n",
    "    local_argv = ['/usr/bin/gdal2tiles.py', '-p', 'raster', '-r', 'cubic',\n",
    "                  '-s', proj, png_filename, tiles_output_dir]\n",
    "    argv = gdal.GeneralCmdLineProcessor(local_argv)\n",
    "    if argv:\n",
    "        gdal2tiles = GDAL2Tiles(argv[1:])\n",
    "        gdal2tiles.process()\n",
    "\n",
    "create_KML_asar(area_def.area_extent, os.path.join(oPath, fileName+'.kml'))\n",
    "\n",
    "tiles_3413_output_dir = os.path.join(oPath, 'tiles')\n",
    "png_3413_filename = oFileName\n",
    "create_asar_tiles(png_3413_filename, tiles_3413_output_dir, 'EPSG:3413')"
   ]
  },
  {
   "cell_type": "code",
   "execution_count": null,
   "metadata": {
    "collapsed": false
   },
   "outputs": [],
   "source": []
  },
  {
   "cell_type": "code",
   "execution_count": null,
   "metadata": {
    "collapsed": false
   },
   "outputs": [],
   "source": []
  },
  {
   "cell_type": "code",
   "execution_count": null,
   "metadata": {
    "collapsed": false
   },
   "outputs": [],
   "source": []
  },
  {
   "cell_type": "raw",
   "metadata": {},
   "source": [
    "# Using Blended Sea Winds\n",
    "from netCDF4 import Dataset\n",
    "from createMapsEtopo1 import findSubsetIndices\n",
    "\n",
    "month = str(dt.tm_mon)\n",
    "month_day = str(dt.tm_mday)\n",
    "if len(month)==1:\n",
    "    month = '0' + month\n",
    "\n",
    "iPath_wind = '/media/SOLabNFS/store/satellite/seawinds/SI/uv/6hrly/netcdf/2000s/'\n",
    "fileName_wind = 'uv' + year + month + month_day + '.nc'\n",
    "\n",
    "refDate    = datetime.datetime(1978,1,1,0,0,0)\n",
    "wantedDate = datetime.datetime.strptime(fileName[14:29], '%Y%m%d_%H%M%S')\n",
    "# wantedDate = datetime.datetime.strptime('20110815_0906', '%Y%m%d_%H%M')\n",
    "# wantedDate = datetime.datetime(2011,8,15,9,6,0)\n",
    "\n",
    "cdf = Dataset(iPath_wind + fileName_wind, mode='r', format='NETCDF4')\n",
    "# cdf.variables.keys()\n",
    "\n",
    "# Read lats/lons and time\n",
    "windLats = cdf.variables[\"lat\"][:]\n",
    "windLons = cdf.variables[\"lon\"][:]\n",
    "time = cdf.variables[\"time\"][:]\n",
    "\n",
    "# Find which date fits us best\n",
    "resolution = [ datetime.timedelta(hours=0), datetime.timedelta(hours=6), \\\n",
    "            datetime.timedelta(hours=12), datetime.timedelta(hours=18) ]\n",
    "roundTime = datetime.timedelta(seconds=wantedDate.second,\\\n",
    "                    minutes=wantedDate.minute, hours=wantedDate.hour)\n",
    "closestTime = sorted(resolution, key=lambda t: abs(roundTime - t))\n",
    "t = sorted(range(len(resolution)), key=lambda x: closestTime[x])[-1]\n",
    "closestTime = refDate + datetime.timedelta(hours=int(time[t]))\n",
    "print \"ASAR time: \", wantedDate\n",
    "print \"Closest time: \", closestTime\n",
    "\n",
    "# find subset not to import all the data\n",
    "res = findSubsetIndices(lats_2.min(),lats_2.max(),lons_2.min(),lons_2.max(),windLats,windLons)\n",
    "\n",
    "windLons,windLats=meshgrid(windLons[res[0]:res[1]],windLats[res[2]:res[3]])\n",
    "u = cdf.variables[\"u\"][t,:,int(res[2]):int(res[3]),int(res[0]):int(res[1])]\n",
    "v = cdf.variables[\"v\"][t,:,int(res[2]):int(res[3]),int(res[0]):int(res[1])]\n",
    "print \"Extracted data for area: (%s,%s) to (%s,%s)\"%(lons_2.min(),lats_2.min(),lons_2.max(),lats_2.max())\n",
    "print \"Extracted data for area: (%s,%s) to (%s,%s)\"%(windLons.min(),windLats.min(),windLons.max(),windLats.max())\n",
    "\n",
    "# Squeezing\n",
    "u = ma.squeeze(u)\n",
    "v = ma.squeeze(v)\n",
    "\n",
    "# Get speed and direction\n",
    "wind_speed = ma.sqrt(u**2+v**2)\n",
    "wind_dir = ma.zeros(shape(u))\n",
    "for i in range(0, shape(u)[0]):\n",
    "    for j in range(0, shape(u)[1]):\n",
    "        wind_dir[i][j] = math.atan2(u[i][j],v[i][j])\n",
    "        if wind_dir[i][j] < 0:\n",
    "            wind_dir[i][j] = 360 + wind_dir[i][j]"
   ]
  },
  {
   "cell_type": "code",
   "execution_count": null,
   "metadata": {
    "collapsed": false
   },
   "outputs": [],
   "source": []
  },
  {
   "cell_type": "raw",
   "metadata": {},
   "source": [
    "# USE FOR COMPLEX DATA ONLY!!!\n",
    "\n",
    "def hmsm_to_days(hour=0,min=0,sec=0,micro=0):\n",
    "    \"\"\"\n",
    "    https://gist.github.com/jiffyclub/1294443\n",
    "    Convert hours, minutes, seconds, and microseconds to fractional days.\n",
    "    Parameters\n",
    "    ----------\n",
    "    hour : int, optional\n",
    "    Hour number. Defaults to 0.\n",
    "    min : int, optional\n",
    "    Minute number. Defaults to 0.\n",
    "    sec : int, optional\n",
    "    Second number. Defaults to 0.\n",
    "    micro : int, optional\n",
    "    Microsecond number. Defaults to 0.\n",
    "    Returns\n",
    "    -------\n",
    "    days : float\n",
    "    Fractional days.\n",
    "    Examples\n",
    "    --------\n",
    "    >>> hmsm_to_days(hour=6)\n",
    "    0.25\n",
    "    \"\"\"\n",
    "    days = sec + (micro / 1.e6)\n",
    "    days = min + (days / 60.)\n",
    "    days = hour + (days / 60.)\n",
    "    return days / 24.\n",
    "\n",
    "# Get zero doppler and slant range times from geolocation grid\n",
    "\n",
    "fltp_srt = map(lambda x: \\\n",
    "               dataset.read_record(x).get_field('first_line_tie_points.slant_range_times').get_elems(), \\\n",
    "               range(dataset.get_num_records()))\n",
    "lltp_srt = map(lambda x: \\\n",
    "               dataset.read_record(x).get_field('first_line_tie_points.slant_range_times').get_elems(), \\\n",
    "               range(dataset.get_num_records()))\n",
    "f_zdt = map(lambda x: \\\n",
    "               dataset.read_record(x).get_field('first_zero_doppler_time').get_elem(), \\\n",
    "               range(dataset.get_num_records()))\n",
    "l_zdt = map(lambda x: \\\n",
    "               dataset.read_record(x).get_field('last_zero_doppler_time').get_elem(), \\\n",
    "               range(dataset.get_num_records()))\n",
    "\n",
    "fltp_srt = asarray(double(fltp_srt))\n",
    "lltp_srt = asarray(double(lltp_srt))\n",
    "f_zdt = asarray(double(f_zdt))\n",
    "l_zdt = asarray(double(l_zdt))\n",
    "\n",
    "srt = row_stack((fltp_srt, lltp_srt[-1,:]))\n",
    "zdt = row_stack((f_zdt, l_zdt[-1,:]))\n",
    "\n",
    "# Convert ZDT from (MJD, sec, microsec) to Mean Julian Days\n",
    "zdt_mjd = zdt[:,0] + hmsm_to_days(sec=zdt[:,1],micro=zdt[:,2])\n",
    "\n",
    "# Make zdt an array\n",
    "srt_gr, zdt_mjd_gr = meshgrid(srt[0,:].transpose(), zdt_mjd)\n",
    "\n",
    "srt_2 = imresize(srt, raw_counts.shape)\n",
    "\n",
    "from numpy import linspace\n",
    "\n",
    "# make ZDT raw_counts size\n",
    "zdt_mjd_2 = linspace(min(zdt_mjd),max(zdt_mjd),raw_counts.shape[0])\n",
    "srt_gr, zdt_mjd_2_gr = meshgrid(srt_2[0,:].transpose(), zdt_mjd_2)\n",
    "\n",
    "print srt.shape, zdt_mjd_gr.shape, lats.shape, srt_2.shape, zdt_mjd_2_gr.shape, lat.shape\n",
    "\n",
    "from scipy.interpolate import griddata\n",
    "\n",
    "# Interpolate onto a new grid with raw_counts shape\n",
    "lats_2 = griddata((srt.ravel(), zdt_mjd_gr.ravel()), lats.ravel(), (srt_2, zdt_mjd_2_gr), method='linear')\n",
    "lons_2 = griddata((srt.ravel(), zdt_mjd_gr.ravel()), lons.ravel(), (srt_2, zdt_mjd_2_gr), method='linear')\n",
    "\n",
    "lats_2 = fliplr(lats_2)\n",
    "lons_2 = fliplr(lons_2)"
   ]
  },
  {
   "cell_type": "code",
   "execution_count": null,
   "metadata": {
    "collapsed": false
   },
   "outputs": [],
   "source": []
  },
  {
   "cell_type": "raw",
   "metadata": {},
   "source": [
    "Adding Angles manually (need to flip the final array left to right!) NOT WORKING YET\n",
    "\n",
    "# get elements of specified field from all of the records\n",
    "dataset = product.get_dataset('GEOLOCATION_GRID_ADS')\n",
    "lltp_samp_numbers = map(lambda x: \\\n",
    "               dataset.read_record(x).get_field('last_line_tie_points.samp_numbers').get_elems(), \\\n",
    "               range(dataset.get_num_records()))\n",
    "lltp_incidence_angles = map(lambda x: \\\n",
    "               dataset.read_record(x).get_field('last_line_tie_points.angles').get_elems(), \\\n",
    "               range(dataset.get_num_records()))\n",
    "lltp_samp_numbers = asarray(lltp_samp_numbers)\n",
    "lltp_incidence_angles = asarray(lltp_incidence_angles)\n",
    "# Polyfit inc angles over Range\n",
    "coefs = map(lambda x: \\\n",
    "               poly.polyfit(lltp_samp_numbers[x], lltp_incidence_angles[x], 2), \\\n",
    "               range(dataset.get_num_records()))\n",
    "alpha = map(lambda x: \\\n",
    "               poly.polyval(range(0,sc_w),coefs[x]), \\\n",
    "               range(dataset.get_num_records()))\n",
    "coefs = asarray(coefs)\n",
    "alpha = asarray(alpha)\n",
    "\n",
    "# coefs = poly.polyfit(lltp_samp_numbers[x], lltp_incidence_angles[x], 2)\n",
    "# alpha = poly.polyval(range(1,sc_w),coefs)\n",
    "\n",
    "# Before Polyfitting the angles over the Range dimension mask outlied numbers\n",
    "# see plots for more info\n",
    "\n",
    "line_nums = asarray(range(1,sc_h,dataset.read_record(0).get_field('num_lines').get_elems()))-1\n",
    "mask = ma.zeros(alpha.shape, dtype=double)\n",
    "incident_angle = zeros((sc_h,sc_w), dtype=double)\n",
    "for x in range(0,sc_w):\n",
    "    mask[:,x] = ma.masked_where(abs(gradient(alpha[:,x]))>1*mean(abs(gradient(alpha[:,x]))), alpha[:,x])\n",
    "    coefs_masked = ma.polyfit(line_nums, mask[:,x], 2)\n",
    "    coefs_masked = coefs_masked[::-1]\n",
    "    incident_angle[:,x] = poly.polyval(range(0,sc_h),coefs_masked)\n",
    "\n",
    "# x=100\n",
    "# figure()\n",
    "# plot(abs(gradient(alpha[:,x])), '.')\n",
    "# hold\n",
    "# plot(1*mean(abs(gradient(alpha[:,x]))), 'or')\n",
    "# mask = ma.masked_where(abs(gradient(alpha[:,x]))>1*mean(abs(gradient(alpha[:,x]))), alpha[:,x])\n",
    "# plot(gradient(mask), '.g')\n",
    "\n",
    "# line_nums = asarray(range(1,sc_h,dataset.read_record(0).get_field('num_lines').get_elems()))-1\n",
    "# coefs_masked = ma.polyfit(line_nums, mask, 2)\n",
    "# coefs_masked = coefs_masked[::-1]\n",
    "# coefs3 = poly.polyfit(line_nums, alpha[:,x], 2)\n",
    "# incident_angle = poly.polyval(range(1,sc_h),coefs_masked)\n",
    "# alpha3 = poly.polyval(range(1,sc_h),coefs3)\n",
    "# print coefs_masked\n",
    "# print coefs3\n",
    "\n",
    "# # print incident_angle\n",
    "# # print alpha3\n",
    "# figure()\n",
    "# plot(line_nums, alpha[:,x], '.b')\n",
    "# hold\n",
    "# plot(line_nums, mask, '.r')\n",
    "# plot(range(1,sc_h), incident_angle, 'g')\n",
    "# plot(range(1,sc_h), alpha3, ':k')"
   ]
  },
  {
   "cell_type": "code",
   "execution_count": null,
   "metadata": {
    "collapsed": false
   },
   "outputs": [],
   "source": []
  },
  {
   "cell_type": "raw",
   "metadata": {},
   "source": [
    "%% ASAR\n",
    "filenameSAR = 'ASA_WSM_1PNPDE20110815_090644_000001903105_00309_49461_8731.N1';\n",
    "q = fof(filenameSAR, '/media/SOLabNFS2/store/satellite/asar/', 'SAR');\n",
    "fullfilename = q.filenameSAR;\n",
    "\n",
    "% Make the quicklook or crop with FullRes\n",
    "mode = lower(filenameSAR(5:7));\n",
    "a = eval(['asar','.',mode,'(''',fullfilename,''')']);\n",
    "q = a.make_quicklook('reduction_factor', 1, 'water', 'db');\n",
    "sigma0=q.sigma0('db');\n",
    "\n",
    "q = struct(q);\n",
    "\n",
    "[lonmin lonmax latmin latmax] = mmLatLon(q.lat,q.lon);\n",
    "latLim = double([min(min(q.lat)) max(max(q.lat))]);\n",
    "lonLim = double([min(min(q.lon)) max(max(q.lon))]);\n",
    "\n",
    "figure\n",
    "set(0,'defaultAxesFontName', 'Verdana')\n",
    "set(0,'defaultTextFontName', 'Verdana') \n",
    "% Construct map axes for given region of world\n",
    "axesm('mercator','MapLatLimit',latLim,'MapLonLimit', lonLim);\n",
    "axis off; framem on; gridm on; mlabel on; plabel on;\n",
    "geoshow(q.lat, q.lon, q.raw_counts, 'DisplayType', 'texturemap') % Display SAR wind\n",
    "setm(gca, 'GLineStyle', '--', 'GColor', 'black',...\n",
    "    'FontName', 'Verdana', ...\n",
    "    'FontSize', 27, ...\n",
    "    'FontWeight', 'Bold', ...\n",
    "    'MLineLocation', 2, 'MLabelLocation', 2, ...\n",
    "    'PLineLocation', 2, 'PLabelLocation', 2);\n",
    "colormap(gray);\n",
    "caxis([0 2e3]);\n",
    "\n",
    "bbox = [lonmin latmin; lonmax latmax];\n",
    "co = shaperead('/media/SOLabNFS/store/auxdata/coastline/GSHHS_shp/i/GSHHS_i_L1', ...\n",
    "    'UseGeoCoords', true,'BoundingBox', bbox);\n",
    "hl = geoshow(co, 'FaceColor',  'none');\n",
    "\n",
    "\n",
    "figure\n",
    "set(0,'defaultAxesFontName', 'Verdana')\n",
    "set(0,'defaultTextFontName', 'Verdana') \n",
    "% Construct map axes for given region of world\n",
    "axesm('mercator','MapLatLimit',latLim,'MapLonLimit', lonLim);\n",
    "axis off; framem on; gridm on; mlabel on; plabel on;\n",
    "geoshow(imresize(lat, 1/10), imresize(lon, 1/10), imresize(raw_counts, 1/10), 'DisplayType', 'texturemap') % Display SAR wind\n",
    "setm(gca, 'GLineStyle', '--', 'GColor', 'black',...\n",
    "    'FontName', 'Verdana', ...\n",
    "    'FontSize', 27, ...\n",
    "    'FontWeight', 'Bold', ...\n",
    "    'MLineLocation', 2, 'MLabelLocation', 2, ...\n",
    "    'PLineLocation', 2, 'PLabelLocation', 2);\n",
    "colormap(gray);\n",
    "caxis([0 2e3]);\n",
    "\n",
    "bbox = [lonmin latmin; lonmax latmax];\n",
    "co = shaperead('/media/SOLabNFS/store/auxdata/coastline/GSHHS_shp/i/GSHHS_i_L1', ...\n",
    "    'UseGeoCoords', true,'BoundingBox', bbox);\n",
    "hl = geoshow(co, 'FaceColor',  'none');\n",
    "\n",
    "\n",
    "\n",
    "figure\n",
    "set(0,'defaultAxesFontName', 'Verdana')\n",
    "set(0,'defaultTextFontName', 'Verdana') \n",
    "% Construct map axes for given region of world\n",
    "axesm('mercator','MapLatLimit',latLim,'MapLonLimit', lonLim);\n",
    "axis off; framem on; gridm on; mlabel on; plabel on;\n",
    "geoshow(imresize(lats_2, 1/10), imresize(lons_2, 1/10), imresize(raw_counts, 1/10), 'DisplayType', 'texturemap') % Display SAR wind\n",
    "setm(gca, 'GLineStyle', '--', 'GColor', 'black',...\n",
    "    'FontName', 'Verdana', ...\n",
    "    'FontSize', 27, ...\n",
    "    'FontWeight', 'Bold', ...\n",
    "    'MLineLocation', 2, 'MLabelLocation', 2, ...\n",
    "    'PLineLocation', 2, 'PLabelLocation', 2);\n",
    "colormap(gray);\n",
    "caxis([0 2e3]);\n",
    "\n",
    "bbox = [lonmin latmin; lonmax latmax];\n",
    "co = shaperead('/media/SOLabNFS/store/auxdata/coastline/GSHHS_shp/i/GSHHS_i_L1', ...\n",
    "    'UseGeoCoords', true,'BoundingBox', bbox);\n",
    "hl = geoshow(co, 'FaceColor',  'none');\n",
    "\n"
   ]
  }
 ],
 "metadata": {
  "kernelspec": {
   "display_name": "Python 2",
   "language": "python",
   "name": "python2"
  },
  "language_info": {
   "codemirror_mode": {
    "name": "ipython",
    "version": 2
   },
   "file_extension": ".py",
   "mimetype": "text/x-python",
   "name": "python",
   "nbconvert_exporter": "python",
   "pygments_lexer": "ipython2",
   "version": "2.7.6"
  },
  "latex_envs": {
   "bibliofile": "biblio.bib",
   "cite_by": "apalike",
   "current_citInitial": 1,
   "eqLabelWithNumbers": true,
   "eqNumInitial": 0
  },
  "widgets": {
   "state": {},
   "version": "1.1.1"
  }
 },
 "nbformat": 4,
 "nbformat_minor": 0
}
