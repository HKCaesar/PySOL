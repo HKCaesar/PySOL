{
 "cells": [
  {
   "cell_type": "code",
   "execution_count": 1,
   "metadata": {
    "collapsed": false
   },
   "outputs": [],
   "source": [
    "from pylab import *\n",
    "import pyresample as pr\n",
    "import time\n",
    "import gc\n",
    "import matplotlib.colors as colors\n",
    "from mpl_utils import *\n",
    "from mpl_toolkits.axes_grid1 import make_axes_locatable\n",
    "import sys\n",
    "import numpy.ma as ma\n",
    "import matplotlib.pyplot as plt\n",
    "\n",
    "from mwir_sst_v4 import MWIRSST"
   ]
  },
  {
   "cell_type": "code",
   "execution_count": 2,
   "metadata": {
    "collapsed": true
   },
   "outputs": [],
   "source": [
    "def gmtColormap(fileName, GMTPath=None):\n",
    "  import colorsys\n",
    "  import numpy\n",
    "  N = numpy\n",
    "  if type(GMTPath) == type(None):\n",
    "      filePath = \"/usr/local/cmaps/\"+ fileName+\".cpt\"\n",
    "  else:\n",
    "      filePath = GMTPath+\"/\"+ fileName +\".cpt\"\n",
    "  try:\n",
    "      f = open(filePath)\n",
    "  except:\n",
    "      print \"file \",filePath, \"not found\"\n",
    "      return None\n",
    "\n",
    "  lines = f.readlines()\n",
    "  f.close()\n",
    "\n",
    "  x = []\n",
    "  r = []\n",
    "  g = []\n",
    "  b = []\n",
    "  colorModel = \"RGB\"\n",
    "  for l in lines:\n",
    "      ls = l.split()\n",
    "      if l[0] == \"#\":\n",
    "         if ls[-1] == \"HSV\":\n",
    "             colorModel = \"HSV\"\n",
    "             continue\n",
    "         else:\n",
    "             continue\n",
    "      if ls[0] == \"B\" or ls[0] == \"F\" or ls[0] == \"N\":\n",
    "         pass\n",
    "      else:\n",
    "          x.append(float(ls[0]))\n",
    "          r.append(float(ls[1]))\n",
    "          g.append(float(ls[2]))\n",
    "          b.append(float(ls[3]))\n",
    "          xtemp = float(ls[4])\n",
    "          rtemp = float(ls[5])\n",
    "          gtemp = float(ls[6])\n",
    "          btemp = float(ls[7])\n",
    "\n",
    "  x.append(xtemp)\n",
    "  r.append(rtemp)\n",
    "  g.append(gtemp)\n",
    "  b.append(btemp)\n",
    "\n",
    "  nTable = len(r)\n",
    "  x = N.array( x , N.float)\n",
    "  r = N.array( r , N.float)\n",
    "  g = N.array( g , N.float)\n",
    "  b = N.array( b , N.float)\n",
    "  if colorModel == \"HSV\":\n",
    "     for i in range(r.shape[0]):\n",
    "         rr,gg,bb = colorsys.hsv_to_rgb(r[i]/360.,g[i],b[i])\n",
    "         r[i] = rr ; g[i] = gg ; b[i] = bb\n",
    "  if colorModel == \"HSV\":\n",
    "     for i in range(r.shape[0]):\n",
    "         rr,gg,bb = colorsys.hsv_to_rgb(r[i]/360.,g[i],b[i])\n",
    "         r[i] = rr ; g[i] = gg ; b[i] = bb\n",
    "  if colorModel == \"RGB\":\n",
    "      r = r/255.\n",
    "      g = g/255.\n",
    "      b = b/255.\n",
    "  xNorm = (x - x[0])/(x[-1] - x[0])\n",
    "\n",
    "  red = []\n",
    "  blue = []\n",
    "  green = []\n",
    "  for i in range(len(x)):\n",
    "      red.append([xNorm[i],r[i],r[i]])\n",
    "      green.append([xNorm[i],g[i],g[i]])\n",
    "      blue.append([xNorm[i],b[i],b[i]])\n",
    "  colorDict = {\"red\":red, \"green\":green, \"blue\":blue}\n",
    "  return (colorDict)"
   ]
  },
  {
   "cell_type": "code",
   "execution_count": 3,
   "metadata": {
    "collapsed": true
   },
   "outputs": [],
   "source": [
    "def setColorbar(gtmName):\n",
    "\n",
    "    cm = gmtColormap(fileName=gtmName, GMTPath='/var/calculate/prj/posada/handlers/gmtcolorbar')\n",
    "    return cm"
   ]
  },
  {
   "cell_type": "code",
   "execution_count": 4,
   "metadata": {
    "collapsed": false
   },
   "outputs": [
    {
     "name": "stdout",
     "output_type": "stream",
     "text": [
      "\n",
      "done\n",
      "file  /var/calculate/prj/posada/handlers/gmtcolorbar/GMT_ice_con.cpt not found\n"
     ]
    },
    {
     "name": "stderr",
     "output_type": "stream",
     "text": [
      "/usr/local/lib/python2.7/dist-packages/pyresample/geometry.py:76: UserWarning: All geometry objects expect longitudes in the [-180:+180[ range. We will now automatically wrap your longitudes into [-180:+180[, and continue. To avoid this warning next time, use routine utils.wrap_longitudes().\n",
      "  'To avoid this warning next time, use routine utils.wrap_longitudes().')\n"
     ]
    }
   ],
   "source": [
    "def read_data(filename='mw_ir.fusion.2015.353.rt.gz'):\n",
    "    dataset = MWIRSST(filename, missing=missing)\n",
    "    if not dataset.variables: sys.exit('problem reading file')\n",
    "    return dataset\n",
    "\n",
    "ilon = (769,774)\n",
    "ilat = (473,477)\n",
    "avar = 'sst'\n",
    "missing = -999.\n",
    "\n",
    "   \n",
    "dataset = read_data()\n",
    "print\n",
    "print 'done'\n",
    "\n",
    "lons = dataset.variables['longitude'][:]\n",
    "lats = dataset.variables['latitude'][:]\n",
    "\n",
    "x,y = np.meshgrid(lons,lats)\n",
    "\n",
    "grid_def = pr.geometry.GridDefinition(x, y)\n",
    "\n",
    "product_parameters = {}\n",
    "product_parameters['sst'] = {'palette': cm.jet, 'range_min': 0, 'range_max': 30}\n",
    "\n",
    "ice_palette_dict = setColorbar('GMT_ice_con')\n",
    "ice_palette = colors.LinearSegmentedColormap('liquid', ice_palette_dict, 256)\n",
    "\n",
    "product_parameters['ice'] = {'palette': ice_palette, 'range_min': 0.0, 'range_max': 1.0}\n",
    "\n",
    "projections = [{'name': 'epsg_4326', 'inch_size': (20.48, 10.24)},\n",
    "               {'name': 'epsg_3413', 'inch_size': (20.48, 20.48)}, #north\n",
    "               {'name': 'epsg_3031', 'inch_size': (20.48, 20.48)}] #south\n"
   ]
  },
  {
   "cell_type": "code",
   "execution_count": 5,
   "metadata": {
    "collapsed": true
   },
   "outputs": [],
   "source": [
    "import os\n",
    "def mkdir_p(path_dir):\n",
    "    try:\n",
    "        os.makedirs(path_dir)\n",
    "    except:\n",
    "        pass"
   ]
  },
  {
   "cell_type": "code",
   "execution_count": 6,
   "metadata": {
    "collapsed": false
   },
   "outputs": [
    {
     "name": "stdout",
     "output_type": "stream",
     "text": [
      "\n",
      "Start parameter:  sst\n"
     ]
    },
    {
     "ename": "IOError",
     "evalue": "[Errno 2] No such file or directory: '/var/calculate/prj/posada/handlers/resources/areas.cfg'",
     "output_type": "error",
     "traceback": [
      "\u001b[1;31m---------------------------------------------------------------------------\u001b[0m",
      "\u001b[1;31mIOError\u001b[0m                                   Traceback (most recent call last)",
      "\u001b[1;32m<ipython-input-6-a390e0e87691>\u001b[0m in \u001b[0;36m<module>\u001b[1;34m()\u001b[0m\n\u001b[0;32m     17\u001b[0m     \u001b[1;32mfor\u001b[0m \u001b[0mprojection\u001b[0m \u001b[1;32min\u001b[0m \u001b[0mprojections\u001b[0m\u001b[1;33m:\u001b[0m\u001b[1;33m\u001b[0m\u001b[0m\n\u001b[0;32m     18\u001b[0m         \u001b[0mdirectory_to_save\u001b[0m \u001b[1;33m=\u001b[0m \u001b[1;34m\"/tmp/mwirsst/test/%s\"\u001b[0m \u001b[1;33m%\u001b[0m\u001b[1;33m(\u001b[0m\u001b[0mprojection\u001b[0m\u001b[1;33m[\u001b[0m\u001b[1;34m'name'\u001b[0m\u001b[1;33m]\u001b[0m\u001b[1;33m)\u001b[0m\u001b[1;33m\u001b[0m\u001b[0m\n\u001b[1;32m---> 19\u001b[1;33m         \u001b[0marea_def\u001b[0m \u001b[1;33m=\u001b[0m \u001b[0mpr\u001b[0m\u001b[1;33m.\u001b[0m\u001b[0mutils\u001b[0m\u001b[1;33m.\u001b[0m\u001b[0mload_area\u001b[0m\u001b[1;33m(\u001b[0m\u001b[1;34m'/var/calculate/prj/posada/handlers/resources/areas.cfg'\u001b[0m\u001b[1;33m,\u001b[0m \u001b[1;34m'%s_crude'\u001b[0m\u001b[1;33m%\u001b[0m\u001b[1;33m(\u001b[0m\u001b[0mprojection\u001b[0m\u001b[1;33m[\u001b[0m\u001b[1;34m'name'\u001b[0m\u001b[1;33m]\u001b[0m\u001b[1;33m)\u001b[0m\u001b[1;33m)\u001b[0m\u001b[1;33m\u001b[0m\u001b[0m\n\u001b[0m\u001b[0;32m     20\u001b[0m \u001b[1;33m\u001b[0m\u001b[0m\n\u001b[0;32m     21\u001b[0m         result = pr.kd_tree.resample_nearest(grid_def, pp_value.ravel(), area_def, radius_of_influence=30000,\n",
      "\u001b[1;32m/usr/local/lib/python2.7/dist-packages/pyresample/utils.pyc\u001b[0m in \u001b[0;36mload_area\u001b[1;34m(area_file_name, *regions)\u001b[0m\n\u001b[0;32m     56\u001b[0m     \"\"\"\n\u001b[0;32m     57\u001b[0m \u001b[1;33m\u001b[0m\u001b[0m\n\u001b[1;32m---> 58\u001b[1;33m     \u001b[0marea_list\u001b[0m \u001b[1;33m=\u001b[0m \u001b[0mparse_area_file\u001b[0m\u001b[1;33m(\u001b[0m\u001b[0marea_file_name\u001b[0m\u001b[1;33m,\u001b[0m \u001b[1;33m*\u001b[0m\u001b[0mregions\u001b[0m\u001b[1;33m)\u001b[0m\u001b[1;33m\u001b[0m\u001b[0m\n\u001b[0m\u001b[0;32m     59\u001b[0m     \u001b[1;32mif\u001b[0m \u001b[0mlen\u001b[0m\u001b[1;33m(\u001b[0m\u001b[0marea_list\u001b[0m\u001b[1;33m)\u001b[0m \u001b[1;33m==\u001b[0m \u001b[1;36m1\u001b[0m\u001b[1;33m:\u001b[0m\u001b[1;33m\u001b[0m\u001b[0m\n\u001b[0;32m     60\u001b[0m         \u001b[1;32mreturn\u001b[0m \u001b[0marea_list\u001b[0m\u001b[1;33m[\u001b[0m\u001b[1;36m0\u001b[0m\u001b[1;33m]\u001b[0m\u001b[1;33m\u001b[0m\u001b[0m\n",
      "\u001b[1;32m/usr/local/lib/python2.7/dist-packages/pyresample/utils.pyc\u001b[0m in \u001b[0;36mparse_area_file\u001b[1;34m(area_file_name, *regions)\u001b[0m\n\u001b[0;32m     82\u001b[0m     \"\"\"\n\u001b[0;32m     83\u001b[0m \u001b[1;33m\u001b[0m\u001b[0m\n\u001b[1;32m---> 84\u001b[1;33m     \u001b[0marea_file\u001b[0m \u001b[1;33m=\u001b[0m \u001b[0mopen\u001b[0m\u001b[1;33m(\u001b[0m\u001b[0marea_file_name\u001b[0m\u001b[1;33m,\u001b[0m \u001b[1;34m'r'\u001b[0m\u001b[1;33m)\u001b[0m\u001b[1;33m\u001b[0m\u001b[0m\n\u001b[0m\u001b[0;32m     85\u001b[0m     \u001b[0marea_list\u001b[0m \u001b[1;33m=\u001b[0m \u001b[0mlist\u001b[0m\u001b[1;33m(\u001b[0m\u001b[0mregions\u001b[0m\u001b[1;33m)\u001b[0m\u001b[1;33m\u001b[0m\u001b[0m\n\u001b[0;32m     86\u001b[0m     \u001b[1;32mif\u001b[0m \u001b[0mlen\u001b[0m\u001b[1;33m(\u001b[0m\u001b[0marea_list\u001b[0m\u001b[1;33m)\u001b[0m \u001b[1;33m==\u001b[0m \u001b[1;36m0\u001b[0m\u001b[1;33m:\u001b[0m\u001b[1;33m\u001b[0m\u001b[0m\n",
      "\u001b[1;31mIOError\u001b[0m: [Errno 2] No such file or directory: '/var/calculate/prj/posada/handlers/resources/areas.cfg'"
     ]
    }
   ],
   "source": [
    "variables_list = ['sst', 'ice']\n",
    "fill_value = dataset.missing\n",
    "for pp_name in variables_list:\n",
    "    if not pp_name in product_parameters:\n",
    "        continue\n",
    "    print \"\\nStart parameter: \", pp_name\n",
    "    pp_value = dataset.variables[pp_name][:]\n",
    "#     print pp_value.shape\n",
    "#     pp_value = resize(pp_value, (pp_value.shape[1], pp_value.shape[2]))\n",
    "    valid_min = dataset.variables[pp_name].valid_min\n",
    "    valid_max = dataset.variables[pp_name].valid_max\n",
    "    \n",
    "    pp_value = ma.masked_where(pp_value > valid_max, pp_value)\n",
    "    pp_value = ma.masked_where(pp_value < valid_min, pp_value)\n",
    "    pp_value = np.ma.masked_equal(pp_value, dataset.missing)\n",
    "    \n",
    "    for projection in projections:\n",
    "        directory_to_save = \"/tmp/mwirsst/test/%s\" %(projection['name'])\n",
    "        area_def = pr.utils.load_area('/var/calculate/prj/posada/handlers/resources/areas.cfg', '%s_crude'%(projection['name']))\n",
    "\n",
    "        result = pr.kd_tree.resample_nearest(grid_def, pp_value.ravel(), area_def, radius_of_influence=30000,\n",
    "                             fill_value=dataset.missing, nprocs=2)\n",
    "    \n",
    "        #specify figure size in inches:\n",
    "        fig = figure(num=1, figsize=(projection['inch_size']), facecolor=None, edgecolor=None,\n",
    "                     frameon=False)\n",
    "        fig.set_size_inches(projection['inch_size'][0], projection['inch_size'][1])\n",
    "        ax = axes([0., 0., 1., 1.])\n",
    "        ax.set_axis_off()\n",
    "        fig.add_axes(ax)\n",
    "        m = pr.plot.area_def2basemap(area_def, resolution=None)\n",
    "        \n",
    "        palette = product_parameters[pp_name]['palette']\n",
    "        pal_norm = colors.Normalize(vmin=product_parameters[pp_name]['range_min'],\n",
    "                                    vmax=product_parameters[pp_name]['range_max'], clip=True)\n",
    "        \n",
    "        m.imshow(result, origin='upper', cmap=palette, norm=pal_norm)\n",
    "        \n",
    "        mkdir_p(directory_to_save)\n",
    "        savepath = '%s/%s.png'%(directory_to_save, pp_name)\n",
    "        savefig(savepath, dpi=100, transparent=True, pad_inches=0)\n",
    "        del fig\n",
    "    del pp_value\n",
    "del dataset\n",
    "gc.collect()"
   ]
  },
  {
   "cell_type": "code",
   "execution_count": null,
   "metadata": {
    "collapsed": true
   },
   "outputs": [],
   "source": []
  }
 ],
 "metadata": {
  "kernelspec": {
   "display_name": "Python 2",
   "language": "python",
   "name": "python2"
  },
  "language_info": {
   "codemirror_mode": {
    "name": "ipython",
    "version": 2
   },
   "file_extension": ".py",
   "mimetype": "text/x-python",
   "name": "python",
   "nbconvert_exporter": "python",
   "pygments_lexer": "ipython2",
   "version": "2.7.6"
  },
  "latex_envs": {
   "bibliofile": "biblio.bib",
   "cite_by": "apalike",
   "current_citInitial": 1,
   "eqLabelWithNumbers": true,
   "eqNumInitial": 0
  }
 },
 "nbformat": 4,
 "nbformat_minor": 0
}
