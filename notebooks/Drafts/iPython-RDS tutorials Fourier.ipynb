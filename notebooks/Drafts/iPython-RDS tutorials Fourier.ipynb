{
 "cells": [
  {
   "cell_type": "code",
   "execution_count": 1,
   "metadata": {
    "collapsed": false
   },
   "outputs": [
    {
     "name": "stderr",
     "output_type": "stream",
     "text": [
      ":0: FutureWarning: IPython widgets are experimental and may change in the future.\n"
     ]
    }
   ],
   "source": [
    "%matplotlib inline\n",
    "import numpy as np\n",
    "import matplotlib.pyplot as plt\n",
    "from IPython.html import widgets\n",
    "from IPython.html.widgets import interact"
   ]
  },
  {
   "cell_type": "markdown",
   "metadata": {},
   "source": [
    "# Fourier Series Demo - Tutorial format"
   ]
  },
  {
   "cell_type": "markdown",
   "metadata": {},
   "source": [
    "This notebook is part of the series of postings on iPython's Rich Display System in the [All Things Computing blog](http://fxmartins.com). This is the \"tutorial version\", intended for those following the code development step-by-step. If you just want to use the end result of the code in your notebooks, see the [production version](file:../Production/."
   ]
  },
  {
   "cell_type": "markdown",
   "metadata": {},
   "source": [
    "## Step 1"
   ]
  },
  {
   "cell_type": "markdown",
   "metadata": {},
   "source": [
    "The `interact()` function creates an interactive widget in the notebook and calls a user-defined function (the _callback_ function) whenever there are changes in the interface. The callback is designed to reflect the changes in the interface. The following cell define a callback that simply prints a message reporting what is the value of `n`."
   ]
  },
  {
   "cell_type": "code",
   "execution_count": 2,
   "metadata": {
    "collapsed": false
   },
   "outputs": [],
   "source": [
    "def plot_fourier_series(**kwargs):\n",
    "    n = kwargs['n']\n",
    "    print 'The value of n is: {:d}'.format(n)"
   ]
  },
  {
   "cell_type": "markdown",
   "metadata": {},
   "source": [
    "The callback must have a single argument, of the form `**kwargs`, that is, it can only accept keyword arguments. The dictionary `kwargs` will be filled by the call to `interact()`, which is demonstrated below:"
   ]
  },
  {
   "cell_type": "code",
   "execution_count": 3,
   "metadata": {
    "collapsed": false
   },
   "outputs": [
    {
     "name": "stdout",
     "output_type": "stream",
     "text": [
      "The value of n is: 10\n"
     ]
    }
   ],
   "source": [
    "_i = interact(plot_fourier_series,\n",
    "              n=(1, 20))"
   ]
  },
  {
   "cell_type": "markdown",
   "metadata": {},
   "source": [
    "Now, each time the value of `n` is changed with the slide, the output line at the botton is automatically updated.\n",
    "\n",
    "The first argument to `interact()` is the callback, and all other arguments are widget specifications. There are two ways of defining the widgets: using an _abbreviation_ (as in the example above), or calling a widget constructor (see example below). I personally prefer to always use a constructor, since it allows more flexibility. The available abbreviations are:\n",
    "<table style=\"background-color:#FFFAF0;\">\n",
    "    <tr>\n",
    "        <th> Abbreviation </th>\n",
    "        <th> Description </th>\n",
    "        <th> Widget Class</th>\n",
    "    </tr>\n",
    "    <tr>\n",
    "        <td> _key=(start, end, step)_, where _start_, _end_ and _step_ are integers</td>\n",
    "        <td> An integer slider widget </td>\n",
    "        <td>  IntSlideWidget </td>\n",
    "    </tr>\n",
    "    <tr>\n",
    "        <td> _key=(start, end, step)_, where _start_, _end_ and _step_ are floats</td>\n",
    "        <td> A float slider widget. </td>\n",
    "        <td>  FloatSlideWidget </td>\n",
    "    </tr>\n",
    "    <tr>\n",
    "        <td> _key='string'_</td>\n",
    "        <td> A text box that can be edited by the user </td>\n",
    "        <td> TextWidget </td>\n",
    "    </tr>\n",
    "    <tr>\n",
    "        <td> _key=True_ or _key=False_</td> \n",
    "        <td> A check box </td>\n",
    "        <td> CheckboxWidget </td>\n",
    "    </tr>\n",
    "    <tr>\n",
    "        <td> _key=['List', 'of', 'strings']_</td>\n",
    "        <td> A selection box</td>\n",
    "        <td> SelectWidget </td>\n",
    "    </tr>\n",
    "</table>\n",
    "\n",
    "Each time a widget in the interface changes, `interact()` creates a dictionary with a key/value pair corresponding to each widgets. Then, it calls the callback, passing the dictionary as ``**kwargs``.\n",
    "\n",
    "(Note: we assign the return value of `interact()` to the dummy variable `_i` to prevent an annoying text output.)"
   ]
  },
  {
   "cell_type": "markdown",
   "metadata": {},
   "source": [
    "## Step 2"
   ]
  },
  {
   "cell_type": "markdown",
   "metadata": {},
   "source": [
    "Using abbreviations to define widgets has some severe limitations: the widget key must be a valid Python identifier; not all kinds of widgets are available as abbreviations; and the layout of the widgets cannot be changed.\n",
    "\n",
    "In our example, the variable `n` is used to represent the number of terms in the Fourier series approximation. We would like to use a more descriptive name for the integer slide widget controlling `n`.\n",
    "\n",
    "We first change the callback in the following way:"
   ]
  },
  {
   "cell_type": "code",
   "execution_count": 28,
   "metadata": {
    "collapsed": false
   },
   "outputs": [],
   "source": [
    "def plot_fourier_series(**kwargs):\n",
    "    n = kwargs['Number of terms:']\n",
    "    print 'The number of terms is: {:d}'.format(n)"
   ]
  },
  {
   "cell_type": "markdown",
   "metadata": {},
   "source": [
    "The key corresponding to a widget in the dictionary `kwargs` is set in the `description` property of the widget. This is how the call to `interact()` is modified:"
   ]
  },
  {
   "cell_type": "code",
   "execution_count": 29,
   "metadata": {
    "collapsed": false
   },
   "outputs": [
    {
     "ename": "KeyError",
     "evalue": "'Number of terms:'",
     "output_type": "error",
     "traceback": [
      "\u001b[1;31m---------------------------------------------------------------------------\u001b[0m",
      "\u001b[1;31mKeyError\u001b[0m                                  Traceback (most recent call last)",
      "\u001b[1;32m<ipython-input-28-d3a24361327a>\u001b[0m in \u001b[0;36mplot_fourier_series\u001b[1;34m(**kwargs)\u001b[0m\n\u001b[0;32m      1\u001b[0m \u001b[1;32mdef\u001b[0m \u001b[0mplot_fourier_series\u001b[0m\u001b[1;33m(\u001b[0m\u001b[1;33m**\u001b[0m\u001b[0mkwargs\u001b[0m\u001b[1;33m)\u001b[0m\u001b[1;33m:\u001b[0m\u001b[1;33m\u001b[0m\u001b[0m\n\u001b[1;32m----> 2\u001b[1;33m     \u001b[0mn\u001b[0m \u001b[1;33m=\u001b[0m \u001b[0mkwargs\u001b[0m\u001b[1;33m[\u001b[0m\u001b[1;34m'Number of terms:'\u001b[0m\u001b[1;33m]\u001b[0m\u001b[1;33m\u001b[0m\u001b[0m\n\u001b[0m\u001b[0;32m      3\u001b[0m     \u001b[1;32mprint\u001b[0m \u001b[1;34m'The number of terms is: {:d}'\u001b[0m\u001b[1;33m.\u001b[0m\u001b[0mformat\u001b[0m\u001b[1;33m(\u001b[0m\u001b[0mn\u001b[0m\u001b[1;33m)\u001b[0m\u001b[1;33m\u001b[0m\u001b[0m\n",
      "\u001b[1;31mKeyError\u001b[0m: 'Number of terms:'"
     ]
    }
   ],
   "source": [
    "_i = interact(plot_fourier_series,\n",
    "              n=widgets.IntSliderWidget(description='Number of terms:',\n",
    "                                        min=1, max=20, value=5))"
   ]
  },
  {
   "cell_type": "markdown",
   "metadata": {},
   "source": [
    "Notice the call to the constructor `IntSliderWidget`. Besides setting the `description` property, we also set the properties characterizing the minimum, maximum and initial value of the slider. The available widgets and properties will be dealt with in a future tutorial."
   ]
  },
  {
   "cell_type": "markdown",
   "metadata": {},
   "source": [
    "## Step 3"
   ]
  },
  {
   "cell_type": "markdown",
   "metadata": {},
   "source": [
    "We are now ready to create the first version of the `interact()` that does something interesting. All we need to do is change the callback so that a graph of the Fourier series is produced:"
   ]
  },
  {
   "cell_type": "code",
   "execution_count": null,
   "metadata": {
    "collapsed": false
   },
   "outputs": [],
   "source": [
    "def plot_fourier_series(**kwargs):\n",
    "    n = kwargs['Number of terms:']\n",
    "    pi = np.pi\n",
    "    xbound = pi\n",
    "    ybound = 1.5\n",
    "    plt.figure(figsize=(7,5))\n",
    "    plt.subplot(1, 1, 1, axisbg='FloralWhite')\n",
    "    plt.axis([-xbound, xbound, -ybound, ybound])\n",
    "    x = np.linspace(-xbound, xbound, 300)\n",
    "    f = np.piecewise(x, [x < 0, x >= 0], [-1, 1])\n",
    "    fs_terms = (4.0 / pi) * np.array([np.sin((2 * k + 1) * x) / (2 * k + 1) \n",
    "                                      for k in range(n)])\n",
    "    fs = np.sum(fs_terms,0)\n",
    "    plt.plot(x, f, lw = 2, color='Green')\n",
    "    plt.plot(x, fs, lw = 2.5, color='DarkRed', alpha=0.75)\n",
    "    plt.axhline(color='Gray')\n",
    "    plt.title('Fourier Series of a square wave, {:d} terms'.format(n))"
   ]
  },
  {
   "cell_type": "markdown",
   "metadata": {},
   "source": [
    "In this version, the callback computes the Fourier series for a square wave. Most of the code consists of calls to `matplotlib.pyplot` functions (imported as `plt`). The square wave and the Fourier approximation are computed in the lines:\n",
    "\n",
    "    x = np.linspace(-xbound, xbound, 300)\n",
    "    f = np.piecewise(x, [x < 0, x >= 0], [-1, 1])\n",
    "    fs_terms = (4.0 / pi) * np.array([np.sin((2 * k + 1) * x) / (2 * k + 1) \n",
    "                                      for k in range(n)])\n",
    "    fs = np.sum(fs_terms,0)\n",
    "\n",
    "This is a straightforward `numpy` implementation of the formula:\n",
    "$$\n",
    "\\frac{4}{\\pi}\\sum_{k=0}^{\\infty}\\frac{\\sin((2k+1)x)}{2k+1},\n",
    "$$\n",
    "truncated to the first _n_. There are no changes at all to the `interact()` call:"
   ]
  },
  {
   "cell_type": "code",
   "execution_count": null,
   "metadata": {
    "collapsed": false
   },
   "outputs": [],
   "source": [
    "_i = interact(plot_fourier_series,\n",
    "               n=widgets.IntSliderWidget(description='n',\n",
    "                                         min=1, max=20, value=5))"
   ]
  },
  {
   "cell_type": "markdown",
   "metadata": {},
   "source": [
    "## Step 4"
   ]
  },
  {
   "cell_type": "markdown",
   "metadata": {},
   "source": [
    "We now want to change the demo to include two more functions: a triangular wave, and a sawtooth wave. The code of the callback becomes somewhat more complex:"
   ]
  },
  {
   "cell_type": "code",
   "execution_count": null,
   "metadata": {
    "collapsed": false
   },
   "outputs": [],
   "source": [
    "def plot_fourier_series(**kwargs):\n",
    "    n = kwargs['Number of terms:']\n",
    "    wave_type = kwargs['Function:']\n",
    "    pi = np.pi\n",
    "    xbound = pi\n",
    "    ybound = 1.75\n",
    "    plt.figure(figsize=(7,5))\n",
    "    plt.subplot(1, 1, 1, axisbg='FloralWhite')\n",
    "    plt.axis([-xbound, xbound, -ybound, ybound])\n",
    "    x = np.linspace(-xbound, xbound, 300)\n",
    "    if wave_type == 'Square wave':\n",
    "        f = np.piecewise(x, [x < 0, x >= 0], [-1, 1])\n",
    "        fs_terms = (4.0/pi) * np.array([np.sin((2*k+1)*x) / (2*k+1) \n",
    "                                        for k in range(n)])\n",
    "    elif wave_type == 'Triangular wave':\n",
    "        f = (2.0/pi) * np.piecewise(x, [x < -pi/2, (-pi/2 <= x) & (x < pi/2), x >= pi/2],\n",
    "                         [lambda u: -pi-u, lambda u: u, lambda u: pi-u])\n",
    "        fs_terms = (8/pi**2) * np.array([(-1)**k * np.sin((2*k+1)*x) / (2*k+1)**2 \n",
    "                                         for k in range(n)])\n",
    "    else:\n",
    "        f = np.piecewise(x, [x < 0, x >=0], \n",
    "                         [lambda u: -1-u/pi, lambda u:1-u/pi])\n",
    "        fs_terms = (2/pi) * np.array([np.sin(k*x) / k \n",
    "                                      for k in range(1,n+1)])\n",
    "    fs =  np.sum(fs_terms,0)\n",
    "    plt.plot(x, f, lw = 2, color='Green')\n",
    "    plt.plot(x, fs, lw = 2.5, color='DarkRed', alpha=0.75)\n",
    "    plt.axhline(color='Gray')\n",
    "    plt.title('Fourier Series of a {:s}, {:d} terms'.format(wave_type.lower(),n))"
   ]
  },
  {
   "cell_type": "markdown",
   "metadata": {},
   "source": [
    "The formulas we are using to compute the Fourier series are:\n",
    "$$\n",
    "\\text{Triangular wave:}\\quad \\frac{8}{\\pi^2} \\sum_{k=0}^{\\infty} \\frac{(-1)^k\\sin((2k+1)x)}{(2k+1)^2}\n",
    "$$\n",
    "$$\n",
    "\\text{Sawtooth wave:}\\quad \\frac{2}{\\pi} \\sum_{k=1}^{\\infty} \\frac{\\sin(kx)}{k}\n",
    "$$\n",
    "The call to interact now contains the specification of a `RadioButtonWidget`:"
   ]
  },
  {
   "cell_type": "code",
   "execution_count": null,
   "metadata": {
    "collapsed": false
   },
   "outputs": [],
   "source": [
    "_i = interact(plot_fourier_series,\n",
    "              n=widgets.IntSliderWidget(description='n',\n",
    "                                        min=1, max=20, value=5),\n",
    "              b=widgets.RadioButtonsWidget(description='Function',\n",
    "                                           values=['Square wave',\n",
    "                                                   'Triangular wave',\n",
    "                                                   'Sawtooth wave']))"
   ]
  },
  {
   "cell_type": "markdown",
   "metadata": {},
   "source": [
    "Notice the curious fact that the order in which the widgets appear is not the same as they were specified in `interact()`. If you understand how Python function calls work, you know what is going on: the keyword arguments in a function call are passed in a dictionary, and dictionaries in Python are not ordered.\n",
    "\n",
    "In the next tutorial we will cover the full range of widgets, and see how do more precise layouts."
   ]
  },
  {
   "cell_type": "code",
   "execution_count": null,
   "metadata": {
    "collapsed": false
   },
   "outputs": [],
   "source": []
  }
 ],
 "metadata": {
  "kernelspec": {
   "display_name": "Python 2",
   "language": "python",
   "name": "python2"
  },
  "language_info": {
   "codemirror_mode": {
    "name": "ipython",
    "version": 2
   },
   "file_extension": ".py",
   "mimetype": "text/x-python",
   "name": "python",
   "nbconvert_exporter": "python",
   "pygments_lexer": "ipython2",
   "version": "2.7.6"
  }
 },
 "nbformat": 4,
 "nbformat_minor": 0
}
