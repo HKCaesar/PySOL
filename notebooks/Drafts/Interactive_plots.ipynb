{
 "cells": [
  {
   "cell_type": "markdown",
   "metadata": {},
   "source": [
    "# Interactive colorbar"
   ]
  },
  {
   "cell_type": "code",
   "execution_count": null,
   "metadata": {
    "collapsed": true
   },
   "outputs": [],
   "source": [
    "# http://www.ster.kuleuven.be/~pieterd/python/html/plotting/interactive_colorbar.html"
   ]
  },
  {
   "cell_type": "code",
   "execution_count": null,
   "metadata": {
    "collapsed": false
   },
   "outputs": [],
   "source": [
    "import pylab as plt\n",
    "import numpy as np\n",
    "from scipy.ndimage import gaussian_filter\n",
    "import mynormalize"
   ]
  },
  {
   "cell_type": "code",
   "execution_count": 11,
   "metadata": {
    "collapsed": true
   },
   "outputs": [],
   "source": [
    "class DraggableColorbar(object):\n",
    "    def __init__(self, cbar, mappable):\n",
    "        self.cbar = cbar\n",
    "        self.mappable = mappable\n",
    "        self.press = None\n",
    "        self.cycle = sorted([i for i in dir(plt.cm) if hasattr(getattr(plt.cm,i),'N')])\n",
    "        self.index = self.cycle.index(cbar.get_cmap().name)\n",
    "\n",
    "    def connect(self):\n",
    "        \"\"\"connect to all the events we need\"\"\"\n",
    "        self.cidpress = self.cbar.patch.figure.canvas.mpl_connect(\n",
    "            'button_press_event', self.on_press)\n",
    "        self.cidrelease = self.cbar.patch.figure.canvas.mpl_connect(\n",
    "            'button_release_event', self.on_release)\n",
    "        self.cidmotion = self.cbar.patch.figure.canvas.mpl_connect(\n",
    "            'motion_notify_event', self.on_motion)\n",
    "        self.keypress = self.cbar.patch.figure.canvas.mpl_connect(\n",
    "            'key_press_event', self.key_press)\n",
    "\n",
    "    def on_press(self, event):\n",
    "        \"\"\"on button press we will see if the mouse is over us and store some data\"\"\"\n",
    "        if event.inaxes != self.cbar.ax: return\n",
    "        self.press = event.x, event.y\n",
    "\n",
    "    def key_press(self, event):\n",
    "        if event.key=='down':\n",
    "            self.index += 1\n",
    "        elif event.key=='up':\n",
    "            self.index -= 1\n",
    "        if self.index<0:\n",
    "            self.index = len(self.cycle)\n",
    "        elif self.index>=len(self.cycle):\n",
    "            self.index = 0\n",
    "        cmap = self.cycle[self.index]\n",
    "        self.cbar.set_cmap(cmap)\n",
    "        self.cbar.draw_all()\n",
    "        self.mappable.set_cmap(cmap)\n",
    "        self.mappable.get_axes().set_title(cmap)\n",
    "        self.cbar.patch.figure.canvas.draw()\n",
    "\n",
    "    def on_motion(self, event):\n",
    "        'on motion we will move the rect if the mouse is over us'\n",
    "        if self.press is None: return\n",
    "        if event.inaxes != self.cbar.ax: return\n",
    "        xprev, yprev = self.press\n",
    "        dx = event.x - xprev\n",
    "        dy = event.y - yprev\n",
    "        self.press = event.x,event.y\n",
    "        #print 'x0=%f, xpress=%f, event.xdata=%f, dx=%f, x0+dx=%f'%(x0, xpress, event.xdata, dx, x0+dx)\n",
    "        scale = self.cbar.norm.vmax - self.cbar.norm.vmin\n",
    "        perc = 0.03\n",
    "        if event.button==1:\n",
    "            self.cbar.norm.vmin -= (perc*scale)*np.sign(dy)\n",
    "            self.cbar.norm.vmax -= (perc*scale)*np.sign(dy)\n",
    "        elif event.button==3:\n",
    "            self.cbar.norm.vmin -= (perc*scale)*np.sign(dy)\n",
    "            self.cbar.norm.vmax += (perc*scale)*np.sign(dy)\n",
    "        self.cbar.draw_all()\n",
    "        self.mappable.set_norm(self.cbar.norm)\n",
    "        self.cbar.patch.figure.canvas.draw()\n",
    "\n",
    "\n",
    "    def on_release(self, event):\n",
    "        \"\"\"on release we reset the press data\"\"\"\n",
    "        self.press = None\n",
    "        self.mappable.set_norm(self.cbar.norm)\n",
    "        self.cbar.patch.figure.canvas.draw()\n",
    "\n",
    "    def disconnect(self):\n",
    "        \"\"\"disconnect all the stored connection ids\"\"\"\n",
    "        self.cbar.patch.figure.canvas.mpl_disconnect(self.cidpress)\n",
    "        self.cbar.patch.figure.canvas.mpl_disconnect(self.cidrelease)\n",
    "        self.cbar.patch.figure.canvas.mpl_disconnect(self.cidmotion)"
   ]
  },
  {
   "cell_type": "code",
   "execution_count": 12,
   "metadata": {
    "collapsed": false
   },
   "outputs": [],
   "source": [
    "np.random.seed(1111)\n",
    "\n",
    "# Create empty image\n",
    "nx, ny = 2560, 2560\n",
    "image = np.zeros((ny, nx))\n",
    "\n",
    "# Set number of stars\n",
    "n = 10000\n",
    "\n",
    "# Generate random positions\n",
    "r = np.random.random(n) * nx\n",
    "theta = np.random.uniform(0., 2. * np.pi, n)\n",
    "\n",
    "# Generate random fluxes\n",
    "f = np.random.random(n) ** 2\n",
    "\n",
    "# Compute position\n",
    "x = nx / 2 + r * np.cos(theta)\n",
    "y = ny / 2 + r * np.sin(theta)\n",
    "\n",
    "# Add stars to image\n",
    "# ==> First for loop and if statement <==\n",
    "for i in range(n):\n",
    "    if x[i] >= 0 and x[i] < nx and y[i] >= 0 and y[i] < ny:\n",
    "        image[y[i], x[i]] += f[i]\n",
    "\n",
    "# Convolve with a gaussian\n",
    "image = gaussian_filter(image, 1)\n",
    "# Add noise\n",
    "image += np.random.normal(3., 0.01, image.shape)\n",
    "img = plt.imshow(image,cmap=plt.cm.spectral)\n",
    "cbar = plt.colorbar(format='%05.2f')\n",
    "cbar.set_norm(mynormalize.MyNormalize(vmin=image.min(),vmax=image.max(),stretch='linear'))\n",
    "cbar = DraggableColorbar(cbar,img)\n",
    "cbar.connect()\n",
    "\n",
    "plt.show()"
   ]
  },
  {
   "cell_type": "code",
   "execution_count": null,
   "metadata": {
    "collapsed": true
   },
   "outputs": [],
   "source": []
  },
  {
   "cell_type": "code",
   "execution_count": null,
   "metadata": {
    "collapsed": true
   },
   "outputs": [],
   "source": []
  }
 ],
 "metadata": {
  "kernelspec": {
   "display_name": "Python 2",
   "language": "python",
   "name": "python2"
  },
  "language_info": {
   "codemirror_mode": {
    "name": "ipython",
    "version": 2
   },
   "file_extension": ".py",
   "mimetype": "text/x-python",
   "name": "python",
   "nbconvert_exporter": "python",
   "pygments_lexer": "ipython2",
   "version": "2.7.6"
  }
 },
 "nbformat": 4,
 "nbformat_minor": 0
}
