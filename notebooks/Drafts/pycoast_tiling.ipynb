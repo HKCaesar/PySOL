{
 "cells": [
  {
   "cell_type": "code",
   "execution_count": 1,
   "metadata": {
    "collapsed": false
   },
   "outputs": [],
   "source": [
    "from pylab import *\n",
    "from matplotlib.pyplot import imshow\n",
    "import numpy as np\n",
    "\n",
    "%matplotlib inline\n",
    "\n",
    "from PIL import Image\n",
    "import pyresample\n",
    "from pycoast import ContourWriter\n",
    "\n",
    "from osgeo import gdal, osr\n",
    "from gdalconst import * "
   ]
  },
  {
   "cell_type": "markdown",
   "metadata": {},
   "source": [
    "### Default values and Proj defenition"
   ]
  },
  {
   "cell_type": "code",
   "execution_count": 25,
   "metadata": {
    "collapsed": false
   },
   "outputs": [
    {
     "name": "stdout",
     "output_type": "stream",
     "text": [
      "152 152.500230045 f (65536, 65536)\n"
     ]
    }
   ],
   "source": [
    "# res = 30 # 30m <-> 1:100000\n",
    "# Set possible rounded resolution in meters\n",
    "resM = 200\n",
    "\n",
    "# area_extent = [-5000000, -5000000, 5000000, 5000000]\n",
    "# For some reason the extent is shifted a bit which is very well seen on high res data <305m\n",
    "# Correcting the extent for both Gray_Earth and GSHHS\n",
    "from pyproj import Proj, transform\n",
    "inProj = Proj(init='epsg:4326')\n",
    "outProj = Proj(init='epsg:3413')\n",
    "x2,y2 = 90, 90-0.01666666666667\n",
    "x2,y2 = transform(inProj,outProj,x2,y2)\n",
    "# xmin ymin xmax ymax\n",
    "area_extent = (-5000000, -5000000 + 4.5*y2, 5000000 - 4.5*x2, 5000000)\n",
    "\n",
    "# get list of available resolutions\n",
    "avail_resolution_list = [int(256*math.pow(2, i)) for i in range(15)]\n",
    "\n",
    "# get first guess size of area\n",
    "# size = int(256*math.pow(2, 14)/res)\n",
    "_size = abs(int(area_extent[0] - area_extent[2]) / resM)\n",
    "\n",
    "# get closest size of area from available resolutions list\n",
    "size = min(filter(lambda x: _size <= x,\n",
    "                              avail_resolution_list))\n",
    "\n",
    "if 1000 < resM <= 100000:\n",
    "    res = 'i'\n",
    "elif 350 < resM <= 1000:\n",
    "    res = 'h'\n",
    "elif 10 < resM <= 350:\n",
    "    res = 'f'\n",
    "\n",
    "area_def = pyresample.geometry.AreaDefinition(\n",
    "           'epsg_3413_crude', 'NSIDC Polar Stereographic North EPSG:3413',\n",
    "           'epsg_3413_crude',\n",
    "           {'proj': 'stere', 'lat_0': '90',\n",
    "            'lon_0': '-45', 'lat_ts': '70', 'ellps': 'WGS84',\n",
    "            'datum': 'WGS84', 'units': 'm'}, size, size,\n",
    "           area_extent\n",
    "       )\n",
    "\n",
    "# get the resolution from area_def\n",
    "resM = int(area_def.pixel_size_x)\n",
    "# resM = 610\n",
    "print resM, area_def.pixel_size_x, res, area_def.shape"
   ]
  },
  {
   "cell_type": "markdown",
   "metadata": {},
   "source": [
    "### Func Defenitions"
   ]
  },
  {
   "cell_type": "code",
   "execution_count": 3,
   "metadata": {
    "collapsed": false
   },
   "outputs": [],
   "source": [
    "def tiff2areadef(projection, geotransform, shape):\n",
    "    # Rewamp projection\n",
    "    srs = osr.SpatialReference()\n",
    "    srs.ImportFromWkt(projection)\n",
    "    proj4 = srs.ExportToProj4()\n",
    "#     proj4 = srs.ExportToProj4() + '+units=deg'\n",
    "    proj4_dict = {}\n",
    "    for i in proj4.replace('+', '').split():\n",
    "        try:\n",
    "            key, val = [v.strip() for v in i.split('=')]\n",
    "        except ValueError:\n",
    "            continue        \n",
    "        proj4_dict[key] = val\n",
    "\n",
    "#     area_extent = [geotransform[0] + geotransform[1]/2,\n",
    "#                    geotransform[3] + geotransform[5]*shape[0] - geotransform[5]/2,\n",
    "#                    geotransform[0] + geotransform[1]*shape[1],\n",
    "#                    geotransform[3]]\n",
    "\n",
    "#     area_extent = [geotransform[0],\n",
    "#                    geotransform[3] + geotransform[5]*shape[0],\n",
    "#                    geotransform[0] + geotransform[1]*shape[1] - geotransform[1]/2,\n",
    "#                    geotransform[3] + geotransform[5]/2]\n",
    "\n",
    "#     area_extent = [geotransform[0] + geotransform[1]/2,\n",
    "#                    geotransform[3] + geotransform[5]*shape[0] - geotransform[5]/2,\n",
    "#                    geotransform[0] + geotransform[1]*shape[1] - geotransform[1]/2,\n",
    "#                    geotransform[3] + geotransform[5]/2]\n",
    "\n",
    "    area_extent = [geotransform[0],\n",
    "                   geotransform[3] + geotransform[5]*shape[0],\n",
    "                   geotransform[0] + geotransform[1]*shape[1],\n",
    "                   geotransform[3]]\n",
    "\n",
    "#     area_extent = [geotransform[0],\n",
    "#                    geotransform[3] + geotransform[5]*(shape[0]+.5),\n",
    "#                    geotransform[0] + geotransform[1]*(shape[1]+.5),\n",
    "#                    geotransform[3]]\n",
    "\n",
    "    aid = proj4_dict['proj']\n",
    "    if aid.lower() == 'utm':\n",
    "        aid += proj4_dict['zone']\n",
    "    # give it some kind of ID\n",
    "    aname = aid + '_' + str(int(sum(geotransform)/1000.))\n",
    "    \n",
    "    area_def = pyresample.utils.get_area_def(aname, aname, aid,\n",
    "                                         proj4_dict,\n",
    "                                         shape[1], shape[0],\n",
    "                                         area_extent)\n",
    "\n",
    "    return area_def\n"
   ]
  },
  {
   "cell_type": "code",
   "execution_count": 4,
   "metadata": {
    "collapsed": true
   },
   "outputs": [],
   "source": [
    "def read_geotiff(filename):\n",
    "    dst = gdal.Open(filename, GA_ReadOnly)\n",
    "\n",
    "    #\n",
    "    # Dataset information\n",
    "    #\n",
    "    geotransform = dst.GetGeoTransform()\n",
    "    projection = dst.GetProjection()\n",
    "    metadata = dst.GetMetadata()\n",
    "\n",
    "    #\n",
    "    # Fetching raster data\n",
    "    #\n",
    "    band = dst.GetRasterBand(1)\n",
    "    shape = (dst.RasterYSize, dst.RasterXSize)\n",
    "\n",
    "    data = band.ReadAsArray(0, 0, shape[1], shape[0])\n",
    "\n",
    "    params = dict((('geotransform', geotransform),\n",
    "                   ('projection', projection),\n",
    "                   ('metadata', metadata)))\n",
    "\n",
    "    return params, data"
   ]
  },
  {
   "cell_type": "markdown",
   "metadata": {},
   "source": [
    "## Natural earth"
   ]
  },
  {
   "cell_type": "markdown",
   "metadata": {},
   "source": [
    "### gdalwarp geotiff to epsg 3413"
   ]
  },
  {
   "cell_type": "code",
   "execution_count": 5,
   "metadata": {
    "collapsed": false
   },
   "outputs": [],
   "source": [
    "# # cd /nfs/store/auxdata/coastline/GRAY_HR_SR_OB_DR/\n",
    "# # cp GRAY_HR_SR_OB_DR.tif source.tif\n",
    "# # gdalwarp -t_srs EPSG:3413 -co TILED=NO -te -5000000 -5000000 5000000 5000000 -tr 500 500 -multi -dstnodata \"0\" source.tif source_crop.tif\n",
    "\n",
    "# import subprocess\n",
    "# import os\n",
    "\n",
    "# # start = 'gdalwarp -overwrite -t_srs EPSG:3413 -co TILED=NO -te -5000000 -5000000 5000000 5000000 -tr 500 500 -multi -dstnodata \"0\" '\n",
    "\n",
    "# # opt=\"+proj=stere +lat_0=90 +lat_ts=70 +lon_0=-45 +k=1 +x_0=0 +y_0=0 +datum=WGS84 +units=m +no_defs\"\n",
    "# # start = 'gdalwarp -overwrite -t_srs %s -te -5000000 -5000000 5000000 5000000 -ts %s %s -multi -dstnodata \"0\" ' % (opt, size, size)\n",
    "\n",
    "# # -te xmin ymin xmax ymax\n",
    "# # Correcting the extent to avoid shift while warping\n",
    "# extent = ('-5000000 ' + str(-5000000 + 4.5*y2) + ' ' + str(5000000 - 4.5*x2) + ' 5000000')\n",
    "\n",
    "# # First generate 305m resolution image - 32768,32768\n",
    "# start610 = 'gdalwarp -overwrite -r lanczos -of GTiff -s_srs EPSG:4326 -t_srs EPSG:3413 -te %s -ts %s %s -multi -dstnodata \"0\" ' % (extent, 16384, 16384)\n",
    "# in_file = '/nfs/store/auxdata/coastline/GRAY_HR_SR_OB_DR/GRAY_HR_SR_OB_DR.tif'\n",
    "# out_file610 = '/nfs/store/auxdata/coastline/GRAY_HR_SR_OB_DR/source%s.tif' % (610)\n",
    "# fillnodata = 'gdal_fillnodata.py '\n",
    "\n",
    "# print start610 + in_file + ' ' + out_file610\n",
    "\n",
    "# if not os.path.isfile(out_file610):\n",
    "#     subprocess.call(r'%s %s %s' % (start610, in_file, out_file610),  shell=True )\n",
    "#     subprocess.call(r'%s %s %s' % (fillnodata, out_file610, out_file610),  shell=True )"
   ]
  },
  {
   "cell_type": "markdown",
   "metadata": {},
   "source": [
    "### Using gdalwarp to resize image"
   ]
  },
  {
   "cell_type": "code",
   "execution_count": 6,
   "metadata": {
    "collapsed": false
   },
   "outputs": [],
   "source": [
    "\n",
    "# cd /nfs/store/auxdata/coastline/GRAY_HR_SR_OB_DR/\n",
    "# cp GRAY_HR_SR_OB_DR.tif source.tif\n",
    "# gdalwarp -t_srs EPSG:3413 -co TILED=NO -te -5000000 -5000000 5000000 5000000 -tr 500 500 -multi -dstnodata \"0\" source.tif source_crop.tif\n",
    "\n",
    "import subprocess\n",
    "import os\n",
    "\n",
    "# start = 'gdalwarp -overwrite -t_srs EPSG:3413 -co TILED=NO -te -5000000 -5000000 5000000 5000000 -tr 500 500 -multi -dstnodata \"0\" '\n",
    "\n",
    "# opt=\"+proj=stere +lat_0=90 +lat_ts=70 +lon_0=-45 +k=1 +x_0=0 +y_0=0 +datum=WGS84 +units=m +no_defs\"\n",
    "# start = 'gdalwarp -overwrite -t_srs %s -te -5000000 -5000000 5000000 5000000 -ts %s %s -multi -dstnodata \"0\" ' % (opt, size, size)\n",
    "\n",
    "# -te xmin ymin xmax ymax\n",
    "# Correcting the extent to avoid shift while warping\n",
    "extent = ('-5000000 ' + str(-5000000 + 4.5*y2) + ' ' + str(5000000 - 4.5*x2) + ' 5000000')\n",
    "\n",
    "# First generate 305m resolution image - 32768,32768\n",
    "# start305 = 'gdalwarp -overwrite -r lanczos -of GTiff -s_srs EPSG:4326 -t_srs EPSG:3413 -te %s -ts %s %s -multi -dstnodata \"97\" ' % (extent, 32768, 32768)\n",
    "start1220 = 'gdalwarp -overwrite -r lanczos -of GTiff -s_srs EPSG:4326 -t_srs EPSG:3413 -te %s -ts %s %s -multi -dstnodata \"97\" ' % (extent, 8192, 8192)\n",
    "# Then resize the projected image\n",
    "start = 'gdalwarp -overwrite -r lanczos -of GTiff -s_srs EPSG:3413 -t_srs EPSG:3413 -ts %s %s -multi' % (size, size)\n",
    "# start = 'gdalwarp -overwrite -t_srs EPSG:3413 -co TILED=YES -te -5000000 -5000000 5000000 5000000 -multi -dstnodata \"0\" '\n",
    "\n",
    "in_file = '/nfs/store/auxdata/coastline/GRAY_HR_SR_OB_DR/GRAY_HR_SR_OB_DR.tif'\n",
    "# out_file305 = '/nfs/store/auxdata/coastline/GRAY_HR_SR_OB_DR/source%s.tif' % (305)\n",
    "out_file1220 = '/nfs/store/auxdata/coastline/GRAY_HR_SR_OB_DR/source%s.tif' % (1220)\n",
    "out_file = '/nfs/store/auxdata/coastline/GRAY_HR_SR_OB_DR/source%s.tif' % (resM)\n",
    "fillnodata = 'gdal_fillnodata.py '\n",
    "\n",
    "# if not os.path.isfile(out_file305):\n",
    "#     print start + in_file + ' ' +out_file\n",
    "#     subprocess.call(r'%s %s %s' % (start305, in_file, out_file305),  shell=True )\n",
    "#     subprocess.call(r'%s %s %s' % (fillnodata, out_file305, out_file305),  shell=True )\n",
    "# if not os.path.isfile(out_file):\n",
    "#     subprocess.call(r'%s %s %s' % (start, out_file305, out_file),  shell=True )\n",
    "if not os.path.isfile(out_file1220):\n",
    "    print start + in_file + ' ' +out_file\n",
    "    subprocess.call(r'%s %s %s' % (start1220, in_file, out_file1220),  shell=True )\n",
    "    subprocess.call(r'%s %s %s' % (fillnodata, out_file1220, out_file1220),  shell=True )\n",
    "if not os.path.isfile(out_file):\n",
    "    subprocess.call(r'%s %s %s' % (start, out_file1220, out_file),  shell=True )"
   ]
  },
  {
   "cell_type": "code",
   "execution_count": 7,
   "metadata": {
    "collapsed": true
   },
   "outputs": [],
   "source": [
    "# GRAY = '/media/SOLabNFS/store/auxdata/coastline/GRAY_HR_SR_OB_DR/GRAY_HR_SR_OB_DR.tif'\n",
    "GRAY = '/media/SOLabNFS/store/auxdata/coastline/GRAY_HR_SR_OB_DR/source%s.tif' % (resM)"
   ]
  },
  {
   "cell_type": "code",
   "execution_count": 8,
   "metadata": {
    "collapsed": false,
    "scrolled": true
   },
   "outputs": [],
   "source": [
    "params, data = read_geotiff(GRAY)\n",
    "msg_area = tiff2areadef(params['projection'],\n",
    "                        params['geotransform'],\n",
    "                        data.shape)"
   ]
  },
  {
   "cell_type": "markdown",
   "metadata": {},
   "source": [
    "### Using python to resize image"
   ]
  },
  {
   "cell_type": "code",
   "execution_count": 9,
   "metadata": {
    "collapsed": true
   },
   "outputs": [],
   "source": [
    "# GRAY = '/media/SOLabNFS/store/auxdata/coastline/GRAY_HR_SR_OB_DR/source610.tif'\n",
    "\n",
    "# data = Image.open(GRAY).convert(\"L\", colors=256)\n",
    "\n",
    "# data = data.resize((size, size), resample=Image.LANCZOS)\n",
    "\n",
    "# data = np.array(data)"
   ]
  },
  {
   "cell_type": "markdown",
   "metadata": {},
   "source": [
    "### Generate tiles"
   ]
  },
  {
   "cell_type": "code",
   "execution_count": 10,
   "metadata": {
    "collapsed": true
   },
   "outputs": [],
   "source": [
    "import sys\n",
    "import os\n",
    "\n",
    "sys.path.append('/home/mag/Documents/repos/solab/posada/handlers/')\n",
    "\n",
    "import Tiles.nctiles\n",
    "reload(Tiles.nctiles)\n",
    "\n",
    "from Tiles.nctiles import create_nc_tiles, write_attrib_to_nc"
   ]
  },
  {
   "cell_type": "code",
   "execution_count": 11,
   "metadata": {
    "collapsed": false
   },
   "outputs": [],
   "source": [
    "# imshow(data[::30,::30], vmin=0, vmax=255)\n",
    "# gray()\n",
    "# colorbar()"
   ]
  },
  {
   "cell_type": "code",
   "execution_count": 12,
   "metadata": {
    "collapsed": false
   },
   "outputs": [
    {
     "name": "stdout",
     "output_type": "stream",
     "text": [
      "Creating NC tiles.......\n"
     ]
    },
    {
     "ename": "KeyboardInterrupt",
     "evalue": "",
     "output_type": "error",
     "traceback": [
      "\u001b[1;31m---------------------------------------------------------------------------\u001b[0m",
      "\u001b[1;31mKeyboardInterrupt\u001b[0m                         Traceback (most recent call last)",
      "\u001b[1;32m<ipython-input-12-ef25ccdaede4>\u001b[0m in \u001b[0;36m<module>\u001b[1;34m()\u001b[0m\n\u001b[0;32m     12\u001b[0m \u001b[0mstartTime\u001b[0m \u001b[1;33m=\u001b[0m \u001b[0mdatetime\u001b[0m\u001b[1;33m.\u001b[0m\u001b[0mdate\u001b[0m\u001b[1;33m.\u001b[0m\u001b[0mtoday\u001b[0m\u001b[1;33m(\u001b[0m\u001b[1;33m)\u001b[0m\u001b[1;33m\u001b[0m\u001b[0m\n\u001b[0;32m     13\u001b[0m \u001b[1;33m\u001b[0m\u001b[0m\n\u001b[1;32m---> 14\u001b[1;33m \u001b[0mmax_zoom_level\u001b[0m \u001b[1;33m=\u001b[0m \u001b[0mcreate_nc_tiles\u001b[0m\u001b[1;33m(\u001b[0m\u001b[0mdata\u001b[0m\u001b[1;33m,\u001b[0m \u001b[0mnc_path\u001b[0m\u001b[1;33m,\u001b[0m \u001b[0mnc_data_type\u001b[0m\u001b[1;33m=\u001b[0m\u001b[1;34m'u1'\u001b[0m\u001b[1;33m)\u001b[0m\u001b[1;33m\u001b[0m\u001b[0m\n\u001b[0m\u001b[0;32m     15\u001b[0m write_attrib_to_nc(nc_path, area_extent, startTime,\n\u001b[0;32m     16\u001b[0m                    max_zoom_level, area_def.pixel_size_x)\n",
      "\u001b[1;32m/home/mag/Documents/repos/solab/posada/handlers/Tiles/nctiles.pyc\u001b[0m in \u001b[0;36mcreate_nc_tiles\u001b[1;34m(reprojected_array, nc_path, nc_data_type, variable, polarization, configpath, logger)\u001b[0m\n\u001b[0;32m    301\u001b[0m     out_array = generate_tiles_for_nc(source_array, zoom_level,\n\u001b[0;32m    302\u001b[0m                      \u001b[0m_min\u001b[0m\u001b[1;33m=\u001b[0m\u001b[0mmin_max_value\u001b[0m\u001b[1;33m[\u001b[0m\u001b[1;36m0\u001b[0m\u001b[1;33m]\u001b[0m\u001b[1;33m,\u001b[0m \u001b[0m_max\u001b[0m\u001b[1;33m=\u001b[0m\u001b[0mmin_max_value\u001b[0m\u001b[1;33m[\u001b[0m\u001b[1;36m1\u001b[0m\u001b[1;33m]\u001b[0m\u001b[1;33m,\u001b[0m\u001b[1;33m\u001b[0m\u001b[0m\n\u001b[1;32m--> 303\u001b[1;33m                      nc_data_type=nc_data_type, logger=logger)\n\u001b[0m\u001b[0;32m    304\u001b[0m \u001b[1;33m\u001b[0m\u001b[0m\n\u001b[0;32m    305\u001b[0m     \u001b[1;32mdel\u001b[0m \u001b[0msource_array\u001b[0m\u001b[1;33m,\u001b[0m \u001b[0mreprojected_array\u001b[0m\u001b[1;33m\u001b[0m\u001b[0m\n",
      "\u001b[1;32m/home/mag/Documents/repos/solab/posada/handlers/Tiles/nctiles.pyc\u001b[0m in \u001b[0;36mgenerate_tiles_for_nc\u001b[1;34m(input_array, zoom_level, _min, _max, nc_data_type, logger)\u001b[0m\n\u001b[0;32m    156\u001b[0m \u001b[1;33m\u001b[0m\u001b[0m\n\u001b[0;32m    157\u001b[0m                 \u001b[1;32mif\u001b[0m \u001b[0mnc_data_type\u001b[0m \u001b[1;33m==\u001b[0m \u001b[1;34m'u1'\u001b[0m\u001b[1;33m:\u001b[0m\u001b[1;33m\u001b[0m\u001b[0m\n\u001b[1;32m--> 158\u001b[1;33m                     \u001b[0mm\u001b[0m \u001b[1;33m=\u001b[0m \u001b[1;33m(\u001b[0m\u001b[0mm\u001b[0m\u001b[1;33m-\u001b[0m\u001b[0m_min\u001b[0m\u001b[1;33m)\u001b[0m\u001b[1;33m/\u001b[0m\u001b[0mfloat\u001b[0m\u001b[1;33m(\u001b[0m\u001b[0m_max\u001b[0m\u001b[1;33m-\u001b[0m\u001b[0m_min\u001b[0m\u001b[1;33m)\u001b[0m \u001b[1;33m*\u001b[0m \u001b[1;33m(\u001b[0m\u001b[1;36m2\u001b[0m\u001b[1;33m**\u001b[0m\u001b[1;36m8\u001b[0m\u001b[1;33m-\u001b[0m\u001b[1;36m2\u001b[0m\u001b[1;33m)\u001b[0m\u001b[1;33m\u001b[0m\u001b[0m\n\u001b[0m\u001b[0;32m    159\u001b[0m                     \u001b[0mm\u001b[0m \u001b[1;33m=\u001b[0m \u001b[0mnp\u001b[0m\u001b[1;33m.\u001b[0m\u001b[0mwhere\u001b[0m\u001b[1;33m(\u001b[0m\u001b[0mm\u001b[0m\u001b[1;33m.\u001b[0m\u001b[0mmask\u001b[0m\u001b[1;33m,\u001b[0m \u001b[1;33m(\u001b[0m\u001b[1;36m2\u001b[0m\u001b[1;33m**\u001b[0m\u001b[1;36m8\u001b[0m\u001b[1;33m-\u001b[0m\u001b[1;36m1\u001b[0m\u001b[1;33m)\u001b[0m\u001b[1;33m,\u001b[0m \u001b[0mm\u001b[0m\u001b[1;33m)\u001b[0m\u001b[1;33m\u001b[0m\u001b[0m\n\u001b[0;32m    160\u001b[0m                     \u001b[0mm\u001b[0m \u001b[1;33m=\u001b[0m \u001b[0mnp\u001b[0m\u001b[1;33m.\u001b[0m\u001b[0muint8\u001b[0m\u001b[1;33m(\u001b[0m\u001b[0mm\u001b[0m\u001b[1;33m)\u001b[0m\u001b[1;33m\u001b[0m\u001b[0m\n",
      "\u001b[1;32m/usr/local/lib/python2.7/dist-packages/numpy/ma/core.pyc\u001b[0m in \u001b[0;36m__mul__\u001b[1;34m(self, other)\u001b[0m\n\u001b[0;32m   3936\u001b[0m         \u001b[1;32mif\u001b[0m \u001b[0mself\u001b[0m\u001b[1;33m.\u001b[0m\u001b[0m_delegate_binop\u001b[0m\u001b[1;33m(\u001b[0m\u001b[0mother\u001b[0m\u001b[1;33m)\u001b[0m\u001b[1;33m:\u001b[0m\u001b[1;33m\u001b[0m\u001b[0m\n\u001b[0;32m   3937\u001b[0m             \u001b[1;32mreturn\u001b[0m \u001b[0mNotImplemented\u001b[0m\u001b[1;33m\u001b[0m\u001b[0m\n\u001b[1;32m-> 3938\u001b[1;33m         \u001b[1;32mreturn\u001b[0m \u001b[0mmultiply\u001b[0m\u001b[1;33m(\u001b[0m\u001b[0mself\u001b[0m\u001b[1;33m,\u001b[0m \u001b[0mother\u001b[0m\u001b[1;33m)\u001b[0m\u001b[1;33m\u001b[0m\u001b[0m\n\u001b[0m\u001b[0;32m   3939\u001b[0m \u001b[1;33m\u001b[0m\u001b[0m\n\u001b[0;32m   3940\u001b[0m     \u001b[1;32mdef\u001b[0m \u001b[0m__rmul__\u001b[0m\u001b[1;33m(\u001b[0m\u001b[0mself\u001b[0m\u001b[1;33m,\u001b[0m \u001b[0mother\u001b[0m\u001b[1;33m)\u001b[0m\u001b[1;33m:\u001b[0m\u001b[1;33m\u001b[0m\u001b[0m\n",
      "\u001b[1;32m/usr/local/lib/python2.7/dist-packages/numpy/ma/core.pyc\u001b[0m in \u001b[0;36m__call__\u001b[1;34m(self, a, b, *args, **kwargs)\u001b[0m\n\u001b[0;32m    998\u001b[0m \u001b[1;33m\u001b[0m\u001b[0m\n\u001b[0;32m    999\u001b[0m         \u001b[1;31m# Transforms to a (subclass of) MaskedArray\u001b[0m\u001b[1;33m\u001b[0m\u001b[1;33m\u001b[0m\u001b[0m\n\u001b[1;32m-> 1000\u001b[1;33m         \u001b[0mmasked_result\u001b[0m \u001b[1;33m=\u001b[0m \u001b[0mresult\u001b[0m\u001b[1;33m.\u001b[0m\u001b[0mview\u001b[0m\u001b[1;33m(\u001b[0m\u001b[0mget_masked_subclass\u001b[0m\u001b[1;33m(\u001b[0m\u001b[0ma\u001b[0m\u001b[1;33m,\u001b[0m \u001b[0mb\u001b[0m\u001b[1;33m)\u001b[0m\u001b[1;33m)\u001b[0m\u001b[1;33m\u001b[0m\u001b[0m\n\u001b[0m\u001b[0;32m   1001\u001b[0m         \u001b[0mmasked_result\u001b[0m\u001b[1;33m.\u001b[0m\u001b[0m_mask\u001b[0m \u001b[1;33m=\u001b[0m \u001b[0mm\u001b[0m\u001b[1;33m\u001b[0m\u001b[0m\n\u001b[0;32m   1002\u001b[0m         \u001b[1;32mif\u001b[0m \u001b[0misinstance\u001b[0m\u001b[1;33m(\u001b[0m\u001b[0ma\u001b[0m\u001b[1;33m,\u001b[0m \u001b[0mMaskedArray\u001b[0m\u001b[1;33m)\u001b[0m\u001b[1;33m:\u001b[0m\u001b[1;33m\u001b[0m\u001b[0m\n",
      "\u001b[1;32m/usr/local/lib/python2.7/dist-packages/numpy/ma/core.pyc\u001b[0m in \u001b[0;36m__array_finalize__\u001b[1;34m(self, obj)\u001b[0m\n\u001b[0;32m   2862\u001b[0m         \u001b[1;32mreturn\u001b[0m\u001b[1;33m\u001b[0m\u001b[0m\n\u001b[0;32m   2863\u001b[0m \u001b[1;33m\u001b[0m\u001b[0m\n\u001b[1;32m-> 2864\u001b[1;33m     \u001b[1;32mdef\u001b[0m \u001b[0m__array_finalize__\u001b[0m\u001b[1;33m(\u001b[0m\u001b[0mself\u001b[0m\u001b[1;33m,\u001b[0m \u001b[0mobj\u001b[0m\u001b[1;33m)\u001b[0m\u001b[1;33m:\u001b[0m\u001b[1;33m\u001b[0m\u001b[0m\n\u001b[0m\u001b[0;32m   2865\u001b[0m         \"\"\"\n\u001b[0;32m   2866\u001b[0m         \u001b[0mFinalizes\u001b[0m \u001b[0mthe\u001b[0m \u001b[0mmasked\u001b[0m \u001b[0marray\u001b[0m\u001b[1;33m.\u001b[0m\u001b[1;33m\u001b[0m\u001b[0m\n",
      "\u001b[1;31mKeyboardInterrupt\u001b[0m: "
     ]
    }
   ],
   "source": [
    "# def create_nc_tiles(inpath, fn, out_dir, scale=1):\n",
    "print \"Creating NC tiles.......\"\n",
    "\n",
    "pn = '/nfs1/store/nctiles/coastlines/'\n",
    "# pn = '/media/SOLabNFS/hyrax-cluster/data/public/allData/tzh/'\n",
    "\n",
    "nc_path = os.path.join(pn, 'Gray_Earth_epsg_3413_' + str(resM) + 'm.nc')\n",
    "\n",
    "if os.path.isfile(nc_path):\n",
    "    os.remove(nc_path)\n",
    "\n",
    "startTime = datetime.date.today()\n",
    "\n",
    "max_zoom_level = create_nc_tiles(data, nc_path, nc_data_type='u1')\n",
    "write_attrib_to_nc(nc_path, area_extent, startTime,\n",
    "                   max_zoom_level, area_def.pixel_size_x)\n",
    "\n",
    "print \"%sMb\" % str(np.round(os.path.getsize(nc_path)/1024/1024))\n",
    "\n",
    "del data, params, msg_area, GRAY"
   ]
  },
  {
   "cell_type": "code",
   "execution_count": null,
   "metadata": {
    "collapsed": true
   },
   "outputs": [],
   "source": []
  },
  {
   "cell_type": "code",
   "execution_count": null,
   "metadata": {
    "collapsed": true
   },
   "outputs": [],
   "source": [
    "# import numpy as np\n",
    "\n",
    "# # save it as a compressed .npz file\n",
    "# np.savez_compressed('data_compressed.npz', data=data)\n",
    "\n",
    "# # now load it as a numpy.lib.npyio.NpzFile object\n",
    "# obj = np.load('data_compressed.npz')\n",
    "\n",
    "# # contains a list of the stored arrays in the format '<name>.npy'\n",
    "# namelist = obj.zip.namelist()\n",
    "\n",
    "# # extract 'data.npy' into the current directory\n",
    "# obj.zip.extract(namelist[0])\n",
    "\n",
    "# # now we can open the array as a memmap\n",
    "# data_memmap = np.load(namelist[0], mmap_mode='r+')\n",
    "\n",
    "# # check that data and data_memmap are identical\n",
    "# assert np.all(data == data_memmap[:])"
   ]
  },
  {
   "cell_type": "code",
   "execution_count": null,
   "metadata": {
    "collapsed": true
   },
   "outputs": [],
   "source": []
  },
  {
   "cell_type": "markdown",
   "metadata": {},
   "source": [
    "## Contour GSHHS and Generate tiles"
   ]
  },
  {
   "cell_type": "code",
   "execution_count": 24,
   "metadata": {
    "collapsed": false
   },
   "outputs": [],
   "source": [
    "# cd ~/; [ -d pycoast ] && rm -rf pycoast;\n",
    "# git clone https://github.com/pytroll/pycoast.git\n",
    "# cd pycoast\n",
    "# # change _iterate_db in cw_base\n",
    "# # replace # for i in range(level): to add lakes support\n",
    "# # if type(level) == int:\n",
    "# #     level = range(level-1,level)\n",
    "# # for i in level:\n",
    "# sed -i 's/for i in range(level):/if type(level) == int:\\n            level = range(level-1,level)\\n        for i in level:/' pycoast/cw_base.py\n",
    "# python setup.py install --record files.txt # cat files.txt | xargs sudo rm -rf\n",
    "\n",
    "# from PIL import Image\n",
    "# from pycoast import ContourWriter\n",
    "\n",
    "# # land = (level == 1);\n",
    "# # lake = (level == 2);\n",
    "# # island = (level == 3)\n",
    "\n",
    "# img = Image.new(\"L\", (1280, 1280))\n",
    "# cw = ContourWriter('/media/SOLabNFS/store/auxdata/coastline')\n",
    "# cw.add_coastlines(img, area_def, resolution='l', fill=255, level=1, outline=0)\n",
    "# cw.add_coastlines(img, area_def, resolution='l', fill=0, level=2, outline=255)\n",
    "# cw.add_coastlines(img, area_def, resolution='l', fill=255, level=3, outline=0)\n",
    "# cw.add_rivers(img, area_def, resolution='l', level=range(11), outline=0)\n",
    "# img.show()"
   ]
  },
  {
   "cell_type": "code",
   "execution_count": 26,
   "metadata": {
    "collapsed": true
   },
   "outputs": [],
   "source": [
    "img = Image.new(\"L\", (size, size))\n",
    "\n",
    "cw = ContourWriter('/media/SOLabNFS/store/auxdata/coastline')\n",
    "cw.add_coastlines(img, area_def, resolution=res, fill=255, level=1, outline=0)\n",
    "cw.add_coastlines(img, area_def, resolution=res, fill=0, level=2, outline=255)\n",
    "cw.add_coastlines(img, area_def, resolution=res, fill=255, level=3, outline=0)\n",
    "cw.add_rivers(img, area_def, resolution=res, level=range(11), outline=0)\n",
    "\n",
    "# img.save('coast_test.png')\n",
    "\n",
    "# img = np.ma.masked_equal(img, 255)\n",
    "img = np.array(img)"
   ]
  },
  {
   "cell_type": "code",
   "execution_count": 27,
   "metadata": {
    "collapsed": false
   },
   "outputs": [
    {
     "data": {
      "text/plain": [
       "<matplotlib.colorbar.Colorbar at 0x7f8721925e50>"
      ]
     },
     "execution_count": 27,
     "metadata": {},
     "output_type": "execute_result"
    },
    {
     "data": {
      "image/png": "[encoded data removed]",
      "text/plain": [
       "<matplotlib.figure.Figure at 0x7f87218b1390>"
      ]
     },
     "metadata": {},
     "output_type": "display_data"
    }
   ],
   "source": [
    "imshow(img[::30,::30], vmin=0, vmax=255)\n",
    "gray()\n",
    "colorbar()"
   ]
  },
  {
   "cell_type": "code",
   "execution_count": 28,
   "metadata": {
    "collapsed": false
   },
   "outputs": [
    {
     "name": "stdout",
     "output_type": "stream",
     "text": [
      "Creating NC tiles.......\n",
      "80Mb\n"
     ]
    }
   ],
   "source": [
    "import sys\n",
    "import os\n",
    "\n",
    "sys.path.append('/home/mag/Documents/repos/solab/posada/handlers/')\n",
    "\n",
    "import Tiles.nctiles\n",
    "reload(Tiles.nctiles)\n",
    "\n",
    "from Tiles.nctiles import create_nc_tiles, write_attrib_to_nc\n",
    "\n",
    "# def create_nc_tiles(inpath, fn, out_dir, scale=1):\n",
    "print \"Creating NC tiles.......\"\n",
    "\n",
    "pn = '/nfs1/store/nctiles/coastlines/'\n",
    "# pn = '/media/SOLabNFS/hyrax-cluster/data/public/allData/tzh/'\n",
    "\n",
    "nc_path = os.path.join(pn, 'GSHHS_epsg_3413_' + str(resM) + 'm.nc')\n",
    "\n",
    "if os.path.isfile(nc_path):\n",
    "    os.remove(nc_path)\n",
    "\n",
    "startTime = datetime.date.today()\n",
    "\n",
    "max_zoom_level = create_nc_tiles(img, nc_path, nc_data_type='u1')\n",
    "write_attrib_to_nc(nc_path, area_extent, startTime,\n",
    "                   max_zoom_level, area_def.pixel_size_x)\n",
    "\n",
    "print \"%sMb\" % str(np.round(os.path.getsize(nc_path)/1024/1024))"
   ]
  },
  {
   "cell_type": "code",
   "execution_count": null,
   "metadata": {
    "collapsed": true
   },
   "outputs": [],
   "source": []
  },
  {
   "cell_type": "markdown",
   "metadata": {},
   "source": [
    "## Clear REDIS cache"
   ]
  },
  {
   "cell_type": "code",
   "execution_count": 30,
   "metadata": {
    "collapsed": false
   },
   "outputs": [
    {
     "name": "stdout",
     "output_type": "stream",
     "text": [
      "1033695\n"
     ]
    }
   ],
   "source": [
    "import redis\n",
    "r = redis.Redis(host='10.170.0.153', password='jM8vBgR4', db=0)\n",
    "print r.dbsize()\n",
    "try:\n",
    "    r.delete(*r.keys('*coast*'))\n",
    "except:\n",
    "    pass"
   ]
  },
  {
   "cell_type": "code",
   "execution_count": null,
   "metadata": {
    "collapsed": true
   },
   "outputs": [],
   "source": []
  },
  {
   "cell_type": "markdown",
   "metadata": {},
   "source": [
    "## Cache all"
   ]
  },
  {
   "cell_type": "code",
   "execution_count": 32,
   "metadata": {
    "collapsed": true
   },
   "outputs": [],
   "source": [
    "from urllib import urlopen"
   ]
  },
  {
   "cell_type": "code",
   "execution_count": 34,
   "metadata": {
    "collapsed": false
   },
   "outputs": [
    {
     "name": "stdout",
     "output_type": "stream",
     "text": [
      "Total number of files: 1\n",
      "Total number of zoom-level requests: 5461\n"
     ]
    }
   ],
   "source": [
    "import os\n",
    "from netCDF4 import Dataset as ncDataset\n",
    "\n",
    "# http://10.170.0.153/wms?product=coastline&granule=Gray_Earth_epsg_3413_152m&projection=EPSG%3A3413&vmin=0&vmax=255&zoom=4&x=4&y=8&colormap=gray\n",
    "\n",
    "pn = '/nfs1/store/nctiles/coastlines/'\n",
    "\n",
    "# granule_list = listdir(pn)\n",
    "granule_list = [os.path.join(dn,fn) for dn,_,fns in os.walk(pn) for fn in fns if fn.endswith('152m.nc')]\n",
    "\n",
    "# product = 'SOLAB-SENTINEL-1'\n",
    "product = 'coastline'\n",
    "\n",
    "urls = []\n",
    "coords = []\n",
    "\n",
    "x = y = 0\n",
    "\n",
    "print \"Total number of files: %s\" %len(granule_list)\n",
    "# for granule in granule_list:\n",
    "for granule in {granule_list[0]}:\n",
    "    if 'Gray_Earth_epsg_3413_152m' in granule:\n",
    "        colormaps = ['GnBu_r', 'gray', 'bwr']\n",
    "    else:\n",
    "        colormaps = ['gray']\n",
    "    dataset = ncDataset(granule)\n",
    "    coords = dataset.variables['Data'].shape\n",
    "    for cmap in colormaps:\n",
    "        # for zoom in range(coords[0]):\n",
    "        for zoom in range(7):\n",
    "            for x in range(2**zoom):\n",
    "                for y in range(2**zoom):\n",
    "                    urls.append(\n",
    "                        'http://ncwms.dev.solab.rshu.ru/wms?' +\n",
    "                        'product=' + product +\n",
    "                        '&granule=' + granule[31:-3] +\n",
    "                        '&projection=EPSG%3A3413' +\n",
    "                        '&vmin=0&vmax=255&' +\n",
    "                        'zoom=' + str(zoom) +\n",
    "                        '&x=' + str(x) +\n",
    "                        '&y=' + str(y) +\n",
    "                        '&colormap=' + cmap\n",
    "                    )\n",
    "    dataset.close()\n",
    "urls.sort()\n",
    "\n",
    "print \"Total number of zoom-level requests: %s\" %len(urls)"
   ]
  },
  {
   "cell_type": "code",
   "execution_count": 35,
   "metadata": {
    "collapsed": false
   },
   "outputs": [
    {
     "ename": "KeyboardInterrupt",
     "evalue": "",
     "output_type": "error",
     "traceback": [
      "\u001b[1;31m---------------------------------------------------------------------------\u001b[0m",
      "\u001b[1;31mKeyboardInterrupt\u001b[0m                         Traceback (most recent call last)",
      "\u001b[1;32m<ipython-input-35-e37efdb019fd>\u001b[0m in \u001b[0;36m<module>\u001b[1;34m()\u001b[0m\n\u001b[0;32m      1\u001b[0m \u001b[1;32mfor\u001b[0m \u001b[0mu\u001b[0m \u001b[1;32min\u001b[0m \u001b[0murls\u001b[0m\u001b[1;33m:\u001b[0m\u001b[1;33m\u001b[0m\u001b[0m\n\u001b[1;32m----> 2\u001b[1;33m     \u001b[0mrequest\u001b[0m \u001b[1;33m=\u001b[0m \u001b[0murlopen\u001b[0m\u001b[1;33m(\u001b[0m\u001b[0mu\u001b[0m\u001b[1;33m)\u001b[0m\u001b[1;33m\u001b[0m\u001b[0m\n\u001b[0m",
      "\u001b[1;32m/usr/lib/python2.7/urllib.pyc\u001b[0m in \u001b[0;36murlopen\u001b[1;34m(url, data, proxies)\u001b[0m\n\u001b[0;32m     85\u001b[0m         \u001b[0mopener\u001b[0m \u001b[1;33m=\u001b[0m \u001b[0m_urlopener\u001b[0m\u001b[1;33m\u001b[0m\u001b[0m\n\u001b[0;32m     86\u001b[0m     \u001b[1;32mif\u001b[0m \u001b[0mdata\u001b[0m \u001b[1;32mis\u001b[0m \u001b[0mNone\u001b[0m\u001b[1;33m:\u001b[0m\u001b[1;33m\u001b[0m\u001b[0m\n\u001b[1;32m---> 87\u001b[1;33m         \u001b[1;32mreturn\u001b[0m \u001b[0mopener\u001b[0m\u001b[1;33m.\u001b[0m\u001b[0mopen\u001b[0m\u001b[1;33m(\u001b[0m\u001b[0murl\u001b[0m\u001b[1;33m)\u001b[0m\u001b[1;33m\u001b[0m\u001b[0m\n\u001b[0m\u001b[0;32m     88\u001b[0m     \u001b[1;32melse\u001b[0m\u001b[1;33m:\u001b[0m\u001b[1;33m\u001b[0m\u001b[0m\n\u001b[0;32m     89\u001b[0m         \u001b[1;32mreturn\u001b[0m \u001b[0mopener\u001b[0m\u001b[1;33m.\u001b[0m\u001b[0mopen\u001b[0m\u001b[1;33m(\u001b[0m\u001b[0murl\u001b[0m\u001b[1;33m,\u001b[0m \u001b[0mdata\u001b[0m\u001b[1;33m)\u001b[0m\u001b[1;33m\u001b[0m\u001b[0m\n",
      "\u001b[1;32m/usr/lib/python2.7/urllib.pyc\u001b[0m in \u001b[0;36mopen\u001b[1;34m(self, fullurl, data)\u001b[0m\n\u001b[0;32m    206\u001b[0m         \u001b[1;32mtry\u001b[0m\u001b[1;33m:\u001b[0m\u001b[1;33m\u001b[0m\u001b[0m\n\u001b[0;32m    207\u001b[0m             \u001b[1;32mif\u001b[0m \u001b[0mdata\u001b[0m \u001b[1;32mis\u001b[0m \u001b[0mNone\u001b[0m\u001b[1;33m:\u001b[0m\u001b[1;33m\u001b[0m\u001b[0m\n\u001b[1;32m--> 208\u001b[1;33m                 \u001b[1;32mreturn\u001b[0m \u001b[0mgetattr\u001b[0m\u001b[1;33m(\u001b[0m\u001b[0mself\u001b[0m\u001b[1;33m,\u001b[0m \u001b[0mname\u001b[0m\u001b[1;33m)\u001b[0m\u001b[1;33m(\u001b[0m\u001b[0murl\u001b[0m\u001b[1;33m)\u001b[0m\u001b[1;33m\u001b[0m\u001b[0m\n\u001b[0m\u001b[0;32m    209\u001b[0m             \u001b[1;32melse\u001b[0m\u001b[1;33m:\u001b[0m\u001b[1;33m\u001b[0m\u001b[0m\n\u001b[0;32m    210\u001b[0m                 \u001b[1;32mreturn\u001b[0m \u001b[0mgetattr\u001b[0m\u001b[1;33m(\u001b[0m\u001b[0mself\u001b[0m\u001b[1;33m,\u001b[0m \u001b[0mname\u001b[0m\u001b[1;33m)\u001b[0m\u001b[1;33m(\u001b[0m\u001b[0murl\u001b[0m\u001b[1;33m,\u001b[0m \u001b[0mdata\u001b[0m\u001b[1;33m)\u001b[0m\u001b[1;33m\u001b[0m\u001b[0m\n",
      "\u001b[1;32m/usr/lib/python2.7/urllib.pyc\u001b[0m in \u001b[0;36mopen_http\u001b[1;34m(self, url, data)\u001b[0m\n\u001b[0;32m    344\u001b[0m         \u001b[1;32mfor\u001b[0m \u001b[0margs\u001b[0m \u001b[1;32min\u001b[0m \u001b[0mself\u001b[0m\u001b[1;33m.\u001b[0m\u001b[0maddheaders\u001b[0m\u001b[1;33m:\u001b[0m \u001b[0mh\u001b[0m\u001b[1;33m.\u001b[0m\u001b[0mputheader\u001b[0m\u001b[1;33m(\u001b[0m\u001b[1;33m*\u001b[0m\u001b[0margs\u001b[0m\u001b[1;33m)\u001b[0m\u001b[1;33m\u001b[0m\u001b[0m\n\u001b[0;32m    345\u001b[0m         \u001b[0mh\u001b[0m\u001b[1;33m.\u001b[0m\u001b[0mendheaders\u001b[0m\u001b[1;33m(\u001b[0m\u001b[0mdata\u001b[0m\u001b[1;33m)\u001b[0m\u001b[1;33m\u001b[0m\u001b[0m\n\u001b[1;32m--> 346\u001b[1;33m         \u001b[0merrcode\u001b[0m\u001b[1;33m,\u001b[0m \u001b[0merrmsg\u001b[0m\u001b[1;33m,\u001b[0m \u001b[0mheaders\u001b[0m \u001b[1;33m=\u001b[0m \u001b[0mh\u001b[0m\u001b[1;33m.\u001b[0m\u001b[0mgetreply\u001b[0m\u001b[1;33m(\u001b[0m\u001b[1;33m)\u001b[0m\u001b[1;33m\u001b[0m\u001b[0m\n\u001b[0m\u001b[0;32m    347\u001b[0m         \u001b[0mfp\u001b[0m \u001b[1;33m=\u001b[0m \u001b[0mh\u001b[0m\u001b[1;33m.\u001b[0m\u001b[0mgetfile\u001b[0m\u001b[1;33m(\u001b[0m\u001b[1;33m)\u001b[0m\u001b[1;33m\u001b[0m\u001b[0m\n\u001b[0;32m    348\u001b[0m         \u001b[1;32mif\u001b[0m \u001b[0merrcode\u001b[0m \u001b[1;33m==\u001b[0m \u001b[1;33m-\u001b[0m\u001b[1;36m1\u001b[0m\u001b[1;33m:\u001b[0m\u001b[1;33m\u001b[0m\u001b[0m\n",
      "\u001b[1;32m/usr/lib/python2.7/httplib.pyc\u001b[0m in \u001b[0;36mgetreply\u001b[1;34m(self, buffering)\u001b[0m\n\u001b[0;32m   1121\u001b[0m         \u001b[1;32mtry\u001b[0m\u001b[1;33m:\u001b[0m\u001b[1;33m\u001b[0m\u001b[0m\n\u001b[0;32m   1122\u001b[0m             \u001b[1;32mif\u001b[0m \u001b[1;32mnot\u001b[0m \u001b[0mbuffering\u001b[0m\u001b[1;33m:\u001b[0m\u001b[1;33m\u001b[0m\u001b[0m\n\u001b[1;32m-> 1123\u001b[1;33m                 \u001b[0mresponse\u001b[0m \u001b[1;33m=\u001b[0m \u001b[0mself\u001b[0m\u001b[1;33m.\u001b[0m\u001b[0m_conn\u001b[0m\u001b[1;33m.\u001b[0m\u001b[0mgetresponse\u001b[0m\u001b[1;33m(\u001b[0m\u001b[1;33m)\u001b[0m\u001b[1;33m\u001b[0m\u001b[0m\n\u001b[0m\u001b[0;32m   1124\u001b[0m             \u001b[1;32melse\u001b[0m\u001b[1;33m:\u001b[0m\u001b[1;33m\u001b[0m\u001b[0m\n\u001b[0;32m   1125\u001b[0m                 \u001b[1;31m#only add this keyword if non-default for compatibility\u001b[0m\u001b[1;33m\u001b[0m\u001b[1;33m\u001b[0m\u001b[0m\n",
      "\u001b[1;32m/usr/lib/python2.7/httplib.pyc\u001b[0m in \u001b[0;36mgetresponse\u001b[1;34m(self, buffering)\u001b[0m\n\u001b[0;32m   1049\u001b[0m         \u001b[0mresponse\u001b[0m \u001b[1;33m=\u001b[0m \u001b[0mself\u001b[0m\u001b[1;33m.\u001b[0m\u001b[0mresponse_class\u001b[0m\u001b[1;33m(\u001b[0m\u001b[1;33m*\u001b[0m\u001b[0margs\u001b[0m\u001b[1;33m,\u001b[0m \u001b[1;33m**\u001b[0m\u001b[0mkwds\u001b[0m\u001b[1;33m)\u001b[0m\u001b[1;33m\u001b[0m\u001b[0m\n\u001b[0;32m   1050\u001b[0m \u001b[1;33m\u001b[0m\u001b[0m\n\u001b[1;32m-> 1051\u001b[1;33m         \u001b[0mresponse\u001b[0m\u001b[1;33m.\u001b[0m\u001b[0mbegin\u001b[0m\u001b[1;33m(\u001b[0m\u001b[1;33m)\u001b[0m\u001b[1;33m\u001b[0m\u001b[0m\n\u001b[0m\u001b[0;32m   1052\u001b[0m         \u001b[1;32massert\u001b[0m \u001b[0mresponse\u001b[0m\u001b[1;33m.\u001b[0m\u001b[0mwill_close\u001b[0m \u001b[1;33m!=\u001b[0m \u001b[0m_UNKNOWN\u001b[0m\u001b[1;33m\u001b[0m\u001b[0m\n\u001b[0;32m   1053\u001b[0m         \u001b[0mself\u001b[0m\u001b[1;33m.\u001b[0m\u001b[0m__state\u001b[0m \u001b[1;33m=\u001b[0m \u001b[0m_CS_IDLE\u001b[0m\u001b[1;33m\u001b[0m\u001b[0m\n",
      "\u001b[1;32m/usr/lib/python2.7/httplib.pyc\u001b[0m in \u001b[0;36mbegin\u001b[1;34m(self)\u001b[0m\n\u001b[0;32m    413\u001b[0m         \u001b[1;31m# read until we get a non-100 response\u001b[0m\u001b[1;33m\u001b[0m\u001b[1;33m\u001b[0m\u001b[0m\n\u001b[0;32m    414\u001b[0m         \u001b[1;32mwhile\u001b[0m \u001b[0mTrue\u001b[0m\u001b[1;33m:\u001b[0m\u001b[1;33m\u001b[0m\u001b[0m\n\u001b[1;32m--> 415\u001b[1;33m             \u001b[0mversion\u001b[0m\u001b[1;33m,\u001b[0m \u001b[0mstatus\u001b[0m\u001b[1;33m,\u001b[0m \u001b[0mreason\u001b[0m \u001b[1;33m=\u001b[0m \u001b[0mself\u001b[0m\u001b[1;33m.\u001b[0m\u001b[0m_read_status\u001b[0m\u001b[1;33m(\u001b[0m\u001b[1;33m)\u001b[0m\u001b[1;33m\u001b[0m\u001b[0m\n\u001b[0m\u001b[0;32m    416\u001b[0m             \u001b[1;32mif\u001b[0m \u001b[0mstatus\u001b[0m \u001b[1;33m!=\u001b[0m \u001b[0mCONTINUE\u001b[0m\u001b[1;33m:\u001b[0m\u001b[1;33m\u001b[0m\u001b[0m\n\u001b[0;32m    417\u001b[0m                 \u001b[1;32mbreak\u001b[0m\u001b[1;33m\u001b[0m\u001b[0m\n",
      "\u001b[1;32m/usr/lib/python2.7/httplib.pyc\u001b[0m in \u001b[0;36m_read_status\u001b[1;34m(self)\u001b[0m\n\u001b[0;32m    369\u001b[0m     \u001b[1;32mdef\u001b[0m \u001b[0m_read_status\u001b[0m\u001b[1;33m(\u001b[0m\u001b[0mself\u001b[0m\u001b[1;33m)\u001b[0m\u001b[1;33m:\u001b[0m\u001b[1;33m\u001b[0m\u001b[0m\n\u001b[0;32m    370\u001b[0m         \u001b[1;31m# Initialize with Simple-Response defaults\u001b[0m\u001b[1;33m\u001b[0m\u001b[1;33m\u001b[0m\u001b[0m\n\u001b[1;32m--> 371\u001b[1;33m         \u001b[0mline\u001b[0m \u001b[1;33m=\u001b[0m \u001b[0mself\u001b[0m\u001b[1;33m.\u001b[0m\u001b[0mfp\u001b[0m\u001b[1;33m.\u001b[0m\u001b[0mreadline\u001b[0m\u001b[1;33m(\u001b[0m\u001b[0m_MAXLINE\u001b[0m \u001b[1;33m+\u001b[0m \u001b[1;36m1\u001b[0m\u001b[1;33m)\u001b[0m\u001b[1;33m\u001b[0m\u001b[0m\n\u001b[0m\u001b[0;32m    372\u001b[0m         \u001b[1;32mif\u001b[0m \u001b[0mlen\u001b[0m\u001b[1;33m(\u001b[0m\u001b[0mline\u001b[0m\u001b[1;33m)\u001b[0m \u001b[1;33m>\u001b[0m \u001b[0m_MAXLINE\u001b[0m\u001b[1;33m:\u001b[0m\u001b[1;33m\u001b[0m\u001b[0m\n\u001b[0;32m    373\u001b[0m             \u001b[1;32mraise\u001b[0m \u001b[0mLineTooLong\u001b[0m\u001b[1;33m(\u001b[0m\u001b[1;34m\"header line\"\u001b[0m\u001b[1;33m)\u001b[0m\u001b[1;33m\u001b[0m\u001b[0m\n",
      "\u001b[1;32m/usr/lib/python2.7/socket.pyc\u001b[0m in \u001b[0;36mreadline\u001b[1;34m(self, size)\u001b[0m\n\u001b[0;32m    474\u001b[0m             \u001b[1;32mwhile\u001b[0m \u001b[0mTrue\u001b[0m\u001b[1;33m:\u001b[0m\u001b[1;33m\u001b[0m\u001b[0m\n\u001b[0;32m    475\u001b[0m                 \u001b[1;32mtry\u001b[0m\u001b[1;33m:\u001b[0m\u001b[1;33m\u001b[0m\u001b[0m\n\u001b[1;32m--> 476\u001b[1;33m                     \u001b[0mdata\u001b[0m \u001b[1;33m=\u001b[0m \u001b[0mself\u001b[0m\u001b[1;33m.\u001b[0m\u001b[0m_sock\u001b[0m\u001b[1;33m.\u001b[0m\u001b[0mrecv\u001b[0m\u001b[1;33m(\u001b[0m\u001b[0mself\u001b[0m\u001b[1;33m.\u001b[0m\u001b[0m_rbufsize\u001b[0m\u001b[1;33m)\u001b[0m\u001b[1;33m\u001b[0m\u001b[0m\n\u001b[0m\u001b[0;32m    477\u001b[0m                 \u001b[1;32mexcept\u001b[0m \u001b[0merror\u001b[0m\u001b[1;33m,\u001b[0m \u001b[0me\u001b[0m\u001b[1;33m:\u001b[0m\u001b[1;33m\u001b[0m\u001b[0m\n\u001b[0;32m    478\u001b[0m                     \u001b[1;32mif\u001b[0m \u001b[0me\u001b[0m\u001b[1;33m.\u001b[0m\u001b[0margs\u001b[0m\u001b[1;33m[\u001b[0m\u001b[1;36m0\u001b[0m\u001b[1;33m]\u001b[0m \u001b[1;33m==\u001b[0m \u001b[0mEINTR\u001b[0m\u001b[1;33m:\u001b[0m\u001b[1;33m\u001b[0m\u001b[0m\n",
      "\u001b[1;31mKeyboardInterrupt\u001b[0m: "
     ]
    }
   ],
   "source": [
    "for u in urls:\n",
    "    request = urlopen(u)"
   ]
  },
  {
   "cell_type": "markdown",
   "metadata": {},
   "source": [
    "## Drafts"
   ]
  },
  {
   "cell_type": "code",
   "execution_count": null,
   "metadata": {
    "collapsed": false
   },
   "outputs": [],
   "source": [
    "# print -data.shape[0]*0.01666666666667/2+0.01666666666667/2\n",
    "# print data.shape[0]*0.01666666666667/2-0.01666666666667/2\n",
    "# print data.shape[1]*0.01666666666667/2-0.01666666666667/2"
   ]
  },
  {
   "cell_type": "code",
   "execution_count": null,
   "metadata": {
    "collapsed": false
   },
   "outputs": [],
   "source": [
    "# msg_area = pyresample.geometry.AreaDefinition(\n",
    "#            'epsg_4326', 'epsg_4326',\n",
    "#            'epsg_4326',\n",
    "#            {'init': 'epsg:4326'}, data.shape[1], data.shape[0],\n",
    "#            (-data.shape[1]*0.01666666666667/2+0.01666666666667/2,\n",
    "#             -data.shape[0]*0.01666666666667/2+0.01666666666667/2,\n",
    "#              data.shape[1]*0.01666666666667/2-0.01666666666667/2,\n",
    "#              data.shape[0]*0.01666666666667/2-0.01666666666667/2)\n",
    "#        )\n",
    "\n",
    "# msg_area = pyresample.geometry.AreaDefinition(\n",
    "#            'epsg_4326', 'epsg_4326',\n",
    "#            'epsg_4326',\n",
    "#            {'init': 'epsg:4326'}, data.shape[1], data.shape[0],\n",
    "#            (-179.99166666666667, -89.99166666670266, 179.9916666667387, 89.99166666666667)\n",
    "#        )\n",
    "\n",
    "# msg_area = pyresample.geometry.AreaDefinition(\n",
    "#            'epsg_4326', 'epsg_4326',\n",
    "#            'epsg_4326',\n",
    "#            {'init': 'epsg:4326'}, data.shape[1], data.shape[0],\n",
    "#            (-180, -90, 180, 90)\n",
    "#        )\n",
    "\n",
    "# msg_area = pyresample.geometry.AreaDefinition(\n",
    "#            'epsg_4326', 'epsg_4326',\n",
    "#            'epsg_4326',\n",
    "#            {'init': 'epsg:4326'}, data.shape[1], data.shape[0],\n",
    "#            (-180.0, -90.000000000036, 180.00000000007202, 90.00000000000001)\n",
    "#        )\n",
    "\n",
    "# From QGIS\n",
    "# msg_area = pyresample.geometry.AreaDefinition(\n",
    "#            'epsg_4326', 'epsg_4326',\n",
    "#            'epsg_4326',\n",
    "#            {'init': 'epsg:4326'}, data.shape[1], data.shape[0],\n",
    "#            (-180.0000000000000000, -90.0000000000359961, 180.0000000000720206, 90.0000000000000142)\n",
    "#        )\n"
   ]
  },
  {
   "cell_type": "code",
   "execution_count": null,
   "metadata": {
    "collapsed": false,
    "scrolled": true
   },
   "outputs": [],
   "source": [
    "# print msg_area\n",
    "# print \"\\n\"\n",
    "# print area_def"
   ]
  },
  {
   "cell_type": "markdown",
   "metadata": {},
   "source": [
    "### Reproject"
   ]
  },
  {
   "cell_type": "code",
   "execution_count": null,
   "metadata": {
    "collapsed": false
   },
   "outputs": [],
   "source": [
    "# data = pyresample.kd_tree.resample_nearest(\n",
    "#     msg_area, data.ravel(), area_def,\n",
    "#     radius_of_influence=4*resM,\n",
    "#     epsilon=0, fill_value=None, nprocs=8\n",
    "# )\n",
    "# data = pyresample.kd_tree.resample_gauss(\n",
    "#     msg_area, data.ravel(), area_def, sigmas=50.,\n",
    "#     radius_of_influence=4*resM,\n",
    "#     epsilon=resM, fill_value=None, nprocs=8\n",
    "# )"
   ]
  },
  {
   "cell_type": "code",
   "execution_count": null,
   "metadata": {
    "collapsed": true
   },
   "outputs": [],
   "source": [
    "# %%timeit\n",
    "# # msg_con_quick = pyresample.image.ImageContainerQuick(data, msg_area, nprocs=6)\n",
    "# # area_con_quick = msg_con_quick.resample(area_def)\n",
    "# # data = area_con_quick.image_data\n",
    "\n",
    "# msg_con_nn = pyresample.image.ImageContainerNearest(data, msg_area, nprocs=8, radius_of_influence=4*resM)\n",
    "# area_con_nn = msg_con_nn.resample(area_def)\n",
    "# data = area_con_nn.image_data"
   ]
  },
  {
   "cell_type": "markdown",
   "metadata": {},
   "source": [
    "### Add high res coastline"
   ]
  },
  {
   "cell_type": "code",
   "execution_count": null,
   "metadata": {
    "collapsed": true
   },
   "outputs": [],
   "source": [
    "# # Correcting the extent for high res data resM<305m\n",
    "# extent = (-5000000, -5000000 + 4.5*y2, 5000000 - 4.5*x2, 5000000)\n",
    "\n",
    "# area_def = pyresample.geometry.AreaDefinition(\n",
    "#            'epsg_3413_crude', 'NSIDC Polar Stereographic North EPSG:3413',\n",
    "#            'epsg_3413_crude',\n",
    "#            {'proj': 'stere', 'lat_0': '90',\n",
    "#             'lon_0': '-45', 'lat_ts': '70', 'ellps': 'WGS84',\n",
    "#             'datum': 'WGS84', 'units': 'm'}, size, size,\n",
    "#            extent\n",
    "#        )"
   ]
  },
  {
   "cell_type": "code",
   "execution_count": null,
   "metadata": {
    "collapsed": false
   },
   "outputs": [],
   "source": [
    "# necessary_pixels = 3000/resM\n",
    "# shape = data.shape\n",
    "\n",
    "# top_array  = np.zeros((necessary_pixels, shape[1]), dtype=data.dtype)\n",
    "# left_array = np.zeros((necessary_pixels+shape[0], necessary_pixels), dtype=data.dtype)\n",
    "# data = np.concatenate((top_array, data), axis=0)\n",
    "# data = np.concatenate((left_array, data), axis=1)\n",
    "\n",
    "# data = data[0:-necessary_pixels,0:-necessary_pixels]"
   ]
  },
  {
   "cell_type": "raw",
   "metadata": {
    "collapsed": true
   },
   "source": [
    "img = data"
   ]
  },
  {
   "cell_type": "code",
   "execution_count": null,
   "metadata": {
    "collapsed": false
   },
   "outputs": [],
   "source": [
    "# # img = Image.new(\"L\", (size, size))\n",
    "# # gray_base = Image.open(GRAY)\n",
    "# # img = Image.fromarray(matplotlib.pylab.plt.cm.ocean(data_res, bytes=True)).convert(\"P\", colors=256)\n",
    "# img = Image.fromarray(data).convert(\"L\", colors=256)\n",
    "# del data\n",
    "\n",
    "# cw = ContourWriter('/media/SOLabNFS/store/auxdata/coastline')\n",
    "# # cw.add_coastlines(img, area_def, resolution=res, fill=255, level=4, outline=None)\n",
    "# cw.add_coastlines(img, msg_area, resolution=res, level=4, outline='white')\n",
    "# cw.add_rivers(img, msg_area, resolution=res, level=11, outline='black')\n",
    "\n",
    "# img.save('coast_test.png')\n",
    "\n",
    "# # img = np.ma.masked_equal(img, 255)\n",
    "# img = np.array(img)"
   ]
  },
  {
   "cell_type": "code",
   "execution_count": null,
   "metadata": {
    "collapsed": false
   },
   "outputs": [],
   "source": [
    "# # img = Image.new(\"L\", (size, size))\n",
    "# # gray_base = Image.open(GRAY)\n",
    "# # img = Image.fromarray(matplotlib.pylab.plt.cm.ocean(data_res, bytes=True)).convert(\"P\", colors=256)\n",
    "# img = Image.fromarray(data).convert(\"L\", colors=256)\n",
    "# del data\n",
    "\n",
    "# cw = ContourWriter('/media/SOLabNFS/store/auxdata/coastline')\n",
    "# # cw.add_coastlines(img, area_def, resolution=res, fill=255, level=4, outline=None)\n",
    "# cw.add_coastlines(img, area_def, resolution=res, level=4, outline='white')\n",
    "# cw.add_rivers(img, area_def, resolution=res, level=11, outline='black')\n",
    "\n",
    "# # img = np.ma.masked_equal(img, 255)\n",
    "# img = np.array(img)"
   ]
  },
  {
   "cell_type": "code",
   "execution_count": null,
   "metadata": {
    "collapsed": false
   },
   "outputs": [],
   "source": [
    "# img = Image.new(\"L\", (size, size))\n",
    "# cw = ContourWriter('/media/SOLabNFS/store/auxdata/coastline')\n",
    "# cw.add_coastlines(img, area_def, resolution=res, fill=0, level=4, outline='white')\n",
    "# cw.add_rivers(img, area_def, resolution=res, level=11, outline='white')\n",
    "\n",
    "# # img.save('coast_test.png')\n",
    "\n",
    "# # img = np.ma.masked_equal(img, 255)\n",
    "# img = np.array(img)"
   ]
  },
  {
   "cell_type": "code",
   "execution_count": null,
   "metadata": {
    "collapsed": false
   },
   "outputs": [],
   "source": [
    "# imshow(img[::10,::10], vmin=0, vmax=255)\n",
    "# gray()\n",
    "# colorbar()"
   ]
  },
  {
   "cell_type": "code",
   "execution_count": null,
   "metadata": {
    "collapsed": false
   },
   "outputs": [],
   "source": [
    "# imshow(data[6000:8000,12000:22000], vmin=0, vmax=255)\n",
    "# gray()\n",
    "# colorbar()"
   ]
  },
  {
   "cell_type": "code",
   "execution_count": null,
   "metadata": {
    "collapsed": false
   },
   "outputs": [],
   "source": [
    "# imshow(img[6000:8000,12000:22000], vmin=0, vmax=255)\n",
    "# gray()\n",
    "# colorbar()"
   ]
  },
  {
   "cell_type": "code",
   "execution_count": null,
   "metadata": {
    "collapsed": true
   },
   "outputs": [],
   "source": [
    "# import sys\n",
    "# import os\n",
    "\n",
    "# sys.path.append('/home/mag/Documents/repos/solab/posada/handlers/')\n",
    "\n",
    "# import Tiles.nctiles\n",
    "# reload(Tiles.nctiles)\n",
    "\n",
    "# from Tiles.nctiles import create_nc_tiles, write_attrib_to_nc, array_size_normalize\n",
    "# # %%timeit -r 1 -n 1"
   ]
  },
  {
   "cell_type": "code",
   "execution_count": null,
   "metadata": {
    "collapsed": true
   },
   "outputs": [],
   "source": [
    "# img = array_size_normalize(img)"
   ]
  },
  {
   "cell_type": "code",
   "execution_count": null,
   "metadata": {
    "collapsed": false
   },
   "outputs": [],
   "source": [
    "# # def create_nc_tiles(inpath, fn, out_dir, scale=1):\n",
    "# print \"Creating NC tiles.......\"\n",
    "\n",
    "# pn = '/nfs1/store/nctiles/coastlines/'\n",
    "# # pn = '/media/SOLabNFS/hyrax-cluster/data/public/allData/tzh/'\n",
    "\n",
    "# nc_path = os.path.join(pn, 'GSHHS_epsg_3413_' + str(resM) + 'm.nc')\n",
    "# nc_path_gray = os.path.join(pn, 'GSHHS_GRAY_epsg_3413_' + str(resM) + 'm.nc')\n",
    "\n",
    "# if os.path.isfile(nc_path):\n",
    "#     os.remove(nc_path)\n",
    "# if os.path.isfile(nc_path_gray):\n",
    "#     os.remove(nc_path_gray)\n",
    "\n",
    "# startTime = datetime.datetime.strptime('20160421', \"%Y%m%d\")\n",
    "\n",
    "# max_zoom_level = create_nc_tiles(img, nc_path, nc_data_type='u1')\n",
    "# write_attrib_to_nc(nc_path, area_extent, startTime,\n",
    "#                    max_zoom_level, area_def.pixel_size_x)\n",
    "\n",
    "# print \"%sMb\" % str(np.round(os.path.getsize(nc_path)/1024/1024))"
   ]
  },
  {
   "cell_type": "code",
   "execution_count": null,
   "metadata": {
    "collapsed": true
   },
   "outputs": [],
   "source": []
  },
  {
   "cell_type": "code",
   "execution_count": null,
   "metadata": {
    "collapsed": false
   },
   "outputs": [],
   "source": [
    "# import redis\n",
    "# r = redis.Redis(host='10.170.0.153', password='jM8vBgR4', db=0)\n",
    "# r.dbsize()"
   ]
  },
  {
   "cell_type": "code",
   "execution_count": null,
   "metadata": {
    "collapsed": false
   },
   "outputs": [],
   "source": [
    "# r.flushall()"
   ]
  },
  {
   "cell_type": "code",
   "execution_count": null,
   "metadata": {
    "collapsed": true
   },
   "outputs": [],
   "source": []
  },
  {
   "cell_type": "code",
   "execution_count": null,
   "metadata": {
    "collapsed": true
   },
   "outputs": [],
   "source": []
  },
  {
   "cell_type": "code",
   "execution_count": null,
   "metadata": {
    "collapsed": true
   },
   "outputs": [],
   "source": []
  },
  {
   "cell_type": "markdown",
   "metadata": {},
   "source": [
    "### JSON parameter definitions"
   ]
  },
  {
   "cell_type": "code",
   "execution_count": null,
   "metadata": {
    "collapsed": true
   },
   "outputs": [],
   "source": [
    "# from urllib import urlopen\n",
    "# import json"
   ]
  },
  {
   "cell_type": "code",
   "execution_count": null,
   "metadata": {
    "collapsed": false
   },
   "outputs": [],
   "source": [
    "# import json\n",
    "\n",
    "# gshhsJSON = {}\n",
    "# # 'u1' (NC_UBYTE)  2**8 =0-255\n",
    "# # 'u2' (NC_USHORT  2**16=0-65535\n",
    "# # 'u4' (NC_UINT)   2**32=0-4294967295\n",
    "# # 'u8' (NC_UINT64) 2**64=0-18446744073709551615\n",
    "# # if 2\\two data types are specified-we generate nc tyle pyramid and export data at max resolution to nc file\n",
    "# gshhsJSON['nc_data_type'] = ['u1']\n",
    "# # asarJSON['nc_data_type'] = ['u1']\n",
    "\n",
    "# with open('/nfs1/store/nctiles/coastlines/coastline.json', 'w') as outfile:\n",
    "#     json.dump(gshhsJSON, outfile, indent=4, separators=(',', ': '), sort_keys=True)\n",
    "\n",
    "# outfile.close()"
   ]
  },
  {
   "cell_type": "code",
   "execution_count": null,
   "metadata": {
    "collapsed": true
   },
   "outputs": [],
   "source": []
  },
  {
   "cell_type": "code",
   "execution_count": null,
   "metadata": {
    "collapsed": true
   },
   "outputs": [],
   "source": []
  },
  {
   "cell_type": "code",
   "execution_count": null,
   "metadata": {
    "collapsed": true
   },
   "outputs": [],
   "source": []
  }
 ],
 "metadata": {
  "kernelspec": {
   "display_name": "Python 2",
   "language": "python",
   "name": "python2"
  },
  "language_info": {
   "codemirror_mode": {
    "name": "ipython",
    "version": 2
   },
   "file_extension": ".py",
   "mimetype": "text/x-python",
   "name": "python",
   "nbconvert_exporter": "python",
   "pygments_lexer": "ipython2",
   "version": "2.7.6"
  },
  "latex_envs": {
   "bibliofile": "biblio.bib",
   "cite_by": "apalike",
   "current_citInitial": 1,
   "eqLabelWithNumbers": true,
   "eqNumInitial": 0
  }
 },
 "nbformat": 4,
 "nbformat_minor": 0
}
