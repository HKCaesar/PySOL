{
 "cells": [
  {
   "cell_type": "code",
   "execution_count": 1,
   "metadata": {
    "collapsed": false
   },
   "outputs": [
    {
     "name": "stderr",
     "output_type": "stream",
     "text": [
      ":0: FutureWarning: IPython widgets are experimental and may change in the future.\n"
     ]
    }
   ],
   "source": [
    "from __future__ import print_function # For py 2.7 compat\n",
    "from IPython.html import widgets # Widget definitions\n",
    "from IPython.display import display # Used to display widgets in the notebook\n",
    "from IPython.utils.traitlets import Unicode # Used to declare attributes of our widget"
   ]
  },
  {
   "cell_type": "code",
   "execution_count": 2,
   "metadata": {
    "collapsed": false
   },
   "outputs": [],
   "source": [
    "class TestWidget(widgets.DOMWidget):\n",
    "    _view_name = Unicode('TestView', sync=True)\n",
    "    \n",
    "    def __init__(self, **kwargs):\n",
    "        super(TestWidget, self).__init__(**kwargs)\n",
    "        self.on_msg(self._handle_button_msg)\n",
    "\n",
    "    def _handle_button_msg(self, _, content):\n",
    "        if content.get('event', '') == 'click':\n",
    "            self.on_click(content)\n",
    "        elif content.get('event', '') == 'keypress':\n",
    "            self.on_key_press(content)\n",
    "\n",
    "    def on_click(self, content):\n",
    "        print(\"Button {b}\".format(b=content['button']))\n",
    "\n",
    "    def on_key_press(self, content):\n",
    "        print(\"Key {c}\".format(c=content['code']))"
   ]
  },
  {
   "cell_type": "code",
   "execution_count": 5,
   "metadata": {
    "collapsed": false
   },
   "outputs": [
    {
     "data": {
      "application/javascript": [
       "require([\"widgets/js/widget\"], function(WidgetManager){\n",
       "    \n",
       "    var TestView = IPython.DOMWidgetView.extend({\n",
       "        render: function(){\n",
       "            \n",
       "            this.$canvas = $('<canvas />')\n",
       "                .attr('width', '200')\n",
       "                .attr('height', '100')\n",
       "                .attr('style', 'background: black;')\n",
       "                .attr('tabindex', '1')\n",
       "                .appendTo(this.$el);\n",
       "        },\n",
       "        \n",
       "        events: {\n",
       "            'keydown': 'keypress',\n",
       "            'click': 'click',\n",
       "        },\n",
       "\n",
       "        keypress: function(e) {\n",
       "            var code = e.keyCode || e.which;\n",
       "            this.send({event: 'keypress', code: code});\n",
       "        },\n",
       "\n",
       "        click: function(e) {\n",
       "            this.send({event: 'click', button: e.button});\n",
       "        }\n",
       "    });\n",
       "    \n",
       "    WidgetManager.register_widget_view('TestView', TestView);\n",
       "});"
      ],
      "text/plain": [
       "<IPython.core.display.Javascript object>"
      ]
     },
     "metadata": {},
     "output_type": "display_data"
    }
   ],
   "source": [
    "%%javascript\n",
    "require([\"widgets/js/widget\"], function(WidgetManager){\n",
    "    \n",
    "    var TestView = IPython.DOMWidgetView.extend({\n",
    "        render: function(){\n",
    "            \n",
    "            this.$canvas = $('<canvas />')\n",
    "                .attr('width', '200')\n",
    "                .attr('height', '100')\n",
    "                .attr('style', 'background: black;')\n",
    "                .attr('tabindex', '1')\n",
    "                .appendTo(this.$el);\n",
    "        },\n",
    "        \n",
    "        events: {\n",
    "            'keydown': 'keypress',\n",
    "            'click': 'click',\n",
    "        },\n",
    "\n",
    "        keypress: function(e) {\n",
    "            var code = e.keyCode || e.which;\n",
    "            this.send({event: 'keypress', code: code});\n",
    "        },\n",
    "\n",
    "        click: function(e) {\n",
    "            this.send({event: 'click', button: e.button});\n",
    "        }\n",
    "    });\n",
    "    \n",
    "    WidgetManager.register_widget_view('TestView', TestView);\n",
    "});"
   ]
  },
  {
   "cell_type": "code",
   "execution_count": 6,
   "metadata": {
    "collapsed": false
   },
   "outputs": [],
   "source": [
    "my_widget = TestWidget()\n",
    "display(my_widget)"
   ]
  },
  {
   "cell_type": "code",
   "execution_count": null,
   "metadata": {
    "collapsed": false
   },
   "outputs": [],
   "source": []
  },
  {
   "cell_type": "code",
   "execution_count": null,
   "metadata": {
    "collapsed": false
   },
   "outputs": [],
   "source": []
  }
 ],
 "metadata": {
  "cell_tags": [
   [
    "<None>",
    null
   ]
  ],
  "kernelspec": {
   "display_name": "Python 2",
   "language": "python",
   "name": "python2"
  },
  "language_info": {
   "codemirror_mode": {
    "name": "ipython",
    "version": 2
   },
   "file_extension": ".py",
   "mimetype": "text/x-python",
   "name": "python",
   "nbconvert_exporter": "python",
   "pygments_lexer": "ipython2",
   "version": "2.7.6"
  }
 },
 "nbformat": 4,
 "nbformat_minor": 0
}
