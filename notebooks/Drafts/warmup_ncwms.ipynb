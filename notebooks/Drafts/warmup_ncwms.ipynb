{
 "cells": [
  {
   "cell_type": "markdown",
   "metadata": {},
   "source": [
    "### Function definitions"
   ]
  },
  {
   "cell_type": "code",
   "execution_count": 18,
   "metadata": {
    "collapsed": true
   },
   "outputs": [],
   "source": [
    "from multiprocessing import Process\n",
    "from urllib import urlopen\n",
    "from time import sleep\n",
    "\n",
    "UPDATE_INTERVAL = 0.3\n",
    "\n",
    "class URLThread(Process):\n",
    "    def __init__(self,url):\n",
    "        super(URLThread, self).__init__()\n",
    "        self.url = url\n",
    "        self.response = None\n",
    "\n",
    "    def run(self):\n",
    "        self.request = urlopen(self.url)\n",
    "        self.response = self.request.read()\n",
    "\n",
    "def multi_get(uris,timeout=2.0):\n",
    "    def alive_count(lst):\n",
    "        alive = map(lambda x : 1 if x.is_alive() else 0, lst)\n",
    "        return reduce(lambda a,b : a + b, alive)\n",
    "    threads = [ URLThread(uri) for uri in uris ]\n",
    "    for thread in threads:\n",
    "        thread.start()\n",
    "    while alive_count(threads) > 0 and timeout > 0.0:\n",
    "        timeout = timeout - UPDATE_INTERVAL\n",
    "        sleep(UPDATE_INTERVAL)\n",
    "    for thread in threads:\n",
    "        thread.join()\n",
    "    return [ (x.url, x.response) for x in threads ]"
   ]
  },
  {
   "cell_type": "raw",
   "metadata": {
    "collapsed": true
   },
   "source": [
    "from threading import Thread\n",
    "from urllib import urlopen\n",
    "from time import sleep\n",
    "\n",
    "UPDATE_INTERVAL = 0.3\n",
    "\n",
    "class URLThread(Thread):\n",
    "    def __init__(self,url):\n",
    "        super(URLThread, self).__init__()\n",
    "        self.url = url\n",
    "        self.response = None\n",
    "\n",
    "    def run(self):\n",
    "        self.request = urlopen(self.url)\n",
    "        self.response = self.request.read()\n",
    "\n",
    "def multi_get(uris,timeout=2.0):\n",
    "    def alive_count(lst):\n",
    "        alive = map(lambda x : 1 if x.isAlive() else 0, lst)\n",
    "        return reduce(lambda a,b : a + b, alive)\n",
    "    threads = [ URLThread(uri) for uri in uris ]\n",
    "    for thread in threads:\n",
    "        thread.start()\n",
    "    while alive_count(threads) > 0 and timeout > 0.0:\n",
    "        timeout = timeout - UPDATE_INTERVAL\n",
    "        sleep(UPDATE_INTERVAL)\n",
    "    for thread in threads:\n",
    "        thread.join()\n",
    "    return [ (x.url, x.response) for x in threads ]"
   ]
  },
  {
   "cell_type": "markdown",
   "metadata": {},
   "source": [
    "### Cache the data from a specified set of netCDF files\n",
    "#### Request only one tile from every zoom level to cache all zoom levels"
   ]
  },
  {
   "cell_type": "code",
   "execution_count": null,
   "metadata": {
    "collapsed": false
   },
   "outputs": [
    {
     "name": "stdout",
     "output_type": "stream",
     "text": [
      "Total number of files: 1037\n"
     ]
    }
   ],
   "source": [
    "import os\n",
    "from netCDF4 import Dataset as ncDataset\n",
    "\n",
    "# granule = 'S1A_EW_GRDM_1SDH_20141003T183449_20141003T183553_002669_002F93_5A6D'\n",
    "\n",
    "# pn = '/media/SOLabNFS2/store/satellite/SOLAB-SENTINEL-1/2014/10/03/'\n",
    "pn = '/nfs1/store/nctiles/SOLAB_ASAR/epsg_3413/2012/'\n",
    "\n",
    "# granule_list = listdir(pn)\n",
    "granule_list = [os.path.join(dn,fn) for dn,_,fns in os.walk(pn) for fn in fns if fn.endswith('.nc')]\n",
    "\n",
    "# product = 'SOLAB-SENTINEL-1'\n",
    "product = 'SOLAB_ASAR'\n",
    "var_list = ['sigma0']\n",
    "colormaps = ['RdBu_r', 'gray', 'bone']\n",
    "\n",
    "urls = []\n",
    "coords = []\n",
    "\n",
    "x = y = 0\n",
    "\n",
    "print \"Total number of files: %s\" %len(granule_list)\n",
    "for granule in granule_list:\n",
    "    dataset = ncDataset(granule)\n",
    "    try:\n",
    "        p = dataset.polarizations\n",
    "    except Exception as e:\n",
    "        p = 'vv'\n",
    "    coords = dataset.variables['Data'].shape\n",
    "    for var in var_list:\n",
    "        for cmap in colormaps:\n",
    "    #         for zoom in range(coords[2]):\n",
    "            for zoom in range(0,5):\n",
    "                for x in range(2**zoom):\n",
    "                    for y in range(2**zoom):\n",
    "                        urls.append(\n",
    "    #                         'http://10.170.0.153/wms?' +\n",
    "                            'http://10.172.0.222/wms?' +\n",
    "                            'product=' + product +\n",
    "                            '&variable=' + var +\n",
    "                            '&granule=' + granule[-62:-3] +\n",
    "                            '&projection=EPSG%3A3413' +\n",
    "                            '&polarization=' + str(p) +\n",
    "                            '&vmin=63&vmax=191&' +\n",
    "                            'zoom=' + str(zoom) +\n",
    "                            '&x=' + str(x) +\n",
    "                            '&y=' + str(y) +\n",
    "                            '&colormap=' + cmap\n",
    "                        )\n",
    "    dataset.close()\n",
    "urls.sort()\n",
    "\n",
    "print \"Total number of zoom-level requests: %s\" %len(urls)"
   ]
  },
  {
   "cell_type": "code",
   "execution_count": null,
   "metadata": {
    "collapsed": false
   },
   "outputs": [],
   "source": [
    "%%timeit -r 1 -n 1\n",
    "requests = multi_get(urls,timeout=1)\n",
    "# for url, data in requests:\n",
    "#     print \"received from this url \\n%s\" % (url)"
   ]
  },
  {
   "cell_type": "code",
   "execution_count": 22,
   "metadata": {
    "collapsed": false
   },
   "outputs": [
    {
     "name": "stdout",
     "output_type": "stream",
     "text": [
      "100 loops, best of 100: 3.73 ms per loop\n"
     ]
    }
   ],
   "source": [
    "%%timeit -r 100 -n 10\n",
    "request = urlopen(urls[4])"
   ]
  },
  {
   "cell_type": "code",
   "execution_count": 14,
   "metadata": {
    "collapsed": false
   },
   "outputs": [
    {
     "data": {
      "text/plain": [
       "1033742L"
      ]
     },
     "execution_count": 14,
     "metadata": {},
     "output_type": "execute_result"
    }
   ],
   "source": [
    "import redis\n",
    "r = redis.Redis(host='10.170.0.153', password='jM8vBgR4', db=0)\n",
    "r.dbsize()\n",
    "# r.flushall()"
   ]
  },
  {
   "cell_type": "code",
   "execution_count": 10,
   "metadata": {
    "collapsed": false,
    "scrolled": true
   },
   "outputs": [
    {
     "data": {
      "text/plain": [
       "[]"
      ]
     },
     "execution_count": 10,
     "metadata": {},
     "output_type": "execute_result"
    }
   ],
   "source": [
    "r.keys('*lock*')"
   ]
  },
  {
   "cell_type": "code",
   "execution_count": 11,
   "metadata": {
    "collapsed": false
   },
   "outputs": [],
   "source": [
    "try:\n",
    "    r.delete(*r.keys('*ASA_*/0/0/*/*/*/*/*/jet'))\n",
    "except:\n",
    "    pass"
   ]
  },
  {
   "cell_type": "code",
   "execution_count": 12,
   "metadata": {
    "collapsed": true
   },
   "outputs": [],
   "source": [
    "try:\n",
    "    r.delete(*r.keys('*ASA_*/0/0/*/*/*/*/*/RbBu_r'))\n",
    "except:\n",
    "    pass"
   ]
  },
  {
   "cell_type": "code",
   "execution_count": 13,
   "metadata": {
    "collapsed": true
   },
   "outputs": [],
   "source": [
    "try:\n",
    "    r.delete(*r.keys('*jet*'))\n",
    "except:\n",
    "    pass"
   ]
  },
  {
   "cell_type": "code",
   "execution_count": null,
   "metadata": {
    "collapsed": true
   },
   "outputs": [],
   "source": []
  },
  {
   "cell_type": "code",
   "execution_count": 15,
   "metadata": {
    "collapsed": false
   },
   "outputs": [
    {
     "data": {
      "text/plain": [
       "True"
      ]
     },
     "execution_count": 15,
     "metadata": {},
     "output_type": "execute_result"
    }
   ],
   "source": [
    "r.flushall()"
   ]
  },
  {
   "cell_type": "code",
   "execution_count": null,
   "metadata": {
    "collapsed": true
   },
   "outputs": [],
   "source": []
  },
  {
   "cell_type": "markdown",
   "metadata": {},
   "source": [
    "#### Coastlines and Relief"
   ]
  },
  {
   "cell_type": "code",
   "execution_count": null,
   "metadata": {
    "collapsed": false
   },
   "outputs": [
    {
     "name": "stdout",
     "output_type": "stream",
     "text": [
      "Total number of files: 2\n"
     ]
    }
   ],
   "source": [
    "import os\n",
    "from netCDF4 import Dataset as ncDataset\n",
    "\n",
    "# http://10.170.0.153/wms?product=coastline&granule=Gray_Earth_epsg_3413_152m&projection=EPSG%3A3413&vmin=0&vmax=255&zoom=4&x=4&y=8&colormap=gray\n",
    "\n",
    "pn = '/nfs1/store/nctiles/coastlines/'\n",
    "\n",
    "# granule_list = listdir(pn)\n",
    "granule_list = [pn+'Gray_Earth_epsg_3413_1220m.nc', pn+'GSHHS_epsg_3413_152m.nc']\n",
    "\n",
    "# product = 'SOLAB-SENTINEL-1'\n",
    "product = 'coastline'\n",
    "\n",
    "urls = []\n",
    "coords = []\n",
    "\n",
    "x = y = 0\n",
    "\n",
    "print \"Total number of files: %s\" %len(granule_list)\n",
    "# for granule in granule_list:\n",
    "for granule in {granule_list[0]}:\n",
    "    if 'Gray_Earth_epsg_3413_1220m' in granule:\n",
    "        colormaps = ['GnBu_r', 'gray', 'bwr']\n",
    "    else:\n",
    "        colormaps = ['gray']\n",
    "    dataset = ncDataset(granule)\n",
    "    coords = dataset.variables['Data'].shape\n",
    "    for cmap in colormaps:\n",
    "        for zoom in range(coords[1]):\n",
    "#         for zoom in range(7):\n",
    "            for x in range(2**zoom):\n",
    "                for y in range(2**zoom):\n",
    "                    urls.append(\n",
    "                        'http://ncwms.dev.solab.rshu.ru/wms?' +\n",
    "                        'product=' + product +\n",
    "                        '&granule=' + granule[31:-3] +\n",
    "                        '&projection=EPSG%3A3413' +\n",
    "                        '&vmin=0&vmax=255&' +\n",
    "                        'zoom=' + str(zoom) +\n",
    "                        '&x=' + str(x) +\n",
    "                        '&y=' + str(y) +\n",
    "                        '&colormap=' + cmap\n",
    "                    )\n",
    "    dataset.close()\n",
    "urls.sort()\n",
    "\n",
    "print \"Total number of zoom-level requests: %s\" %len(urls)"
   ]
  },
  {
   "cell_type": "code",
   "execution_count": null,
   "metadata": {
    "collapsed": false
   },
   "outputs": [],
   "source": [
    "%%timeit -r 1 -n 1\n",
    "requests = multi_get(urls,timeout=1)"
   ]
  },
  {
   "cell_type": "code",
   "execution_count": 12,
   "metadata": {
    "collapsed": true
   },
   "outputs": [],
   "source": [
    "try:\n",
    "    r.delete(*r.keys('*coast*'))\n",
    "except:\n",
    "    pass"
   ]
  },
  {
   "cell_type": "code",
   "execution_count": null,
   "metadata": {
    "collapsed": true
   },
   "outputs": [],
   "source": []
  },
  {
   "cell_type": "markdown",
   "metadata": {},
   "source": [
    "#### Sentinel-1"
   ]
  },
  {
   "cell_type": "code",
   "execution_count": null,
   "metadata": {
    "collapsed": false
   },
   "outputs": [],
   "source": [
    "import random\n",
    "\n",
    "granule = 'S1A_EW_GRDM_1SDH_20141003T183449_20141003T183553_002669_002F93_5A6D'\n",
    "\n",
    "var_list = ['sigma0w', 'wind_speed']\n",
    "\n",
    "urls = ['http://10.170.0.153:9090/wms?product=SOLAB-SENTINEL-1&' +\n",
    "        'variable=' + var_list[random.randint(0,1)] +\n",
    "        '&granule=' + granule +\n",
    "        '&projection=EPSG%3A3413&polarization=hh&vmin=63&vmax=191&zoom=0&x=0&y=0']\n",
    "\n",
    "for x in xrange(0,10**2):\n",
    "    urls.append(\n",
    "        'http://10.170.0.153:9090/wms?product=SOLAB-SENTINEL-1&' +\n",
    "        'variable=' + var_list[random.randint(0,1)] +\n",
    "        '&granule=' + granule +\n",
    "        '&projection=EPSG%3A3413&polarization=hh&vmin=63&vmax=191&'\n",
    "        'zoom=' + str(random.randint(0,5)) +\n",
    "        '&x=' + str(random.randint(0,2)) +\n",
    "        '&y=' + str(random.randint(0,2)))\n",
    "print len(urls)"
   ]
  },
  {
   "cell_type": "code",
   "execution_count": null,
   "metadata": {
    "collapsed": false
   },
   "outputs": [],
   "source": [
    "%%timeit -r 1\n",
    "for u in urls:\n",
    "    request = urlopen(u)"
   ]
  },
  {
   "cell_type": "code",
   "execution_count": null,
   "metadata": {
    "collapsed": true
   },
   "outputs": [],
   "source": []
  },
  {
   "cell_type": "markdown",
   "metadata": {},
   "source": [
    "### ncCacheAll - speed test"
   ]
  },
  {
   "cell_type": "code",
   "execution_count": null,
   "metadata": {
    "collapsed": true
   },
   "outputs": [],
   "source": [
    "import numpy as np\n",
    "from numpy import clip, uint8\n",
    "from io import BytesIO"
   ]
  },
  {
   "cell_type": "code",
   "execution_count": null,
   "metadata": {
    "collapsed": true
   },
   "outputs": [],
   "source": [
    "def get_image_from_array(array, vmin=0, vmax=254, colormap=None):\n",
    "\n",
    "        # Caching using PIL image is fatser than even Pickle\n",
    "\n",
    "        # Normalize image in the ``[vmin, vmax]`` interval\n",
    "        if vmin == vmax:\n",
    "            array.fill(0)   # Or should it be all masked?  Or 0.5?\n",
    "        elif vmin > vmax:\n",
    "            err_message = \"vmin value must be less than or equal to vmax value\"\n",
    "            return\n",
    "        else:\n",
    "            vmin = float(vmin)\n",
    "            vmax = float(vmax)\n",
    "\n",
    "        if type(array) == np.ma.core.MaskedArray:\n",
    "            mask = ma.getmask(array)\n",
    "        else:\n",
    "            mask = array==255\n",
    "        array = np.array(clip(array, vmin, vmax))\n",
    "\n",
    "        # ma divisionand other operations are very slow; we can take a shortcut\n",
    "        array -= vmin\n",
    "        array /= (vmax - vmin)\n",
    "        array *= 254\n",
    "        array[mask] = 255\n",
    "        array = uint8(array)\n",
    "\n",
    "        # saving image to buffer\n",
    "        buf = BytesIO()\n",
    "        if colormap == None or colormap == \"gray\":\n",
    "            img = Image.fromarray(array).convert(\"L\", colors=256)\n",
    "        elif colormap == \"jet\":\n",
    "            img = Image.fromarray(cm.jet(array, bytes=True)).convert(\"P\", colors=256)\n",
    "        elif colormap == \"bone\":\n",
    "            img = Image.fromarray(cm.bone(array, bytes=True)).convert(\"P\", colors=256)\n",
    "        elif colormap == \"RdBu_r\":\n",
    "            img = Image.fromarray(cm.RdBu_r(array, bytes=True)).convert(\"P\", colors=256)\n",
    "        # Also try PIL optimally palette our image as in Pixels.py apply_palette256 and apply_palette\n",
    "        img.save(buf, format='png')\n",
    "\n",
    "        # from pylab import gray, imsave, jet\n",
    "        # gray()\n",
    "        # imsave(buf, array, vmin=vmin, vmax=vmax, format='png')\n",
    "\n",
    "        buf.seek(0)\n",
    "        content = buf.getvalue()\n",
    "        buf.close()\n",
    "        return content"
   ]
  },
  {
   "cell_type": "code",
   "execution_count": null,
   "metadata": {
    "collapsed": false
   },
   "outputs": [],
   "source": [
    "%%timeit\n",
    "vmin = 0\n",
    "vmax = 254\n",
    "colormap = 'gray'\n",
    "\n",
    "try:\n",
    "    dataset = ncDataset(granule)\n",
    "except:\n",
    "    err_message = 'Cannot open dataset:' \n",
    "\n",
    "coords = dataset.variables['Data'].shape\n",
    "\n",
    "# print var_number, polarization_index, zoom\n",
    "\n",
    "# First cache the requested zoom level\n",
    "for x in range(coords[3]):\n",
    "    for y in range(coords[4]):\n",
    "        body = dataset.variables['Data'][0, 0, 5, x, y, :]\n",
    "        # don't cache empty tile\n",
    "        if body.mean() == 255:\n",
    "            continue\n",
    "\n",
    "        content = get_image_from_array(body, vmin, vmax, colormap)\n",
    "            \n",
    "if dataset.isopen():\n",
    "    dataset.close()"
   ]
  },
  {
   "cell_type": "code",
   "execution_count": null,
   "metadata": {
    "collapsed": false
   },
   "outputs": [],
   "source": [
    "%%timeit\n",
    "vmin = 0\n",
    "vmax = 254\n",
    "colormap = 'gray'\n",
    "\n",
    "try:\n",
    "    dataset = ncDataset(granule)\n",
    "except:\n",
    "    err_message = 'Cannot open dataset:' \n",
    "\n",
    "coords = dataset.variables['Data'].shape\n",
    "\n",
    "# print var_number, polarization_index, zoom\n",
    "\n",
    "# First cache the requested zoom level\n",
    "body_ = dataset.variables['Data'][0, 0, 5, :]\n",
    "for x in range(coords[3]):\n",
    "    for y in range(coords[4]):\n",
    "        body = body_[x, y, :]\n",
    "        # don't cache empty tile\n",
    "        if body.mean() == 255:\n",
    "            continue\n",
    "\n",
    "        content = get_image_from_array(body, vmin, vmax, colormap)\n",
    "            \n",
    "if dataset.isopen():\n",
    "    dataset.close()"
   ]
  },
  {
   "cell_type": "code",
   "execution_count": null,
   "metadata": {
    "collapsed": true
   },
   "outputs": [],
   "source": []
  },
  {
   "cell_type": "code",
   "execution_count": null,
   "metadata": {
    "collapsed": true
   },
   "outputs": [],
   "source": []
  },
  {
   "cell_type": "code",
   "execution_count": null,
   "metadata": {
    "collapsed": true
   },
   "outputs": [],
   "source": []
  },
  {
   "cell_type": "code",
   "execution_count": null,
   "metadata": {
    "collapsed": true
   },
   "outputs": [],
   "source": []
  },
  {
   "cell_type": "code",
   "execution_count": null,
   "metadata": {
    "collapsed": true
   },
   "outputs": [],
   "source": []
  },
  {
   "cell_type": "code",
   "execution_count": null,
   "metadata": {
    "collapsed": true
   },
   "outputs": [],
   "source": []
  },
  {
   "cell_type": "markdown",
   "metadata": {},
   "source": [
    "### Checking that \"EVAL\" takes 3 times longer than \"split\" and \"map\""
   ]
  },
  {
   "cell_type": "code",
   "execution_count": null,
   "metadata": {
    "collapsed": true
   },
   "outputs": [],
   "source": [
    "import redis\n",
    "import numpy as np\n",
    "r = redis.Redis(host='10.170.0.153', password='jM8vBgR4', db=0)\n",
    "body = None"
   ]
  },
  {
   "cell_type": "code",
   "execution_count": null,
   "metadata": {
    "collapsed": false
   },
   "outputs": [],
   "source": [
    "def str2float(List):\n",
    "    return map(float, List)"
   ]
  },
  {
   "cell_type": "code",
   "execution_count": null,
   "metadata": {
    "collapsed": false
   },
   "outputs": [],
   "source": [
    "%%timeit\n",
    "tilekey = 'SOLAB-SENTINEL-1/S1A_EW_GRDH_1SDH_20141003T102452_20141003T102553_002664_002F76_F611/2/0/0/0/1'\n",
    "body = r.get(tilekey)\n",
    "body = [s.split(', ') for s in body[2:-2].split('], [')]\n",
    "body = map(str2float, body)\n",
    "body = np.asarray(body)\n",
    "body = np.ma.masked_equal(body, None)"
   ]
  },
  {
   "cell_type": "code",
   "execution_count": null,
   "metadata": {
    "collapsed": false
   },
   "outputs": [],
   "source": [
    "%%timeit\n",
    "tilekey = 'SOLAB-SENTINEL-1/S1A_EW_GRDH_1SDH_20141003T102452_20141003T102553_002664_002F76_F611/2/0/0/0/1'\n",
    "body = r.get(tilekey)\n",
    "body = [s.split(', ') for s in body[2:-2].split('], [')]\n",
    "body = [[float(i) for i in row] for row in body]\n",
    "body = np.asarray(body)\n",
    "body = np.ma.masked_equal(body, None)"
   ]
  },
  {
   "cell_type": "code",
   "execution_count": null,
   "metadata": {
    "collapsed": false
   },
   "outputs": [],
   "source": [
    "%%timeit\n",
    "tilekey = 'SOLAB-SENTINEL-1/S1A_EW_GRDH_1SDH_20141003T102452_20141003T102553_002664_002F76_F611/2/0/0/0/1'\n",
    "body = r.get(tilekey)\n",
    "body = np.array(eval(body))"
   ]
  },
  {
   "cell_type": "code",
   "execution_count": null,
   "metadata": {
    "collapsed": true
   },
   "outputs": [],
   "source": []
  },
  {
   "cell_type": "code",
   "execution_count": null,
   "metadata": {
    "collapsed": true
   },
   "outputs": [],
   "source": []
  },
  {
   "cell_type": "code",
   "execution_count": 8,
   "metadata": {
    "collapsed": true
   },
   "outputs": [],
   "source": [
    "%matplotlib inline"
   ]
  },
  {
   "cell_type": "code",
   "execution_count": 9,
   "metadata": {
    "collapsed": false
   },
   "outputs": [],
   "source": [
    "from pylab import *"
   ]
  },
  {
   "cell_type": "code",
   "execution_count": 10,
   "metadata": {
    "collapsed": false
   },
   "outputs": [],
   "source": [
    "import numpy as np\n",
    "from PIL import Image\n",
    "from numpy.random import random as randomArray\n",
    "from io import BytesIO\n",
    "\n",
    "\n",
    "array = np.ma.array(randomArray((256,256))*255, np.uint8)"
   ]
  },
  {
   "cell_type": "code",
   "execution_count": 638,
   "metadata": {
    "collapsed": true
   },
   "outputs": [],
   "source": [
    "try:\n",
    "    r.delete(*r.keys('*GSHHS*'))\n",
    "except:\n",
    "    pass"
   ]
  },
  {
   "cell_type": "code",
   "execution_count": 636,
   "metadata": {
    "collapsed": false
   },
   "outputs": [],
   "source": [
    "try:\n",
    "    r.delete(*r.keys('*jet'))\n",
    "except:\n",
    "    pass\n",
    "\n",
    "#vmin=61\n",
    "#vmax=191\n",
    "\n",
    "vmin=0\n",
    "vmax=254\n",
    "\n",
    "bufPIL = BytesIO()\n",
    "# img = Image.fromarray(array).convert(\"L\", colors=256)\n",
    "# array = np.array(randomArray((256,256))*255, np.uint8)\n",
    "\n",
    "# array = np.ma.asarray(Image.open('empire.jpg').convert('L'), np.uint8)\n",
    "array = np.asarray(Image.open('empire.jpg').convert('L'), np.uint8)\n",
    "\n",
    "fn = 'http://10.170.0.153:9090/wms?product=coastline&granule=GSHHS_epsg_3413_152m&projection=EPSG%3A3413&vmin=0&vmax=255&zoom=0&x=0&y=0&colormap=gray'\n",
    "array = np.asarray(Image.open(urlopen(fn)), np.uint8)\n",
    "\n",
    "# print array\n",
    "\n",
    "# Normalize image in the ``[vmin, vmax]`` interval\n",
    "if vmin == vmax:\n",
    "    array.fill(0)   # Or should it be all masked?  Or 0.5?\n",
    "elif vmin > vmax:\n",
    "    err_message = \"vmin value must be less than or equal to vmax value\"\n",
    "    self.get_return_message(err_message, 400)\n",
    "else:\n",
    "    vmin = float(vmin)\n",
    "    vmax = float(vmax)\n",
    "\n",
    "mask = array==array.min()\n",
    "array = np.array(clip(array, vmin, vmax))\n",
    "\n",
    "# ma divisionand other operations are very slow; we can take a shortcut\n",
    "array -= vmin\n",
    "array /= (vmax - vmin)\n",
    "array *= 254\n",
    "array[mask] = 255\n",
    "array = uint8(array)\n",
    "\n",
    "# img = Image.fromarray(array).convert(\"L\", colors=256)\n",
    "\n",
    "# Get alpha channel from mask\n",
    "if type(array) == np.ma.core.MaskedArray:\n",
    "    mask = Image.fromarray(mask.data.astype(uint8)*255).convert(\"L\")\n",
    "else:\n",
    "    mask = Image.fromarray(mask.astype(uint8)*255).convert(\"L\")\n",
    "# Apply colormap\n",
    "img = Image.fromarray(matplotlib.pylab.plt.cm.jet(array, bytes=True))\n",
    "# Convert\n",
    "img = img.convert('RGB').convert('P', colors=255)\n",
    "# Paste alpha\n",
    "img.paste(255, mask)\n",
    "# img.paste(255, mask)\n",
    "\n",
    "img.save(bufPIL, format='png', transparency=255)\n",
    "# img.save(bufPIL, format='png')\n",
    "bufPIL.seek(0)\n",
    "contentPIL = bufPIL.getvalue()\n",
    "bufPIL.close()\n",
    "\n",
    "bufPIL = BytesIO(contentPIL)\n",
    "bodyPIL = np.asarray(Image.open(bufPIL), np.uint8)"
   ]
  },
  {
   "cell_type": "code",
   "execution_count": 637,
   "metadata": {
    "collapsed": false
   },
   "outputs": [
    {
     "data": {
      "text/plain": [
       "255"
      ]
     },
     "execution_count": 637,
     "metadata": {},
     "output_type": "execute_result"
    }
   ],
   "source": [
    "array.max()"
   ]
  },
  {
   "cell_type": "code",
   "execution_count": 632,
   "metadata": {
    "collapsed": false
   },
   "outputs": [
    {
     "data": {
      "image/png": "[encoded data removed]",
      "text/plain": [
       "<PIL.PngImagePlugin.PngImageFile image mode=P size=256x256 at 0x7F5650428250>"
      ]
     },
     "execution_count": 632,
     "metadata": {},
     "output_type": "execute_result"
    }
   ],
   "source": [
    "img2 = Image.open(bufPIL)\n",
    "img2"
   ]
  },
  {
   "cell_type": "code",
   "execution_count": 633,
   "metadata": {
    "collapsed": false
   },
   "outputs": [
    {
     "data": {
      "image/png": "[encoded data removed]",
      "text/plain": [
       "<PIL.PngImagePlugin.PngImageFile image mode=L size=256x256 at 0x7F564ABA4190>"
      ]
     },
     "execution_count": 633,
     "metadata": {},
     "output_type": "execute_result"
    }
   ],
   "source": [
    "img2 = Image.open(urlopen(fn))\n",
    "img2"
   ]
  },
  {
   "cell_type": "code",
   "execution_count": 634,
   "metadata": {
    "collapsed": false
   },
   "outputs": [
    {
     "data": {
      "image/png": "[encoded data removed]",
      "text/plain": [
       "<matplotlib.figure.Figure at 0x7f56501b6d10>"
      ]
     },
     "metadata": {},
     "output_type": "display_data"
    }
   ],
   "source": [
    "imshow(array)\n",
    "colorbar()\n",
    "gray()"
   ]
  },
  {
   "cell_type": "code",
   "execution_count": 625,
   "metadata": {
    "collapsed": false
   },
   "outputs": [
    {
     "data": {
      "text/plain": [
       "<matplotlib.colorbar.Colorbar at 0x7f565057aa50>"
      ]
     },
     "execution_count": 625,
     "metadata": {},
     "output_type": "execute_result"
    },
    {
     "data": {
      "image/png": "[encoded data removed]",
      "text/plain": [
       "<matplotlib.figure.Figure at 0x7f564ab5a190>"
      ]
     },
     "metadata": {},
     "output_type": "display_data"
    }
   ],
   "source": [
    "figure()\n",
    "imshow(bodyPIL, cmap=cmap)\n",
    "colorbar()"
   ]
  },
  {
   "cell_type": "code",
   "execution_count": 626,
   "metadata": {
    "collapsed": false
   },
   "outputs": [
    {
     "data": {
      "text/plain": [
       "array([[ 82, 118,  82, ..., 255, 255, 255],\n",
       "       [118,  82, 118, ..., 255, 255, 255],\n",
       "       [ 82, 118,  82, ..., 255,  13, 255],\n",
       "       ..., \n",
       "       [255, 255,  13, ..., 255, 255, 255],\n",
       "       [255, 255,  13, ...,  13, 255, 255],\n",
       "       [ 13,  12,  13, ...,  13,  13, 255]], dtype=uint8)"
      ]
     },
     "execution_count": 626,
     "metadata": {},
     "output_type": "execute_result"
    }
   ],
   "source": [
    "bodyPIL"
   ]
  },
  {
   "cell_type": "code",
   "execution_count": 627,
   "metadata": {
    "collapsed": false
   },
   "outputs": [
    {
     "data": {
      "text/plain": [
       "array([[  0,   0,   0, ..., 253, 253, 253],\n",
       "       [  0,   0,   0, ..., 253, 253, 253],\n",
       "       [  0,   0,   0, ..., 253, 252, 253],\n",
       "       ..., \n",
       "       [253, 253, 251, ..., 253, 253, 253],\n",
       "       [253, 253, 251, ..., 252, 253, 253],\n",
       "       [252, 251, 252, ..., 252, 251, 253]], dtype=uint8)"
      ]
     },
     "execution_count": 627,
     "metadata": {},
     "output_type": "execute_result"
    }
   ],
   "source": [
    "array"
   ]
  },
  {
   "cell_type": "code",
   "execution_count": 501,
   "metadata": {
    "collapsed": true
   },
   "outputs": [],
   "source": [
    "array = np.ma.asarray(Image.open('empire.jpg').convert('L'), np.uint8)"
   ]
  },
  {
   "cell_type": "code",
   "execution_count": 147,
   "metadata": {
    "collapsed": false
   },
   "outputs": [
    {
     "ename": "KeyboardInterrupt",
     "evalue": "",
     "output_type": "error",
     "traceback": [
      "\u001b[1;31m---------------------------------------------------------------------------\u001b[0m",
      "\u001b[1;31mKeyboardInterrupt\u001b[0m                         Traceback (most recent call last)",
      "\u001b[1;32m<ipython-input-147-e6f6efbe9267>\u001b[0m in \u001b[0;36m<module>\u001b[1;34m()\u001b[0m\n\u001b[1;32m----> 1\u001b[1;33m \u001b[0mget_ipython\u001b[0m\u001b[1;33m(\u001b[0m\u001b[1;33m)\u001b[0m\u001b[1;33m.\u001b[0m\u001b[0mrun_cell_magic\u001b[0m\u001b[1;33m(\u001b[0m\u001b[1;34mu'timeit'\u001b[0m\u001b[1;33m,\u001b[0m \u001b[1;34mu''\u001b[0m\u001b[1;33m,\u001b[0m \u001b[1;34mu\"\\narray = np.ma.asarray(Image.open('empire.jpg').convert('L'), np.uint8)\\n\\nmask = ma.getmask(ma.masked_equal(array, uint8(255)))\\narray = ma.array(clip(array.filled(vmax), vmin, vmax),\\n                                  mask=mask)\\n\\n# ma division is very slow; we can take a shortcut\\nresdat = array.data\\nresdat -= vmin\\nresdat /= (vmax - vmin)\\nresdat *= 254\\narray = np.ma.array(resdat, mask=mask, copy=False)\"\u001b[0m\u001b[1;33m)\u001b[0m\u001b[1;33m\u001b[0m\u001b[0m\n\u001b[0m",
      "\u001b[1;32m/usr/local/lib/python2.7/dist-packages/IPython/core/interactiveshell.pyc\u001b[0m in \u001b[0;36mrun_cell_magic\u001b[1;34m(self, magic_name, line, cell)\u001b[0m\n\u001b[0;32m   2118\u001b[0m             \u001b[0mmagic_arg_s\u001b[0m \u001b[1;33m=\u001b[0m \u001b[0mself\u001b[0m\u001b[1;33m.\u001b[0m\u001b[0mvar_expand\u001b[0m\u001b[1;33m(\u001b[0m\u001b[0mline\u001b[0m\u001b[1;33m,\u001b[0m \u001b[0mstack_depth\u001b[0m\u001b[1;33m)\u001b[0m\u001b[1;33m\u001b[0m\u001b[0m\n\u001b[0;32m   2119\u001b[0m             \u001b[1;32mwith\u001b[0m \u001b[0mself\u001b[0m\u001b[1;33m.\u001b[0m\u001b[0mbuiltin_trap\u001b[0m\u001b[1;33m:\u001b[0m\u001b[1;33m\u001b[0m\u001b[0m\n\u001b[1;32m-> 2120\u001b[1;33m                 \u001b[0mresult\u001b[0m \u001b[1;33m=\u001b[0m \u001b[0mfn\u001b[0m\u001b[1;33m(\u001b[0m\u001b[0mmagic_arg_s\u001b[0m\u001b[1;33m,\u001b[0m \u001b[0mcell\u001b[0m\u001b[1;33m)\u001b[0m\u001b[1;33m\u001b[0m\u001b[0m\n\u001b[0m\u001b[0;32m   2121\u001b[0m             \u001b[1;32mreturn\u001b[0m \u001b[0mresult\u001b[0m\u001b[1;33m\u001b[0m\u001b[0m\n\u001b[0;32m   2122\u001b[0m \u001b[1;33m\u001b[0m\u001b[0m\n",
      "\u001b[1;32m<decorator-gen-59>\u001b[0m in \u001b[0;36mtimeit\u001b[1;34m(self, line, cell)\u001b[0m\n",
      "\u001b[1;32m/usr/local/lib/python2.7/dist-packages/IPython/core/magic.pyc\u001b[0m in \u001b[0;36m<lambda>\u001b[1;34m(f, *a, **k)\u001b[0m\n\u001b[0;32m    191\u001b[0m     \u001b[1;31m# but it's overkill for just that one bit of state.\u001b[0m\u001b[1;33m\u001b[0m\u001b[1;33m\u001b[0m\u001b[0m\n\u001b[0;32m    192\u001b[0m     \u001b[1;32mdef\u001b[0m \u001b[0mmagic_deco\u001b[0m\u001b[1;33m(\u001b[0m\u001b[0marg\u001b[0m\u001b[1;33m)\u001b[0m\u001b[1;33m:\u001b[0m\u001b[1;33m\u001b[0m\u001b[0m\n\u001b[1;32m--> 193\u001b[1;33m         \u001b[0mcall\u001b[0m \u001b[1;33m=\u001b[0m \u001b[1;32mlambda\u001b[0m \u001b[0mf\u001b[0m\u001b[1;33m,\u001b[0m \u001b[1;33m*\u001b[0m\u001b[0ma\u001b[0m\u001b[1;33m,\u001b[0m \u001b[1;33m**\u001b[0m\u001b[0mk\u001b[0m\u001b[1;33m:\u001b[0m \u001b[0mf\u001b[0m\u001b[1;33m(\u001b[0m\u001b[1;33m*\u001b[0m\u001b[0ma\u001b[0m\u001b[1;33m,\u001b[0m \u001b[1;33m**\u001b[0m\u001b[0mk\u001b[0m\u001b[1;33m)\u001b[0m\u001b[1;33m\u001b[0m\u001b[0m\n\u001b[0m\u001b[0;32m    194\u001b[0m \u001b[1;33m\u001b[0m\u001b[0m\n\u001b[0;32m    195\u001b[0m         \u001b[1;32mif\u001b[0m \u001b[0mcallable\u001b[0m\u001b[1;33m(\u001b[0m\u001b[0marg\u001b[0m\u001b[1;33m)\u001b[0m\u001b[1;33m:\u001b[0m\u001b[1;33m\u001b[0m\u001b[0m\n",
      "\u001b[1;32m/usr/local/lib/python2.7/dist-packages/IPython/core/magics/execution.pyc\u001b[0m in \u001b[0;36mtimeit\u001b[1;34m(self, line, cell)\u001b[0m\n\u001b[0;32m   1044\u001b[0m                     \u001b[1;32mbreak\u001b[0m\u001b[1;33m\u001b[0m\u001b[0m\n\u001b[0;32m   1045\u001b[0m                 \u001b[0mnumber\u001b[0m \u001b[1;33m*=\u001b[0m \u001b[1;36m10\u001b[0m\u001b[1;33m\u001b[0m\u001b[0m\n\u001b[1;32m-> 1046\u001b[1;33m         \u001b[0mall_runs\u001b[0m \u001b[1;33m=\u001b[0m \u001b[0mtimer\u001b[0m\u001b[1;33m.\u001b[0m\u001b[0mrepeat\u001b[0m\u001b[1;33m(\u001b[0m\u001b[0mrepeat\u001b[0m\u001b[1;33m,\u001b[0m \u001b[0mnumber\u001b[0m\u001b[1;33m)\u001b[0m\u001b[1;33m\u001b[0m\u001b[0m\n\u001b[0m\u001b[0;32m   1047\u001b[0m         \u001b[0mbest\u001b[0m \u001b[1;33m=\u001b[0m \u001b[0mmin\u001b[0m\u001b[1;33m(\u001b[0m\u001b[0mall_runs\u001b[0m\u001b[1;33m)\u001b[0m \u001b[1;33m/\u001b[0m \u001b[0mnumber\u001b[0m\u001b[1;33m\u001b[0m\u001b[0m\n\u001b[0;32m   1048\u001b[0m \u001b[1;33m\u001b[0m\u001b[0m\n",
      "\u001b[1;32m/usr/lib/python2.7/timeit.pyc\u001b[0m in \u001b[0;36mrepeat\u001b[1;34m(self, repeat, number)\u001b[0m\n\u001b[0;32m    221\u001b[0m         \u001b[0mr\u001b[0m \u001b[1;33m=\u001b[0m \u001b[1;33m[\u001b[0m\u001b[1;33m]\u001b[0m\u001b[1;33m\u001b[0m\u001b[0m\n\u001b[0;32m    222\u001b[0m         \u001b[1;32mfor\u001b[0m \u001b[0mi\u001b[0m \u001b[1;32min\u001b[0m \u001b[0mrange\u001b[0m\u001b[1;33m(\u001b[0m\u001b[0mrepeat\u001b[0m\u001b[1;33m)\u001b[0m\u001b[1;33m:\u001b[0m\u001b[1;33m\u001b[0m\u001b[0m\n\u001b[1;32m--> 223\u001b[1;33m             \u001b[0mt\u001b[0m \u001b[1;33m=\u001b[0m \u001b[0mself\u001b[0m\u001b[1;33m.\u001b[0m\u001b[0mtimeit\u001b[0m\u001b[1;33m(\u001b[0m\u001b[0mnumber\u001b[0m\u001b[1;33m)\u001b[0m\u001b[1;33m\u001b[0m\u001b[0m\n\u001b[0m\u001b[0;32m    224\u001b[0m             \u001b[0mr\u001b[0m\u001b[1;33m.\u001b[0m\u001b[0mappend\u001b[0m\u001b[1;33m(\u001b[0m\u001b[0mt\u001b[0m\u001b[1;33m)\u001b[0m\u001b[1;33m\u001b[0m\u001b[0m\n\u001b[0;32m    225\u001b[0m         \u001b[1;32mreturn\u001b[0m \u001b[0mr\u001b[0m\u001b[1;33m\u001b[0m\u001b[0m\n",
      "\u001b[1;32m/usr/local/lib/python2.7/dist-packages/IPython/core/magics/execution.pyc\u001b[0m in \u001b[0;36mtimeit\u001b[1;34m(self, number)\u001b[0m\n\u001b[0;32m    135\u001b[0m         \u001b[0mgc\u001b[0m\u001b[1;33m.\u001b[0m\u001b[0mdisable\u001b[0m\u001b[1;33m(\u001b[0m\u001b[1;33m)\u001b[0m\u001b[1;33m\u001b[0m\u001b[0m\n\u001b[0;32m    136\u001b[0m         \u001b[1;32mtry\u001b[0m\u001b[1;33m:\u001b[0m\u001b[1;33m\u001b[0m\u001b[0m\n\u001b[1;32m--> 137\u001b[1;33m             \u001b[0mtiming\u001b[0m \u001b[1;33m=\u001b[0m \u001b[0mself\u001b[0m\u001b[1;33m.\u001b[0m\u001b[0minner\u001b[0m\u001b[1;33m(\u001b[0m\u001b[0mit\u001b[0m\u001b[1;33m,\u001b[0m \u001b[0mself\u001b[0m\u001b[1;33m.\u001b[0m\u001b[0mtimer\u001b[0m\u001b[1;33m)\u001b[0m\u001b[1;33m\u001b[0m\u001b[0m\n\u001b[0m\u001b[0;32m    138\u001b[0m         \u001b[1;32mfinally\u001b[0m\u001b[1;33m:\u001b[0m\u001b[1;33m\u001b[0m\u001b[0m\n\u001b[0;32m    139\u001b[0m             \u001b[1;32mif\u001b[0m \u001b[0mgcold\u001b[0m\u001b[1;33m:\u001b[0m\u001b[1;33m\u001b[0m\u001b[0m\n",
      "\u001b[1;32m<magic-timeit>\u001b[0m in \u001b[0;36minner\u001b[1;34m(_it, _timer)\u001b[0m\n",
      "\u001b[1;32m/usr/local/lib/python2.7/dist-packages/numpy/ma/core.pyc\u001b[0m in \u001b[0;36mmasked_equal\u001b[1;34m(x, value, copy)\u001b[0m\n\u001b[0;32m   2034\u001b[0m \u001b[1;33m\u001b[0m\u001b[0m\n\u001b[0;32m   2035\u001b[0m     \"\"\"\n\u001b[1;32m-> 2036\u001b[1;33m     \u001b[0moutput\u001b[0m \u001b[1;33m=\u001b[0m \u001b[0mmasked_where\u001b[0m\u001b[1;33m(\u001b[0m\u001b[0mequal\u001b[0m\u001b[1;33m(\u001b[0m\u001b[0mx\u001b[0m\u001b[1;33m,\u001b[0m \u001b[0mvalue\u001b[0m\u001b[1;33m)\u001b[0m\u001b[1;33m,\u001b[0m \u001b[0mx\u001b[0m\u001b[1;33m,\u001b[0m \u001b[0mcopy\u001b[0m\u001b[1;33m=\u001b[0m\u001b[0mcopy\u001b[0m\u001b[1;33m)\u001b[0m\u001b[1;33m\u001b[0m\u001b[0m\n\u001b[0m\u001b[0;32m   2037\u001b[0m     \u001b[0moutput\u001b[0m\u001b[1;33m.\u001b[0m\u001b[0mfill_value\u001b[0m \u001b[1;33m=\u001b[0m \u001b[0mvalue\u001b[0m\u001b[1;33m\u001b[0m\u001b[0m\n\u001b[0;32m   2038\u001b[0m     \u001b[1;32mreturn\u001b[0m \u001b[0moutput\u001b[0m\u001b[1;33m\u001b[0m\u001b[0m\n",
      "\u001b[1;32m/usr/local/lib/python2.7/dist-packages/numpy/ma/core.pyc\u001b[0m in \u001b[0;36mmasked_where\u001b[1;34m(condition, a, copy)\u001b[0m\n\u001b[0;32m   1875\u001b[0m     \u001b[0mresult\u001b[0m \u001b[1;33m=\u001b[0m \u001b[0ma\u001b[0m\u001b[1;33m.\u001b[0m\u001b[0mview\u001b[0m\u001b[1;33m(\u001b[0m\u001b[0mcls\u001b[0m\u001b[1;33m)\u001b[0m\u001b[1;33m\u001b[0m\u001b[0m\n\u001b[0;32m   1876\u001b[0m     \u001b[1;31m# Assign to *.mask so that structured masks are handled correctly.\u001b[0m\u001b[1;33m\u001b[0m\u001b[1;33m\u001b[0m\u001b[0m\n\u001b[1;32m-> 1877\u001b[1;33m     \u001b[0mresult\u001b[0m\u001b[1;33m.\u001b[0m\u001b[0mmask\u001b[0m \u001b[1;33m=\u001b[0m \u001b[0mcond\u001b[0m\u001b[1;33m\u001b[0m\u001b[0m\n\u001b[0m\u001b[0;32m   1878\u001b[0m     \u001b[1;32mreturn\u001b[0m \u001b[0mresult\u001b[0m\u001b[1;33m\u001b[0m\u001b[0m\n\u001b[0;32m   1879\u001b[0m \u001b[1;33m\u001b[0m\u001b[0m\n",
      "\u001b[1;32m/usr/local/lib/python2.7/dist-packages/numpy/ma/core.pyc\u001b[0m in \u001b[0;36m__setattr__\u001b[1;34m(self, attr, value)\u001b[0m\n\u001b[0;32m   3263\u001b[0m \u001b[1;33m\u001b[0m\u001b[0m\n\u001b[0;32m   3264\u001b[0m     \u001b[1;32mdef\u001b[0m \u001b[0m__setattr__\u001b[0m\u001b[1;33m(\u001b[0m\u001b[0mself\u001b[0m\u001b[1;33m,\u001b[0m \u001b[0mattr\u001b[0m\u001b[1;33m,\u001b[0m \u001b[0mvalue\u001b[0m\u001b[1;33m)\u001b[0m\u001b[1;33m:\u001b[0m\u001b[1;33m\u001b[0m\u001b[0m\n\u001b[1;32m-> 3265\u001b[1;33m         \u001b[0msuper\u001b[0m\u001b[1;33m(\u001b[0m\u001b[0mMaskedArray\u001b[0m\u001b[1;33m,\u001b[0m \u001b[0mself\u001b[0m\u001b[1;33m)\u001b[0m\u001b[1;33m.\u001b[0m\u001b[0m__setattr__\u001b[0m\u001b[1;33m(\u001b[0m\u001b[0mattr\u001b[0m\u001b[1;33m,\u001b[0m \u001b[0mvalue\u001b[0m\u001b[1;33m)\u001b[0m\u001b[1;33m\u001b[0m\u001b[0m\n\u001b[0m\u001b[0;32m   3266\u001b[0m         \u001b[1;32mif\u001b[0m \u001b[0mattr\u001b[0m \u001b[1;33m==\u001b[0m \u001b[1;34m'dtype'\u001b[0m \u001b[1;32mand\u001b[0m \u001b[0mself\u001b[0m\u001b[1;33m.\u001b[0m\u001b[0m_mask\u001b[0m \u001b[1;32mis\u001b[0m \u001b[1;32mnot\u001b[0m \u001b[0mnomask\u001b[0m\u001b[1;33m:\u001b[0m\u001b[1;33m\u001b[0m\u001b[0m\n\u001b[0;32m   3267\u001b[0m             \u001b[0mself\u001b[0m\u001b[1;33m.\u001b[0m\u001b[0m_mask\u001b[0m \u001b[1;33m=\u001b[0m \u001b[0mself\u001b[0m\u001b[1;33m.\u001b[0m\u001b[0m_mask\u001b[0m\u001b[1;33m.\u001b[0m\u001b[0mview\u001b[0m\u001b[1;33m(\u001b[0m\u001b[0mmake_mask_descr\u001b[0m\u001b[1;33m(\u001b[0m\u001b[0mvalue\u001b[0m\u001b[1;33m)\u001b[0m\u001b[1;33m,\u001b[0m \u001b[0mndarray\u001b[0m\u001b[1;33m)\u001b[0m\u001b[1;33m\u001b[0m\u001b[0m\n",
      "\u001b[1;32m/usr/local/lib/python2.7/dist-packages/numpy/ma/core.pyc\u001b[0m in \u001b[0;36m__setmask__\u001b[1;34m(self, mask, copy)\u001b[0m\n\u001b[0;32m   3322\u001b[0m             \u001b[1;31m# Otherwise fall back to the slower, general purpose way.\u001b[0m\u001b[1;33m\u001b[0m\u001b[1;33m\u001b[0m\u001b[0m\n\u001b[0;32m   3323\u001b[0m             \u001b[1;32melse\u001b[0m\u001b[1;33m:\u001b[0m\u001b[1;33m\u001b[0m\u001b[0m\n\u001b[1;32m-> 3324\u001b[1;33m                 \u001b[0mcurrent_mask\u001b[0m\u001b[1;33m.\u001b[0m\u001b[0mflat\u001b[0m \u001b[1;33m=\u001b[0m \u001b[0mmask\u001b[0m\u001b[1;33m\u001b[0m\u001b[0m\n\u001b[0m\u001b[0;32m   3325\u001b[0m         \u001b[1;32melse\u001b[0m\u001b[1;33m:\u001b[0m\u001b[1;33m\u001b[0m\u001b[0m\n\u001b[0;32m   3326\u001b[0m             \u001b[1;31m# Named fields w/\u001b[0m\u001b[1;33m\u001b[0m\u001b[1;33m\u001b[0m\u001b[0m\n",
      "\u001b[1;31mKeyboardInterrupt\u001b[0m: "
     ]
    }
   ],
   "source": [
    "%%timeit\n",
    "\n",
    "array = np.ma.asarray(Image.open('empire.jpg').convert('L'), np.uint8)\n",
    "\n",
    "mask = ma.getmask(ma.masked_equal(array, uint8(255)))\n",
    "array = ma.array(clip(array.filled(vmax), vmin, vmax),\n",
    "                                  mask=mask)\n",
    "\n",
    "# ma division is very slow; we can take a shortcut\n",
    "resdat = array.data\n",
    "resdat -= vmin\n",
    "resdat /= (vmax - vmin)\n",
    "resdat *= 254\n",
    "array = np.ma.array(resdat, mask=mask, copy=False)\n"
   ]
  },
  {
   "cell_type": "code",
   "execution_count": null,
   "metadata": {
    "collapsed": false
   },
   "outputs": [],
   "source": [
    "%%timeit\n",
    "\n",
    "array = np.asarray(Image.open('empire.jpg').convert('L'), np.uint8)\n",
    "mask = array==255\n",
    "array = np.array(clip(array, vmin, vmax))\n",
    "\n",
    "# ma division is very slow; we can take a shortcut\n",
    "array -= vmin\n",
    "array /= (vmax - vmin)\n",
    "array *= 254\n",
    "array[mask] = 255"
   ]
  },
  {
   "cell_type": "code",
   "execution_count": null,
   "metadata": {
    "collapsed": false
   },
   "outputs": [],
   "source": []
  },
  {
   "cell_type": "markdown",
   "metadata": {},
   "source": [
    "### Image caching speed"
   ]
  },
  {
   "cell_type": "code",
   "execution_count": null,
   "metadata": {
    "collapsed": false
   },
   "outputs": [],
   "source": [
    "import redis\n",
    "import numpy as np\n",
    "r = redis.Redis(host='10.170.0.153', password='jM8vBgR4', db=0)"
   ]
  },
  {
   "cell_type": "code",
   "execution_count": null,
   "metadata": {
    "collapsed": false
   },
   "outputs": [],
   "source": [
    "import matplotlib\n",
    "from matplotlib.pylab import gray, imsave, jet\n",
    "matplotlib.use('Agg')\n",
    "from io import BytesIO\n",
    "vmin=0\n",
    "vmax=254\n",
    "from numpy.random import random as randomArray"
   ]
  },
  {
   "cell_type": "markdown",
   "metadata": {},
   "source": [
    "#### matplotlib"
   ]
  },
  {
   "cell_type": "code",
   "execution_count": null,
   "metadata": {
    "collapsed": false
   },
   "outputs": [],
   "source": [
    "from matplotlib import image"
   ]
  },
  {
   "cell_type": "code",
   "execution_count": null,
   "metadata": {
    "collapsed": false
   },
   "outputs": [],
   "source": [
    "%%timeit\n",
    "\n",
    "buf = BytesIO()\n",
    "imsave(buf, array, vmin=vmin, vmax=vmax, format='png')\n",
    "buf.seek(0)\n",
    "content = buf.getvalue()\n",
    "buf.close()\n",
    "\n",
    "tilekey = 'SOLAB-SENTINEL-1/S1A_EW_GRDH_1SDH_20141003T102452_20141003T102553_002664_002F76_F611/2/0/0/0/0'\n",
    "r.setex(tilekey, content, 24*60*60)\n",
    "content = r.get(tilekey)"
   ]
  },
  {
   "cell_type": "code",
   "execution_count": null,
   "metadata": {
    "collapsed": false
   },
   "outputs": [],
   "source": [
    "# %%timeit\n",
    "\n",
    "buf = BytesIO(content)\n",
    "body = np.array(image.imread(buf), np.uint8)\n",
    "body = np.ma.masked_equal(body, 255)"
   ]
  },
  {
   "cell_type": "markdown",
   "metadata": {},
   "source": [
    "#### pillow"
   ]
  },
  {
   "cell_type": "code",
   "execution_count": null,
   "metadata": {
    "collapsed": true
   },
   "outputs": [],
   "source": [
    "from PIL import Image"
   ]
  },
  {
   "cell_type": "code",
   "execution_count": null,
   "metadata": {
    "collapsed": false
   },
   "outputs": [],
   "source": [
    "%%timeit -r 10\n",
    "bodyPIL = np.array(Image.open(bufPIL), np.uint8)"
   ]
  },
  {
   "cell_type": "code",
   "execution_count": null,
   "metadata": {
    "collapsed": false
   },
   "outputs": [],
   "source": [
    "%%timeit -r 10\n",
    "bodyPIL = np.asarray(Image.open(bufPIL), np.uint8)"
   ]
  },
  {
   "cell_type": "code",
   "execution_count": null,
   "metadata": {
    "collapsed": false
   },
   "outputs": [],
   "source": [
    "%%timeit -r 20\n",
    "img = Image.fromarray(np.uint8(matplotlib.pylab.plt.cm.jet(array)*255)).convert(\"L\", colors=256)"
   ]
  },
  {
   "cell_type": "code",
   "execution_count": null,
   "metadata": {
    "collapsed": false
   },
   "outputs": [],
   "source": [
    "%%timeit -r 20\n",
    "img = Image.fromarray(matplotlib.pylab.plt.cm.jet(array, bytes=True)).convert(\"L\", colors=256)"
   ]
  },
  {
   "cell_type": "code",
   "execution_count": null,
   "metadata": {
    "collapsed": false
   },
   "outputs": [],
   "source": [
    "array == 255"
   ]
  },
  {
   "cell_type": "code",
   "execution_count": null,
   "metadata": {
    "collapsed": false
   },
   "outputs": [],
   "source": [
    "from numpy import ma, clip\n",
    "array_ = (randomArray((256,256))*255)"
   ]
  },
  {
   "cell_type": "code",
   "execution_count": null,
   "metadata": {
    "collapsed": false
   },
   "outputs": [],
   "source": [
    "%%timeit\n",
    "array = np.ma.asarray(array_, np.uint8)\n",
    "if type(array) == np.ma.core.MaskedArray:\n",
    "    mask = ma.getmask(array)\n",
    "else:\n",
    "    mask = array==255\n",
    "array = np.array(clip(array, vmin, vmax))"
   ]
  },
  {
   "cell_type": "code",
   "execution_count": null,
   "metadata": {
    "collapsed": true
   },
   "outputs": [],
   "source": [
    "array = array_.copy()"
   ]
  },
  {
   "cell_type": "code",
   "execution_count": null,
   "metadata": {
    "collapsed": false
   },
   "outputs": [],
   "source": [
    "%%timeit\n",
    "array = np.asarray(array_, np.uint8)\n",
    "if type(array) == np.ma.core.MaskedArray:\n",
    "    mask = ma.getmask(array)\n",
    "else:\n",
    "    mask = array==255\n",
    "array = np.array(clip(array, vmin, vmax))"
   ]
  },
  {
   "cell_type": "code",
   "execution_count": null,
   "metadata": {
    "collapsed": true
   },
   "outputs": [],
   "source": []
  },
  {
   "cell_type": "code",
   "execution_count": null,
   "metadata": {
    "collapsed": false
   },
   "outputs": [],
   "source": [
    "%%timeit -r 3\n",
    "\n",
    "vmin=0\n",
    "vmax=254\n",
    "array = np.ma.asarray(randomArray((256,256))*255, np.uint8)\n",
    "# Normalize image in the ``[vmin, vmax]`` interval\n",
    "if vmin == vmax:\n",
    "    array.fill(0)   # Or should it be all masked?  Or 0.5?\n",
    "elif vmin > vmax:\n",
    "    err_message = \"vmin value must be less than or equal to vmax value\"\n",
    "    self.get_return_message(err_message, 400)\n",
    "else:\n",
    "    vmin = float(vmin)\n",
    "    vmax = float(vmax)\n",
    "\n",
    "mask = ma.getmask(ma.masked_equal(array, uint8(255)))\n",
    "array = ma.array(clip(array.filled(vmax), vmin, vmax),\n",
    "                                  mask=mask)\n",
    "\n",
    "# ma division is very slow; we can take a shortcut\n",
    "resdat = array.data\n",
    "resdat -= vmin\n",
    "resdat /= (vmax - vmin)\n",
    "resdat *= 255\n",
    "array = np.ma.array(resdat, mask=array.mask, copy=False)\n",
    "\n",
    "\n",
    "bufPIL = BytesIO()\n",
    "img = Image.fromarray(array).convert(\"L\", colors=256)\n",
    "# img = Image.fromarray(matplotlib.pylab.plt.cm.jet(array, bytes=True)).convert(\"L\", colors=256)\n",
    "img.save(bufPIL, format='png', vmin=vmin, vmax=vmax)\n",
    "bufPIL.seek(0)\n",
    "contentPIL = bufPIL.getvalue()\n",
    "bufPIL.close()\n",
    "\n",
    "tilekey = 'SOLAB-SENTINEL-1/S1A_EW_GRDH_1SDH_20141003T102452_20141003T102553_002664_002F76_F611/2/0/0/0/0-PIL'\n",
    "r.setex(tilekey, contentPIL, 24*60*60)\n",
    "contentPIL = r.get(tilekey)\n",
    "\n",
    "bufPIL = BytesIO(contentPIL)\n",
    "bodyPIL = np.asarray(Image.open(bufPIL), np.uint8)\n",
    "# bodyPIL = np.ma.masked_equal(bodyPIL, 255)\n",
    "bodyPIL =  np.ma.masked_where(bodyPIL == 255, bodyPIL)"
   ]
  },
  {
   "cell_type": "code",
   "execution_count": null,
   "metadata": {
    "collapsed": false
   },
   "outputs": [],
   "source": [
    "%%timeit -r 10\n",
    "np.ma.masked_equal(array, 18)"
   ]
  },
  {
   "cell_type": "code",
   "execution_count": null,
   "metadata": {
    "collapsed": false
   },
   "outputs": [],
   "source": [
    "%%timeit -r 10\n",
    "np.ma.masked_where(array == 18, array)"
   ]
  },
  {
   "cell_type": "markdown",
   "metadata": {},
   "source": [
    "#### Pickle"
   ]
  },
  {
   "cell_type": "code",
   "execution_count": null,
   "metadata": {
    "collapsed": false
   },
   "outputs": [],
   "source": [
    "import pickle"
   ]
  },
  {
   "cell_type": "code",
   "execution_count": null,
   "metadata": {
    "collapsed": false
   },
   "outputs": [],
   "source": [
    "%%timeit -r 20\n",
    "\n",
    "contentPickle = pickle.dumps(array)\n",
    "tilekey = 'SOLAB-SENTINEL-1/S1A_EW_GRDH_1SDH_20141003T102452_20141003T102553_002664_002F76_F611/2/0/0/0/0-Pickle'\n",
    "r.setex(tilekey, contentPickle, 24*60*60)\n",
    "\n",
    "bufPIL = BytesIO()\n",
    "img = Image.fromarray(array).convert(\"RGBA\", colors=256)\n",
    "img.save(bufPIL, format='png', vmin=vmin, vmax=vmax)\n",
    "bufPIL.seek(0)\n",
    "contentPIL = bufPIL.getvalue()\n",
    "bufPIL.close()\n",
    "\n",
    "bodyPickle = pickle.loads(r.get(tilekey))\n",
    "bodyPickle = np.ma.masked_equal(bodyPIL, 255)"
   ]
  },
  {
   "cell_type": "markdown",
   "metadata": {},
   "source": [
    "#### cPickle"
   ]
  },
  {
   "cell_type": "code",
   "execution_count": null,
   "metadata": {
    "collapsed": true
   },
   "outputs": [],
   "source": [
    "import cPickle"
   ]
  },
  {
   "cell_type": "code",
   "execution_count": null,
   "metadata": {
    "collapsed": false
   },
   "outputs": [],
   "source": [
    "%%timeit -r 20\n",
    "\n",
    "contentPickle = cPickle.dumps(array)\n",
    "tilekey = 'SOLAB-SENTINEL-1/S1A_EW_GRDH_1SDH_20141003T102452_20141003T102553_002664_002F76_F611/2/0/0/0/0-cPickle'\n",
    "r.setex(tilekey, contentPickle, 24*60*60)\n",
    "\n",
    "bufPIL = BytesIO()\n",
    "img = Image.fromarray(array).convert(\"RGBA\", colors=256)\n",
    "img.save(bufPIL, format='png', vmin=vmin, vmax=vmax)\n",
    "bufPIL.seek(0)\n",
    "contentPIL = bufPIL.getvalue()\n",
    "bufPIL.close()\n",
    "\n",
    "bodyPickle = cPickle.loads(r.get(tilekey))\n",
    "bodyPickle = np.ma.masked_equal(bodyPIL, 255)"
   ]
  },
  {
   "cell_type": "code",
   "execution_count": null,
   "metadata": {
    "collapsed": true
   },
   "outputs": [],
   "source": []
  },
  {
   "cell_type": "markdown",
   "metadata": {},
   "source": [
    "### Checking cache reading"
   ]
  },
  {
   "cell_type": "code",
   "execution_count": null,
   "metadata": {
    "collapsed": false
   },
   "outputs": [],
   "source": [
    "import numpy as np\n",
    "from io import BytesIO\n",
    "from PIL import Image\n",
    "\n",
    "\n",
    "tilekey = 'SOLAB-SENTINEL-1/S1A_EW_GRDH_1SDH_20141003T233901_20141003T234005_002672_002FA5_F1D1/2/0/0/1/0/gray'\n",
    "contentPIL = r.get(tilekey)\n",
    "bufPIL = BytesIO(contentPIL)\n",
    "bodyPIL = np.asarray(Image.open(bufPIL), np.uint8)\n",
    "bodyPIL =  np.ma.masked_where(bodyPIL == 255, bodyPIL)\n",
    "Image.open(bufPIL)"
   ]
  },
  {
   "cell_type": "code",
   "execution_count": null,
   "metadata": {
    "collapsed": false
   },
   "outputs": [],
   "source": [
    "tilekey = 'SOLAB-SENTINEL-1/S1A_EW_GRDH_1SDH_20141003T233901_20141003T234005_002672_002FA5_F1D1/2/0/0/1/0/jet'\n",
    "contentPIL = r.get(tilekey)\n",
    "bufPIL = BytesIO(contentPIL)\n",
    "bodyPIL = np.asarray(Image.open(bufPIL), np.uint8)\n",
    "bodyPIL =  np.ma.masked_where(bodyPIL == 255, bodyPIL)\n",
    "Image.open(bufPIL)"
   ]
  },
  {
   "cell_type": "code",
   "execution_count": null,
   "metadata": {
    "collapsed": false
   },
   "outputs": [],
   "source": [
    "tilekey = 'SOLAB-SENTINEL-1/S1A_EW_GRDH_1SDH_20141003T233901_20141003T234005_002672_002FA5_F1D1/2/0/0/0/0/gray'\n",
    "contentPIL = r.get(tilekey)\n",
    "bufPIL = BytesIO(contentPIL)\n",
    "bodyPIL = np.asarray(Image.open(bufPIL), np.uint8)\n",
    "bodyPIL =  np.ma.masked_where(bodyPIL == 255, bodyPIL)\n",
    "Image.open(bufPIL)"
   ]
  },
  {
   "cell_type": "code",
   "execution_count": null,
   "metadata": {
    "collapsed": true
   },
   "outputs": [],
   "source": []
  },
  {
   "cell_type": "markdown",
   "metadata": {},
   "source": [
    "IF no granule in ZOOM level => don't read data from disk => put an empty key into cache\n",
    "No better to open NC file first and then to cache only needed tiles: Z/X/Y"
   ]
  },
  {
   "cell_type": "code",
   "execution_count": null,
   "metadata": {
    "collapsed": false
   },
   "outputs": [],
   "source": [
    "from netCDF4 import Dataset as ncDataset\n",
    "nc_path = '/media/SOLabNFS2/store/satellite/SOLAB-SENTINEL-1/2014/10/03//S1A_EW_GRDH_1SDH_20141003T233901_20141003T234005_002672_002FA5_F1D1.nc'\n",
    "dataset = ncDataset(nc_path)\n",
    "\n",
    "body = dataset.variables['Data']"
   ]
  },
  {
   "cell_type": "code",
   "execution_count": null,
   "metadata": {
    "collapsed": false
   },
   "outputs": [],
   "source": [
    "body"
   ]
  },
  {
   "cell_type": "code",
   "execution_count": null,
   "metadata": {
    "collapsed": false
   },
   "outputs": [],
   "source": [
    "body.shape"
   ]
  },
  {
   "cell_type": "code",
   "execution_count": null,
   "metadata": {
    "collapsed": true
   },
   "outputs": [],
   "source": []
  },
  {
   "cell_type": "markdown",
   "metadata": {},
   "source": [
    "### Cache multiple tiles specified by bbox"
   ]
  },
  {
   "cell_type": "code",
   "execution_count": null,
   "metadata": {
    "collapsed": true
   },
   "outputs": [],
   "source": [
    "from ModestMaps.Core import Coordinate\n",
    "from ModestMaps.Geo import Location\n",
    "from ModestMaps.OpenStreetMap import Provider\n",
    "\n",
    "def generateCoordinates(bbox, zooms):\n",
    "    \"\"\" Generate a stream of coordinates for seeding.\n",
    "    \n",
    "        Flood-fill coordinates based on two corners, a list of zooms.\n",
    "        \n",
    "    \"\"\"\n",
    "    \n",
    "    lat1, lon1, lat2, lon2 = bbox\n",
    "    south, west = min(lat1, lat2), min(lon1, lon2)\n",
    "    north, east = max(lat1, lat2), max(lon1, lon2)\n",
    "\n",
    "    northwest = Location(north, west)\n",
    "    southeast = Location(south, east)\n",
    " \n",
    "    osm = Provider()\n",
    "\n",
    "    ul = osm.locationCoordinate(northwest)\n",
    "    lr = osm.locationCoordinate(southeast)\n",
    "\n",
    "    # start with a simple total of all the coordinates we will need.\n",
    "    count = 0\n",
    "    \n",
    "    for zoom in zooms:\n",
    "        ul_ = ul.zoomTo(zoom).container().left().up()\n",
    "        lr_ = lr.zoomTo(zoom).container().right().down()\n",
    "        \n",
    "        rows = lr_.row + 1 - ul_.row\n",
    "        cols = lr_.column + 1 - ul_.column\n",
    "        \n",
    "        count += int(rows * cols)\n",
    "\n",
    "    # now generate the actual coordinates.\n",
    "    # offset starts at zero\n",
    "    offset = 0\n",
    "    \n",
    "    for zoom in zooms:\n",
    "        ul_ = ul.zoomTo(zoom).container().left().up()\n",
    "        lr_ = lr.zoomTo(zoom).container().right().down()\n",
    "\n",
    "        for row in range(int(ul_.row), int(lr_.row + 1)):\n",
    "            for column in range(int(ul_.column), int(lr_.column + 1)):\n",
    "                coord = Coordinate(row, column, zoom)\n",
    "                \n",
    "                yield coord\n",
    "                offset += 1"
   ]
  },
  {
   "cell_type": "code",
   "execution_count": null,
   "metadata": {
    "collapsed": false
   },
   "outputs": [],
   "source": [
    "from os import listdir\n",
    "\n",
    "# granule = 'S1A_EW_GRDM_1SDH_20141003T183449_20141003T183553_002669_002F93_5A6D'\n",
    "\n",
    "pn = '/media/SOLabNFS2/store/satellite/SOLAB-SENTINEL-1/2014/10/03/'\n",
    "# granule_list = listdir(pn)\n",
    "granule_list = {listdir(pn)[1]}\n",
    "\n",
    "bbox = [35, -50, 80, 180]\n",
    "zooms = [0,1,2,3,4,5,6]\n",
    "\n",
    "var_list = ['sigma0w', 'wind_speed']\n",
    "\n",
    "urls = []\n",
    "\n",
    "if isinstance(zooms[0], str):\n",
    "    for (i, zoom) in enumerate(zooms):\n",
    "        if not zoom.isdigit():\n",
    "            raise KnownUnknown('\"%s\" is not a valid numeric zoom level.' % zoom)\n",
    "\n",
    "        zooms[i] = int(zoom)\n",
    "\n",
    "coords = []\n",
    "coordinates = generateCoordinates(bbox, zooms)\n",
    "# List coordinates with one Z/X/Y coordinate per line.\n",
    "for coord in coordinates:\n",
    "    if coord.__dict__['column'] > 0 and coord.__dict__['row'] > 0:\n",
    "        coords.append('zoom=' + str(coord.__dict__['zoom']) + \n",
    "                      '&x='   + str(coord.__dict__['column']) +\n",
    "                      '&y='   + str(coord.__dict__['row']))\n",
    "\n",
    "for granule in granule_list:\n",
    "    for var in var_list:\n",
    "        for coord in coords:\n",
    "            urls.append(\n",
    "                'http://10.170.0.153:9090/wms?product=SOLAB-SENTINEL-1&' +\n",
    "                'variable=' + var +\n",
    "                '&granule=' + granule[:-3] +\n",
    "                '&projection=EPSG%3A3413&polarization=hh&vmin=63&vmax=191&' +\n",
    "                 coord)\n",
    "urls.sort()\n",
    "\n",
    "print len(urls)\n",
    "# print urls"
   ]
  },
  {
   "cell_type": "code",
   "execution_count": null,
   "metadata": {
    "collapsed": true
   },
   "outputs": [],
   "source": [
    "%%timeit -r 1\n",
    "requests = multi_get(urls,timeout=1)\n",
    "# for url, data in requests:\n",
    "#     print \"received from this url \\n%s\" % (url)"
   ]
  },
  {
   "cell_type": "markdown",
   "metadata": {},
   "source": [
    "### Playing with coords"
   ]
  },
  {
   "cell_type": "code",
   "execution_count": null,
   "metadata": {
    "collapsed": false
   },
   "outputs": [],
   "source": [
    "bbox = [35, -50, 80, 180]\n",
    "zooms = ['0', '1']\n",
    "\n",
    "for (i, zoom) in enumerate(zooms):\n",
    "    if not zoom.isdigit():\n",
    "        raise KnownUnknown('\"%s\" is not a valid numeric zoom level.' % zoom)\n",
    "\n",
    "    zooms[i] = int(zoom)\n",
    "\n",
    "coordinates = generateCoordinates(bbox, zooms)\n",
    "coords = []\n",
    "# List coordinates with one Z/X/Y coordinate per line.\n",
    "for coord in coordinates:\n",
    "#     print '%(zoom)d/%(column)d/%(row)d' % coord.__dict__\n",
    "#     print str(coord.__dict__['zoom']) + '/' + str(coord.__dict__['column']) + '/' + str(coord.__dict__['row'])\n",
    "    if coord.__dict__['column'] > 0 and coord.__dict__['row'] >0:\n",
    "        coords.append('zoom=' + str(coord.__dict__['zoom']) + \n",
    "                      '&x='   + str(coord.__dict__['column']) +\n",
    "                      '&y='   + str(coord.__dict__['row']))\n",
    "coords"
   ]
  },
  {
   "cell_type": "markdown",
   "metadata": {},
   "source": [
    "#### Request every tile"
   ]
  },
  {
   "cell_type": "code",
   "execution_count": null,
   "metadata": {
    "collapsed": false
   },
   "outputs": [],
   "source": [
    "from os import listdir\n",
    "from netCDF4 import Dataset as ncDataset\n",
    "\n",
    "# granule = 'S1A_EW_GRDM_1SDH_20141003T183449_20141003T183553_002669_002F93_5A6D'\n",
    "\n",
    "pn = '/media/SOLabNFS2/store/satellite/SOLAB-SENTINEL-1/2014/10/03/'\n",
    "\n",
    "granule_list = listdir(pn)\n",
    "# granule_list = {listdir(pn)[1]}\n",
    "\n",
    "var_list = ['sigma0w', 'wind_speed']\n",
    "urls = []\n",
    "coords = []\n",
    "\n",
    "for granule in granule_list:\n",
    "    dataset = ncDataset(pn + granule)\n",
    "    coords = dataset.variables['Data'].shape\n",
    "    for var in var_list:\n",
    "        for zoom in range(coords[2]):\n",
    "            for x in range(coords[3]):\n",
    "                for y in range(coords[4]):\n",
    "                    urls.append(\n",
    "                        'http://10.170.0.153:9090/wms?product=SOLAB-SENTINEL-1&' +\n",
    "                        'variable=' + var +\n",
    "                        '&granule=' + granule[:-3] +\n",
    "                        '&projection=EPSG%3A3413&polarization=hh&vmin=63&vmax=191&' +\n",
    "                        'zoom=' + str(zoom) +\n",
    "                        '&x=' + str(x) +\n",
    "                        '&y=' + str(y))\n",
    "urls.sort()\n",
    "\n",
    "print len(urls)\n",
    "# print urls"
   ]
  },
  {
   "cell_type": "code",
   "execution_count": null,
   "metadata": {
    "collapsed": false,
    "scrolled": true
   },
   "outputs": [],
   "source": [
    "%%timeit -r 1\n",
    "requests = multi_get(urls[::10000],timeout=1)\n",
    "# for url, data in requests:\n",
    "#     print \"received from this url \\n%s\" % (url)"
   ]
  }
 ],
 "metadata": {
  "kernelspec": {
   "display_name": "Python 2",
   "language": "python",
   "name": "python2"
  },
  "language_info": {
   "codemirror_mode": {
    "name": "ipython",
    "version": 2
   },
   "file_extension": ".py",
   "mimetype": "text/x-python",
   "name": "python",
   "nbconvert_exporter": "python",
   "pygments_lexer": "ipython2",
   "version": "2.7.6"
  },
  "latex_envs": {
   "bibliofile": "biblio.bib",
   "cite_by": "apalike",
   "current_citInitial": 1,
   "eqLabelWithNumbers": true,
   "eqNumInitial": 0
  },
  "widgets": {
   "state": {},
   "version": "1.1.1"
  }
 },
 "nbformat": 4,
 "nbformat_minor": 0
}
