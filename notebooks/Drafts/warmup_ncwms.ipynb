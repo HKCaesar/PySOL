{
 "cells": [
  {
   "cell_type": "markdown",
   "metadata": {},
   "source": [
    "### Function definitions"
   ]
  },
  {
   "cell_type": "code",
   "execution_count": 2,
   "metadata": {
    "collapsed": true
   },
   "outputs": [],
   "source": [
    "from multiprocessing import Process\n",
    "from urllib import urlopen\n",
    "from time import sleep\n",
    "\n",
    "UPDATE_INTERVAL = 0.3\n",
    "\n",
    "class URLThread(Process):\n",
    "    def __init__(self,url):\n",
    "        super(URLThread, self).__init__()\n",
    "        self.url = url\n",
    "        self.response = None\n",
    "\n",
    "    def run(self):\n",
    "        self.request = urlopen(self.url)\n",
    "        self.response = self.request.read()\n",
    "\n",
    "def multi_get(uris,timeout=2.0):\n",
    "    def alive_count(lst):\n",
    "        alive = map(lambda x : 1 if x.is_alive() else 0, lst)\n",
    "        return reduce(lambda a,b : a + b, alive)\n",
    "    threads = [ URLThread(uri) for uri in uris ]\n",
    "    for thread in threads:\n",
    "        thread.start()\n",
    "    while alive_count(threads) > 0 and timeout > 0.0:\n",
    "        timeout = timeout - UPDATE_INTERVAL\n",
    "        sleep(UPDATE_INTERVAL)\n",
    "    for thread in threads:\n",
    "        thread.join()\n",
    "    return [ (x.url, x.response) for x in threads ]"
   ]
  },
  {
   "cell_type": "raw",
   "metadata": {
    "collapsed": true
   },
   "source": [
    "from threading import Thread\n",
    "from urllib import urlopen\n",
    "from time import sleep\n",
    "\n",
    "UPDATE_INTERVAL = 0.3\n",
    "\n",
    "class URLThread(Thread):\n",
    "    def __init__(self,url):\n",
    "        super(URLThread, self).__init__()\n",
    "        self.url = url\n",
    "        self.response = None\n",
    "\n",
    "    def run(self):\n",
    "        self.request = urlopen(self.url)\n",
    "        self.response = self.request.read()\n",
    "\n",
    "def multi_get(uris,timeout=2.0):\n",
    "    def alive_count(lst):\n",
    "        alive = map(lambda x : 1 if x.isAlive() else 0, lst)\n",
    "        return reduce(lambda a,b : a + b, alive)\n",
    "    threads = [ URLThread(uri) for uri in uris ]\n",
    "    for thread in threads:\n",
    "        thread.start()\n",
    "    while alive_count(threads) > 0 and timeout > 0.0:\n",
    "        timeout = timeout - UPDATE_INTERVAL\n",
    "        sleep(UPDATE_INTERVAL)\n",
    "    for thread in threads:\n",
    "        thread.join()\n",
    "    return [ (x.url, x.response) for x in threads ]"
   ]
  },
  {
   "cell_type": "markdown",
   "metadata": {},
   "source": [
    "### Cache the data from a specified set of netCDF files\n",
    "#### Request only one tile from every zoom level to cache all zoom levels"
   ]
  },
  {
   "cell_type": "code",
   "execution_count": 3,
   "metadata": {
    "collapsed": false
   },
   "outputs": [
    {
     "name": "stdout",
     "output_type": "stream",
     "text": [
      "Total number of files: 1037\n",
      "Total number of zoom-level requests: 88145\n"
     ]
    }
   ],
   "source": [
    "import os\n",
    "from netCDF4 import Dataset as ncDataset\n",
    "\n",
    "# granule = 'S1A_EW_GRDM_1SDH_20141003T183449_20141003T183553_002669_002F93_5A6D'\n",
    "\n",
    "# pn = '/media/SOLabNFS2/store/satellite/SOLAB-SENTINEL-1/2014/10/03/'\n",
    "pn = '/nfs1/store/nctiles/SOLAB_ASAR/epsg_3413/2012/'\n",
    "\n",
    "# granule_list = listdir(pn)\n",
    "granule_list = [os.path.join(dn,fn) for dn,_,fns in os.walk(pn) for fn in fns if fn.endswith('.nc')]\n",
    "\n",
    "# product = 'SOLAB-SENTINEL-1'\n",
    "product = 'SOLAB_ASAR'\n",
    "var_list = ['sigma0']\n",
    "\n",
    "urls = []\n",
    "coords = []\n",
    "\n",
    "x = y = 0\n",
    "\n",
    "print \"Total number of files: %s\" %len(granule_list)\n",
    "for granule in granule_list:\n",
    "    dataset = ncDataset(granule)\n",
    "    try:\n",
    "        p = dataset.polarizations\n",
    "    except Exception as e:\n",
    "        p = 'vv'\n",
    "    coords = dataset.variables['Data'].shape\n",
    "    for var in var_list:\n",
    "#         for zoom in range(coords[2]):\n",
    "        for zoom in range(4):\n",
    "            for x in range(2**zoom):\n",
    "                for y in range(2**zoom):\n",
    "                    urls.append(\n",
    "                        'http://10.170.0.153:9090/wms?' +\n",
    "                        'product=' + product +\n",
    "                        '&variable=' + var +\n",
    "                        '&granule=' + granule[-62:-3] +\n",
    "                        '&projection=EPSG%3A3413' +\n",
    "                        '&polarization=' + str(p) +\n",
    "                        '&vmin=63&vmax=191&' +\n",
    "                        'zoom=' + str(zoom) +\n",
    "                        '&x=' + str(x) +\n",
    "                        '&y=' + str(y))\n",
    "    dataset.close()\n",
    "urls.sort()\n",
    "\n",
    "print \"Total number of zoom-level requests: %s\" %len(urls)"
   ]
  },
  {
   "cell_type": "code",
   "execution_count": null,
   "metadata": {
    "collapsed": false
   },
   "outputs": [
    {
     "name": "stderr",
     "output_type": "stream",
     "text": [
      "Process URLThread-2658:\n",
      "Traceback (most recent call last):\n",
      "Process URLThread-2662:\n",
      "Process URLThread-2657:\n",
      "  File \"/usr/lib/python2.7/multiprocessing/process.py\", line 258, in _bootstrap\n",
      "Process URLThread-2661:\n",
      "Traceback (most recent call last):\n",
      "Traceback (most recent call last):\n",
      "  File \"/usr/lib/python2.7/multiprocessing/process.py\", line 258, in _bootstrap\n",
      "Process URLThread-2660:\n",
      "Traceback (most recent call last):\n",
      "  File \"/usr/lib/python2.7/multiprocessing/process.py\", line 258, in _bootstrap\n",
      "Traceback (most recent call last):\n",
      "  File \"/usr/lib/python2.7/multiprocessing/process.py\", line 258, in _bootstrap\n",
      "Process URLThread-2659:\n",
      "  File \"/usr/lib/python2.7/multiprocessing/process.py\", line 258, in _bootstrap\n",
      "Process URLThread-2663:\n",
      "Traceback (most recent call last):\n",
      "Traceback (most recent call last):\n",
      "    self.run()\n",
      "    self.run()\n",
      "    self.run()\n",
      "    self.run()\n",
      "  File \"/usr/lib/python2.7/multiprocessing/process.py\", line 258, in _bootstrap\n",
      "  File \"/usr/lib/python2.7/multiprocessing/process.py\", line 258, in _bootstrap\n",
      "    self.run()\n",
      "Process URLThread-2664:\n",
      "Process URLThread-2665:\n",
      "  File \"<ipython-input-2-72ba71fb1416>\", line 14, in run\n",
      "  File \"<ipython-input-2-72ba71fb1416>\", line 14, in run\n",
      "  File \"<ipython-input-2-72ba71fb1416>\", line 14, in run\n",
      "  File \"<ipython-input-2-72ba71fb1416>\", line 14, in run\n",
      "    self.run()\n",
      "Traceback (most recent call last):\n",
      "Traceback (most recent call last):\n",
      "    self.run()\n",
      "  File \"<ipython-input-2-72ba71fb1416>\", line 14, in run\n",
      "  File \"<ipython-input-2-72ba71fb1416>\", line 14, in run\n",
      "    self.request = urlopen(self.url)\n",
      "  File \"/usr/lib/python2.7/multiprocessing/process.py\", line 258, in _bootstrap\n",
      "  File \"<ipython-input-2-72ba71fb1416>\", line 14, in run\n",
      "    self.request = urlopen(self.url)\n",
      "    self.request = urlopen(self.url)\n",
      "  File \"/usr/lib/python2.7/multiprocessing/process.py\", line 258, in _bootstrap\n",
      "    self.request = urlopen(self.url)\n",
      "    self.run()\n",
      "  File \"/usr/lib/python2.7/urllib.py\", line 87, in urlopen\n",
      "    self.request = urlopen(self.url)\n",
      "  File \"/usr/lib/python2.7/urllib.py\", line 87, in urlopen\n",
      "    self.request = urlopen(self.url)\n",
      "    self.request = urlopen(self.url)\n",
      "    self.run()\n",
      "Process URLThread-2666:\n",
      "  File \"/usr/lib/python2.7/urllib.py\", line 87, in urlopen\n",
      "  File \"/usr/lib/python2.7/urllib.py\", line 87, in urlopen\n",
      "  File \"/usr/lib/python2.7/urllib.py\", line 87, in urlopen\n",
      "  File \"/usr/lib/python2.7/urllib.py\", line 87, in urlopen\n",
      "  File \"<ipython-input-2-72ba71fb1416>\", line 14, in run\n",
      "  File \"/usr/lib/python2.7/urllib.py\", line 87, in urlopen\n",
      "Traceback (most recent call last):\n",
      "  File \"<ipython-input-2-72ba71fb1416>\", line 14, in run\n",
      "  File \"/usr/lib/python2.7/multiprocessing/process.py\", line 258, in _bootstrap\n",
      "    self.run()\n",
      "    self.request = urlopen(self.url)\n",
      "    self.request = urlopen(self.url)\n",
      "    return opener.open(url)\n",
      "  File \"/usr/lib/python2.7/urllib.py\", line 87, in urlopen\n",
      "    return opener.open(url)\n",
      "  File \"/usr/lib/python2.7/urllib.py\", line 87, in urlopen\n",
      "    return opener.open(url)\n",
      "    return opener.open(url)\n",
      "    return opener.open(url)\n",
      "    return opener.open(url)\n",
      "  File \"<ipython-input-2-72ba71fb1416>\", line 14, in run\n",
      "    return opener.open(url)\n",
      "  File \"/usr/lib/python2.7/urllib.py\", line 208, in open\n",
      "    return opener.open(url)\n",
      "  File \"/usr/lib/python2.7/urllib.py\", line 208, in open\n",
      "  File \"/usr/lib/python2.7/urllib.py\", line 208, in open\n",
      "  File \"/usr/lib/python2.7/urllib.py\", line 208, in open\n",
      "    return opener.open(url)\n",
      "    self.request = urlopen(self.url)\n",
      "    return getattr(self, name)(url)\n",
      "    return getattr(self, name)(url)\n",
      "    return getattr(self, name)(url)\n",
      "  File \"/usr/lib/python2.7/urllib.py\", line 208, in open\n",
      "  File \"/usr/lib/python2.7/urllib.py\", line 208, in open\n",
      "    return getattr(self, name)(url)\n",
      "  File \"/usr/lib/python2.7/urllib.py\", line 87, in urlopen\n",
      "  File \"/usr/lib/python2.7/urllib.py\", line 208, in open\n",
      "    return getattr(self, name)(url)\n",
      "Process URLThread-2667:\n",
      "  File \"/usr/lib/python2.7/urllib.py\", line 352, in open_http\n",
      "  File \"/usr/lib/python2.7/urllib.py\", line 352, in open_http\n",
      "  File \"/usr/lib/python2.7/urllib.py\", line 208, in open\n",
      "  File \"/usr/lib/python2.7/urllib.py\", line 352, in open_http\n",
      "  File \"/usr/lib/python2.7/urllib.py\", line 352, in open_http\n",
      "    'got a bad status line', None)\n",
      "  File \"/usr/lib/python2.7/urllib.py\", line 208, in open\n",
      "    return getattr(self, name)(url)\n",
      "    return getattr(self, name)(url)\n",
      "Process URLThread-2668:\n",
      "    return opener.open(url)\n",
      "Traceback (most recent call last):\n",
      "    return getattr(self, name)(url)\n",
      "Process URLThread-2669:\n",
      "    'got a bad status line', None)\n",
      "    return getattr(self, name)(url)\n",
      "  File \"/usr/lib/python2.7/urllib.py\", line 352, in open_http\n",
      "Traceback (most recent call last):\n",
      "  File \"/usr/lib/python2.7/urllib.py\", line 352, in open_http\n",
      "    'got a bad status line', None)\n",
      "  File \"/usr/lib/python2.7/urllib.py\", line 208, in open\n",
      "IOError: ('http protocol error', 0, 'got a bad status line', None)\n",
      "    'got a bad status line', None)\n",
      "IOError: ('http protocol error', 0, 'got a bad status line', None)\n",
      "Traceback (most recent call last):\n",
      "  File \"/usr/lib/python2.7/urllib.py\", line 352, in open_http\n",
      "    'got a bad status line', None)\n",
      "    'got a bad status line', None)\n",
      "  File \"/usr/lib/python2.7/multiprocessing/process.py\", line 258, in _bootstrap\n",
      "IOError: ('http protocol error', 0, 'got a bad status line', None)\n",
      "  File \"/usr/lib/python2.7/urllib.py\", line 352, in open_http\n",
      "Process URLThread-2670:\n",
      "  File \"/usr/lib/python2.7/multiprocessing/process.py\", line 258, in _bootstrap\n",
      "IOError: ('http protocol error', 0, 'got a bad status line', None)\n",
      "    return getattr(self, name)(url)\n",
      "IOError: ('http protocol error', 0, 'got a bad status line', None)\n",
      "  File \"/usr/lib/python2.7/multiprocessing/process.py\", line 258, in _bootstrap\n",
      "    'got a bad status line', None)\n",
      "    self.run()\n",
      "    self.run()\n",
      "IOError: ('http protocol error', 0, 'got a bad status line', None)\n",
      "    self.run()\n",
      "  File \"<ipython-input-2-72ba71fb1416>\", line 14, in run\n",
      "  File \"/usr/lib/python2.7/urllib.py\", line 352, in open_http\n",
      "IOError: ('http protocol error', 0, 'got a bad status line', None)\n",
      "Traceback (most recent call last):\n",
      "  File \"<ipython-input-2-72ba71fb1416>\", line 14, in run\n",
      "    'got a bad status line', None)\n",
      "  File \"<ipython-input-2-72ba71fb1416>\", line 14, in run\n",
      "    'got a bad status line', None)\n",
      "  File \"/usr/lib/python2.7/urllib.py\", line 352, in open_http\n",
      "  File \"/usr/lib/python2.7/multiprocessing/process.py\", line 258, in _bootstrap\n",
      "IOError: ('http protocol error', 0, 'got a bad status line', None)\n",
      "IOError: ('http protocol error', 0, 'got a bad status line', None)\n",
      "    self.request = urlopen(self.url)\n",
      "    self.run()\n",
      "    'got a bad status line', None)\n",
      "  File \"/usr/lib/python2.7/urllib.py\", line 87, in urlopen\n",
      "    self.request = urlopen(self.url)\n",
      "    self.request = urlopen(self.url)\n",
      "  File \"<ipython-input-2-72ba71fb1416>\", line 14, in run\n",
      "IOError: ('http protocol error', 0, 'got a bad status line', None)\n",
      "  File \"/usr/lib/python2.7/urllib.py\", line 87, in urlopen\n",
      "  File \"/usr/lib/python2.7/urllib.py\", line 87, in urlopen\n",
      "    return opener.open(url)\n",
      "    return opener.open(url)\n",
      "  File \"/usr/lib/python2.7/urllib.py\", line 208, in open\n",
      "    self.request = urlopen(self.url)\n",
      "    return opener.open(url)\n",
      "  File \"/usr/lib/python2.7/urllib.py\", line 208, in open\n",
      "    return getattr(self, name)(url)\n",
      "    return getattr(self, name)(url)\n",
      "  File \"/usr/lib/python2.7/urllib.py\", line 352, in open_http\n",
      "  File \"/usr/lib/python2.7/urllib.py\", line 352, in open_http\n",
      "  File \"/usr/lib/python2.7/urllib.py\", line 208, in open\n",
      "  File \"/usr/lib/python2.7/urllib.py\", line 87, in urlopen\n",
      "Process URLThread-2674:\n",
      "Process URLThread-2673:\n",
      "    'got a bad status line', None)\n",
      "    'got a bad status line', None)\n",
      "    return getattr(self, name)(url)\n",
      "    return opener.open(url)\n",
      "Traceback (most recent call last):\n",
      "IOError: ('http protocol error', 0, 'got a bad status line', None)\n",
      "Traceback (most recent call last):\n",
      "  File \"/usr/lib/python2.7/urllib.py\", line 208, in open\n",
      "Process URLThread-2675:\n",
      "  File \"/usr/lib/python2.7/multiprocessing/process.py\", line 258, in _bootstrap\n",
      "  File \"/usr/lib/python2.7/urllib.py\", line 352, in open_http\n",
      "  File \"/usr/lib/python2.7/multiprocessing/process.py\", line 258, in _bootstrap\n",
      "Traceback (most recent call last):\n",
      "Process URLThread-2671:\n",
      "Process URLThread-2672:\n",
      "    self.run()\n",
      "    self.run()\n",
      "    return getattr(self, name)(url)\n",
      "    'got a bad status line', None)\n",
      "IOError: ('http protocol error', 0, 'got a bad status line', None)\n",
      "Traceback (most recent call last):\n",
      "Traceback (most recent call last):\n",
      "  File \"/usr/lib/python2.7/urllib.py\", line 352, in open_http\n",
      "IOError: ('http protocol error', 0, 'got a bad status line', None)\n",
      "  File \"<ipython-input-2-72ba71fb1416>\", line 14, in run\n",
      "  File \"/usr/lib/python2.7/multiprocessing/process.py\", line 258, in _bootstrap\n",
      "Process URLThread-2676:\n",
      "  File \"/usr/lib/python2.7/multiprocessing/process.py\", line 258, in _bootstrap\n",
      "  File \"<ipython-input-2-72ba71fb1416>\", line 14, in run\n",
      "  File \"/usr/lib/python2.7/multiprocessing/process.py\", line 258, in _bootstrap\n",
      "    'got a bad status line', None)\n",
      "Traceback (most recent call last):\n",
      "    self.run()\n",
      "    self.run()\n",
      "IOError: ('http protocol error', 0, 'got a bad status line', None)\n",
      "    self.request = urlopen(self.url)\n",
      "    self.request = urlopen(self.url)\n",
      "    self.run()\n",
      "  File \"/usr/lib/python2.7/multiprocessing/process.py\", line 258, in _bootstrap\n",
      "  File \"<ipython-input-2-72ba71fb1416>\", line 14, in run\n",
      "  File \"/usr/lib/python2.7/urllib.py\", line 87, in urlopen\n",
      "  File \"<ipython-input-2-72ba71fb1416>\", line 14, in run\n",
      "Process URLThread-2677:\n",
      "  File \"<ipython-input-2-72ba71fb1416>\", line 14, in run\n",
      "    self.request = urlopen(self.url)\n",
      "  File \"/usr/lib/python2.7/urllib.py\", line 87, in urlopen\n",
      "    self.run()\n",
      "    return opener.open(url)\n",
      "    self.request = urlopen(self.url)\n",
      "Process URLThread-2679:\n",
      "Traceback (most recent call last):\n",
      "Traceback (most recent call last):\n",
      "Process URLThread-2678:\n",
      "    return opener.open(url)\n",
      "    self.request = urlopen(self.url)\n",
      "  File \"/usr/lib/python2.7/urllib.py\", line 87, in urlopen\n",
      "  File \"<ipython-input-2-72ba71fb1416>\", line 14, in run\n",
      "  File \"/usr/lib/python2.7/urllib.py\", line 208, in open\n",
      "  File \"/usr/lib/python2.7/urllib.py\", line 87, in urlopen\n",
      "  File \"/usr/lib/python2.7/multiprocessing/process.py\", line 258, in _bootstrap\n",
      "  File \"/usr/lib/python2.7/urllib.py\", line 87, in urlopen\n",
      "Traceback (most recent call last):\n",
      "    return opener.open(url)\n",
      "  File \"/usr/lib/python2.7/urllib.py\", line 208, in open\n",
      "  File \"/usr/lib/python2.7/multiprocessing/process.py\", line 258, in _bootstrap\n",
      "    self.request = urlopen(self.url)\n",
      "    return getattr(self, name)(url)\n",
      "    return opener.open(url)\n",
      "  File \"/usr/lib/python2.7/multiprocessing/process.py\", line 258, in _bootstrap\n",
      "Process URLThread-2680:\n",
      "    return opener.open(url)\n",
      "    self.run()\n",
      "  File \"/usr/lib/python2.7/urllib.py\", line 208, in open\n",
      "    return getattr(self, name)(url)\n",
      "  File \"/usr/lib/python2.7/urllib.py\", line 352, in open_http\n",
      "    self.run()\n",
      "    self.run()\n",
      "  File \"/usr/lib/python2.7/urllib.py\", line 208, in open\n",
      "  File \"/usr/lib/python2.7/urllib.py\", line 87, in urlopen\n",
      "Traceback (most recent call last):\n",
      "  File \"/usr/lib/python2.7/urllib.py\", line 208, in open\n",
      "  File \"<ipython-input-2-72ba71fb1416>\", line 14, in run\n",
      "  File \"<ipython-input-2-72ba71fb1416>\", line 14, in run\n",
      "    return getattr(self, name)(url)\n",
      "  File \"/usr/lib/python2.7/urllib.py\", line 352, in open_http\n",
      "  File \"<ipython-input-2-72ba71fb1416>\", line 14, in run\n",
      "    return getattr(self, name)(url)\n",
      "    return opener.open(url)\n",
      "  File \"/usr/lib/python2.7/multiprocessing/process.py\", line 258, in _bootstrap\n",
      "    'got a bad status line', None)\n",
      "    return getattr(self, name)(url)\n",
      "    'got a bad status line', None)\n",
      "  File \"/usr/lib/python2.7/urllib.py\", line 352, in open_http\n",
      "  File \"/usr/lib/python2.7/urllib.py\", line 208, in open\n",
      "    self.request = urlopen(self.url)\n",
      "  File \"/usr/lib/python2.7/urllib.py\", line 352, in open_http\n",
      "IOError: ('http protocol error', 0, 'got a bad status line', None)\n",
      "IOError: ('http protocol error', 0, 'got a bad status line', None)\n",
      "    self.run()\n",
      "    'got a bad status line', None)\n",
      "  File \"/usr/lib/python2.7/urllib.py\", line 352, in open_http\n",
      "    return getattr(self, name)(url)\n",
      "    self.request = urlopen(self.url)\n",
      "    self.request = urlopen(self.url)\n",
      "Process URLThread-2681:\n",
      "  File \"/usr/lib/python2.7/urllib.py\", line 87, in urlopen\n",
      "    'got a bad status line', None)\n",
      "  File \"<ipython-input-2-72ba71fb1416>\", line 14, in run\n",
      "    'got a bad status line', None)\n",
      "    self.request = urlopen(self.url)\n",
      "  File \"/usr/lib/python2.7/urllib.py\", line 87, in urlopen\n",
      "IOError: ('http protocol error', 0, 'got a bad status line', None)\n",
      "Traceback (most recent call last):\n",
      "IOError: ('http protocol error', 0, 'got a bad status line', None)\n",
      "IOError: ('http protocol error', 0, 'got a bad status line', None)\n",
      "  File \"/usr/lib/python2.7/urllib.py\", line 87, in urlopen\n",
      "    return opener.open(url)\n",
      "Process URLThread-2682:\n",
      "  File \"/usr/lib/python2.7/urllib.py\", line 352, in open_http\n",
      "  File \"/usr/lib/python2.7/urllib.py\", line 87, in urlopen\n",
      "    return opener.open(url)\n",
      "    return opener.open(url)\n",
      "  File \"/usr/lib/python2.7/urllib.py\", line 208, in open\n",
      "  File \"/usr/lib/python2.7/urllib.py\", line 208, in open\n",
      "Process URLThread-2683:\n",
      "  File \"/usr/lib/python2.7/urllib.py\", line 208, in open\n",
      "    return getattr(self, name)(url)\n",
      "    return opener.open(url)\n",
      "  File \"/usr/lib/python2.7/multiprocessing/process.py\", line 258, in _bootstrap\n",
      "  File \"/usr/lib/python2.7/urllib.py\", line 352, in open_http\n",
      "    'got a bad status line', None)\n",
      "Traceback (most recent call last):\n",
      "    return getattr(self, name)(url)\n",
      "    return getattr(self, name)(url)\n",
      "  File \"/usr/lib/python2.7/urllib.py\", line 208, in open\n",
      "IOError: ('http protocol error', 0, 'got a bad status line', None)\n",
      "    'got a bad status line', None)\n",
      "    self.run()\n",
      "  File \"/usr/lib/python2.7/multiprocessing/process.py\", line 258, in _bootstrap\n",
      "Traceback (most recent call last):\n",
      "  File \"/usr/lib/python2.7/urllib.py\", line 352, in open_http\n"
     ]
    }
   ],
   "source": [
    "%%timeit -r 1 -n 1\n",
    "requests = multi_get(urls,timeout=1)\n",
    "# for url, data in requests:\n",
    "#     print \"received from this url \\n%s\" % (url)"
   ]
  },
  {
   "cell_type": "code",
   "execution_count": 6,
   "metadata": {
    "collapsed": false
   },
   "outputs": [
    {
     "name": "stdout",
     "output_type": "stream",
     "text": [
      "10 loops, best of 100: 3.17 ms per loop\n"
     ]
    }
   ],
   "source": [
    "%%timeit -r 100 -n 10\n",
    "request = urlopen(urls[4])"
   ]
  },
  {
   "cell_type": "code",
   "execution_count": 5,
   "metadata": {
    "collapsed": false
   },
   "outputs": [
    {
     "data": {
      "text/plain": [
       "111881L"
      ]
     },
     "execution_count": 5,
     "metadata": {},
     "output_type": "execute_result"
    }
   ],
   "source": [
    "import redis\n",
    "r = redis.Redis(host='10.170.0.153', password='jM8vBgR4', db=0)\n",
    "r.dbsize()\n",
    "# r.flushall()"
   ]
  },
  {
   "cell_type": "code",
   "execution_count": null,
   "metadata": {
    "collapsed": false,
    "scrolled": true
   },
   "outputs": [],
   "source": [
    "r.keys('*lock')"
   ]
  },
  {
   "cell_type": "code",
   "execution_count": null,
   "metadata": {
    "collapsed": false
   },
   "outputs": [],
   "source": [
    "r.flushall()"
   ]
  },
  {
   "cell_type": "code",
   "execution_count": null,
   "metadata": {
    "collapsed": true
   },
   "outputs": [],
   "source": []
  },
  {
   "cell_type": "markdown",
   "metadata": {},
   "source": [
    "#### Sentinel-1"
   ]
  },
  {
   "cell_type": "code",
   "execution_count": null,
   "metadata": {
    "collapsed": false
   },
   "outputs": [],
   "source": [
    "import random\n",
    "\n",
    "granule = 'S1A_EW_GRDM_1SDH_20141003T183449_20141003T183553_002669_002F93_5A6D'\n",
    "\n",
    "var_list = ['sigma0w', 'wind_speed']\n",
    "\n",
    "urls = ['http://10.170.0.153:9090/wms?product=SOLAB-SENTINEL-1&' +\n",
    "        'variable=' + var_list[random.randint(0,1)] +\n",
    "        '&granule=' + granule +\n",
    "        '&projection=EPSG%3A3413&polarization=hh&vmin=63&vmax=191&zoom=0&x=0&y=0']\n",
    "\n",
    "for x in xrange(0,10**2):\n",
    "    urls.append(\n",
    "        'http://10.170.0.153:9090/wms?product=SOLAB-SENTINEL-1&' +\n",
    "        'variable=' + var_list[random.randint(0,1)] +\n",
    "        '&granule=' + granule +\n",
    "        '&projection=EPSG%3A3413&polarization=hh&vmin=63&vmax=191&'\n",
    "        'zoom=' + str(random.randint(0,5)) +\n",
    "        '&x=' + str(random.randint(0,2)) +\n",
    "        '&y=' + str(random.randint(0,2)))\n",
    "print len(urls)"
   ]
  },
  {
   "cell_type": "code",
   "execution_count": null,
   "metadata": {
    "collapsed": false
   },
   "outputs": [],
   "source": [
    "%%timeit -r 1\n",
    "for u in urls:\n",
    "    request = urlopen(u)"
   ]
  },
  {
   "cell_type": "code",
   "execution_count": null,
   "metadata": {
    "collapsed": true
   },
   "outputs": [],
   "source": []
  },
  {
   "cell_type": "markdown",
   "metadata": {},
   "source": [
    "### ncCacheAll - speed test"
   ]
  },
  {
   "cell_type": "code",
   "execution_count": null,
   "metadata": {
    "collapsed": true
   },
   "outputs": [],
   "source": [
    "import numpy as np\n",
    "from numpy import clip, uint8\n",
    "from io import BytesIO"
   ]
  },
  {
   "cell_type": "code",
   "execution_count": null,
   "metadata": {
    "collapsed": true
   },
   "outputs": [],
   "source": [
    "def get_image_from_array(array, vmin=0, vmax=254, colormap=None):\n",
    "\n",
    "        # Caching using PIL image is fatser than even Pickle\n",
    "\n",
    "        # Normalize image in the ``[vmin, vmax]`` interval\n",
    "        if vmin == vmax:\n",
    "            array.fill(0)   # Or should it be all masked?  Or 0.5?\n",
    "        elif vmin > vmax:\n",
    "            err_message = \"vmin value must be less than or equal to vmax value\"\n",
    "            return\n",
    "        else:\n",
    "            vmin = float(vmin)\n",
    "            vmax = float(vmax)\n",
    "\n",
    "        if type(array) == np.ma.core.MaskedArray:\n",
    "            mask = ma.getmask(array)\n",
    "        else:\n",
    "            mask = array==255\n",
    "        array = np.array(clip(array, vmin, vmax))\n",
    "\n",
    "        # ma divisionand other operations are very slow; we can take a shortcut\n",
    "        array -= vmin\n",
    "        array /= (vmax - vmin)\n",
    "        array *= 254\n",
    "        array[mask] = 255\n",
    "        array = uint8(array)\n",
    "\n",
    "        # saving image to buffer\n",
    "        buf = BytesIO()\n",
    "        if colormap == None or colormap == \"gray\":\n",
    "            img = Image.fromarray(array).convert(\"L\", colors=256)\n",
    "        elif colormap == \"jet\":\n",
    "            img = Image.fromarray(cm.jet(array, bytes=True)).convert(\"P\", colors=256)\n",
    "        elif colormap == \"bone\":\n",
    "            img = Image.fromarray(cm.bone(array, bytes=True)).convert(\"P\", colors=256)\n",
    "        elif colormap == \"RdBu_r\":\n",
    "            img = Image.fromarray(cm.RdBu_r(array, bytes=True)).convert(\"P\", colors=256)\n",
    "        # Also try PIL optimally palette our image as in Pixels.py apply_palette256 and apply_palette\n",
    "        img.save(buf, format='png')\n",
    "\n",
    "        # from pylab import gray, imsave, jet\n",
    "        # gray()\n",
    "        # imsave(buf, array, vmin=vmin, vmax=vmax, format='png')\n",
    "\n",
    "        buf.seek(0)\n",
    "        content = buf.getvalue()\n",
    "        buf.close()\n",
    "        return content"
   ]
  },
  {
   "cell_type": "code",
   "execution_count": null,
   "metadata": {
    "collapsed": false
   },
   "outputs": [],
   "source": [
    "%%timeit\n",
    "vmin = 0\n",
    "vmax = 254\n",
    "colormap = 'gray'\n",
    "\n",
    "try:\n",
    "    dataset = ncDataset(granule)\n",
    "except:\n",
    "    err_message = 'Cannot open dataset:' \n",
    "\n",
    "coords = dataset.variables['Data'].shape\n",
    "\n",
    "# print var_number, polarization_index, zoom\n",
    "\n",
    "# First cache the requested zoom level\n",
    "for x in range(coords[3]):\n",
    "    for y in range(coords[4]):\n",
    "        body = dataset.variables['Data'][0, 0, 5, x, y, :]\n",
    "        # don't cache empty tile\n",
    "        if body.mean() == 255:\n",
    "            continue\n",
    "\n",
    "        content = get_image_from_array(body, vmin, vmax, colormap)\n",
    "            \n",
    "if dataset.isopen():\n",
    "    dataset.close()"
   ]
  },
  {
   "cell_type": "code",
   "execution_count": null,
   "metadata": {
    "collapsed": false
   },
   "outputs": [],
   "source": [
    "%%timeit\n",
    "vmin = 0\n",
    "vmax = 254\n",
    "colormap = 'gray'\n",
    "\n",
    "try:\n",
    "    dataset = ncDataset(granule)\n",
    "except:\n",
    "    err_message = 'Cannot open dataset:' \n",
    "\n",
    "coords = dataset.variables['Data'].shape\n",
    "\n",
    "# print var_number, polarization_index, zoom\n",
    "\n",
    "# First cache the requested zoom level\n",
    "body_ = dataset.variables['Data'][0, 0, 5, :]\n",
    "for x in range(coords[3]):\n",
    "    for y in range(coords[4]):\n",
    "        body = body_[x, y, :]\n",
    "        # don't cache empty tile\n",
    "        if body.mean() == 255:\n",
    "            continue\n",
    "\n",
    "        content = get_image_from_array(body, vmin, vmax, colormap)\n",
    "            \n",
    "if dataset.isopen():\n",
    "    dataset.close()"
   ]
  },
  {
   "cell_type": "code",
   "execution_count": null,
   "metadata": {
    "collapsed": true
   },
   "outputs": [],
   "source": []
  },
  {
   "cell_type": "code",
   "execution_count": null,
   "metadata": {
    "collapsed": true
   },
   "outputs": [],
   "source": []
  },
  {
   "cell_type": "code",
   "execution_count": null,
   "metadata": {
    "collapsed": true
   },
   "outputs": [],
   "source": []
  },
  {
   "cell_type": "code",
   "execution_count": null,
   "metadata": {
    "collapsed": true
   },
   "outputs": [],
   "source": []
  },
  {
   "cell_type": "code",
   "execution_count": null,
   "metadata": {
    "collapsed": true
   },
   "outputs": [],
   "source": []
  },
  {
   "cell_type": "code",
   "execution_count": null,
   "metadata": {
    "collapsed": true
   },
   "outputs": [],
   "source": []
  },
  {
   "cell_type": "code",
   "execution_count": null,
   "metadata": {
    "collapsed": true
   },
   "outputs": [],
   "source": []
  },
  {
   "cell_type": "markdown",
   "metadata": {},
   "source": [
    "### Checking that \"EVAL\" takes 3 times longer than \"split\" and \"map\""
   ]
  },
  {
   "cell_type": "code",
   "execution_count": null,
   "metadata": {
    "collapsed": true
   },
   "outputs": [],
   "source": [
    "import redis\n",
    "import numpy as np\n",
    "r = redis.Redis(host='10.170.0.153', password='jM8vBgR4', db=0)\n",
    "body = None"
   ]
  },
  {
   "cell_type": "code",
   "execution_count": null,
   "metadata": {
    "collapsed": false
   },
   "outputs": [],
   "source": [
    "def str2float(List):\n",
    "    return map(float, List)"
   ]
  },
  {
   "cell_type": "code",
   "execution_count": null,
   "metadata": {
    "collapsed": false
   },
   "outputs": [],
   "source": [
    "%%timeit\n",
    "tilekey = 'SOLAB-SENTINEL-1/S1A_EW_GRDH_1SDH_20141003T102452_20141003T102553_002664_002F76_F611/2/0/0/0/1'\n",
    "body = r.get(tilekey)\n",
    "body = [s.split(', ') for s in body[2:-2].split('], [')]\n",
    "body = map(str2float, body)\n",
    "body = np.asarray(body)\n",
    "body = np.ma.masked_equal(body, None)"
   ]
  },
  {
   "cell_type": "code",
   "execution_count": null,
   "metadata": {
    "collapsed": false
   },
   "outputs": [],
   "source": [
    "%%timeit\n",
    "tilekey = 'SOLAB-SENTINEL-1/S1A_EW_GRDH_1SDH_20141003T102452_20141003T102553_002664_002F76_F611/2/0/0/0/1'\n",
    "body = r.get(tilekey)\n",
    "body = [s.split(', ') for s in body[2:-2].split('], [')]\n",
    "body = [[float(i) for i in row] for row in body]\n",
    "body = np.asarray(body)\n",
    "body = np.ma.masked_equal(body, None)"
   ]
  },
  {
   "cell_type": "code",
   "execution_count": null,
   "metadata": {
    "collapsed": false
   },
   "outputs": [],
   "source": [
    "%%timeit\n",
    "tilekey = 'SOLAB-SENTINEL-1/S1A_EW_GRDH_1SDH_20141003T102452_20141003T102553_002664_002F76_F611/2/0/0/0/1'\n",
    "body = r.get(tilekey)\n",
    "body = np.array(eval(body))"
   ]
  },
  {
   "cell_type": "code",
   "execution_count": null,
   "metadata": {
    "collapsed": true
   },
   "outputs": [],
   "source": []
  },
  {
   "cell_type": "code",
   "execution_count": null,
   "metadata": {
    "collapsed": true
   },
   "outputs": [],
   "source": []
  },
  {
   "cell_type": "code",
   "execution_count": null,
   "metadata": {
    "collapsed": true
   },
   "outputs": [],
   "source": [
    "%matplotlib inline"
   ]
  },
  {
   "cell_type": "code",
   "execution_count": null,
   "metadata": {
    "collapsed": false
   },
   "outputs": [],
   "source": [
    "from pylab import *"
   ]
  },
  {
   "cell_type": "code",
   "execution_count": null,
   "metadata": {
    "collapsed": false
   },
   "outputs": [],
   "source": [
    "import numpy as np\n",
    "from PIL import Image\n",
    "from numpy.random import random as randomArray\n",
    "from io import BytesIO\n",
    "\n",
    "\n",
    "array = np.ma.array(randomArray((256,256))*255, np.uint8)"
   ]
  },
  {
   "cell_type": "code",
   "execution_count": null,
   "metadata": {
    "collapsed": false
   },
   "outputs": [],
   "source": [
    "vmin=61\n",
    "vmax=191\n",
    "\n",
    "# vmin=0\n",
    "# vmax=254\n",
    "\n",
    "bufPIL = BytesIO()\n",
    "# img = Image.fromarray(array).convert(\"L\", colors=256)\n",
    "# array = np.array(randomArray((256,256))*255, np.uint8)\n",
    "\n",
    "array = np.ma.asarray(Image.open('empire.jpg').convert('L'), np.uint8)\n",
    "# Normalize image in the ``[vmin, vmax]`` interval\n",
    "if vmin == vmax:\n",
    "    array.fill(0)   # Or should it be all masked?  Or 0.5?\n",
    "elif vmin > vmax:\n",
    "    err_message = \"vmin value must be less than or equal to vmax value\"\n",
    "    self.get_return_message(err_message, 400)\n",
    "else:\n",
    "    vmin = float(vmin)\n",
    "    vmax = float(vmax)\n",
    "\n",
    "# mask = ma.getmask(ma.masked_equal(array, uint8(255)))\n",
    "# array = ma.array(clip(array.filled(vmax), vmin, vmax),\n",
    "#                                   mask=mask)\n",
    "\n",
    "# # ma division is very slow; we can take a shortcut\n",
    "# resdat = array.data\n",
    "# resdat -= vmin\n",
    "# resdat /= (vmax - vmin)\n",
    "# resdat *= 254\n",
    "# array = np.ma.array(resdat, mask=mask, copy=False)\n",
    "\n",
    "mask = array==255\n",
    "array = np.array(clip(array, vmin, vmax))\n",
    "\n",
    "# ma divisionand other operations are very slow; we can take a shortcut\n",
    "array -= vmin\n",
    "array /= (vmax - vmin)\n",
    "array *= 254\n",
    "array[mask] = 255\n",
    "array = uint8(array)\n",
    "\n",
    "\n",
    "img = Image.fromarray(array).convert(\"L\", colors=256)\n",
    "\n",
    "# img = Image.fromarray(matplotlib.pylab.plt.cm.jet(array, bytes=True)).convert(\"L\", colors=256)\n",
    "img.save(bufPIL, format='png')\n",
    "bufPIL.seek(0)\n",
    "contentPIL = bufPIL.getvalue()\n",
    "bufPIL.close()\n",
    "\n",
    "bufPIL = BytesIO(contentPIL)\n",
    "bodyPIL = np.asarray(Image.open(bufPIL), np.uint8)\n",
    "# bodyPIL = np.ma.masked_equal(bodyPIL, 255)\n",
    "# bodyPIL =  np.ma.masked_where(bodyPIL == 255, bodyPIL)"
   ]
  },
  {
   "cell_type": "code",
   "execution_count": null,
   "metadata": {
    "collapsed": false
   },
   "outputs": [],
   "source": [
    "bodyPIL"
   ]
  },
  {
   "cell_type": "code",
   "execution_count": null,
   "metadata": {
    "collapsed": false
   },
   "outputs": [],
   "source": [
    "array"
   ]
  },
  {
   "cell_type": "code",
   "execution_count": null,
   "metadata": {
    "collapsed": true
   },
   "outputs": [],
   "source": [
    "array = np.ma.asarray(Image.open('empire.jpg').convert('L'), np.uint8)"
   ]
  },
  {
   "cell_type": "code",
   "execution_count": null,
   "metadata": {
    "collapsed": false
   },
   "outputs": [],
   "source": [
    "%%timeit\n",
    "\n",
    "array = np.ma.asarray(Image.open('empire.jpg').convert('L'), np.uint8)\n",
    "\n",
    "mask = ma.getmask(ma.masked_equal(array, uint8(255)))\n",
    "array = ma.array(clip(array.filled(vmax), vmin, vmax),\n",
    "                                  mask=mask)\n",
    "\n",
    "# ma division is very slow; we can take a shortcut\n",
    "resdat = array.data\n",
    "resdat -= vmin\n",
    "resdat /= (vmax - vmin)\n",
    "resdat *= 254\n",
    "array = np.ma.array(resdat, mask=mask, copy=False)\n"
   ]
  },
  {
   "cell_type": "code",
   "execution_count": null,
   "metadata": {
    "collapsed": false
   },
   "outputs": [],
   "source": [
    "%%timeit\n",
    "\n",
    "array = np.asarray(Image.open('empire.jpg').convert('L'), np.uint8)\n",
    "mask = array==255\n",
    "array = np.array(clip(array, vmin, vmax))\n",
    "\n",
    "# ma division is very slow; we can take a shortcut\n",
    "array -= vmin\n",
    "array /= (vmax - vmin)\n",
    "array *= 254\n",
    "array[mask] = 255"
   ]
  },
  {
   "cell_type": "code",
   "execution_count": null,
   "metadata": {
    "collapsed": false
   },
   "outputs": [],
   "source": []
  },
  {
   "cell_type": "code",
   "execution_count": null,
   "metadata": {
    "collapsed": false
   },
   "outputs": [],
   "source": [
    "imshow(array)\n",
    "colorbar()\n",
    "gray()"
   ]
  },
  {
   "cell_type": "code",
   "execution_count": null,
   "metadata": {
    "collapsed": false
   },
   "outputs": [],
   "source": [
    "imshow(bodyPIL)\n",
    "colorbar()\n",
    "gray()"
   ]
  },
  {
   "cell_type": "markdown",
   "metadata": {},
   "source": [
    "### Image caching speed"
   ]
  },
  {
   "cell_type": "code",
   "execution_count": null,
   "metadata": {
    "collapsed": false
   },
   "outputs": [],
   "source": [
    "import redis\n",
    "import numpy as np\n",
    "r = redis.Redis(host='10.170.0.153', password='jM8vBgR4', db=0)"
   ]
  },
  {
   "cell_type": "code",
   "execution_count": null,
   "metadata": {
    "collapsed": false
   },
   "outputs": [],
   "source": [
    "import matplotlib\n",
    "from matplotlib.pylab import gray, imsave, jet\n",
    "matplotlib.use('Agg')\n",
    "from io import BytesIO\n",
    "vmin=0\n",
    "vmax=254\n",
    "from numpy.random import random as randomArray"
   ]
  },
  {
   "cell_type": "markdown",
   "metadata": {},
   "source": [
    "#### matplotlib"
   ]
  },
  {
   "cell_type": "code",
   "execution_count": null,
   "metadata": {
    "collapsed": false
   },
   "outputs": [],
   "source": [
    "from matplotlib import image"
   ]
  },
  {
   "cell_type": "code",
   "execution_count": null,
   "metadata": {
    "collapsed": false
   },
   "outputs": [],
   "source": [
    "%%timeit\n",
    "\n",
    "buf = BytesIO()\n",
    "imsave(buf, array, vmin=vmin, vmax=vmax, format='png')\n",
    "buf.seek(0)\n",
    "content = buf.getvalue()\n",
    "buf.close()\n",
    "\n",
    "tilekey = 'SOLAB-SENTINEL-1/S1A_EW_GRDH_1SDH_20141003T102452_20141003T102553_002664_002F76_F611/2/0/0/0/0'\n",
    "r.setex(tilekey, content, 24*60*60)\n",
    "content = r.get(tilekey)"
   ]
  },
  {
   "cell_type": "code",
   "execution_count": null,
   "metadata": {
    "collapsed": false
   },
   "outputs": [],
   "source": [
    "# %%timeit\n",
    "\n",
    "buf = BytesIO(content)\n",
    "body = np.array(image.imread(buf), np.uint8)\n",
    "body = np.ma.masked_equal(body, 255)"
   ]
  },
  {
   "cell_type": "markdown",
   "metadata": {},
   "source": [
    "#### pillow"
   ]
  },
  {
   "cell_type": "code",
   "execution_count": null,
   "metadata": {
    "collapsed": true
   },
   "outputs": [],
   "source": [
    "from PIL import Image"
   ]
  },
  {
   "cell_type": "code",
   "execution_count": null,
   "metadata": {
    "collapsed": false
   },
   "outputs": [],
   "source": [
    "%%timeit -r 10\n",
    "bodyPIL = np.array(Image.open(bufPIL), np.uint8)"
   ]
  },
  {
   "cell_type": "code",
   "execution_count": null,
   "metadata": {
    "collapsed": false
   },
   "outputs": [],
   "source": [
    "%%timeit -r 10\n",
    "bodyPIL = np.asarray(Image.open(bufPIL), np.uint8)"
   ]
  },
  {
   "cell_type": "code",
   "execution_count": null,
   "metadata": {
    "collapsed": false
   },
   "outputs": [],
   "source": [
    "%%timeit -r 20\n",
    "img = Image.fromarray(np.uint8(matplotlib.pylab.plt.cm.jet(array)*255)).convert(\"L\", colors=256)"
   ]
  },
  {
   "cell_type": "code",
   "execution_count": null,
   "metadata": {
    "collapsed": false
   },
   "outputs": [],
   "source": [
    "%%timeit -r 20\n",
    "img = Image.fromarray(matplotlib.pylab.plt.cm.jet(array, bytes=True)).convert(\"L\", colors=256)"
   ]
  },
  {
   "cell_type": "code",
   "execution_count": null,
   "metadata": {
    "collapsed": false
   },
   "outputs": [],
   "source": [
    "array == 255"
   ]
  },
  {
   "cell_type": "code",
   "execution_count": null,
   "metadata": {
    "collapsed": false
   },
   "outputs": [],
   "source": [
    "from numpy import ma, clip\n",
    "array_ = (randomArray((256,256))*255)"
   ]
  },
  {
   "cell_type": "code",
   "execution_count": null,
   "metadata": {
    "collapsed": false
   },
   "outputs": [],
   "source": [
    "%%timeit\n",
    "array = np.ma.asarray(array_, np.uint8)\n",
    "if type(array) == np.ma.core.MaskedArray:\n",
    "    mask = ma.getmask(array)\n",
    "else:\n",
    "    mask = array==255\n",
    "array = np.array(clip(array, vmin, vmax))"
   ]
  },
  {
   "cell_type": "code",
   "execution_count": null,
   "metadata": {
    "collapsed": true
   },
   "outputs": [],
   "source": [
    "array = array_.copy()"
   ]
  },
  {
   "cell_type": "code",
   "execution_count": null,
   "metadata": {
    "collapsed": false
   },
   "outputs": [],
   "source": [
    "%%timeit\n",
    "array = np.asarray(array_, np.uint8)\n",
    "if type(array) == np.ma.core.MaskedArray:\n",
    "    mask = ma.getmask(array)\n",
    "else:\n",
    "    mask = array==255\n",
    "array = np.array(clip(array, vmin, vmax))"
   ]
  },
  {
   "cell_type": "code",
   "execution_count": null,
   "metadata": {
    "collapsed": true
   },
   "outputs": [],
   "source": []
  },
  {
   "cell_type": "code",
   "execution_count": null,
   "metadata": {
    "collapsed": false
   },
   "outputs": [],
   "source": [
    "%%timeit -r 3\n",
    "\n",
    "vmin=0\n",
    "vmax=254\n",
    "array = np.ma.asarray(randomArray((256,256))*255, np.uint8)\n",
    "# Normalize image in the ``[vmin, vmax]`` interval\n",
    "if vmin == vmax:\n",
    "    array.fill(0)   # Or should it be all masked?  Or 0.5?\n",
    "elif vmin > vmax:\n",
    "    err_message = \"vmin value must be less than or equal to vmax value\"\n",
    "    self.get_return_message(err_message, 400)\n",
    "else:\n",
    "    vmin = float(vmin)\n",
    "    vmax = float(vmax)\n",
    "\n",
    "mask = ma.getmask(ma.masked_equal(array, uint8(255)))\n",
    "array = ma.array(clip(array.filled(vmax), vmin, vmax),\n",
    "                                  mask=mask)\n",
    "\n",
    "# ma division is very slow; we can take a shortcut\n",
    "resdat = array.data\n",
    "resdat -= vmin\n",
    "resdat /= (vmax - vmin)\n",
    "resdat *= 255\n",
    "array = np.ma.array(resdat, mask=array.mask, copy=False)\n",
    "\n",
    "\n",
    "bufPIL = BytesIO()\n",
    "img = Image.fromarray(array).convert(\"L\", colors=256)\n",
    "# img = Image.fromarray(matplotlib.pylab.plt.cm.jet(array, bytes=True)).convert(\"L\", colors=256)\n",
    "img.save(bufPIL, format='png', vmin=vmin, vmax=vmax)\n",
    "bufPIL.seek(0)\n",
    "contentPIL = bufPIL.getvalue()\n",
    "bufPIL.close()\n",
    "\n",
    "tilekey = 'SOLAB-SENTINEL-1/S1A_EW_GRDH_1SDH_20141003T102452_20141003T102553_002664_002F76_F611/2/0/0/0/0-PIL'\n",
    "r.setex(tilekey, contentPIL, 24*60*60)\n",
    "contentPIL = r.get(tilekey)\n",
    "\n",
    "bufPIL = BytesIO(contentPIL)\n",
    "bodyPIL = np.asarray(Image.open(bufPIL), np.uint8)\n",
    "# bodyPIL = np.ma.masked_equal(bodyPIL, 255)\n",
    "bodyPIL =  np.ma.masked_where(bodyPIL == 255, bodyPIL)"
   ]
  },
  {
   "cell_type": "code",
   "execution_count": null,
   "metadata": {
    "collapsed": false
   },
   "outputs": [],
   "source": [
    "%%timeit -r 10\n",
    "np.ma.masked_equal(array, 18)"
   ]
  },
  {
   "cell_type": "code",
   "execution_count": null,
   "metadata": {
    "collapsed": false
   },
   "outputs": [],
   "source": [
    "%%timeit -r 10\n",
    "np.ma.masked_where(array == 18, array)"
   ]
  },
  {
   "cell_type": "markdown",
   "metadata": {},
   "source": [
    "#### Pickle"
   ]
  },
  {
   "cell_type": "code",
   "execution_count": null,
   "metadata": {
    "collapsed": false
   },
   "outputs": [],
   "source": [
    "import pickle"
   ]
  },
  {
   "cell_type": "code",
   "execution_count": null,
   "metadata": {
    "collapsed": false
   },
   "outputs": [],
   "source": [
    "%%timeit -r 20\n",
    "\n",
    "contentPickle = pickle.dumps(array)\n",
    "tilekey = 'SOLAB-SENTINEL-1/S1A_EW_GRDH_1SDH_20141003T102452_20141003T102553_002664_002F76_F611/2/0/0/0/0-Pickle'\n",
    "r.setex(tilekey, contentPickle, 24*60*60)\n",
    "\n",
    "bufPIL = BytesIO()\n",
    "img = Image.fromarray(array).convert(\"RGBA\", colors=256)\n",
    "img.save(bufPIL, format='png', vmin=vmin, vmax=vmax)\n",
    "bufPIL.seek(0)\n",
    "contentPIL = bufPIL.getvalue()\n",
    "bufPIL.close()\n",
    "\n",
    "bodyPickle = pickle.loads(r.get(tilekey))\n",
    "bodyPickle = np.ma.masked_equal(bodyPIL, 255)"
   ]
  },
  {
   "cell_type": "markdown",
   "metadata": {},
   "source": [
    "#### cPickle"
   ]
  },
  {
   "cell_type": "code",
   "execution_count": null,
   "metadata": {
    "collapsed": true
   },
   "outputs": [],
   "source": [
    "import cPickle"
   ]
  },
  {
   "cell_type": "code",
   "execution_count": null,
   "metadata": {
    "collapsed": false
   },
   "outputs": [],
   "source": [
    "%%timeit -r 20\n",
    "\n",
    "contentPickle = cPickle.dumps(array)\n",
    "tilekey = 'SOLAB-SENTINEL-1/S1A_EW_GRDH_1SDH_20141003T102452_20141003T102553_002664_002F76_F611/2/0/0/0/0-cPickle'\n",
    "r.setex(tilekey, contentPickle, 24*60*60)\n",
    "\n",
    "bufPIL = BytesIO()\n",
    "img = Image.fromarray(array).convert(\"RGBA\", colors=256)\n",
    "img.save(bufPIL, format='png', vmin=vmin, vmax=vmax)\n",
    "bufPIL.seek(0)\n",
    "contentPIL = bufPIL.getvalue()\n",
    "bufPIL.close()\n",
    "\n",
    "bodyPickle = cPickle.loads(r.get(tilekey))\n",
    "bodyPickle = np.ma.masked_equal(bodyPIL, 255)"
   ]
  },
  {
   "cell_type": "code",
   "execution_count": null,
   "metadata": {
    "collapsed": true
   },
   "outputs": [],
   "source": []
  },
  {
   "cell_type": "markdown",
   "metadata": {},
   "source": [
    "### Checking cache reading"
   ]
  },
  {
   "cell_type": "code",
   "execution_count": null,
   "metadata": {
    "collapsed": false
   },
   "outputs": [],
   "source": [
    "import numpy as np\n",
    "from io import BytesIO\n",
    "from PIL import Image\n",
    "\n",
    "\n",
    "tilekey = 'SOLAB-SENTINEL-1/S1A_EW_GRDH_1SDH_20141003T233901_20141003T234005_002672_002FA5_F1D1/2/0/0/1/0/gray'\n",
    "contentPIL = r.get(tilekey)\n",
    "bufPIL = BytesIO(contentPIL)\n",
    "bodyPIL = np.asarray(Image.open(bufPIL), np.uint8)\n",
    "bodyPIL =  np.ma.masked_where(bodyPIL == 255, bodyPIL)\n",
    "Image.open(bufPIL)"
   ]
  },
  {
   "cell_type": "code",
   "execution_count": null,
   "metadata": {
    "collapsed": false
   },
   "outputs": [],
   "source": [
    "tilekey = 'SOLAB-SENTINEL-1/S1A_EW_GRDH_1SDH_20141003T233901_20141003T234005_002672_002FA5_F1D1/2/0/0/1/0/jet'\n",
    "contentPIL = r.get(tilekey)\n",
    "bufPIL = BytesIO(contentPIL)\n",
    "bodyPIL = np.asarray(Image.open(bufPIL), np.uint8)\n",
    "bodyPIL =  np.ma.masked_where(bodyPIL == 255, bodyPIL)\n",
    "Image.open(bufPIL)"
   ]
  },
  {
   "cell_type": "code",
   "execution_count": null,
   "metadata": {
    "collapsed": false
   },
   "outputs": [],
   "source": [
    "tilekey = 'SOLAB-SENTINEL-1/S1A_EW_GRDH_1SDH_20141003T233901_20141003T234005_002672_002FA5_F1D1/2/0/0/0/0/gray'\n",
    "contentPIL = r.get(tilekey)\n",
    "bufPIL = BytesIO(contentPIL)\n",
    "bodyPIL = np.asarray(Image.open(bufPIL), np.uint8)\n",
    "bodyPIL =  np.ma.masked_where(bodyPIL == 255, bodyPIL)\n",
    "Image.open(bufPIL)"
   ]
  },
  {
   "cell_type": "code",
   "execution_count": null,
   "metadata": {
    "collapsed": true
   },
   "outputs": [],
   "source": []
  },
  {
   "cell_type": "markdown",
   "metadata": {},
   "source": [
    "IF no granule in ZOOM level => don't read data from disk => put an empty key into cache\n",
    "No better to open NC file first and then to cache only needed tiles: Z/X/Y"
   ]
  },
  {
   "cell_type": "code",
   "execution_count": null,
   "metadata": {
    "collapsed": false
   },
   "outputs": [],
   "source": [
    "from netCDF4 import Dataset as ncDataset\n",
    "nc_path = '/media/SOLabNFS2/store/satellite/SOLAB-SENTINEL-1/2014/10/03//S1A_EW_GRDH_1SDH_20141003T233901_20141003T234005_002672_002FA5_F1D1.nc'\n",
    "dataset = ncDataset(nc_path)\n",
    "\n",
    "body = dataset.variables['Data']"
   ]
  },
  {
   "cell_type": "code",
   "execution_count": null,
   "metadata": {
    "collapsed": false
   },
   "outputs": [],
   "source": [
    "body"
   ]
  },
  {
   "cell_type": "code",
   "execution_count": null,
   "metadata": {
    "collapsed": false
   },
   "outputs": [],
   "source": [
    "body.shape"
   ]
  },
  {
   "cell_type": "code",
   "execution_count": null,
   "metadata": {
    "collapsed": true
   },
   "outputs": [],
   "source": []
  },
  {
   "cell_type": "markdown",
   "metadata": {},
   "source": [
    "### Cache multiple tiles specified by bbox"
   ]
  },
  {
   "cell_type": "code",
   "execution_count": null,
   "metadata": {
    "collapsed": true
   },
   "outputs": [],
   "source": [
    "from ModestMaps.Core import Coordinate\n",
    "from ModestMaps.Geo import Location\n",
    "from ModestMaps.OpenStreetMap import Provider\n",
    "\n",
    "def generateCoordinates(bbox, zooms):\n",
    "    \"\"\" Generate a stream of coordinates for seeding.\n",
    "    \n",
    "        Flood-fill coordinates based on two corners, a list of zooms.\n",
    "        \n",
    "    \"\"\"\n",
    "    \n",
    "    lat1, lon1, lat2, lon2 = bbox\n",
    "    south, west = min(lat1, lat2), min(lon1, lon2)\n",
    "    north, east = max(lat1, lat2), max(lon1, lon2)\n",
    "\n",
    "    northwest = Location(north, west)\n",
    "    southeast = Location(south, east)\n",
    " \n",
    "    osm = Provider()\n",
    "\n",
    "    ul = osm.locationCoordinate(northwest)\n",
    "    lr = osm.locationCoordinate(southeast)\n",
    "\n",
    "    # start with a simple total of all the coordinates we will need.\n",
    "    count = 0\n",
    "    \n",
    "    for zoom in zooms:\n",
    "        ul_ = ul.zoomTo(zoom).container().left().up()\n",
    "        lr_ = lr.zoomTo(zoom).container().right().down()\n",
    "        \n",
    "        rows = lr_.row + 1 - ul_.row\n",
    "        cols = lr_.column + 1 - ul_.column\n",
    "        \n",
    "        count += int(rows * cols)\n",
    "\n",
    "    # now generate the actual coordinates.\n",
    "    # offset starts at zero\n",
    "    offset = 0\n",
    "    \n",
    "    for zoom in zooms:\n",
    "        ul_ = ul.zoomTo(zoom).container().left().up()\n",
    "        lr_ = lr.zoomTo(zoom).container().right().down()\n",
    "\n",
    "        for row in range(int(ul_.row), int(lr_.row + 1)):\n",
    "            for column in range(int(ul_.column), int(lr_.column + 1)):\n",
    "                coord = Coordinate(row, column, zoom)\n",
    "                \n",
    "                yield coord\n",
    "                offset += 1"
   ]
  },
  {
   "cell_type": "code",
   "execution_count": null,
   "metadata": {
    "collapsed": false
   },
   "outputs": [],
   "source": [
    "from os import listdir\n",
    "\n",
    "# granule = 'S1A_EW_GRDM_1SDH_20141003T183449_20141003T183553_002669_002F93_5A6D'\n",
    "\n",
    "pn = '/media/SOLabNFS2/store/satellite/SOLAB-SENTINEL-1/2014/10/03/'\n",
    "# granule_list = listdir(pn)\n",
    "granule_list = {listdir(pn)[1]}\n",
    "\n",
    "bbox = [35, -50, 80, 180]\n",
    "zooms = [0,1,2,3,4,5,6]\n",
    "\n",
    "var_list = ['sigma0w', 'wind_speed']\n",
    "\n",
    "urls = []\n",
    "\n",
    "if isinstance(zooms[0], str):\n",
    "    for (i, zoom) in enumerate(zooms):\n",
    "        if not zoom.isdigit():\n",
    "            raise KnownUnknown('\"%s\" is not a valid numeric zoom level.' % zoom)\n",
    "\n",
    "        zooms[i] = int(zoom)\n",
    "\n",
    "coords = []\n",
    "coordinates = generateCoordinates(bbox, zooms)\n",
    "# List coordinates with one Z/X/Y coordinate per line.\n",
    "for coord in coordinates:\n",
    "    if coord.__dict__['column'] > 0 and coord.__dict__['row'] > 0:\n",
    "        coords.append('zoom=' + str(coord.__dict__['zoom']) + \n",
    "                      '&x='   + str(coord.__dict__['column']) +\n",
    "                      '&y='   + str(coord.__dict__['row']))\n",
    "\n",
    "for granule in granule_list:\n",
    "    for var in var_list:\n",
    "        for coord in coords:\n",
    "            urls.append(\n",
    "                'http://10.170.0.153:9090/wms?product=SOLAB-SENTINEL-1&' +\n",
    "                'variable=' + var +\n",
    "                '&granule=' + granule[:-3] +\n",
    "                '&projection=EPSG%3A3413&polarization=hh&vmin=63&vmax=191&' +\n",
    "                 coord)\n",
    "urls.sort()\n",
    "\n",
    "print len(urls)\n",
    "# print urls"
   ]
  },
  {
   "cell_type": "code",
   "execution_count": null,
   "metadata": {
    "collapsed": true
   },
   "outputs": [],
   "source": [
    "%%timeit -r 1\n",
    "requests = multi_get(urls,timeout=1)\n",
    "# for url, data in requests:\n",
    "#     print \"received from this url \\n%s\" % (url)"
   ]
  },
  {
   "cell_type": "markdown",
   "metadata": {},
   "source": [
    "### Playing with coords"
   ]
  },
  {
   "cell_type": "code",
   "execution_count": null,
   "metadata": {
    "collapsed": false
   },
   "outputs": [],
   "source": [
    "bbox = [35, -50, 80, 180]\n",
    "zooms = ['0', '1']\n",
    "\n",
    "for (i, zoom) in enumerate(zooms):\n",
    "    if not zoom.isdigit():\n",
    "        raise KnownUnknown('\"%s\" is not a valid numeric zoom level.' % zoom)\n",
    "\n",
    "    zooms[i] = int(zoom)\n",
    "\n",
    "coordinates = generateCoordinates(bbox, zooms)\n",
    "coords = []\n",
    "# List coordinates with one Z/X/Y coordinate per line.\n",
    "for coord in coordinates:\n",
    "#     print '%(zoom)d/%(column)d/%(row)d' % coord.__dict__\n",
    "#     print str(coord.__dict__['zoom']) + '/' + str(coord.__dict__['column']) + '/' + str(coord.__dict__['row'])\n",
    "    if coord.__dict__['column'] > 0 and coord.__dict__['row'] >0:\n",
    "        coords.append('zoom=' + str(coord.__dict__['zoom']) + \n",
    "                      '&x='   + str(coord.__dict__['column']) +\n",
    "                      '&y='   + str(coord.__dict__['row']))\n",
    "coords"
   ]
  },
  {
   "cell_type": "markdown",
   "metadata": {},
   "source": [
    "#### Request every tile"
   ]
  },
  {
   "cell_type": "code",
   "execution_count": null,
   "metadata": {
    "collapsed": false
   },
   "outputs": [],
   "source": [
    "from os import listdir\n",
    "from netCDF4 import Dataset as ncDataset\n",
    "\n",
    "# granule = 'S1A_EW_GRDM_1SDH_20141003T183449_20141003T183553_002669_002F93_5A6D'\n",
    "\n",
    "pn = '/media/SOLabNFS2/store/satellite/SOLAB-SENTINEL-1/2014/10/03/'\n",
    "\n",
    "granule_list = listdir(pn)\n",
    "# granule_list = {listdir(pn)[1]}\n",
    "\n",
    "var_list = ['sigma0w', 'wind_speed']\n",
    "urls = []\n",
    "coords = []\n",
    "\n",
    "for granule in granule_list:\n",
    "    dataset = ncDataset(pn + granule)\n",
    "    coords = dataset.variables['Data'].shape\n",
    "    for var in var_list:\n",
    "        for zoom in range(coords[2]):\n",
    "            for x in range(coords[3]):\n",
    "                for y in range(coords[4]):\n",
    "                    urls.append(\n",
    "                        'http://10.170.0.153:9090/wms?product=SOLAB-SENTINEL-1&' +\n",
    "                        'variable=' + var +\n",
    "                        '&granule=' + granule[:-3] +\n",
    "                        '&projection=EPSG%3A3413&polarization=hh&vmin=63&vmax=191&' +\n",
    "                        'zoom=' + str(zoom) +\n",
    "                        '&x=' + str(x) +\n",
    "                        '&y=' + str(y))\n",
    "urls.sort()\n",
    "\n",
    "print len(urls)\n",
    "# print urls"
   ]
  },
  {
   "cell_type": "code",
   "execution_count": null,
   "metadata": {
    "collapsed": false,
    "scrolled": true
   },
   "outputs": [],
   "source": [
    "%%timeit -r 1\n",
    "requests = multi_get(urls[::10000],timeout=1)\n",
    "# for url, data in requests:\n",
    "#     print \"received from this url \\n%s\" % (url)"
   ]
  }
 ],
 "metadata": {
  "kernelspec": {
   "display_name": "Python 2",
   "language": "python",
   "name": "python2"
  },
  "language_info": {
   "codemirror_mode": {
    "name": "ipython",
    "version": 2
   },
   "file_extension": ".py",
   "mimetype": "text/x-python",
   "name": "python",
   "nbconvert_exporter": "python",
   "pygments_lexer": "ipython2",
   "version": "2.7.6"
  },
  "latex_envs": {
   "bibliofile": "biblio.bib",
   "cite_by": "apalike",
   "current_citInitial": 1,
   "eqLabelWithNumbers": true,
   "eqNumInitial": 0
  }
 },
 "nbformat": 4,
 "nbformat_minor": 0
}
