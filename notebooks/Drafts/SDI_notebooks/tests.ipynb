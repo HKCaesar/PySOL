{
 "cells": [
  {
   "cell_type": "code",
   "execution_count": 1,
   "metadata": {
    "collapsed": true
   },
   "outputs": [],
   "source": [
    "l1 = ['a', 'b', 'c']\n",
    "l2 = range(2)\n",
    "l3 = range(3)\n",
    "l4 = range(4)\n",
    "#Есть два списка разной длины. В первом содержатся ключи, а во втором значения.\n",
    "#Напишите функцию, которая создаёт из этих ключей и значений словарь.\n",
    "#Если ключу не хватило значения, в словаре должно быть значение None.\n",
    "#Значения, которым не хватило ключей, нужно игнорировать."
   ]
  },
  {
   "cell_type": "code",
   "execution_count": 146,
   "metadata": {
    "collapsed": true
   },
   "outputs": [],
   "source": [
    "def lists2dict(l1, l2):\n",
    "    if len(l2) > len(l1):\n",
    "        l2 = l2[:len(l1)]\n",
    "    return dict(map(None, l1, l2))"
   ]
  },
  {
   "cell_type": "code",
   "execution_count": 142,
   "metadata": {
    "collapsed": false
   },
   "outputs": [
    {
     "name": "stdout",
     "output_type": "stream",
     "text": [
      "{'a': 0, 'c': None, 'b': 1}\n",
      "{'a': 0, 'c': 2, 'b': 1}\n",
      "{'a': 0, 'c': 2, 'b': 1}\n"
     ]
    }
   ],
   "source": [
    "print lists2dict(l1, l2)\n",
    "print lists2dict(l1, l3)\n",
    "print lists2dict(l1, l4)"
   ]
  },
  {
   "cell_type": "code",
   "execution_count": 143,
   "metadata": {
    "collapsed": false
   },
   "outputs": [
    {
     "name": "stdout",
     "output_type": "stream",
     "text": [
      "100000 loops, best of 3: 2.43 µs per loop\n"
     ]
    }
   ],
   "source": [
    "%timeit lists2dict(l1, l2)"
   ]
  },
  {
   "cell_type": "code",
   "execution_count": 144,
   "metadata": {
    "collapsed": false
   },
   "outputs": [
    {
     "name": "stdout",
     "output_type": "stream",
     "text": [
      "The slowest run took 4.22 times longer than the fastest. This could mean that an intermediate result is being cached \n",
      "1000000 loops, best of 3: 1.19 µs per loop\n"
     ]
    }
   ],
   "source": [
    "%timeit lists2dict(l1, l3)"
   ]
  },
  {
   "cell_type": "code",
   "execution_count": 145,
   "metadata": {
    "collapsed": false
   },
   "outputs": [
    {
     "name": "stdout",
     "output_type": "stream",
     "text": [
      "The slowest run took 5.29 times longer than the fastest. This could mean that an intermediate result is being cached \n",
      "1000000 loops, best of 3: 1.17 µs per loop\n"
     ]
    }
   ],
   "source": [
    "%timeit lists2dict(l1, l4)"
   ]
  },
  {
   "cell_type": "code",
   "execution_count": 147,
   "metadata": {
    "collapsed": false
   },
   "outputs": [
    {
     "name": "stdout",
     "output_type": "stream",
     "text": [
      "The slowest run took 4.41 times longer than the fastest. This could mean that an intermediate result is being cached \n",
      "1000000 loops, best of 3: 1.14 µs per loop\n"
     ]
    }
   ],
   "source": [
    "%timeit lists2dict(l1, l2)"
   ]
  },
  {
   "cell_type": "code",
   "execution_count": 148,
   "metadata": {
    "collapsed": false
   },
   "outputs": [
    {
     "name": "stdout",
     "output_type": "stream",
     "text": [
      "The slowest run took 13.25 times longer than the fastest. This could mean that an intermediate result is being cached \n",
      "1000000 loops, best of 3: 1.12 µs per loop\n"
     ]
    }
   ],
   "source": [
    "%timeit lists2dict(l1, l3)"
   ]
  },
  {
   "cell_type": "code",
   "execution_count": 149,
   "metadata": {
    "collapsed": false
   },
   "outputs": [
    {
     "name": "stdout",
     "output_type": "stream",
     "text": [
      "The slowest run took 5.67 times longer than the fastest. This could mean that an intermediate result is being cached \n",
      "1000000 loops, best of 3: 1.26 µs per loop\n"
     ]
    }
   ],
   "source": [
    "%timeit lists2dict(l1, l4)"
   ]
  },
  {
   "cell_type": "code",
   "execution_count": null,
   "metadata": {
    "collapsed": true
   },
   "outputs": [],
   "source": [
    "#В системе авторизации есть ограничение: логин должен начинаться с латинской буквы, состоять из латинских букв, цифр,\n",
    "#точки и минуса, но заканчиваться только латинской буквой или цифрой; минимальная длина логина — один символ,\n",
    "#максимальная — 20. Напишите код, проверяющий соответствие входной строки этому правилу.\n",
    "#Придумайте несколько способов решения задачи и сравните их."
   ]
  },
  {
   "cell_type": "code",
   "execution_count": 51,
   "metadata": {
    "collapsed": true
   },
   "outputs": [],
   "source": [
    "import re\n",
    "\n",
    "pattern = re.compile(\"^([a-zA-Z]|[a-zA-Z][a-zA-Z0-9\\.-]{,18}[a-zA-Z0-9])$\")\n",
    "\n",
    "def check_login(login):\n",
    "    if pattern.match(login):\n",
    "        return True\n",
    "    return False"
   ]
  },
  {
   "cell_type": "code",
   "execution_count": 29,
   "metadata": {
    "collapsed": false
   },
   "outputs": [
    {
     "name": "stdout",
     "output_type": "stream",
     "text": [
      "None\n",
      "<_sre.SRE_Match object at 0x1ae06c0>\n",
      "None\n",
      "<_sre.SRE_Match object at 0x1ae06c0>\n",
      "<_sre.SRE_Match object at 0x1ae06c0>\n",
      "None\n",
      "None\n",
      "None\n",
      "<_sre.SRE_Match object at 0x1ae06c0>\n",
      "<_sre.SRE_Match object at 0x1ae06c0>\n",
      "None\n",
      "None\n"
     ]
    }
   ],
   "source": [
    "pattern = re.compile(\"^([a-zA-Z]|[a-zA-Z][a-zA-Z0-9\\.-]{,18}[a-zA-Z0-9])$\")\n",
    "\n",
    "def check_login(login):\n",
    "    print pattern.match(login)\n",
    "\n",
    "check_login(\"\")        \n",
    "check_login(\"a\")\n",
    "check_login(\"1\")\n",
    "check_login(\"ab\")\n",
    "check_login(\"ab1\")\n",
    "check_login(\"aaaaaaaaaaaaaaaaaaaaaaaaaaaaaaaaaaaa\")\n",
    "check_login(\"aaaa.\")\n",
    "check_login(\"aaaa.-\")\n",
    "check_login(\"aaaa.-1\")\n",
    "check_login(\"Aaaa.-b\")\n",
    "check_login(\"111111.11\")\n",
    "check_login(\"1a\")"
   ]
  },
  {
   "cell_type": "code",
   "execution_count": 33,
   "metadata": {
    "collapsed": false
   },
   "outputs": [
    {
     "name": "stdout",
     "output_type": "stream",
     "text": [
      "pass\n",
      "pass\n",
      "pass\n",
      "pass\n",
      "pass\n",
      "pass\n",
      "pass\n",
      "pass\n",
      "pass\n",
      "pass\n",
      "pass\n",
      "pass\n"
     ]
    }
   ],
   "source": [
    "import re\n",
    "pattern = re.compile(\"^([a-zA-Z]|[a-zA-Z][a-zA-Z0-9\\.-]{,18}[a-zA-Z0-9])$\")\n",
    "\n",
    "def parse(str):\n",
    "    res = pattern.match(str)\n",
    "    return (res != None)\n",
    "    \n",
    "def test(str,result):\n",
    "    result = parse(str)  == result\n",
    "    if result is True:\n",
    "        print(\"pass\")\n",
    "    else:\n",
    "        print(\"fail: '\" + str + \"'\" )\n",
    "        \n",
    "test(\"\",False)        \n",
    "test(\"a\",True)\n",
    "test(\"1\",False)\n",
    "test(\"ab\",True)\n",
    "test(\"ab1\",True)\n",
    "test(\"aaaaaaaaaaaaaaaaaaaaaaaaaaaaaaaaaaaa\",False)\n",
    "test(\"aaaa.\",False)\n",
    "test(\"aaaa.-\",False)\n",
    "test(\"aaaa.-1\",True)\n",
    "test(\"Aaaa.-b\",True)\n",
    "test(\"111111.11\",False)\n",
    "test(\"1a\",False)"
   ]
  },
  {
   "cell_type": "code",
   "execution_count": 44,
   "metadata": {
    "collapsed": true
   },
   "outputs": [],
   "source": [
    "import string\n",
    "def check_login2(login):\n",
    "    # check length\n",
    "    if len(login) < 1 or len(login) > 20:\n",
    "        return False\n",
    "    \n",
    "    # check first\n",
    "    if len(login) == 1:\n",
    "        if login[0].isalpha():\n",
    "            return True\n",
    "        return False\n",
    "    \n",
    "    # check first and last\n",
    "    elif not (login[-1].isalpha() or login[-1].isdigit()) or not login[0].isalpha():\n",
    "        return False\n",
    "    \n",
    "    # check all symbols\n",
    "    if set(login).issubset(set(string.digits+string.letters+'.-')):\n",
    "        return True\n",
    "    return False"
   ]
  },
  {
   "cell_type": "code",
   "execution_count": 42,
   "metadata": {
    "collapsed": false
   },
   "outputs": [
    {
     "name": "stdout",
     "output_type": "stream",
     "text": [
      "\n",
      "False\n",
      "a\n",
      "True\n",
      "1\n",
      "False\n",
      "ab\n",
      "True\n",
      "ab1\n",
      "True\n",
      "aaaaaaaaaaaaaaaaaaaaaaaaaaaaaaaaaaaa\n",
      "False\n",
      "aaaa.\n",
      "False\n",
      "aaaa.-\n",
      "False\n",
      "aaaa.-1\n",
      "True\n",
      "Aaaa.-b\n",
      "True\n",
      "111111.11\n",
      "False\n",
      "1a\n",
      "False\n"
     ]
    }
   ],
   "source": [
    "import string\n",
    "def check_login(login):\n",
    "    # check length\n",
    "    if len(login) < 1 or len(login) > 20:\n",
    "        return False\n",
    "    \n",
    "    # check first\n",
    "    if len(login) == 1:\n",
    "        if login[0].isalpha():\n",
    "            return True\n",
    "        return False\n",
    "    \n",
    "    # check first and last\n",
    "    elif not (login[-1].isalpha() or login[-1].isdigit()) or not login[0].isalpha():\n",
    "        return False\n",
    "    \n",
    "    # check all symbols\n",
    "    if set(login).issubset(set(string.digits+string.letters+'.-')):\n",
    "        return True\n",
    "    return False\n",
    "\n",
    "\n",
    "print check_login(\"\")\n",
    "print check_login(\"a\")\n",
    "print check_login(\"1\")\n",
    "print check_login(\"ab\")\n",
    "print check_login(\"ab1\")\n",
    "print check_login(\"aaaaaaaaaaaaaaaaaaaaaaaaaaaaaaaaaaaa\")\n",
    "print check_login(\"aaaa.\")\n",
    "print check_login(\"aaaa.-\")\n",
    "print check_login(\"aaaa.-1\")\n",
    "print check_login(\"Aaaa.-b\")\n",
    "print check_login(\"111111.11\")\n",
    "print check_login(\"1a\")\n",
    "# is_valid_login = lambda login: match(r'[-.a-zA-Z0-9]{1,20}$', login) is not None and login[0].isalpha() and login[-1].isalpha()"
   ]
  },
  {
   "cell_type": "code",
   "execution_count": 53,
   "metadata": {
    "collapsed": false
   },
   "outputs": [
    {
     "name": "stdout",
     "output_type": "stream",
     "text": [
      "The slowest run took 7.76 times longer than the fastest. This could mean that an intermediate result is being cached \n",
      "1000000 loops, best of 3: 645 ns per loop\n"
     ]
    }
   ],
   "source": [
    "%timeit check_login('Qth754-,gr')"
   ]
  },
  {
   "cell_type": "code",
   "execution_count": 54,
   "metadata": {
    "collapsed": false
   },
   "outputs": [
    {
     "name": "stdout",
     "output_type": "stream",
     "text": [
      "The slowest run took 5.74 times longer than the fastest. This could mean that an intermediate result is being cached \n",
      "100000 loops, best of 3: 3.49 µs per loop\n"
     ]
    }
   ],
   "source": [
    "%timeit check_login2('Qth754-,gr')"
   ]
  },
  {
   "cell_type": "code",
   "execution_count": 56,
   "metadata": {
    "collapsed": false
   },
   "outputs": [
    {
     "data": {
      "text/plain": [
       "5.410852713178294"
      ]
     },
     "execution_count": 56,
     "metadata": {},
     "output_type": "execute_result"
    }
   ],
   "source": [
    "3490 / 645.0"
   ]
  },
  {
   "cell_type": "code",
   "execution_count": null,
   "metadata": {
    "collapsed": true
   },
   "outputs": [],
   "source": []
  },
  {
   "cell_type": "code",
   "execution_count": 59,
   "metadata": {
    "collapsed": true
   },
   "outputs": [],
   "source": [
    "# SELECT users.Name, count(messages.Message) FROM users LEFT JOIN messages ON users.UID = messages.UID group by users.Name;"
   ]
  },
  {
   "cell_type": "code",
   "execution_count": null,
   "metadata": {
    "collapsed": true
   },
   "outputs": [],
   "source": []
  },
  {
   "cell_type": "code",
   "execution_count": 60,
   "metadata": {
    "collapsed": true
   },
   "outputs": [],
   "source": [
    "# Предположим, у нас есть access.log веб-сервера. Как с помощью стандартных консольных средств найти десять\n",
    "# IP-адресов, от которых было больше всего запросов? А как сделать это с помощью скрипта на Python?"
   ]
  },
  {
   "cell_type": "code",
   "execution_count": null,
   "metadata": {
    "collapsed": true
   },
   "outputs": [],
   "source": [
    "grep -o -P '((25[0-5]|2[0-4]\\d|[01]?\\d\\d?)\\.){3}(25[0-5]|2[0-4]\\d|[01]?\\d\\d?)' spiritgb.bget.ru.access.log | sort | uniq -c | sort -n | tail -n 10 "
   ]
  },
  {
   "cell_type": "code",
   "execution_count": 115,
   "metadata": {
    "collapsed": true
   },
   "outputs": [],
   "source": [
    "import re\n",
    "part_of_pattern = r'([0-9]|[1-9]\\d|1\\d\\d|2[0-4]\\d|25[0-5])'\n",
    "pattern = re.compile(r'(%s\\.%s\\.%s\\.%s)' % (ip,ip,ip,ip))"
   ]
  },
  {
   "cell_type": "code",
   "execution_count": 63,
   "metadata": {
    "collapsed": false
   },
   "outputs": [
    {
     "name": "stdout",
     "output_type": "stream",
     "text": [
      "/media/SOLabNFS2/tmp/AMSR2_test/2014/07/test_ip\r\n"
     ]
    }
   ],
   "source": [
    "!ls /media/SOLabNFS2/tmp/AMSR2_test/2014/07/test_ip"
   ]
  },
  {
   "cell_type": "code",
   "execution_count": 139,
   "metadata": {
    "collapsed": false
   },
   "outputs": [
    {
     "name": "stdout",
     "output_type": "stream",
     "text": [
      "['85.142.104.1', '217.115.10.1']\n"
     ]
    }
   ],
   "source": [
    "import re\n",
    "part_of_pattern = r'([0-9]|[1-9]\\d|1\\d\\d|2[0-4]\\d|25[0-5])'\n",
    "pattern = re.compile(r'(%s\\.%s\\.%s\\.%s)' % (ip,ip,ip,ip))\n",
    "\n",
    "# read all lines\n",
    "f = open('/media/SOLabNFS2/tmp/AMSR2_test/2014/07/test_ip')\n",
    "# get ip_list\n",
    "ip_list = map(lambda line: pattern.findall(line)[0][0], f.readlines())\n",
    "f.close()\n",
    "\n",
    "# create dict {ip: count}\n",
    "ip_dict = {}\n",
    "for ip_adr in ip_list:\n",
    "    if ip_adr in ip_dict:\n",
    "        ip_dict[ip_adr] += 1\n",
    "    else:\n",
    "        ip_dict[ip_adr] = 1\n",
    "\n",
    "# sort by count\n",
    "sorted_ip_dict = sorted(ip_dict.items(), key=lambda (k, v): v, reverse=True)[:10]\n",
    "# print top 10 ip\n",
    "print map(lambda ip_tuple: ip_tuple[0], sorted_ip_dict)"
   ]
  },
  {
   "cell_type": "code",
   "execution_count": 114,
   "metadata": {
    "collapsed": false
   },
   "outputs": [
    {
     "name": "stdout",
     "output_type": "stream",
     "text": [
      "[('85.142.104.1', '85', '142', '104', '1')]\n"
     ]
    }
   ],
   "source": [
    "test_line = 'spiritgb.bget.ru 85.142.104.170 - - [14/Oct/2015:17:39:11 +0300] \"GET /static/css/images/templatemo_menu_divider.png HTTP/1.1\" 404 2877 \"http://spiritgb.bget.ru/static/css/ddsmoothmenu.css\" \"Mozilla/5.0 (X11; Linux x86_64) AppleWebKit/537.36 (KHTML, like Gecko) Chrome/45.0.2454.101 Safari/537.36\"'\n",
    "\n",
    "ip = r'([0-9]|[1-9]\\d|1\\d\\d|2[0-4]\\d|25[0-5])'\n",
    "print re.findall(r'(%s\\.%s\\.%s\\.%s)' % (ip,ip,ip,ip), test_line)"
   ]
  },
  {
   "cell_type": "code",
   "execution_count": 138,
   "metadata": {
    "collapsed": false
   },
   "outputs": [
    {
     "name": "stdout",
     "output_type": "stream",
     "text": [
      "['85.142.104.1', '217.115.10.1']\n"
     ]
    }
   ],
   "source": [
    "print map(lambda ip_tuple: ip_tuple[0], sorted_ip_dict)"
   ]
  },
  {
   "cell_type": "code",
   "execution_count": null,
   "metadata": {
    "collapsed": true
   },
   "outputs": [],
   "source": []
  },
  {
   "cell_type": "code",
   "execution_count": 61,
   "metadata": {
    "collapsed": false
   },
   "outputs": [
    {
     "ename": "SyntaxError",
     "evalue": "invalid syntax (<ipython-input-61-aa10913f8474>, line 2)",
     "output_type": "error",
     "traceback": [
      "\u001b[1;36m  File \u001b[1;32m\"<ipython-input-61-aa10913f8474>\"\u001b[1;36m, line \u001b[1;32m2\u001b[0m\n\u001b[1;33m    С++ - 2\u001b[0m\n\u001b[1;37m    ^\u001b[0m\n\u001b[1;31mSyntaxError\u001b[0m\u001b[1;31m:\u001b[0m invalid syntax\n"
     ]
    }
   ],
   "source": [
    "Python - 2\n",
    "С++ - 2\n",
    "Django или другие Python-фреймворки - 2\n",
    "язык SQL, MySQL или другой SQL-сервер - 1\n",
    "NoSQL базы данных - 1\n",
    "ОС Unix/Linux, стандартные средства shell - 2\n",
    "алгоритмы и структуры данных - 2\n",
    "JavaScript - 1\n",
    "XML/XSLT - 1\n",
    "Git, SVN, другие VCS - 2"
   ]
  }
 ],
 "metadata": {
  "kernelspec": {
   "display_name": "Python 2",
   "language": "python",
   "name": "python2"
  },
  "language_info": {
   "codemirror_mode": {
    "name": "ipython",
    "version": 2
   },
   "file_extension": ".py",
   "mimetype": "text/x-python",
   "name": "python",
   "nbconvert_exporter": "python",
   "pygments_lexer": "ipython2",
   "version": "2.7.3"
  }
 },
 "nbformat": 4,
 "nbformat_minor": 0
}
