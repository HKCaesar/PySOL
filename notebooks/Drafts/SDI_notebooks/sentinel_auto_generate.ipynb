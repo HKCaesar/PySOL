{
 "cells": [
  {
   "cell_type": "code",
   "execution_count": 4,
   "metadata": {
    "collapsed": false
   },
   "outputs": [],
   "source": [
    "import gdal\n",
    "import os\n",
    "import sys\n",
    "sys.path.append('/usr/bin')\n",
    "from gdal2tiles import GDAL2Tiles\n",
    "\n",
    "def create_asar_tiles(png_filename, tiles_output_dir, proj):\n",
    "    local_argv = ['/usr/bin/gdal2tiles.py', '-p', 'raster', '-r', 'cubic',\n",
    "                  '-s', proj, png_filename, tiles_output_dir]\n",
    "    argv = gdal.GeneralCmdLineProcessor(local_argv)\n",
    "    if argv:\n",
    "        gdal2tiles = GDAL2Tiles(argv[1:])\n",
    "        gdal2tiles.process()\n"
   ]
  },
  {
   "cell_type": "code",
   "execution_count": 7,
   "metadata": {
    "collapsed": false
   },
   "outputs": [
    {
     "name": "stdout",
     "output_type": "stream",
     "text": [
      "/media/SOLabNFS2/http/tiles/sentinel-1/roughness/epsg_3413/2015/06/test_file/test_file.png\n",
      "/media/SOLabNFS2/http/tiles/sentinel-1/roughness/epsg_3413/2015/06/test_file/tiles\n"
     ]
    }
   ],
   "source": [
    "fileName = 'test_file'\n",
    "\n",
    "# output path with all sentinel-1 files\n",
    "out_path = '/media/SOLabNFS2/http/tiles/sentinel-1/'\n",
    "pp_name = 'roughness'\n",
    "year = '2015'\n",
    "day = '06'\n",
    "\n",
    "# path with roughness 3413 output files (png and tiles)\n",
    "oPath_3413_r = os.path.join(out_path, pp_name, 'epsg_3413', year, day, fileName)\n",
    "\n",
    "# png file path\n",
    "png_3413_r_filename = os.path.join(oPath_3413_r, fileName+'.png')\n",
    "\n",
    "# tiles directory path\n",
    "tiles_3413_r_output_dir = os.path.join(oPath_3413_r, 'tiles')\n",
    "\n",
    "print png_3413_r_filename\n",
    "print tiles_3413_r_output_dir\n",
    "\n",
    "# create_asar_tiles(png_3413_r_filename, tiles_3413_r_output_dir, 'EPSG:3413')"
   ]
  }
 ],
 "metadata": {
  "kernelspec": {
   "display_name": "Python 2",
   "language": "python",
   "name": "python2"
  },
  "language_info": {
   "codemirror_mode": {
    "name": "ipython",
    "version": 2
   },
   "file_extension": ".py",
   "mimetype": "text/x-python",
   "name": "python",
   "nbconvert_exporter": "python",
   "pygments_lexer": "ipython2",
   "version": "2.7.3"
  }
 },
 "nbformat": 4,
 "nbformat_minor": 0
}
