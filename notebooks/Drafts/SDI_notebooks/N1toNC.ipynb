{
 "metadata": {
  "name": ""
 },
 "nbformat": 3,
 "nbformat_minor": 0,
 "worksheets": [
  {
   "cells": [
    {
     "cell_type": "code",
     "collapsed": false,
     "input": [
      "ls '/media/SOLabNFS2/store/satellite/asar/2012/099'"
     ],
     "language": "python",
     "metadata": {},
     "outputs": [
      {
       "output_type": "stream",
       "stream": "stdout",
       "text": [
        "ASA_APM_1PNIPA20120408_074301_000000243113_00265_52865_4604.N1\r\n",
        "ASA_APM_1PNPDE20120408_035042_000000593113_00263_52863_1005.N1\r\n",
        "ASA_IMM_1PNPDE20120408_010507_000000623113_00261_52861_0920.N1\r\n",
        "ASA_WSM_1PNIPA20120408_092123_000002813113_00266_52866_4616.N1\r\n",
        "ASA_WSM_1PNPDE20120408_004028_000005513113_00261_52861_0917.N1\r\n",
        "ASA_WSM_1PNPDE20120408_023320_000001533113_00262_52862_0938.N1\r\n",
        "ASA_WSM_1PNPDE20120408_043011_000002813113_00263_52863_0988.N1\r\n",
        "ASA_WSM_1PNPDK20120408_091534_000003123113_00266_52866_9235.N1\r\n"
       ]
      }
     ],
     "prompt_number": 5
    },
    {
     "cell_type": "code",
     "collapsed": false,
     "input": [
      "import epr\n",
      "import ipdb\n",
      "import matplotlib.pyplot as plt\n",
      "\n",
      "product = epr.Product(\n",
      "    'test.N1')\n",
      "dataset = product.get_dataset('MAIN_PROCESSING_PARAMS_ADS')\n",
      "record = dataset.read_record(0)\n",
      "print(record)\n",
      "\n",
      "band = product.get_band('proc_data')\n",
      "data = band.read_as_array(1000, 1000, xoffset=200, yoffset=4500, xstep=2, ystep=2)\n",
      "\n",
      "plt.imshow(data, cmap=plt.get_cmap('gray'), vmin=0, vmax=1000)\n",
      "plt.title(band.description)\n",
      "plt.colorbar()\n",
      "plt.savefig('test.png')\n",
      "\n",
      "# ipdb.set_trace()\n",
      "\n",
      "product.close()"
     ],
     "language": "python",
     "metadata": {},
     "outputs": [
      {
       "ename": "ImportError",
       "evalue": "No module named epr",
       "output_type": "pyerr",
       "traceback": [
        "\u001b[1;31m---------------------------------------------------------------------------\u001b[0m\n\u001b[1;31mImportError\u001b[0m                               Traceback (most recent call last)",
        "\u001b[1;32m<ipython-input-6-887c279c1dcd>\u001b[0m in \u001b[0;36m<module>\u001b[1;34m()\u001b[0m\n\u001b[1;32m----> 1\u001b[1;33m \u001b[1;32mimport\u001b[0m \u001b[0mepr\u001b[0m\u001b[1;33m\u001b[0m\u001b[0m\n\u001b[0m\u001b[0;32m      2\u001b[0m \u001b[1;32mimport\u001b[0m \u001b[0mipdb\u001b[0m\u001b[1;33m\u001b[0m\u001b[0m\n\u001b[0;32m      3\u001b[0m \u001b[1;32mimport\u001b[0m \u001b[0mmatplotlib\u001b[0m\u001b[1;33m.\u001b[0m\u001b[0mpyplot\u001b[0m \u001b[1;32mas\u001b[0m \u001b[0mplt\u001b[0m\u001b[1;33m\u001b[0m\u001b[0m\n\u001b[0;32m      4\u001b[0m \u001b[1;33m\u001b[0m\u001b[0m\n\u001b[0;32m      5\u001b[0m product = epr.Product(\n",
        "\u001b[1;31mImportError\u001b[0m: No module named epr"
       ]
      }
     ],
     "prompt_number": 6
    }
   ],
   "metadata": {}
  }
 ]
}