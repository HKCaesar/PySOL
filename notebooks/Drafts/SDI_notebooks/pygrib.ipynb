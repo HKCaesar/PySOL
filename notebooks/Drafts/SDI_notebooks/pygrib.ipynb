{
 "cells": [
  {
   "cell_type": "code",
   "execution_count": 1,
   "metadata": {
    "collapsed": false
   },
   "outputs": [],
   "source": [
    "import pygrib\n",
    "file_name = '/media/SOLabNFS2/store/model/ncep/gfs/gfs20130101/gfs.t00z.master.grbf00'\n",
    "grbs = pygrib.open(file_name)\n",
    "msg = grbs.message(1)\n",
    "\n",
    "data = msg.data()[0]\n",
    "lats, lons = msg.latlons()\n",
    "\n",
    "proj_3413 = \"+proj=stere +lat_0=90 +lat_ts=70 +lon_0=-45 +k=1 +x_0=0 +y_0=0 +ellps=WGS84 +datum=WGS84 +units=m +no_defs\"\n",
    "\n",
    "# globe = ccrs.Globe(towgs84=proj_3413)\n",
    "\n",
    "# ax = plt.axes(projection=ccrs.NorthPolarStereo(globe=globe))\n",
    "# ax.set_extent([-5000000, 5000000, -5000000, 5000000], ccrs.NorthPolarStereo(globe=globe))\n",
    "\n",
    "\n",
    "# plt.contourf(lons, lats, data, 60, transform=ccrs.PlateCarree())\n",
    "\n",
    "# ax.coastlines()\n",
    "# plt.show()"
   ]
  },
  {
   "cell_type": "code",
   "execution_count": 2,
   "metadata": {
    "collapsed": true
   },
   "outputs": [],
   "source": [
    "grbs.close()"
   ]
  },
  {
   "cell_type": "code",
   "execution_count": 5,
   "metadata": {
    "collapsed": false
   },
   "outputs": [],
   "source": [
    "data = grbs.message(1).data()"
   ]
  },
  {
   "cell_type": "code",
   "execution_count": 7,
   "metadata": {
    "collapsed": false
   },
   "outputs": [
    {
     "data": {
      "text/plain": [
       "array([[ 260.5,  260.5,  260.5, ...,  260.5,  260.5,  260.5],\n",
       "       [ 260.6,  260.6,  260.6, ...,  260.6,  260.6,  260.6],\n",
       "       [ 260.6,  260.6,  260.6, ...,  260.6,  260.6,  260.6],\n",
       "       ..., \n",
       "       [ 254.7,  254.7,  254.7, ...,  254.7,  254.7,  254.7],\n",
       "       [ 255.7,  255.7,  255.7, ...,  255.7,  255.7,  255.7],\n",
       "       [ 255.9,  255.9,  255.9, ...,  255.9,  255.9,  255.9]])"
      ]
     },
     "execution_count": 7,
     "metadata": {},
     "output_type": "execute_result"
    }
   ],
   "source": [
    "data[0]"
   ]
  }
 ],
 "metadata": {
  "kernelspec": {
   "display_name": "Python 2",
   "language": "python",
   "name": "python2"
  },
  "language_info": {
   "codemirror_mode": {
    "name": "ipython",
    "version": 2
   },
   "file_extension": ".py",
   "mimetype": "text/x-python",
   "name": "python",
   "nbconvert_exporter": "python",
   "pygments_lexer": "ipython2",
   "version": "2.7.3"
  }
 },
 "nbformat": 4,
 "nbformat_minor": 0
}
