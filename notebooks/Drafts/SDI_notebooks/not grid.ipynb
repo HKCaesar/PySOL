{
 "metadata": {
  "name": ""
 },
 "nbformat": 3,
 "nbformat_minor": 0,
 "worksheets": [
  {
   "cells": [
    {
     "cell_type": "code",
     "collapsed": false,
     "input": [
      "def naive_slow(latvar,lonvar,lat0,lon0):\n",
      "    '''\n",
      "    Find \"closest\" point in a set of (lat,lon) points to specified point\n",
      "    latvar - 2D latitude variable from an open netCDF dataset\n",
      "    lonvar - 2D longitude variable from an open netCDF dataset\n",
      "    lat0,lon0 - query point\n",
      "    Returns iy,ix such that \n",
      "     (lonval[iy,ix] - lon0)**2 + (latval[iy,ix] - lat0)**2\n",
      "    is minimum.  This \"closeness\" measure works badly near poles and\n",
      "    longitude boundaries.\n",
      "    '''\n",
      "    # Read from file into numpy arrays\n",
      "    latvals = latvar[:]\n",
      "    lonvals = lonvar[:]\n",
      "    ny,nx = latvals.shape\n",
      "    dist_sq_min = 1.0e30\n",
      "    for iy in range(ny):\n",
      "        for ix in range(nx):\n",
      "            latval = latvals[iy, ix]\n",
      "            lonval = lonvals[iy, ix]\n",
      "            dist_sq = (latval - lat0)**2 + (lonval - lon0)**2\n",
      "            if dist_sq < dist_sq_min:\n",
      "                iy_min, ix_min, dist_sq_min = iy, ix, dist_sq\n",
      "    return iy_min,ix_min"
     ],
     "language": "python",
     "metadata": {},
     "outputs": [],
     "prompt_number": 2
    },
    {
     "cell_type": "code",
     "collapsed": false,
     "input": [
      "from netCDF4 import Dataset as ncDataset\n",
      "link = 'http://opendap.solab.rshu.ru:8080/opendap/allData/ASCAT-L2-Coastal/2014/001/ascat_20140101_003300_metopa_37369_eps_o_coa_2200_ovw.l2.nc.gz'\n"
     ],
     "language": "python",
     "metadata": {},
     "outputs": [
      {
       "ename": "ImportError",
       "evalue": "/usr/local/lib/python2.7/dist-packages/netCDF4.so: undefined symbol: nc_inq_path",
       "output_type": "pyerr",
       "traceback": [
        "\u001b[1;31m---------------------------------------------------------------------------\u001b[0m\n\u001b[1;31mImportError\u001b[0m                               Traceback (most recent call last)",
        "\u001b[1;32m<ipython-input-4-d62e3268b23f>\u001b[0m in \u001b[0;36m<module>\u001b[1;34m()\u001b[0m\n\u001b[1;32m----> 1\u001b[1;33m \u001b[1;32mfrom\u001b[0m \u001b[0mnetCDF4\u001b[0m \u001b[1;32mimport\u001b[0m \u001b[0mDataset\u001b[0m \u001b[1;32mas\u001b[0m \u001b[0mncDataset\u001b[0m\u001b[1;33m\u001b[0m\u001b[0m\n\u001b[0m\u001b[0;32m      2\u001b[0m \u001b[0mlink\u001b[0m \u001b[1;33m=\u001b[0m \u001b[1;34m'http://opendap.solab.rshu.ru:8080/opendap/allData/ASCAT-L2-Coastal/2014/001/ascat_20140101_003300_metopa_37369_eps_o_coa_2200_ovw.l2.nc.gz'\u001b[0m\u001b[1;33m\u001b[0m\u001b[0m\n",
        "\u001b[1;31mImportError\u001b[0m: /usr/local/lib/python2.7/dist-packages/netCDF4.so: undefined symbol: nc_inq_path"
       ]
      }
     ],
     "prompt_number": 4
    },
    {
     "cell_type": "code",
     "collapsed": false,
     "input": [],
     "language": "python",
     "metadata": {},
     "outputs": []
    }
   ],
   "metadata": {}
  }
 ]
}