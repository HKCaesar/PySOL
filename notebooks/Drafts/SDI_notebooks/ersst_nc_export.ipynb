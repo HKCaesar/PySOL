{
 "cells": [
  {
   "cell_type": "code",
   "execution_count": 66,
   "metadata": {
    "collapsed": false
   },
   "outputs": [
    {
     "name": "stdout",
     "output_type": "stream",
     "text": [
      "Populating the interactive namespace from numpy and matplotlib\n"
     ]
    }
   ],
   "source": [
    "%pylab inline\n",
    "from datetime import date, timedelta\n",
    "import numpy as np\n",
    "from netCDF4 import Dataset as ncDataset\n",
    "import os\n",
    "from random import randint"
   ]
  },
  {
   "cell_type": "code",
   "execution_count": 54,
   "metadata": {
    "collapsed": false
   },
   "outputs": [],
   "source": [
    "dates = []\n",
    "lats = [45, 45.6, 46, 47, 48, 50, 50.84]\n",
    "lons = [150, 150.5, 152, 153, 155, 156, 156.87]"
   ]
  },
  {
   "cell_type": "code",
   "execution_count": 55,
   "metadata": {
    "collapsed": false
   },
   "outputs": [],
   "source": [
    "sst = numpy.zeros(shape=(300,7))\n",
    "file_count = 0\n",
    "for d, dirs, files in os.walk('dir'):\n",
    "    for _file in files:\n",
    "        date = 'from_file'\n",
    "        dates.append(date)\n",
    "        \n",
    "        # open dataset\n",
    "        for point_ind in dim_point:\n",
    "            # read sst for lat, lon\n",
    "            lat = lats[point_ind]\n",
    "            lon = lons[point_ind]\n",
    "            sst[file_count][point_ind] = randint(0,9)\n",
    "        file_count += 1"
   ]
  },
  {
   "cell_type": "code",
   "execution_count": null,
   "metadata": {
    "collapsed": true
   },
   "outputs": [],
   "source": [
    "# read values from ifr"
   ]
  },
  {
   "cell_type": "code",
   "execution_count": null,
   "metadata": {
    "collapsed": true
   },
   "outputs": [],
   "source": [
    "dim_point = range(7)\n",
    "dim_dates = len(dates)"
   ]
  },
  {
   "cell_type": "code",
   "execution_count": 56,
   "metadata": {
    "collapsed": false
   },
   "outputs": [],
   "source": [
    "export_path = '/tmp/ersst_temp.nc'\n",
    "if not os.path.isdir(os.path.dirname(export_path)):\n",
    "    os.mkdir(os.path.dirname(export_path))\n",
    "dataset = ncDataset(export_path, 'w', format='NETCDF4')"
   ]
  },
  {
   "cell_type": "code",
   "execution_count": 57,
   "metadata": {
    "collapsed": false
   },
   "outputs": [
    {
     "data": {
      "text/plain": [
       "<type 'netCDF4._netCDF4.Dimension'>: name = 'point', size = 7"
      ]
     },
     "execution_count": 57,
     "metadata": {},
     "output_type": "execute_result"
    }
   ],
   "source": [
    "dataset.createDimension('date', len(dim_dates))\n",
    "dataset.createDimension('point', len(dim_point))"
   ]
  },
  {
   "cell_type": "code",
   "execution_count": 58,
   "metadata": {
    "collapsed": false
   },
   "outputs": [],
   "source": [
    "outVar = dataset.createVariable('date', 'string', ('date',), zlib=True, complevel=6)\n",
    "outVar[:] = np.array(dates, dtype='string')"
   ]
  },
  {
   "cell_type": "code",
   "execution_count": 59,
   "metadata": {
    "collapsed": false
   },
   "outputs": [
    {
     "name": "stdout",
     "output_type": "stream",
     "text": [
      "2016-05-31\n",
      "<type 'datetime.date'>\n",
      "2016-05-31\n",
      "<type 'str'>\n"
     ]
    }
   ],
   "source": [
    "print date.today() + timedelta(days=i)\n",
    "print type(date.today() + timedelta(days=i))\n",
    "print (date.today() + timedelta(days=i)).strftime('%Y-%m-%d')\n",
    "print type((date.today() + timedelta(days=i)).strftime('%Y-%m-%d'))\n"
   ]
  },
  {
   "cell_type": "code",
   "execution_count": 38,
   "metadata": {
    "collapsed": false
   },
   "outputs": [],
   "source": [
    "# dataset.variables['date'][:]"
   ]
  },
  {
   "cell_type": "code",
   "execution_count": 60,
   "metadata": {
    "collapsed": true
   },
   "outputs": [],
   "source": [
    "outVar = dataset.createVariable('lats', 'f4', ('point',), zlib=True, complevel=6)\n",
    "outVar[:] = lats[:]\n",
    "outVar = dataset.createVariable('lons', 'f4', ('point',), zlib=True, complevel=6)\n",
    "outVar[:] = lons[:]"
   ]
  },
  {
   "cell_type": "code",
   "execution_count": 61,
   "metadata": {
    "collapsed": true
   },
   "outputs": [],
   "source": [
    "outVar = dataset.createVariable('sst', 'f4', ('date', 'point',), zlib=True, complevel=6)\n",
    "outVar[:] = sst[:]"
   ]
  },
  {
   "cell_type": "code",
   "execution_count": 62,
   "metadata": {
    "collapsed": true
   },
   "outputs": [],
   "source": [
    "dataset.close()"
   ]
  },
  {
   "cell_type": "code",
   "execution_count": 63,
   "metadata": {
    "collapsed": false
   },
   "outputs": [
    {
     "name": "stdout",
     "output_type": "stream",
     "text": [
      "-rw-rw-r-- 1 sdi sdi 26068 Aug  6 12:11 /tmp/ersst_temp.nc\r\n"
     ]
    }
   ],
   "source": [
    "!ls -la /tmp/ersst_temp.nc"
   ]
  },
  {
   "cell_type": "code",
   "execution_count": 92,
   "metadata": {
    "collapsed": true
   },
   "outputs": [],
   "source": [
    "dataset = ncDataset(export_path)\n",
    "sst = dataset.variables['sst']"
   ]
  },
  {
   "cell_type": "code",
   "execution_count": 99,
   "metadata": {
    "collapsed": false
   },
   "outputs": [
    {
     "data": {
      "image/png": "[encoded data removed]",
      "text/plain": [
       "<matplotlib.figure.Figure at 0x4377310>"
      ]
     },
     "metadata": {},
     "output_type": "display_data"
    }
   ],
   "source": [
    "# imshow(sst[:6, 6:])\n",
    "# colorbar()\n",
    "# sst[:6, 6:].shape\n",
    "plot(sst[1:100:2, :1])\n",
    "ylim(-10, 20)\n",
    "show()\n",
    "\n",
    "# os.remove(export_path)\n",
    "# dataset.close()"
   ]
  },
  {
   "cell_type": "code",
   "execution_count": 100,
   "metadata": {
    "collapsed": false
   },
   "outputs": [],
   "source": [
    "dataset.close()"
   ]
  },
  {
   "cell_type": "code",
   "execution_count": null,
   "metadata": {
    "collapsed": true
   },
   "outputs": [],
   "source": []
  }
 ],
 "metadata": {
  "kernelspec": {
   "display_name": "Python 2",
   "language": "python",
   "name": "python2"
  },
  "language_info": {
   "codemirror_mode": {
    "name": "ipython",
    "version": 2
   },
   "file_extension": ".py",
   "mimetype": "text/x-python",
   "name": "python",
   "nbconvert_exporter": "python",
   "pygments_lexer": "ipython2",
   "version": "2.7.3"
  }
 },
 "nbformat": 4,
 "nbformat_minor": 0
}
