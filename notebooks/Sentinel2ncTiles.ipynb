{
 "cells": [
  {
   "cell_type": "code",
   "execution_count": 2,
   "metadata": {
    "collapsed": false
   },
   "outputs": [
    {
     "name": "stderr",
     "output_type": "stream",
     "text": [
      ":0: FutureWarning: IPython widgets are experimental and may change in the future.\n"
     ]
    }
   ],
   "source": [
    "%matplotlib inline\n",
    "import datetime\n",
    "import os\n",
    "import re\n",
    "import sys\n",
    "import gc\n",
    "\n",
    "import gdal\n",
    "from numpy import asarray, zeros, ma, flipud, pi, exp, cos, radians\n",
    "# import matplotlib\n",
    "# import matplotlib.pyplot as plt\n",
    "# from matplotlib.mlab import find\n",
    "# matplotlib.use('Agg')\n",
    "from pylab import *\n",
    "\n",
    "# from PIL import Image\n",
    "from scipy.signal import wiener\n",
    "import pyresample as pr\n",
    "# from pyproj import Proj\n",
    "from scipy.interpolate import RectSphereBivariateSpline\n",
    "import simplekml\n",
    "import multiprocessing\n",
    "\n",
    "sys.path.append('/media/SOLabNFS2/tmp/sentinel/')\n",
    "\n",
    "import readS1\n",
    "from readS1 import *\n",
    "import distancelib\n",
    "import gshhs_rasterize\n",
    "\n",
    "sys.path.append('/usr/bin')\n",
    "from gdal2tiles import GDAL2Tiles\n",
    "\n",
    "# sys.path.append(\n",
    "#     os.path.dirname(\n",
    "#         os.path.dirname(os.path.dirname(os.path.abspath(__file__)))\n",
    "#     )\n",
    "# )\n",
    "from big_image import save_big_image\n",
    "sys.path.append('/home/mag/Documents/repos/solab/PySOL/cmod/')\n",
    "\n",
    "__author__ = 'Alexander Myasoedov'\n",
    "__email__ = 'mag@rshu.ru'\n",
    "__created__ = datetime.datetime(2014, 10, 28)\n",
    "__modified__ = datetime.datetime(2015, 6, 19)\n",
    "__version__ = \"1.0\"\n",
    "__status__ = \"Development\""
   ]
  },
  {
   "cell_type": "code",
   "execution_count": 3,
   "metadata": {
    "collapsed": true
   },
   "outputs": [],
   "source": [
    "def mkdirs(path):\n",
    "    if not os.path.isdir(path):\n",
    "        os.makedirs(path)\n",
    "\n",
    "def PR_Mouche(theta, phi):\n",
    "    A_0 = 0.00650704\n",
    "    B_0 = 0.128983\n",
    "    C_0 = 0.992839\n",
    "    A_HALF_PI = 0.00782194\n",
    "    B_HALF_PI = 0.121405\n",
    "    C_HALF_PI = 0.992839\n",
    "    A_PI = 0.00598416\n",
    "    B_PI = 0.140952\n",
    "    C_PI = 0.992885\n",
    "\n",
    "    P_0 = A_0 * exp(B_0 * theta) + C_0\n",
    "    P_HALF_PI = A_HALF_PI * exp(B_HALF_PI * theta) + C_HALF_PI\n",
    "    P_PI = A_PI * exp(B_PI * theta) + C_PI\n",
    "\n",
    "    C0 = (P_0 + P_PI + 2 * P_HALF_PI) / 4\n",
    "    C1 = (P_0 - P_PI) / 2\n",
    "    C2 = (P_0 + P_PI - 2 * P_HALF_PI) / 4\n",
    "\n",
    "    P = C0 + C1 * cos(radians(phi)) + C2 * cos(radians(2 * phi))\n",
    "\n",
    "    return P\n",
    "\n",
    "def ncepGFSmodel2swath(lats, lons, data, lats_2, lons_2):\n",
    "    func = RectSphereBivariateSpline(lats, lons, data)\n",
    "    data_2 = func.ev(\n",
    "        lats_2.ravel()*pi/180, lons_2.ravel()*pi/180\n",
    "    ).reshape(lats_2.shape)\n",
    "    return data_2\n",
    "\n",
    "def create_KML_asar(area_extent, savepath):\n",
    "    kml = simplekml.Kml()\n",
    "\n",
    "    pol = kml.newpolygon(name='area_extent', visibility=1)\n",
    "    pol.tessellate = 1\n",
    "\n",
    "    pol.altitudemode = 'clampToGround'\n",
    "    pol.outerboundaryis.coords = [(min(area_extent[0], area_extent[2]),\n",
    "                                   min(area_extent[1], area_extent[3])),\n",
    "                                  (max(area_extent[0], area_extent[2]),\n",
    "                                   max(area_extent[1], area_extent[3]))]\n",
    "    if type(savepath) == list:\n",
    "        for _savepath in savepath:\n",
    "            kml.save(_savepath)\n",
    "    else:\n",
    "        kml.save(savepath)\n",
    "\n",
    "def create_asar_tiles(png_filename, tiles_output_dir, proj):\n",
    "    local_argv = ['/usr/bin/gdal2tiles.py', '-p', 'raster', '-r', 'cubic',\n",
    "                  '-s', proj, png_filename, tiles_output_dir]\n",
    "    argv = gdal.GeneralCmdLineProcessor(local_argv)\n",
    "    if argv:\n",
    "        gdal2tiles = GDAL2Tiles(argv[1:])\n",
    "        gdal2tiles.process()"
   ]
  },
  {
   "cell_type": "code",
   "execution_count": 4,
   "metadata": {
    "collapsed": true
   },
   "outputs": [],
   "source": [
    "def processingS1(inpath, fn):\n",
    "    s1 = readS1(inpath=inpath, fn=fn)\n",
    "    # s1.__dict__['raw_counts']\n",
    "\n",
    "    # get vars from s1 class\n",
    "    # polarization\n",
    "    # raw_counts\n",
    "    # incidenceAngle_2\n",
    "    # sigmaNought_2\n",
    "    # noiseLut_2\n",
    "    # sigma0\n",
    "    # lons_2\n",
    "    # lats_2\n",
    "    # GEOgrid\n",
    "    # cLUTs\n",
    "    # nLUTs\n",
    "    # manifest\n",
    "    polarization = s1.polarization\n",
    "    incidenceAngle_2 = s1.incidenceAngle_2\n",
    "    sigma0 = s1.sigma0\n",
    "    lons_2 = s1.lons_2\n",
    "    lats_2 = s1.lats_2\n",
    "    GEOgrid = s1.GEOgrid\n",
    "    manifest = s1.manifest\n",
    "\n",
    "    del s1\n",
    "    gc.collect()\n",
    "\n",
    "    scale = 16\n",
    "\n",
    "    sigma0w = {}\n",
    "    roughness = {}\n",
    "\n",
    "    print \"Scale set to: \\'%s\\' \" % scale\n",
    "\n",
    "    for p in polarization:\n",
    "        print \"Filtering Image: \\'%s\\' polarization\" % p\n",
    "\n",
    "        # filter the image\n",
    "        sigma0w[p] = wiener(\n",
    "            sigma0[p][::scale, ::scale], mysize=(7, 7), noise=None\n",
    "        )\n",
    "        # sigma0w[p] = sigma0[p]\n",
    "\n",
    "    del sigma0\n",
    "    gc.collect()\n",
    "\n",
    "    # S1 Pixel resolution\n",
    "    # we use pxlResSAR for further GSHHS rasterizing and\n",
    "    # reprojecting data with pyresample\n",
    "\n",
    "    lonlim = (lons_2[::scale, ::scale].min(), lons_2[::scale, ::scale].max())\n",
    "    latlim = (lats_2[::scale, ::scale].min(), lats_2[::scale, ::scale].max())\n",
    "\n",
    "    # enlarge lonlims for cropping a bit larger area for masking\n",
    "    lonlimGSHHS = (lonlim[0]-1.0, lonlim[1]+1.0)\n",
    "    latlimGSHHS = (latlim[0]-1.0, latlim[1]+1.0)\n",
    "\n",
    "    # Get first guess pixel resolution\n",
    "    pxlResSARm = asarray(\n",
    "        distancelib.getPixelResolution(\n",
    "            lats_2[::scale, ::scale], lons_2[::scale, ::scale],\n",
    "            lons_2[::scale, ::scale].shape, 'km'\n",
    "        )\n",
    "    )*1e3\n",
    "    pxlResSARdeg = asarray(\n",
    "        distancelib.getPixelResolution(\n",
    "            lats_2[::scale, ::scale], lons_2[::scale, ::scale],\n",
    "            lons_2[::scale, ::scale].shape, 'deg'\n",
    "        )\n",
    "    )\n",
    "\n",
    "    # Define areas with pyresample\n",
    "    swath_def = pr.geometry.SwathDefinition(\n",
    "        lons=lons_2[::scale, ::scale], lats=lats_2[::scale, ::scale]\n",
    "    )\n",
    "\n",
    "    area_def_4326 = swath_area_def(name='Temporal SWATH EPSG Projection 4326',\n",
    "                                   proj='eqc', lonlim=lonlimGSHHS,\n",
    "                                   latlim=latlimGSHHS, ellps=\"WGS84\",\n",
    "                                   res=pxlResSARm)\n",
    "\n",
    "    # Get the SAR pixel resolution from the area_def\n",
    "    # for further identical shapes\n",
    "    up = min(latlimGSHHS)\n",
    "    down = max(latlimGSHHS)\n",
    "    left = min(lonlimGSHHS)\n",
    "    right = max(lonlimGSHHS)\n",
    "    area_extent_deg = (left, down, right, up)\n",
    "\n",
    "    area_extent_deg_shape = area_def_4326.shape\n",
    "\n",
    "    pxlResSARdeg = asarray(\n",
    "        (abs(area_extent_deg[2] - area_extent_deg[0]) /\n",
    "            float(area_extent_deg_shape[1]),\n",
    "         abs(area_extent_deg[3] - area_extent_deg[1]) /\n",
    "            float(area_extent_deg_shape[0]))\n",
    "    )\n",
    "\n",
    "    pxlResSARm = asarray(\n",
    "        (area_def_4326.pixel_size_x, area_def_4326.pixel_size_y)\n",
    "    )\n",
    "    print \"S1 cell resolution, %s deg\" % str(pxlResSARdeg)\n",
    "    print \"S1 cell resolution, %s m\" % str(pxlResSARm)\n",
    "\n",
    "    # Apply Mask from GSHHS\n",
    "    reload(gshhs_rasterize)\n",
    "\n",
    "    # ESRI shapefile containing land polygons\n",
    "    shapefile = '/media/SOLabNFS/store/auxdata/coastline/GSHHS_shp/f/GSHHS_f_L1.shp'\n",
    "\n",
    "    # reproject GSHHS onto S1 grid before calculations\n",
    "    print \"Rasterizing Land Mask\"\n",
    "    mask_arr_4326 = gshhs_rasterize.gshhs_rasterize_4326(\n",
    "        lonlimGSHHS, latlimGSHHS, pxlResSARdeg, area_def_4326.shape,\n",
    "        True, shapefile\n",
    "    )\n",
    "\n",
    "    del pxlResSARdeg\n",
    "\n",
    "    mask_arr_swath = pr.kd_tree.resample_nearest(\n",
    "        area_def_4326, mask_arr_4326.ravel(), swath_def,\n",
    "        radius_of_influence=4*pxlResSARm.max(), epsilon=0.5, fill_value=None\n",
    "    )\n",
    "\n",
    "    print area_def_4326.shape, mask_arr_4326.shape\n",
    "    print mask_arr_swath.shape, sigma0w[p].shape, swath_def.shape\n",
    "\n",
    "    # Nice Image (Roughness)\n",
    "    sigma0wAvg = {}\n",
    "    roughnessNrmlzd = {}\n",
    "\n",
    "    if len(polarization[0]) >= 2:  # if 2 polarizations\n",
    "        for p in polarization:\n",
    "            print \"Nice Image: \\'%s\\' polarization\" % p\n",
    "            roughness[p] = ma.masked_where(mask_arr_swath, sigma0w[p])\n",
    "            sigma0wAvg[p] = ma.median(roughness[p], axis=0)\n",
    "            roughnessNrmlzd[p] = (roughness[p]-sigma0wAvg[p])/sigma0wAvg[p]\n",
    "    elif len(polarization[0]) == 1:  # if only 1 polarization\n",
    "        p = polarization\n",
    "        print \"Nice Image: \\'%s\\' polarization\" % p\n",
    "        roughness[p] = ma.masked_where(mask_arr_swath, sigma0w[p])\n",
    "        sigma0wAvg[p] = ma.median(roughness[p], axis=0)\n",
    "        roughnessNrmlzd[p] = (roughness[p]-sigma0wAvg[p])/sigma0wAvg[p]\n",
    "\n",
    "    del roughness, sigma0wAvg\n",
    "\n",
    "    # Adding Model wind\n",
    "\n",
    "    # import xmltodict\n",
    "\n",
    "    # zf = zipfile.ZipFile(inpath+fn, 'r')\n",
    "    # manifest = zf.read(fn[:-4] + '.SAFE/manifest.safe')\n",
    "    # manifest = xmltodict.parse(manifest) # Parse the read document string\n",
    "    # zf.close()\n",
    "\n",
    "    startTime = datetime.datetime.strptime(\n",
    "        manifest['xfdu:XFDU']['metadataSection']['metadataObject'][12]['metadataWrap']['xmlData']['safe:acquisitionPeriod']['safe:startTime'],\n",
    "        \"%Y-%m-%dT%H:%M:%S.%f\"\n",
    "    )\n",
    "\n",
    "    ncepGFSmodelWind = ncepGFSmodel(startTime, lats_2, lons_2)\n",
    "\n",
    "    # Reprojecting data\n",
    "    # Pixel resolution\n",
    "    # we use pxlResWind/pxlResSAR for further pyresample\n",
    "    # radius_of_influence and sigmas\n",
    "    pxlResWind = asarray(\n",
    "        distancelib.getPixelResolution(\n",
    "            ncepGFSmodelWind['lats_wind'],\n",
    "            ncepGFSmodelWind['lons_wind'],\n",
    "            ncepGFSmodelWind['lons_wind'].shape, 'km'\n",
    "        )\n",
    "    )\n",
    "\n",
    "    # Note pxlResWind is in KM, multiply by 1e3 for meters\n",
    "    print \"S1 cell resolution, %s m\" % pxlResSARm\n",
    "    print \"Wind cell resolution, %s km\" % pxlResWind\n",
    "\n",
    "    # reproject NCEP onto S1 grid before calculations\n",
    "    # Using RectSphereBivariateSpline - Bivariate spline\n",
    "    # approximation over a rectangular mesh on a sphere\n",
    "    # as it is much more efficiant for full resolution\n",
    "    # as well as smoothes nicely the image\n",
    "\n",
    "    # We don't want to work with full res wind so scaling\n",
    "    # the image for about 100m resolution\n",
    "    # Adjust scale to get appropriate value\n",
    "\n",
    "    lts = flipud(ncepGFSmodelWind['lats_wind'])[:, 0]*pi/180\n",
    "    lns = ncepGFSmodelWind['lons_wind'][0, :]*pi/180\n",
    "\n",
    "    lts_2 = lats_2[::scale, ::scale]\n",
    "    lns_2 = lons_2[::scale, ::scale]\n",
    "\n",
    "    ncepGFSmodelWindSwath = {}\n",
    "    ncepGFSmodelWindSwath['wind_speed'] = ncepGFSmodel2swath(\n",
    "        lts, lns, flipud(ncepGFSmodelWind['wind_speed']), lts_2, lns_2\n",
    "    )\n",
    "    ncepGFSmodelWindSwath['wind_dir'] = ncepGFSmodel2swath(\n",
    "        lts, lns, flipud(ncepGFSmodelWind['wind_dir']),   lts_2, lns_2\n",
    "    )\n",
    "    ncepGFSmodelWindSwath['u'] = ncepGFSmodel2swath(\n",
    "        lts, lns, flipud(ncepGFSmodelWind['u']), lts_2, lns_2\n",
    "    )\n",
    "    ncepGFSmodelWindSwath['v'] = ncepGFSmodel2swath(\n",
    "        lts, lns, flipud(ncepGFSmodelWind['v']), lts_2, lns_2\n",
    "    )\n",
    "\n",
    "    pxlResWindSwath = asarray(\n",
    "        distancelib.getPixelResolution(lts_2, lns_2, lns_2.shape, 'km')\n",
    "    )\n",
    "\n",
    "    print \"Interpolated Wind cell resolution, %s km\" % pxlResWindSwath\n",
    "\n",
    "    # calculate bearing from initial lats/lons for further wind calculation\n",
    "    # Taking initial values as bearing is more accurate after\n",
    "    # interpolation than vice versa\n",
    "    bearing = zeros((GEOgrid['lons'].shape[0]-1, GEOgrid['lons'].shape[1]))\n",
    "\n",
    "    for n in range(0, GEOgrid['lons'].shape[1]):\n",
    "        col = ([GEOgrid['lats'][:-1, n], GEOgrid['lons'][:-1, n]],\n",
    "               [GEOgrid['lats'][1:, n], GEOgrid['lons'][1:, n]])\n",
    "        for m in range(0, GEOgrid['lons'].shape[0]-1):\n",
    "            bearing[m][n] = distancelib.bearing(\n",
    "                asarray(col[0])[:, m], asarray(col[1])[:, m]\n",
    "            )\n",
    "\n",
    "    # interpolate to raw_counts.shape\n",
    "    bearing_2 = imresize(bearing, ncepGFSmodelWindSwath['wind_dir'].shape)\n",
    "\n",
    "    # NB! WINDDIR = 0 WHEN WIND BLOWS TOWARDS RADAR!\n",
    "    p = polarization[0]\n",
    "\n",
    "    wind_dir_model_swath_rel = 90 + bearing_2 -\\\n",
    "        ncepGFSmodelWindSwath['wind_dir']\n",
    "\n",
    "    del bearing, bearing_2\n",
    "\n",
    "    if p == 'hh':\n",
    "        PR = PR_Mouche(\n",
    "            incidenceAngle_2[p][::scale, ::scale], wind_dir_model_swath_rel\n",
    "        )\n",
    "        try:\n",
    "            from cmod_gpu import rcs2windOpenCl\n",
    "            wind_speed_asar = rcs2windOpenCl(\n",
    "                sar=sigma0w[p]*PR, windir=wind_dir_model_swath_rel,\n",
    "                theta=incidenceAngle_2[p][::scale, ::scale]\n",
    "            )\n",
    "        except Exception:\n",
    "            from cmod_vect import rcs2windPar\n",
    "            wind_speed_asar = rcs2windPar(\n",
    "                sigma0w[p]*PR, cmdv=5, windir=wind_dir_model_swath_rel,\n",
    "                theta=incidenceAngle_2[p][::scale, ::scale], nprocs=numProcs\n",
    "            )\n",
    "        del PR\n",
    "    elif p == 'vv':\n",
    "        try:\n",
    "            from cmod_gpu import rcs2windOpenCl\n",
    "            wind_speed_asar = rcs2windOpenCl(\n",
    "                sar=sigma0w[p], windir=wind_dir_model_swath_rel,\n",
    "                theta=incidenceAngle_2[p][::scale, ::scale]\n",
    "            )\n",
    "        except Exception:\n",
    "            from cmod_vect import rcs2windPar\n",
    "            wind_speed_asar = rcs2windPar(\n",
    "                sigma0w[p], cmdv=5, windir=wind_dir_model_swath_rel,\n",
    "                theta=incidenceAngle_2[p][::scale, ::scale], nprocs=numProcs\n",
    "            )\n",
    "\n",
    "    del sigma0w\n",
    "    gc.collect()\n",
    "\n",
    "    # Add mask to initial NCEP data\n",
    "    area_def_ncep = pr.geometry.SwathDefinition(\n",
    "        lons=ncepGFSmodelWind['lons_wind'], lats=ncepGFSmodelWind['lats_wind']\n",
    "    )\n",
    "    mask_arr_ncep = pr.kd_tree.resample_nearest(\n",
    "        area_def_4326, mask_arr_4326.ravel(), area_def_ncep,\n",
    "        radius_of_influence=4*pxlResWind.max(), epsilon=0.5, fill_value=None\n",
    "    )\n",
    "\n",
    "    del area_def_4326, mask_arr_4326, pxlResWind, area_def_ncep\n",
    "\n",
    "    ncepGFSmodelWind['wind_speed'] = ma.masked_where(\n",
    "        mask_arr_ncep, ncepGFSmodelWind['wind_speed']\n",
    "    )\n",
    "\n",
    "    # Add mask to ASAR wind and reprojected NCEP\n",
    "    wind_speed_asar = ma.masked_where(mask_arr_swath, wind_speed_asar)\n",
    "    ncepGFSmodelWindSwath['wind_speed'] = ma.masked_where(\n",
    "        mask_arr_swath, ncepGFSmodelWindSwath['wind_speed']\n",
    "    )\n",
    "\n",
    "    del mask_arr_swath, ncepGFSmodelWind, mask_arr_ncep, ncepGFSmodelWindSwath\n",
    "    gc.collect()\n",
    "\n",
    "    # return_values = ['lats_2', 'lons_2', 'roughnessNrmlzd', 'wind_speed_asar',\n",
    "                     # 'pxlResSARm', 'polarization', 'swath_def']\n",
    "\n",
    "    return_values = {}\n",
    "    return_values['lats'] = lats_2\n",
    "    return_values['lons'] = lons_2\n",
    "    return_values['roughnessNrmlzd'] = roughnessNrmlzd\n",
    "    return_values['wind_speed_asar'] = wind_speed_asar\n",
    "    return_values['pxlResSARm'] = pxlResSARm\n",
    "    return_values['polarization'] = polarization\n",
    "    return_values['swath_def'] = swath_def\n",
    "    return return_values"
   ]
  },
  {
   "cell_type": "code",
   "execution_count": 29,
   "metadata": {
    "collapsed": false
   },
   "outputs": [
    {
     "name": "stdout",
     "output_type": "stream",
     "text": [
      "Start granule:  S1A_EW_GRDM_1SDH_20150705T125926_20150705T130026_006676_008EBB_1E8B.zip\n",
      "Available polarizations: '[u'hh', u'hv']'\n",
      "Reading raw_counts: 'hh' polarization\n",
      "Reading raw_counts: 'hv' polarization\n",
      "Interpolating LUTs: 'hh' polarization\n",
      "Interpolating LUTs: 'hv' polarization\n",
      "Scale set to: '16' \n",
      "Filtering Image: 'hh' polarization\n",
      "Filtering Image: 'hv' polarization\n",
      "up, down, left, right:  79.0 72.0 47.0 68.0\n",
      "S1 cell resolution, [ 0.00581998  0.01139802] deg\n",
      "S1 cell resolution, [  647.87670111  1268.82145465] m\n",
      "Rasterizing Land Mask\n",
      "(581, 3604) (581, 3604)\n",
      "(625, 328) (625, 328) (625, 328)\n",
      "Nice Image: 'hh' polarization\n",
      "Nice Image: 'hv' polarization\n",
      "S1 cell resolution, [  647.87670111  1268.82145465] m\n",
      "Wind cell resolution, [ 26.42139054   5.66875202] km\n",
      "Interpolated Wind cell resolution, [ 0.64776057  1.26833378] km\n",
      "Execution time of CMOD5 with PyOpenCl: 0.0680051 s\n",
      "Mean wind speed: -0.0390625 m/s\n",
      "preprocessing done\n"
     ]
    },
    {
     "name": "stderr",
     "output_type": "stream",
     "text": [
      "/usr/local/lib/python2.7/dist-packages/PIL/Image.py:2221: DecompressionBombWarning: Image size (104734665 pixels) exceeds limit of 89478485 pixels, could be decompression bomb DOS attack.\n",
      "  DecompressionBombWarning)\n"
     ]
    }
   ],
   "source": [
    "inpath = '/media/SOLabNFS2/tmp/different_SAR/sentinel-1/Ania_Ladoga_29_May_2015/'\n",
    "inpath = '/media/SOLabNFS2/store/satellite/sentinel-1/'\n",
    "fileNameList = ['S1A_IW_GRDH_1SDV_20150603T154002_20150603T154027_006211_0081A9_5F10.zip',\n",
    "                'S1A_IW_GRDH_1SDV_20150529T041657_20150529T041722_006131_007F51_F751.zip',\n",
    "                'S1A_EW_GRDM_1SDH_20150517T153117_20150517T153221_005963_007AED_56B0.zip']\n",
    "\n",
    "fn = fileNameList[0]\n",
    "fn = 'S1A_EW_GRDM_1SDH_20150705T125926_20150705T130026_006676_008EBB_1E8B.zip'\n",
    "\n",
    "prog = re.compile(r'(\\d{8})')\n",
    "file_date = prog.findall(fn)[0]\n",
    "\n",
    "year = file_date[:4]\n",
    "month = file_date[4:6]\n",
    "day = file_date[6:]\n",
    "# day = '04'\n",
    "\n",
    "print 'Start granule: ', fn\n",
    "\n",
    "return_values = processingS1(inpath, fn)\n",
    "\n",
    "print 'preprocessing done'\n",
    "# for key in return_values:\n",
    "#     locals()[key] = return_values[key]\n",
    "\n",
    "lats = return_values['lats']\n",
    "lons = return_values['lons']\n",
    "roughnessNrmlzd = return_values['roughnessNrmlzd']\n",
    "wind_speed_asar = return_values['wind_speed_asar']\n",
    "pxlResSARm = return_values['pxlResSARm']\n",
    "polarization = return_values['polarization']\n",
    "swath_def = return_values['swath_def']"
   ]
  },
  {
   "cell_type": "code",
   "execution_count": 7,
   "metadata": {
    "collapsed": true
   },
   "outputs": [],
   "source": [
    "import numpy as np\n",
    "import numpy.ma as ma\n",
    "import math\n",
    "from netCDF4 import Dataset as ncDataset"
   ]
  },
  {
   "cell_type": "code",
   "execution_count": 8,
   "metadata": {
    "collapsed": true
   },
   "outputs": [],
   "source": [
    "def array_size_normalize(input_array):\n",
    "    avail_resolution_list = [int(256*math.pow(2, i)) for i in range(15)]\n",
    "    # print avail_resolution_list\n",
    "    shape = input_array.shape\n",
    "    # print 'shape: ', shape\n",
    "    current_pixels = max(shape)\n",
    "    # print 'current pixels: ', current_pixels\n",
    "    necessary_pixels = min(filter(lambda x: current_pixels < x,\n",
    "                                  avail_resolution_list))\n",
    "    # print 'necessary_pixels: ', necessary_pixels\n",
    "\n",
    "    source_array = input_array[:]\n",
    "\n",
    "    # src =\n",
    "    #\n",
    "    # xxx\n",
    "    # xxx\n",
    "    #\n",
    "    # top_array =\n",
    "    #\n",
    "    # xxx\n",
    "    # xxx\n",
    "    #\n",
    "    # res =\n",
    "    #\n",
    "    # xxx\n",
    "    # xxx\n",
    "    # xxx\n",
    "    # xxx\n",
    "    #\n",
    "    # right_array =\n",
    "    #\n",
    "    # x\n",
    "    # x\n",
    "    # x\n",
    "    # x\n",
    "    #\n",
    "    # res 4x4 =\n",
    "    #\n",
    "    # xxxx\n",
    "    # xxxx\n",
    "    # xxxx\n",
    "    # xxxx\n",
    "\n",
    "    top_array = np.ma.masked_all((necessary_pixels-shape[0], shape[1]))\n",
    "\n",
    "    right_array = np.ma.masked_all((necessary_pixels, necessary_pixels-shape[1]))\n",
    "\n",
    "    source_array = ma.concatenate((top_array, source_array), axis=0)\n",
    "    # print source_array.shape\n",
    "    source_array = ma.concatenate((source_array, right_array), axis=1)\n",
    "    # print source_array.shape\n",
    "\n",
    "    del top_array, right_array\n",
    "    return source_array\n",
    "\n",
    "def create_base_tiles(input_array):\n",
    "    number_tiles = input_array.shape[0]/256\n",
    "\n",
    "    lines = []\n",
    "    all_list = []\n",
    "\n",
    "    for i in range(number_tiles):\n",
    "        for j in range(number_tiles):\n",
    "            # print '[%d:%d' % (j*256, (j+1)*256), ',%d:%d]'%(i*256, (i+1)*256)\n",
    "            lines.append(input_array[j*256:(j+1)*256, i*256:(i+1)*256])\n",
    "\n",
    "        all_list.append(lines)\n",
    "        lines = []\n",
    "    return all_list\n",
    "\n",
    "def decrease_zoom(source_array):\n",
    "    rows, cols = source_array.shape\n",
    "    rows_2 = rows/2\n",
    "    cols_2 = cols/2\n",
    "    sh = rows_2, rows//rows_2, cols_2, cols//cols_2\n",
    "    return source_array.reshape(sh).mean(-1).mean(1)"
   ]
  },
  {
   "cell_type": "code",
   "execution_count": 9,
   "metadata": {
    "collapsed": false
   },
   "outputs": [],
   "source": [
    "from numpy import ma\n",
    "\n",
    "def write_tile_to_nc(nc_variable, tiles_array, variable, zoom, _min=0, _max=4,\n",
    "                     polarization=None):\n",
    "    # print len(tiles_array)\n",
    "    for row_number in range(len(tiles_array)):\n",
    "        tile_row = tiles_array[row_number]\n",
    "        for col_number in range(len(tile_row)):\n",
    "            m = tile_row[col_number]\n",
    "\n",
    "            m = ma.where(m <= _min, _min + 0.0001, m)\n",
    "            m = ma.where(m >= _max, _max, m)\n",
    "\n",
    "            # 0-254 , 255 for mask\n",
    "            m = (m-_min)/float(_max-_min) * (2**8-2)\n",
    "\n",
    "            m = np.where(m.mask, (2**8-1), m)\n",
    "            m = np.uint8(m)\n",
    "            # m = np.ma.masked_where(m == 255, m)\n",
    "            if polarization is None:\n",
    "                nc_variable[variable, zoom, row_number, col_number, :] = m[:]\n",
    "            else:\n",
    "                nc_variable[variable, polarization, zoom,\n",
    "                            row_number, col_number, :] = m[:]\n",
    "\n",
    "\n",
    "def create_dataset(output_path, max_zoom, variables_list,\n",
    "                   polarizations=None):\n",
    "    if os.path.isfile(output_path):\n",
    "        return ncDataset(output_path, 'a', format='NETCDF4')\n",
    "\n",
    "    max_x_tiles = 2**max_zoom\n",
    "\n",
    "    dataset = ncDataset(output_path, 'w', format='NETCDF4')\n",
    "    dataset.createDimension('vars', len(variables_list))\n",
    "    if polarizations is not None:\n",
    "        dataset.createDimension('polarizations', 4)\n",
    "    dataset.createDimension('zoom', max_zoom+1)\n",
    "    dataset.createDimension('x', max_x_tiles)\n",
    "    dataset.createDimension('y', max_x_tiles)\n",
    "    dataset.createDimension('shape0', 256)\n",
    "    dataset.createDimension('shape1', 256)\n",
    "\n",
    "    if polarizations is not None:\n",
    "        dims = ('vars', 'polarizations', 'zoom', 'x', 'y', 'shape0', 'shape1')\n",
    "    else:\n",
    "        dims = ('vars', 'zoom', 'x', 'y', 'shape0', 'shape1')\n",
    "\n",
    "    vars_var = dataset.createVariable('Variables', 'string', ('vars',),\n",
    "                                      zlib=True, complevel=6)\n",
    "    vars_var[:] = np.array(variables_list, dtype='string')[:]\n",
    "\n",
    "    if polarizations is not None:\n",
    "        polar_var = dataset.createVariable('Polarizations', 'string',\n",
    "                                           ('polarizations',),\n",
    "                                           zlib=True, complevel=6)\n",
    "        polar_var[:] = np.array(polarizations, dtype='string')[:]\n",
    "\n",
    "    # u1 = NC_UBYTE 0-255\n",
    "    dataset.createVariable('Data', 'u1', dims, zlib=True, complevel=6)\n",
    "    return dataset"
   ]
  },
  {
   "cell_type": "code",
   "execution_count": 10,
   "metadata": {
    "collapsed": false
   },
   "outputs": [],
   "source": [
    "def create_nc_tiles(reprojected_array, variable, out_path, polarization=None):\n",
    "    var_list = ['roughness', 'wind_speed']\n",
    "    minmax = {'roughness': [-1, 1],\n",
    "              'wind_speed': [0, 20]}\n",
    "\n",
    "    polarization_list = ['hh', 'vv', 'hv', 'vh']\n",
    "\n",
    "    if variable in var_list:\n",
    "        variable_num = var_list.index(variable)\n",
    "    else:\n",
    "        print 'Variable not found in var_list'\n",
    "        return False\n",
    "\n",
    "    if polarization is not None:\n",
    "        polarization_num = polarization_list.index(polarization)\n",
    "    else:\n",
    "        print 'Polarization not found in polarization_list'\n",
    "        return False\n",
    "\n",
    "    minmax_value = minmax[variable]\n",
    "    # outDimVar[link_num, :] = varin[:]\n",
    "\n",
    "    source_array = array_size_normalize(reprojected_array)\n",
    "\n",
    "    number_tiles = source_array.shape[0]/256\n",
    "    zoom_level = int(math.log(number_tiles, 2))\n",
    "    print 'zoom_level: ', zoom_level\n",
    "\n",
    "    dataset = create_dataset(out_path, zoom_level, var_list, polarization_list)\n",
    "    datasetVar = dataset.variables['Data']\n",
    "\n",
    "    for zoom in range(zoom_level, -1, -1):\n",
    "        print 'Start zoom level %d' % zoom\n",
    "        # print source_array.shape\n",
    "\n",
    "        tiles_array = create_base_tiles(source_array)\n",
    "\n",
    "        write_tile_to_nc(datasetVar, tiles_array, variable_num, zoom,\n",
    "                         _min=minmax_value[0], _max=minmax_value[1],\n",
    "                         polarization=polarization_num)\n",
    "        del tiles_array\n",
    "\n",
    "        if zoom:\n",
    "            source_array = decrease_zoom(source_array)\n",
    "        print\n",
    "        gc.collect()\n",
    "\n",
    "    dataset.close()"
   ]
  },
  {
   "cell_type": "code",
   "execution_count": 30,
   "metadata": {
    "collapsed": false,
    "scrolled": true
   },
   "outputs": [
    {
     "name": "stdout",
     "output_type": "stream",
     "text": [
      "up, down, left, right:  78.0 73.0 48.0 67.0\n",
      "11111111111\n",
      "Start polar:  hh\n",
      "zoom_level:  2\n",
      "Start zoom level 2\n",
      "\n",
      "Start zoom level 1\n",
      "\n",
      "Start zoom level 0\n",
      "\n",
      "Start polar:  hv\n",
      "zoom_level:  2\n",
      "Start zoom level 2\n",
      "\n",
      "Start zoom level 1\n",
      "\n",
      "Start zoom level 0\n",
      "\n",
      "Start wind speed, polar:  hv\n",
      "zoom_level:  2\n",
      "Start zoom level 2\n",
      "\n",
      "Start zoom level 1\n",
      "\n",
      "Start zoom level 0\n",
      "\n"
     ]
    },
    {
     "name": "stderr",
     "output_type": "stream",
     "text": [
      "/usr/local/lib/python2.7/dist-packages/IPython/kernel/__main__.py:11: RuntimeWarning: invalid value encountered in less_equal\n",
      "/usr/local/lib/python2.7/dist-packages/IPython/kernel/__main__.py:12: RuntimeWarning: invalid value encountered in greater_equal\n",
      "/usr/local/lib/python2.7/dist-packages/numpy/ma/core.py:790: RuntimeWarning: invalid value encountered in greater_equal\n",
      "  return umath.absolute(a) * self.tolerance >= umath.absolute(b)\n"
     ]
    }
   ],
   "source": [
    "out_dir = '/media/SOLabNFS2/store/satellite/Solab-Sentinel-1'\n",
    "# nc_path = os.path.join(out_dir, year, month, day, fn+'.nc')\n",
    "nc_path = os.path.join('/tmp', fn+'.nc')\n",
    "\n",
    "area_def = swath_area_def(\n",
    "    name='Temporal SWATH EPSG Projection 3413', proj='stere',\n",
    "    lonlim=(lons.min(), lons.max()), latlim=(lats.min(), lats.max()),\n",
    "    ellps=\"WGS84\", res=pxlResSARm, lat_ts=70, lat_0=90, lon_0=-45\n",
    ")\n",
    "pxlResSARm_max = pxlResSARm.max()\n",
    "\n",
    "# roughness\n",
    "for p in polarization:\n",
    "    print \"Start polar: \", p\n",
    "    roughness_res = pr.kd_tree.resample_nearest(\n",
    "        swath_def, roughnessNrmlzd[p].ravel(), area_def,\n",
    "        radius_of_influence=pxlResSARm_max,\n",
    "        epsilon=0.5, nprocs=numProcs, fill_value=None\n",
    "    )\n",
    "    create_nc_tiles(roughness_res, 'roughness', nc_path, p)\n",
    "\n",
    "# wind speed\n",
    "p_ws = polarization[0]\n",
    "\n",
    "print \"Start wind speed, polar: \", p\n",
    "wind_speed_res = pr.kd_tree.resample_nearest(\n",
    "    swath_def, wind_speed_asar.ravel(), area_def,\n",
    "    radius_of_influence=pxlResSARm_max,\n",
    "    epsilon=0.5, nprocs=numProcs, fill_value=None\n",
    ")\n",
    "    \n",
    "create_nc_tiles(wind_speed_res, 'wind_speed', nc_path, p_ws)"
   ]
  },
  {
   "cell_type": "code",
   "execution_count": 52,
   "metadata": {
    "collapsed": false
   },
   "outputs": [
    {
     "data": {
      "text/plain": [
       "True"
      ]
     },
     "execution_count": 52,
     "metadata": {},
     "output_type": "execute_result"
    }
   ],
   "source": [
    "# roughnessNrmlzd['vv'].shape\n",
    "# roughness_res_test = pr.kd_tree.resample_nearest(\n",
    "#     swath_def, roughnessNrmlzd[p], area_def,\n",
    "#     radius_of_influence=pxlResSARm_max,\n",
    "#     epsilon=0.5, nprocs=numProcs, fill_value=None\n",
    "# )\n",
    "# (roughness_res_test == roughness_res).all()"
   ]
  },
  {
   "cell_type": "code",
   "execution_count": 45,
   "metadata": {
    "collapsed": false
   },
   "outputs": [],
   "source": [
    "from netCDF4 import Dataset as ncDataset\n",
    "nc_path = '/media/SOLabNFS2/store/satellite/Solab-Sentinel-1/2015/07/05/S1A_IW_GRDH_1SDV_20150705T001320_20150705T001345_006668_008E85_371D.nc'\n",
    "dataset = ncDataset(nc_path)\n",
    "# data = dataset.variables['Data']"
   ]
  },
  {
   "cell_type": "code",
   "execution_count": 46,
   "metadata": {
    "collapsed": false
   },
   "outputs": [
    {
     "data": {
      "image/png": "[encoded data removed]",
      "text/plain": [
       "<matplotlib.figure.Figure at 0x7f78eb5c7310>"
      ]
     },
     "metadata": {},
     "output_type": "display_data"
    }
   ],
   "source": [
    "r = dataset.variables['Data'][0,3,0,0,0,:]\n",
    "# r = dataset.variables['Data'][0,1,1,0,1,:]\n",
    "r = np.ma.masked_where(r == 255, r)\n",
    "gray()\n",
    "imshow(r, vmin=0, vmax=255)\n",
    "colorbar()\n",
    "show()"
   ]
  },
  {
   "cell_type": "code",
   "execution_count": 36,
   "metadata": {
    "collapsed": false
   },
   "outputs": [
    {
     "data": {
      "text/plain": [
       "<matplotlib.image.AxesImage at 0x7f78ea944490>"
      ]
     },
     "execution_count": 36,
     "metadata": {},
     "output_type": "execute_result"
    },
    {
     "data": {
      "image/png": "[encoded data removed]",
      "text/plain": [
       "<matplotlib.figure.Figure at 0x7f78eab69f10>"
      ]
     },
     "metadata": {},
     "output_type": "display_data"
    }
   ],
   "source": [
    "# r = dataset.variables['Data'][0,0,0,0,0,:]\n",
    "# r = np.ma.masked_where(r == 255, r)\n",
    "# print r.max()\n",
    "imshow(roughnessNrmlzd['hh'])"
   ]
  },
  {
   "cell_type": "code",
   "execution_count": 39,
   "metadata": {
    "collapsed": false
   },
   "outputs": [
    {
     "data": {
      "image/png": "[encoded data removed]",
      "text/plain": [
       "<matplotlib.figure.Figure at 0x7f8c49ac0f50>"
      ]
     },
     "metadata": {},
     "output_type": "display_data"
    }
   ],
   "source": [
    "r = dataset.variables['Data'][0,3,2,0,2,:]\n",
    "r = np.ma.masked_where(r >= 255, r)\n",
    "gray()\n",
    "imshow(r, vmin=0, vmax=255)\n",
    "colorbar()\n",
    "show()"
   ]
  },
  {
   "cell_type": "code",
   "execution_count": 40,
   "metadata": {
    "collapsed": false
   },
   "outputs": [
    {
     "data": {
      "image/png": "[encoded data removed]",
      "text/plain": [
       "<matplotlib.figure.Figure at 0x7f8c1406e2d0>"
      ]
     },
     "metadata": {},
     "output_type": "display_data"
    }
   ],
   "source": [
    "r = dataset.variables['Data'][1,1,1,0,1,:]\n",
    "r = np.ma.masked_where(r >= 255, r)\n",
    "jet()\n",
    "imshow(r, vmin=0, vmax=255)\n",
    "colorbar()\n",
    "show()"
   ]
  },
  {
   "cell_type": "code",
   "execution_count": 44,
   "metadata": {
    "collapsed": false
   },
   "outputs": [],
   "source": [
    "dataset.close()"
   ]
  },
  {
   "cell_type": "code",
   "execution_count": 42,
   "metadata": {
    "collapsed": false
   },
   "outputs": [],
   "source": [
    "dataset = ncDataset(nc_path, 'a', format='NETCDF4')"
   ]
  },
  {
   "cell_type": "code",
   "execution_count": 1,
   "metadata": {
    "collapsed": false
   },
   "outputs": [
    {
     "ename": "NameError",
     "evalue": "name 'dataset' is not defined",
     "output_type": "error",
     "traceback": [
      "\u001b[1;31m---------------------------------------------------------------------------\u001b[0m",
      "\u001b[1;31mNameError\u001b[0m                                 Traceback (most recent call last)",
      "\u001b[1;32m<ipython-input-1-be4fc8274c74>\u001b[0m in \u001b[0;36m<module>\u001b[1;34m()\u001b[0m\n\u001b[1;32m----> 1\u001b[1;33m \u001b[0mdataset\u001b[0m\u001b[1;33m.\u001b[0m\u001b[0mncattrs\u001b[0m\u001b[1;33m(\u001b[0m\u001b[1;33m)\u001b[0m\u001b[1;33m\u001b[0m\u001b[0m\n\u001b[0m\u001b[0;32m      2\u001b[0m \u001b[0mdataset\u001b[0m\u001b[1;33m.\u001b[0m\u001b[0msetncattr\u001b[0m\u001b[1;33m(\u001b[0m\u001b[0mname\u001b[0m\u001b[1;33m,\u001b[0m \u001b[0mvalue\u001b[0m\u001b[1;33m)\u001b[0m\u001b[1;33m\u001b[0m\u001b[0m\n",
      "\u001b[1;31mNameError\u001b[0m: name 'dataset' is not defined"
     ]
    }
   ],
   "source": [
    "dataset.ncattrs()\n",
    "dataset.setncattr(name, value)"
   ]
  },
  {
   "cell_type": "code",
   "execution_count": 16,
   "metadata": {
    "collapsed": false
   },
   "outputs": [
    {
     "data": {
      "text/plain": [
       "(2976993.3749552905,\n",
       " -1037549.6490855404,\n",
       " 3267632.243666621,\n",
       " -696070.7004103852)"
      ]
     },
     "execution_count": 16,
     "metadata": {},
     "output_type": "execute_result"
    }
   ],
   "source": [
    "area_def.area_extent"
   ]
  },
  {
   "cell_type": "code",
   "execution_count": 21,
   "metadata": {
    "collapsed": false
   },
   "outputs": [
    {
     "name": "stdout",
     "output_type": "stream",
     "text": [
      "[2560, 1280, 640, 320, 160, 80]\n"
     ]
    }
   ],
   "source": [
    "max_zoom_level = 6\n",
    "res = [int(80 * math.pow(2, i)) for i in range(max_zoom_level)]\n",
    "res.reverse()\n",
    "print res"
   ]
  },
  {
   "cell_type": "code",
   "execution_count": null,
   "metadata": {
    "collapsed": false
   },
   "outputs": [],
   "source": [
    "array_mask = reprojected_array.mask\n",
    "maskcols = np.all(array_mask, axis=0)\n",
    "maskrows = np.all(array_mask, axis=1)\n",
    "\n",
    "firstcol = maskcols.argmin()\n",
    "firstrow = maskrows.argmin()\n",
    "\n",
    "lastcol = len(maskcols) - maskcols[::-1].argmin() # 8, last index where not NAN\n",
    "lastrow = len(maskrows) - maskrows[::-1].argmin()\n",
    "\n",
    "array_mask[firstrow:lastrow,firstcol:lastcol]"
   ]
  }
 ],
 "metadata": {
  "kernelspec": {
   "display_name": "Python 2",
   "language": "python",
   "name": "python2"
  },
  "language_info": {
   "codemirror_mode": {
    "name": "ipython",
    "version": 2
   },
   "file_extension": ".py",
   "mimetype": "text/x-python",
   "name": "python",
   "nbconvert_exporter": "python",
   "pygments_lexer": "ipython2",
   "version": "2.7.6"
  }
 },
 "nbformat": 4,
 "nbformat_minor": 0
}
