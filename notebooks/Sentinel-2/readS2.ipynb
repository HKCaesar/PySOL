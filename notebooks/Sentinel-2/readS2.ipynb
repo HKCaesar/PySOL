{
 "cells": [
  {
   "cell_type": "code",
   "execution_count": 1,
   "metadata": {
    "collapsed": true
   },
   "outputs": [],
   "source": [
    "import glymur\n",
    "from glob import glob\n",
    "import numpy as np\n",
    "from xml.etree.ElementTree import QName\n",
    "import xml.etree.ElementTree\n",
    "from scipy.ndimage.interpolation import zoom\n",
    "from time import time, sleep, gmtime\n",
    "from os import path\n",
    "import os\n",
    "import errno\n",
    "import dill\n",
    "from os import devnull\n",
    "import sys\n",
    "import warnings\n",
    "import argparse\n",
    "import multiprocessing\n",
    "import traceback\n",
    "import gdal\n",
    "from multiprocessing import Pool\n",
    "from multiprocessing.pool import ThreadPool\n",
    "import builtins\n",
    "from copy import deepcopy\n",
    "from psutil import virtual_memory\n",
    "from tempfile import TemporaryFile\n",
    "import resource\n",
    "import matplotlib\n",
    "from stopit import ThreadingTimeout as Timeout\n",
    "from stopit import TimeoutException\n",
    "matplotlib.use(\"agg\")\n",
    "import matplotlib.pyplot as plt\n",
    "from skimage.exposure import rescale_intensity, adjust_gamma\n",
    "from threading import Thread"
   ]
  },
  {
   "cell_type": "code",
   "execution_count": 2,
   "metadata": {
    "collapsed": false
   },
   "outputs": [],
   "source": [
    "# !./cB4S2.py -h"
   ]
  },
  {
   "cell_type": "code",
   "execution_count": 3,
   "metadata": {
    "collapsed": true
   },
   "outputs": [],
   "source": [
    "pn = '/media/SOLabNFS2/tmp/sentinel-2_test/S2A_OPER_PRD_MSIL1C_PDMC_20160108T151349_R135_V20160108T082023_20160108T082023.SAFE/'"
   ]
  },
  {
   "cell_type": "code",
   "execution_count": 4,
   "metadata": {
    "collapsed": false
   },
   "outputs": [],
   "source": [
    "import os\n",
    "granules = os.listdir(pn + 'GRANULE/')"
   ]
  },
  {
   "cell_type": "code",
   "execution_count": 5,
   "metadata": {
    "collapsed": false
   },
   "outputs": [],
   "source": [
    "fn = granules[0]"
   ]
  },
  {
   "cell_type": "code",
   "execution_count": 6,
   "metadata": {
    "collapsed": true
   },
   "outputs": [],
   "source": [
    "from cB4S2 import S2_MSI_Image"
   ]
  },
  {
   "cell_type": "code",
   "execution_count": 7,
   "metadata": {
    "collapsed": true
   },
   "outputs": [],
   "source": [
    "import numpy as np"
   ]
  },
  {
   "cell_type": "code",
   "execution_count": null,
   "metadata": {
    "collapsed": true
   },
   "outputs": [],
   "source": [
    "Sentinel-2 Bands\tWavelength (µm)\tResolution (m)\n",
    "Band 1  - Coastal aerosol\t\t0.443\t60\n",
    "\n",
    "Band 2  - Blue\t\t\t\t\t0.490\t10\n",
    "Band 3  - Green\t\t\t\t\t0.560\t10\n",
    "Band 4  - Red\t\t\t\t\t0.665\t10\n",
    "\n",
    "Band 5  - Vegetation Red Edge\t0.705\t20\n",
    "Band 6  - Vegetation Red Edge\t0.740\t20\n",
    "Band 7  - Vegetation Red Edge\t0.783\t20\n",
    "\n",
    "Band 8  - NIR\t\t\t\t\t0.842\t10\n",
    "\n",
    "Band 8A - Vegetation Red Edge\t0.865\t20\n",
    "\n",
    "Band 9  - Water vapour\t\t\t0.945\t60\n",
    "Band 10 - SWIR - Cirrus\t\t\t1.375\t60\n",
    "\n",
    "Band 11 - SWIR\t\t\t\t\t1.610\t20\n",
    "Band 12 - SWIR\t\t\t\t\t2.190\t20"
   ]
  },
  {
   "cell_type": "code",
   "execution_count": 17,
   "metadata": {
    "collapsed": false
   },
   "outputs": [],
   "source": [
    "S2_MSI_granule_path = pn + 'GRANULE/' + fn + '/'\n",
    "# namespace           = '/home/mag/Documents/repos/solab/PySOL/notebooks/Sentinel-2/S2_PDI_Level-1C_Tile_Metadata.xsd'\n",
    "namespace=\"https://psd-12.sentinel2.eo.esa.int/PSD/S2_PDI_Level-1C_Tile_Metadata.xsd\"\n",
    "# import_bands=['B01', 'B02', 'B03', 'B04', 'B05', 'B06', 'B07', 'B08', 'B8A', 'B09', 'B10', 'B11', 'B12']\n",
    "import_bands        = [\"B04\", \"B03\", \"B02\"]\n",
    "target_resolution=10.0\n",
    "numpy_type=np.float16\n",
    "interpolation_order=1\n",
    "data_mode=\"dense\"\n",
    "# driver=\"Jasper\"\n",
    "driver = \"OpenJpeg200\""
   ]
  },
  {
   "cell_type": "code",
   "execution_count": 18,
   "metadata": {
    "collapsed": false
   },
   "outputs": [
    {
     "name": "stdout",
     "output_type": "stream",
     "text": [
      "Load S2 MSI data from:/media/SOLabNFS2/tmp/sentinel-2_test/S2A_OPER_PRD_MSIL1C_PDMC_20160108T151349_R135_V20160108T082023_20160108T082023.SAFE/GRANULE/S2A_OPER_MSI_L1C_TL_SGS__20160108T115454_A002849_T35HMA_N02.01/\n",
      "Final shape for each channel: [10980, 10980]\n",
      "Reading: /media/SOLabNFS2/tmp/sentinel-2_test/S2A_OPER_PRD_MSIL1C_PDMC_20160108T151349_R135_V20160108T082023_20160108T082023.SAFE/GRANULE/S2A_OPER_MSI_L1C_TL_SGS__20160108T115454_A002849_T35HMA_N02.01/IMG_DATA/S2A_OPER_MSI_L1C_TL_SGS__20160108T115454_A002849_T35HMA_B04.jp2\n",
      "Read band B04 in 31.38s, pure load time:27.58s, resample time: 3.80s, zoom: 1.000, final shape: [10980, 10980], index: 0\n",
      "Reading: /media/SOLabNFS2/tmp/sentinel-2_test/S2A_OPER_PRD_MSIL1C_PDMC_20160108T151349_R135_V20160108T082023_20160108T082023.SAFE/GRANULE/S2A_OPER_MSI_L1C_TL_SGS__20160108T115454_A002849_T35HMA_N02.01/IMG_DATA/S2A_OPER_MSI_L1C_TL_SGS__20160108T115454_A002849_T35HMA_B03.jp2\n",
      "Read band B03 in 31.61s, pure load time:27.84s, resample time: 3.77s, zoom: 1.000, final shape: [10980, 10980], index: 1\n",
      "Reading: /media/SOLabNFS2/tmp/sentinel-2_test/S2A_OPER_PRD_MSIL1C_PDMC_20160108T151349_R135_V20160108T082023_20160108T082023.SAFE/GRANULE/S2A_OPER_MSI_L1C_TL_SGS__20160108T115454_A002849_T35HMA_N02.01/IMG_DATA/S2A_OPER_MSI_L1C_TL_SGS__20160108T115454_A002849_T35HMA_B02.jp2\n",
      "Read band B02 in 31.29s, pure load time:27.68s, resample time: 3.62s, zoom: 1.000, final shape: [10980, 10980], index: 2\n"
     ]
    }
   ],
   "source": [
    "S2_img = S2_MSI_Image(S2_MSI_granule_path = S2_MSI_granule_path,\n",
    "                      import_bands        = import_bands,\n",
    "                      data_mode           = \"dense\",\n",
    "                      target_resolution   = target_resolution,\n",
    "                      numpy_type          = numpy_type,\n",
    "                      interpolation_order = interpolation_order)"
   ]
  },
  {
   "cell_type": "code",
   "execution_count": null,
   "metadata": {
    "collapsed": true
   },
   "outputs": [],
   "source": []
  },
  {
   "cell_type": "code",
   "execution_count": 19,
   "metadata": {
    "collapsed": false
   },
   "outputs": [
    {
     "name": "stdout",
     "output_type": "stream",
     "text": [
      "Rescale band for RGB image: 0,B04,(0.02,0.06)->(0,1)\n",
      "Rescale band for RGB image: 1,B03,(0.04,0.07)->(0,1)\n",
      "Rescale band for RGB image: 2,B02,(0.08,0.11)->(0,1)\n"
     ]
    }
   ],
   "source": [
    "S2_rgb = S2_img.S2_image_to_rgb(rgb_bands=import_bands)"
   ]
  },
  {
   "cell_type": "code",
   "execution_count": 20,
   "metadata": {
    "collapsed": false
   },
   "outputs": [],
   "source": [
    "S2_img.save_rgb_image(S2_rgb, fn+'.png')"
   ]
  },
  {
   "cell_type": "code",
   "execution_count": null,
   "metadata": {
    "collapsed": true
   },
   "outputs": [],
   "source": []
  },
  {
   "cell_type": "code",
   "execution_count": null,
   "metadata": {
    "collapsed": false
   },
   "outputs": [],
   "source": [
    "scale = 7\n",
    "plt.imshow(S2_img.data[:,:,0][::scale,::scale], vmin=0, vmax=0.05)\n",
    "plt.colorbar()"
   ]
  },
  {
   "cell_type": "code",
   "execution_count": null,
   "metadata": {
    "collapsed": true
   },
   "outputs": [],
   "source": []
  },
  {
   "cell_type": "code",
   "execution_count": null,
   "metadata": {
    "collapsed": true
   },
   "outputs": [],
   "source": [
    "rgb_gamma=(1.0, 1.0, 1.0)\n",
    "pixel_dd_hist=20\n",
    "pixel_dd=1\n",
    "hist_chop_off=0.01\n",
    "band = \"B11\""
   ]
  },
  {
   "cell_type": "code",
   "execution_count": null,
   "metadata": {
    "collapsed": true
   },
   "outputs": [],
   "source": [
    "i_band = S2_img.band_list.index(band)\n",
    "hh, xx = np.histogram(S2_img.data[::pixel_dd_hist, ::pixel_dd_hist, i_band], bins=300)\n",
    "hh = np.double(hh)\n",
    "bb = 0.5 * (xx[1:] + xx[:-1])\n"
   ]
  },
  {
   "cell_type": "code",
   "execution_count": null,
   "metadata": {
    "collapsed": true
   },
   "outputs": [],
   "source": [
    "hh = hh / np.max(hh)\n",
    "lim = (lambda x: (np.min(x), np.max(x)))(bb[hh > hist_chop_off])"
   ]
  },
  {
   "cell_type": "code",
   "execution_count": null,
   "metadata": {
    "collapsed": false
   },
   "outputs": [],
   "source": [
    "lim"
   ]
  },
  {
   "cell_type": "code",
   "execution_count": null,
   "metadata": {
    "collapsed": false
   },
   "outputs": [],
   "source": [
    "scale = 7\n",
    "plt.imshow(S2_rgb[:,:,:][::scale,::scale])\n",
    "plt.colorbar()"
   ]
  },
  {
   "cell_type": "code",
   "execution_count": null,
   "metadata": {
    "collapsed": true
   },
   "outputs": [],
   "source": []
  },
  {
   "cell_type": "code",
   "execution_count": null,
   "metadata": {
    "collapsed": true
   },
   "outputs": [],
   "source": []
  },
  {
   "cell_type": "code",
   "execution_count": null,
   "metadata": {
    "collapsed": true
   },
   "outputs": [],
   "source": [
    "class L(object):\n",
    "    @staticmethod\n",
    "    def _band_name(fn):\n",
    "        return fn.split(\".jp2\")[0].split(\"_\")[-1]\n",
    "self = L()"
   ]
  },
  {
   "cell_type": "code",
   "execution_count": null,
   "metadata": {
    "collapsed": true
   },
   "outputs": [],
   "source": [
    "def __zeros__(shape, dtype, max_mem_frac=0.3):\n",
    "    def in_memory_array(shape, dtype):\n",
    "        return np.zeros(shape, dtype)"
   ]
  },
  {
   "cell_type": "code",
   "execution_count": null,
   "metadata": {
    "collapsed": false
   },
   "outputs": [],
   "source": [
    "glob(path.join(S2_MSI_granule_path, \"S2*.xml\"))"
   ]
  },
  {
   "cell_type": "code",
   "execution_count": null,
   "metadata": {
    "collapsed": false
   },
   "outputs": [],
   "source": [
    "self.driver = driver\n",
    "self.target_resolution = target_resolution\n",
    "self.full_band_list = ['B01', 'B02', 'B03', 'B04', 'B05', 'B06', 'B07', 'B08', 'B8A', 'B09', 'B10', 'B11',\n",
    "                       'B12', ]\n",
    "self.band_list = list(import_bands)\n",
    "\n",
    "print(\"Load S2 MSI data from:%s\" % S2_MSI_granule_path)\n",
    "\n",
    "# take XML file in folder above IMG_DATA\n",
    "xml_file_name = glob(path.join(S2_MSI_granule_path, \"S2*.xml\"))[0]\n",
    "\n",
    "bf = xml.etree.ElementTree.parse(xml_file_name).getroot()\n",
    "\n",
    "# extract geo coding info from XML file\n",
    "geo_codings = bf.find(str(QName(namespace, 'Geometric_Info'))).find(\"Tile_Geocoding\")\n",
    "\n",
    "self.metadata = {}\n",
    "self.metadata[\"HORIZONTAL_CS_NAME\"] = geo_codings.find(\"HORIZONTAL_CS_NAME\").text\n",
    "self.metadata[\"HORIZONTAL_CS_CODE\"] = geo_codings.find(\"HORIZONTAL_CS_CODE\").text\n",
    "\n",
    "# take XML file in folder above GRANULE Folder\n",
    "xml_file_name = glob(path.join(path.dirname(path.dirname(path.dirname(S2_MSI_granule_path))), \"S2*.xml\"))[0]\n",
    "bf = xml.etree.ElementTree.parse(xml_file_name).getroot()\n",
    "\n",
    "band_map = {'B1': 'B01', 'B2': 'B02', 'B3': 'B03', 'B4': 'B04', 'B5': 'B05', 'B6': 'B06', 'B7': 'B07',\n",
    "            'B8': 'B08',\n",
    "            'B9': 'B09', 'B10': 'B10', 'B11': 'B11', 'B12': 'B12', 'B8A': 'B8A'}\n",
    "\n",
    "band_list = [band_map[ele.text] for ele in bf.find(\".//Band_List\").findall(\"BAND_NAME\")]\n",
    "quantification_value = int(bf.find(\".//QUANTIFICATION_VALUE\").text)\n",
    "solar_irradiance = [ele.text for ele in bf.find(\".//Solar_Irradiance_List\").findall(\"SOLAR_IRRADIANCE\")]\n",
    "physical_gains = [float(ele.text) for ele in bf.findall(\".//PHYSICAL_GAINS\")]\n",
    "\n",
    "self.scaling_factor = quantification_value\n",
    "self.to_radiance = {band: gain for band, gain in zip(band_list, solar_irradiance)}\n",
    "\n",
    "# get spatial resolution and image sizes\n",
    "self.spatial_samplings = {}\n",
    "for size in geo_codings.findall(\"Size\"):\n",
    "    self.spatial_samplings[float(size.get(\"resolution\"))] = {\n",
    "        key: int(size.find(key).text) for key in [\"NROWS\", \"NCOLS\"]}\n",
    "\n",
    "# for each type of resolution, get geopositions\n",
    "for geo in geo_codings.findall(\"Geoposition\"):\n",
    "    self.spatial_samplings[float(geo.get(\"resolution\"))].update(\n",
    "        {key: int(geo.find(key).text) for key in [\"ULX\", \"ULY\", \"XDIM\", \"YDIM\"]})\n",
    "# build inverse dictionary [shape of image]:spatial sampling\n",
    "self.shape_to_resolution = {(values[\"NCOLS\"], values[\"NROWS\"]): spatial_sampling for spatial_sampling, values in\n",
    "                            self.spatial_samplings.items()}\n",
    "\n",
    "# get file names for each band\n",
    "self.band_fns = {self._band_name(fn): fn for fn in\n",
    "                 glob(path.join(S2_MSI_granule_path, \"IMG_DATA\", \"S2A_*.jp2\"))}\n",
    "\n",
    "self.final_shape = [self.spatial_samplings[target_resolution][ii] for ii in (\"NROWS\", \"NCOLS\")]\n",
    "print(\"Final shape for each channel: %s\" % str(self.final_shape))\n",
    "\n",
    "if data_mode == \"dense\":\n",
    "    self.data = __zeros__(shape=self.final_shape + [len(self.band_list)], dtype=numpy_type)\n",
    "elif data_mode == \"sparse\":\n",
    "    self.data = __zeros__(shape=list(self.final_shape) + [len(self.full_band_list)], dtype=numpy_type)\n",
    "else:\n",
    "    raise ValueError(\"data_mode=%s not implemented\" % data_mode)"
   ]
  },
  {
   "cell_type": "code",
   "execution_count": null,
   "metadata": {
    "collapsed": true
   },
   "outputs": [],
   "source": [
    "for iband, band in enumerate(self.band_list):\n",
    "    t0 = time()\n",
    "    jpfl = self.__read_img(self.band_fns[band])\n",
    "    img = np.array(jpfl[:, :], dtype=np.float32) / self.scaling_factor  # / self.to_reflectance[band]\n",
    "    t1 = time()\n",
    "    zoom_fac = self.shape_to_resolution[jpfl.shape] / target_resolution\n",
    "\n",
    "    if data_mode == \"dense\":\n",
    "        ii = iband\n",
    "    elif data_mode == \"sparse\":\n",
    "        ii = self.full_band_list.index(band)\n",
    "    else:\n",
    "        raise ValueError(\"data_mode=%s not implemented\" % data_mode)\n",
    "\n",
    "    self.data[:, :, ii] = zoom(input=img, zoom=zoom_fac, order=interpolation_order)"
   ]
  }
 ],
 "metadata": {
  "kernelspec": {
   "display_name": "Python 2",
   "language": "python",
   "name": "python2"
  },
  "language_info": {
   "codemirror_mode": {
    "name": "ipython",
    "version": 2
   },
   "file_extension": ".py",
   "mimetype": "text/x-python",
   "name": "python",
   "nbconvert_exporter": "python",
   "pygments_lexer": "ipython2",
   "version": "2.7.6"
  },
  "latex_envs": {
   "bibliofile": "biblio.bib",
   "cite_by": "apalike",
   "current_citInitial": 1,
   "eqLabelWithNumbers": true,
   "eqNumInitial": 0
  }
 },
 "nbformat": 4,
 "nbformat_minor": 0
}
