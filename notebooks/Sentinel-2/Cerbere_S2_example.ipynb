{
 "cells": [
  {
   "cell_type": "code",
   "execution_count": 1,
   "metadata": {
    "collapsed": true
   },
   "outputs": [],
   "source": [
    "%matplotlib inline\n",
    "import matplotlib.pyplot as plt"
   ]
  },
  {
   "cell_type": "code",
   "execution_count": 2,
   "metadata": {
    "collapsed": true
   },
   "outputs": [],
   "source": [
    "from numpy import int0, array, asarray, zeros, reshape, double, arange, \\\n",
    "                  ma, log10, diff, mean, flipud, floor, pi, sqrt, size, fliplr, meshgrid, exp, sin, cos, radians, ceil, round"
   ]
  },
  {
   "cell_type": "code",
   "execution_count": 32,
   "metadata": {
    "collapsed": false
   },
   "outputs": [],
   "source": [
    "!rm -rf /tmp/*\n",
    "!find /home/mag/Documents/repos/solab/PySOL/cerbere/ -name '*.pyc' -delete\n",
    "\n",
    "import os\n",
    "import sys\n",
    "sys.path.append('/home/mag/Documents/repos/solab/PySOL/cerbere/')\n",
    "\n",
    "import cerbere"
   ]
  },
  {
   "cell_type": "code",
   "execution_count": 88,
   "metadata": {
    "collapsed": false
   },
   "outputs": [],
   "source": [
    "pn = '/media/SOLabNFS2/tmp/sentinel-2_test/S2A_OPER_PRD_MSIL1C_PDMC_20160108T151349_R135_V20160108T082023_20160108T082023.SAFE/GRANULE/S2A_OPER_MSI_L1C_TL_SGS__20160108T115454_A002849_T35HKA_N02.01/IMG_DATA/S2A_OPER_MSI_L1C_TL_SGS__20160108T115454_A002849_T35HKA_B02.jp2'"
   ]
  },
  {
   "cell_type": "code",
   "execution_count": 90,
   "metadata": {
    "collapsed": false
   },
   "outputs": [],
   "source": [
    "fd = cerbere.mapper.safemsil1cgranulefile.SAFEMSIL1CGranuleFile(url=pn, native_resolution='10m')"
   ]
  },
  {
   "cell_type": "code",
   "execution_count": 93,
   "metadata": {
    "collapsed": false
   },
   "outputs": [
    {
     "data": {
      "text/plain": [
       "[]"
      ]
     },
     "execution_count": 93,
     "metadata": {},
     "output_type": "execute_result"
    }
   ],
   "source": [
    "fd."
   ]
  },
  {
   "cell_type": "code",
   "execution_count": null,
   "metadata": {
    "collapsed": true
   },
   "outputs": [],
   "source": [
    "pn = '/media/SOLabNFS2/tmp/sentinel-2_test/'\n",
    "fn = 'S2A_OPER_PRD_MSIL1C_PDMC_20160108T151349_R135_V20160108T082023_20160108T082023.zip'\n",
    "\n",
    "\n",
    "ext = os.path.splitext(fn)[1].lower()\n",
    "if ext == '.tiff':\n",
    "    fileName = [pn + fn]\n",
    "elif ext == '.zip':\n",
    "    from zipfile import ZipFile\n",
    "    import tempfile\n",
    "    import shutil\n",
    "    try:\n",
    "        tmpFldr = tempfile.mkdtemp()  # create tmpdir\n",
    "        with ZipFile(pn+fn, \"r\") as zf:\n",
    "            for name in zf.namelist():\n",
    "                localFilePath = zf.extract(name, tmpFldr)\n",
    "    #             print localFilePath\n",
    "        jpgs = [s for s in zf.namelist() if \".tiff\" in s]\n",
    "        zf.close()\n",
    "    except Exception:\n",
    "        Exception.message\n",
    "\n",
    "    # Construct filename to process\n",
    "    if len(tiffs) == 2:\n",
    "        fileName = [tmpFldr + '/' + tiffs[0], tmpFldr + '/' + tiffs[1]]\n",
    "    else:\n",
    "        fileName = tmpFldr + '/' + tiffs[0]"
   ]
  },
  {
   "cell_type": "code",
   "execution_count": null,
   "metadata": {
    "collapsed": false
   },
   "outputs": [],
   "source": [
    "sarmp = sarmapper(fileName)\n",
    "sarim = SARImage(sarmp)\n",
    "spacing_m = int0(800)\n",
    "spacing = int0(sarim.meters2pixels(spacing_m))\n",
    "# ssr = sarim.get_data('roughness', spacing=spacing)\n",
    "sigma0 = sarim.get_data('sigma0', spacing=spacing)"
   ]
  },
  {
   "cell_type": "code",
   "execution_count": null,
   "metadata": {
    "collapsed": false
   },
   "outputs": [],
   "source": [
    "lons = sarim.get_data('lon', spacing=spacing)\n",
    "\n",
    "lons.min(), lons.max()"
   ]
  },
  {
   "cell_type": "code",
   "execution_count": null,
   "metadata": {
    "collapsed": false
   },
   "outputs": [],
   "source": [
    "plt.close('all')\n",
    "plt.imshow(10*log10(fliplr(sigma0)), interpolation='nearest', vmin=-27, vmax=-3)\n",
    "plt.gray()"
   ]
  },
  {
   "cell_type": "code",
   "execution_count": null,
   "metadata": {
    "collapsed": true
   },
   "outputs": [],
   "source": []
  },
  {
   "cell_type": "code",
   "execution_count": null,
   "metadata": {
    "collapsed": true
   },
   "outputs": [],
   "source": [
    "# shutil.rmtree(tmpFldr)  # delete directory\n",
    "# !rm -rf /tmp/*\n",
    "# %ls /tmp"
   ]
  },
  {
   "cell_type": "markdown",
   "metadata": {},
   "source": [
    "### NonInteractive Plot"
   ]
  },
  {
   "cell_type": "code",
   "execution_count": null,
   "metadata": {
    "collapsed": false
   },
   "outputs": [],
   "source": [
    "from scipy.stats import scoreatpercentile\n",
    "import numpy as np\n",
    "\n",
    "import matplotlib.pyplot as plt\n",
    "import matplotlib.cm as cm\n",
    "\n",
    "# %matplotlib qt\n",
    "# %matplotlib inline\n",
    "# import mpld3\n",
    "# mpld3.enable_notebook()\n",
    "\n",
    "plt.close('all')\n",
    "vmin = None\n",
    "vmax = None\n",
    "\n",
    "spacing_ra = ceil(sarim.get_info('number_of_samples')/600.)\n",
    "spacing_ra_m = sarim.pixels2meters(spacing_ra)[1]\n",
    "spacing = int0(round(sarim.meters2pixels(spacing_ra_m)))\n",
    "spacing_m = sarim.pixels2meters(spacing)\n",
    "sigma0 = sarim.get_data('sigma0', spacing=spacing)\n",
    "sigma0 = 10*log10(sigma0)\n",
    "lon = sarim.get_data('lon', midrange=True, midazimuth=True)[0, 0]\n",
    "lat = sarim.get_data('lat', midrange=True, midazimuth=True)[0, 0]\n",
    "inc = sarim.get_data('incidence', midrange=True, midazimuth=True)[0, 0]\n",
    "heading = sarim.get_info('platform_heading')\n",
    "north = 90 + heading # north dir in image\n",
    "im_num = sarim.get_info('image_number')\n",
    "dist = (array(sigma0.shape)-1)*spacing_m/1000.\n",
    "if vmin is None:\n",
    "    vmin = scoreatpercentile(sigma0[25:-25, 25:-25], 0.1)\n",
    "if vmax is None:\n",
    "    vmax = scoreatpercentile(sigma0[25:-25, 25:-25], 99.9)\n",
    "if sarim.get_info('pass') == 'Descending':\n",
    "    sigma0 = sigma0[::-1, ::-1]\n",
    "    north = north+180\n",
    "\n",
    "# Make figure\n",
    "dpi = 100\n",
    "imsize = array(sigma0.shape[::-1])\n",
    "margin = array(((900-imsize[0])/2, 60))\n",
    "figsize = array((900, imsize[1]+2*margin[1]))\n",
    "imsizeN = imsize.astype('float')/figsize\n",
    "marginN = margin.astype('float')/figsize\n",
    "\n",
    "fig = plt.figure(figsize=figsize.astype('float')/dpi, dpi=dpi)\n",
    "imax = fig.add_axes([marginN[0], marginN[1], imsizeN[0], imsizeN[1]])\n",
    "imax.set_xlim(0, dist[1])\n",
    "imax.set_ylim(0, dist[0])\n",
    "plt.imshow(sigma0, origin='lower', interpolation='nearest', vmin=vmin,\n",
    "            vmax=vmax, cmap=cm.get_cmap('Greys_r'),\n",
    "            extent=[0, dist[1], 0, dist[0]], aspect='auto')\n",
    "imax.set_xlabel('range distance [km]')\n",
    "imax.set_ylabel('azimuth distance [km]')\n",
    "tit = '#%03i / lon=%.2f / lat=%.2f / inc=%.2f / pass=%s' % (im_num, lon, lat, inc, sarim.get_info('pass'))\n",
    "imax.set_title(tit)\n",
    "\n",
    "# Add colorbar\n",
    "cbax = fig.add_axes([1-0.75*marginN[0], .25, 20./figsize[0], .50])\n",
    "plt.colorbar(label='sea surface roughness', cax=cbax, format='%i')\n",
    "meanstr = r'$\\sigma$=%.f' % sigma0.mean()\n",
    "cbax.text(0.5, -0.025, meanstr, ha='center', va='top')\n",
    "\n",
    "# Add north\n",
    "cpsizeN = (margin[0]-margin[1])/figsize.astype('float')\n",
    "cpax = fig.add_axes([1-0.75*marginN[0], 0.15-cpsizeN[1]/2, cpsizeN[0], cpsizeN[1]])\n",
    "plt.arrow(.5, .5, .5*cos(north*pi/180),\n",
    "          .5*sin(north*pi/180), facecolor='black',\n",
    "          width=0.07, length_includes_head=True,\n",
    "          head_width=0.2, head_length=0.3)\n",
    "plt.annotate('North', (.5, .4), ha='center', va='top')\n",
    "cpax.set_axis_off()"
   ]
  },
  {
   "cell_type": "code",
   "execution_count": null,
   "metadata": {
    "collapsed": false
   },
   "outputs": [],
   "source": [
    "print spacing, spacing_m, sigma0.shape,"
   ]
  },
  {
   "cell_type": "code",
   "execution_count": null,
   "metadata": {
    "collapsed": false
   },
   "outputs": [],
   "source": [
    "plt.close('all')\n",
    "plt.imshow(sigma0)"
   ]
  },
  {
   "cell_type": "code",
   "execution_count": null,
   "metadata": {
    "collapsed": false
   },
   "outputs": [],
   "source": [
    "from scipy.stats import scoreatpercentile\n",
    "import numpy as np\n",
    "\n",
    "import matplotlib.pyplot as plt\n",
    "import matplotlib.cm as cm\n",
    "\n",
    "vmin = None\n",
    "vmax = 7\n",
    "cmap='Greys_r'\n",
    "\n",
    "spacing_ra = ceil(sarim.get_info('number_of_samples')/600.)\n",
    "spacing_ra_m = sarim.pixels2meters(spacing_ra)[1]\n",
    "spacing = int0(round(sarim.meters2pixels(spacing_ra_m)))\n",
    "spacing_m = sarim.pixels2meters(spacing)\n",
    "ssr = sarim.get_data('roughness', spacing=spacing)\n",
    "lon = sarim.get_data('lon', midrange=True, midazimuth=True)[0, 0]\n",
    "lat = sarim.get_data('lat', midrange=True, midazimuth=True)[0, 0]\n",
    "inc = sarim.get_data('incidence', midrange=True, midazimuth=True)[0, 0]\n",
    "heading = sarim.get_info('platform_heading')\n",
    "north = 90 + heading # north dir in image\n",
    "im_num = sarim.get_info('image_number')\n",
    "dist = (array(ssr.shape)-1)*spacing_m/1000.\n",
    "if vmin is None:\n",
    "    vmin = scoreatpercentile(ssr[25:-25, 25:-25], 0.1)\n",
    "if vmax is None:\n",
    "    vmax = scoreatpercentile(ssr[25:-25, 25:-25], 99.9)\n",
    "if sarim.get_info('pass') == 'Descending':\n",
    "    ssr = ssr[::-1, ::-1]\n",
    "    north = north+180\n",
    "\n",
    "# Make figure\n",
    "dpi = 100\n",
    "imsize = array(ssr.shape[::-1])\n",
    "margin = array(((900-imsize[0])/2, 60))\n",
    "figsize = array((900, imsize[1]+2*margin[1]))\n",
    "imsizeN = imsize.astype('float')/figsize\n",
    "marginN = margin.astype('float')/figsize\n",
    "\n",
    "fig = plt.figure(figsize=figsize.astype('float')/dpi, dpi=dpi)\n",
    "imax = fig.add_axes([marginN[0], marginN[1], imsizeN[0], imsizeN[1]])\n",
    "imax.set_xlim(0, dist[1])\n",
    "imax.set_ylim(0, dist[0])\n",
    "plt.imshow(ssr, origin='lower', interpolation='nearest', vmin=vmin,\n",
    "            vmax=vmax,\n",
    "            extent=[0, dist[1], 0, dist[0]], aspect='auto')\n",
    "plt.set_cmap(cmap) \n",
    "imax.set_xlabel('range distance [km]')\n",
    "imax.set_ylabel('azimuth distance [km]')\n",
    "tit = '#%03i / lon=%.2f / lat=%.2f / inc=%.2f / pass=%s' % (im_num, lon, lat, inc, sarim.get_info('pass'))\n",
    "imax.set_title(tit)\n",
    "\n",
    "# Add colorbar\n",
    "cbax = fig.add_axes([1-0.75*marginN[0], .25, 20./figsize[0], .50])\n",
    "plt.colorbar(label='sea surface roughness', cax=cbax, format='%.1f')\n",
    "meanstr = r'$\\rho$=%.1f' % ssr.mean()\n",
    "cbax.text(0.5, -0.025, meanstr, ha='center', va='top')\n",
    "\n",
    "# Add north\n",
    "cpsizeN = (margin[0]-margin[1])/figsize.astype('float')\n",
    "cpax = fig.add_axes([1-0.75*marginN[0], 0.15-cpsizeN[1]/2, cpsizeN[0], cpsizeN[1]])\n",
    "plt.arrow(.5, .5, .5*cos(north*pi/180),\n",
    "          .5*sin(north*pi/180), facecolor='black',\n",
    "          width=0.07, length_includes_head=True,\n",
    "          head_width=0.2, head_length=0.3)\n",
    "plt.annotate('North', (.5, .4), ha='center', va='top')\n",
    "cpax.set_axis_off()"
   ]
  },
  {
   "cell_type": "code",
   "execution_count": null,
   "metadata": {
    "collapsed": false
   },
   "outputs": [],
   "source": [
    "sarim.get_datanames()"
   ]
  },
  {
   "cell_type": "code",
   "execution_count": null,
   "metadata": {
    "collapsed": true
   },
   "outputs": [],
   "source": []
  },
  {
   "cell_type": "code",
   "execution_count": null,
   "metadata": {
    "collapsed": true
   },
   "outputs": [],
   "source": []
  },
  {
   "cell_type": "code",
   "execution_count": null,
   "metadata": {
    "collapsed": true
   },
   "outputs": [],
   "source": []
  },
  {
   "cell_type": "code",
   "execution_count": null,
   "metadata": {
    "collapsed": false
   },
   "outputs": [],
   "source": [
    "def extractZip2memory(input_zip):\n",
    "    input_zip=ZipFile(input_zip, 'r')\n",
    "    return {name: StringIO(input_zip.read(name)) for name in input_zip.namelist()[:-1]}\n",
    "zf.namelist()"
   ]
  },
  {
   "cell_type": "code",
   "execution_count": null,
   "metadata": {
    "collapsed": true
   },
   "outputs": [],
   "source": []
  },
  {
   "cell_type": "code",
   "execution_count": null,
   "metadata": {
    "collapsed": true
   },
   "outputs": [],
   "source": []
  },
  {
   "cell_type": "markdown",
   "metadata": {},
   "source": [
    "### Interactive Plot - doesn't work"
   ]
  },
  {
   "cell_type": "code",
   "execution_count": null,
   "metadata": {
    "collapsed": false
   },
   "outputs": [],
   "source": [
    "dpi = 300\n",
    "figsize = array([3, 3*double(ssr.shape[0])/double(ssr.shape[1])])*dpi\n",
    "imsize = array(ssr.shape[::-1])\n",
    "margin = array(((figsize[0]-imsize[0])/2, 60))\n",
    "imsizeN = imsize.astype('float')/figsize\n",
    "marginN = margin.astype('float')/figsize\n",
    "\n",
    "print figsize, imsizeN, imsize, marginN, margin\n",
    "\n",
    "dpi = 300\n",
    "imsize = array(ssr.shape[::-1])\n",
    "margin = array(((900-imsize[0])/2, 60))\n",
    "figsize = array((900, imsize[1]+2*margin[1]))\n",
    "imsizeN = imsize.astype('float')/figsize\n",
    "marginN = margin.astype('float')/figsize\n",
    "\n",
    "print figsize, imsizeN, imsize, marginN, margin\n",
    "\n",
    "imsize = array((1200,1200*ssr.shape[1]/ssr.shape[0]))\n",
    "margin = array(((900-imsize[0])/2, 60))\n",
    "figsize = array((900, imsize[1]+2*margin[1]))\n",
    "imsizeN = imsize.astype('float')/figsize\n",
    "marginN = margin.astype('float')/figsize\n",
    "fig = plt.figure(figsize=figsize.astype('float')/dpi, dpi=dpi)\n",
    "\n",
    "margin = array(((900-imsize[0])/2, 60))\n",
    "figsize = array((900, imsize[1]+2*margin[1]))"
   ]
  },
  {
   "cell_type": "code",
   "execution_count": null,
   "metadata": {
    "collapsed": false,
    "scrolled": false
   },
   "outputs": [],
   "source": [
    "from scipy.stats import scoreatpercentile\n",
    "import numpy as np\n",
    "\n",
    "import matplotlib.pyplot as plt\n",
    "import matplotlib.cm as cm\n",
    "\n",
    "vmin = None\n",
    "vmax = None\n",
    "\n",
    "# spacing_ra = ceil(sarim.get_info('number_of_samples')/2400.)\n",
    "# spacing_ra_m = sarim.pixels2meters(spacing_ra)[1]\n",
    "# spacing = round(sarim.meters2pixels(spacing_ra_m))\n",
    "# spacing_m = sarim.pixels2meters(spacing)\n",
    "ssr = sarim.get_data('roughness', spacing=spacing)\n",
    "lon = sarim.get_data('lon', midrange=True, midazimuth=True)[0, 0]\n",
    "lat = sarim.get_data('lat', midrange=True, midazimuth=True)[0, 0]\n",
    "inc = sarim.get_data('incidence', midrange=True, midazimuth=True)[0, 0]\n",
    "heading = sarim.get_info('platform_heading')\n",
    "north = 90 + heading # north dir in image\n",
    "im_num = sarim.get_info('image_number')\n",
    "dist = (array(ssr.shape)-1)*spacing_m/1000.\n",
    "if vmin is None:\n",
    "    vmin = scoreatpercentile(ssr[25:-25, 25:-25], 0.1)\n",
    "if vmax is None:\n",
    "    vmax = scoreatpercentile(ssr[25:-25, 25:-25], 99.9)\n",
    "if sarim.get_info('pass') == 'Descending':\n",
    "    ssr = ssr[::-1, ::-1]\n",
    "    north = north+180\n",
    "\n",
    "def ntrctv_imshow(vmin=None, vmax=None, cmap='Greys_r', crop='[:,:]'):\n",
    "    # Make figure\n",
    "    dpi = 300\n",
    "    imsize = array(ssr.shape[::-1])\n",
    "    margin = array(((900-imsize[0])/2, 60))\n",
    "    figsize = array((900, imsize[1]+2*margin[1]))\n",
    "    imsizeN = imsize.astype('float')/figsize\n",
    "    marginN = margin.astype('float')/figsize\n",
    "\n",
    "\n",
    "#     figsize = array([16, 16*double(ssr.shape[0])/double(ssr.shape[1])])*dpi\n",
    "#     imsize = array(ssr.shape[::-1])\n",
    "#     margin = array(((figsize[0]-imsize[0])/2, 60))\n",
    "#     imsizeN = imsize.astype('float')/figsize\n",
    "#     marginN = margin.astype('float')/figsize\n",
    "\n",
    "    fig = plt.figure(figsize=figsize.astype('float')/dpi, dpi=dpi)\n",
    "    imax = fig.add_axes([marginN[0], marginN[1], imsizeN[0], imsizeN[1]])\n",
    "    imax.set_xlim(0, dist[1])\n",
    "    imax.set_ylim(0, dist[0])\n",
    "    plt.imshow(eval(\"ssr\"+str(crop)), origin='lower', interpolation='nearest', vmin=vmin,\n",
    "                vmax=vmax,\n",
    "                extent=[0, dist[1], 0, dist[0]], aspect='auto')\n",
    "    plt.set_cmap(cmap) \n",
    "    imax.set_xlabel('range distance [km]')\n",
    "    imax.set_ylabel('azimuth distance [km]')\n",
    "    tit = '#%03i / lon=%.2f / lat=%.2f / inc=%.2f / pass=%s' % (im_num, lon, lat, inc, sarim.get_info('pass'))\n",
    "    imax.set_title(tit)\n",
    "\n",
    "    # Add colorbar\n",
    "    cbax = fig.add_axes([1-0.75*marginN[0], .25, 20./figsize[0], .50])\n",
    "    plt.colorbar(label='sea surface roughness', cax=cbax, format='%.1f')\n",
    "    meanstr = r'$\\rho$=%.1f' % ssr.mean()\n",
    "    cbax.text(0.5, -0.025, meanstr, ha='center', va='top')\n",
    "\n",
    "    # Add north\n",
    "    cpsizeN = (margin[0]-margin[1])/figsize.astype('float')\n",
    "    cpax = fig.add_axes([1-0.75*marginN[0], 0.15-cpsizeN[1]/2, cpsizeN[0], cpsizeN[1]])\n",
    "    plt.arrow(.5, .5, .5*cos(north*pi/180),\n",
    "              .5*sin(north*pi/180), facecolor='black',\n",
    "              width=0.07, length_includes_head=True,\n",
    "              head_width=0.2, head_length=0.3)\n",
    "    plt.annotate('North', (.5, .4), ha='center', va='top')\n",
    "    cpax.set_axis_off()\n",
    "\n",
    "\n",
    "\n",
    "from IPython.html import widgets\n",
    "\n",
    "ntrctv = widgets.interact(ntrctv_imshow, \\\n",
    "                 vmin=widgets.FloatSliderWidget(min=0, max=5, value=vmin, step=0.2), \\\n",
    "                 vmax=widgets.FloatSliderWidget(min=0, max=5, value=vmax, step=0.2), \\\n",
    "                 cmap = ['Greys_r', 'bone', 'RdBu_r'], crop='[:,:]');"
   ]
  }
 ],
 "metadata": {
  "kernelspec": {
   "display_name": "Python 2",
   "language": "python",
   "name": "python2"
  },
  "language_info": {
   "codemirror_mode": {
    "name": "ipython",
    "version": 2
   },
   "file_extension": ".py",
   "mimetype": "text/x-python",
   "name": "python",
   "nbconvert_exporter": "python",
   "pygments_lexer": "ipython2",
   "version": "2.7.6"
  },
  "latex_envs": {
   "bibliofile": "biblio.bib",
   "cite_by": "apalike",
   "current_citInitial": 1,
   "eqLabelWithNumbers": true,
   "eqNumInitial": 0
  }
 },
 "nbformat": 4,
 "nbformat_minor": 0
}
