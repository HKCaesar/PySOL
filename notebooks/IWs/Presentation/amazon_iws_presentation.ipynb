{
 "cells": [
  {
   "cell_type": "markdown",
   "metadata": {
    "slideshow": {
     "slide_type": "slide"
    }
   },
   "source": [
    "#### Восстановление кинематических характеристик поверхностных проявлений внутренних волн по спутниковым РСА и оптическим изображениям\n",
    "\n",
    "**Мясоедов А.Г.**, к.ф.-м.н., ЛСО РГГМУ,\n",
    "\n",
    "*совместно с*\n",
    "\n",
    "Кудрявцев В.Н., ЛСО РГГМУ,\n",
    "Шапрон Б., ЛСО РГГМУ/IFREMER,\n",
    "Зубкова Е., ЛСО РГГМУ"
   ]
  },
  {
   "cell_type": "code",
   "execution_count": null,
   "metadata": {
    "collapsed": true
   },
   "outputs": [],
   "source": []
  }
 ],
 "metadata": {
  "celltoolbar": "Slideshow",
  "kernelspec": {
   "display_name": "Python 2",
   "language": "python",
   "name": "python2"
  },
  "language_info": {
   "codemirror_mode": {
    "name": "ipython",
    "version": 2
   },
   "file_extension": ".py",
   "mimetype": "text/x-python",
   "name": "python",
   "nbconvert_exporter": "python",
   "pygments_lexer": "ipython2",
   "version": "2.7.6"
  },
  "latex_envs": {
   "bibliofile": "biblio.bib",
   "cite_by": "apalike",
   "current_citInitial": 1,
   "eqLabelWithNumbers": true,
   "eqNumInitial": 0
  }
 },
 "nbformat": 4,
 "nbformat_minor": 0
}
