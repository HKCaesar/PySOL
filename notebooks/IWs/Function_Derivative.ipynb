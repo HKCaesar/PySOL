{
 "cells": [
  {
   "cell_type": "markdown",
   "metadata": {},
   "source": [
    "http://stackoverflow.com/questions/9876290/how-do-i-compute-derivative-using-numpy"
   ]
  },
  {
   "cell_type": "markdown",
   "metadata": {},
   "source": [
    "### Протабулировать функцию Гаусса:\n",
    "f(x) = 1./((sqrt(2.*pi)*s)*e**(-0.5*((x-m)/s)**2) на отрезке (-10,10) для m = 0 и различных s. (s пусть будет от 0.5 до 5)\n",
    "\n",
    "Вычислить производную и интеграл от этой функции с помощью метода конечных разностей без применения циклов. \n",
    "\n",
    "Построить графики для данной функции и ее производной.\n",
    "Использовать numpy и matplotlib."
   ]
  },
  {
   "cell_type": "code",
   "execution_count": 55,
   "metadata": {
    "collapsed": true
   },
   "outputs": [],
   "source": [
    "from math import *\n",
    "import numpy as np\n",
    "import matplotlib.pyplot as plt\n",
    "\n",
    "def f(x,s,m):\n",
    "    return (1./(sqrt(2.*pi)*s))*e**(-0.5*((x-m)/s)**2)\n",
    "\n",
    "def main():\n",
    "    m = 0\n",
    "    s = np.linspace(0.5,5,1)\n",
    "    x = np.linspace(-10,10,20)\n",
    "    y = np.zeros(np.shape(x))\n",
    "    for i in range(len(s)):\n",
    "        print('s = ', s)\n",
    "        for j in range(len(x)):\n",
    "            y[j] = f(x[j],s,m)\n",
    "            print('x = ',x[j],', y = ',y[j])"
   ]
  },
  {
   "cell_type": "code",
   "execution_count": 56,
   "metadata": {
    "collapsed": false
   },
   "outputs": [
    {
     "name": "stdout",
     "output_type": "stream",
     "text": [
      "('s = ', array([ 0.5]))\n",
      "('x = ', -10.0, ', y = ', 1.1041896724319645e-87)\n",
      "('x = ', -8.9473684210526319, ', y = ', 2.3264926495190639e-70)\n",
      "('x = ', -7.8947368421052637, ', y = ', 5.8278558258428936e-55)\n",
      "('x = ', -6.8421052631578947, ', y = ', 1.7356614776083347e-41)\n",
      "('x = ', -5.7894736842105265, ', y = ', 6.1456859052397489e-30)\n",
      "('x = ', -4.7368421052631584, ', y = ', 2.5871690495313523e-20)\n",
      "('x = ', -3.6842105263157894, ', y = ', 1.2948765453766929e-12)\n",
      "('x = ', -2.6315789473684212, ', y = ', 7.7051488395092065e-07)\n",
      "('x = ', -1.5789473684210531, ', y = ', 0.0054510832034328858)\n",
      "('x = ', -0.52631578947368496, ', y = ', 0.45849404602289129)\n",
      "('x = ', 0.52631578947368318, ', y = ', 0.45849404602289295)\n",
      "('x = ', 1.5789473684210513, ', y = ', 0.0054510832034329482)\n",
      "('x = ', 2.6315789473684212, ', y = ', 7.7051488395092065e-07)\n",
      "('x = ', 3.6842105263157894, ', y = ', 1.2948765453766929e-12)\n",
      "('x = ', 4.7368421052631575, ', y = ', 2.5871690495313887e-20)\n",
      "('x = ', 5.7894736842105257, ', y = ', 6.1456859052398358e-30)\n",
      "('x = ', 6.8421052631578938, ', y = ', 1.7356614776083591e-41)\n",
      "('x = ', 7.8947368421052637, ', y = ', 5.8278558258428936e-55)\n",
      "('x = ', 8.9473684210526301, ', y = ', 2.3264926495191965e-70)\n",
      "('x = ', 10.0, ', y = ', 1.1041896724319645e-87)\n"
     ]
    }
   ],
   "source": [
    "main()"
   ]
  },
  {
   "cell_type": "markdown",
   "metadata": {},
   "source": [
    "### Simple Derivative"
   ]
  },
  {
   "cell_type": "code",
   "execution_count": 95,
   "metadata": {
    "collapsed": true
   },
   "outputs": [],
   "source": [
    "class Derivative:\n",
    "    def __init__(self, f, h=1E-9):\n",
    "        self.f = f\n",
    "        self.h = np.float128(h)\n",
    "\n",
    "    def __call__(self, x):\n",
    "        f, h = self.f, self.h\n",
    "        return (f(x+h) - f(x))/h"
   ]
  },
  {
   "cell_type": "code",
   "execution_count": 96,
   "metadata": {
    "collapsed": false
   },
   "outputs": [
    {
     "data": {
      "text/plain": [
       "-1.00000008274037"
      ]
     },
     "execution_count": 96,
     "metadata": {},
     "output_type": "execute_result"
    }
   ],
   "source": [
    "df = Derivative(sin)\n",
    "df(x=np.pi)\n"
   ]
  },
  {
   "cell_type": "markdown",
   "metadata": {},
   "source": [
    "### using SymPy"
   ]
  },
  {
   "cell_type": "code",
   "execution_count": 97,
   "metadata": {
    "collapsed": false
   },
   "outputs": [
    {
     "name": "stdout",
     "output_type": "stream",
     "text": [
      "cos(x)\n",
      "-1.0\n"
     ]
    }
   ],
   "source": [
    "from sympy import *\n",
    "import numpy as np\n",
    "x = Symbol('x')\n",
    "y = sin(x)\n",
    "yprime = y.diff(x)\n",
    "print yprime\n",
    "\n",
    "df = lambdify(x, yprime, 'numpy')\n",
    "print df(np.pi)"
   ]
  },
  {
   "cell_type": "markdown",
   "metadata": {},
   "source": [
    "### using scipy"
   ]
  },
  {
   "cell_type": "code",
   "execution_count": 98,
   "metadata": {
    "collapsed": true
   },
   "outputs": [],
   "source": [
    "from scipy.misc import derivative"
   ]
  },
  {
   "cell_type": "code",
   "execution_count": 109,
   "metadata": {
    "collapsed": false
   },
   "outputs": [
    {
     "data": {
      "text/plain": [
       "-1.00000000013961"
      ]
     },
     "execution_count": 109,
     "metadata": {},
     "output_type": "execute_result"
    }
   ],
   "source": [
    "y = sin\n",
    "derivative(y, np.pi, dx=1e-6)"
   ]
  },
  {
   "cell_type": "code",
   "execution_count": null,
   "metadata": {
    "collapsed": true
   },
   "outputs": [],
   "source": []
  }
 ],
 "metadata": {
  "kernelspec": {
   "display_name": "Python 2",
   "language": "python",
   "name": "python2"
  },
  "language_info": {
   "codemirror_mode": {
    "name": "ipython",
    "version": 2
   },
   "file_extension": ".py",
   "mimetype": "text/x-python",
   "name": "python",
   "nbconvert_exporter": "python",
   "pygments_lexer": "ipython2",
   "version": "2.7.6"
  }
 },
 "nbformat": 4,
 "nbformat_minor": 0
}
