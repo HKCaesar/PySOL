{
 "metadata": {
  "name": "",
  "signature": "sha256:12eee30fc607753a4578f895cf3421a0f54d38420667d020bb202555fb06a192"
 },
 "nbformat": 3,
 "nbformat_minor": 0,
 "worksheets": [
  {
   "cells": [
    {
     "cell_type": "code",
     "collapsed": false,
     "input": [
      "!free -h"
     ],
     "language": "python",
     "metadata": {},
     "outputs": [
      {
       "output_type": "stream",
       "stream": "stdout",
       "text": [
        "             total       used       free     shared    buffers     cached\r\n",
        "Mem:          188G       8.2G       180G       1.7M       297M       6.0G\r\n",
        "-/+ buffers/cache:       1.9G       186G\r\n",
        "Swap:           0B         0B         0B\r\n"
       ]
      }
     ],
     "prompt_number": 2
    }
   ],
   "metadata": {}
  }
 ]
}