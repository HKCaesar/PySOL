{
 "metadata": {
  "name": "",
  "signature": "sha256:9e38269e414b9d92b7d67f46695ed8ae5b915cd43de986734728dc3299fac846"
 },
 "nbformat": 3,
 "nbformat_minor": 0,
 "worksheets": [
  {
   "cells": [
    {
     "cell_type": "code",
     "collapsed": false,
     "input": [
      "from nansat import Nansat, Domain\n",
      "\n",
      "import distancelib\n",
      "from cmod import rcs2windPar, rcs2wind\n",
      "\n",
      "import matplotlib.pyplot as plt\n",
      "from numpy import deg2rad, array, float, floor\n",
      "\n",
      "from osgeo import gdal, ogr\n",
      "\n",
      "import os, signal\n",
      "\n",
      "import datetime"
     ],
     "language": "python",
     "metadata": {},
     "outputs": [],
     "prompt_number": 1
    },
    {
     "cell_type": "code",
     "collapsed": false,
     "input": [
      "def reproject(n,lonlim=None,latlim=None):\n",
      "    \"\"\"\n",
      "    # Reprojected image into Lat/Lon WGS84 (Simple Cylindrical) projection\n",
      "    # 1. Cancel previous reprojection\n",
      "    # 2. Get corners of the image and the pixel resolution\n",
      "    # 3. Create Domain with projection, corner coordinates and resolution 1000m\n",
      "    # 4. Reproject\n",
      "    # 5. Write image\n",
      "    \"\"\"\n",
      "\n",
      "    n.reproject() # 1.\n",
      "    lons, lats = n.get_corners() # 2.\n",
      "    pxlRes = distancelib.getPixelResolution(array(lats), array(lons), n.shape(), units=\"deg\")\n",
      "    # pxlRes = array((double(0.75*360)/40000,double(0.75*360)/40000)) # about 75m resolution\n",
      "    srsString = \"+proj=latlong +datum=WGS84 +ellps=WGS84 +no_defs\"\n",
      "    extentString = '-lle %f %f %f %f -tr %f %f' % (min(lonlim), min(latlim), \\\n",
      "                    max(lonlim), max(latlim), pxlRes[1], pxlRes[0])\n",
      "    #d = Domain(lon=lon,lat=lat, ds = n.vrt.dataset)\n",
      "    d = Domain(srs=srsString, ext=extentString) # 3.\n",
      "    #d = Domain(srs=srsString, ds = n.vrt.dataset)\n",
      "    # Use for faster and correct reprojection especially in Polar regions. Needs GCPs!!! and doesn't use epsg Numbering\n",
      "    #n.reproject_GCPs(srsString)\n",
      "    #n.reproject(d, tps=True) # 4.\n",
      "    n.reproject(d)\n",
      "    return n"
     ],
     "language": "python",
     "metadata": {},
     "outputs": [],
     "prompt_number": 2
    },
    {
     "cell_type": "code",
     "collapsed": false,
     "input": [
      "def overlap(n, lonlim, latlim):\n",
      "    lonlim1 = numpy.append(sort(lonlim), sort(lonlim)[::-1])\n",
      "    latlim1 = numpy.array([latlim.min(), latlim.min(), latlim.max(), latlim.max()])\n",
      "    lim = zip(lonlim1, latlim1)\n",
      "    lim = ['%f' % x + ' ' + '%f' % y for x, y in lim]\n",
      "    lim.append(lim[0])\n",
      "    my_border = (', ').join(lim)\n",
      "    wkt1 = 'POLYGON((' + my_border + '))'\n",
      "    wkt2 = n.get_border_polygon().split(\"('\")[1][:-2]\n",
      "    poly1 = ogr.CreateGeometryFromWkt(wkt1)\n",
      "    poly2 = ogr.CreateGeometryFromWkt(wkt2)\n",
      "    intersection = poly1.Overlaps(poly2)\n",
      "    return intersection"
     ],
     "language": "python",
     "metadata": {},
     "outputs": [],
     "prompt_number": 3
    },
    {
     "cell_type": "code",
     "collapsed": false,
     "input": [
      "fileNameList = [\n",
      "            'ASA_WSM_1PNPDE20110523_084634_000000983102_00395_48254_2349.N1',\n",
      "            'ASA_WSM_1PNPDE20111127_085336_000002143109_00079_50955_3727.N1',\n",
      "            'ASA_WSM_1PNPDK20111216_202156_000002693109_00359_51235_5447.N1',\n",
      "            'ASA_WSM_1PNPDK20111227_085404_000002453110_00079_51386_9192.N1',\n",
      "            'ASA_WSM_1PNPDK20120105_194838_000002693110_00215_51522_2440.N1',\n",
      "            'ASA_WSM_1PNPDK20120108_193839_000002693110_00258_51565_3503.N1',\n",
      "            'ASA_WSM_1PNPDK20120113_195518_000002693110_00330_51637_5211.N1',\n",
      "\n",
      "            'ASA_WSM_1PNPDK20100921_194247_000001772093_00114_44757_1367.N1',\n",
      "            'ASA_WSM_1PNPDK20100927_195408_000000862093_00200_44843_3688.N1',\n",
      "            \n",
      "            'ASA_WSM_1PNPDE20110815_090644_000001903105_00309_49461_8731.N1'\n",
      "            ]\n",
      "\n",
      "fileName = fileNameList[-1]\n",
      "\n",
      "dt = datetime.datetime.strptime(fileName[14:22], '%Y%m%d').timetuple()\n",
      "\n",
      "year = str(dt.tm_year)\n",
      "day = str(dt.tm_yday)\n",
      "\n",
      "if len(day) == 1:\n",
      "    day = '00' + day\n",
      "elif len(day) == 2:\n",
      "    day = '0' + day\n",
      "\n",
      "iPath = '/media/SOLabNFS2/store/satellite/asar/' + year + '/' + day + '/'\n",
      "# oPath = '/media/SOLabNFS2/tmp/roughness/'\n",
      "oPath = '/home/mag/'"
     ],
     "language": "python",
     "metadata": {},
     "outputs": [],
     "prompt_number": 4
    },
    {
     "cell_type": "code",
     "collapsed": false,
     "input": [
      "# baltic sea region for further projection\n",
      "latlim = array((53, 65))\n",
      "lonlim = array((12, 33))\n",
      "\n",
      "# finngulf region for further projection\n",
      "latlim = array((59.2, 60.80))\n",
      "lonlim = array((22.9, 30.3))\n",
      "\n",
      "# nevaguba region for further projection\n",
      "# latlim = array((59.8, 60.25))\n",
      "# lonlim = array((29, 30.3))"
     ],
     "language": "python",
     "metadata": {},
     "outputs": [],
     "prompt_number": 5
    },
    {
     "cell_type": "code",
     "collapsed": true,
     "input": [
      "import nansat\n",
      "reload(nansat)\n",
      "from nansat import Nansat\n",
      "n = Nansat(iPath + fileName, mapperName='asar')"
     ],
     "language": "python",
     "metadata": {},
     "outputs": [
      {
       "output_type": "stream",
       "stream": "stderr",
       "text": [
        "/usr/local/lib/python2.7/dist-packages/scipy/ndimage/interpolation.py:532: UserWarning: From scipy 0.13.0, the output shape of zoom() is calculated with round() instead of int() - for these inputs the size of the returned array has changed.\n",
        "  \"the returned array has changed.\", UserWarning)\n"
       ]
      }
     ],
     "prompt_number": 6
    },
    {
     "cell_type": "code",
     "collapsed": false,
     "input": [
      "latlim = array((59.2, 60.80))\n",
      "lonlim = array((22.9, 30.3))\n",
      "# Reproject image on the Lat/Lon WGS84 (Simple Cylindrical) projection and Crop the region\n",
      "n = reproject(n,lonlim,latlim)\n",
      "sigma0 = n[3]"
     ],
     "language": "python",
     "metadata": {},
     "outputs": [],
     "prompt_number": 8
    },
    {
     "cell_type": "code",
     "collapsed": false,
     "input": [
      "plt.figure()\n",
      "plt.imshow(sigma0, vmin=0, vmax=0.3)\n",
      "plt.gray()"
     ],
     "language": "python",
     "metadata": {},
     "outputs": [
      {
       "metadata": {},
       "output_type": "display_data",
       "png": "[encoded data removed]",
       "text": [
        "<matplotlib.figure.Figure at 0x4b4b050>"
       ]
      }
     ],
     "prompt_number": 9
    },
    {
     "cell_type": "code",
     "collapsed": false,
     "input": [
      "inc_angle = n[2][0]"
     ],
     "language": "python",
     "metadata": {},
     "outputs": [],
     "prompt_number": 11
    },
    {
     "cell_type": "code",
     "collapsed": false,
     "input": [
      "close('all')\n",
      "plot(inc_angle)"
     ],
     "language": "python",
     "metadata": {},
     "outputs": [
      {
       "metadata": {},
       "output_type": "pyout",
       "prompt_number": 12,
       "text": [
        "[<matplotlib.lines.Line2D at 0x4b63c90>]"
       ]
      },
      {
       "metadata": {},
       "output_type": "display_data",
       "png": "[encoded data removed]",
       "text": [
        "<matplotlib.figure.Figure at 0x4b66890>"
       ]
      }
     ],
     "prompt_number": 12
    },
    {
     "cell_type": "code",
     "collapsed": false,
     "input": [
      "sigma0.shape"
     ],
     "language": "python",
     "metadata": {},
     "outputs": [
      {
       "metadata": {},
       "output_type": "pyout",
       "prompt_number": 10,
       "text": [
        "(16740, 5618)"
       ]
      }
     ],
     "prompt_number": 10
    },
    {
     "cell_type": "code",
     "collapsed": false,
     "input": [
      "self = n\n",
      "fn = oPath + fileName + '.nc'\n",
      "bandList=[3]\n",
      "driver='netCDF'\n",
      "\n",
      "firstBand = bandList[0]\n",
      "if type(firstBand) == str:\n",
      "    firstBand = self._get_band_number(firstBand)\n",
      "bandArray = self[firstBand]\n",
      "# create temporary Nansat\n",
      "tmpNansat = Nansat(domain=self, array=bandArray)\n",
      "# if more than 1 Band\n",
      "if len(bandList) > 1:\n",
      "    ind = 1\n",
      "    for iBand in bandList[1:]:\n",
      "        ind += 1\n",
      "        if type(iBand) == str:\n",
      "            iBand = self._get_band_number(iBand)\n",
      "        # get array from self\n",
      "        bandArray = self[iBand]\n",
      "        # add band to tmpNansat\n",
      "        tmpNansat.add_band(bandID=ind, array=bandArray)\n",
      "# get/set root metadata\n",
      "rootMetadata = self.get_metadata()\n",
      "tmpNansat.set_metadata(rootMetadata)\n",
      "# get/set band metadata (doing after arrays added for all bands, otherway errors will occure)\n",
      "ind = 0\n",
      "for iBand in bandList:\n",
      "    ind += 1\n",
      "    if type(iBand) == str:\n",
      "        iBand = self._get_band_number(iBand)\n",
      "    bandMetadata = self.get_metadata(bandID=iBand)\n",
      "    tmpNansat.set_metadata(bandMetadata, bandID=ind)\n",
      "\n",
      "print tmpNansat\n",
      "\n",
      "plt.close('all')\n",
      "plt.figure(figsize=(16,4))\n",
      "plt.subplot(221)\n",
      "plt.imshow(tmpNansat[1])\n",
      "plt.gray()\n",
      "plt.subplot(222)\n",
      "plt.imshow(tmpNansat[2], vmin=0, vmax=0.3)\n",
      "plt.gray()\n",
      "plt.subplot(223)\n",
      "plt.imshow(tmpNansat[3], vmin=0, vmax=0.3)\n",
      "plt.gray()\n",
      "\n",
      "# export\n",
      "# tmpNansat.export(fn, driver=driver)"
     ],
     "language": "python",
     "metadata": {},
     "outputs": []
    },
    {
     "cell_type": "code",
     "collapsed": false,
     "input": [
      "tmpNansat.export(fn, driver=driver)"
     ],
     "language": "python",
     "metadata": {},
     "outputs": []
    },
    {
     "cell_type": "code",
     "collapsed": false,
     "input": [
      "n.export('/home/mag' + fileName + '.nc', driver='netCDF')"
     ],
     "language": "python",
     "metadata": {},
     "outputs": [
      {
       "ename": "RuntimeError",
       "evalue": "netcdf error #-33 : NetCDF: Not a valid ID .\nat (netcdfdataset.cpp,~netCDFDataset,1446)\n",
       "output_type": "pyerr",
       "traceback": [
        "\u001b[1;31m---------------------------------------------------------------------------\u001b[0m\n\u001b[1;31mRuntimeError\u001b[0m                              Traceback (most recent call last)",
        "\u001b[1;32m<ipython-input-16-3369c2842cb6>\u001b[0m in \u001b[0;36m<module>\u001b[1;34m()\u001b[0m\n\u001b[1;32m----> 1\u001b[1;33m \u001b[0mn\u001b[0m\u001b[1;33m.\u001b[0m\u001b[0mexport\u001b[0m\u001b[1;33m(\u001b[0m\u001b[1;34m'/home/mag'\u001b[0m \u001b[1;33m+\u001b[0m \u001b[0mfileName\u001b[0m \u001b[1;33m+\u001b[0m \u001b[1;34m'.nc'\u001b[0m\u001b[1;33m,\u001b[0m \u001b[0mdriver\u001b[0m\u001b[1;33m=\u001b[0m\u001b[1;34m'netCDF'\u001b[0m\u001b[1;33m)\u001b[0m\u001b[1;33m\u001b[0m\u001b[0m\n\u001b[0m",
        "\u001b[1;32m/home/mag/Documents/repos/nansat/nansat.pyc\u001b[0m in \u001b[0;36mexport\u001b[1;34m(self, fileName, rmMetadata, addGeolocArray, addGCPs, driver)\u001b[0m\n\u001b[0;32m    494\u001b[0m         \u001b[0mself\u001b[0m\u001b[1;33m.\u001b[0m\u001b[0mlogger\u001b[0m\u001b[1;33m.\u001b[0m\u001b[0mdebug\u001b[0m\u001b[1;33m(\u001b[0m\u001b[1;34m'Exporting to %s using %s...'\u001b[0m \u001b[1;33m%\u001b[0m \u001b[1;33m(\u001b[0m\u001b[0mfileName\u001b[0m\u001b[1;33m,\u001b[0m \u001b[0mdriver\u001b[0m\u001b[1;33m)\u001b[0m\u001b[1;33m)\u001b[0m\u001b[1;33m\u001b[0m\u001b[0m\n\u001b[0;32m    495\u001b[0m         dataset = gdal.GetDriverByName(driver).CreateCopy(fileName,\n\u001b[1;32m--> 496\u001b[1;33m                                                           exportVRT.dataset)\n\u001b[0m\u001b[0;32m    497\u001b[0m         \u001b[0mself\u001b[0m\u001b[1;33m.\u001b[0m\u001b[0mlogger\u001b[0m\u001b[1;33m.\u001b[0m\u001b[0mdebug\u001b[0m\u001b[1;33m(\u001b[0m\u001b[1;34m'Export - OK!'\u001b[0m\u001b[1;33m)\u001b[0m\u001b[1;33m\u001b[0m\u001b[0m\n\u001b[0;32m    498\u001b[0m \u001b[1;33m\u001b[0m\u001b[0m\n",
        "\u001b[1;32m/usr/lib/python2.7/dist-packages/osgeo/gdal.pyc\u001b[0m in \u001b[0;36mCreateCopy\u001b[1;34m(self, *args, **kwargs)\u001b[0m\n\u001b[0;32m    397\u001b[0m             void callback_data = None) -> Dataset\n\u001b[0;32m    398\u001b[0m         \"\"\"\n\u001b[1;32m--> 399\u001b[1;33m         \u001b[1;32mreturn\u001b[0m \u001b[0m_gdal\u001b[0m\u001b[1;33m.\u001b[0m\u001b[0mDriver_CreateCopy\u001b[0m\u001b[1;33m(\u001b[0m\u001b[0mself\u001b[0m\u001b[1;33m,\u001b[0m \u001b[1;33m*\u001b[0m\u001b[0margs\u001b[0m\u001b[1;33m,\u001b[0m \u001b[1;33m**\u001b[0m\u001b[0mkwargs\u001b[0m\u001b[1;33m)\u001b[0m\u001b[1;33m\u001b[0m\u001b[0m\n\u001b[0m\u001b[0;32m    400\u001b[0m \u001b[1;33m\u001b[0m\u001b[0m\n\u001b[0;32m    401\u001b[0m     \u001b[1;32mdef\u001b[0m \u001b[0mDelete\u001b[0m\u001b[1;33m(\u001b[0m\u001b[0mself\u001b[0m\u001b[1;33m,\u001b[0m \u001b[1;33m*\u001b[0m\u001b[0margs\u001b[0m\u001b[1;33m)\u001b[0m\u001b[1;33m:\u001b[0m\u001b[1;33m\u001b[0m\u001b[0m\n",
        "\u001b[1;31mRuntimeError\u001b[0m: netcdf error #-33 : NetCDF: Not a valid ID .\nat (netcdfdataset.cpp,~netCDFDataset,1446)\n"
       ]
      }
     ],
     "prompt_number": 16
    },
    {
     "cell_type": "code",
     "collapsed": false,
     "input": [
      "n.export_band(oPath + fileName + '.nc', bandList=[1,3,5], driver='netCDF')\n",
      "# %timeit -n 1 -r 1 n.export_band(oPath + fileName + '.nc', bandList=[1], driver='netCDF')\n",
      "!nansatinfo /home/mag/ASA_WSM_1PNPDE20110815_090644_000001903105_00309_49461_8731.N1.nc"
     ],
     "language": "python",
     "metadata": {},
     "outputs": [
      {
       "ename": "TypeError",
       "evalue": "export_band() got an unexpected keyword argument 'bandList'",
       "output_type": "pyerr",
       "traceback": [
        "\u001b[1;31m---------------------------------------------------------------------------\u001b[0m\n\u001b[1;31mTypeError\u001b[0m                                 Traceback (most recent call last)",
        "\u001b[1;32m<ipython-input-9-80aa5a67f08d>\u001b[0m in \u001b[0;36m<module>\u001b[1;34m()\u001b[0m\n\u001b[1;32m----> 1\u001b[1;33m \u001b[0mn\u001b[0m\u001b[1;33m.\u001b[0m\u001b[0mexport_band\u001b[0m\u001b[1;33m(\u001b[0m\u001b[0moPath\u001b[0m \u001b[1;33m+\u001b[0m \u001b[0mfileName\u001b[0m \u001b[1;33m+\u001b[0m \u001b[1;34m'.nc'\u001b[0m\u001b[1;33m,\u001b[0m \u001b[0mbandList\u001b[0m\u001b[1;33m=\u001b[0m\u001b[1;33m[\u001b[0m\u001b[1;36m1\u001b[0m\u001b[1;33m]\u001b[0m\u001b[1;33m,\u001b[0m \u001b[0mdriver\u001b[0m\u001b[1;33m=\u001b[0m\u001b[1;34m'netCDF'\u001b[0m\u001b[1;33m)\u001b[0m\u001b[1;33m\u001b[0m\u001b[0m\n\u001b[0m\u001b[0;32m      2\u001b[0m \u001b[1;31m# %timeit -n 1 -r 1 n.export_band(oPath + fileName + '.nc', bandList=[1], driver='netCDF')\u001b[0m\u001b[1;33m\u001b[0m\u001b[1;33m\u001b[0m\u001b[0m\n\u001b[0;32m      3\u001b[0m \u001b[0mget_ipython\u001b[0m\u001b[1;33m(\u001b[0m\u001b[1;33m)\u001b[0m\u001b[1;33m.\u001b[0m\u001b[0msystem\u001b[0m\u001b[1;33m(\u001b[0m\u001b[1;34mu'nansatinfo /home/mag/ASA_WSM_1PNPDE20110815_090644_000001903105_00309_49461_8731.N1.nc'\u001b[0m\u001b[1;33m)\u001b[0m\u001b[1;33m\u001b[0m\u001b[0m\n",
        "\u001b[1;31mTypeError\u001b[0m: export_band() got an unexpected keyword argument 'bandList'"
       ]
      }
     ],
     "prompt_number": 9
    },
    {
     "cell_type": "code",
     "collapsed": false,
     "input": [],
     "language": "python",
     "metadata": {},
     "outputs": []
    },
    {
     "cell_type": "code",
     "collapsed": false,
     "input": [],
     "language": "python",
     "metadata": {},
     "outputs": []
    },
    {
     "cell_type": "code",
     "collapsed": false,
     "input": [],
     "language": "python",
     "metadata": {},
     "outputs": []
    },
    {
     "cell_type": "code",
     "collapsed": false,
     "input": [],
     "language": "python",
     "metadata": {},
     "outputs": []
    },
    {
     "cell_type": "code",
     "collapsed": false,
     "input": [],
     "language": "python",
     "metadata": {},
     "outputs": []
    },
    {
     "cell_type": "code",
     "collapsed": false,
     "input": [],
     "language": "python",
     "metadata": {},
     "outputs": []
    },
    {
     "cell_type": "code",
     "collapsed": false,
     "input": [],
     "language": "python",
     "metadata": {},
     "outputs": []
    },
    {
     "cell_type": "code",
     "collapsed": false,
     "input": [
      "ncepPath = '/media/SOLabNFS2/store/model/ncep/gfs/'\n",
      "# find the ncep gfs filename to open from ASAR filename\n",
      "hr = float(fileName[23:25]) + float(fileName[25:27])/60\n",
      "baseHour = floor((hr+3/2)/6)*6\n",
      "baseHour = min(18, baseHour)\n",
      "if hr-baseHour>1.5:\n",
      "    forecastHour = 3\n",
      "else:\n",
      "    forecastHour = 0\n",
      "ncepFileName = 'gfs' + fileName[14:22] + '/gfs.t' + '%.2d' %(baseHour) + 'z.master.grbf' + '%.2d' %(forecastHour)"
     ],
     "language": "python",
     "metadata": {},
     "outputs": []
    },
    {
     "cell_type": "code",
     "collapsed": true,
     "input": [
      "n = Nansat(iPath + fileName, mapperName='asar')\n",
      "try:\n",
      "    wind = Nansat(ncepPath + ncepFileName, mapperName='ncep')\n",
      "except:\n",
      "    swPath = '/media/SOLabNFS/store/satellite/seawinds/SI/uv/6hrly/netcdf/2000s/'\n",
      "    swFileName = 'uv' + fileName[14:22] + 'rt.nc'\n",
      "    wind = Nansat(swPath + swFileName)"
     ],
     "language": "python",
     "metadata": {},
     "outputs": []
    },
    {
     "cell_type": "code",
     "collapsed": false,
     "input": [
      "# lons, lats = n.get_corners()\n",
      "# overlap = (lats>min(latlim)).any() and (lats<max(latlim)).any() and (lons>min(lonlim)).any() and (lons<max(lonlim)).any()\n",
      "\n",
      "# if not overlap:\n",
      "#     print 'NO Overlap'\n",
      "# else:\n",
      "#     print 'Overlap'\n",
      "\n",
      "intersection = overlap(n, lonlim, latlim)\n",
      "if not intersection:\n",
      "    print 'NO region Overlap'"
     ],
     "language": "python",
     "metadata": {},
     "outputs": []
    },
    {
     "cell_type": "code",
     "collapsed": false,
     "input": [
      "#raw_counts = n[1]\n",
      "inc_angle = n[2][0]\n",
      "sigma0 = n[3]"
     ],
     "language": "python",
     "metadata": {},
     "outputs": []
    },
    {
     "cell_type": "code",
     "collapsed": false,
     "input": [
      "plt.figure()\n",
      "plt.imshow(sigma0[::20,::10], vmin=0, vmax=0.3)\n",
      "plt.gray()"
     ],
     "language": "python",
     "metadata": {},
     "outputs": []
    },
    {
     "cell_type": "code",
     "collapsed": false,
     "input": [
      "latlim = array((59.2, 60.80))\n",
      "lonlim = array((22.9, 30.3))\n",
      "# Reproject image on the Lat/Lon WGS84 (Simple Cylindrical) projection and Crop the region\n",
      "n = reproject(n,lonlim,latlim)\n",
      "sigma0 = n[3]\n",
      "inc_angle = n[2][0]\n",
      "plt.figure()\n",
      "plt.imshow(sigma0, vmin=0, vmax=0.3)\n",
      "plt.gray()"
     ],
     "language": "python",
     "metadata": {},
     "outputs": []
    },
    {
     "cell_type": "code",
     "collapsed": false,
     "input": [
      "# Reproject NCEP/SeaWinds onto ASAR interpolating\n",
      "wind.reproject(n, eResampleAlg=3)"
     ],
     "language": "python",
     "metadata": {},
     "outputs": []
    },
    {
     "cell_type": "raw",
     "metadata": {},
     "source": [
      "wantedDate = datetime.datetime( int(fileName[14:18]), int(fileName[18:20]), int(fileName[20:22]), int(fileName[23:25]), int(fileName[25:27]) )\n",
      "refDate = datetime.datetime(1978,1,1,0,0,0)\n",
      "time = wind.bands()[1]['NETCDF_DIMENSION_time']\n",
      "time = [int(time), int(time) + 6, int(time) + 12, int(time) + 18]\n",
      "\n",
      "# Find which date fits us best\n",
      "resolution = [ datetime.timedelta(hours=0), datetime.timedelta(hours=6), \\\n",
      "            datetime.timedelta(hours=12), datetime.timedelta(hours=18) ]\n",
      "roundTime = datetime.timedelta(seconds=wantedDate.second,\\\n",
      "                    minutes=wantedDate.minute, hours=wantedDate.hour)\n",
      "closestTime = sorted(resolution, key=lambda t: abs(roundTime - t))\n",
      "t = closestTime.index(min(closestTime))\n",
      "closestTime = refDate + datetime.timedelta(hours=int(time[t]))\n",
      "print \"Closest time: \", closestTime\n",
      "\n",
      "u = wind[t]\n",
      "v = wind[t+4]\n",
      "w = sqrt(u**2+ v**2)"
     ]
    },
    {
     "cell_type": "code",
     "collapsed": false,
     "input": [
      "u = wind[1]\n",
      "v = wind[2]\n",
      "w = wind[3]\n",
      "windDir = wind[4]"
     ],
     "language": "python",
     "metadata": {},
     "outputs": []
    },
    {
     "cell_type": "code",
     "collapsed": false,
     "input": [
      "plt.close('all')\n",
      "plt.imshow(w, vmin=3, vmax=21)\n",
      "plt.jet()\n",
      "plt.colorbar()"
     ],
     "language": "python",
     "metadata": {},
     "outputs": []
    },
    {
     "cell_type": "code",
     "collapsed": false,
     "input": [
      "# Reproject Wind onto ASAR without interpolation to show how worse is NCEP resolution\n",
      "wind.reproject(n)\n",
      "windW = wind[3]\n",
      "plt.close('all')\n",
      "plt.imshow(windW, vmin=3, vmax=21)\n",
      "plt.jet()\n",
      "plt.colorbar()"
     ],
     "language": "python",
     "metadata": {},
     "outputs": []
    },
    {
     "cell_type": "heading",
     "level": 1,
     "metadata": {},
     "source": [
      "NB! WINDDIR = 0 WHEN WIND BLOWS TOWARDS RADAR! CHECK IF CORRECT!!!"
     ]
    },
    {
     "cell_type": "raw",
     "metadata": {},
     "source": [
      "samples = sigma0\n",
      "samples = append(samples, samples[-14:], 0)\n",
      "samples = append(samples[-14:], samples, 0)\n",
      "print samples.shape\n",
      "print samples[14:-14].shape\n",
      "from scipy.signal import wiener, medfilt2d\n",
      "from numpy import append\n",
      "\n",
      "def lee_filter(samples):\n",
      "    Sz = 7\n",
      "    # append lines to array before filtering\n",
      "    samples = append(samples, samples[-Sz*1:], 0)\n",
      "    samples = append(samples[-Sz*1:], samples, 0)\n",
      "    # apply filter\n",
      "    filtered_samples = wiener(samples, (Sz,Sz))\n",
      "    #filtered_samples = medfilt2d(samples, Sz)\n",
      "    \n",
      "    # removing the appended lines after filtering\n",
      "    filtered_samples = filtered_samples[Sz*1:-Sz*1]\n",
      "    return filtered_samples\n",
      "\n",
      "from numpy import array_split, concatenate\n",
      "from multiprocessing import cpu_count, Pool\n",
      "from time import time\n",
      "\n",
      "currtime = time()\n",
      "\n",
      "samples = sigma0\n",
      "Sz = (7,7)\n",
      "nprocs = cpu_count()-2\n",
      "\n",
      "# Split samples in no. of processor subarrays\n",
      "samples_list = array_split(samples, nprocs)\n",
      "worker_pool = Pool(processes=nprocs)\n",
      "results = worker_pool.map(lee_filter, samples_list)\n",
      "filtered_samples = concatenate(results).astype(samples.dtype)\n",
      "worker_pool.close()\n",
      "worker_pool.join()\n",
      "print \"Filtered samples shape \", shape(filtered_samples)\n",
      "print 'time elapsed: %f', ( time() - currtime )\n",
      "\n",
      "plt.close('all')\n",
      "plt.figure(figsize=(28,26))\n",
      "plt.imshow(10*log10(filtered_samples), vmin=-18, vmax=-15)\n",
      "plt.gray()\n",
      "\n",
      "plt.figure()\n",
      "plt.axis([400, 1180, -18, -15])\n",
      "plt.plot(10*log10(filtered_samples[:,3733]))"
     ]
    },
    {
     "cell_type": "code",
     "collapsed": false,
     "input": [
      "from scipy.signal import wiener\n",
      "\n",
      "sigma0w = wiener(sigma0, mysize=(7,7), noise=None)"
     ],
     "language": "python",
     "metadata": {},
     "outputs": []
    },
    {
     "cell_type": "code",
     "collapsed": false,
     "input": [
      "import cmod\n",
      "reload(cmod)\n",
      "from cmod import rcs2windPar, rcs2wind\n",
      "\n",
      "# Check that cmod4 works fine\n",
      "# testing that with sar=-0.387 wind speed is 10m/s\n",
      "test = rcs2windPar(sar=-0.387*ones((1,1)), cmdv=4, windir=0*ones((1,1)), theta=20*ones((1,1)))\n",
      "print \"Testing CMOD4 passed, Wind =\", test"
     ],
     "language": "python",
     "metadata": {},
     "outputs": []
    },
    {
     "cell_type": "code",
     "collapsed": false,
     "input": [
      "#~ NICE image (roughness)\n",
      "pol = n.bands()[3]['polarization']\n",
      "if pol == 'HH':\n",
      "    ph = (2.20495, -14.3561e-2, 11.28e-4)\n",
      "    sigma0_hh_ref = exp( ( ph[0]+inc_angle*ph[1]+inc_angle**2*ph[2])*log(10) )\n",
      "    roughness = sigma0w/sigma0_hh_ref\n",
      "elif pol == 'VV':\n",
      "    pv = (2.29373, -15.393e-2, 15.1762e-4)\n",
      "    sigma0_vv_ref = exp( ( pv[0]+inc_angle*pv[1]+inc_angle**2*pv[2])*log(10) )\n",
      "    roughness = sigma0w/sigma0_vv_ref"
     ],
     "language": "python",
     "metadata": {},
     "outputs": []
    },
    {
     "cell_type": "code",
     "collapsed": false,
     "input": [
      "scale = 1\n",
      "sigma0wCrop = 10*log10(sigma0w[::scale,::scale])"
     ],
     "language": "python",
     "metadata": {},
     "outputs": []
    },
    {
     "cell_type": "code",
     "collapsed": false,
     "input": [
      "# Pixel resolution\n",
      "lons, lats = n.get_corners()\n",
      "pxlRes = array(distancelib.getPixelResolution(array(lats), array(lons), n.shape(), 'km'))*1000\n",
      "pxlRes = pxlRes*scale\n",
      "\n",
      "print pxlRes"
     ],
     "language": "python",
     "metadata": {},
     "outputs": []
    },
    {
     "cell_type": "code",
     "collapsed": false,
     "input": [
      "# before we took only one line, not the whole array, for cmod we use same size array\n",
      "inc_angle = n[2]\n",
      "for ind in xrange(1,len(inc_angle)):\n",
      "    inc_angle[ind] = inc_angle[0]\n",
      "inc_angle = inc_angle[::scale,::scale]"
     ],
     "language": "python",
     "metadata": {},
     "outputs": []
    },
    {
     "cell_type": "code",
     "collapsed": false,
     "input": [
      "#NB! WINDDIR = 0 WHEN WIND BLOWS TOWARDS RADAR!\n",
      "wDrel = 90 + n.upwards_azimuth_direction() - windDir[::scale,::scale]\n",
      "try:\n",
      "    wPar = rcs2windPar(sigma0wCrop, cmdv=4, windir=wDrel, theta=inc_angle, nprocs=8)\n",
      "except Exception:\n",
      "    wPar = rcs2wind(sigma0wCrop, cmdv=4, windir=wDrel, theta=inc_angle)\n",
      "print \"Testing CMOD4 passed, Wind =\", wPar.mean()"
     ],
     "language": "python",
     "metadata": {},
     "outputs": []
    },
    {
     "cell_type": "code",
     "collapsed": false,
     "input": [
      "# For plotting correct quiver\n",
      "if n.upwards_azimuth_direction() < 200:\n",
      "    v = v\n",
      "else:\n",
      "    v = -v"
     ],
     "language": "python",
     "metadata": {},
     "outputs": []
    },
    {
     "cell_type": "code",
     "collapsed": false,
     "input": [
      "X,Y = meshgrid( arange(0,windW.shape[1]),arange(0,windW.shape[0]) )\n",
      "plt.close('all')\n",
      "plt.figure(figsize=(16,4))\n",
      "plt.subplot(221)\n",
      "plt.imshow(wPar, vmin=1, vmax=12)\n",
      "plt.jet()\n",
      "plt.colorbar()\n",
      "plt.subplot(222)\n",
      "plt.imshow(windW[::scale,::scale], vmin=1, vmax=12)\n",
      "plt.jet()\n",
      "plt.colorbar()\n",
      "plt.hold(True)\n",
      "plt.quiver(X[::33,::33],Y[::33,::33],u[::scale*33,::scale*33],v[::scale*33,::scale*33])\n",
      "plt.subplot(223)\n",
      "plt.imshow(sigma0wCrop, vmin=-20, vmax=0)\n",
      "plt.gray()\n",
      "plt.colorbar()\n",
      "plt.subplot(224)\n",
      "plt.imshow(roughness[::scale,::scale], vmin=0, vmax=2)\n",
      "plt.gray()\n",
      "plt.colorbar()\n",
      "plt.show()"
     ],
     "language": "python",
     "metadata": {},
     "outputs": []
    },
    {
     "cell_type": "code",
     "collapsed": false,
     "input": [],
     "language": "python",
     "metadata": {},
     "outputs": []
    },
    {
     "cell_type": "code",
     "collapsed": false,
     "input": [],
     "language": "python",
     "metadata": {},
     "outputs": []
    },
    {
     "cell_type": "code",
     "collapsed": false,
     "input": [
      "n1 = Nansat(n.vrt.fileName)\n",
      "n1.fileName = n.fileName"
     ],
     "language": "python",
     "metadata": {},
     "outputs": [],
     "prompt_number": 53
    },
    {
     "cell_type": "code",
     "collapsed": false,
     "input": [
      "#~ Create new band\n",
      "#GDALDataType { \n",
      "#  GDT_Unknown = 0, GDT_Byte = 1, GDT_UInt16 = 2, GDT_Int16 = 3, \n",
      "#  GDT_UInt32 = 4, GDT_Int32 = 5, GDT_Float32 = 6, GDT_Float64 = 7, \n",
      "#  GDT_CInt16 = 8, GDT_CInt32 = 9, GDT_CFloat32 = 10, GDT_CFloat64 = 11, \n",
      "#  GDT_TypeCount = 12 \n",
      "#}\n",
      "n1.add_band(bandID=6, array=roughness, \\\n",
      "   parameters={'name':'roughness', \\\n",
      "   'wkv': 'surface_roughness', \\\n",
      "   'dataType': 7, 'minmax': '0 2'})\n",
      "\n",
      "n1.add_band(bandID=7, array=sigma0w, \\\n",
      "   parameters={'name':'sigma0', \\\n",
      "   'wkv': 'surface_backwards_scattering_coefficient_of_radar_wave', \\\n",
      "   'dataType': 7, 'minmax': '-20 0'})\n",
      "\n",
      "n1.add_band(bandID=8, array=wPar, \\\n",
      "   parameters={'name':'wind_speed', \\\n",
      "   'wkv': 'surface_wind_speed_reconstructed_with_CMOD4', \\\n",
      "   'dataType': 7, 'minmax': '0 20', 'colormap': 'jet'})\n",
      "\n",
      "n1.add_band(bandID=9, array=windW, \\\n",
      "   parameters={'name':'wind_speed', \\\n",
      "   'wkv': 'surface_wind_speed_NCEP_GFS', \\\n",
      "   'dataType': 7, 'minmax': '0 20', 'colormap': 'jet'})"
     ],
     "language": "python",
     "metadata": {},
     "outputs": []
    },
    {
     "cell_type": "code",
     "collapsed": false,
     "input": [],
     "language": "python",
     "metadata": {},
     "outputs": []
    },
    {
     "cell_type": "code",
     "collapsed": false,
     "input": [
      "ww = n1[8]"
     ],
     "language": "python",
     "metadata": {},
     "outputs": []
    },
    {
     "cell_type": "code",
     "collapsed": false,
     "input": [
      "plt.close('all')\n",
      "plt.imshow(ww)\n",
      "plt.colorbar()\n",
      "plt.jet()\n",
      "plt.clim([0, 20])"
     ],
     "language": "python",
     "metadata": {},
     "outputs": []
    },
    {
     "cell_type": "code",
     "collapsed": false,
     "input": [
      "wm = n1.watermask(mod44path='/media/SOLabNFS/store/auxdata/coastline/mod44w/')\n",
      "wmArray = wm[1]\n",
      "n1.write_figure(True, bands=[8], \\\n",
      "                 mask_array=wmArray, mask_lut={0: [0,0,0]},\n",
      "                 clim=[0,20], cmapName='jet', transparency=[0,0,0]) # 5."
     ],
     "language": "python",
     "metadata": {},
     "outputs": []
    },
    {
     "cell_type": "code",
     "collapsed": false,
     "input": [
      "n1.export_band(oPath+fileName+'.nc', bandID=6)"
     ],
     "language": "python",
     "metadata": {},
     "outputs": []
    },
    {
     "cell_type": "code",
     "collapsed": false,
     "input": [
      "wm = n1.watermask(mod44path='/media/SOLabNFS/store/auxdata/coastline/mod44w/')\n",
      "wmArray = wm[1]\n",
      "n1.write_figure(fileName=oPath+fileName+'_wind_cmod4.tif', bands=[8], \\\n",
      "                 mask_array=wmArray, mask_lut={0: [0,0,0]},\n",
      "                 clim=[0,20], cmapName='jet', transparency=[0,0,0]) # 5."
     ],
     "language": "python",
     "metadata": {},
     "outputs": []
    },
    {
     "cell_type": "code",
     "collapsed": true,
     "input": [
      "# Cleaning\n",
      "del roughness, sigma0, inc_angle, windDir, u, v, w"
     ],
     "language": "python",
     "metadata": {},
     "outputs": []
    },
    {
     "cell_type": "code",
     "collapsed": false,
     "input": [
      "# Reproject image into Lat/Lon WGS84 (Simple Cylindrical) projection\n",
      "# 1. Cancel previous reprojection\n",
      "# 2. Get corners of the image and the pixel resolution\n",
      "# 3. Create Domain with projection\n",
      "# 4. Reproject\n",
      "# 5. Write image\n",
      "n1.reproject() # 1.\n",
      "#lons, lats = n.get_corners() # 2.\n",
      "# Pixel resolution\n",
      "#~ pxlRes = distancelib.getPixelResolution(array(lats), array(lons), n.shape())\n",
      "#~ pxlRes = array(pxlRes)*360/40000 # great circle distance\n",
      "pxlRes = array(distancelib.getPixelResolution(array(lats), array(lons), n1.shape(), 'km'))*1000\n",
      "\n",
      "pxlRes = pxlRes*7 # make the resolution worser\n",
      "\n",
      "srsString = 3413\n",
      "srsString = 3426\n",
      "#srsString = \"+proj=latlong +datum=WGS84 +ellps=WGS84 +no_defs\"\n",
      "#extentString = '-lle %f %f %f %f -ts 3000 3000' % (min(lons), min(lats), max(lons), max(lats))\n",
      "#extentString = '-lle %f %f %f %f -tr %f %f' % (min(lons), min(lats), \\\n",
      "#                max(lons), max(lats), pxlRes[1], pxlRes[0])\n",
      "extentString = '-lle %f %f %f %f -tr %f %f' % (min(lonlim), min(latlim), \\\n",
      "                max(lonlim), max(latlim), pxlRes[1], pxlRes[0])\n",
      "d = Domain(srs=srsString, ext=extentString) # 3.\n",
      "n1.reproject(d) # 4."
     ],
     "language": "python",
     "metadata": {},
     "outputs": []
    },
    {
     "cell_type": "code",
     "collapsed": true,
     "input": [
      "# write one band to GeoTIFF for geoserver using write_figure method\n",
      "wm = n1.watermask(mod44path='/media/SOLabNFS/store/auxdata/coastline/mod44w/')\n",
      "wmArray = wm[1]\n",
      "\n",
      "n1.write_figure(fileName=oPath+fileName+'_roughness.tif', bands=[4], \\\n",
      "                 mask_array=wmArray, mask_lut={0: [0,0,0]},\n",
      "                 clim=[0,2], cmapName='gray', transparency=[0,0,0]) # 5.\n",
      "\n",
      "n1.write_figure(fileName=oPath+fileName+'_sigma0.tif', bands=[5], \\\n",
      "                 mask_array=wmArray, mask_lut={0: [0,0,0]},\n",
      "                 clim=[-20,0], cmapName='gray', transparency=[0,0,0]) # 5.\n",
      "\n",
      "n1.write_figure(fileName=oPath+fileName+'_wind_cmod4.tif', bands=[6], \\\n",
      "                 mask_array=wmArray, mask_lut={0: [0,0,0]},\n",
      "                 clim=[0,20], cmapName='jet', transparency=[0,0,0]) # 5.\n",
      "\n",
      "n1.write_figure(fileName=oPath+fileName+'_wind_ncep.tif', bands=[7], \\\n",
      "                 mask_array=wmArray, mask_lut={0: [0,0,0]},\n",
      "                 clim=[0,20], cmapName='jet', transparency=[0,0,0]) # 5."
     ],
     "language": "python",
     "metadata": {},
     "outputs": []
    },
    {
     "cell_type": "code",
     "collapsed": false,
     "input": [
      "# read the GeoTIFF image and save it with GDAL using LZW compression\n",
      "fns = oPath+fileName+'_roughness.tif', oPath+fileName+'_sigma0.tif', \\\n",
      "      oPath+fileName+'_wind_cmod4.tif', oPath+fileName+'_wind_ncep.tif'\n",
      "\n",
      "for fn in fns:\n",
      "    dataset = gdal.Open(fn, gdal.GA_ReadOnly)\n",
      "    band = dataset.GetRasterBand(1)\n",
      "    z = band.ReadAsArray()\n",
      "    # Write out the LZW GeoTIFF \n",
      "    out = gdal.GetDriverByName('Gtiff').Create(fn,\n",
      "                                                              band.XSize,\n",
      "                                                              band.YSize, 1,\n",
      "                                                              gdal.GDT_Byte,\n",
      "                                                              ['COMPRESS=LZW'])\n",
      "    out.GetRasterBand(1).WriteArray(z)\n",
      "    out = None\n",
      "    n.vrt.copyproj(fn)"
     ],
     "language": "python",
     "metadata": {},
     "outputs": []
    },
    {
     "cell_type": "code",
     "collapsed": false,
     "input": [
      "ncep.reproject(n)\n",
      "\n",
      "u = ncep[1]\n",
      "v = ncep[2]\n",
      "w = ncep[3]\n",
      "\n",
      "nMap = Nansatmap(n, resolution='h')\n",
      "# pseudo-color plot over the map\n",
      "nMap.pcolormesh(w)\n",
      "# quiver plot\n",
      "nMap.quiver(u, v, quivectors=20)\n",
      "nMap.save(oPath+fileName+'pcolormesh_quiver.png')"
     ],
     "language": "python",
     "metadata": {},
     "outputs": []
    },
    {
     "cell_type": "code",
     "collapsed": false,
     "input": [
      "dpiRes = 300\n",
      "f = array(n.shape())/dpiRes\n",
      "ncep.write_nansatmap(oPath+fileName+'pcolormesh_quiver.png', mesh=w, quiver=[u,v], cmap='jet', vmin=0, vmax=20, quivectors=15, resolution='i', landmask=True, color='w', figsize=(f[0],f[1]), dpi=dpiRes)"
     ],
     "language": "python",
     "metadata": {},
     "outputs": []
    },
    {
     "cell_type": "code",
     "collapsed": false,
     "input": [
      "# export all data into NetCDF format\n",
      "n.export(oPath + fileName + '1.nc', driver='netCDF')"
     ],
     "language": "python",
     "metadata": {},
     "outputs": []
    },
    {
     "cell_type": "code",
     "collapsed": false,
     "input": [
      "from scipy.io import savemat\n",
      "from scipy.io import loadmat"
     ],
     "language": "python",
     "metadata": {},
     "outputs": []
    },
    {
     "cell_type": "markdown",
     "metadata": {},
     "source": [
      "Exporting to `.mat` file"
     ]
    },
    {
     "cell_type": "code",
     "collapsed": false,
     "input": [
      "if not path.isfile(oPath + fileName + '.mat'):\n",
      "    print \"Exporting to:\\n\" , oPath + fileName + '.mat'\n",
      "    savemat(oPath + fileName + '.mat', mdict={ \\\n",
      "            'dist':dist, \\\n",
      "            'VVtrans':VVtrans, \\\n",
      "            'PRtrans':PRtrans, \\\n",
      "            'PDtrans':PDtrans, \\\n",
      "            'Wbtrans':SigmaWbtrans, \\\n",
      "            }, do_compression=False)"
     ],
     "language": "python",
     "metadata": {},
     "outputs": []
    }
   ],
   "metadata": {}
  }
 ]
}