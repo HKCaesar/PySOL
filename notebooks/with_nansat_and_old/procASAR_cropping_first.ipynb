{
 "metadata": {
  "name": ""
 },
 "nbformat": 3,
 "nbformat_minor": 0,
 "worksheets": [
  {
   "cells": [
    {
     "cell_type": "heading",
     "level": 1,
     "metadata": {},
     "source": [
      "TODO:"
     ]
    },
    {
     "cell_type": "raw",
     "metadata": {},
     "source": [
      "1. When exporting wind mask zeros with NaN\n",
      "2. Make headers and TOC for easier navigation"
     ]
    },
    {
     "cell_type": "heading",
     "level": 1,
     "metadata": {},
     "source": [
      "\u041e\u0431\u0440\u0430\u0431\u043e\u0442\u043a\u0430 ASAR \u0438\u0437\u043e\u0431\u0440\u0430\u0436\u0435\u043d\u0438\u0439"
     ]
    },
    {
     "cell_type": "markdown",
     "metadata": {},
     "source": [
      "\u0421\u043a\u0440\u0438\u043f\u0442 \u0434\u043b\u044f \u0440\u0430\u0441\u0447\u0435\u0442\u0430 \u0441\u043a\u043e\u0440\u043e\u0441\u0442\u0438 \u0432\u0435\u0442\u0440\u0430 ... \u0431\u043b\u0430 \u0431\u043b\u0430 \u0431\u043b\u0430"
     ]
    },
    {
     "cell_type": "heading",
     "level": 2,
     "metadata": {},
     "source": [
      "\u0421\u043e\u0434\u0435\u0440\u0436\u0430\u043d\u0438\u0435:"
     ]
    },
    {
     "cell_type": "code",
     "collapsed": false,
     "input": [
      "#~ import matplotlib.pyplot as plt\n",
      "#~ from scipy.io import savemat\n",
      "import logging\n",
      "\n",
      "import Image\n",
      "\n",
      "from nansat import Nansat\n",
      "from domain import Domain\n",
      "\n",
      "import distancelib\n",
      "from numpy import deg2rad, array, sin, exp, log\n",
      "\n",
      "from osgeo import gdal, ogr\n",
      "\n",
      "import os, sys, getopt\n",
      "\n",
      "import gc\n",
      "\n",
      "from cmod_vect import rcs2windPar, rcs2wind\n",
      "from scipy.signal import wiener"
     ],
     "language": "python",
     "metadata": {},
     "outputs": [],
     "prompt_number": 1
    },
    {
     "cell_type": "heading",
     "level": 2,
     "metadata": {},
     "source": [
      "\u0418\u0441\u043f\u043e\u043b\u044c\u0437\u0443\u0435\u043c\u044b\u0435 \u0444\u0443\u043d\u043a\u0446\u0438\u0438"
     ]
    },
    {
     "cell_type": "heading",
     "level": 3,
     "metadata": {},
     "source": [
      "\u041e\u043f\u0440\u0435\u0434\u0435\u043b\u0435\u043d\u0438\u0435 \u043d\u0430\u043f\u0440\u0430\u0432\u043b\u0435\u043d\u0438\u044f \u0432\u0435\u0442\u0440\u0430 \u043f\u043e \u043a\u043e\u043c\u043f\u043e\u043d\u0435\u043d\u0442\u0430\u043c \u0441\u043a\u043e\u0440\u043e\u0441\u0442\u0438 \u0432\u0435\u0442\u0440\u0430"
     ]
    },
    {
     "cell_type": "code",
     "collapsed": false,
     "input": [
      "def windDirection(U, V):\n",
      "    if U >= 0 and V > 0: direction = ((180 / pi) * atan(abs(U / V)) + 180)\n",
      "    if U < 0 and V > 0: direction = (-(180 / pi) * atan(abs(U / V)) + 180)\n",
      "    if U >= 0 and V < 0: direction = (-(180 / pi) * atan(abs(U / V)) + 360)\n",
      "    if U < 0 and V < 0: direction = ((180 / pi) * atan(abs(U / V)))\n",
      "    if V == 0 and U > 0: direction = 270\n",
      "    if V == 0 and U < 0: direction = 90\n",
      "    if V == 0 and U == 0: direction = 0\n",
      "    return direction"
     ],
     "language": "python",
     "metadata": {},
     "outputs": [],
     "prompt_number": 2
    },
    {
     "cell_type": "heading",
     "level": 3,
     "metadata": {},
     "source": [
      "\u0424\u0443\u043d\u043a\u0446\u0438\u044f \u0434\u043b\u044f \u043e\u043f\u0440\u0435\u0434\u0435\u043b\u0435\u043d\u0438\u044f \u043f\u043e\u043f\u0430\u0434\u0430\u043d\u0438\u044f \u0438\u0437\u043e\u0431\u0440\u0430\u0436\u0435\u043d\u0438\u044f \u043d\u0430 \u0437\u0430\u0434\u0430\u043d\u043d\u0443\u044e \u043e\u0431\u043b\u0430\u0441\u0442\u044c"
     ]
    },
    {
     "cell_type": "code",
     "collapsed": false,
     "input": [
      "def overlap(n, lonlim, latlim):\n",
      "    \"\"\"\n",
      "    Returns True if Nansat object overlaps given area,\n",
      "    otherwise raise Exception 'NO region Overlap'.    \n",
      "\n",
      "    Parameters\n",
      "    ----------\n",
      "    n : Nansat object\n",
      "       \n",
      "    lonlim : numpy array\n",
      "        min and max longitude of area's border.\n",
      "\n",
      "    latlim: numpy array\n",
      "        min and max latitude of area's border.\n",
      "\n",
      "     Returns\n",
      "    -------\n",
      "    TRUE if they are overlapping, otherwise raise\n",
      "    Exception 'NO region Overlap'.\n",
      "    \"\"\"\n",
      "    lonlim1 = numpy.append(sort(lonlim), sort(lonlim)[::-1])\n",
      "    latlim1 = numpy.array([latlim.min(), latlim.min(), latlim.max(), latlim.max()])\n",
      "    lim = zip(lonlim1, latlim1)\n",
      "    lim = ['%f' % x + ' ' + '%f' % y for x, y in lim]\n",
      "    lim.append(lim[0])\n",
      "    my_border = (', ').join(lim)\n",
      "    wkt1 = 'POLYGON((' + my_border + '))'\n",
      "    wkt2 = n.get_border_polygon().split(\"('\")[1][:-2]\n",
      "    poly1 = ogr.CreateGeometryFromWkt(wkt1)\n",
      "    poly2 = ogr.CreateGeometryFromWkt(wkt2)\n",
      "    intersection = poly1.Overlaps(poly2)\n",
      "    if not intersection:\n",
      "        raise Exception('NO region Overlap')\n",
      "    else:\n",
      "        return intersection"
     ],
     "language": "python",
     "metadata": {},
     "outputs": [],
     "prompt_number": 3
    },
    {
     "cell_type": "heading",
     "level": 3,
     "metadata": {},
     "source": [
      "\u0418\u043c\u0435\u043d\u0430 \u0432\u044b\u0445\u043e\u0434\u043d\u044b\u0445 \u0444\u0430\u0439\u043b\u043e\u0432"
     ]
    },
    {
     "cell_type": "markdown",
     "metadata": {},
     "source": [
      "- \u0437\u0430\u0434\u0430\u0435\u043c \u0438\u043c\u0435\u043d\u0430 \u0432\u044b\u0445\u043e\u0434\u043d\u044b\u0445 \u0444\u0430\u0439\u043b\u043e\u0432 \n",
      "- \u0441\u043e\u0437\u0434\u0430\u0435\u043c \u0434\u043b\u044f \u043d\u0438\u0445 \u043f\u0430\u043f\u043a\u0443 \n",
      "- \u0435\u0441\u043b\u0438 \u0444\u0430\u0439\u043b\u044b \u0443\u0436\u0435 \u0431\u044b\u043b\u0438 \u043e\u0431\u0440\u0430\u0431\u043e\u0442\u0430\u043d\u044b, \u0432\u044b\u0437\u044b\u0432\u0430\u0435\u043c \u0438\u0441\u043a\u043b\u044e\u0447\u0435\u043d\u0438\u0435 Exception('already processed')"
     ]
    },
    {
     "cell_type": "code",
     "collapsed": false,
     "input": [
      "def set_name_of_files(fileName, oPath):\n",
      "    figureName = oPath + fileName[0:27] + '/' + fileName + '_proj.png'\n",
      "    figureNameWind = oPath + fileName[0:27] + '/' + fileName + '_wind_proj.png'\n",
      "    figureNameTiff = oPath + fileName[0:27] + '/' + fileName + '.tif'\n",
      "    figureNameNetCDF = oPath + fileName[0:27] + '/' + fileName + '.nc'\n",
      "    kmlName = oPath + fileName[0:27] + '/' + fileName + '.kml'\n",
      "    kmlNameWind = oPath + fileName[0:27] + '/' + fileName + '_wind.kml'\n",
      "    \n",
      "    if os.path.isfile(kmlName):\n",
      "        logger.info('%s already processed', fileName)\n",
      "        raise Exception('already processed')\n",
      "    \n",
      "    else:\n",
      "        logger.info('%s', fileName)        \n",
      "        \n",
      "        return figureName, figureNameWind, figureNameTiff, figureNameNetCDF, kmlName, kmlNameWind\n",
      "        "
     ],
     "language": "python",
     "metadata": {},
     "outputs": [],
     "prompt_number": 4
    },
    {
     "cell_type": "heading",
     "level": 3,
     "metadata": {},
     "source": []
    },
    {
     "cell_type": "code",
     "collapsed": false,
     "input": [
      "def create_Nansat(ifileName):\n",
      "    try:\n",
      "        n = Nansat(ifileName, mapperName='asar')\n",
      "        return n\n",
      "    except Exception as e:\n",
      "        print \"Failed to create Nansat object:\"\n",
      "        raise e"
     ],
     "language": "python",
     "metadata": {},
     "outputs": [],
     "prompt_number": 5
    },
    {
     "cell_type": "code",
     "collapsed": false,
     "input": [
      "def reproject(n,lonlim=None,latlim=None):\n",
      "    \"\"\"\n",
      "     Reprojected image into Lat/Lon WGS84 (Simple Cylindrical) projection\n",
      "     1. Cancel previous reprojection\n",
      "     2. Get corners of the image and the pixel resolution\n",
      "     3. Create Domain with projection, corner coordinates and resolution 1000m\n",
      "     4. Reproject\n",
      "     5. Write image\n",
      "     \n",
      "     Parameters\n",
      "    ----------\n",
      "    n : Nansat object\n",
      "       \n",
      "    lonlim : numpy array\n",
      "        min and max longitude of area's border.\n",
      "\n",
      "    latlim: numpy array\n",
      "        min and max latitude of area's border.\n",
      "\n",
      "     Returns\n",
      "    -------\n",
      "    n: Nansat object\n",
      "        reprojected Nansat object.\n",
      "    \"\"\"\n",
      "\n",
      "    n.reproject() # 1.\n",
      "    lons, lats = n.get_corners() # 2.\n",
      "    pxlRes = distancelib.getPixelResolution(array(lats), array(lons), n.shape(), units=\"deg\")\n",
      "    #pxlRes = array((double(0.75*360)/40000,double(0.75*360)/40000)) # about 75m resolution\n",
      "    srsString = \"+proj=latlong +datum=WGS84 +ellps=WGS84 +no_defs\"\n",
      "    extentString = '-lle %f %f %f %f -tr %f %f' % (min(lonlim), min(latlim), \\\n",
      "                    max(lonlim), max(latlim), pxlRes[1], pxlRes[0])\n",
      "    #d = Domain(lon=lon,lat=lat, ds = n.vrt.dataset)\n",
      "    d = Domain(srs=srsString, ext=extentString) # 3.\n",
      "    #d = Domain(srs=srsString, ds = n.vrt.dataset)\n",
      "    # Use for faster and correct reprojection especially in Polar regions. Needs GCPs!!! and doesn't use epsg Numbering\n",
      "    #n.reproject_GCPs(srsString)\n",
      "    #n.reproject(d, tps=True) # 4.\n",
      "    n.reproject(d)\n",
      "    return n"
     ],
     "language": "python",
     "metadata": {},
     "outputs": [],
     "prompt_number": 6
    },
    {
     "cell_type": "code",
     "collapsed": false,
     "input": [
      "def get_bands(n):\n",
      "    try:\n",
      "        inc_angle = n[2] \n",
      "        sigma0 = n[3]\n",
      "        return inc_angle, sigma0\n",
      "    except Exception as e:\n",
      "        raise e   "
     ],
     "language": "python",
     "metadata": {},
     "outputs": [],
     "prompt_number": 7
    },
    {
     "cell_type": "code",
     "collapsed": false,
     "input": [
      "def roughness_calc(pol, inc_angle, sigma0):\n",
      "    if pol == 'HH':\n",
      "        ph = (2.20495, -14.3561e-2, 11.28e-4)\n",
      "        sigma0_hh_ref = exp( ( ph[0]+inc_angle*ph[1]+inc_angle**2*ph[2])*log(10) )\n",
      "        roughness = sigma0/sigma0_hh_ref\n",
      "    elif pol == 'VV':\n",
      "        pv = (2.29373, -15.393e-2, 15.1762e-4)\n",
      "        sigma0_vv_ref = exp( ( pv[0]+inc_angle*pv[1]+inc_angle**2*pv[2])*log(10) )\n",
      "        roughness = sigma0/sigma0_vv_ref\n",
      "    return roughness"
     ],
     "language": "python",
     "metadata": {},
     "outputs": [],
     "prompt_number": 8
    },
    {
     "cell_type": "code",
     "collapsed": false,
     "input": [
      "def wind_direction_estimation(fileName, n,\n",
      "                              ncepPath = '/media/SOLabNFS2/store/model/ncep/gfs/',\n",
      "                              swPath = '/media/SOLabNFS/store/satellite/seawinds/SI/uv/6hrly/netcdf/2000s/'\n",
      "                              ):\n",
      "    # find the ncep gfs filename to open from ASAR filename\n",
      "    hr = float(fileName[23:25]) + float(fileName[25:27])/60\n",
      "    baseHour = floor((hr+3/2)/6)*6\n",
      "    baseHour = min(18, baseHour)\n",
      "    if hr-baseHour>1.5:\n",
      "        forecastHour = 3\n",
      "    else:\n",
      "        forecastHour = 0\n",
      "    ncepFileName = 'gfs' + fileName[14:22] + '/gfs.t' + '%.2d' %(baseHour) + 'z.master.grbf' + '%.2d' %(forecastHour)\n",
      "    # try to create Nansat object\n",
      "    try:\n",
      "        wind = Nansat(ncepPath + ncepFileName, mapperName='ncep')\n",
      "        # Reproject NCEP/SeaWinds onto ASAR interpolating\n",
      "        wind.reproject(n, eResampleAlg=3)\n",
      "        windDir = wind[4]\n",
      "        return windDir\n",
      "    except:\n",
      "        try:\n",
      "            swFileName = 'uv' + fileName[14:22] + 'rt.nc'\n",
      "            wind = Nansat(swPath + swFileName)\n",
      "            wantedDate = datetime.datetime( int(fileName[14:18]), int(fileName[18:20]), int(fileName[20:22]), int(fileName[23:25]), int(fileName[25:27]) )\n",
      "            refDate = datetime.datetime(1978,1,1,0,0,0)\n",
      "            time = wind.bands()[1]['NETCDF_DIMENSION_time']\n",
      "            time = [int(time), int(time) + 6, int(time) + 12, int(time) + 18]\n",
      "            \n",
      "            # Find which date fits us best\n",
      "            resolution = [ datetime.timedelta(hours=0), datetime.timedelta(hours=6), \\\n",
      "                        datetime.timedelta(hours=12), datetime.timedelta(hours=18) ]\n",
      "            roundTime = datetime.timedelta(seconds=wantedDate.second,\\\n",
      "                                minutes=wantedDate.minute, hours=wantedDate.hour)\n",
      "            closestTime = sorted(resolution, key=lambda t: abs(roundTime - t))\n",
      "            t = closestTime.index(min(closestTime))\n",
      "            closestTime = refDate + datetime.timedelta(hours=int(time[t]))\n",
      "            print \"Closest time: \", closestTime\n",
      "            # Reproject NCEP/SeaWinds onto ASAR interpolating\n",
      "            wind.reproject(n, eResampleAlg=3)\n",
      "            u = wind[t]\n",
      "            v = wind[t+4]\n",
      "            windDir = windDirection(u, v)\n",
      "            return windDir\n",
      "        except Exception as e:\n",
      "            logger.info('NO wind, skipping file')\n",
      "            raise e"
     ],
     "language": "python",
     "metadata": {},
     "outputs": [],
     "prompt_number": 9
    },
    {
     "cell_type": "code",
     "collapsed": false,
     "input": [
      "def wind_speed_calc(sigma0, inc_angle, windDir):\n",
      "    sigma0w = wiener(sigma0, mysize=(7,7), noise=None)\n",
      "    inc_angle = inc_angle\n",
      "\n",
      "    wDrel = 90 + n.upwards_azimuth_direction() - windDir\n",
      "    try:\n",
      "        wPar = rcs2windPar(sigma0w, cmdv=5, windir=wDrel, theta=inc_angle, nprocs=8)\n",
      "    except Exception:\n",
      "        wPar = rcs2wind(sigma0w, cmdv=5, windir=wDrel, theta=inc_angle)\n",
      "    print \"Testing CMOD4 passed, Wind =\", wPar.mean()\n",
      "    return wPar"
     ],
     "language": "python",
     "metadata": {},
     "outputs": [],
     "prompt_number": 10
    },
    {
     "cell_type": "code",
     "collapsed": false,
     "input": [
      "def add_bands(n, roughness, wPar):\n",
      "    n1 = Nansat(n.vrt.fileName)\n",
      "    n1.fileName = n.fileName\n",
      "\n",
      "    n1.add_band(bandID=6, array=roughness, \\\n",
      "       parameters={'name':'roughness', \\\n",
      "       'wkv': 'surface_backwards_scattering_coefficient_of_radar_wave', \\\n",
      "       'dataType': 7, 'minmax': '0 2'})\n",
      "\n",
      "    n1.add_band(bandID=7, array=wPar, \\\n",
      "       parameters={'name':'wind_speed', \\\n",
      "       'wkv': 'surface_wind_speed_reconstructed_with_CMOD4', \\\n",
      "       'dataType': 7, 'minmax': '0 30', 'colormap': 'jet'})\n",
      "    return n1"
     ],
     "language": "python",
     "metadata": {},
     "outputs": [],
     "prompt_number": 11
    },
    {
     "cell_type": "code",
     "collapsed": false,
     "input": [
      "def write_images(n, figureName, figureNameWind, kmlName, kmlNameWind, useMask):\n",
      "    if useMask:\n",
      "        # get array with watermask (landmask) b\n",
      "        # it must be done after reprojection!\n",
      "        # 1. Get Nansat object with watermask\n",
      "        # 2. Get array from Nansat object. 0 - land, 1 - water\n",
      "        wm = n.watermask(mod44path='/media/SOLabNFS/store/auxdata/coastline/mod44w/')\n",
      "        wmArray = wm[1]\n",
      "\n",
      "        #~ \u041e\u0428\u0418\u0411\u041a\u0410 numOfColor=255 \u043d\u0435 \u043c\u0430\u0441\u043a\u0438\u0440\u0443\u0435\u0442, \u043f\u043e\u0442\u043e\u043c\u0443 \u0447\u0442\u043e \u0432 figure.apply_mask: availIndeces = range(self.d['numOfColor'], 255 - 1)\n",
      "        #~ n1.write_figure(fileName=figureName, bands=[3], \\\n",
      "                    #~ numOfColor=255, mask_array=wmArray, mask_lut={0: 0},\n",
      "                    #~ clim=[0,0.15], cmapName='gray', transparency=0) # 5.\n",
      "        try:\n",
      "            n.write_figure(fileName=figureName, bands=[6], \\\n",
      "                            mask_array=wmArray, mask_lut={0: [0,0,0]}, \\\n",
      "                            clim=[0,2], cmapName='gray', transparency=[0,0,0]) # 5.\n",
      "            n.write_figure(fileName=figureNameWind, bands=[7], \\\n",
      "                            mask_array=wmArray, mask_lut={0: [0,0,0]}, \\\n",
      "                            clim=[0,20], cmapName='jet', transparency=[0,0,0]) # 5.\n",
      "        except Exception as e:\n",
      "            raise e\n",
      "    else:\n",
      "        try:\n",
      "            n.write_figure(fileName=figureName, bands=[6], \\\n",
      "                            clim=[0,2], cmapName='gray', transparency=[0,0,0]) # 5.\n",
      "            n.write_figure(fileName=figureNameWind, bands=[7], \\\n",
      "                            clim=[0,20], cmapName='jet', transparency=[0,0,0]) # 5.\n",
      "        except Exception as e:\n",
      "            raise e\n",
      "\n",
      "    # open the input image and convert to RGBA for further tiling with slbtiles\n",
      "    input_img = Image.open(figureName)\n",
      "    output_img = input_img.convert(\"RGBA\")\n",
      "    output_img.save(figureName)\n",
      "\n",
      "    # make KML image\n",
      "    n.write_kml_image(kmlFileName=kmlNameWind, kmlFigureName=figureNameWind.split('/')[-1])\n",
      "    n.write_kml_image(kmlFileName=kmlName, kmlFigureName=figureName.split('/')[-1])\n",
      "    del wmArray"
     ],
     "language": "python",
     "metadata": {},
     "outputs": [],
     "prompt_number": 12
    },
    {
     "cell_type": "code",
     "collapsed": false,
     "input": [
      "def write_geoTIFF(n, figureNameTiff):\n",
      "    # write one band to GeoTIFF for geoserver using write_figure method\n",
      "    wm = n.watermask(mod44path='/media/SOLabNFS/store/auxdata/coastline/mod44w/')\n",
      "    wmArray = wm[1]\n",
      "    n.write_figure(fileName=figureNameTiff, bands=[6], \\\n",
      "                     mask_array=wmArray, mask_lut={0: [0,0,0]},\n",
      "                     clim=[0,2], cmapName='gray', transparency=[0,0,0]) # 5.\n",
      "    \n",
      "    # read the GeoTIFF image and save it with GDAL using LZW compression\n",
      "    dataset = gdal.Open(figureNameTiff, gdal.GA_ReadOnly)\n",
      "    band = dataset.GetRasterBand(1)\n",
      "    z = band.ReadAsArray()\n",
      "    \n",
      "    # Remove tmp nonLZW GeoTIFF\n",
      "    os.remove(figureNameTiff)\n",
      "    \n",
      "    # Write out the LZW GeoTIFF \n",
      "    out = gdal.GetDriverByName('Gtiff').Create(figureNameTiff, \\\n",
      "                                                              band.XSize, \\\n",
      "                                                              band.YSize, 1, \\\n",
      "                                                              gdal.GDT_Byte, \\\n",
      "                                                              ['COMPRESS=LZW'])\n",
      "    out.GetRasterBand(1).WriteArray(z)\n",
      "    out = None\n",
      "    # Add proj param to GeoTIFF\n",
      "    n.vrt.copyproj(figureNameTiff)\n",
      "    del wmArray"
     ],
     "language": "python",
     "metadata": {},
     "outputs": [],
     "prompt_number": 13
    },
    {
     "cell_type": "heading",
     "level": 2,
     "metadata": {},
     "source": []
    },
    {
     "cell_type": "code",
     "collapsed": false,
     "input": [
      "year = '2011'\n",
      "useMask = True"
     ],
     "language": "python",
     "metadata": {},
     "outputs": [],
     "prompt_number": 14
    },
    {
     "cell_type": "code",
     "collapsed": false,
     "input": [
      "# oPath = '/media/SOLabNFS2/tmp/roughness2/' + year + '/'\n",
      "oPath = '/home/mag/' + year + '/'\n",
      "iPath = '/media/SOLabNFS2/store/satellite/asar/' + year + '/'\n",
      "\n",
      "if not os.path.exists(oPath):\n",
      "    os.makedirs(oPath)\n",
      "\n",
      "try:\n",
      "    os.remove(oPath + 'procASAR.log')\n",
      "except:\n",
      "    pass\n",
      "logger = logging.getLogger('procASAR')\n",
      "hdlr = logging.FileHandler(oPath + 'procASAR.log')\n",
      "formatter = logging.Formatter('%(asctime)s %(message)s', datefmt='%m/%d/%Y %I:%M:%S %p')\n",
      "hdlr.setFormatter(formatter)\n",
      "logger.addHandler(hdlr) \n",
      "logger.setLevel(logging.INFO)"
     ],
     "language": "python",
     "metadata": {},
     "outputs": [],
     "prompt_number": 15
    },
    {
     "cell_type": "code",
     "collapsed": false,
     "input": [
      "# baltic sea region for further projection\n",
      "latlim = array((53, 65))\n",
      "lonlim = array((12, 33))\n",
      "\n",
      "# finngulf region for further projection\n",
      "latlim = array((59.2, 60.80))\n",
      "lonlim = array((22.9, 30.3))\n",
      "\n",
      "# nevaguba region for further projection\n",
      "# latlim = array((59.8, 60.25))\n",
      "# lonlim = array((29, 30.3))"
     ],
     "language": "python",
     "metadata": {},
     "outputs": [],
     "prompt_number": 16
    },
    {
     "cell_type": "code",
     "collapsed": false,
     "input": [
      "dirNames=sorted(os.listdir(iPath))[19:90]\n",
      "for dirName in dirNames:\n",
      "    fileNames=[s for s in sorted(os.listdir(iPath+dirName)) if s.endswith('.N1')]\n",
      "    for fileName in fileNames:\n",
      "        \n",
      "        try:\n",
      "            figureName, figureNameWind, figureNameTiff, figureNameNetCDF, kmlName, kmlNameWind = set_name_of_files(fileName, oPath)\n",
      "        except Exception as e:\n",
      "            print str(e)\n",
      "            continue\n",
      "\n",
      "        # try to create Nansat object\n",
      "        try:\n",
      "            n = create_Nansat(iPath + dirName + '/' + fileName)\n",
      "        except Exception as e:\n",
      "            print str(e)\n",
      "            continue\n",
      "\n",
      "        try:\n",
      "            overlap(n, lonlim, latlim)\n",
      "        except Exception as e:\n",
      "            print str(e)\n",
      "            continue\n",
      "            \n",
      "        if not os.path.exists(oPath + fileName[0:27] + '/'):\n",
      "            os.makedirs(oPath + fileName[0:27] + '/')\n",
      "\n",
      "        \n",
      "        # Reproject image on the Lat/Lon WGS84 (Simple Cylindrical) projection and Crop the region\n",
      "        n = reproject(n,lonlim,latlim)\n",
      "\n",
      "        #~ Get the bands\n",
      "        try:\n",
      "            inc_angle, sigma0 = get_bands(n)\n",
      "        except Exception as e:\n",
      "            print str(e)\n",
      "            os.rmdir(oPath + fileName[0:27] + '/' )\n",
      "            continue\n",
      "        \n",
      "        #~ NICE image (roughness)\n",
      "        roughness = roughness_calc(n.bands()[3]['polarization'], inc_angle, sigma0)\n",
      "        \n",
      "        # Wind Estimations\n",
      "        logger.info('Adding wind...')\n",
      "        \n",
      "        try:\n",
      "            windDir = wind_direction_estimation(fileName, n)\n",
      "        except Exception as e:\n",
      "            print str(e)\n",
      "            os.rmdir(oPath + fileName[0:27] + '/' )\n",
      "            continue\n",
      "        \n",
      "        wPar =  wind_speed_calc(sigma0, inc_angle, windDir)\n",
      "\n",
      "        n = add_bands(n, roughness, wPar)\n",
      "\n",
      "        del inc_angle, roughness, wPar, sigma0, windDir\n",
      "\n",
      "        write_images(n, figureName, figureNameWind, kmlName, kmlNameWind, useMask)\n",
      "\n",
      "        write_geoTIFF(n, figureNameTiff)\n",
      "\n",
      "        #~ Change the file permissions\n",
      "        try:\n",
      "            os.chmod(kmlName, 0777)\n",
      "            os.chmod(figureName, 0777)\n",
      "            #os.chmod(figureNameTiff, 0777)\n",
      "            os.chmod(figureNameWind, 0777)\n",
      "            os.chmod(figureNameNetCDF, 0777)\n",
      "            #~ Change the folder permissions\n",
      "            os.chmod(oPath, 0777)\n",
      "            os.chmod(oPath + fileName[0:27] + '/', 0777)\n",
      "        except:\n",
      "            pass\n",
      "\n",
      "        #~ garbage collection\n",
      "        gc.collect()\n",
      "\n",
      "        "
     ],
     "language": "python",
     "metadata": {},
     "outputs": [
      {
       "output_type": "stream",
       "stream": "stderr",
       "text": [
        "INFO:procASAR:ASA_IMM_1PNIPA20110120_090058_000001123098_00352_46487_7914.N1\n"
       ]
      },
      {
       "output_type": "stream",
       "stream": "stderr",
       "text": [
        "/usr/local/lib/python2.7/dist-packages/scipy/ndimage/interpolation.py:532: UserWarning: From scipy 0.13.0, the output shape of zoom() is calculated with round() instead of int() - for these inputs the size of the returned array has changed.\n",
        "  \"the returned array has changed.\", UserWarning)\n",
        "INFO:procASAR:ASA_IMM_1PNPDE20110120_031753_000000383098_00348_46483_3166.N1\n"
       ]
      },
      {
       "output_type": "stream",
       "stream": "stdout",
       "text": [
        "NO region Overlap\n",
        "NO region Overlap"
       ]
      },
      {
       "output_type": "stream",
       "stream": "stderr",
       "text": [
        "INFO:procASAR:ASA_IMM_1PNPDE20110120_034102_000000373098_00349_46484_3161.N1\n"
       ]
      },
      {
       "output_type": "stream",
       "stream": "stdout",
       "text": [
        "\n",
        "NO region Overlap"
       ]
      },
      {
       "output_type": "stream",
       "stream": "stderr",
       "text": [
        "INFO:procASAR:ASA_IMM_1PNPDE20110120_034102_000000373098_00349_46484_3162.N1\n"
       ]
      },
      {
       "output_type": "stream",
       "stream": "stdout",
       "text": [
        "\n",
        "NO region Overlap"
       ]
      },
      {
       "output_type": "stream",
       "stream": "stderr",
       "text": [
        "INFO:procASAR:ASA_IMM_1PNPDE20110120_071621_000004393098_00351_46486_3200.N1\n"
       ]
      },
      {
       "output_type": "stream",
       "stream": "stdout",
       "text": [
        "\n",
        "NO region Overlap"
       ]
      },
      {
       "output_type": "stream",
       "stream": "stderr",
       "text": [
        "INFO:procASAR:ASA_IMM_1PNPDE20110120_085957_000003173098_00352_46487_3227.N1\n"
       ]
      },
      {
       "output_type": "stream",
       "stream": "stdout",
       "text": [
        "\n",
        "NO region Overlap"
       ]
      },
      {
       "output_type": "stream",
       "stream": "stderr",
       "text": [
        "INFO:procASAR:ASA_IMM_1PNPDE20110120_141347_000000373098_00355_46490_3268.N1\n"
       ]
      },
      {
       "output_type": "stream",
       "stream": "stdout",
       "text": [
        "\n",
        "NO region Overlap"
       ]
      },
      {
       "output_type": "stream",
       "stream": "stderr",
       "text": [
        "INFO:procASAR:ASA_IMM_1PNPDE20110120_171119_000000383098_00357_46492_3272.N1\n"
       ]
      },
      {
       "output_type": "stream",
       "stream": "stdout",
       "text": [
        "\n",
        "NO region Overlap"
       ]
      },
      {
       "output_type": "stream",
       "stream": "stderr",
       "text": [
        "INFO:procASAR:ASA_WSM_1PNIPA20110120_201151_000001533098_00359_46494_7919.N1\n"
       ]
      },
      {
       "output_type": "stream",
       "stream": "stdout",
       "text": [
        "\n",
        "NO region Overlap"
       ]
      },
      {
       "output_type": "stream",
       "stream": "stderr",
       "text": [
        "INFO:procASAR:ASA_WSM_1PNPDE20110120_001553_000002083098_00347_46482_3110.N1\n"
       ]
      },
      {
       "output_type": "stream",
       "stream": "stdout",
       "text": [
        "\n",
        "NO region Overlap"
       ]
      },
      {
       "output_type": "stream",
       "stream": "stderr",
       "text": [
        "INFO:procASAR:ASA_WSM_1PNPDE20110120_001956_000002513098_00347_46482_3111.N1\n"
       ]
      },
      {
       "output_type": "stream",
       "stream": "stdout",
       "text": [
        "\n",
        "NO region Overlap"
       ]
      },
      {
       "output_type": "stream",
       "stream": "stderr",
       "text": [
        "INFO:procASAR:ASA_WSM_1PNPDE20110120_013250_000000923098_00347_46482_3127.N1\n"
       ]
      },
      {
       "output_type": "stream",
       "stream": "stdout",
       "text": [
        "\n",
        "NO region Overlap"
       ]
      },
      {
       "output_type": "stream",
       "stream": "stderr",
       "text": [
        "INFO:procASAR:ASA_WSM_1PNPDE20110120_015625_000003303098_00348_46483_3140.N1\n"
       ]
      },
      {
       "output_type": "stream",
       "stream": "stdout",
       "text": [
        "\n",
        "NO region Overlap"
       ]
      },
      {
       "output_type": "stream",
       "stream": "stderr",
       "text": [
        "INFO:procASAR:ASA_WSM_1PNPDE20110120_073912_000002753098_00351_46486_3201.N1\n"
       ]
      },
      {
       "output_type": "stream",
       "stream": "stdout",
       "text": [
        "\n",
        "NO region Overlap"
       ]
      },
      {
       "output_type": "stream",
       "stream": "stderr",
       "text": [
        "INFO:procASAR:ASA_WSM_1PNPDE20110120_085238_000003303098_00352_46487_3226.N1\n"
       ]
      },
      {
       "output_type": "stream",
       "stream": "stderr",
       "text": [
        "INFO:procASAR:Adding wind...\n"
       ]
      },
      {
       "output_type": "stream",
       "stream": "stdout",
       "text": [
        "\n",
        "Calculating CMOD..."
       ]
      },
      {
       "output_type": "stream",
       "stream": "stdout",
       "text": [
        "\n"
       ]
      },
      {
       "output_type": "stream",
       "stream": "stderr",
       "text": [
        "INFO:procASAR:ASA_WSM_1PNPDE20110120_103610_000002263098_00353_46488_3244.N1\n"
       ]
      },
      {
       "output_type": "stream",
       "stream": "stdout",
       "text": [
        "Sigma to Wind LUT...\n",
        "CMOD elapsed time: 29.373117\n",
        "Testing CMOD4 passed, Wind = 6.07081318714\n",
        "NO region Overlap"
       ]
      },
      {
       "output_type": "stream",
       "stream": "stderr",
       "text": [
        "INFO:procASAR:ASA_WSM_1PNPDE20110120_110717_000005203098_00353_46488_3246.N1\n"
       ]
      },
      {
       "output_type": "stream",
       "stream": "stdout",
       "text": [
        "\n",
        "NO region Overlap"
       ]
      },
      {
       "output_type": "stream",
       "stream": "stderr",
       "text": [
        "INFO:procASAR:ASA_WSM_1PNPDE20110120_120209_000001903098_00354_46489_3254.N1\n"
       ]
      },
      {
       "output_type": "stream",
       "stream": "stdout",
       "text": [
        "\n",
        "NO region Overlap"
       ]
      },
      {
       "output_type": "stream",
       "stream": "stderr",
       "text": [
        "INFO:procASAR:ASA_WSM_1PNPDE20110120_123605_000002083098_00354_46489_3264.N1\n"
       ]
      },
      {
       "output_type": "stream",
       "stream": "stdout",
       "text": [
        "\n",
        "NO region Overlap"
       ]
      },
      {
       "output_type": "stream",
       "stream": "stderr",
       "text": [
        "INFO:procASAR:ASA_WSM_1PNPDE20110120_135401_000001473098_00355_46490_3267.N1\n"
       ]
      },
      {
       "output_type": "stream",
       "stream": "stdout",
       "text": [
        "\n",
        "NO region Overlap"
       ]
      },
      {
       "output_type": "stream",
       "stream": "stderr",
       "text": [
        "INFO:procASAR:ASA_WSM_1PNPDE20110120_153033_000001533098_00356_46491_3270.N1\n"
       ]
      },
      {
       "output_type": "stream",
       "stream": "stdout",
       "text": [
        "\n",
        "NO region Overlap"
       ]
      },
      {
       "output_type": "stream",
       "stream": "stderr",
       "text": [
        "INFO:procASAR:ASA_WSM_1PNPDE20110120_153342_000001473098_00356_46491_3271.N1\n"
       ]
      },
      {
       "output_type": "stream",
       "stream": "stdout",
       "text": [
        "\n",
        "NO region Overlap"
       ]
      },
      {
       "output_type": "stream",
       "stream": "stderr",
       "text": [
        "INFO:procASAR:ASA_WSM_1PNPDE20110120_183431_000000923098_00358_46493_3274.N1\n"
       ]
      },
      {
       "output_type": "stream",
       "stream": "stdout",
       "text": [
        "\n",
        "NO region Overlap"
       ]
      },
      {
       "output_type": "stream",
       "stream": "stderr",
       "text": [
        "INFO:procASAR:ASA_WSM_1PNPDE20110120_215448_000002143098_00360_46495_3296.N1\n"
       ]
      },
      {
       "output_type": "stream",
       "stream": "stdout",
       "text": [
        "\n",
        "NO region Overlap"
       ]
      },
      {
       "output_type": "stream",
       "stream": "stderr",
       "text": [
        "INFO:procASAR:ASA_WSM_1PNPDE20110120_220535_000002813098_00360_46495_3303.N1\n"
       ]
      },
      {
       "output_type": "stream",
       "stream": "stdout",
       "text": [
        "\n",
        "NO region Overlap"
       ]
      },
      {
       "output_type": "stream",
       "stream": "stderr",
       "text": [
        "INFO:procASAR:ASA_WSM_1PNPDE20110120_234039_000001533098_00361_46496_3316.N1\n"
       ]
      },
      {
       "output_type": "stream",
       "stream": "stdout",
       "text": [
        "\n",
        "NO region Overlap"
       ]
      },
      {
       "output_type": "stream",
       "stream": "stderr",
       "text": [
        "INFO:procASAR:ASA_WSM_1PNPDE20110120_234535_000001533098_00361_46496_3317.N1\n"
       ]
      },
      {
       "output_type": "stream",
       "stream": "stdout",
       "text": [
        "\n",
        "NO region Overlap"
       ]
      },
      {
       "output_type": "stream",
       "stream": "stderr",
       "text": [
        "INFO:procASAR:ASA_WSM_1PNPDK20110120_102746_000002083098_00353_46488_0641.N1\n"
       ]
      },
      {
       "output_type": "stream",
       "stream": "stdout",
       "text": [
        "\n",
        "NO region Overlap"
       ]
      },
      {
       "output_type": "stream",
       "stream": "stderr",
       "text": [
        "INFO:procASAR:ASA_WSM_1PNPDK20110120_103251_000003493098_00353_46488_0642.N1\n"
       ]
      },
      {
       "output_type": "stream",
       "stream": "stdout",
       "text": [
        "\n",
        "NO region Overlap"
       ]
      },
      {
       "output_type": "stream",
       "stream": "stderr",
       "text": [
        "INFO:procASAR:ASA_WSM_1PNPDK20110120_120818_000003303098_00354_46489_0672.N1\n"
       ]
      },
      {
       "output_type": "stream",
       "stream": "stdout",
       "text": [
        "\n",
        "NO region Overlap"
       ]
      },
      {
       "output_type": "stream",
       "stream": "stderr",
       "text": [
        "INFO:procASAR:ASA_WSM_1PNPDK20110120_125038_000001843098_00354_46489_0713.N1\n"
       ]
      },
      {
       "output_type": "stream",
       "stream": "stdout",
       "text": [
        "\n",
        "NO region Overlap"
       ]
      },
      {
       "output_type": "stream",
       "stream": "stderr",
       "text": [
        "INFO:procASAR:ASA_WSM_1PNPDK20110120_134640_000001843098_00355_46490_0705.N1\n"
       ]
      },
      {
       "output_type": "stream",
       "stream": "stdout",
       "text": [
        "\n",
        "NO region Overlap"
       ]
      },
      {
       "output_type": "stream",
       "stream": "stderr",
       "text": [
        "INFO:procASAR:ASA_WSM_1PNPDK20110120_152733_000001533098_00356_46491_0745.N1\n"
       ]
      },
      {
       "output_type": "stream",
       "stream": "stdout",
       "text": [
        "\n",
        "NO region Overlap"
       ]
      },
      {
       "output_type": "stream",
       "stream": "stderr",
       "text": [
        "INFO:procASAR:ASA_WSM_1PNPDK20110120_170721_000001353098_00357_46492_0776.N1\n"
       ]
      },
      {
       "output_type": "stream",
       "stream": "stdout",
       "text": [
        "\n",
        "NO region Overlap"
       ]
      },
      {
       "output_type": "stream",
       "stream": "stderr",
       "text": [
        "INFO:procASAR:ASA_WSM_1PNPDK20110120_184051_000003303098_00358_46493_0806.N1\n"
       ]
      },
      {
       "output_type": "stream",
       "stream": "stdout",
       "text": [
        "\n",
        "NO region Overlap"
       ]
      },
      {
       "output_type": "stream",
       "stream": "stderr",
       "text": [
        "INFO:procASAR:ASA_WSM_1PNPDK20110120_201651_000003363098_00359_46494_0829.N1\n"
       ]
      },
      {
       "output_type": "stream",
       "stream": "stdout",
       "text": [
        "\n",
        "NO region Overlap"
       ]
      },
      {
       "output_type": "stream",
       "stream": "stderr",
       "text": [
        "INFO:procASAR:ASA_WSM_1PNPDK20110120_202353_000001533098_00359_46494_0830.N1\n"
       ]
      },
      {
       "output_type": "stream",
       "stream": "stdout",
       "text": [
        "\n",
        "NO region Overlap"
       ]
      },
      {
       "output_type": "stream",
       "stream": "stderr",
       "text": [
        "INFO:procASAR:ASA_WSM_1PNPDK20110120_215607_000002513098_00360_46495_0843.N1\n"
       ]
      },
      {
       "output_type": "stream",
       "stream": "stdout",
       "text": [
        "\n",
        "NO region Overlap"
       ]
      },
      {
       "output_type": "stream",
       "stream": "stderr",
       "text": [
        "INFO:procASAR:ASA_WSM_1PNPDK20110120_220226_000001653098_00360_46495_0844.N1\n"
       ]
      },
      {
       "output_type": "stream",
       "stream": "stdout",
       "text": [
        "\n",
        "NO region Overlap"
       ]
      },
      {
       "output_type": "stream",
       "stream": "stderr",
       "text": [
        "INFO:procASAR:ASA_IMM_1PNPDK20110121_113708_000001273098_00368_46503_0994.N1\n"
       ]
      },
      {
       "output_type": "stream",
       "stream": "stdout",
       "text": [
        "\n",
        "NO region Overlap"
       ]
      },
      {
       "output_type": "stream",
       "stream": "stderr",
       "text": [
        "INFO:procASAR:ASA_WSM_1PNIPA20110121_082058_000002693098_00366_46501_7921.N1\n"
       ]
      },
      {
       "output_type": "stream",
       "stream": "stdout",
       "text": [
        "\n",
        "NO region Overlap"
       ]
      },
      {
       "output_type": "stream",
       "stream": "stderr",
       "text": [
        "INFO:procASAR:ASA_WSM_1PNIPA20110121_193650_000001533098_00373_46508_7923.N1\n"
       ]
      },
      {
       "output_type": "stream",
       "stream": "stdout",
       "text": [
        "\n",
        "NO region Overlap"
       ]
      },
      {
       "output_type": "stream",
       "stream": "stderr",
       "text": [
        "INFO:procASAR:ASA_WSM_1PNPDE20110121_011910_000005143098_00362_46497_3354.N1\n"
       ]
      },
      {
       "output_type": "stream",
       "stream": "stdout",
       "text": [
        "\n",
        "NO region Overlap"
       ]
      },
      {
       "output_type": "stream",
       "stream": "stderr",
       "text": [
        "INFO:procASAR:ASA_WSM_1PNPDE20110121_022401_000003553098_00362_46497_3350.N1\n"
       ]
      },
      {
       "output_type": "stream",
       "stream": "stdout",
       "text": [
        "\n",
        "NO region Overlap"
       ]
      },
      {
       "output_type": "stream",
       "stream": "stderr",
       "text": [
        "INFO:procASAR:ASA_WSM_1PNPDE20110121_024100_000000923098_00362_46497_3360.N1\n"
       ]
      },
      {
       "output_type": "stream",
       "stream": "stdout",
       "text": [
        "\n",
        "NO region Overlap"
       ]
      },
      {
       "output_type": "stream",
       "stream": "stderr",
       "text": [
        "INFO:procASAR:ASA_WSM_1PNPDE20110121_064054_000000923098_00365_46500_3400.N1\n"
       ]
      },
      {
       "output_type": "stream",
       "stream": "stdout",
       "text": [
        "\n",
        "NO region Overlap"
       ]
      },
      {
       "output_type": "stream",
       "stream": "stderr",
       "text": [
        "INFO:procASAR:ASA_WSM_1PNPDE20110121_065343_000001533098_00365_46500_3402.N1\n"
       ]
      },
      {
       "output_type": "stream",
       "stream": "stdout",
       "text": [
        "\n",
        "NO region Overlap"
       ]
      },
      {
       "output_type": "stream",
       "stream": "stderr",
       "text": [
        "INFO:procASAR:ASA_WSM_1PNPDE20110121_095918_000000923098_00367_46502_3430.N1\n"
       ]
      },
      {
       "output_type": "stream",
       "stream": "stdout",
       "text": [
        "\n",
        "NO region Overlap"
       ]
      },
      {
       "output_type": "stream",
       "stream": "stderr",
       "text": [
        "INFO:procASAR:ASA_WSM_1PNPDE20110121_103051_000005753098_00367_46502_3450.N1\n"
       ]
      },
      {
       "output_type": "stream",
       "stream": "stdout",
       "text": [
        "\n",
        "NO region Overlap"
       ]
      },
      {
       "output_type": "stream",
       "stream": "stderr",
       "text": [
        "INFO:procASAR:ASA_WSM_1PNPDE20110121_121151_000002943098_00368_46503_3478.N1\n"
       ]
      },
      {
       "output_type": "stream",
       "stream": "stdout",
       "text": [
        "\n",
        "NO region Overlap"
       ]
      },
      {
       "output_type": "stream",
       "stream": "stderr",
       "text": [
        "INFO:procASAR:ASA_WSM_1PNPDE20110121_145413_000002143098_00370_46505_3496.N1\n"
       ]
      },
      {
       "output_type": "stream",
       "stream": "stdout",
       "text": [
        "\n",
        "NO region Overlap"
       ]
      },
      {
       "output_type": "stream",
       "stream": "stderr",
       "text": [
        "INFO:procASAR:ASA_WSM_1PNPDE20110121_163047_000002813098_00371_46506_3500.N1\n"
       ]
      },
      {
       "output_type": "stream",
       "stream": "stdout",
       "text": [
        "\n",
        "NO region Overlap"
       ]
      },
      {
       "output_type": "stream",
       "stream": "stderr",
       "text": [
        "INFO:procASAR:ASA_WSM_1PNPDE20110121_181106_000001533098_00372_46507_3501.N1\n"
       ]
      },
      {
       "output_type": "stream",
       "stream": "stdout",
       "text": [
        "\n",
        "NO region Overlap"
       ]
      },
      {
       "output_type": "stream",
       "stream": "stderr",
       "text": [
        "INFO:procASAR:ASA_WSM_1PNPDE20110121_212543_000003923098_00374_46509_3525.N1\n"
       ]
      },
      {
       "output_type": "stream",
       "stream": "stdout",
       "text": [
        "\n",
        "NO region Overlap"
       ]
      },
      {
       "output_type": "stream",
       "stream": "stderr",
       "text": [
        "INFO:procASAR:ASA_WSM_1PNPDE20110121_230907_000001533098_00375_46510_3538.N1\n"
       ]
      },
      {
       "output_type": "stream",
       "stream": "stdout",
       "text": [
        "\n",
        "NO region Overlap"
       ]
      },
      {
       "output_type": "stream",
       "stream": "stderr",
       "text": [
        "INFO:procASAR:ASA_WSM_1PNPDK20110121_095122_000002883098_00367_46502_0968.N1\n"
       ]
      },
      {
       "output_type": "stream",
       "stream": "stdout",
       "text": [
        "\n",
        "NO region Overlap"
       ]
      },
      {
       "output_type": "stream",
       "stream": "stderr",
       "text": [
        "INFO:procASAR:ASA_WSM_1PNPDK20110121_095651_000002693098_00367_46502_0969.N1\n"
       ]
      },
      {
       "output_type": "stream",
       "stream": "stdout",
       "text": [
        "\n",
        "NO region Overlap"
       ]
      },
      {
       "output_type": "stream",
       "stream": "stderr",
       "text": [
        "INFO:procASAR:ASA_WSM_1PNPDK20110121_113216_000002693098_00368_46503_0993.N1\n"
       ]
      },
      {
       "output_type": "stream",
       "stream": "stdout",
       "text": [
        "\n",
        "NO region Overlap"
       ]
      },
      {
       "output_type": "stream",
       "stream": "stderr",
       "text": [
        "INFO:procASAR:ASA_WSM_1PNPDK20110121_131126_000002693098_00369_46504_1021.N1\n"
       ]
      },
      {
       "output_type": "stream",
       "stream": "stdout",
       "text": [
        "\n",
        "NO region Overlap"
       ]
      },
      {
       "output_type": "stream",
       "stream": "stderr",
       "text": [
        "INFO:procASAR:ASA_WSM_1PNPDK20110121_131619_000001103098_00369_46504_1026.N1\n"
       ]
      },
      {
       "output_type": "stream",
       "stream": "stdout",
       "text": [
        "\n",
        "NO region Overlap"
       ]
      },
      {
       "output_type": "stream",
       "stream": "stderr",
       "text": [
        "INFO:procASAR:ASA_WSM_1PNPDK20110121_145113_000000923098_00370_46505_1047.N1\n"
       ]
      },
      {
       "output_type": "stream",
       "stream": "stdout",
       "text": [
        "\n",
        "NO region Overlap"
       ]
      },
      {
       "output_type": "stream",
       "stream": "stderr",
       "text": [
        "INFO:procASAR:ASA_WSM_1PNPDK20110121_180553_000002393098_00372_46507_1110.N1\n"
       ]
      },
      {
       "output_type": "stream",
       "stream": "stdout",
       "text": [
        "\n",
        "NO region Overlap"
       ]
      },
      {
       "output_type": "stream",
       "stream": "stderr",
       "text": [
        "INFO:procASAR:ASA_WSM_1PNPDK20110121_194041_000002693098_00373_46508_1141.N1\n"
       ]
      },
      {
       "output_type": "stream",
       "stream": "stderr",
       "text": [
        "INFO:procASAR:Adding wind...\n"
       ]
      },
      {
       "output_type": "stream",
       "stream": "stdout",
       "text": [
        "\n",
        "Calculating CMOD..."
       ]
      },
      {
       "output_type": "stream",
       "stream": "stdout",
       "text": [
        "\n"
       ]
      },
      {
       "ename": "KeyboardInterrupt",
       "evalue": "",
       "output_type": "pyerr",
       "traceback": [
        "\u001b[1;31m---------------------------------------------------------------------------\u001b[0m\n\u001b[1;31mKeyboardInterrupt\u001b[0m                         Traceback (most recent call last)",
        "\u001b[1;32m<ipython-input-17-2ed68c9556dd>\u001b[0m in \u001b[0;36m<module>\u001b[1;34m()\u001b[0m\n\u001b[0;32m     57\u001b[0m         \u001b[1;32mdel\u001b[0m \u001b[0minc_angle\u001b[0m\u001b[1;33m,\u001b[0m \u001b[0mroughness\u001b[0m\u001b[1;33m,\u001b[0m \u001b[0mwPar\u001b[0m\u001b[1;33m,\u001b[0m \u001b[0msigma0\u001b[0m\u001b[1;33m,\u001b[0m \u001b[0mwindDir\u001b[0m\u001b[1;33m\u001b[0m\u001b[0m\n\u001b[0;32m     58\u001b[0m \u001b[1;33m\u001b[0m\u001b[0m\n\u001b[1;32m---> 59\u001b[1;33m         \u001b[0mwrite_images\u001b[0m\u001b[1;33m(\u001b[0m\u001b[0mn\u001b[0m\u001b[1;33m,\u001b[0m \u001b[0mfigureName\u001b[0m\u001b[1;33m,\u001b[0m \u001b[0mfigureNameWind\u001b[0m\u001b[1;33m,\u001b[0m \u001b[0mkmlName\u001b[0m\u001b[1;33m,\u001b[0m \u001b[0mkmlNameWind\u001b[0m\u001b[1;33m,\u001b[0m \u001b[0museMask\u001b[0m\u001b[1;33m)\u001b[0m\u001b[1;33m\u001b[0m\u001b[0m\n\u001b[0m\u001b[0;32m     60\u001b[0m \u001b[1;33m\u001b[0m\u001b[0m\n\u001b[0;32m     61\u001b[0m         \u001b[0mwrite_geoTIFF\u001b[0m\u001b[1;33m(\u001b[0m\u001b[0mn\u001b[0m\u001b[1;33m,\u001b[0m \u001b[0mfigureNameTiff\u001b[0m\u001b[1;33m)\u001b[0m\u001b[1;33m\u001b[0m\u001b[0m\n",
        "\u001b[1;32m<ipython-input-12-6a7c7a6079e9>\u001b[0m in \u001b[0;36mwrite_images\u001b[1;34m(n, figureName, figureNameWind, kmlName, kmlNameWind, useMask)\u001b[0m\n\u001b[0;32m     13\u001b[0m                     \u001b[1;31m#~ clim=[0,0.15], cmapName='gray', transparency=0) # 5.\u001b[0m\u001b[1;33m\u001b[0m\u001b[1;33m\u001b[0m\u001b[0m\n\u001b[0;32m     14\u001b[0m         \u001b[1;32mtry\u001b[0m\u001b[1;33m:\u001b[0m\u001b[1;33m\u001b[0m\u001b[0m\n\u001b[1;32m---> 15\u001b[1;33m             \u001b[0mn\u001b[0m\u001b[1;33m.\u001b[0m\u001b[0mwrite_figure\u001b[0m\u001b[1;33m(\u001b[0m\u001b[0mfileName\u001b[0m\u001b[1;33m=\u001b[0m\u001b[0mfigureName\u001b[0m\u001b[1;33m,\u001b[0m \u001b[0mbands\u001b[0m\u001b[1;33m=\u001b[0m\u001b[1;33m[\u001b[0m\u001b[1;36m6\u001b[0m\u001b[1;33m]\u001b[0m\u001b[1;33m,\u001b[0m                             \u001b[0mmask_array\u001b[0m\u001b[1;33m=\u001b[0m\u001b[0mwmArray\u001b[0m\u001b[1;33m,\u001b[0m \u001b[0mmask_lut\u001b[0m\u001b[1;33m=\u001b[0m\u001b[1;33m{\u001b[0m\u001b[1;36m0\u001b[0m\u001b[1;33m:\u001b[0m \u001b[1;33m[\u001b[0m\u001b[1;36m0\u001b[0m\u001b[1;33m,\u001b[0m\u001b[1;36m0\u001b[0m\u001b[1;33m,\u001b[0m\u001b[1;36m0\u001b[0m\u001b[1;33m]\u001b[0m\u001b[1;33m}\u001b[0m\u001b[1;33m,\u001b[0m                             \u001b[0mclim\u001b[0m\u001b[1;33m=\u001b[0m\u001b[1;33m[\u001b[0m\u001b[1;36m0\u001b[0m\u001b[1;33m,\u001b[0m\u001b[1;36m2\u001b[0m\u001b[1;33m]\u001b[0m\u001b[1;33m,\u001b[0m \u001b[0mcmapName\u001b[0m\u001b[1;33m=\u001b[0m\u001b[1;34m'gray'\u001b[0m\u001b[1;33m,\u001b[0m \u001b[0mtransparency\u001b[0m\u001b[1;33m=\u001b[0m\u001b[1;33m[\u001b[0m\u001b[1;36m0\u001b[0m\u001b[1;33m,\u001b[0m\u001b[1;36m0\u001b[0m\u001b[1;33m,\u001b[0m\u001b[1;36m0\u001b[0m\u001b[1;33m]\u001b[0m\u001b[1;33m)\u001b[0m \u001b[1;31m# 5.\u001b[0m\u001b[1;33m\u001b[0m\u001b[0m\n\u001b[0m\u001b[0;32m     16\u001b[0m             \u001b[0mn\u001b[0m\u001b[1;33m.\u001b[0m\u001b[0mwrite_figure\u001b[0m\u001b[1;33m(\u001b[0m\u001b[0mfileName\u001b[0m\u001b[1;33m=\u001b[0m\u001b[0mfigureNameWind\u001b[0m\u001b[1;33m,\u001b[0m \u001b[0mbands\u001b[0m\u001b[1;33m=\u001b[0m\u001b[1;33m[\u001b[0m\u001b[1;36m7\u001b[0m\u001b[1;33m]\u001b[0m\u001b[1;33m,\u001b[0m                             \u001b[0mmask_array\u001b[0m\u001b[1;33m=\u001b[0m\u001b[0mwmArray\u001b[0m\u001b[1;33m,\u001b[0m \u001b[0mmask_lut\u001b[0m\u001b[1;33m=\u001b[0m\u001b[1;33m{\u001b[0m\u001b[1;36m0\u001b[0m\u001b[1;33m:\u001b[0m \u001b[1;33m[\u001b[0m\u001b[1;36m0\u001b[0m\u001b[1;33m,\u001b[0m\u001b[1;36m0\u001b[0m\u001b[1;33m,\u001b[0m\u001b[1;36m0\u001b[0m\u001b[1;33m]\u001b[0m\u001b[1;33m}\u001b[0m\u001b[1;33m,\u001b[0m                             \u001b[0mclim\u001b[0m\u001b[1;33m=\u001b[0m\u001b[1;33m[\u001b[0m\u001b[1;36m0\u001b[0m\u001b[1;33m,\u001b[0m\u001b[1;36m20\u001b[0m\u001b[1;33m]\u001b[0m\u001b[1;33m,\u001b[0m \u001b[0mcmapName\u001b[0m\u001b[1;33m=\u001b[0m\u001b[1;34m'jet'\u001b[0m\u001b[1;33m,\u001b[0m \u001b[0mtransparency\u001b[0m\u001b[1;33m=\u001b[0m\u001b[1;33m[\u001b[0m\u001b[1;36m0\u001b[0m\u001b[1;33m,\u001b[0m\u001b[1;36m0\u001b[0m\u001b[1;33m,\u001b[0m\u001b[1;36m0\u001b[0m\u001b[1;33m]\u001b[0m\u001b[1;33m)\u001b[0m \u001b[1;31m# 5.\u001b[0m\u001b[1;33m\u001b[0m\u001b[0m\n\u001b[0;32m     17\u001b[0m         \u001b[1;32mexcept\u001b[0m \u001b[0mException\u001b[0m \u001b[1;32mas\u001b[0m \u001b[0me\u001b[0m\u001b[1;33m:\u001b[0m\u001b[1;33m\u001b[0m\u001b[0m\n",
        "\u001b[1;32m/home/mag/Documents/repos/nansat2/nansat.pyc\u001b[0m in \u001b[0;36mwrite_figure\u001b[1;34m(self, fileName, bands, clim, addDate, **kwargs)\u001b[0m\n\u001b[0;32m   1032\u001b[0m                     \u001b[0mfig\u001b[0m\u001b[1;33m.\u001b[0m\u001b[0mpilImg\u001b[0m\u001b[1;33m.\u001b[0m\u001b[0mshow\u001b[0m\u001b[1;33m(\u001b[0m\u001b[1;33m)\u001b[0m\u001b[1;33m\u001b[0m\u001b[0m\n\u001b[0;32m   1033\u001b[0m             \u001b[1;32melif\u001b[0m \u001b[0mtype\u001b[0m\u001b[1;33m(\u001b[0m\u001b[0mfileName\u001b[0m\u001b[1;33m)\u001b[0m \u001b[1;33m==\u001b[0m \u001b[0mstr\u001b[0m\u001b[1;33m:\u001b[0m\u001b[1;33m\u001b[0m\u001b[0m\n\u001b[1;32m-> 1034\u001b[1;33m                 \u001b[0mfig\u001b[0m\u001b[1;33m.\u001b[0m\u001b[0msave\u001b[0m\u001b[1;33m(\u001b[0m\u001b[0mfileName\u001b[0m\u001b[1;33m,\u001b[0m \u001b[1;33m**\u001b[0m\u001b[0mkwargs\u001b[0m\u001b[1;33m)\u001b[0m\u001b[1;33m\u001b[0m\u001b[0m\n\u001b[0m\u001b[0;32m   1035\u001b[0m                 \u001b[1;31m# If tiff image, convert to GeoTiff\u001b[0m\u001b[1;33m\u001b[0m\u001b[1;33m\u001b[0m\u001b[0m\n\u001b[0;32m   1036\u001b[0m                 \u001b[1;32mif\u001b[0m \u001b[0mfileName\u001b[0m\u001b[1;33m[\u001b[0m\u001b[1;33m-\u001b[0m\u001b[1;36m3\u001b[0m\u001b[1;33m:\u001b[0m\u001b[1;33m]\u001b[0m \u001b[1;33m==\u001b[0m \u001b[1;34m'tif'\u001b[0m\u001b[1;33m:\u001b[0m\u001b[1;33m\u001b[0m\u001b[0m\n",
        "\u001b[1;32m/home/mag/Documents/repos/nansat2/figure.pyc\u001b[0m in \u001b[0;36msave\u001b[1;34m(self, fileName, **kwargs)\u001b[0m\n\u001b[0;32m    820\u001b[0m \u001b[1;33m\u001b[0m\u001b[0m\n\u001b[0;32m    821\u001b[0m         \u001b[1;32mif\u001b[0m \u001b[0mself\u001b[0m\u001b[1;33m.\u001b[0m\u001b[0mtransparency\u001b[0m \u001b[1;32mis\u001b[0m \u001b[1;32mnot\u001b[0m \u001b[0mNone\u001b[0m\u001b[1;33m:\u001b[0m\u001b[1;33m\u001b[0m\u001b[0m\n\u001b[1;32m--> 822\u001b[1;33m             \u001b[0mself\u001b[0m\u001b[1;33m.\u001b[0m\u001b[0m_make_transparent_color\u001b[0m\u001b[1;33m(\u001b[0m\u001b[1;33m)\u001b[0m\u001b[1;33m\u001b[0m\u001b[0m\n\u001b[0m\u001b[0;32m    823\u001b[0m         \u001b[0mself\u001b[0m\u001b[1;33m.\u001b[0m\u001b[0mpilImg\u001b[0m\u001b[1;33m.\u001b[0m\u001b[0msave\u001b[0m\u001b[1;33m(\u001b[0m\u001b[0mfileName\u001b[0m\u001b[1;33m)\u001b[0m\u001b[1;33m\u001b[0m\u001b[0m\n\u001b[0;32m    824\u001b[0m \u001b[1;33m\u001b[0m\u001b[0m\n",
        "\u001b[1;32m/home/mag/Documents/repos/nansat2/figure.pyc\u001b[0m in \u001b[0;36m_make_transparent_color\u001b[1;34m(self)\u001b[0m\n\u001b[0;32m    779\u001b[0m \u001b[1;33m\u001b[0m\u001b[0m\n\u001b[0;32m    780\u001b[0m         \u001b[1;32mfor\u001b[0m \u001b[0mitem\u001b[0m \u001b[1;32min\u001b[0m \u001b[0mdatas\u001b[0m\u001b[1;33m:\u001b[0m\u001b[1;33m\u001b[0m\u001b[0m\n\u001b[1;32m--> 781\u001b[1;33m             if (item[0] == self.transparency[0] and\n\u001b[0m\u001b[0;32m    782\u001b[0m                     \u001b[0mitem\u001b[0m\u001b[1;33m[\u001b[0m\u001b[1;36m1\u001b[0m\u001b[1;33m]\u001b[0m \u001b[1;33m==\u001b[0m \u001b[0mself\u001b[0m\u001b[1;33m.\u001b[0m\u001b[0mtransparency\u001b[0m\u001b[1;33m[\u001b[0m\u001b[1;36m1\u001b[0m\u001b[1;33m]\u001b[0m \u001b[1;32mand\u001b[0m\u001b[1;33m\u001b[0m\u001b[0m\n\u001b[0;32m    783\u001b[0m                     item[2] == self.transparency[2]):\n",
        "\u001b[1;31mKeyboardInterrupt\u001b[0m: "
       ]
      },
      {
       "output_type": "stream",
       "stream": "stdout",
       "text": [
        "Sigma to Wind LUT...\n",
        "CMOD elapsed time: 23.803863\n",
        "Testing CMOD4 passed, Wind = 10.8776384823\n"
       ]
      }
     ],
     "prompt_number": 17
    }
   ],
   "metadata": {}
  }
 ]
}