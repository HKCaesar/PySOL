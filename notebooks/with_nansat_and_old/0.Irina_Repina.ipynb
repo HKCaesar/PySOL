{
 "metadata": {
  "name": "",
  "signature": "sha256:e94d6c43fc7a10923ff4eadf1f1d2fde2ef2dc9bd93f3a0da629cd8b1342e795"
 },
 "nbformat": 3,
 "nbformat_minor": 0,
 "worksheets": [
  {
   "cells": [
    {
     "cell_type": "heading",
     "level": 1,
     "metadata": {},
     "source": [
      "TODO:"
     ]
    },
    {
     "cell_type": "raw",
     "metadata": {},
     "source": [
      "1. When exporting wind mask zeros with NaN\n",
      "2. Make headers and TOC for easier navigation"
     ]
    },
    {
     "cell_type": "code",
     "collapsed": false,
     "input": [
      "# %pdb on"
     ],
     "language": "python",
     "metadata": {},
     "outputs": [],
     "prompt_number": 1
    },
    {
     "cell_type": "code",
     "collapsed": false,
     "input": [
      "#~ import matplotlib.pyplot as plt\n",
      "#~ from scipy.io import savemat\n",
      "import logging\n",
      "\n",
      "import Image\n",
      "\n",
      "from nansat import Nansat\n",
      "from domain import Domain\n",
      "\n",
      "import distancelib\n",
      "from numpy import deg2rad, array, sin, exp, log\n",
      "\n",
      "from osgeo import gdal, ogr\n",
      "\n",
      "import os, sys, getopt\n",
      "\n",
      "import gc\n",
      "\n",
      "from cmod_vect import rcs2windPar, rcs2wind\n",
      "from cmod_gpu import rcs2windOpenCl\n",
      "from scipy.signal import wiener"
     ],
     "language": "python",
     "metadata": {},
     "outputs": [],
     "prompt_number": 2
    },
    {
     "cell_type": "code",
     "collapsed": false,
     "input": [
      "def reproject(n,lonlim=None,latlim=None):\n",
      "    \"\"\"\n",
      "    # Reprojected image into Lat/Lon WGS84 (Simple Cylindrical) projection\n",
      "    # 1. Cancel previous reprojection\n",
      "    # 2. Get corners of the image and the pixel resolution\n",
      "    # 3. Create Domain with projection, corner coordinates and resolution 1000m\n",
      "    # 4. Reproject\n",
      "    # 5. Write image\n",
      "    \"\"\"\n",
      "\n",
      "    n.reproject() # 1.\n",
      "    lons, lats = n.get_corners() # 2.\n",
      "    pxlRes = distancelib.getPixelResolution(array(lats), array(lons), n.shape(), units=\"deg\")\n",
      "    #pxlRes = array((double(0.75*360)/40000,double(0.75*360)/40000)) # about 75m resolution\n",
      "    srsString = \"+proj=latlong +datum=WGS84 +ellps=WGS84 +no_defs\"\n",
      "    extentString = '-lle %f %f %f %f -tr %f %f' % (min(lonlim), min(latlim), \\\n",
      "                    max(lonlim), max(latlim), pxlRes[1], pxlRes[0])\n",
      "    #d = Domain(lon=lon,lat=lat, ds = n.vrt.dataset)\n",
      "    d = Domain(srs=srsString, ext=extentString) # 3.\n",
      "    #d = Domain(srs=srsString, ds = n.vrt.dataset)\n",
      "    # Use for faster and correct reprojection especially in Polar regions. Needs GCPs!!! and doesn't use epsg Numbering\n",
      "    #n.reproject_GCPs(srsString)\n",
      "    #n.reproject(d, tps=True) # 4.\n",
      "    n.reproject(d)\n",
      "    return n"
     ],
     "language": "python",
     "metadata": {},
     "outputs": [],
     "prompt_number": 3
    },
    {
     "cell_type": "code",
     "collapsed": false,
     "input": [
      "def windDirection(U, V):\n",
      "    if U >= 0 and V > 0: direction = ((180 / pi) * atan(abs(U / V)) + 180)\n",
      "    if U < 0 and V > 0: direction = (-(180 / pi) * atan(abs(U / V)) + 180)\n",
      "    if U >= 0 and V < 0: direction = (-(180 / pi) * atan(abs(U / V)) + 360)\n",
      "    if U < 0 and V < 0: direction = ((180 / pi) * atan(abs(U / V)))\n",
      "    if V == 0 and U > 0: direction = 270\n",
      "    if V == 0 and U < 0: direction = 90\n",
      "    if V == 0 and U == 0: direction = 0\n",
      "    return direction"
     ],
     "language": "python",
     "metadata": {},
     "outputs": [],
     "prompt_number": 4
    },
    {
     "cell_type": "code",
     "collapsed": false,
     "input": [
      "def overlap(n, lonlim, latlim):\n",
      "    lonlim1 = numpy.append(sort(lonlim), sort(lonlim)[::-1])\n",
      "    latlim1 = numpy.array([latlim.min(), latlim.min(), latlim.max(), latlim.max()])\n",
      "    lim = zip(lonlim1, latlim1)\n",
      "    lim = ['%f' % x + ' ' + '%f' % y for x, y in lim]\n",
      "    lim.append(lim[0])\n",
      "    my_border = (', ').join(lim)\n",
      "    wkt1 = 'POLYGON((' + my_border + '))'\n",
      "    wkt2 = n.get_border_polygon().split(\"('\")[1][:-2]\n",
      "    poly1 = ogr.CreateGeometryFromWkt(wkt1)\n",
      "    poly2 = ogr.CreateGeometryFromWkt(wkt2)\n",
      "    intersection = poly1.Overlaps(poly2)\n",
      "    return intersection"
     ],
     "language": "python",
     "metadata": {},
     "outputs": [],
     "prompt_number": 5
    },
    {
     "cell_type": "code",
     "collapsed": false,
     "input": [
      "year = '2011'\n",
      "useMask = True"
     ],
     "language": "python",
     "metadata": {},
     "outputs": [],
     "prompt_number": 6
    },
    {
     "cell_type": "code",
     "collapsed": false,
     "input": [
      "oPath = '/media/SOLabNFS2/tmp/roughness2/For_Irina_Repina/' + year + '/'\n",
      "iPath = '/media/SOLabNFS2/store/satellite/asar/' + year + '/'\n",
      "\n",
      "if not os.path.exists(oPath):\n",
      "    os.makedirs(oPath)\n",
      "\n",
      "try:\n",
      "    os.remove(oPath + 'procASAR.log')\n",
      "except:\n",
      "    pass\n",
      "logger = logging.getLogger('procASAR')\n",
      "hdlr = logging.FileHandler(oPath + 'procASAR.log')\n",
      "formatter = logging.Formatter('%(asctime)s %(message)s', datefmt='%m/%d/%Y %I:%M:%S %p')\n",
      "hdlr.setFormatter(formatter)\n",
      "logger.addHandler(hdlr) \n",
      "logger.setLevel(logging.INFO)"
     ],
     "language": "python",
     "metadata": {},
     "outputs": [],
     "prompt_number": 7
    },
    {
     "cell_type": "code",
     "collapsed": false,
     "input": [
      "# baltic sea region for further projection\n",
      "# latlim = array((53, 65))\n",
      "# lonlim = array((12, 33))\n",
      "\n",
      "# finngulf region for further projection\n",
      "# latlim = array((59.2, 60.80))\n",
      "# lonlim = array((22.9, 30.3))\n",
      "\n",
      "# nevaguba region for further projection\n",
      "# latlim = array((59.8, 60.25))\n",
      "# lonlim = array((29, 30.3))\n",
      "\n",
      "# lofoten\n",
      "latlim = array((65, 73))\n",
      "lonlim = array((-5, 13))"
     ],
     "language": "python",
     "metadata": {},
     "outputs": [],
     "prompt_number": 8
    },
    {
     "cell_type": "code",
     "collapsed": false,
     "input": [
      "scale = 1"
     ],
     "language": "python",
     "metadata": {},
     "outputs": [],
     "prompt_number": 9
    },
    {
     "cell_type": "code",
     "collapsed": false,
     "input": [
      "dirNames=os.listdir(iPath)\n",
      "for dirName in dirNames:\n",
      "    fileNames=os.listdir(iPath+dirName)\n",
      "    for fileName in fileNames:\n",
      "        figureName = oPath + fileName[0:27] + '/' + fileName + '_proj.png'\n",
      "        figureNameWind = oPath + fileName[0:27] + '/' + fileName + '_wind_proj.png'\n",
      "#         figureNameTiff = oPath + fileName[0:27] + '/' + fileName + '_epsg3857.tif'\n",
      "        figureNameTiff = oPath + fileName[0:27] + '/' + fileName + '.tif'\n",
      "        figureNameNetCDF = oPath + fileName[0:27] + '/' + fileName + '.nc'\n",
      "        #figureNameWindTiff = oPath + fileName[0:27] + '/' + fileName + 'wind_epsg3857.tif'\n",
      "        kmlName = oPath + fileName[0:27] + '/' + fileName + '.kml'\n",
      "        if not os.path.exists(oPath + fileName[0:27] + '/'):\n",
      "            os.makedirs(oPath + fileName[0:27] + '/')\n",
      "\n",
      "        if os.path.isfile(kmlName):\n",
      "            logger.info('%s already processed', fileName)\n",
      "            continue\n",
      "        else:\n",
      "            logger.info('%s', fileName)\n",
      "\n",
      "        #~ Change the folder permissions\n",
      "        os.chmod(oPath, 0777)\n",
      "        os.chmod(oPath + fileName[0:27] + '/', 0777)\n",
      "\n",
      "        # try to create Nansat object\n",
      "        try:\n",
      "            n = Nansat(iPath + dirName + '/' + fileName, mapperName='asar')\n",
      "        except Exception as e:\n",
      "            print \"Failed to create Nansat object:\"\n",
      "            print str(e)\n",
      "            os.rmdir(oPath + fileName[0:27] + '/' )\n",
      "            continue\n",
      "\n",
      "        intersection = overlap(n, lonlim, latlim)\n",
      "        if not intersection:\n",
      "            print 'NO region Overlap'\n",
      "            os.rmdir(oPath + fileName[0:27] + '/' )\n",
      "            continue\n",
      "        \n",
      "\n",
      "        # Reproject image on the Lat/Lon WGS84 (Simple Cylindrical) projection and Crop the region\n",
      "        n = reproject(n,lonlim,latlim)\n",
      "\n",
      "\n",
      "        #~ Get the bands\n",
      "        try:\n",
      "            inc_angle = n[2][0] # take only one line, not the whole array\n",
      "        except Exception as e:\n",
      "            print str(e)\n",
      "            os.rmdir(oPath + fileName[0:27] + '/' )\n",
      "            continue\n",
      "        raw_counts = n[1]\n",
      "        sigma0 = n[3]\n",
      "\n",
      "        #~ NICE image (roughness)\n",
      "        pol = n.bands()[3]['polarization']\n",
      "        if pol == 'HH':\n",
      "            ph = (2.20495, -14.3561e-2, 11.28e-4)\n",
      "            sigma0_hh_ref = exp( ( ph[0]+inc_angle*ph[1]+inc_angle**2*ph[2])*log(10) )\n",
      "            roughness = sigma0/sigma0_hh_ref\n",
      "        elif pol == 'VV':\n",
      "            pv = (2.29373, -15.393e-2, 15.1762e-4)\n",
      "            sigma0_vv_ref = exp( ( pv[0]+inc_angle*pv[1]+inc_angle**2*pv[2])*log(10) )\n",
      "            roughness = sigma0/sigma0_vv_ref\n",
      "\n",
      "        #~ Create new band\n",
      "        #GDALDataType { \n",
      "        #  GDT_Unknown = 0, GDT_Byte = 1, GDT_UInt16 = 2, GDT_Int16 = 3, \n",
      "        #  GDT_UInt32 = 4, GDT_Int32 = 5, GDT_Float32 = 6, GDT_Float64 = 7, \n",
      "        #  GDT_CInt16 = 8, GDT_CInt32 = 9, GDT_CFloat32 = 10, GDT_CFloat64 = 11, \n",
      "        #  GDT_TypeCount = 12 \n",
      "        #}\n",
      "\n",
      "        \n",
      "        \n",
      "#         # Wind Estimations\n",
      "#         logger.info('Adding wind...')\n",
      "#         ncepPath = '/media/SOLabNFS2/store/model/ncep/gfs/'\n",
      "#         # find the ncep gfs filename to open from ASAR filename\n",
      "#         hr = float(fileName[23:25]) + float(fileName[25:27])/60\n",
      "#         baseHour = floor((hr+3/2)/6)*6\n",
      "#         baseHour = min(18, baseHour)\n",
      "#         if hr-baseHour>1.5:\n",
      "#             forecastHour = 3\n",
      "#         else:\n",
      "#             forecastHour = 0\n",
      "#         ncepFileName = 'gfs' + fileName[14:22] + '/gfs.t' + '%.2d' %(baseHour) + 'z.master.grbf' + '%.2d' %(forecastHour)\n",
      "#         # try to create Nansat object\n",
      "#         try:\n",
      "#             wind = Nansat(ncepPath + ncepFileName, mapperName='ncep')\n",
      "#             # Reproject NCEP/SeaWinds onto ASAR interpolating\n",
      "#             wind.reproject(n, eResampleAlg=3)\n",
      "# #             u = wind[1] # we don't use wind components for calculations\n",
      "# #             v = wind[2]\n",
      "#             w = wind[3]\n",
      "#             windDir = wind[4]\n",
      "#         except:\n",
      "#             try:\n",
      "#                 swPath = '/media/SOLabNFS/store/satellite/seawinds/SI/uv/6hrly/netcdf/2000s/'\n",
      "#                 swFileName = 'uv' + fileName[14:22] + 'rt.nc'\n",
      "#                 wind = Nansat(swPath + swFileName)\n",
      "#                 wantedDate = datetime.datetime( int(fileName[14:18]), int(fileName[18:20]), int(fileName[20:22]), int(fileName[23:25]), int(fileName[25:27]) )\n",
      "#                 refDate = datetime.datetime(1978,1,1,0,0,0)\n",
      "#                 time = wind.bands()[1]['NETCDF_DIMENSION_time']\n",
      "#                 time = [int(time), int(time) + 6, int(time) + 12, int(time) + 18]\n",
      "                \n",
      "#                 # Find which date fits us best\n",
      "#                 resolution = [ datetime.timedelta(hours=0), datetime.timedelta(hours=6), \\\n",
      "#                             datetime.timedelta(hours=12), datetime.timedelta(hours=18) ]\n",
      "#                 roundTime = datetime.timedelta(seconds=wantedDate.second,\\\n",
      "#                                     minutes=wantedDate.minute, hours=wantedDate.hour)\n",
      "#                 closestTime = sorted(resolution, key=lambda t: abs(roundTime - t))\n",
      "#                 t = closestTime.index(min(closestTime))\n",
      "#                 closestTime = refDate + datetime.timedelta(hours=int(time[t]))\n",
      "#                 print \"Closest time: \", closestTime\n",
      "#                 # Reproject NCEP/SeaWinds onto ASAR interpolating\n",
      "#                 wind.reproject(n, eResampleAlg=3)\n",
      "#                 u = wind[t]\n",
      "#                 v = wind[t+4]\n",
      "#                 w = sqrt(u**2+ v**2)\n",
      "#                 windDir = windDirection(u, v)\n",
      "#             except:\n",
      "#                 logger.info('NO wind, skipping file')\n",
      "#                 os.rmdir(oPath + fileName[0:27] + '/' )\n",
      "#                 continue\n",
      "            \n",
      "\n",
      "\n",
      "\n",
      "#         sigma0w = wiener(sigma0, mysize=(7,7), noise=None)\n",
      "    \n",
      "#         # before we took only one line, not the whole array, for cmod we use same size array\n",
      "#         inc_angle = n[2]\n",
      "#         for ind in xrange(1,len(inc_angle)):\n",
      "#             inc_angle[ind] = inc_angle[0]\n",
      "#         inc_angle = inc_angle[::scale,::scale]\n",
      "    \n",
      "#         wDrel = 90 + n.upwards_azimuth_direction() - windDir\n",
      "#         try:\n",
      "#             wPar = rcs2windOpenCl(sigma0w,windir=wDrel, theta=inc_angle)\n",
      "# #             wPar = rcs2windPar(sigma0w, cmdv=5, windir=wDrel, theta=inc_angle, nprocs=32)\n",
      "#         except Exception:\n",
      "#             wPar = rcs2windPar(sigma0w, cmdv=5, windir=wDrel, theta=inc_angle, nprocs=32)\n",
      "# #             wPar = rcs2wind(sigma0w, cmdv=5, windir=wDrel, theta=inc_angle)\n",
      "#         print \"Testing CMOD4 passed, Wind =\", wPar.mean()\n",
      "\n",
      "\n",
      "        n1 = Nansat(n.vrt.fileName)\n",
      "        n1.fileName = n.fileName\n",
      "    \n",
      "        n1.add_band(bandID=6, array=roughness, \\\n",
      "           parameters={'name':'roughness', \\\n",
      "           'wkv': 'surface_backwards_scattering_coefficient_of_radar_wave', \\\n",
      "           'dataType': 7, 'minmax': '0 2'})\n",
      "\n",
      "#         n1.add_band(bandID=7, array=wPar, \\\n",
      "#            parameters={'name':'wind_speed', \\\n",
      "#            'wkv': 'surface_wind_speed_reconstructed_with_CMOD4', \\\n",
      "#            'dataType': 7, 'minmax': '0 30', 'colormap': 'jet'})\n",
      "\n",
      "#         del inc_angle, roughness, raw_counts, wPar, w, windDir, n\n",
      "\n",
      "\n",
      "        \n",
      "        # Reproject image into Lat/Lon WGS84 (Simple Cylindrical) projection\n",
      "        # 1. Cancel previous reprojection\n",
      "        # 2. Get corners of the image and the pixel resolution\n",
      "        # 3. Create Domain with stereographic projection, corner coordinates 1000m\n",
      "        # 4. Reproject\n",
      "        # 5. Write image\n",
      "        logger.info('Reprojecting to Simple Cylindrical...')\n",
      "\n",
      "        if useMask:\n",
      "            # get array with watermask (landmask) b\n",
      "            # it must be done after reprojection!\n",
      "            # 1. Get Nansat object with watermask\n",
      "            # 2. Get array from Nansat object. 0 - land, 1 - water\n",
      "            wm = n1.watermask(mod44path='/media/SOLabNFS/store/auxdata/coastline/mod44w/')\n",
      "            wmArray = wm[1]\n",
      "\n",
      "            #~ \u041e\u0428\u0418\u0411\u041a\u0410 numOfColor=255 \u043d\u0435 \u043c\u0430\u0441\u043a\u0438\u0440\u0443\u0435\u0442, \u043f\u043e\u0442\u043e\u043c\u0443 \u0447\u0442\u043e \u0432 figure.apply_mask: availIndeces = range(self.d['numOfColor'], 255 - 1)\n",
      "            #~ n1.write_figure(fileName=figureName, bands=[3], \\\n",
      "                        #~ numOfColor=255, mask_array=wmArray, mask_lut={0: 0},\n",
      "                        #~ clim=[0,0.15], cmapName='gray', transparency=0) # 5.\n",
      "            try:\n",
      "                n1.write_figure(fileName=figureName, bands=[6], \\\n",
      "                                mask_array=wmArray, mask_lut={0: [0,0,0]}, \\\n",
      "                                clim=[0,2], cmapName='gray', transparency=[0,0,0]) # 5.\n",
      "#                 n1.write_figure(fileName=figureNameWind, bands=[7], \\\n",
      "#                                 mask_array=wmArray, mask_lut={0: [0,0,0]}, \\\n",
      "#                                 clim=[0,20], cmapName='jet', transparency=[0,0,0]) # 5.\n",
      "            except Exception as e:\n",
      "                print str(e)\n",
      "                os.rmdir(oPath + fileName[0:27] + '/' )\n",
      "                continue\n",
      "        else:\n",
      "            try:\n",
      "                n1.write_figure(fileName=figureName, bands=[6], \\\n",
      "                                clim=[0,2], cmapName='gray', transparency=[0,0,0]) # 5.\n",
      "#                 n1.write_figure(fileName=figureNameWind, bands=[7], \\\n",
      "#                                 clim=[0,20], cmapName='jet', transparency=[0,0,0]) # 5.\n",
      "            except Exception as e:\n",
      "                print str(e)\n",
      "                os.rmdir(oPath + fileName[0:27] + '/' )\n",
      "                continue\n",
      "\n",
      "        # open the input image and convert to RGBA for further tiling with slbtiles\n",
      "        input_img = Image.open(figureName)\n",
      "        output_img = input_img.convert(\"RGBA\")\n",
      "        output_img.save(figureName)\n",
      "\n",
      "        # make KML image\n",
      "        n1.write_kml_image(kmlFileName=kmlName, kmlFigureName=figureName)\n",
      "\n",
      "\n",
      "\n",
      "#         # write one band to GeoTIFF for geoserver using write_figure method\n",
      "#         wm = n1.watermask(mod44path='/media/SOLabNFS/store/auxdata/coastline/mod44w/')\n",
      "#         wmArray = wm[1]\n",
      "#         n1.write_figure(fileName=figureNameTiff, bands=[6], \\\n",
      "#                          mask_array=wmArray, mask_lut={0: [0,0,0]},\n",
      "#                          clim=[0,2], cmapName='gray', transparency=[0,0,0]) # 5.\n",
      "\n",
      "#         # read the GeoTIFF image and save it with GDAL using LZW compression\n",
      "#         dataset = gdal.Open(figureNameTiff, gdal.GA_ReadOnly)\n",
      "#         band = dataset.GetRasterBand(1)\n",
      "#         z = band.ReadAsArray()\n",
      "\n",
      "#         # Remove tmp nonLZW GeoTIFF\n",
      "#         os.remove(figureNameTiff)\n",
      "\n",
      "#         # Write out the LZW GeoTIFF \n",
      "#         out = gdal.GetDriverByName('Gtiff').Create(figureNameTiff, \\\n",
      "#                                                                   band.XSize, \\\n",
      "#                                                                   band.YSize, 1, \\\n",
      "#                                                                   gdal.GDT_Byte, \\\n",
      "#                                                                   ['COMPRESS=LZW'])\n",
      "#         out.GetRasterBand(1).WriteArray(z)\n",
      "#         out = None\n",
      "#         # Add proj param to GeoTIFF\n",
      "#         n1.vrt.copyproj(figureNameTiff)\n",
      "\n",
      "        \n",
      "        \n",
      "        \n",
      "        \n",
      "        \n",
      "        \n",
      "        \n",
      "        \n",
      "\n",
      "        # export all data into NetCDF format\n",
      "#         print \"Exporting to NetCDF...\"\n",
      "#         n1.export(figureNameNetCDF)\n",
      "\n",
      "\n",
      "\n",
      "\n",
      "#         ## Project to EPSG:3857\n",
      "#         logger.info('Reprojecting to EPSG:3857...')\n",
      "\n",
      "#         n1.reproject() # 1.\n",
      "    \n",
      "#         lons, lats = n1.get_corners()\n",
      "#         pxlRes = array(distancelib.getPixelResolution(array(lats), array(lons), n1.shape(), 'km'))*1000\n",
      "#         pxlRes = pxlRes*scale # make the resolution worser\n",
      "\n",
      "#         #srsString = 3413\n",
      "#         srsString = 3857 # for Google Maps\n",
      "#         extentString = '-lle %f %f %f %f -tr %f %f' % (min(lonlim), min(latlim), \\\n",
      "#                         max(lonlim), max(latlim), pxlRes[1], pxlRes[0])\n",
      "#         #extentString = '-lle %f %f %f %f -tr %f %f' % (min(lons), min(lats), max(lons), max(lats), \\\n",
      "#         #                pxlRes[1], pxlRes[0])\n",
      "#         d = Domain(srs=srsString, ext=extentString) # 3.\n",
      "#         n1.reproject(d) # 4.\n",
      "        \n",
      "#         # write one band to GeoTIFF for geoserver using write_figure method\n",
      "#         wm = n1.watermask(mod44path='/media/SOLabNFS/store/auxdata/coastline/mod44w/')\n",
      "#         wmArray = wm[1]\n",
      "#         n1.write_figure(fileName=figureNameTiff, bands=[6], \\\n",
      "#                          mask_array=wmArray, mask_lut={0: [0,0,0]},\n",
      "#                          clim=[0,2], cmapName='gray', transparency=[0,0,0]) # 5.\n",
      "        \n",
      "#         # read the GeoTIFF image and save it with GDAL using LZW compression\n",
      "#         dataset = gdal.Open(figureNameTiff, gdal.GA_ReadOnly)\n",
      "#         band = dataset.GetRasterBand(1)\n",
      "#         z = band.ReadAsArray()\n",
      "\n",
      "#         # Remove tmp nonLZW GeoTIFF\n",
      "#         os.remove(figureNameTiff)\n",
      "\n",
      "#         # Write out the LZW GeoTIFF \n",
      "#         out = gdal.GetDriverByName('Gtiff').Create(figureNameTiff, \\\n",
      "#                                                                   band.XSize, \\\n",
      "#                                                                   band.YSize, 1, \\\n",
      "#                                                                   gdal.GDT_Byte, \\\n",
      "#                                                                   ['COMPRESS=LZW'])\n",
      "#         out.GetRasterBand(1).WriteArray(z)\n",
      "#         out = None\n",
      "#         # Add proj param to GeoTIFF\n",
      "#         n1.vrt.copyproj(figureNameTiff)\n",
      "\n",
      "        #~ Change the file permissions\n",
      "        try:\n",
      "            os.chmod(kmlName, 0777)\n",
      "            os.chmod(figureName, 0777)\n",
      "            os.chmod(figureNameTiff, 0777)\n",
      "            os.chmod(figureNameWind, 0777)\n",
      "            os.chmod(figureNameNetCDF, 0777)\n",
      "        except:\n",
      "            pass\n",
      "\n",
      "        #~ garbage collection\n",
      "        gc.collect()\n",
      "\n",
      "        del wmArray"
     ],
     "language": "python",
     "metadata": {},
     "outputs": [
      {
       "output_type": "stream",
       "stream": "stderr",
       "text": [
        "INFO:procASAR:ASA_IMM_1PNPDK20110815_134542_000000633105_00312_49464_6165.N1\n"
       ]
      },
      {
       "output_type": "stream",
       "stream": "stderr",
       "text": [
        "INFO:procASAR:ASA_APM_1PNPDE20110815_142659_000000843105_00312_49464_8806.N1\n"
       ]
      },
      {
       "output_type": "stream",
       "stream": "stdout",
       "text": [
        "NO region Overlap\n",
        "NO region Overlap"
       ]
      },
      {
       "output_type": "stream",
       "stream": "stderr",
       "text": [
        "INFO:procASAR:ASA_WSM_1PNPDE20110815_090644_000001903105_00309_49461_8731.N1\n"
       ]
      },
      {
       "output_type": "stream",
       "stream": "stdout",
       "text": [
        "\n",
        "NO region Overlap"
       ]
      },
      {
       "output_type": "stream",
       "stream": "stderr",
       "text": [
        "INFO:procASAR:ASA_WSM_1PNPDK20110815_203109_000000923105_00316_49468_6288.N1\n"
       ]
      },
      {
       "output_type": "stream",
       "stream": "stdout",
       "text": [
        "\n",
        "NO region Overlap"
       ]
      },
      {
       "output_type": "stream",
       "stream": "stderr",
       "text": [
        "INFO:procASAR:ASA_WSM_1PNPDE20110815_041737_000002203105_00306_49458_8617.N1\n"
       ]
      },
      {
       "output_type": "stream",
       "stream": "stdout",
       "text": [
        "\n",
        "NO region Overlap"
       ]
      },
      {
       "output_type": "stream",
       "stream": "stderr",
       "text": [
        "INFO:procASAR:ASA_WSM_1PNPDE20110815_073206_000000923105_00308_49460_8693.N1\n"
       ]
      },
      {
       "output_type": "stream",
       "stream": "stdout",
       "text": [
        "\n",
        "NO region Overlap"
       ]
      },
      {
       "output_type": "stream",
       "stream": "stderr",
       "text": [
        "INFO:procASAR:ASA_IMM_1PNPDK20110815_134313_000000373105_00312_49464_6166.N1\n"
       ]
      },
      {
       "output_type": "stream",
       "stream": "stdout",
       "text": [
        "\n",
        "NO region Overlap"
       ]
      },
      {
       "output_type": "stream",
       "stream": "stderr",
       "text": [
        "INFO:procASAR:ASA_WSM_1PNPDE20110815_104703_000001353105_00310_49462_8754.N1\n"
       ]
      },
      {
       "output_type": "stream",
       "stream": "stdout",
       "text": [
        "\n",
        "NO region Overlap"
       ]
      },
      {
       "output_type": "stream",
       "stream": "stderr",
       "text": [
        "INFO:procASAR:ASA_WSM_1PNIPA20110815_202527_000001353105_00316_49468_5040.N1\n"
       ]
      },
      {
       "output_type": "stream",
       "stream": "stdout",
       "text": [
        "\n",
        "NO region Overlap"
       ]
      },
      {
       "output_type": "stream",
       "stream": "stderr",
       "text": [
        "INFO:procASAR:ASA_WSM_1PNPDE20110815_091923_000003923105_00309_49461_8733.N1\n"
       ]
      },
      {
       "output_type": "stream",
       "stream": "stdout",
       "text": [
        "\n",
        "NO region Overlap"
       ]
      },
      {
       "output_type": "stream",
       "stream": "stderr",
       "text": [
        "INFO:procASAR:ASA_WSM_1PNIPA20110815_220757_000001713105_00317_49469_5042.N1\n"
       ]
      },
      {
       "output_type": "stream",
       "stream": "stdout",
       "text": [
        "\n",
        "NO region Overlap"
       ]
      },
      {
       "output_type": "stream",
       "stream": "stderr",
       "text": [
        "INFO:procASAR:ASA_WSM_1PNPDE20110815_022050_000002143105_00305_49457_8582.N1\n"
       ]
      },
      {
       "output_type": "stream",
       "stream": "stdout",
       "text": [
        "\n",
        "NO region Overlap"
       ]
      },
      {
       "output_type": "stream",
       "stream": "stderr",
       "text": [
        "INFO:procASAR:ASA_WSM_1PNPDK20110815_155700_000002693105_00313_49465_6214.N1\n"
       ]
      },
      {
       "output_type": "stream",
       "stream": "stdout",
       "text": [
        "\n",
        "NO region Overlap"
       ]
      },
      {
       "output_type": "stream",
       "stream": "stderr",
       "text": [
        "INFO:procASAR:ASA_WSM_1PNPDE20110815_002902_000005693105_00304_49456_8549.N1\n"
       ]
      },
      {
       "output_type": "stream",
       "stream": "stdout",
       "text": [
        "\n",
        "NO region Overlap"
       ]
      },
      {
       "output_type": "stream",
       "stream": "stderr",
       "text": [
        "INFO:procASAR:ASA_WSM_1PNPDE20110815_021430_000000923105_00305_49457_8579.N1\n"
       ]
      },
      {
       "output_type": "stream",
       "stream": "stdout",
       "text": [
        "\n",
        "NO region Overlap"
       ]
      },
      {
       "output_type": "stream",
       "stream": "stderr",
       "text": [
        "INFO:procASAR:ASA_WSM_1PNPDE20110815_035332_000002083105_00306_49458_8612.N1\n"
       ]
      },
      {
       "output_type": "stream",
       "stream": "stdout",
       "text": [
        "\n",
        "NO region Overlap"
       ]
      },
      {
       "output_type": "stream",
       "stream": "stderr",
       "text": [
        "INFO:procASAR:ASA_WSM_1PNPDE20110815_185856_000002513105_00315_49467_8824.N1\n"
       ]
      },
      {
       "output_type": "stream",
       "stream": "stdout",
       "text": [
        "\n",
        "NO region Overlap"
       ]
      },
      {
       "output_type": "stream",
       "stream": "stderr",
       "text": [
        "INFO:procASAR:ASA_WSM_1PNPDE20110815_221853_000004713105_00317_49469_8858.N1\n"
       ]
      },
      {
       "output_type": "stream",
       "stream": "stderr",
       "text": [
        "INFO:procASAR:Reprojecting to Simple Cylindrical...\n"
       ]
      },
      {
       "output_type": "stream",
       "stream": "stdout",
       "text": [
        "\n",
        "'.png'"
       ]
      },
      {
       "output_type": "stream",
       "stream": "stderr",
       "text": [
        "INFO:procASAR:ASA_WSM_1PNPDE20110815_235256_000002083105_00318_49470_8863.N1\n"
       ]
      },
      {
       "output_type": "stream",
       "stream": "stdout",
       "text": [
        "\n",
        "NO region Overlap"
       ]
      },
      {
       "output_type": "stream",
       "stream": "stderr",
       "text": [
        "INFO:procASAR:ASA_WSM_1PNPDE20110815_045216_000002883105_00306_49458_8654.N1\n"
       ]
      },
      {
       "output_type": "stream",
       "stream": "stdout",
       "text": [
        "\n",
        "NO region Overlap"
       ]
      },
      {
       "output_type": "stream",
       "stream": "stderr",
       "text": [
        "INFO:procASAR:ASA_WSM_1PNPDK20110815_104129_000001533105_00310_49462_6056.N1\n"
       ]
      },
      {
       "output_type": "stream",
       "stream": "stdout",
       "text": [
        "\n",
        "NO region Overlap"
       ]
      },
      {
       "output_type": "stream",
       "stream": "stderr",
       "text": [
        "INFO:procASAR:ASA_WSM_1PNPDK20110815_171655_000002693105_00314_49466_6232.N1\n"
       ]
      },
      {
       "output_type": "stream",
       "stream": "stdout",
       "text": [
        "\n",
        "NO region Overlap"
       ]
      },
      {
       "output_type": "stream",
       "stream": "stderr",
       "text": [
        "INFO:procASAR:ASA_WSM_1PNPDK20110815_185658_000001533105_00315_49467_6266.N1\n"
       ]
      },
      {
       "output_type": "stream",
       "stream": "stdout",
       "text": [
        "\n",
        "NO region Overlap"
       ]
      },
      {
       "output_type": "stream",
       "stream": "stderr",
       "text": [
        "INFO:procASAR:ASA_WSM_1PNPDK20110815_221450_000002323105_00317_49469_6317.N1\n"
       ]
      },
      {
       "output_type": "stream",
       "stream": "stdout",
       "text": [
        "\n",
        "NO region Overlap"
       ]
      },
      {
       "output_type": "stream",
       "stream": "stderr",
       "text": [
        "INFO:procASAR:ASA_WSM_1PNPDE20110815_054129_000001773105_00307_49459_8652.N1\n"
       ]
      },
      {
       "output_type": "stream",
       "stream": "stdout",
       "text": [
        "\n",
        "NO region Overlap"
       ]
      },
      {
       "output_type": "stream",
       "stream": "stderr",
       "text": [
        "INFO:procASAR:ASA_WSM_1PNPDK20110815_154031_000001283105_00313_49465_6209.N1\n"
       ]
      },
      {
       "output_type": "stream",
       "stream": "stdout",
       "text": [
        "\n",
        "NO region Overlap"
       ]
      },
      {
       "output_type": "stream",
       "stream": "stderr",
       "text": [
        "INFO:procASAR:ASA_WSM_1PNPDK20110815_104129_000001533105_00310_49462_6055.N1\n"
       ]
      },
      {
       "output_type": "stream",
       "stream": "stdout",
       "text": [
        "\n",
        "NO region Overlap"
       ]
      },
      {
       "output_type": "stream",
       "stream": "stderr",
       "text": [
        "INFO:procASAR:ASA_WSM_1PNPDK20110815_122054_000004533105_00311_49463_6115.N1\n"
       ]
      },
      {
       "output_type": "stream",
       "stream": "stdout",
       "text": [
        "\n",
        "NO region Overlap"
       ]
      },
      {
       "output_type": "stream",
       "stream": "stderr",
       "text": [
        "INFO:procASAR:ASA_WSM_1PNPDE20110815_090148_000001533105_00309_49461_8727.N1\n"
       ]
      },
      {
       "output_type": "stream",
       "stream": "stdout",
       "text": [
        "\n",
        "NO region Overlap"
       ]
      },
      {
       "output_type": "stream",
       "stream": "stderr",
       "text": [
        "INFO:procASAR:ASA_WSM_1PNPDE20110423_021045_000000923101_00391_47819_4776.N1\n"
       ]
      },
      {
       "output_type": "stream",
       "stream": "stdout",
       "text": [
        "\n",
        "NO region Overlap"
       ]
      },
      {
       "output_type": "stream",
       "stream": "stderr",
       "text": [
        "INFO:procASAR:ASA_APM_1PNPDE20110423_140515_000000843101_00398_47826_4947.N1\n"
       ]
      },
      {
       "output_type": "stream",
       "stream": "stdout",
       "text": [
        "\n",
        "NO region Overlap"
       ]
      },
      {
       "output_type": "stream",
       "stream": "stderr",
       "text": [
        "INFO:procASAR:ASA_IMM_1PNPDE20110423_030930_000000793101_00391_47819_4791.N1\n"
       ]
      },
      {
       "output_type": "stream",
       "stream": "stdout",
       "text": [
        "\n",
        "NO region Overlap"
       ]
      },
      {
       "output_type": "stream",
       "stream": "stderr",
       "text": [
        "INFO:procASAR:ASA_WSM_1PNPDE20110423_084601_000001043101_00395_47823_4877.N1\n"
       ]
      },
      {
       "output_type": "stream",
       "stream": "stdout",
       "text": [
        "\n",
        "NO region Overlap"
       ]
      },
      {
       "output_type": "stream",
       "stream": "stderr",
       "text": [
        "INFO:procASAR:ASA_WSM_1PNPDK20110423_084355_000004163101_00395_47823_3645.N1\n"
       ]
      },
      {
       "output_type": "stream",
       "stream": "stdout",
       "text": [
        "\n",
        "NO region Overlap"
       ]
      },
      {
       "output_type": "stream",
       "stream": "stderr",
       "text": [
        "INFO:procASAR:ASA_WSM_1PNPDK20110423_200936_000002393101_00402_47830_3893.N1\n"
       ]
      },
      {
       "output_type": "stream",
       "stream": "stdout",
       "text": [
        "\n"
       ]
      },
      {
       "ename": "OverflowError",
       "evalue": "in method 'VSIFWriteL', argument 3 of type 'int'",
       "output_type": "pyerr",
       "traceback": [
        "\u001b[1;31m---------------------------------------------------------------------------\u001b[0m\n\u001b[1;31mOverflowError\u001b[0m                             Traceback (most recent call last)",
        "\u001b[1;32m<ipython-input-11-cd4619bdeeea>\u001b[0m in \u001b[0;36m<module>\u001b[1;34m()\u001b[0m\n\u001b[0;32m    149\u001b[0m         \u001b[0mn1\u001b[0m\u001b[1;33m.\u001b[0m\u001b[0mfileName\u001b[0m \u001b[1;33m=\u001b[0m \u001b[0mn\u001b[0m\u001b[1;33m.\u001b[0m\u001b[0mfileName\u001b[0m\u001b[1;33m\u001b[0m\u001b[0m\n\u001b[0;32m    150\u001b[0m \u001b[1;33m\u001b[0m\u001b[0m\n\u001b[1;32m--> 151\u001b[1;33m         \u001b[0mn1\u001b[0m\u001b[1;33m.\u001b[0m\u001b[0madd_band\u001b[0m\u001b[1;33m(\u001b[0m\u001b[0mbandID\u001b[0m\u001b[1;33m=\u001b[0m\u001b[1;36m6\u001b[0m\u001b[1;33m,\u001b[0m \u001b[0marray\u001b[0m\u001b[1;33m=\u001b[0m\u001b[0mroughness\u001b[0m\u001b[1;33m,\u001b[0m            \u001b[0mparameters\u001b[0m\u001b[1;33m=\u001b[0m\u001b[1;33m{\u001b[0m\u001b[1;34m'name'\u001b[0m\u001b[1;33m:\u001b[0m\u001b[1;34m'roughness'\u001b[0m\u001b[1;33m,\u001b[0m            \u001b[1;34m'wkv'\u001b[0m\u001b[1;33m:\u001b[0m \u001b[1;34m'surface_backwards_scattering_coefficient_of_radar_wave'\u001b[0m\u001b[1;33m,\u001b[0m            \u001b[1;34m'dataType'\u001b[0m\u001b[1;33m:\u001b[0m \u001b[1;36m7\u001b[0m\u001b[1;33m,\u001b[0m \u001b[1;34m'minmax'\u001b[0m\u001b[1;33m:\u001b[0m \u001b[1;34m'0 2'\u001b[0m\u001b[1;33m}\u001b[0m\u001b[1;33m)\u001b[0m\u001b[1;33m\u001b[0m\u001b[0m\n\u001b[0m\u001b[0;32m    152\u001b[0m \u001b[1;33m\u001b[0m\u001b[0m\n\u001b[0;32m    153\u001b[0m \u001b[1;31m#         n1.add_band(bandID=7, array=wPar, \\\u001b[0m\u001b[1;33m\u001b[0m\u001b[1;33m\u001b[0m\u001b[0m\n",
        "\u001b[1;32m/home/mag/Documents/repos/nansat2/nansat.pyc\u001b[0m in \u001b[0;36madd_band\u001b[1;34m(self, fileName, vrt, bandID, array, parameters, resamplingAlg, nomem)\u001b[0m\n\u001b[0;32m    303\u001b[0m             \u001b[1;32mif\u001b[0m \u001b[0marray\u001b[0m\u001b[1;33m.\u001b[0m\u001b[0mshape\u001b[0m \u001b[1;33m==\u001b[0m \u001b[0mself\u001b[0m\u001b[1;33m.\u001b[0m\u001b[0mshape\u001b[0m\u001b[1;33m(\u001b[0m\u001b[1;33m)\u001b[0m\u001b[1;33m:\u001b[0m\u001b[1;33m\u001b[0m\u001b[0m\n\u001b[0;32m    304\u001b[0m                 \u001b[1;31m# create VRT from array\u001b[0m\u001b[1;33m\u001b[0m\u001b[1;33m\u001b[0m\u001b[0m\n\u001b[1;32m--> 305\u001b[1;33m                 \u001b[0mvrt2add\u001b[0m \u001b[1;33m=\u001b[0m \u001b[0mVRT\u001b[0m\u001b[1;33m(\u001b[0m\u001b[0marray\u001b[0m\u001b[1;33m=\u001b[0m\u001b[0marray\u001b[0m\u001b[1;33m,\u001b[0m \u001b[0mnomem\u001b[0m\u001b[1;33m=\u001b[0m\u001b[0mnomem\u001b[0m\u001b[1;33m)\u001b[0m\u001b[1;33m\u001b[0m\u001b[0m\n\u001b[0m\u001b[0;32m    306\u001b[0m             \u001b[1;32melse\u001b[0m\u001b[1;33m:\u001b[0m\u001b[1;33m\u001b[0m\u001b[0m\n\u001b[0;32m    307\u001b[0m                 \u001b[1;31m# create VRT from resized array\u001b[0m\u001b[1;33m\u001b[0m\u001b[1;33m\u001b[0m\u001b[0m\n",
        "\u001b[1;32m/home/mag/Documents/repos/nansat2/vrt.pyc\u001b[0m in \u001b[0;36m__init__\u001b[1;34m(self, gdalDataset, vrtDataset, array, srcGeoTransform, srcProjection, srcRasterXSize, srcRasterYSize, srcGCPs, srcGCPProjection, srcMetadata, geolocationArray, nomem, lat, lon)\u001b[0m\n\u001b[0;32m    266\u001b[0m                                                      bands=0)\n\u001b[0;32m    267\u001b[0m             \u001b[1;32melse\u001b[0m\u001b[1;33m:\u001b[0m\u001b[1;33m\u001b[0m\u001b[0m\n\u001b[1;32m--> 268\u001b[1;33m                 \u001b[0mself\u001b[0m\u001b[1;33m.\u001b[0m\u001b[0mcreate_dataset_from_array\u001b[0m\u001b[1;33m(\u001b[0m\u001b[0marray\u001b[0m\u001b[1;33m)\u001b[0m\u001b[1;33m\u001b[0m\u001b[0m\n\u001b[0m\u001b[0;32m    269\u001b[0m \u001b[1;33m\u001b[0m\u001b[0m\n\u001b[0;32m    270\u001b[0m             \u001b[1;31m# set geo-metadata in the VRT dataset\u001b[0m\u001b[1;33m\u001b[0m\u001b[1;33m\u001b[0m\u001b[0m\n",
        "\u001b[1;32m/home/mag/Documents/repos/nansat2/vrt.pyc\u001b[0m in \u001b[0;36mcreate_dataset_from_array\u001b[1;34m(self, array)\u001b[0m\n\u001b[0;32m    669\u001b[0m         \u001b[0mbinaryFile\u001b[0m \u001b[1;33m=\u001b[0m \u001b[0mself\u001b[0m\u001b[1;33m.\u001b[0m\u001b[0mfileName\u001b[0m\u001b[1;33m.\u001b[0m\u001b[0mreplace\u001b[0m\u001b[1;33m(\u001b[0m\u001b[1;34m'.vrt'\u001b[0m\u001b[1;33m,\u001b[0m \u001b[1;34m'.raw'\u001b[0m\u001b[1;33m)\u001b[0m\u001b[1;33m\u001b[0m\u001b[0m\n\u001b[0;32m    670\u001b[0m         \u001b[0mofile\u001b[0m \u001b[1;33m=\u001b[0m \u001b[0mgdal\u001b[0m\u001b[1;33m.\u001b[0m\u001b[0mVSIFOpenL\u001b[0m\u001b[1;33m(\u001b[0m\u001b[0mbinaryFile\u001b[0m\u001b[1;33m,\u001b[0m \u001b[1;34m'wb'\u001b[0m\u001b[1;33m)\u001b[0m\u001b[1;33m\u001b[0m\u001b[0m\n\u001b[1;32m--> 671\u001b[1;33m         \u001b[0mgdal\u001b[0m\u001b[1;33m.\u001b[0m\u001b[0mVSIFWriteL\u001b[0m\u001b[1;33m(\u001b[0m\u001b[0marray\u001b[0m\u001b[1;33m.\u001b[0m\u001b[0mtostring\u001b[0m\u001b[1;33m(\u001b[0m\u001b[1;33m)\u001b[0m\u001b[1;33m,\u001b[0m \u001b[0mlen\u001b[0m\u001b[1;33m(\u001b[0m\u001b[0marray\u001b[0m\u001b[1;33m.\u001b[0m\u001b[0mtostring\u001b[0m\u001b[1;33m(\u001b[0m\u001b[1;33m)\u001b[0m\u001b[1;33m)\u001b[0m\u001b[1;33m,\u001b[0m \u001b[1;36m1\u001b[0m\u001b[1;33m,\u001b[0m \u001b[0mofile\u001b[0m\u001b[1;33m)\u001b[0m\u001b[1;33m\u001b[0m\u001b[0m\n\u001b[0m\u001b[0;32m    672\u001b[0m         \u001b[0mgdal\u001b[0m\u001b[1;33m.\u001b[0m\u001b[0mVSIFCloseL\u001b[0m\u001b[1;33m(\u001b[0m\u001b[0mofile\u001b[0m\u001b[1;33m)\u001b[0m\u001b[1;33m\u001b[0m\u001b[0m\n\u001b[0;32m    673\u001b[0m         \u001b[0marray\u001b[0m \u001b[1;33m=\u001b[0m \u001b[0mNone\u001b[0m\u001b[1;33m\u001b[0m\u001b[0m\n",
        "\u001b[1;32m/usr/lib/python2.7/dist-packages/osgeo/gdal.pyc\u001b[0m in \u001b[0;36mVSIFWriteL\u001b[1;34m(*args)\u001b[0m\n\u001b[0;32m    320\u001b[0m \u001b[1;32mdef\u001b[0m \u001b[0mVSIFWriteL\u001b[0m\u001b[1;33m(\u001b[0m\u001b[1;33m*\u001b[0m\u001b[0margs\u001b[0m\u001b[1;33m)\u001b[0m\u001b[1;33m:\u001b[0m\u001b[1;33m\u001b[0m\u001b[0m\n\u001b[0;32m    321\u001b[0m   \u001b[1;34m\"\"\"VSIFWriteL(int nLen, int size, int memb, VSILFILE f) -> int\"\"\"\u001b[0m\u001b[1;33m\u001b[0m\u001b[0m\n\u001b[1;32m--> 322\u001b[1;33m   \u001b[1;32mreturn\u001b[0m \u001b[0m_gdal\u001b[0m\u001b[1;33m.\u001b[0m\u001b[0mVSIFWriteL\u001b[0m\u001b[1;33m(\u001b[0m\u001b[1;33m*\u001b[0m\u001b[0margs\u001b[0m\u001b[1;33m)\u001b[0m\u001b[1;33m\u001b[0m\u001b[0m\n\u001b[0m\u001b[0;32m    323\u001b[0m \u001b[1;32mclass\u001b[0m \u001b[0mMajorObject\u001b[0m\u001b[1;33m(\u001b[0m\u001b[0m_object\u001b[0m\u001b[1;33m)\u001b[0m\u001b[1;33m:\u001b[0m\u001b[1;33m\u001b[0m\u001b[0m\n\u001b[0;32m    324\u001b[0m     \u001b[1;34m\"\"\"Proxy of C++ GDALMajorObjectShadow class\"\"\"\u001b[0m\u001b[1;33m\u001b[0m\u001b[0m\n",
        "\u001b[1;31mOverflowError\u001b[0m: in method 'VSIFWriteL', argument 3 of type 'int'"
       ]
      }
     ],
     "prompt_number": 11
    },
    {
     "cell_type": "code",
     "collapsed": false,
     "input": [],
     "language": "python",
     "metadata": {},
     "outputs": []
    },
    {
     "cell_type": "code",
     "collapsed": false,
     "input": [
      "# %debug"
     ],
     "language": "python",
     "metadata": {},
     "outputs": []
    },
    {
     "cell_type": "code",
     "collapsed": false,
     "input": [],
     "language": "python",
     "metadata": {},
     "outputs": []
    },
    {
     "cell_type": "raw",
     "metadata": {},
     "source": [
      "n.reproject() # 1.\n",
      "\n",
      "latlim = array((n.get_corners()[1][1], n.get_corners()[1][2]))\n",
      "lonlim = array((n.get_corners()[0][1], n.get_corners()[0][2]))\n",
      "\n",
      "pxlRes = array(distancelib.getPixelResolution(array(lats), array(lons), n.shape(), 'km'))*1000\n",
      "\n",
      "pxlRes = pxlRes*7 # make the resolution worser\n",
      "\n",
      "srsString = 3857 # for Google Maps\n",
      "extentString = '-lle %f %f %f %f -tr %f %f' % (min(lonlim), min(latlim), \\\n",
      "                        max(lonlim), max(latlim), pxlRes[1], pxlRes[0])\n",
      "d = Domain(srs=srsString, ext=extentString) # 3.\n",
      "n.reproject(d) # 4.\n",
      "\n",
      "        #~ Get the bands\n",
      "        inc_angle = n[3][0]\n",
      "        raw_counts = n[1]\n",
      "        #~ NICE image (roughness)\n",
      "        pol = n.bands()[4]['polarization']\n",
      "        if pol == 'HH':\n",
      "            ph = (2.20495, -14.3561e-2, 11.28e-4)\n",
      "            sigma0_hh_ref = exp( ( ph[0]+inc_angle*ph[1]+inc_angle**2*ph[2])*log(10) )\n",
      "            roughness = n[4]/sigma0_hh_ref\n",
      "        elif pol == 'VV':\n",
      "            pv = (2.29373, -15.393e-2, 15.1762e-4)\n",
      "            sigma0_vv_ref = exp( ( pv[0]+inc_angle*pv[1]+inc_angle**2*pv[2])*log(10) )\n",
      "            roughness = n[4]/sigma0_vv_ref"
     ]
    },
    {
     "cell_type": "raw",
     "metadata": {},
     "source": [
      "plt.figure()\n",
      "plt.imshow(roughness[::10,::10], vmin=0, vmax=2)\n",
      "plt.colorbar()\n",
      "plt.gray()"
     ]
    },
    {
     "cell_type": "raw",
     "metadata": {},
     "source": [
      "plt.figure()\n",
      "plt.imshow(n[7][::10,::10], vmin=0, vmax=2)\n",
      "plt.colorbar()\n",
      "plt.gray()"
     ]
    },
    {
     "cell_type": "raw",
     "metadata": {},
     "source": [
      "plt.figure()\n",
      "plt.imshow(n[4][::10,::10], vmin=0, vmax=0.1)\n",
      "plt.colorbar()\n",
      "plt.gray()"
     ]
    },
    {
     "cell_type": "raw",
     "metadata": {},
     "source": [
      "        n.reproject() # 1.\n",
      "        #lons, lats = n.get_corners() # 2.\n",
      "\n",
      "        # Pixel resolution\n",
      "        pxlRes = array(distancelib.getPixelResolution(array(lats), array(lons), n.shape(), 'deg'))\n",
      "\n",
      "        pxlRes = pxlRes*7 # make the resolution worser\n",
      "\n",
      "        srsString = \"+proj=longlat +datum=WGS84 +ellps=WGS84 +no_defs\"\n",
      "        extentString = '-lle %f %f %f %f -tr %f %f' % (min(lonlim), min(latlim), \\\n",
      "                        max(lonlim), max(latlim), pxlRes[1], pxlRes[0])\n",
      "        #extentString = '-lle %f %f %f %f -tr %f %f' % (min(lons), min(lats), max(lons), max(lats), \\\n",
      "        #                pxlRes[1], pxlRes[0])\n",
      "            \n",
      "        d = Domain(srs=srsString, ext=extentString) # 3.\n",
      "        n.reproject(d) # 4.\n",
      "        \n",
      "        if useMask:\n",
      "            # get array with watermask (landmask) b\n",
      "            # it must be done after reprojection!\n",
      "            # 1. Get Nansat object with watermask\n",
      "            # 2. Get array from Nansat object. 0 - land, 1 - water\n",
      "            wm = n.watermask(mod44path='/media/SOLabNFS/store/auxdata/coastline/mod44w/')\n",
      "            wmArray = wm[1]\n",
      "\n",
      "            #~ \u041e\u0428\u0418\u0411\u041a\u0410 numOfColor=255 \u043d\u0435 \u043c\u0430\u0441\u043a\u0438\u0440\u0443\u0435\u0442, \u043f\u043e\u0442\u043e\u043c\u0443 \u0447\u0442\u043e \u0432 figure.apply_mask: availIndeces = range(self.d['numOfColor'], 255 - 1)\n",
      "            #~ n.write_figure(fileName=figureName, bands=[3], \\\n",
      "                        #~ numOfColor=255, mask_array=wmArray, mask_lut={0: 0},\n",
      "                        #~ clim=[0,0.15], cmapName='gray', transparency=0) # 5.\n",
      "            try:\n",
      "                n.write_figure(fileName=figureName, bands=[7], \\\n",
      "                                mask_array=wmArray, mask_lut={0: [0,0,0]}, \\\n",
      "                                clim=[0,2], cmapName='gray', transparency=[0,0,0]) # 5.\n",
      "            except Exception as e:\n",
      "                print str(e)\n",
      "                os.rmdir(oPath + fileName[0:27] + '/' )\n",
      "                pass\n",
      "        else:\n",
      "            try:\n",
      "                n.write_figure(fileName=figureName, bands=[7], \\\n",
      "                                clim=[0,2], cmapName='gray', transparency=[0,0,0]) # 5.\n",
      "            except Exception as e:\n",
      "                print str(e)\n",
      "                os.rmdir(oPath + fileName[0:27] + '/' )\n",
      "                pass"
     ]
    }
   ],
   "metadata": {}
  }
 ]
}