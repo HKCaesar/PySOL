{
 "metadata": {
  "name": "review_dielectric_constant_oil_SAR"
 },
 "nbformat": 3,
 "nbformat_minor": 0,
 "worksheets": [
  {
   "cells": [
    {
     "cell_type": "code",
     "collapsed": false,
     "input": [
      "from numpy import *\n",
      "import matplotlib.pyplot as plt"
     ],
     "language": "python",
     "metadata": {},
     "outputs": [],
     "prompt_number": 1
    },
    {
     "cell_type": "markdown",
     "metadata": {},
     "source": [
      "$$R_{HH} = \\frac{ \\cos{\u03b8_i} \u2212 \\sqrt{\u03b5_r \u2212 \\sin^2{\u03b8_i}} } { \\cos{\u03b8_i} + \\sqrt{\u03b5_r \u2212 \\sin^2{\u03b8_i}} }$$\n",
      "$$R_{VV} = \\frac{ (\u03b5_r - 1)\\{\\sin^2 \\theta_i - \\epsilon_r [1 + \\sin^2 \\theta_i]\\} } { (\\epsilon_r \\cos \\theta_i + \\sqrt{\\epsilon_r - \\sin^2 \\theta_i})^2 }$$"
     ]
    },
    {
     "cell_type": "markdown",
     "metadata": {},
     "source": [
      "$$\\sigma^{0}_{VV} = { 4 \\pi k_r^4 \\cos^4 \\theta_i }\n",
      "\\Bigl|\n",
      "\u0001\u0001\u0001\u0001\u0001\\left( \\frac{\\sin(\\theta + \\psi) \\cos \\zeta}{\\sin \\theta_i} \\right)^2 R_{VV}(\\theta_i) + \n",
      "\\left( \\frac {  \\sin \\zeta } { \\sin \\theta_i } \\right)^2 R_{HH} (\\theta_i)\n",
      "\\Bigr|^2\n",
      "\\times\n",
      "W \\left( 2 k_r \\sin (\\theta + \\psi), 2 k_r \\cos (\\theta + \\psi) \\sin \\zeta \\right)\n",
      "\u0001\u0001\u0001\u0001\u0001$$"
     ]
    },
    {
     "cell_type": "markdown",
     "metadata": {},
     "source": [
      "$$\\sigma^{0}_{HV} = { 4 \\pi k_r^4 \\cos^4 \\theta_i }\n",
      "\\left( \\frac{\\sin(\\theta + \\psi) \\sin \\zeta \\cos \\zeta}{\\sin^2 \\theta_i} \\right)^2\n",
      "\\times\n",
      "\\Bigl|\n",
      "R_{VV}(\\theta_i) - R_{VV}(\\theta_i)\n",
      "\u0001\u0001\u0001\u0001\u0001\\Bigr|^2\n",
      "\\times\n",
      "W \\left( 2 k_r \\sin (\\theta + \\psi), 2 k_r \\cos (\\theta + \\psi) \\sin \\zeta \\right)\n",
      "\u0001\u0001\u0001\u0001\u0001$$"
     ]
    },
    {
     "cell_type": "code",
     "collapsed": false,
     "input": [
      "theta = arange(20.0,60.0,1)*pi/180 # radar incidence angle relative to the untilted horizontal plane\n",
      "theta_i =  theta                  # radar incidence angle relative to the tilted facet\n",
      "psi = 0\n",
      "zeta = 0\n",
      "k_r = 2*pi/20e-2\n",
      "k_B = 2*k_r*sin(theta)\n",
      "B = 1\n",
      "W = k_B**(-4)*B"
     ],
     "language": "python",
     "metadata": {},
     "outputs": [],
     "prompt_number": 2
    },
    {
     "cell_type": "heading",
     "level": 2,
     "metadata": {},
     "source": [
      "For clean water complex dielectric constant"
     ]
    },
    {
     "cell_type": "code",
     "collapsed": false,
     "input": [
      "epsilon_r = 80 - 70j"
     ],
     "language": "python",
     "metadata": {},
     "outputs": [],
     "prompt_number": 3
    },
    {
     "cell_type": "code",
     "collapsed": false,
     "input": [
      "R_HH = ( cos(theta_i) - sqrt(epsilon_r - sin(theta_i)**2) ) / \\\n",
      "       ( cos(theta_i) + sqrt(epsilon_r - sin(theta_i)**2) )\n",
      "\n",
      "R_VV = ( (epsilon_r - 1)*(sin(theta_i)**2 - epsilon_r*(1 + sin(theta_i)**2)) )/ \\\n",
      "       (  epsilon_r*cos(theta_i) + sqrt(epsilon_r - sin(theta_i)**2) )**2\n",
      "\n",
      "sigma_VV = 4*pi*k_r**4*cos(theta_i)**4 * \\\n",
      "            abs( \\\n",
      "            (sin(theta+psi)*cos(zeta)/sin(theta_i) )**2 * R_VV + (sin(zeta)/sin(theta_i))**2 * R_HH\n",
      "            )**2 * W\n",
      "\n",
      "sigma_HH = 4*pi*k_r**4*cos(theta_i)**4 * \\\n",
      "            abs( \\\n",
      "            (sin(theta+psi)*cos(zeta)/sin(theta_i) )**2 * R_HH + (sin(zeta)/sin(theta_i))**2 * R_VV\n",
      "            )**2 * W"
     ],
     "language": "python",
     "metadata": {},
     "outputs": [],
     "prompt_number": 4
    },
    {
     "cell_type": "code",
     "collapsed": false,
     "input": [
      "# Turn interactive plotting off not to display the image\n",
      "plt.ioff()\n",
      "plt.close('all')\n",
      "plt.figure(figsize=[8,8])\n",
      "plt.plot(theta*180/pi, sigma_VV/sigma_HH, 'b', label='water complex')\n",
      "plt.legend()\n",
      "#plt.plot(theta*180/pi, sigma_VV/sigma_HH)\n",
      "#plt.hold('on')\n",
      "#plt.plot(theta*180/pi, sigma_VV/sigma_HH, 'r')\n"
     ],
     "language": "python",
     "metadata": {},
     "outputs": [
      {
       "output_type": "pyout",
       "prompt_number": 5,
       "text": [
        "<matplotlib.legend.Legend at 0x25d3d50>"
       ]
      }
     ],
     "prompt_number": 5
    },
    {
     "cell_type": "heading",
     "level": 2,
     "metadata": {},
     "source": [
      "For clean water real part of the dielectric constant"
     ]
    },
    {
     "cell_type": "code",
     "collapsed": false,
     "input": [
      "epsilon_r = real(80 - 70j)\n",
      "\n",
      "R_HH = ( cos(theta_i) - sqrt(epsilon_r - sin(theta_i)**2) ) / \\\n",
      "       ( cos(theta_i) + sqrt(epsilon_r - sin(theta_i)**2) )\n",
      "\n",
      "R_VV = ( (epsilon_r - 1)*(sin(theta_i)**2 - epsilon_r*(1 + sin(theta_i)**2)) )/ \\\n",
      "       (  epsilon_r*cos(theta_i) + sqrt(epsilon_r - sin(theta_i)**2) )**2\n",
      "\n",
      "sigma_VV = 4*pi*k_r**4*cos(theta_i)**4 * \\\n",
      "            abs( \\\n",
      "            (sin(theta+psi)*cos(zeta)/sin(theta_i) )**2 * R_VV + (sin(zeta)/sin(theta_i))**2 * R_HH\n",
      "            )**2 * W\n",
      "\n",
      "sigma_HH = 4*pi*k_r**4*cos(theta_i)**4 * \\\n",
      "            abs( \\\n",
      "            (sin(theta+psi)*cos(zeta)/sin(theta_i) )**2 * R_HH + (sin(zeta)/sin(theta_i))**2 * R_VV\n",
      "            )**2 * W"
     ],
     "language": "python",
     "metadata": {},
     "outputs": [],
     "prompt_number": 6
    },
    {
     "cell_type": "code",
     "collapsed": false,
     "input": [
      "plt.hold('on')\n",
      "plt.plot(theta*180/pi, sigma_VV/sigma_HH, 'b--', label='water real')\n",
      "plt.legend()"
     ],
     "language": "python",
     "metadata": {},
     "outputs": [
      {
       "output_type": "pyout",
       "prompt_number": 7,
       "text": [
        "<matplotlib.legend.Legend at 0x26e0e90>"
       ]
      }
     ],
     "prompt_number": 7
    },
    {
     "cell_type": "heading",
     "level": 2,
     "metadata": {},
     "source": [
      "For oil complex dielectric constant"
     ]
    },
    {
     "cell_type": "code",
     "collapsed": false,
     "input": [
      "epsilon_r = 2.3 - 0.02j\n",
      "\n",
      "R_HH = ( cos(theta_i) - sqrt(epsilon_r - sin(theta_i)**2) ) / \\\n",
      "       ( cos(theta_i) + sqrt(epsilon_r - sin(theta_i)**2) )\n",
      "\n",
      "R_VV = ( (epsilon_r - 1)*(sin(theta_i)**2 - epsilon_r*(1 + sin(theta_i)**2)) )/ \\\n",
      "       (  epsilon_r*cos(theta_i) + sqrt(epsilon_r - sin(theta_i)**2) )**2\n",
      "\n",
      "sigma_VV = 4*pi*k_r**4*cos(theta_i)**4 * \\\n",
      "            abs( \\\n",
      "            (sin(theta+psi)*cos(zeta)/sin(theta_i) )**2 * R_VV + (sin(zeta)/sin(theta_i))**2 * R_HH\n",
      "            )**2 * W\n",
      "\n",
      "sigma_HH = 4*pi*k_r**4*cos(theta_i)**4 * \\\n",
      "            abs( \\\n",
      "            (sin(theta+psi)*cos(zeta)/sin(theta_i) )**2 * R_HH + (sin(zeta)/sin(theta_i))**2 * R_VV\n",
      "            )**2 * W"
     ],
     "language": "python",
     "metadata": {},
     "outputs": [],
     "prompt_number": 8
    },
    {
     "cell_type": "code",
     "collapsed": false,
     "input": [
      "plt.hold('on')\n",
      "plt.plot(theta*180/pi, sigma_VV/sigma_HH, 'r', label='oil complex')\n",
      "plt.legend()"
     ],
     "language": "python",
     "metadata": {},
     "outputs": [
      {
       "output_type": "pyout",
       "prompt_number": 9,
       "text": [
        "<matplotlib.legend.Legend at 0x26e0e50>"
       ]
      }
     ],
     "prompt_number": 9
    },
    {
     "cell_type": "heading",
     "level": 2,
     "metadata": {},
     "source": [
      "For oil real part of the dielectric constant"
     ]
    },
    {
     "cell_type": "code",
     "collapsed": false,
     "input": [
      "epsilon_r = real(2.3 - 0.02j)\n",
      "\n",
      "R_HH = ( cos(theta_i) - sqrt(epsilon_r - sin(theta_i)**2) ) / \\\n",
      "       ( cos(theta_i) + sqrt(epsilon_r - sin(theta_i)**2) )\n",
      "\n",
      "R_VV = ( (epsilon_r - 1)*(sin(theta_i)**2 - epsilon_r*(1 + sin(theta_i)**2)) )/ \\\n",
      "       (  epsilon_r*cos(theta_i) + sqrt(epsilon_r - sin(theta_i)**2) )**2\n",
      "\n",
      "sigma_VV = 4*pi*k_r**4*cos(theta_i)**4 * \\\n",
      "            abs( \\\n",
      "            (sin(theta+psi)*cos(zeta)/sin(theta_i) )**2 * R_VV + (sin(zeta)/sin(theta_i))**2 * R_HH\n",
      "            )**2 * W\n",
      "\n",
      "sigma_HH = 4*pi*k_r**4*cos(theta_i)**4 * \\\n",
      "            abs( \\\n",
      "            (sin(theta+psi)*cos(zeta)/sin(theta_i) )**2 * R_HH + (sin(zeta)/sin(theta_i))**2 * R_VV\n",
      "            )**2 * W"
     ],
     "language": "python",
     "metadata": {},
     "outputs": [],
     "prompt_number": 10
    },
    {
     "cell_type": "code",
     "collapsed": false,
     "input": [
      "# Turn interactive plotting on\n",
      "plt.ion()\n",
      "plt.hold('on')\n",
      "plt.plot(theta*180/pi, sigma_VV/sigma_HH, 'r.', label='oil real')\n",
      "plt.legend()"
     ],
     "language": "python",
     "metadata": {},
     "outputs": [
      {
       "output_type": "pyout",
       "prompt_number": 11,
       "text": [
        "<matplotlib.legend.Legend at 0x288fd50>"
       ]
      },
      {
       "output_type": "display_data",
       "png": "[encoded data removed]",
       "text": [
        "<matplotlib.figure.Figure at 0x264f350>"
       ]
      }
     ],
     "prompt_number": 11
    },
    {
     "cell_type": "code",
     "collapsed": false,
     "input": [],
     "language": "python",
     "metadata": {},
     "outputs": [],
     "prompt_number": 11
    }
   ],
   "metadata": {}
  }
 ]
}