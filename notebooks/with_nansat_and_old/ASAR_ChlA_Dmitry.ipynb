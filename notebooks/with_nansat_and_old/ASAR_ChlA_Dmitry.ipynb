{
 "metadata": {
  "name": "ASAR_ChlA_Dmitry"
 },
 "nbformat": 3,
 "nbformat_minor": 0,
 "worksheets": [
  {
   "cells": [
    {
     "cell_type": "code",
     "collapsed": false,
     "input": [
      "import shutil\n",
      "import datetime"
     ],
     "language": "python",
     "metadata": {},
     "outputs": [],
     "prompt_number": 4
    },
    {
     "cell_type": "code",
     "collapsed": false,
     "input": [
      "fileNameList = [\n",
      "            'ASA_WSM_1PNPDK20060825_091831_000003062050_00351_23451_4300.N1',\n",
      "'ASA_WSM_1PNPDK20060825_191007_000003042050_00357_23457_4345.N1',\n",
      "'ASA_WSM_1PNPDE20090820_074645_000002512081_00436_39067_9107.N1',\n",
      "'ASA_WSM_1PNPDE20090820_074758_000001782081_00436_39067_8902.N1',\n",
      "'ASA_WSM_1PNPDE20090820_074955_000000612081_00436_39067_9038.N1',\n",
      "'ASA_WSM_1PNPDK20090820_174023_000005502081_00442_39073_7250.N1',\n",
      "'ASA_WSM_1PNPDK20090821_185142_000003672081_00457_39088_8854.N1',\n",
      "'ASA_WSM_1PNPDE20110814_175209_000005143105_00300_49452_8456.N1',\n",
      "'ASA_WSM_1PNPDE20110814_193220_000000923105_00301_49453_8487.N1',\n",
      "'ASA_WSM_1PNPDK20110814_193256_000002513105_00301_49453_5811.N1',\n",
      "'ASA_WSM_1PNPDE20110815_090148_000001533105_00309_49461_8727.N1',\n",
      "'ASA_WSM_1PNPDK20110815_104129_000001533105_00310_49462_6055.N1',\n",
      "'ASA_WSM_1PNPDK20110815_104129_000001533105_00310_49462_6056.N1',\n",
      "'ASA_WSM_1PNPDK20110815_171655_000002693105_00314_49466_6232.N1',\n",
      "'ASA_WSM_1PNPDK20110815_185658_000001533105_00315_49467_6266.N1',\n",
      "'ASA_WSM_1PNPDE20110816_100502_000001533105_00324_49476_9030.N1',\n",
      "'ASA_WSM_1PNPDK20110816_182025_000001533105_00329_49481_6694.N1',\n",
      "'ASA_WSM_1PNPDE20110817_093028_000002083105_00338_49490_9445.N1',\n",
      "'ASA_WSM_1PNPDK20110817_093054_000001163105_00338_49490_6918.N1',\n",
      "'ASA_WSM_1PNPDK20110817_174344_000002083105_00343_49495_7153.N1',\n",
      "'ASA_WSM_1PNPDK20110817_192335_000002143105_00344_49496_7208.N1',\n",
      "'ASA_WSM_1PNPDK20110818_103134_000001533105_00353_49505_7532.N1',\n",
      "'ASA_WSM_1PNPDK20110818_184703_000001533105_00358_49510_7730.N1',\n",
      "'ASA_IMM_1PNPDK20110910_062950_000002093106_00250_49833_7674.N1',\n",
      "'ASA_WSM_1PNPDK20110910_180405_000002083106_00257_49840_7938.N1',\n",
      "'ASA_WSM_1PNPDK20110910_194224_000000923106_00258_49841_7965.N1',\n",
      "'ASA_WSM_1PNPDK20110910_194224_000000923106_00258_49841_7965.N1',\n",
      "'ASA_WSM_1PNPDK20110910_194359_000001533106_00258_49841_7966.N1',\n",
      "'ASA_WSM_1PNPDK20070718_175413_000002632060_00027_28137_2052.N1',\n",
      "'ASA_WSM_1PNPDK20070721_080554_000001772060_00064_28174_4876.N1',\n",
      "'ASA_WSM_1PNPDK20070721_175958_000002632060_00070_28180_5695.N1',\n",
      "'ASA_WSM_1PNPDK20070721_193739_000003002060_00071_28181_5822.N1',\n",
      "'ASA_IMM_1PNPDK20070722_172954_000000372060_00084_28194_6720.N1',\n",
      "'ASA_WSM_1PNPDK20070722_190703_000004642060_00085_28195_6876.N1',\n",
      "'ASA_WSM_1PNPDK20070723_183503_000004032060_00099_28209_8105.N1',\n",
      "'ASA_WSM_1PNPDK20070725_092126_000000862060_00122_28232_9549.N1',\n",
      "'ASA_WSM_1PNPDK20070725_191154_000003062060_00128_28238_0338.N1',\n",
      "'ASA_WSM_1PNPDK20070726_184405_000001832060_00142_28252_1494.N1',\n",
      "'ASA_WSM_1PNPDK20070801_185431_000002692060_00228_28338_9771.N1',\n",
      "'ASA_WSM_1PNPDK20070802_182257_000003472060_00242_28352_0938.N1',\n",
      "'ASA_WSM_1PNPDK20070803_192926_000003542060_00257_28367_2217.N1',\n",
      "'ASA_WSM_1PNPDK20080803_192932_000000912070_00486_33606_4273.N1',\n",
      "'ASA_WSM_1PNPDK20080804_171428_000005252070_00499_33619_5522.N1',\n",
      "'ASA_WSM_1PNPDK20080804_185904_000003122070_00500_33620_5889.N1',\n",
      "'ASA_WSM_1PNPDK20080812_194643_000000912071_00114_33735_5394.N1',\n",
      "'ASA_WSM_1PNPDK20080812_194817_000001902071_00114_33735_5370.N1',\n",
      "'ASA_WSM_1PNPDK20080816_192054_000001162071_00171_33792_0418.N1',\n",
      "'ASA_WSM_1PNPDK20080816_205646_000002512071_00172_33793_0446.N1',\n",
      "'ASA_WSM_1PNPDK20080817_170554_000005262071_00184_33805_1429.N1',\n",
      "'ASA_WSM_1PNPDK20080817_184630_000005512071_00185_33806_1518.N1',\n",
      "'ASA_WSM_1PNPDK20080817_184630_000005512071_00185_33806_1790.N1',\n",
      "'ASA_WSM_1PNPDE20100831_090835_000003672092_00308_44450_9002.N1'\n",
      "            ]\n",
      "\n",
      "oPath = '/media/SOLabNFS2/tmp/Glukhovets/'\n"
     ],
     "language": "python",
     "metadata": {},
     "outputs": [],
     "prompt_number": 13
    },
    {
     "cell_type": "code",
     "collapsed": false,
     "input": [
      "for fileName in fileNameList:\n",
      "    print fileName\n",
      "    dt = datetime.datetime.strptime(fileName[14:22], '%Y%m%d').timetuple()\n",
      "    year = str(dt.tm_year)\n",
      "    day = str(dt.tm_yday)\n",
      "    iPath = '/media/SOLabNFS2/store/satellite/asar/' + year + '/' + day + '/'\n",
      "    shutil.copy2(iPath + fileName, oPath)"
     ],
     "language": "python",
     "metadata": {},
     "outputs": [
      {
       "output_type": "stream",
       "stream": "stdout",
       "text": [
        "ASA_WSM_1PNPDK20060825_091831_000003062050_00351_23451_4300.N1\n",
        "ASA_WSM_1PNPDK20060825_191007_000003042050_00357_23457_4345.N1"
       ]
      },
      {
       "output_type": "stream",
       "stream": "stdout",
       "text": [
        "\n",
        "ASA_WSM_1PNPDE20090820_074645_000002512081_00436_39067_9107.N1"
       ]
      },
      {
       "output_type": "stream",
       "stream": "stdout",
       "text": [
        "\n",
        "ASA_WSM_1PNPDE20090820_074758_000001782081_00436_39067_8902.N1"
       ]
      },
      {
       "output_type": "stream",
       "stream": "stdout",
       "text": [
        "\n",
        "ASA_WSM_1PNPDE20090820_074955_000000612081_00436_39067_9038.N1"
       ]
      },
      {
       "output_type": "stream",
       "stream": "stdout",
       "text": [
        "\n",
        "ASA_WSM_1PNPDK20090820_174023_000005502081_00442_39073_7250.N1"
       ]
      },
      {
       "output_type": "stream",
       "stream": "stdout",
       "text": [
        "\n",
        "ASA_WSM_1PNPDK20090821_185142_000003672081_00457_39088_8854.N1"
       ]
      },
      {
       "output_type": "stream",
       "stream": "stdout",
       "text": [
        "\n",
        "ASA_WSM_1PNPDE20110814_175209_000005143105_00300_49452_8456.N1"
       ]
      },
      {
       "output_type": "stream",
       "stream": "stdout",
       "text": [
        "\n",
        "ASA_WSM_1PNPDE20110814_193220_000000923105_00301_49453_8487.N1"
       ]
      },
      {
       "output_type": "stream",
       "stream": "stdout",
       "text": [
        "\n",
        "ASA_WSM_1PNPDK20110814_193256_000002513105_00301_49453_5811.N1"
       ]
      },
      {
       "output_type": "stream",
       "stream": "stdout",
       "text": [
        "\n",
        "ASA_WSM_1PNPDE20110815_090148_000001533105_00309_49461_8727.N1"
       ]
      },
      {
       "output_type": "stream",
       "stream": "stdout",
       "text": [
        "\n",
        "ASA_WSM_1PNPDK20110815_104129_000001533105_00310_49462_6055.N1"
       ]
      },
      {
       "output_type": "stream",
       "stream": "stdout",
       "text": [
        "\n",
        "ASA_WSM_1PNPDK20110815_104129_000001533105_00310_49462_6056.N1"
       ]
      },
      {
       "output_type": "stream",
       "stream": "stdout",
       "text": [
        "\n",
        "ASA_WSM_1PNPDK20110815_171655_000002693105_00314_49466_6232.N1"
       ]
      },
      {
       "output_type": "stream",
       "stream": "stdout",
       "text": [
        "\n",
        "ASA_WSM_1PNPDK20110815_185658_000001533105_00315_49467_6266.N1"
       ]
      },
      {
       "output_type": "stream",
       "stream": "stdout",
       "text": [
        "\n",
        "ASA_WSM_1PNPDE20110816_100502_000001533105_00324_49476_9030.N1"
       ]
      },
      {
       "output_type": "stream",
       "stream": "stdout",
       "text": [
        "\n",
        "ASA_WSM_1PNPDK20110816_182025_000001533105_00329_49481_6694.N1"
       ]
      },
      {
       "output_type": "stream",
       "stream": "stdout",
       "text": [
        "\n",
        "ASA_WSM_1PNPDE20110817_093028_000002083105_00338_49490_9445.N1"
       ]
      },
      {
       "output_type": "stream",
       "stream": "stdout",
       "text": [
        "\n",
        "ASA_WSM_1PNPDK20110817_093054_000001163105_00338_49490_6918.N1"
       ]
      },
      {
       "output_type": "stream",
       "stream": "stdout",
       "text": [
        "\n",
        "ASA_WSM_1PNPDK20110817_174344_000002083105_00343_49495_7153.N1"
       ]
      },
      {
       "output_type": "stream",
       "stream": "stdout",
       "text": [
        "\n",
        "ASA_WSM_1PNPDK20110817_192335_000002143105_00344_49496_7208.N1"
       ]
      },
      {
       "output_type": "stream",
       "stream": "stdout",
       "text": [
        "\n",
        "ASA_WSM_1PNPDK20110818_103134_000001533105_00353_49505_7532.N1"
       ]
      },
      {
       "output_type": "stream",
       "stream": "stdout",
       "text": [
        "\n",
        "ASA_WSM_1PNPDK20110818_184703_000001533105_00358_49510_7730.N1"
       ]
      },
      {
       "output_type": "stream",
       "stream": "stdout",
       "text": [
        "\n",
        "ASA_IMM_1PNPDK20110910_062950_000002093106_00250_49833_7674.N1"
       ]
      },
      {
       "output_type": "stream",
       "stream": "stdout",
       "text": [
        "\n",
        "ASA_WSM_1PNPDK20110910_180405_000002083106_00257_49840_7938.N1"
       ]
      },
      {
       "output_type": "stream",
       "stream": "stdout",
       "text": [
        "\n",
        "ASA_WSM_1PNPDK20110910_194224_000000923106_00258_49841_7965.N1"
       ]
      },
      {
       "output_type": "stream",
       "stream": "stdout",
       "text": [
        "\n",
        "ASA_WSM_1PNPDK20110910_194224_000000923106_00258_49841_7965.N1"
       ]
      },
      {
       "output_type": "stream",
       "stream": "stdout",
       "text": [
        "\n",
        "ASA_WSM_1PNPDK20110910_194359_000001533106_00258_49841_7966.N1"
       ]
      },
      {
       "output_type": "stream",
       "stream": "stdout",
       "text": [
        "\n",
        "ASA_WSM_1PNPDK20070718_175413_000002632060_00027_28137_2052.N1"
       ]
      },
      {
       "output_type": "stream",
       "stream": "stdout",
       "text": [
        "\n",
        "ASA_WSM_1PNPDK20070721_080554_000001772060_00064_28174_4876.N1"
       ]
      },
      {
       "output_type": "stream",
       "stream": "stdout",
       "text": [
        "\n",
        "ASA_WSM_1PNPDK20070721_175958_000002632060_00070_28180_5695.N1"
       ]
      },
      {
       "output_type": "stream",
       "stream": "stdout",
       "text": [
        "\n",
        "ASA_WSM_1PNPDK20070721_193739_000003002060_00071_28181_5822.N1"
       ]
      },
      {
       "output_type": "stream",
       "stream": "stdout",
       "text": [
        "\n",
        "ASA_IMM_1PNPDK20070722_172954_000000372060_00084_28194_6720.N1"
       ]
      },
      {
       "output_type": "stream",
       "stream": "stdout",
       "text": [
        "\n",
        "ASA_WSM_1PNPDK20070722_190703_000004642060_00085_28195_6876.N1"
       ]
      },
      {
       "output_type": "stream",
       "stream": "stdout",
       "text": [
        "\n",
        "ASA_WSM_1PNPDK20070723_183503_000004032060_00099_28209_8105.N1"
       ]
      },
      {
       "output_type": "stream",
       "stream": "stdout",
       "text": [
        "\n",
        "ASA_WSM_1PNPDK20070725_092126_000000862060_00122_28232_9549.N1"
       ]
      },
      {
       "output_type": "stream",
       "stream": "stdout",
       "text": [
        "\n",
        "ASA_WSM_1PNPDK20070725_191154_000003062060_00128_28238_0338.N1"
       ]
      },
      {
       "output_type": "stream",
       "stream": "stdout",
       "text": [
        "\n",
        "ASA_WSM_1PNPDK20070726_184405_000001832060_00142_28252_1494.N1"
       ]
      },
      {
       "output_type": "stream",
       "stream": "stdout",
       "text": [
        "\n",
        "ASA_WSM_1PNPDK20070801_185431_000002692060_00228_28338_9771.N1"
       ]
      },
      {
       "output_type": "stream",
       "stream": "stdout",
       "text": [
        "\n",
        "ASA_WSM_1PNPDK20070802_182257_000003472060_00242_28352_0938.N1"
       ]
      },
      {
       "output_type": "stream",
       "stream": "stdout",
       "text": [
        "\n",
        "ASA_WSM_1PNPDK20070803_192926_000003542060_00257_28367_2217.N1"
       ]
      },
      {
       "output_type": "stream",
       "stream": "stdout",
       "text": [
        "\n",
        "ASA_WSM_1PNPDK20080803_192932_000000912070_00486_33606_4273.N1"
       ]
      },
      {
       "output_type": "stream",
       "stream": "stdout",
       "text": [
        "\n",
        "ASA_WSM_1PNPDK20080804_171428_000005252070_00499_33619_5522.N1"
       ]
      },
      {
       "output_type": "stream",
       "stream": "stdout",
       "text": [
        "\n",
        "ASA_WSM_1PNPDK20080804_185904_000003122070_00500_33620_5889.N1"
       ]
      },
      {
       "output_type": "stream",
       "stream": "stdout",
       "text": [
        "\n",
        "ASA_WSM_1PNPDK20080812_194643_000000912071_00114_33735_5394.N1"
       ]
      },
      {
       "output_type": "stream",
       "stream": "stdout",
       "text": [
        "\n",
        "ASA_WSM_1PNPDK20080812_194817_000001902071_00114_33735_5370.N1"
       ]
      },
      {
       "output_type": "stream",
       "stream": "stdout",
       "text": [
        "\n",
        "ASA_WSM_1PNPDK20080816_192054_000001162071_00171_33792_0418.N1"
       ]
      },
      {
       "output_type": "stream",
       "stream": "stdout",
       "text": [
        "\n",
        "ASA_WSM_1PNPDK20080816_205646_000002512071_00172_33793_0446.N1"
       ]
      },
      {
       "output_type": "stream",
       "stream": "stdout",
       "text": [
        "\n",
        "ASA_WSM_1PNPDK20080817_170554_000005262071_00184_33805_1429.N1"
       ]
      },
      {
       "output_type": "stream",
       "stream": "stdout",
       "text": [
        "\n",
        "ASA_WSM_1PNPDK20080817_184630_000005512071_00185_33806_1518.N1"
       ]
      },
      {
       "output_type": "stream",
       "stream": "stdout",
       "text": [
        "\n",
        "ASA_WSM_1PNPDK20080817_184630_000005512071_00185_33806_1790.N1"
       ]
      },
      {
       "output_type": "stream",
       "stream": "stdout",
       "text": [
        "\n",
        "ASA_WSM_1PNPDE20100831_090835_000003672092_00308_44450_9002.N1"
       ]
      },
      {
       "output_type": "stream",
       "stream": "stdout",
       "text": [
        "\n"
       ]
      }
     ],
     "prompt_number": 14
    },
    {
     "cell_type": "code",
     "collapsed": false,
     "input": [
      "os.makedirs('/media/SOLabNFS2/tmp/Glukhovets/')"
     ],
     "language": "python",
     "metadata": {},
     "outputs": [],
     "prompt_number": 12
    },
    {
     "cell_type": "code",
     "collapsed": false,
     "input": [],
     "language": "python",
     "metadata": {},
     "outputs": [],
     "prompt_number": 15
    }
   ],
   "metadata": {}
  }
 ]
}