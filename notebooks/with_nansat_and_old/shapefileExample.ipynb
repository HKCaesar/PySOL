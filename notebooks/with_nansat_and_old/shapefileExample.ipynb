{
 "metadata": {
  "name": "shapefileExample"
 },
 "nbformat": 3,
 "nbformat_minor": 0,
 "worksheets": [
  {
   "cells": [
    {
     "cell_type": "code",
     "collapsed": false,
     "input": [
      "import ogr"
     ],
     "language": "python",
     "metadata": {},
     "outputs": [],
     "prompt_number": 1
    },
    {
     "cell_type": "code",
     "collapsed": false,
     "input": [
      "%cd '/media/SOLabNFS2/tmp/shapefileExample/'"
     ],
     "language": "python",
     "metadata": {},
     "outputs": [
      {
       "output_type": "stream",
       "stream": "stdout",
       "text": [
        "/media/SOLabNFS2/tmp/shapefileExample\n"
       ]
      }
     ],
     "prompt_number": 2
    },
    {
     "cell_type": "code",
     "collapsed": false,
     "input": [
      "#shapeData = ogr.Open('AS201309320Aas_WW.shp')\n",
      "shapeData = ogr.Open('exampleLayer.shp')\n",
      "layer = shapeData.GetLayer()\n",
      "points = []\n",
      "for index in xrange(layer.GetFeatureCount()):\n",
      "    feature = layer.GetFeature(index)\n",
      "    geometry = feature.GetGeometryRef()\n",
      "    points.append((geometry.GetX(), geometry.GetY()))"
     ],
     "language": "python",
     "metadata": {},
     "outputs": [],
     "prompt_number": 4
    },
    {
     "cell_type": "code",
     "collapsed": true,
     "input": [
      "print points"
     ],
     "language": "python",
     "metadata": {},
     "outputs": [
      {
       "output_type": "stream",
       "stream": "stdout",
       "text": [
        "[]\n"
       ]
      }
     ],
     "prompt_number": 5
    },
    {
     "cell_type": "code",
     "collapsed": false,
     "input": [
      "layer.GetFeatureCount()"
     ],
     "language": "python",
     "metadata": {},
     "outputs": [
      {
       "output_type": "pyout",
       "prompt_number": 6,
       "text": [
        "0"
       ]
      }
     ],
     "prompt_number": 6
    },
    {
     "cell_type": "code",
     "collapsed": false,
     "input": [
      "# create simple square polygon shapefile:\n",
      "import ogr\n",
      "driver = ogr.GetDriverByName('ESRI Shapefile')\n",
      "\n",
      "datasource = driver.CreateDataSource('/media/SOLabNFS2/tmp/shapefileExample/')\n",
      "layer = datasource.CreateLayer('exampleLayer',geom_type=ogr.wkbPolygon)\n",
      "\n",
      "#create polygon object:\n",
      "myRing = ogr.Geometry(type=ogr.wkbLinearRing)\n",
      "myRing.AddPoint(0.0, 0.0)     #LowerLeft\n",
      "myRing.AddPoint(0.0, 10.0)    #UpperLeft\n",
      "myRing.AddPoint(10.0, 10.0)   #UpperRight\n",
      "myRing.AddPoint(10.0, 0.0)    #Lower Right\n",
      "myRing.AddPoint(0.0, 0.0)     #close ring\n",
      "myPoly = ogr.Geometry(type=ogr.wkbPolygon)\n",
      "myPoly.AddGeometry(myRing)\n",
      "print ('Polygon area =',myPoly.GetArea())  #returns correct area of 100.0\n",
      "\n",
      "#create feature object with point geometry type from layer object:\n",
      "feature = ogr.Feature( layer.GetLayerDefn())\n",
      "feature.SetGeometry(myPoly)\n",
      "layer.CreateFeature(feature)\n",
      "\n",
      "#flush memory - very important\n",
      "feature.Destroy()\n",
      "datasource.Destroy()"
     ],
     "language": "python",
     "metadata": {},
     "outputs": [
      {
       "output_type": "stream",
       "stream": "stdout",
       "text": [
        "('Polygon area =', 100.0)\n"
       ]
      }
     ],
     "prompt_number": 9
    },
    {
     "cell_type": "code",
     "collapsed": false,
     "input": [
      "#create simple polyline shapefile:\n",
      "import ogr\n",
      "\n",
      "def myLine(coords):\n",
      "    #create polygon object:\n",
      "    line = ogr.Geometry(type=ogr.wkbLineString)\n",
      "    for xy in coords:\n",
      "        line.AddPoint_2D(xy[0],xy[1])\n",
      "    return line\n",
      "\n",
      "#create simple line:\n",
      "driver = ogr.GetDriverByName('ESRI Shapefile')\n",
      "datasource = driver.CreateDataSource('/media/SOLabNFS2/tmp/shapefileExample/')\n",
      "layer = datasource.CreateLayer('exampleLayer',geom_type=ogr.wkbLineString)\n",
      "\n",
      "coords = [(0,0), (0,10)]\n",
      "line = myLine(coords)\n",
      "\n",
      "#create feature object with point geometry type from layer object:\n",
      "feature = ogr.Feature( layer.GetLayerDefn() )\n",
      "feature.SetGeometryDirectly(line)\n",
      "layer.CreateFeature(feature)\n",
      "\n",
      "#flush memory - very important\n",
      "feature.Destroy()\n",
      "datasource.Destroy()"
     ],
     "language": "python",
     "metadata": {},
     "outputs": [],
     "prompt_number": 20
    },
    {
     "cell_type": "code",
     "collapsed": false,
     "input": [],
     "language": "python",
     "metadata": {},
     "outputs": []
    },
    {
     "cell_type": "code",
     "collapsed": false,
     "input": [
      "import shapefile\n",
      "sf = shapefile.Reader('/media/SOLabNFS2/tmp/shapefileExample/exampleLayer.shp') \n",
      "shapes = sf.shapes()\n",
      "print sf.fields\n",
      "print sf.bbox\n",
      "print len(shapes)\n",
      "print shapes[0].points"
     ],
     "language": "python",
     "metadata": {},
     "outputs": [
      {
       "output_type": "stream",
       "stream": "stdout",
       "text": [
        "[('DeletionFlag', 'C', 1, 0), ['FID', 'N', 11, 0]]\n",
        "[0.0, 10.0, 10.0, 10.0]\n",
        "1\n",
        "[[10.0, 10.0], [0.0, 10.0]]\n"
       ]
      }
     ],
     "prompt_number": 21
    },
    {
     "cell_type": "code",
     "collapsed": false,
     "input": [
      "import shapefile\n",
      "sf = shapefile.Reader('/media/SOLabNFS2/tmp/shapefileExample/exampleLayer.shp') \n",
      "shapes = sf.shapes()\n",
      "import matplotlib.pyplot as plt\n",
      "for i in range(len(shapes)):\n",
      "    verts = shapes[i].points\n",
      "plt.close('all')\n",
      "fig = plt.figure()\n",
      "plt.plot(verts)\n",
      "plt.show()"
     ],
     "language": "python",
     "metadata": {},
     "outputs": [
      {
       "output_type": "display_data",
       "png": "[encoded data removed]"
      }
     ],
     "prompt_number": 22
    },
    {
     "cell_type": "code",
     "collapsed": false,
     "input": [
      "verts"
     ],
     "language": "python",
     "metadata": {},
     "outputs": [
      {
       "output_type": "pyout",
       "prompt_number": 24,
       "text": [
        "[[10.0, 10.0], [0.0, 10.0]]"
       ]
      }
     ],
     "prompt_number": 24
    },
    {
     "cell_type": "code",
     "collapsed": false,
     "input": [
      "import shapefile\n",
      "sf = shapefile.Reader('/media/SOLabNFS2/tmp/shapefileExample/exampleLayer.shp') \n",
      "shapes = sf.shapes()\n",
      "import matplotlib.pyplot as plt\n",
      "from matplotlib.path import Path\n",
      "import matplotlib.patches as patches\n",
      "plt.close('all')\n",
      "fig = plt.figure()\n",
      "ax = fig.add_subplot(111)\n",
      "for i in range(len(shapes)):\n",
      "    verts = shapes[i].points\n",
      "    path = Path(verts)\n",
      "    patch = patches.PathPatch(path, facecolor='orange', lw=2)\n",
      "    ax.add_patch(patch)\n",
      "plt.show()"
     ],
     "language": "python",
     "metadata": {},
     "outputs": [
      {
       "output_type": "display_data",
       "png": "[encoded data removed]"
      }
     ],
     "prompt_number": 23
    },
    {
     "cell_type": "code",
     "collapsed": false,
     "input": [],
     "language": "python",
     "metadata": {},
     "outputs": []
    },
    {
     "cell_type": "code",
     "collapsed": false,
     "input": [],
     "language": "python",
     "metadata": {},
     "outputs": []
    },
    {
     "cell_type": "code",
     "collapsed": false,
     "input": [],
     "language": "python",
     "metadata": {},
     "outputs": []
    },
    {
     "cell_type": "code",
     "collapsed": false,
     "input": [],
     "language": "python",
     "metadata": {},
     "outputs": []
    },
    {
     "cell_type": "code",
     "collapsed": false,
     "input": [
      "# pyplot module import\n",
      "import matplotlib.pyplot as plt\n",
      "# basemap import\n",
      "from mpl_toolkits.basemap import Basemap\n",
      "# Numpy import\n",
      "import numpy as np\n",
      "\n",
      "m = Basemap(projection='mill',\n",
      "llcrnrlon=-180. ,llcrnrlat=-60,\n",
      "urcrnrlon=180. ,urcrnrlat=80.)\n",
      "\n",
      "# read the shapefile archive\n",
      "s = m.readshapefile('/media/SOLabNFS2/tmp/shapefileExample/AS201309320Aas_WW', 'AS201309320Aas_WW')"
     ],
     "language": "python",
     "metadata": {},
     "outputs": []
    },
    {
     "cell_type": "code",
     "collapsed": false,
     "input": [
      "# prepare map coordinate lists for copper smelters locations\n",
      "x, y = zip(*m.AS201309320Aas_WW)"
     ],
     "language": "python",
     "metadata": {},
     "outputs": []
    },
    {
     "cell_type": "code",
     "collapsed": false,
     "input": [
      "plt.plot(x,y)"
     ],
     "language": "python",
     "metadata": {},
     "outputs": []
    },
    {
     "cell_type": "code",
     "collapsed": false,
     "input": [],
     "language": "python",
     "metadata": {},
     "outputs": []
    }
   ],
   "metadata": {}
  }
 ]
}