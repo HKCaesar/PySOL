{
 "metadata": {
  "name": "shapefileExample2"
 },
 "nbformat": 3,
 "nbformat_minor": 0,
 "worksheets": [
  {
   "cells": [
    {
     "cell_type": "code",
     "collapsed": false,
     "input": [
      "import sys, os\n",
      "from numpy import ravel\n",
      "\n",
      "try:\n",
      "\tfrom osgeo import ogr\n",
      "except:\n",
      "\timport ogr"
     ],
     "language": "python",
     "metadata": {},
     "outputs": [],
     "prompt_number": 1
    },
    {
     "cell_type": "code",
     "collapsed": false,
     "input": [
      "def uv2shp(x0,y0,x1,y1,out_shapefnm):\n",
      "    \"\"\"\n",
      "    \n",
      "    #out_shapefnm = '~/example/'\n",
      "    #x0 = np.array([[1,2,3], [4,5,6]])\n",
      "    #y0 = np.array([[2,3,4], [5,6,7]])\n",
      "    #x1 = np.array([[12,13,14], [15,16,17]])\n",
      "    #y1 = np.array([[3,4,5], [6,7,8]])\n",
      "\n",
      "    \"\"\"\n",
      "\n",
      "    # check the data is of type float\n",
      "    x0 = x0.astype('float64')\n",
      "    y0 = y0.astype('float64')\n",
      "    x1 = x1.astype('float64')\n",
      "    y1 = y1.astype('float64')\n",
      "    \n",
      "    #flatten the arrays for further iterations\n",
      "    x0 = x0.ravel()\n",
      "    y0 = y0.ravel()\n",
      "    x1 = x1.ravel()\n",
      "    y1 = y1.ravel()\n",
      "\n",
      "    # Creation of output shapefile\n",
      "    driver = ogr.GetDriverByName('ESRI Shapefile')\n",
      "\n",
      "    if os.path.exists(out_shapefnm):\n",
      "        driver.DeleteDataSource(out_shapefnm)\n",
      "\n",
      "    out_shape = driver.CreateDataSource(out_shapefnm)\n",
      "    if out_shape is None:\n",
      "        print 'Could not create output shapefile'\n",
      "        sys.exit(1)\n",
      "    \n",
      "    os.chmod(oPath, 0777)\n",
      "\n",
      "    out_layer = out_shape.CreateLayer('out_lines', geom_type=ogr.wkbLineString)\n",
      "    \n",
      "    # add fields to the output shapefile\n",
      "    x0_fieldDef = ogr.FieldDefn('x0', ogr.OFTReal)\n",
      "    out_layer.CreateField(x0_fieldDef)\n",
      "    y0_fieldDef = ogr.FieldDefn('y0', ogr.OFTReal)\n",
      "    out_layer.CreateField(y0_fieldDef)\n",
      "    x1_fieldDef = ogr.FieldDefn('x1', ogr.OFTReal)\n",
      "    out_layer.CreateField(x1_fieldDef)\n",
      "    y1_fieldDef = ogr.FieldDefn('y1', ogr.OFTReal)\n",
      "    out_layer.CreateField(y1_fieldDef)\n",
      "    \n",
      "    # get the layer definition of the output shapefile\n",
      "    outshape_featdef = out_layer.GetLayerDefn()\n",
      "    \n",
      "    # process all the lat/lon(U,V) points\n",
      "    for r in range(x0.size):\n",
      "        # adds line\n",
      "        line = ogr.Geometry(ogr.wkbLineString)\n",
      "        line.AddPoint(x0[r],y0[r])\n",
      "        line.AddPoint(x1[r],y1[r])\n",
      "        \n",
      "        result_feature = ogr.Feature(outshape_featdef)\n",
      "        result_feature.SetGeometry(line)\n",
      "        \n",
      "        result_feature.SetField('x0', x0[r])\n",
      "        result_feature.SetField('y0', y0[r])\n",
      "        \n",
      "        result_feature.SetField('x1', x1[r])\n",
      "        result_feature.SetField('y1', y1[r])\n",
      "        \n",
      "        out_layer.CreateFeature(result_feature)\n",
      "        \n",
      "        # destroy not longer used objects\n",
      "        line.Destroy()\n",
      "        result_feature.Destroy()\n",
      "    \n",
      "    out_shape.Destroy()"
     ],
     "language": "python",
     "metadata": {},
     "outputs": [
      {
       "ename": "NameError",
       "evalue": "name 'x0' is not defined",
       "output_type": "pyerr",
       "traceback": [
        "\u001b[1;31m---------------------------------------------------------------------------\u001b[0m\n\u001b[1;31mNameError\u001b[0m                                 Traceback (most recent call last)",
        "\u001b[1;32m<ipython-input-3-1cb84a1be932>\u001b[0m in \u001b[0;36m<module>\u001b[1;34m()\u001b[0m\n\u001b[0;32m      1\u001b[0m \u001b[1;31m# check the data is of type float\u001b[0m\u001b[1;33m\u001b[0m\u001b[1;33m\u001b[0m\u001b[0m\n\u001b[1;32m----> 2\u001b[1;33m \u001b[0mx0\u001b[0m \u001b[1;33m=\u001b[0m \u001b[0mx0\u001b[0m\u001b[1;33m.\u001b[0m\u001b[0mastype\u001b[0m\u001b[1;33m(\u001b[0m\u001b[1;34m'float64'\u001b[0m\u001b[1;33m)\u001b[0m\u001b[1;33m\u001b[0m\u001b[0m\n\u001b[0m\u001b[0;32m      3\u001b[0m \u001b[0my0\u001b[0m \u001b[1;33m=\u001b[0m \u001b[0my0\u001b[0m\u001b[1;33m.\u001b[0m\u001b[0mastype\u001b[0m\u001b[1;33m(\u001b[0m\u001b[1;34m'float64'\u001b[0m\u001b[1;33m)\u001b[0m\u001b[1;33m\u001b[0m\u001b[0m\n\u001b[0;32m      4\u001b[0m \u001b[0mx1\u001b[0m \u001b[1;33m=\u001b[0m \u001b[0mx1\u001b[0m\u001b[1;33m.\u001b[0m\u001b[0mastype\u001b[0m\u001b[1;33m(\u001b[0m\u001b[1;34m'float64'\u001b[0m\u001b[1;33m)\u001b[0m\u001b[1;33m\u001b[0m\u001b[0m\n\u001b[0;32m      5\u001b[0m \u001b[0my1\u001b[0m \u001b[1;33m=\u001b[0m \u001b[0my1\u001b[0m\u001b[1;33m.\u001b[0m\u001b[0mastype\u001b[0m\u001b[1;33m(\u001b[0m\u001b[1;34m'float64'\u001b[0m\u001b[1;33m)\u001b[0m\u001b[1;33m\u001b[0m\u001b[0m\n",
        "\u001b[1;31mNameError\u001b[0m: name 'x0' is not defined"
       ]
      }
     ],
     "prompt_number": 3
    },
    {
     "cell_type": "raw",
     "metadata": {},
     "source": [
      "# checking\n",
      "import shapefile\n",
      "sf = shapefile.Reader('/media/SOLabNFS2/tmp/shapefileExample/example/out_lines') \n",
      "shapes = sf.shapes()\n",
      "print sf.fields\n",
      "print sf.bbox\n",
      "print len(shapes)\n",
      "print shapes[0].points"
     ]
    }
   ],
   "metadata": {}
  }
 ]
}