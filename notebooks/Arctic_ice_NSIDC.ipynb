{
 "metadata": {
  "name": "Arctic_ice_NSIDC"
 },
 "nbformat": 3,
 "nbformat_minor": 0,
 "worksheets": [
  {
   "cells": [
    {
     "cell_type": "heading",
     "level": 1,
     "metadata": {},
     "source": [
      "\u041f\u0440\u043e\u0433\u043d\u043e\u0437\u0438\u0440\u043e\u0432\u0430\u043d\u0438\u0435 \u043b\u0435\u0434\u043e\u0432\u043e\u0439 \u043e\u0431\u0441\u0442\u0430\u043d\u043e\u0432\u043a\u0438 \u0432 \u0410\u0440\u043a\u0442\u0438\u043a\u0435"
     ]
    },
    {
     "cell_type": "markdown",
     "metadata": {},
     "source": [
      "\u0412 \u043a\u0430\u0447\u0435\u0441\u0442\u0432\u0435 \u0434\u0430\u043d\u043d\u044b\u0445 \u0434\u043b\u044f \u043f\u0440\u043e\u0433\u043d\u043e\u0437\u0438\u0440\u043e\u0432\u0430\u043d\u0438\u044f \u0438\u0441\u043f\u043e\u043b\u044c\u0437\u0443\u0435\u0442\u0441\u044f \u043f\u0440\u043e\u0434\u0443\u043a\u0442 \u043e\u0442 [NSIDC](http://nsidc.org/) - **SSMI_SEAICE_GSFC.**\n",
      "\n",
      "* \u041f\u043e\u043b\u043d\u043e\u0435 \u043d\u0430\u0437\u0432\u0430\u043d\u0438\u0435: Sea Ice Concentrations from Nimbus-7 SMMR and DMSP SSM/I-SSMIS Passive Microwave Data\n",
      "\n",
      "* \u041e\u043f\u0438\u0441\u0430\u043d\u0438\u0435: [\u0421\u0442\u0430\u0442\u044c\u044f \u043d\u0430 \u0441\u0430\u0439\u0442\u0435 nsidc]([http://nsidc.org/data/nsidc-0051.html]), [\u0441\u0442\u0440\u0443\u043a\u0442\u0443\u0440\u0430](http://nsidc.org/data/docs/daac/nsidc0081_ssmi_nrt_seaice.gd.html)\n",
      "\n",
      "* \u0410\u0440\u0445\u0438\u0432: [FTP \u0441\u0435\u0440\u0432\u0435\u0440 colorado.edu](ftp://sidads.colorado.edu/pub/DATASETS/nsidc0051_gsfc_nasateam_seaice/)"
     ]
    },
    {
     "cell_type": "heading",
     "level": 2,
     "metadata": {},
     "source": [
      "\u0421\u043e\u0434\u0435\u0440\u0436\u0430\u043d\u0438\u0435"
     ]
    },
    {
     "cell_type": "markdown",
     "metadata": {},
     "source": [
      "<div id=\"toc-static\"></div>"
     ]
    },
    {
     "cell_type": "heading",
     "level": 2,
     "metadata": {},
     "source": [
      "\u0412\u0441\u043f\u043e\u043c\u043e\u0433\u0430\u0442\u0435\u043b\u044c\u043d\u044b\u0435:"
     ]
    },
    {
     "cell_type": "heading",
     "level": 3,
     "metadata": {},
     "source": [
      "\u041c\u043e\u0434\u0443\u043b\u0438"
     ]
    },
    {
     "cell_type": "code",
     "collapsed": false,
     "input": [
      "from os import chdir, walk\n",
      "import re\n",
      "import time"
     ],
     "language": "python",
     "metadata": {},
     "outputs": [],
     "prompt_number": 2
    },
    {
     "cell_type": "heading",
     "level": 3,
     "metadata": {},
     "source": [
      "\u041a\u043e\u043d\u0441\u0442\u0430\u043d\u0442\u044b"
     ]
    },
    {
     "cell_type": "code",
     "collapsed": false,
     "input": [
      "COLORS = [\"#2d89ef\", \"#2B5797\", \"#00a300\", \"#99b433\", \"#b91d47\", \"#603cba\", \"#00ABA9\", \"#e3a21a\", \"#da532c\", \"#ffc40d\"]\n",
      "GRANULE_NAME_RE = \"nt_\" \\\n",
      "          \"(?P<year>\\d{4})\" \\\n",
      "          \"(?P<month>\\d{2})\" \\\n",
      "          \"(?P<day>\\d{2})?\" \\\n",
      "          \"_(?P<satellite>\\w\\d{2})_\" \\\n",
      "          \"(?P<version>(\\w+))?_\" \\\n",
      "          \"(?P<region>\\w+).bin\""
     ],
     "language": "python",
     "metadata": {},
     "outputs": [],
     "prompt_number": 18
    },
    {
     "cell_type": "code",
     "collapsed": false,
     "input": [
      "NSIDC_SSMI_SEAICE_GSFC_ROOT = '/media/SOLabNFS2/store/satellite/NSIDC_SSMI_SEAICE_GSFC/final-gsfc/north/'\n",
      "NSIDC_SSMI_NRT_SEAICE_ROOT = '/media/SOLabNFS2/store/satellite/NSIDC_SSMI_NRT_SEAICE/north/'"
     ],
     "language": "python",
     "metadata": {},
     "outputs": [],
     "prompt_number": 48
    },
    {
     "cell_type": "heading",
     "level": 3,
     "metadata": {},
     "source": [
      "\u041a\u043b\u0430\u0441\u0441\u044b"
     ]
    },
    {
     "cell_type": "code",
     "collapsed": false,
     "input": [
      "# Timer class for calculate elapsed time\n",
      "class Timer(object):\n",
      "    \"\"\"\n",
      "    Timer \u2014 counting the elapsed spent.\n",
      "    >>> with Timer(\"create ice boundary\"):\n",
      "    >>>     sime_func()...\n",
      "    \"\"\"\n",
      "    def __init__(self, name=None):\n",
      "        self.name = name\n",
      "\n",
      "    def __enter__(self):\n",
      "        self.tstart = time.time()\n",
      "\n",
      "    def __exit__(self, type, value, traceback):\n",
      "        if self.name:\n",
      "            print '[%s]' % self.name,\n",
      "        print 'Elapsed: %s seconds' % (time.time() - self.tstart)"
     ],
     "language": "python",
     "metadata": {},
     "outputs": [],
     "prompt_number": 76
    },
    {
     "cell_type": "code",
     "collapsed": false,
     "input": [
      "import sys, time\n",
      "try:\n",
      "    import IPython\n",
      "    clear_output = IPython.core.display.clear_output\n",
      "except:\n",
      "    IPython = None\n",
      "\n",
      "class ProgressBar:\n",
      "    def __init__(self, iterations):\n",
      "        self.iterations = iterations\n",
      "        self.prog_bar = '[]'\n",
      "        self.fill_char = '*'\n",
      "        self.width = 40\n",
      "        self.__update_amount(0)\n",
      "        if IPython:\n",
      "            self.animate = self.animate_ipython\n",
      "        else:\n",
      "            self.animate = self.animate_noipython\n",
      "\n",
      "    def animate_ipython(self, iter):\n",
      "        if sys.platform.lower().startswith('win'):\n",
      "            print self, '\\r',\n",
      "        else:\n",
      "\n",
      "            print self, chr(27),\n",
      "        self.update_iteration(iter + 1)\n",
      "        # time.sleep(0.5)\n",
      "        clear_output()\n",
      "\n",
      "    def update_iteration(self, elapsed_iter):\n",
      "        self.__update_amount((elapsed_iter / float(self.iterations)) * 100.0)\n",
      "        self.prog_bar += '  %d of %s complete' % (elapsed_iter, self.iterations)\n",
      "\n",
      "    def __update_amount(self, new_amount):\n",
      "        percent_done = int(round((new_amount / 100.0) * 100.0))\n",
      "        all_full = self.width - 2\n",
      "        num_hashes = int(round((percent_done / 100.0) * all_full))\n",
      "        self.prog_bar = '[' + self.fill_char * num_hashes + ' ' * (all_full - num_hashes) + ']'\n",
      "        pct_place = (len(self.prog_bar) / 2) - len(str(percent_done))\n",
      "        pct_string = '%d%%' % percent_done\n",
      "        self.prog_bar = self.prog_bar[0:pct_place] + \\\n",
      "            (pct_string + self.prog_bar[pct_place + len(pct_string):])\n",
      "\n",
      "    def __str__(self):\n",
      "        return str(self.prog_bar)"
     ],
     "language": "python",
     "metadata": {},
     "outputs": []
    },
    {
     "cell_type": "heading",
     "level": 2,
     "metadata": {},
     "source": [
      "\u0411\u0430\u0437\u043e\u0432\u044b\u0435 \u043a\u043b\u0430\u0441\u0441\u044b"
     ]
    },
    {
     "cell_type": "code",
     "collapsed": false,
     "input": [
      "class Granule(object):\n",
      "    created_at = None\n",
      "    "
     ],
     "language": "python",
     "metadata": {},
     "outputs": [],
     "prompt_number": 35
    },
    {
     "cell_type": "code",
     "collapsed": false,
     "input": [
      "class GranulesCollection(object):\n",
      "    pass"
     ],
     "language": "python",
     "metadata": {},
     "outputs": []
    },
    {
     "cell_type": "code",
     "collapsed": false,
     "input": [
      "from pydap.client import open_url\n",
      "from pydap.client import open_dods\n",
      "dataset = open_url('http://opendap.solab.rshu.ru:8080/opendap/allData/NSIDC_SSMI_SEAICE_GSFC/final-gsfc/north/daily/1988/nt_19880115_f08_v01_n.bin.gz')\n",
      "clf()\n",
      "imshow(dataset.sea_ice_concentration[:,:])\n",
      "colorbar()"
     ],
     "language": "python",
     "metadata": {},
     "outputs": [
      {
       "output_type": "pyout",
       "prompt_number": 19,
       "text": [
        "<matplotlib.colorbar.Colorbar instance at 0x59dd710>"
       ]
      },
      {
       "output_type": "display_data",
       "png": "[encoded data removed]",
       "text": [
        "<matplotlib.figure.Figure at 0x28301d0>"
       ]
      }
     ],
     "prompt_number": 19
    },
    {
     "cell_type": "heading",
     "level": 3,
     "metadata": {},
     "source": [
      "\u041c\u043e\u0434\u0435\u043b\u044c \u0434\u0430\u043d\u043d\u044b\u0445"
     ]
    },
    {
     "cell_type": "markdown",
     "metadata": {},
     "source": [
      "**\u041c\u0435\u0442\u0430\u0438\u043d\u0444\u043e\u0440\u043c\u0430\u0446\u0438\u044f** : \u0432\u0440\u0435\u043c\u044f \u0441\u043e\u0437\u0434\u0430\u043d\u0438\u044f, \u043f\u043b\u043e\u0449\u0430\u0434\u044c \u043b\u044c\u0434\u0430 "
     ]
    },
    {
     "cell_type": "markdown",
     "metadata": {},
     "source": [
      "\n",
      "**\u0414\u0430\u043d\u043d\u044b\u0435**: \u041c\u0430\u0442\u0440\u0438\u0446\u0430 304 x 448 \u0441\u043e\u0434\u0435\u0440\u0436\u0430\u0449\u0430\u044f: \n",
      "* 0 - 250\tSea ice concentration (fractional coverage scaled by 250)\n",
      "\n",
      "* 251\tCircular mask used in the Arctic to cover the irregularly-shaped data gap around the pole (caused by the orbit inclination and instrument swath)\n",
      "* 252\tUnused\n",
      "\n",
      "* 253\tCoastlines\n",
      "\n",
      "* 254\tSuperimposed land mask\n",
      "\n",
      "* 255\tMissing data\n",
      "\n",
      "\n"
     ]
    },
    {
     "cell_type": "markdown",
     "metadata": {},
     "source": [
      "**\u041c\u0435\u0442\u043e\u0434\u044b**: \n",
      "\n",
      "* \u041e\u0431\u0449\u0438\u0435\n",
      "\n",
      " * \u041e\u0441\u0440\u0435\u0434\u043d\u0435\u043d\u0438\u0435 \u0434\u0430\u043d\u043d\u044b\u0445\n",
      "\n",
      "\n",
      "* \u0413\u0440\u0430\u0444\u0438\u0447\u0435\u0441\u043a\u0438\u0435 \u043c\u0435\u0442\u043e\u0434\u044b\n",
      "\n",
      " * \u041f\u043e\u0441\u0442\u0440\u043e\u0435\u043d\u0438\u044f \u0438\u0437\u043e\u043b\u0438\u043d\u0438\u0439\n",
      "\n",
      " * \u0413\u0440\u0430\u0444\u0438\u043a \u043f\u043b\u043e\u0449\u0430\u0434\u0435\u0439\n",
      " \n",
      " * \u0418\u043d\u0442\u0435\u043d\u0441\u0438\u0432\u043d\u043e\u0441\u0442\u044c \u043b\u044c\u0434\u0430 \u0434\u043b\u044f \u043a\u0430\u0436\u0434\u043e\u0439 \u0442\u043e\u0447\u043a\u0438"
     ]
    },
    {
     "cell_type": "heading",
     "level": 2,
     "metadata": {},
     "source": [
      "\u041f\u0440\u0435\u0434\u043e\u0431\u0440\u0430\u0431\u043e\u0442\u043a\u0430 \u0434\u0430\u043d\u043d\u044b\u0445"
     ]
    },
    {
     "cell_type": "code",
     "collapsed": false,
     "input": [
      "count = 0\n",
      "counter = {\n",
      "    'monthly': 0,\n",
      "    'daily': 0\n",
      "}\n",
      "\n",
      "with Timer(\"Scannig ...\"):\n",
      "    for root in [NSIDC_SSMI_SEAICE_GSFC_ROOT, NSIDC_SSMI_NRT_SEAICE_ROOT]:\n",
      "        for (path, dirs, files) in walk(root):\n",
      "            tr =  'monthly' if path.find('monthly') != -1 else 'daily'\n",
      "            for filename in files:\n",
      "                if re.match(GRANULE_NAME_RE, filename):\n",
      "                    count +=1\n",
      "                    \n",
      "                    \n",
      "print count"
     ],
     "language": "python",
     "metadata": {},
     "outputs": [
      {
       "output_type": "stream",
       "stream": "stdout",
       "text": [
        "[Scannig ...] Elapsed: 1.64898586273 seconds\n",
        "11938\n"
       ]
      }
     ],
     "prompt_number": 95
    },
    {
     "cell_type": "heading",
     "level": 2,
     "metadata": {},
     "source": [
      "\u0410\u043d\u0430\u043b\u0438\u0442\u0438\u043a\u0430 \u0438 \u0441\u0442\u0430\u0442\u0438\u0441\u0442\u0438\u043a\u0430"
     ]
    },
    {
     "cell_type": "heading",
     "level": 2,
     "metadata": {},
     "source": [
      "\u041f\u0440\u043e\u0433\u043d\u043e\u0437\u0438\u0440\u043e\u0432\u0430\u043d\u0438\u0435"
     ]
    },
    {
     "cell_type": "markdown",
     "metadata": {},
     "source": [
      "\u041e\u0441\u043d\u043e\u0432\u043d\u044b\u0435 \u0442\u0435\u0437\u0438\u0441\u044b \u043f\u043e \u043c\u0435\u0442\u043e\u0434\u0443 \u043f\u0440\u043e\u0433\u043d\u043e\u0437\u0438\u0440\u043e\u0432\u0430\u043d\u0438\u044f: \n",
      "\n",
      "* \u041f\u0440\u043e\u0433\u043d\u043e\u0437\u0438\u0440\u0443\u0435\u0442\u0441\u044f \u043a\u043e\u043d\u0446\u0435\u043d\u0442\u0440\u0430\u0446\u0438\u044f \u043b\u044c\u0434\u0430 \u0434\u043b\u044f \u043a\u0430\u0436\u0434\u043e\u0433\u043e \u043f\u0438\u043a\u0441\u0435\u043b\u044f.\n",
      "\n",
      "* \u041f\u0440\u0438 \u043f\u0440\u043e\u0433\u043d\u043e\u0437\u0435 \u043d\u0435\u043e\u0431\u0445\u043e\u0434\u0438\u043c\u043e \u0443\u0447\u0438\u0442\u044b\u0432\u0430\u0442\u044c \u0432\u0437\u0430\u0438\u043c\u043e\u0441\u0432\u044f\u0437\u044c \u043c\u0435\u0436\u0434\u0443 \u0431\u043b\u0438\u0437\u043b\u0438\u0436\u0430\u0439\u0448\u0438\u043c\u0438 \u043f\u0438\u043a\u0441\u0435\u043b\u044f\u043c\u0438. \n"
     ]
    },
    {
     "cell_type": "markdown",
     "metadata": {},
     "source": [
      "**TOC**\n",
      "<div id=\"toc-wrapper\">\n",
      "    <div class=\"header\">Contents <a href=\"#\" class=\"hide-btn\">[hide]</a></div>\n",
      "    <div id=\"toc\"></div>\n",
      "</div>\n",
      "\n",
      "<style>\n",
      "  h1, h2, h3, h4 {\n",
      "      margin-bottom: 0px !important;\n",
      "  }\n",
      "  #toc-wrapper {\n",
      "    position: fixed; top: 113px; max-width:320px; right: 28px;\n",
      "    border: thin solid rgba(0, 0, 0, 0.38); opacity: .8;\n",
      "    border-radius: 5px; background-color: #fff; padding:10px;\n",
      "  }\n",
      "  #toc-wrapper.closed {\n",
      "      min-width: 100px;\n",
      "      width: auto;\n",
      "      transition: width;\n",
      "  }\n",
      "  #toc-wrapper:hover{\n",
      "      opacity:1;\n",
      "  }\n",
      "  #toc-wrapper .header {\n",
      "      font-size:18px; font-weight: bold;\n",
      "  }\n",
      "  #toc-wrapper .hide-btn {\n",
      "      font-size: 14px;\n",
      "  }\n",
      "\n",
      "</style>\n",
      "<style>\n",
      "  ol.nested {\n",
      "    counter-reset: item;\n",
      "    list-style: none;\n",
      "  }\n",
      "  li.nested {\n",
      "        display: block;\n",
      "    }\n",
      "  li.nested:before {\n",
      "        counter-increment: item;\n",
      "        content: counters(item, \".\")\" \";\n",
      "    }\n",
      " </style>\n",
      "<script>\n",
      "$(function(){\n",
      "\n",
      "  function list_el(h){\n",
      "    href = $(h).find('a').attr('href')\n",
      "    text = $(h).find('a').text()\n",
      "    return \"<a href='\" + href + \"'>\" + text + \"</a>\"\n",
      "  }\n",
      "\n",
      "  function lvl(header){\n",
      "    if (header !== undefined)\n",
      "      return $(header).prop('tagName').toLowerCase().substring(1);\n",
      "    else return 0;\n",
      "  }\n",
      "\n",
      "  window.toc = function(){\n",
      "  headers = $('h2, h3, h4');\n",
      "  html = \"<ol class='nested'>\";\n",
      "  \n",
      "  $.each(headers , function(i, h) {\n",
      "    if (lvl(h) == lvl(headers[i+1])) {\n",
      "      html += \"<li class='nested'>\" + list_el(h) + \"</li>\" ;\n",
      "    }\n",
      "    else if ( lvl(h) < lvl(headers[i+1]) ) {\n",
      "      html += \"<li class='nested'>\" + list_el(h) + \"<ol class='nested'>\";\n",
      "    }\n",
      "    else if (lvl(h) > lvl(headers[i+1])) {\n",
      "      html += \"<li class='nested'>\"+ list_el(h) +\"</li></ol></li>\";\n",
      "    }\n",
      "  }) \n",
      "  html += \"</ol>\"\n",
      "  \n",
      "  $('#toc').html(html)\n",
      "  $('#toc-wrapper .header').click(function(){\n",
      "      $('#toc').slideToggle()\n",
      "      $('#toc-wrapper').toggleClass('closed')\n",
      "      if ($('#toc-wrapper').hasClass('closed')){\n",
      "        $('#toc-wrapper .hide-btn').html('[show]')\n",
      "      } else {\n",
      "          $('#toc-wrapper .hide-btn').html('[hide]')\n",
      "      }\n",
      "      return false\n",
      "  })\n",
      "  $('#toc-static').html(html)\n",
      "  }\n",
      "  toc()\n",
      "  \n",
      "\n",
      "})\n",
      "</script>"
     ]
    },
    {
     "cell_type": "code",
     "collapsed": false,
     "input": [],
     "language": "python",
     "metadata": {},
     "outputs": [],
     "prompt_number": 60
    },
    {
     "cell_type": "code",
     "collapsed": false,
     "input": [
      "bar = ProgressBar(100)\n",
      "for i in xrange(100):\n",
      "    bar.animate_ipython(i)\n",
      "    time.sleep(0.01)\n",
      "    print bar"
     ],
     "language": "python",
     "metadata": {},
     "outputs": [
      {
       "output_type": "stream",
       "stream": "stdout",
       "text": [
        " [****************100%******************]  100 of 100 complete\n"
       ]
      }
     ],
     "prompt_number": 75
    },
    {
     "cell_type": "code",
     "collapsed": false,
     "input": [],
     "language": "python",
     "metadata": {},
     "outputs": []
    }
   ],
   "metadata": {}
  }
 ]
}