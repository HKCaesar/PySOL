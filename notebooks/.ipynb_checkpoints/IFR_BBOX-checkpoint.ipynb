{
 "metadata": {
  "name": "",
  "signature": "sha256:15b1e1d0b9bac0641f2ba0a8009c1c51146086b1b7f5ade51b86086cdab0af3c"
 },
 "nbformat": 3,
 "nbformat_minor": 0,
 "worksheets": [
  {
   "cells": [
    {
     "cell_type": "code",
     "collapsed": false,
     "input": [
      "from pydap.client import open_url\n",
      "dataset = open_url('http://opendap.solab.rshu.ru:8080/opendap/allData/IFR-L4-SSTfnd-ODYSSEA-MED_002/2012/007/20120107-IFR-L4_GHRSST-SSTfnd-ODYSSEA-MED_002-v2.0-fv1.0.nc.bz2')\n",
      "\n",
      "lats = dataset.lat[:]\n",
      "lons = dataset.lon[:]\n",
      "\n",
      "print \"lat min = \", lats.min()\n",
      "print \"lat max = \", lats.max()\n",
      "print \"lon min = \", lons.min()\n",
      "print \"lon max = \", lons.max()"
     ],
     "language": "python",
     "metadata": {},
     "outputs": [
      {
       "output_type": "stream",
       "stream": "stdout",
       "text": [
        "lat min =  25.01\n",
        "lat max =  51.49\n",
        "lon min =  -23.49\n",
        "lon max =  41.49\n"
       ]
      }
     ],
     "prompt_number": 4
    }
   ],
   "metadata": {}
  }
 ]
}