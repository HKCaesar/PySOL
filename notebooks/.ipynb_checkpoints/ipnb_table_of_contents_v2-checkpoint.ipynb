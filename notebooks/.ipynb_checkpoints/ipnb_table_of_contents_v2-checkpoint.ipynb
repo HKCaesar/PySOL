{
 "metadata": {
  "name": "ipnb_table_of_contents_v2"
 },
 "nbformat": 3,
 "nbformat_minor": 0,
 "worksheets": [
  {
   "cells": [
    {
     "cell_type": "heading",
     "level": 1,
     "metadata": {},
     "source": [
      "Contents"
     ]
    },
    {
     "cell_type": "code",
     "collapsed": false,
     "input": [],
     "language": "python",
     "metadata": {},
     "outputs": []
    }
   ],
   "metadata": {}
  }
 ]
}