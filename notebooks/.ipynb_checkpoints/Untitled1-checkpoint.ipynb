{
 "metadata": {
  "name": "",
  "signature": "sha256:713e2e38869e98ab35f95577f746175342a9f7ea54ff4bbef173cfbe150939c9"
 },
 "nbformat": 3,
 "nbformat_minor": 0,
 "worksheets": []
}