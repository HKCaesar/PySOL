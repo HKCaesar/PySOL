{
 "metadata": {
  "name": "AVISO_pyresample"
 },
 "nbformat": 3,
 "nbformat_minor": 0,
 "worksheets": [
  {
   "cells": [
    {
     "cell_type": "code",
     "collapsed": false,
     "input": [
      "def fix_longutude(lon):\n",
      "    if lon > 180:\n",
      "        return lon - 360\n",
      "    return lon"
     ],
     "language": "python",
     "metadata": {},
     "outputs": [],
     "prompt_number": 2
    },
    {
     "cell_type": "code",
     "collapsed": false,
     "input": [
      "import pyresample as pr\n",
      "import matplotlib as mp\n",
      "from matplotlib.pylab import *\n",
      "import matplotlib.colors as colors\n",
      "import matplotlib.pyplot as plt\n",
      "import os, sys\n",
      "import mpl_toolkits.basemap as bm\n",
      "from dateutil import parser\n",
      "from pydap.client import open_url\n",
      "\n",
      "# pyresample config\n",
      "area_region_id = 'epsg_3413_crude'\n",
      "area_def = pr.utils.load_area('pyresample/areas.cfg', area_region_id)\n",
      "\n",
      "# file OPeNDAP url  \n",
      "link = \"http://naiad-srv1.solab.rshu.ru:8080/opendap/production/AVISO_NRT_MADT_MERGED_H/nrt_global_merged_madt_h_20110120_20110120_20110126.nc.gz\"\n",
      "#link = \"http://opendap.solab.rshu.ru:8080/opendap/allData/AVISO_NRT_MWIND_MERGED/nrt_merged_mwind_20090919_20090919_20090928.nc.gz\"\n",
      "\n",
      "# read data\n",
      "dataset = open_url(link) \n",
      "fill_value = dataset.Grid_0001.attributes['_FillValue']\n",
      "lat = dataset.NbLatitudes[:]\n",
      "lon = map(fix_longutude, dataset.NbLongitudes[:])\n",
      "x,y = np.meshgrid(lon, lat)\n",
      "\n",
      "madt = dataset.Grid_0001[:,:]\n",
      "madt = np.transpose(madt)\n",
      "madt = np.ma.array(madt, mask = np.where(madt == fill_value, 1, 0))\n",
      "\n",
      "result = pr.kd_tree.resample_nearest(grid_def, madt.ravel(),\n",
      "  area_def, radius_of_influence=20000, fill_value=fill_value, nprocs=4)\n",
      "\n",
      "plt.close('all')\n",
      "fig = figure(num = 1, figsize=(10.24,10.24), facecolor=None, edgecolor=None, frameon=False)\n",
      "\n",
      "ax = axes([0.,0.,1.,1.])\n",
      "ax.set_axis_off()\n",
      "fig.add_axes(ax)\n",
      "m2 = pr.plot.area_def2basemap(area_def, resolution='c')\n",
      "\n",
      "palette  = cm.jet\n",
      "palette.set_bad('grey', 0)\n",
      "pal_norm = colors.Normalize(vmin = -150, vmax = 150, clip = False)\n",
      "\n",
      "#m2.drawcoastlines(linewidth=0.5, color='black', antialiased=1, ax=None, zorder=None)\n",
      "im = m2.imshow(result, origin='upper', cmap = palette, norm = pal_norm)\n",
      "savefig('aviso_imsave_pyresample2.png', dpi='100',transparent=True,pad_inches=0)\n",
      "!mv aviso/*.png /media/SOLabNFS2/tmp/"
     ],
     "language": "python",
     "metadata": {},
     "outputs": [
      {
       "ename": "ValueError",
       "evalue": "Mismatch between geometry and dataset",
       "output_type": "pyerr",
       "traceback": [
        "\u001b[1;31m---------------------------------------------------------------------------\u001b[0m\n\u001b[1;31mValueError\u001b[0m                                Traceback (most recent call last)",
        "\u001b[1;32m<ipython-input-5-546453a9767a>\u001b[0m in \u001b[0;36m<module>\u001b[1;34m()\u001b[0m\n\u001b[0;32m     29\u001b[0m \u001b[1;33m\u001b[0m\u001b[0m\n\u001b[0;32m     30\u001b[0m result = pr.kd_tree.resample_nearest(area_def, madt.ravel(),\n\u001b[1;32m---> 31\u001b[1;33m   area_def, radius_of_influence=20000, fill_value=fill_value, nprocs=4)\n\u001b[0m\u001b[0;32m     32\u001b[0m \u001b[1;33m\u001b[0m\u001b[0m\n\u001b[0;32m     33\u001b[0m \u001b[0mplt\u001b[0m\u001b[1;33m.\u001b[0m\u001b[0mclose\u001b[0m\u001b[1;33m(\u001b[0m\u001b[1;34m'all'\u001b[0m\u001b[1;33m)\u001b[0m\u001b[1;33m\u001b[0m\u001b[0m\n",
        "\u001b[1;32m/usr/local/lib/python2.7/dist-packages/pyresample-0.8.0-py2.7.egg/pyresample/kd_tree.pyc\u001b[0m in \u001b[0;36mresample_nearest\u001b[1;34m(source_geo_def, data, target_geo_def, radius_of_influence, epsilon, fill_value, reduce_data, nprocs, segments)\u001b[0m\n\u001b[0;32m     86\u001b[0m                      \u001b[0mradius_of_influence\u001b[0m\u001b[1;33m,\u001b[0m \u001b[0mneighbours\u001b[0m\u001b[1;33m=\u001b[0m\u001b[1;36m1\u001b[0m\u001b[1;33m,\u001b[0m\u001b[1;33m\u001b[0m\u001b[0m\n\u001b[0;32m     87\u001b[0m                      \u001b[0mepsilon\u001b[0m\u001b[1;33m=\u001b[0m\u001b[0mepsilon\u001b[0m\u001b[1;33m,\u001b[0m \u001b[0mfill_value\u001b[0m\u001b[1;33m=\u001b[0m\u001b[0mfill_value\u001b[0m\u001b[1;33m,\u001b[0m\u001b[1;33m\u001b[0m\u001b[0m\n\u001b[1;32m---> 88\u001b[1;33m                      reduce_data=reduce_data, nprocs=nprocs, segments=segments)\n\u001b[0m\u001b[0;32m     89\u001b[0m \u001b[1;33m\u001b[0m\u001b[0m\n\u001b[0;32m     90\u001b[0m def resample_gauss(source_geo_def, data, target_geo_def,\n",
        "\u001b[1;32m/usr/local/lib/python2.7/dist-packages/pyresample-0.8.0-py2.7.egg/pyresample/kd_tree.pyc\u001b[0m in \u001b[0;36m_resample\u001b[1;34m(source_geo_def, data, target_geo_def, resample_type, radius_of_influence, neighbours, epsilon, weight_funcs, fill_value, reduce_data, nprocs, segments)\u001b[0m\n\u001b[0;32m    237\u001b[0m                                           \u001b[0mdistance_array\u001b[0m\u001b[1;33m=\u001b[0m\u001b[0mdistance_array\u001b[0m\u001b[1;33m,\u001b[0m\u001b[1;33m\u001b[0m\u001b[0m\n\u001b[0;32m    238\u001b[0m                                           \u001b[0mweight_funcs\u001b[0m\u001b[1;33m=\u001b[0m\u001b[0mweight_funcs\u001b[0m\u001b[1;33m,\u001b[0m\u001b[1;33m\u001b[0m\u001b[0m\n\u001b[1;32m--> 239\u001b[1;33m                                           fill_value=fill_value)\n\u001b[0m\u001b[0;32m    240\u001b[0m \u001b[1;33m\u001b[0m\u001b[0m\n\u001b[0;32m    241\u001b[0m def get_neighbour_info(source_geo_def, target_geo_def, radius_of_influence, \n",
        "\u001b[1;32m/usr/local/lib/python2.7/dist-packages/pyresample-0.8.0-py2.7.egg/pyresample/kd_tree.pyc\u001b[0m in \u001b[0;36mget_sample_from_neighbour_info\u001b[1;34m(resample_type, output_shape, data, valid_input_index, valid_output_index, index_array, distance_array, weight_funcs, fill_value)\u001b[0m\n\u001b[0;32m    571\u001b[0m \u001b[1;33m\u001b[0m\u001b[0m\n\u001b[0;32m    572\u001b[0m     \u001b[1;32mif\u001b[0m \u001b[0mvalid_input_index\u001b[0m\u001b[1;33m.\u001b[0m\u001b[0msize\u001b[0m \u001b[1;33m!=\u001b[0m \u001b[0mdata\u001b[0m\u001b[1;33m.\u001b[0m\u001b[0mshape\u001b[0m\u001b[1;33m[\u001b[0m\u001b[1;36m0\u001b[0m\u001b[1;33m]\u001b[0m\u001b[1;33m:\u001b[0m\u001b[1;33m\u001b[0m\u001b[0m\n\u001b[1;32m--> 573\u001b[1;33m         \u001b[1;32mraise\u001b[0m \u001b[0mValueError\u001b[0m\u001b[1;33m(\u001b[0m\u001b[1;34m'Mismatch between geometry and dataset'\u001b[0m\u001b[1;33m)\u001b[0m\u001b[1;33m\u001b[0m\u001b[0m\n\u001b[0m\u001b[0;32m    574\u001b[0m \u001b[1;33m\u001b[0m\u001b[0m\n\u001b[0;32m    575\u001b[0m     \u001b[0mis_multi_channel\u001b[0m \u001b[1;33m=\u001b[0m \u001b[1;33m(\u001b[0m\u001b[0mdata\u001b[0m\u001b[1;33m.\u001b[0m\u001b[0mndim\u001b[0m \u001b[1;33m>\u001b[0m \u001b[1;36m1\u001b[0m\u001b[1;33m)\u001b[0m\u001b[1;33m\u001b[0m\u001b[0m\n",
        "\u001b[1;31mValueError\u001b[0m: Mismatch between geometry and dataset"
       ]
      }
     ],
     "prompt_number": 5
    },
    {
     "cell_type": "code",
     "collapsed": false,
     "input": [],
     "language": "python",
     "metadata": {},
     "outputs": []
    }
   ],
   "metadata": {}
  }
 ]
}