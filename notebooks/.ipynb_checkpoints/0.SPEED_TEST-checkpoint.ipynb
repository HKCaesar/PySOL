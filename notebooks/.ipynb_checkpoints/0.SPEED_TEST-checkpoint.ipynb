{
 "metadata": {
  "name": ""
 },
 "nbformat": 3,
 "nbformat_minor": 0,
 "worksheets": [
  {
   "cells": [
    {
     "cell_type": "code",
     "collapsed": false,
     "input": [
      "%%timeit -r 10\n",
      "from numpy import ones\n",
      "from cmod import rcs2windPar, rcs2wind\n",
      "test = rcs2windPar(sar=-0.387*ones((100,500)), cmdv=4, windir=0*ones((100,500)), theta=20*ones((100,500)), nprocs=32)"
     ],
     "language": "python",
     "metadata": {},
     "outputs": [
      {
       "output_type": "stream",
       "stream": "stdout",
       "text": [
        "Calculating CMOD...\n"
       ]
      },
      {
       "output_type": "stream",
       "stream": "stdout",
       "text": [
        "CMOD elapsed time: %f 0.610613822937\n",
        "Calculating CMOD...\n"
       ]
      },
      {
       "output_type": "stream",
       "stream": "stdout",
       "text": [
        "CMOD elapsed time: %f 0.572678089142\n",
        "Calculating CMOD...\n"
       ]
      },
      {
       "output_type": "stream",
       "stream": "stdout",
       "text": [
        "CMOD elapsed time: %f 0.585681915283\n",
        "Calculating CMOD...\n"
       ]
      },
      {
       "output_type": "stream",
       "stream": "stdout",
       "text": [
        "CMOD elapsed time: %f 0.645351171494\n",
        "Calculating CMOD...\n"
       ]
      },
      {
       "output_type": "stream",
       "stream": "stdout",
       "text": [
        "CMOD elapsed time: %f 0.585452079773\n",
        "Calculating CMOD...\n"
       ]
      },
      {
       "output_type": "stream",
       "stream": "stdout",
       "text": [
        "CMOD elapsed time: %f 0.582287073135\n",
        "Calculating CMOD...\n"
       ]
      },
      {
       "output_type": "stream",
       "stream": "stdout",
       "text": [
        "CMOD elapsed time: %f 0.593321084976\n",
        "Calculating CMOD...\n"
       ]
      },
      {
       "output_type": "stream",
       "stream": "stdout",
       "text": [
        "CMOD elapsed time: %f 0.579367876053\n",
        "Calculating CMOD...\n"
       ]
      },
      {
       "output_type": "stream",
       "stream": "stdout",
       "text": [
        "CMOD elapsed time: %f 0.589056015015\n",
        "Calculating CMOD...\n"
       ]
      },
      {
       "output_type": "stream",
       "stream": "stdout",
       "text": [
        "CMOD elapsed time: %f 0.643351078033\n",
        "Calculating CMOD...\n"
       ]
      },
      {
       "output_type": "stream",
       "stream": "stdout",
       "text": [
        "CMOD elapsed time: %f 0.586599826813\n",
        "1 loops, best of 10: 576 ms per loop\n"
       ]
      }
     ],
     "prompt_number": 1
    },
    {
     "cell_type": "code",
     "collapsed": false,
     "input": [],
     "language": "python",
     "metadata": {},
     "outputs": []
    }
   ],
   "metadata": {}
  }
 ]
}