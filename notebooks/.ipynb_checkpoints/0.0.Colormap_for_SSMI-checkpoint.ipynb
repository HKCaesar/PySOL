{
 "metadata": {
  "name": ""
 },
 "nbformat": 3,
 "nbformat_minor": 0,
 "worksheets": [
  {
   "cells": [
    {
     "cell_type": "code",
     "collapsed": false,
     "input": [
      "from netCDF4 import Dataset\n",
      "from mpl_toolkits.basemap import Basemap\n",
      "\n",
      "from gmtColormap import gmtColormap\n",
      "\n",
      "import laplaceFilter\n",
      "from mpl_util import LevelColormap"
     ],
     "language": "python",
     "metadata": {},
     "outputs": [],
     "prompt_number": 81
    },
    {
     "cell_type": "code",
     "collapsed": false,
     "input": [
      "def findSubsetIndices(min_lat,max_lat,min_lon,max_lon,lats,lons):\n",
      "    \"\"\"Array to store the results returned from the function\"\"\"\n",
      "    res=np.zeros((4),dtype=np.float64)\n",
      "    minLon=min_lon; maxLon=max_lon\n",
      "\n",
      "    distances1 = []; distances2 = []\n",
      "    indices=[]; index=1\n",
      "\n",
      "    for point in lats:\n",
      "        s1 = max_lat-point # (vector subtract)\n",
      "        s2 = min_lat-point # (vector subtract)\n",
      "        distances1.append((np.dot(s1, s1), point, index))\n",
      "        distances2.append((np.dot(s2, s2), point, index-1))\n",
      "        index=index+1\n",
      "\n",
      "    distances1.sort()\n",
      "    distances2.sort()\n",
      "    indices.append(distances1[0])\n",
      "    indices.append(distances2[0])\n",
      "\n",
      "    distances1 = []; distances2 = []; index=1\n",
      "\n",
      "    for point in lons:\n",
      "        s1 = maxLon-point # (vector subtract)\n",
      "        s2 = minLon-point # (vector subtract)\n",
      "        distances1.append((np.dot(s1, s1), point, index))\n",
      "        distances2.append((np.dot(s2, s2), point, index-1))\n",
      "        index=index+1\n",
      "\n",
      "    distances1.sort()\n",
      "    distances2.sort()\n",
      "    indices.append(distances1[0])\n",
      "    indices.append(distances2[0])\n",
      "\n",
      "    # Save final product: max_lat_indices,min_lat_indices,max_lon_indices,min_lon_indices\n",
      "    minJ=indices[1][2]\n",
      "    maxJ=indices[0][2]\n",
      "    minI=indices[3][2]\n",
      "    maxI=indices[2][2]\n",
      "\n",
      "    res[0]=min(minI,maxI); res[1]=max(minI,maxI); res[2]=min(minJ,maxJ); res[3]=max(minJ,maxJ)\n",
      "    return res"
     ],
     "language": "python",
     "metadata": {},
     "outputs": [],
     "prompt_number": 82
    },
    {
     "cell_type": "code",
     "collapsed": false,
     "input": [
      "lonStart=1\n",
      "lonEnd=5\n",
      "latStart=37\n",
      "latEnd=47\n",
      "m=None\n",
      "name='etopo1map'"
     ],
     "language": "python",
     "metadata": {},
     "outputs": [],
     "prompt_number": 84
    },
    {
     "cell_type": "code",
     "collapsed": false,
     "input": [
      " # Get the etopo1 data\n",
      "etopo1name='/media/SOLabNFS/store/auxdata/dem/ETOPO1/data/bedrock/grid_registered/netcdf/ETOPO1_Bed_g_gmt4.grd'\n",
      "etopo1 = Dataset(etopo1name,'r')\n",
      "\n",
      "lons = etopo1.variables[\"x\"][:]\n",
      "lats = etopo1.variables[\"y\"][:]"
     ],
     "language": "python",
     "metadata": {},
     "outputs": [],
     "prompt_number": 98
    },
    {
     "cell_type": "code",
     "collapsed": false,
     "input": [
      "res = findSubsetIndices(latStart,latEnd,lonStart,lonEnd,lats,lons)\n",
      "\n",
      "lon,lat=np.meshgrid(lons[res[0]:res[1]],lats[res[2]:res[3]])\n",
      "print \"Extracted data for area %s : (%s,%s) to (%s,%s)\"%(name,lon.min(),lat.min(),lon.max(),lat.max())\n",
      "bathy = etopo1.variables[\"z\"][int(res[2]):int(res[3]),int(res[0]):int(res[1])]\n",
      "bathy = laplaceFilter.laplace_filter(bathy,M=None)\n",
      "\n",
      "if lonStart< 0 and lonEnd < 0:\n",
      "    lon_0= - (abs(lonEnd)+abs(lonStart))/2.0\n",
      "else:\n",
      "    lon_0=(abs(lonEnd)+abs(lonStart))/2.0\n",
      "\n",
      "if latStart< 0 and latEnd < 0:\n",
      "    lat_0= - (abs(latEnd)+abs(latStart))/2.0\n",
      "else:\n",
      "    lat_0=(abs(latEnd)+abs(latStart))/2.0"
     ],
     "language": "python",
     "metadata": {},
     "outputs": [
      {
       "output_type": "stream",
       "stream": "stdout",
       "text": [
        "Extracted data for area etopo1map : (-92.15,-74.85) to (123.46,88.4)\n"
       ]
      },
      {
       "ename": "KeyError",
       "evalue": "'z'",
       "output_type": "pyerr",
       "traceback": [
        "\u001b[1;31m---------------------------------------------------------------------------\u001b[0m\n\u001b[1;31mKeyError\u001b[0m                                  Traceback (most recent call last)",
        "\u001b[1;32m<ipython-input-93-8aa24a9d46e1>\u001b[0m in \u001b[0;36m<module>\u001b[1;34m()\u001b[0m\n\u001b[0;32m      3\u001b[0m \u001b[0mlon\u001b[0m\u001b[1;33m,\u001b[0m\u001b[0mlat\u001b[0m\u001b[1;33m=\u001b[0m\u001b[0mnp\u001b[0m\u001b[1;33m.\u001b[0m\u001b[0mmeshgrid\u001b[0m\u001b[1;33m(\u001b[0m\u001b[0mlons\u001b[0m\u001b[1;33m[\u001b[0m\u001b[0mres\u001b[0m\u001b[1;33m[\u001b[0m\u001b[1;36m0\u001b[0m\u001b[1;33m]\u001b[0m\u001b[1;33m:\u001b[0m\u001b[0mres\u001b[0m\u001b[1;33m[\u001b[0m\u001b[1;36m1\u001b[0m\u001b[1;33m]\u001b[0m\u001b[1;33m]\u001b[0m\u001b[1;33m,\u001b[0m\u001b[0mlats\u001b[0m\u001b[1;33m[\u001b[0m\u001b[0mres\u001b[0m\u001b[1;33m[\u001b[0m\u001b[1;36m2\u001b[0m\u001b[1;33m]\u001b[0m\u001b[1;33m:\u001b[0m\u001b[0mres\u001b[0m\u001b[1;33m[\u001b[0m\u001b[1;36m3\u001b[0m\u001b[1;33m]\u001b[0m\u001b[1;33m]\u001b[0m\u001b[1;33m)\u001b[0m\u001b[1;33m\u001b[0m\u001b[0m\n\u001b[0;32m      4\u001b[0m \u001b[1;32mprint\u001b[0m \u001b[1;34m\"Extracted data for area %s : (%s,%s) to (%s,%s)\"\u001b[0m\u001b[1;33m%\u001b[0m\u001b[1;33m(\u001b[0m\u001b[0mname\u001b[0m\u001b[1;33m,\u001b[0m\u001b[0mlon\u001b[0m\u001b[1;33m.\u001b[0m\u001b[0mmin\u001b[0m\u001b[1;33m(\u001b[0m\u001b[1;33m)\u001b[0m\u001b[1;33m,\u001b[0m\u001b[0mlat\u001b[0m\u001b[1;33m.\u001b[0m\u001b[0mmin\u001b[0m\u001b[1;33m(\u001b[0m\u001b[1;33m)\u001b[0m\u001b[1;33m,\u001b[0m\u001b[0mlon\u001b[0m\u001b[1;33m.\u001b[0m\u001b[0mmax\u001b[0m\u001b[1;33m(\u001b[0m\u001b[1;33m)\u001b[0m\u001b[1;33m,\u001b[0m\u001b[0mlat\u001b[0m\u001b[1;33m.\u001b[0m\u001b[0mmax\u001b[0m\u001b[1;33m(\u001b[0m\u001b[1;33m)\u001b[0m\u001b[1;33m)\u001b[0m\u001b[1;33m\u001b[0m\u001b[0m\n\u001b[1;32m----> 5\u001b[1;33m \u001b[0mbathy\u001b[0m \u001b[1;33m=\u001b[0m \u001b[0metopo1\u001b[0m\u001b[1;33m.\u001b[0m\u001b[0mvariables\u001b[0m\u001b[1;33m[\u001b[0m\u001b[1;34m\"z\"\u001b[0m\u001b[1;33m]\u001b[0m\u001b[1;33m[\u001b[0m\u001b[0mint\u001b[0m\u001b[1;33m(\u001b[0m\u001b[0mres\u001b[0m\u001b[1;33m[\u001b[0m\u001b[1;36m2\u001b[0m\u001b[1;33m]\u001b[0m\u001b[1;33m)\u001b[0m\u001b[1;33m:\u001b[0m\u001b[0mint\u001b[0m\u001b[1;33m(\u001b[0m\u001b[0mres\u001b[0m\u001b[1;33m[\u001b[0m\u001b[1;36m3\u001b[0m\u001b[1;33m]\u001b[0m\u001b[1;33m)\u001b[0m\u001b[1;33m,\u001b[0m\u001b[0mint\u001b[0m\u001b[1;33m(\u001b[0m\u001b[0mres\u001b[0m\u001b[1;33m[\u001b[0m\u001b[1;36m0\u001b[0m\u001b[1;33m]\u001b[0m\u001b[1;33m)\u001b[0m\u001b[1;33m:\u001b[0m\u001b[0mint\u001b[0m\u001b[1;33m(\u001b[0m\u001b[0mres\u001b[0m\u001b[1;33m[\u001b[0m\u001b[1;36m1\u001b[0m\u001b[1;33m]\u001b[0m\u001b[1;33m)\u001b[0m\u001b[1;33m]\u001b[0m\u001b[1;33m\u001b[0m\u001b[0m\n\u001b[0m\u001b[0;32m      6\u001b[0m \u001b[0mbathy\u001b[0m \u001b[1;33m=\u001b[0m \u001b[0mlaplaceFilter\u001b[0m\u001b[1;33m.\u001b[0m\u001b[0mlaplace_filter\u001b[0m\u001b[1;33m(\u001b[0m\u001b[0mbathy\u001b[0m\u001b[1;33m,\u001b[0m\u001b[0mM\u001b[0m\u001b[1;33m=\u001b[0m\u001b[0mNone\u001b[0m\u001b[1;33m)\u001b[0m\u001b[1;33m\u001b[0m\u001b[0m\n\u001b[0;32m      7\u001b[0m \u001b[1;33m\u001b[0m\u001b[0m\n",
        "\u001b[1;31mKeyError\u001b[0m: 'z'"
       ]
      }
     ],
     "prompt_number": 93
    },
    {
     "cell_type": "code",
     "collapsed": false,
     "input": [
      "lon,lat=np.meshgrid(lons,lats)"
     ],
     "language": "python",
     "metadata": {},
     "outputs": [],
     "prompt_number": 87
    },
    {
     "cell_type": "code",
     "collapsed": false,
     "input": [
      "res  = logical_and(lat>latStart, lat<latEnd)\n",
      "res = logical_and(res==True, lon>lonStart)\n",
      "res = logical_and(res==True, lon<lonEnd)"
     ],
     "language": "python",
     "metadata": {},
     "outputs": [],
     "prompt_number": 88
    },
    {
     "cell_type": "code",
     "collapsed": false,
     "input": [
      "lonStart=121\n",
      "lonEnd=152\n",
      "latStart=71\n",
      "latEnd=91\n",
      " # Get the etopo1 data\n",
      "etopo1name='http://opendap.solab.rshu.ru:8080/opendap/allData/SOLAB_AMSRE_L2_NN/2011/01/SOLAB_AMSRE_L2_NN_20110101_004243_20110101_013239_188_D_v1.nc'\n",
      "etopo1 = Dataset(etopo1name,'r')\n",
      "lon = etopo1.variables[\"longitude\"][:]\n",
      "lat = etopo1.variables[\"latitude\"][:]\n",
      "\n",
      "res  = logical_and(lat>latStart, lat<latEnd)\n",
      "res = logical_and(res==True, lon>lonStart)\n",
      "res = logical_and(res==True, lon<lonEnd)"
     ],
     "language": "python",
     "metadata": {},
     "outputs": [],
     "prompt_number": 120
    },
    {
     "cell_type": "code",
     "collapsed": false,
     "input": [
      "imshow(res)"
     ],
     "language": "python",
     "metadata": {},
     "outputs": [
      {
       "metadata": {},
       "output_type": "pyout",
       "prompt_number": 121,
       "text": [
        "<matplotlib.image.AxesImage at 0x4dd3550>"
       ]
      },
      {
       "metadata": {},
       "output_type": "display_data",
       "png": "[encoded data removed]",
       "text": [
        "<matplotlib.figure.Figure at 0x4de8690>"
       ]
      }
     ],
     "prompt_number": 121
    },
    {
     "cell_type": "code",
     "collapsed": false,
     "input": [
      "print (lon[res])"
     ],
     "language": "python",
     "metadata": {},
     "outputs": [
      {
       "output_type": "stream",
       "stream": "stdout",
       "text": [
        "[ 151.82  150.37  148.82  147.19  145.47  143.58  141.72  139.61  137.54\n",
        "  135.28  132.9   130.4   127.79  125.06  122.23  151.4   149.96  148.43\n",
        "  146.82  145.12  143.32  141.35  139.43  137.25  135.11  132.78  130.34\n",
        "  127.79  125.13  122.37  150.99  149.56  148.05  146.46  144.77  143.\n",
        "  141.14  139.1   137.11  134.86  132.66  130.28  127.79  125.2   122.51\n",
        "  151.93  150.58  149.17  147.67  146.1   144.44  142.7   140.86  138.93\n",
        "  136.84  134.78  132.48  130.23  127.8   125.27  122.65  151.47  150.19\n",
        "  148.78  147.31  145.75  144.12  142.4   140.59  138.7   136.71  134.56\n",
        "  132.45  130.1   127.81  125.35  122.79  151.18  149.74  148.41  146.95\n",
        "  145.42  143.8   142.11  140.34  138.48  136.53  134.49  132.28  130.13\n",
        "  127.75  125.42  122.93  150.73  149.48  147.99  146.6   145.09  143.5\n",
        "  141.84  140.09  138.27  136.35  134.35  132.27  130.02  127.84  125.42\n",
        "  123.07  151.53  150.4   149.05  147.75  146.21  144.77  143.21  141.57\n",
        "  139.85  138.06  136.18  134.22  132.19  130.06  127.78  125.57  123.13\n",
        "  151.2   149.92  148.74  147.34  145.99  144.4   142.92  141.31  139.62\n",
        "  137.86  136.02  134.11  132.11  130.03  127.88  125.58  123.34  151.99\n",
        "  150.82  149.61  148.28  147.06  145.62  144.22  142.59  141.06  139.4\n",
        "  137.67  135.87  133.99  132.04  130.01  127.9   125.73  123.41  121.17\n",
        "  151.61  150.46  149.25  148.    146.63  145.37  143.88  142.44  140.76\n",
        "  139.19  137.49  135.73  133.89  131.97  129.99  127.93  125.81  123.62\n",
        "  121.29  151.19  150.1   148.91  147.66  146.37  144.96  143.66  142.12\n",
        "  140.65  138.93  137.32  135.59  133.79  131.91  129.97  127.97  125.89\n",
        "  123.75  121.55  151.96  150.88  149.7   148.57  147.34  146.06  144.72\n",
        "  143.27  141.94  140.37  138.85  137.1   135.46  133.69  131.86  129.96\n",
        "  128.    125.98  123.89  121.75  151.6   150.53  149.41  148.19  147.03\n",
        "  145.76  144.44  143.07  141.59  140.21  138.61  137.06  135.28  133.61\n",
        "  131.82  129.96  128.04  126.06  124.03  121.94  151.2   150.19  149.08\n",
        "  147.92  146.67  145.47  144.17  142.82  141.42  139.9   138.49  136.86\n",
        "  135.28  133.47  131.77  129.96  128.09  126.15  124.16  122.12  151.92\n",
        "  150.95  149.8   148.75  147.61  146.43  145.14  143.91  142.58  141.2\n",
        "  139.76  138.21  136.78  135.11  133.51  131.68  129.96  128.13  126.24\n",
        "  124.3   122.31  151.58  150.57  149.57  148.39  147.31  146.14  144.93\n",
        "  143.61  142.35  140.99  139.57  138.11  136.53  135.07  133.39  131.77\n",
        "  129.91  128.18  126.34  124.44  122.5   151.25  150.25  149.21  148.18\n",
        "  146.97  145.87  144.66  143.42  142.07  140.79  139.4   137.96  136.47\n",
        "  134.87  133.39  131.68  130.04  128.17  126.43  124.58  122.68  151.87\n",
        "  150.87  149.93  148.91  147.84  146.79  145.55  144.41  143.19  141.91\n",
        "  140.54  139.23  137.81  136.35  134.84  133.22  131.72  130.    128.34\n",
        "  126.47  124.72  122.87  151.5   150.6   149.58  148.61  147.56  146.47\n",
        "  145.39  144.12  142.96  141.71  140.41  139.02  137.68  136.24  134.76\n",
        "  133.23  131.59  130.08  128.35  126.68  124.8   123.05  121.2   151.19\n",
        "  150.25  149.32  148.27  147.28  146.21  145.09  143.99  142.7   141.51\n",
        "  140.24  138.92  137.5   136.14  134.69  133.19  131.64  129.99  128.46\n",
        "  126.72  125.05  123.18  121.42  151.82  150.88  149.95  148.99  148.04\n",
        "  146.97  145.95  144.85  143.72  142.59  141.28  140.07  138.77  137.43\n",
        "  136.    134.62  133.15  131.64  130.07  128.42  126.88  125.14  123.46\n",
        "  121.59  151.51  150.62  149.66  148.71  147.73  146.76  145.66  144.62\n",
        "  143.5   142.34  141.2   139.86  138.64  137.32  135.96  134.51  133.12\n",
        "  131.63  130.11  128.54  126.88  125.33  123.59  121.92  151.21  150.33\n",
        "  149.42  148.44  147.47  146.46  145.47  144.36  143.3   142.16  140.98\n",
        "  139.81  138.46  137.22  135.88  134.51  133.04  131.64  130.14  128.61\n",
        "  127.04  125.37  123.82  122.09  151.76  150.92  150.04  149.15  148.22\n",
        "  147.21  146.22  145.2   144.19  143.05  141.98  140.82  139.62  138.44\n",
        "  137.07  135.81  134.46  133.08  131.6   130.19  128.68  127.14  125.57\n",
        "  123.9   122.35  150.63  149.77  148.88  147.96  147.01  145.99  144.98\n",
        "  143.94  142.91  141.76  140.66  139.49  138.27  137.07  135.69  134.42\n",
        "  133.06  131.66  130.18  128.76  127.25  125.71  124.13  122.47  149.5\n",
        "  148.62  147.71  146.78  145.81  144.77  143.75  142.69  141.64  140.47\n",
        "  139.36  138.17  136.94  135.73  134.34  133.05  131.68  130.28  128.79\n",
        "  127.36  125.85  124.31  122.74  121.08  148.38  147.48  146.55  145.6\n",
        "  144.61  143.56  142.52  141.44  140.38  139.2   138.07  136.87  135.63\n",
        "  134.4   133.    131.71  130.33  128.92  127.43  126.    124.49  122.95\n",
        "  121.38  147.25  146.33  145.39  144.42  143.42  142.35  141.29  140.2\n",
        "  139.13  137.93  136.79  135.58  134.33  133.09  131.68  130.38  129.\n",
        "  127.59  126.1   124.67  123.16  121.63  146.12  145.19  144.24  143.25\n",
        "  142.24  141.15  140.08  138.98  137.89  136.69  135.54  134.31  133.05\n",
        "  131.81  130.4   129.09  127.7   126.29  124.8   123.37  121.87  145.\n",
        "  144.06  143.09  142.09  141.06  139.97  138.88  137.77  136.67  135.45\n",
        "  134.3   133.06  131.8   130.55  129.13  127.82  126.44  125.03  123.54\n",
        "  122.12  143.89  142.93  141.95  140.94  139.9   138.79  137.7   136.58\n",
        "  135.47  134.24  133.08  131.84  130.57  129.31  127.9   126.59  125.2\n",
        "  123.79  122.31  142.78  141.82  140.82  139.8   138.75  137.63  136.53\n",
        "  135.4   134.28  133.05  131.88  130.63  129.36  128.11  126.69  125.38\n",
        "  124.    122.6   121.12  141.69  140.71  139.7   138.67  137.62  136.49\n",
        "  135.38  134.24  133.12  131.88  130.71  129.46  128.18  126.93  125.52\n",
        "  124.21  122.83  121.43  140.61  139.62  138.6   137.56  136.5   135.36\n",
        "  134.25  133.1   131.97  130.74  129.56  128.31  127.03  125.78  124.37\n",
        "  123.07  121.7   139.53  138.54  137.51  136.47  135.39  134.26  133.13\n",
        "  131.99  130.86  129.62  128.43  127.19  125.91  124.66  123.26  121.96\n",
        "  138.48  137.47  136.44  135.39  134.31  133.17  132.04  130.89  129.76\n",
        "  128.52  127.34  126.09  124.82  123.57  122.18  137.43  136.42  135.39\n",
        "  134.33  133.25  132.1   130.98  129.82  128.69  127.45  126.27  125.03\n",
        "  123.76  122.52  121.14  136.41  135.39  134.35  133.29  132.21  131.06\n",
        "  129.93  128.78  127.64  126.41  125.23  123.99  122.73  121.5   135.4\n",
        "  134.38  133.34  132.27  131.19  130.04  128.91  127.76  126.63  125.4\n",
        "  124.22  122.99  121.74  134.41  133.39  132.34  131.27  130.19  129.04\n",
        "  127.91  126.77  125.64  124.41  123.24  122.02  133.44  132.41  131.37\n",
        "  130.3   129.21  128.07  126.94  125.8   124.67  123.45  122.29  121.07\n",
        "  132.49  131.46  130.41  129.35  128.26  127.12  126.    124.86  123.74\n",
        "  122.53  121.37  131.56  130.53  129.48  128.42  127.34  126.2   125.08\n",
        "  123.95  122.83  121.63  130.65  129.62  128.58  127.52  126.44  125.31\n",
        "  124.19  123.06  121.95  129.76  128.74  127.69  126.63  125.56  124.44\n",
        "  123.33  122.21  121.1   128.89  127.87  126.83  125.78  124.71  123.59\n",
        "  122.49  121.37  128.05  127.03  126.    124.95  123.88  122.77  121.68\n",
        "  127.23  126.21  125.18  124.14  123.08  121.98  126.43  125.42  124.4\n",
        "  123.36  122.3   121.21  125.65  124.65  123.63  122.6   121.55  124.9\n",
        "  123.9   122.89  121.86  124.17  123.18  122.17  121.15  123.46  122.48\n",
        "  121.48  122.78  121.8   122.11  121.14  121.47  121.16]\n"
       ]
      }
     ],
     "prompt_number": 122
    },
    {
     "cell_type": "code",
     "collapsed": false,
     "input": [
      "r = array(arange(size(res)).reshape(shape(res)))"
     ],
     "language": "python",
     "metadata": {},
     "outputs": [],
     "prompt_number": 68
    },
    {
     "cell_type": "code",
     "collapsed": false,
     "input": [
      "r.shape"
     ],
     "language": "python",
     "metadata": {},
     "outputs": [
      {
       "metadata": {},
       "output_type": "pyout",
       "prompt_number": 69,
       "text": [
        "(10801, 21601)"
       ]
      }
     ],
     "prompt_number": 69
    },
    {
     "cell_type": "code",
     "collapsed": false,
     "input": [
      "print r[res].max()"
     ],
     "language": "python",
     "metadata": {},
     "outputs": [
      {
       "output_type": "stream",
       "stream": "stdout",
       "text": [
        "177549719\n"
       ]
      }
     ],
     "prompt_number": 78
    },
    {
     "cell_type": "code",
     "collapsed": false,
     "input": [
      "lat>latStart & lat<latEnd & lon>lonStart & lon<lonEnd"
     ],
     "language": "python",
     "metadata": {},
     "outputs": [
      {
       "ename": "TypeError",
       "evalue": "ufunc 'bitwise_and' not supported for the input types, and the inputs could not be safely coerced to any supported types according to the casting rule ''safe''",
       "output_type": "pyerr",
       "traceback": [
        "\u001b[1;31m---------------------------------------------------------------------------\u001b[0m\n\u001b[1;31mTypeError\u001b[0m                                 Traceback (most recent call last)",
        "\u001b[1;32m<ipython-input-55-93a0a7f0df6c>\u001b[0m in \u001b[0;36m<module>\u001b[1;34m()\u001b[0m\n\u001b[1;32m----> 1\u001b[1;33m \u001b[0mlat\u001b[0m\u001b[1;33m>\u001b[0m\u001b[0mlatStart\u001b[0m \u001b[1;33m&\u001b[0m \u001b[0mlat\u001b[0m\u001b[1;33m<\u001b[0m\u001b[0mlatEnd\u001b[0m \u001b[1;33m&\u001b[0m \u001b[0mlon\u001b[0m\u001b[1;33m>\u001b[0m\u001b[0mlonStart\u001b[0m \u001b[1;33m&\u001b[0m \u001b[0mlon\u001b[0m\u001b[1;33m<\u001b[0m\u001b[0mlonEnd\u001b[0m\u001b[1;33m\u001b[0m\u001b[0m\n\u001b[0m",
        "\u001b[1;31mTypeError\u001b[0m: ufunc 'bitwise_and' not supported for the input types, and the inputs could not be safely coerced to any supported types according to the casting rule ''safe''"
       ]
      }
     ],
     "prompt_number": 55
    },
    {
     "cell_type": "code",
     "collapsed": false,
     "input": [
      "print res"
     ],
     "language": "python",
     "metadata": {},
     "outputs": [
      {
       "output_type": "stream",
       "stream": "stdout",
       "text": [
        "[ 10860.  11101.   7620.   8221.]\n"
       ]
      }
     ],
     "prompt_number": 7
    },
    {
     "cell_type": "code",
     "collapsed": false,
     "input": [
      "m = Basemap(llcrnrlat=latStart,urcrnrlat=latEnd,\\\n",
      "        llcrnrlon=lonStart,urcrnrlon=lonEnd,\\\n",
      "        satellite_height=798000, \\\n",
      "        resolution='h',area_thresh=1000.,projection='nsper',\\\n",
      "        lat_1=latStart,lon_0=lon_0,lat_0=lat_0)"
     ],
     "language": "python",
     "metadata": {},
     "outputs": [],
     "prompt_number": 12
    },
    {
     "cell_type": "code",
     "collapsed": false,
     "input": [
      "x, y = m(lon,lat)"
     ],
     "language": "python",
     "metadata": {},
     "outputs": [],
     "prompt_number": 35
    },
    {
     "cell_type": "code",
     "collapsed": false,
     "input": [
      "close(\"all\")\n",
      "figure()\n",
      "cm = gmtColormap(fileName='GMT_rainbow', \\\n",
      "GMTPath='/home/mag/Documents/repos/solab/PySOL/cmap_data/')\n",
      "cs = m.contourf(x,y,bathy,cmap=cm,\n",
      "                   alpha=1.0,\n",
      "                   extend='both')\n",
      "cs.axis='tight'\n",
      "# new axis for colorbar.\n",
      "ax = plt.gca()\n",
      "l,b,w,h=ax.get_position().bounds\n",
      "# cax = plt.axes([l-0.25, b+h*0.1, 0.025, h*0.8]) # setup colorbar axes\n",
      "# cb = plt.colorbar(cs, cax, orientation='vertical')\n",
      "# cb.set_label('Height [m]')\n",
      "cax = plt.axes([l+w*0.1, b-0.05, w*0.8, 0.025]) # setup colorbar axes\n",
      "cb = plt.colorbar(cs, cax, orientation='horizontal')\n",
      "plt.axes(ax)  # make the original axes current again"
     ],
     "language": "python",
     "metadata": {},
     "outputs": [
      {
       "metadata": {},
       "output_type": "pyout",
       "prompt_number": 42,
       "text": [
        "<matplotlib.axes._subplots.AxesSubplot at 0x860d6d0>"
       ]
      },
      {
       "metadata": {},
       "output_type": "display_data",
       "png": "[encoded data removed]",
       "text": [
        "<matplotlib.figure.Figure at 0x971fd90>"
       ]
      }
     ],
     "prompt_number": 42
    },
    {
     "cell_type": "code",
     "collapsed": false,
     "input": [],
     "language": "python",
     "metadata": {},
     "outputs": []
    },
    {
     "cell_type": "code",
     "collapsed": false,
     "input": [
      "import numpy as np\n",
      "data = np.arange(40000).reshape((200,200))"
     ],
     "language": "python",
     "metadata": {},
     "outputs": [],
     "prompt_number": 95
    },
    {
     "cell_type": "code",
     "collapsed": false,
     "input": [
      "cm = gmtColormap(fileName='GMT_rainbow', \\\n",
      "                GMTPath='/home/mag/Documents/repos/solab/PySOL/cmap_data/')"
     ],
     "language": "python",
     "metadata": {},
     "outputs": [],
     "prompt_number": 99
    },
    {
     "cell_type": "code",
     "collapsed": false,
     "input": [
      "fig = plt.figure(figsize=(3,3), dpi=200)\n",
      "ax = plt.axes([0., 0., 1., 1.], frameon=False, xticks=[],yticks=[])\n",
      "ax.imshow(data, interpolation='none', cmap=cm)\n",
      "ax.set_title('Matplotlib is fun!', size=16, weight='bold')\n",
      "plt.savefig('test.png', dpi=200, transparent=True)\n"
     ],
     "language": "python",
     "metadata": {},
     "outputs": [
      {
       "metadata": {},
       "output_type": "display_data",
       "png": "[encoded data removed]",
       "text": [
        "<matplotlib.figure.Figure at 0x1103c150>"
       ]
      }
     ],
     "prompt_number": 100
    },
    {
     "cell_type": "code",
     "collapsed": false,
     "input": [
      "fig = plt.figure(figsize=(3,3), dpi=200)\n",
      "# ax = plt.axes([0., 0., 1., 1.], frameon=False, xticks=[],yticks=[])\n",
      "# ax.imshow(data, interpolation='none', cmap=cm)\n",
      "plt.imshow(data.T, interpolation='none', cmap=cm)\n",
      "plt.colorbar()\n",
      "# ax.set_title('Matplotlib is fun!', size=16, weight='bold')\n",
      "plt.savefig('test.png', dpi=200, transparent=True)\n"
     ],
     "language": "python",
     "metadata": {},
     "outputs": [
      {
       "metadata": {},
       "output_type": "display_data",
       "png": "[encoded data removed]",
       "text": [
        "<matplotlib.figure.Figure at 0x10d5b2d0>"
       ]
      }
     ],
     "prompt_number": 102
    },
    {
     "cell_type": "code",
     "collapsed": false,
     "input": [],
     "language": "python",
     "metadata": {},
     "outputs": []
    },
    {
     "cell_type": "code",
     "collapsed": false,
     "input": [],
     "language": "python",
     "metadata": {},
     "outputs": []
    },
    {
     "cell_type": "code",
     "collapsed": false,
     "input": [
      "f = open('/home/mag/Documents/repos/solab/PySOL/cmap_data/SSMI_wind_speed.txt', 'r')\n",
      "cma = []\n",
      "for line in f:\n",
      "    cma.append([float(x) for x in line.strip().split()])\n",
      "f.close()\n",
      "\n",
      "ssmi_cmap = matplotlib.colors.ListedColormap(cma, name='SSMI_colormap')\n",
      "\n",
      "fig = plt.figure(figsize=(7,7), dpi=200)\n",
      "# plt.pcolormesh(rand(30,30)*30, cmap=ssmi_cmap)\n",
      "data = arange(40000).reshape((200,200))/4000*3\n",
      "plt.imshow(data.T, interpolation='none', cmap=ssmi_cmap)\n",
      "plt.colorbar()\n",
      "plt.savefig('test.png', dpi=200, transparent=True)\n"
     ],
     "language": "python",
     "metadata": {},
     "outputs": [
      {
       "metadata": {},
       "output_type": "display_data",
       "png": "[encoded data removed]",
       "text": [
        "<matplotlib.figure.Figure at 0x41f1310>"
       ]
      }
     ],
     "prompt_number": 1
    },
    {
     "cell_type": "code",
     "collapsed": false,
     "input": [
      "# define individual colors as hex values\n",
      "colors = ['#AF00FF', '#4657FF', '#00FFFF', '#FFFF00', '#FF0000', '#FF46FF']\n",
      "ssmi_cmap = matplotlib.colors.LinearSegmentedColormap.from_list('SSMI_colormap', colors, 256)"
     ],
     "language": "python",
     "metadata": {},
     "outputs": [],
     "prompt_number": 26
    },
    {
     "cell_type": "code",
     "collapsed": false,
     "input": [],
     "language": "python",
     "metadata": {},
     "outputs": []
    }
   ],
   "metadata": {}
  }
 ]
}