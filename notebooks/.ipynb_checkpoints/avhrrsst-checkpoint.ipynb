{
 "metadata": {
  "name": "avhrrsst"
 },
 "nbformat": 3,
 "nbformat_minor": 0,
 "worksheets": [
  {
   "cells": [
    {
     "cell_type": "code",
     "collapsed": false,
     "input": [
      "from netCDF4 import Dataset\n",
      "import matplotlib.pyplot as plt\n",
      "from mpl_toolkits.basemap import Basemap\n",
      "import datetime\n",
      "from os import path, listdir\n",
      "import fnmatch\n",
      "\n",
      "from numpy import meshgrid, arange, squeeze, floor, ceil\n",
      "\n",
      "from createMapsEtopo1 import  findSubsetIndices\n",
      "\n",
      "__author__   = 'Alexander Myasoedov'\n",
      "__email__    = 'mag@rshu.ru'\n",
      "__created__  = datetime.datetime(2013, 6, 17)\n",
      "__modified__ = datetime.datetime(2013, 6, 17)\n",
      "__version__  = \"1.0\"\n",
      "__status__   = \"Development\""
     ],
     "language": "python",
     "metadata": {},
     "outputs": [],
     "prompt_number": 42
    },
    {
     "cell_type": "code",
     "collapsed": false,
     "input": [
      "lonStart=27.923318017\n",
      "lonEnd=28.3009683094\n",
      "latStart=-33.1226689261\n",
      "latEnd=-32.7742803008\n",
      "wantedDate = datetime.datetime(2009,12,23,16,48,46)\n",
      "m=None\n",
      "name='avhrrsst'\n",
      "contour=None\n",
      "timeOfDay='night'\n",
      "\n",
      "base = '/media/SOLabNFS/store/satellite/AVHRR_Pathfinder-NODC-L3C-v5.2/'\n",
      "\n",
      "indir = base + wantedDate.strftime('%Y') + '/'\n",
      "outdir = '/home/mag/'\n",
      "\n",
      "wantedDay = wantedDate.timetuple().tm_yday\n",
      "\n",
      "fn =  wantedDate.strftime('%Y%m%d') + '*' + timeOfDay + '*.nc'\n",
      "\n",
      "for file in listdir(indir):\n",
      "    if fnmatch.fnmatch(file, fn):\n",
      "        fn = file"
     ],
     "language": "python",
     "metadata": {},
     "outputs": [],
     "prompt_number": 96
    },
    {
     "cell_type": "code",
     "collapsed": false,
     "input": [
      "cdf = Dataset(indir + fn)\n",
      "\n",
      "# Read lats/lons and time\n",
      "lats = cdf.variables[\"lat\"][:]\n",
      "lons = cdf.variables[\"lon\"][:]\n",
      "\n",
      "# find subset not to import all the data\n",
      "res = findSubsetIndices(latStart,latEnd,lonStart,lonEnd,lats,lons)\n",
      "\n",
      "print res"
     ],
     "language": "python",
     "metadata": {},
     "outputs": [
      {
       "output_type": "stream",
       "stream": "stdout",
       "text": [
        "[ 4990.  5000.  2954.  2947.]\n"
       ]
      }
     ],
     "prompt_number": 97
    },
    {
     "cell_type": "code",
     "collapsed": false,
     "input": [
      "lon,lat=meshgrid(lons[res[0]:res[1]],lats[res[2]:res[3]])"
     ],
     "language": "python",
     "metadata": {},
     "outputs": [
      {
       "output_type": "stream",
       "stream": "stdout",
       "text": [
        "[[-32.77082825 -32.81249619 -32.85416412 -32.89582825 -32.93749619\n",
        "  -32.97916412 -33.02082825 -33.06249619 -33.10416412]\n",
        " [-32.77082825 -32.81249619 -32.85416412 -32.89582825 -32.93749619\n",
        "  -32.97916412 -33.02082825 -33.06249619 -33.10416412]\n",
        " [-32.77082825 -32.81249619 -32.85416412 -32.89582825 -32.93749619\n",
        "  -32.97916412 -33.02082825 -33.06249619 -33.10416412]\n",
        " [-32.77082825 -32.81249619 -32.85416412 -32.89582825 -32.93749619\n",
        "  -32.97916412 -33.02082825 -33.06249619 -33.10416412]\n",
        " [-32.77082825 -32.81249619 -32.85416412 -32.89582825 -32.93749619\n",
        "  -32.97916412 -33.02082825 -33.06249619 -33.10416412]\n",
        " [-32.77082825 -32.81249619 -32.85416412 -32.89582825 -32.93749619\n",
        "  -32.97916412 -33.02082825 -33.06249619 -33.10416412]\n",
        " [-32.77082825 -32.81249619 -32.85416412 -32.89582825 -32.93749619\n",
        "  -32.97916412 -33.02082825 -33.06249619 -33.10416412]\n",
        " [-32.77082825 -32.81249619 -32.85416412 -32.89582825 -32.93749619\n",
        "  -32.97916412 -33.02082825 -33.06249619 -33.10416412]\n",
        " [-32.77082825 -32.81249619 -32.85416412 -32.89582825 -32.93749619\n",
        "  -32.97916412 -33.02082825 -33.06249619 -33.10416412]\n",
        " [-32.77082825 -32.81249619 -32.85416412 -32.89582825 -32.93749619\n",
        "  -32.97916412 -33.02082825 -33.06249619 -33.10416412]]\n"
       ]
      }
     ],
     "prompt_number": 89
    },
    {
     "cell_type": "code",
     "collapsed": false,
     "input": [
      "sst = cdf.variables[\"sea_surface_temperature\"][:,int(res[2]):int(res[3]),int(res[0]):int(res[1])]\n",
      "print \"Extracted data for area: (%s,%s) to (%s,%s)\"%(lon.min(),lat.min(),lon.max(),lat.max())\n",
      "\n",
      "# Squeezing and converting to Celsius\n",
      "sst = squeeze(sst) - 273.15"
     ],
     "language": "python",
     "metadata": {},
     "outputs": [
      {
       "output_type": "stream",
       "stream": "stdout",
       "text": [
        "Extracted data for area: (27.9375,-33.1041641235) to (28.3125,-32.7708282471)\n"
       ]
      }
     ],
     "prompt_number": 83
    },
    {
     "cell_type": "code",
     "collapsed": false,
     "input": [
      "if lonStart< 0 and lonEnd < 0:\n",
      "    lon_0= - (abs(lonEnd)+abs(lonStart))/2.0\n",
      "else:\n",
      "    lon_0=(abs(lonEnd)+abs(lonStart))/2.0\n",
      "\n",
      "if latStart< 0 and latEnd < 0:\n",
      "    lat_0= - (abs(latEnd)+abs(latStart))/2.0\n",
      "else:\n",
      "    lat_0=(abs(latEnd)+abs(latStart))/2.0\n",
      "\n",
      "print 'Center longitude ', lon_0\n",
      "print 'Center latitude ', lat_0\n",
      "\n",
      "if m is None:\n",
      "    print ( \"Using default NSPER Basemap \\n\")\n",
      "#        m = Basemap(llcrnrlat=latStart,urcrnrlat=latEnd,\\\n",
      "#                llcrnrlon=lonStart,urcrnrlon=lonEnd,\\\n",
      "#                rsphere=(6378137.00,6356752.3142),\\\n",
      "#                resolution='h',area_thresh=1000.,projection='lcc',\\\n",
      "#                lat_1=latStart,lon_0=lon_0)\n",
      "    m = Basemap(llcrnrlat=latStart,urcrnrlat=latEnd,\\\n",
      "            llcrnrlon=lonStart,urcrnrlon=lonEnd,\\\n",
      "            satellite_height=798000, \\\n",
      "            resolution='h',area_thresh=1000.,projection='nsper',\\\n",
      "            lat_1=latStart,lon_0=lon_0,lat_0=lat_0)\n",
      "\n",
      "color = 'black'\n",
      "\n",
      "x, y = m(lon,lat)\n",
      "\n",
      "plt.figure()\n",
      "\n",
      "if contour is 'fill':\n",
      "    CS1 = m.contourf(x, y, sst)\n",
      "else:\n",
      "    CS1 = m.pcolor(x, y, sst)\n",
      "\n",
      "CS1.axis='tight'\n",
      "plt.jet()\n",
      "# Set the pad=0.23 so 2 colorbars won't intersect\n",
      "cb = plt.colorbar(CS1, shrink=0.95, extend='both', \\\n",
      "                  orientation='horizontal', pad=0.1)\n",
      "# A working example (for any value range) with 5 ticks along the bar is:\n",
      "clm=(floor(sst.min()), ceil(sst.max()))\n",
      "m0=(clm[0])            # colorbar min value\n",
      "m4=(clm[1])             # colorbar max value\n",
      "m1=(1*(m4-m0)/4.0 + m0)               # colorbar mid value 1\n",
      "m2=(2*(m4-m0)/4.0 + m0)               # colorbar mid value 2\n",
      "m3=(3*(m4-m0)/4.0 + m0)               # colorbar mid value 3\n",
      "cb.set_ticks([m0,m1,m2,m3,m4])\n",
      "cb.set_ticklabels([m0,m1,m2,m3,m4])\n",
      "cb.update_ticks()\n",
      "cb.set_label('AVHRR Pathfinder SST [deg C]')\n",
      "plt.draw()\n",
      "\n",
      "# set the step of Lat/Lon to plot\n",
      "stepLon = round((lon.max()-lon.min())/3, 1)\n",
      "stepLat = round((lat.max()-lat.min())/3, 1)\n",
      "m.drawmeridians(arange(round(lon.min(),1),round(lon.max(),1), stepLon), \\\n",
      "                labels=[0,0,0,1], color=color, dashes=[5,5])\n",
      "m.drawparallels(arange(round(lat.min(),1),round(lat.max(),1), stepLat), \\\n",
      "                labels=[1,0,0,0], color=color, dashes=[5,5], rotation=90)\n",
      "#    m.drawmeridians(arange(lon.min(),lon.max(),0.2),labels=[0,0,1,1],linewidth=0)\n",
      "#    m.drawparallels(arange(lat.min(),lat.max(),0.2),labels=[1,1,0,0],linewidth=0)\n",
      "m.drawcoastlines()\n",
      "\n",
      "plt.draw()\n",
      "\n",
      "plt.savefig('/home/mag/' + name + wantedDate.strftime('%Y%m%d') + '.png', \\\n",
      "         facecolor='w', edgecolor='w', dpi=100, bbox_inches=\"tight\", pad_inches=1.75)\n",
      "#plt.show()\n",
      "#plt.close()"
     ],
     "language": "python",
     "metadata": {},
     "outputs": [
      {
       "output_type": "stream",
       "stream": "stdout",
       "text": [
        "Center longitude  28.1121431632\n",
        "Center latitude  -32.9484746135\n",
        "Using default NSPER Basemap \n",
        "\n"
       ]
      },
      {
       "metadata": {},
       "output_type": "display_data",
       "png": "[encoded data removed]",
       "text": [
        "<matplotlib.figure.Figure at 0x4428c50>"
       ]
      }
     ],
     "prompt_number": 84
    },
    {
     "cell_type": "raw",
     "metadata": {},
     "source": [
      "Acknowledgment & Citation:\n",
      "\n",
      "If you use Pathfinder 4km data, please acknowledge the use of these data with the following statement: \"These data were provided by GHRSST and the US National Oceanographic Data Center. This project was supported in part by a grant from the NOAA Climate Data Record (CDR) Program for satellites\".\n",
      "\n",
      "and cite the following publication:\n",
      "\n",
      "Casey, K.S., T.B. Brandon, P. Cornillon, and R. Evans (2010). \"The Past, Present and Future of the AVHRR Pathfinder SST Program\", in Oceanography from Space: Revisited, eds. V. Barale, J.F.R. Gower, and L. Alberotanza, Springer. DOI: 10.1007/978-90-481-8681-5_16. (Click here for a PDF copy).\n",
      "\n",
      "Sample text for a journal article:\n",
      "\n",
      "In this study, we used AVHRR Pathfinder Version 5.2 (PFV5.2) data, obtained from the US National Oceanographic Data Center and GHRSST (http://pathfinder.nodc.noaa.gov). The PFV5.2 data are an updated version of the Pathfinder Version 5.0 and 5.1 collection described in Casey et al. (2010)."
     ]
    },
    {
     "cell_type": "code",
     "collapsed": false,
     "input": [],
     "language": "python",
     "metadata": {},
     "outputs": []
    }
   ],
   "metadata": {}
  }
 ]
}