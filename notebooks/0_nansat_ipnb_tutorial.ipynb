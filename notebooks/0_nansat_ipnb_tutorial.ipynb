{
 "metadata": {
  "name": ""
 },
 "nbformat": 3,
 "nbformat_minor": 0,
 "worksheets": [
  {
   "cells": [
    {
     "cell_type": "markdown",
     "metadata": {},
     "source": [
      "http://stackoverflow.com/questions/19385350/writing-an-ipython-notebook-to-html-or-pdf-with-table-of-content\n",
      "\n",
      "http://www.damian.oquanta.info/categories/slideshow.html - About IPython slides"
     ]
    },
    {
     "cell_type": "heading",
     "level": 1,
     "metadata": {
      "slideshow": {
       "slide_type": "slide"
      }
     },
     "source": [
      "Nansat and IPython Notebook"
     ]
    },
    {
     "cell_type": "raw",
     "metadata": {
      "slideshow": {
       "slide_type": "subslide"
      }
     },
     "source": [
      "a scientist friendly Python toolbox for satellite data processing inside your browser"
     ]
    },
    {
     "cell_type": "markdown",
     "metadata": {
      "slideshow": {
       "slide_type": "skip"
      }
     },
     "source": [
      "<b>If any questions arise don't hesitate to contact me by e-mail: </b></br>\n",
      "<a href=\"mailto:alexander (dot) myasoedov (at) gmail (dot) com\">alexander (dot) myasoedov (at) gmail (dot) com</a>"
     ]
    },
    {
     "cell_type": "code",
     "collapsed": false,
     "input": [
      "%install_ext https://raw.github.com/minrk/ipython_extensions/master/extensions/nbtoc.py"
     ],
     "language": "python",
     "metadata": {},
     "outputs": []
    },
    {
     "cell_type": "code",
     "collapsed": true,
     "input": [
      "%reload_ext nbtoc\n",
      "%nbtoc"
     ],
     "language": "python",
     "metadata": {},
     "outputs": []
    },
    {
     "cell_type": "heading",
     "level": 2,
     "metadata": {},
     "source": [
      "Introduction"
     ]
    },
    {
     "cell_type": "markdown",
     "metadata": {},
     "source": [
      "The idea of this Course is to familiarize the reader with the basics and nuances of Satellite Data Processing</br>\n",
      "with Python in your browser using **IPython Notebook** and a specialized satellite data processing toolbox - **Nansat**."
     ]
    },
    {
     "cell_type": "markdown",
     "metadata": {},
     "source": [
      "We will cover the official **Nansat** tutorial with examples and exhaustive explanations,</br>\n",
      "as well as how to install both the **IPython Notebook** and the **Nansat** toolbox."
     ]
    },
    {
     "cell_type": "markdown",
     "metadata": {},
     "source": [
      "Going through this Tutorial will help you deal with others, as further ones will be heavely based on **Nansat** and **IPython Notebook**."
     ]
    },
    {
     "cell_type": "markdown",
     "metadata": {},
     "source": [
      "I hope there is no need to introduce you the **IPython Notebook** as it is very well known.</br>\n",
      "In any case you will see the adventages of both the **Nansat** toolbox and the **IPython Notebook** during the Tutorial.</br>"
     ]
    },
    {
     "cell_type": "markdown",
     "metadata": {
      "slideshow": {
       "slide_type": "slide"
      }
     },
     "source": [
      "Briefely:</br>\n",
      "\n",
      "**Nansat** is a scientist friendly Python toolbox for satellite data processing.</br>\n",
      "https://svn.nersc.no/nansat\n",
      "\n",
      "The main goal of **Nansat** is to facilitate:\n",
      "\n",
      "* easy development and testing of scientific algorithms,\n",
      "* easy analysis of geospatial data, and\n",
      "* efficient operational processing.\n",
      "         \n",
      "**Nansat** is a framework which:\n",
      "\n",
      "* Reads geospatial data from different Earth Observation satellites and from models;\n",
      "* Adds scientific meaning to the data stored in files;\n",
      "* Performs basic operations with geospatial data: geo-referencing, visualization, averaging, etc;\n",
      "* Exports data to figures and NetCDF/CF-files\n",
      "\n",
      "\n",
      "**IPython Notebook** (init on December 21 2011) is a web-based interactive computational environment</br>\n",
      "where you can combine code execution, text, mathematics, plots and rich media into a single document.</br>\n",
      "http://ipython.org/notebook.html"
     ]
    },
    {
     "cell_type": "heading",
     "level": 2,
     "metadata": {},
     "source": [
      "How to install"
     ]
    },
    {
     "cell_type": "markdown",
     "metadata": {},
     "source": [
      "The Tutorial assumes that the reader knows some basics of Python and Linux.</br>\n",
      "If not, no worries, I will try to give simple and clean explanations on how it all works.</br>\n",
      "First we start with installing and configuring **IPython Notebook** on your <code>laptop/desktop/server/virtualmachine</code> or whatever.</br>\n",
      "After done installing, we will continue with the Examples."
     ]
    },
    {
     "cell_type": "markdown",
     "metadata": {},
     "source": [
      "If your already have everything installed you can use the menu to go directly to the examples part.</br>\n",
      "Or you can download the **oceansat** virtual disk with **XUbuntu 13.04** where you have all the packages preinstalled and even more.</br>\n",
      "For more details on the **oceansat** virtual disk read a relative post in my blog (**to be created soon**)."
     ]
    },
    {
     "cell_type": "markdown",
     "metadata": {},
     "source": [
      "Note, that both the **Nansat** and the **IPython Notebook** were tested on **LUbuntu/XUbuntu 12.04, 12.10 and 13.04**. So you should be good installing them on any of those."
     ]
    },
    {
     "cell_type": "heading",
     "level": 3,
     "metadata": {},
     "source": [
      "Installing Nansat"
     ]
    },
    {
     "cell_type": "heading",
     "level": 4,
     "metadata": {},
     "source": [
      "Download Nansat"
     ]
    },
    {
     "cell_type": "markdown",
     "metadata": {},
     "source": [
      "First of all you should download **Nansat**. There are several options to do that:\n",
      "\n",
      "* The stable version **Nansat-0.4** from: ftp://ftp.nersc.no/pub/antonk/nansat-0.4.tar</br>\n",
      "* The version under development from the **Nansat SVN** repository following the instructions at: https://svn.nersc.no/nansat/wiki/Nansat/Download\n",
      "* The version under development **Nansat-0.5-dev** from the **oceansat Git** repo: https://github.com/magican/oceansat\n"
     ]
    },
    {
     "cell_type": "heading",
     "level": 4,
     "metadata": {},
     "source": [
      "Requirements"
     ]
    },
    {
     "cell_type": "markdown",
     "metadata": {},
     "source": [
      "Second, one would also need to install some prerequirements.\n",
      "\n",
      "These are external packages which you will need to install before installing **Nansat**:\n",
      "\n",
      "* [Python (2.6 or higher)](http://www.python.org/ )\n",
      "* \u200b[Numpy](http://www.numpy.org/)\n",
      "* [Scipy](http://scipy.org/SciPy/)\n",
      "* [Matplotlib](http://matplotlib.org/)\n",
      "* [Basemap](http://matplotlib.org/basemap/)\n",
      "* [Python Imaging Library (PIL)](http://www.pythonware.com/products/pil/)\n",
      "* [GDAL](http://www.gdal.org)\n",
      "\n",
      "The most tricky part is to install **GDAL**.</br>\n",
      "For more advanced users I would suggest downloading source and building **GDAL** from scratch. Some hints on building are given at the **GDAL** [web-site](http://trac.osgeo.org/gdal/wiki/BuildHints)</br>\n",
      "However here I would share the experience installing **GDAL** and other libraries on **Ubuntu** from the **Ubuntu PPAs**.</br>\n",
      "As it is much easier and the packages installed are stable.\n",
      "One can also find hints on installing **Nansat** on the following platforms:\n",
      "\n",
      "* [Ubuntu 12.04 and 12.10](wiki:Nansat/Install/Linux/Ubuntu12)\n",
      "* [CentOS6](wiki:Nansat/Install/Linux/CentOS6)\n",
      "* [MacOS](wiki:Nansat/Install/MACOS/MountainLion)"
     ]
    },
    {
     "cell_type": "heading",
     "level": 4,
     "metadata": {},
     "source": [
      "Installation process"
     ]
    },
    {
     "cell_type": "markdown",
     "metadata": {},
     "source": [
      "To make the installation process easier I have created a shell script **nansat_install.sh** to install all the dependencies of the **Nansat** for **Ubuntu 12.04, 12.10 and 13.04**.</br>\n",
      "\n",
      ">**NB!**</br>\n",
      "Hereinafter all the instructions correspond to **Ubuntu 12.10**\n",
      "\n",
      "You can copy following commands into your favorite editor to create an installation shell script.</br>\n",
      "Alliteratively you can download the **nansat_install.sh** script from the **oceansat Git** repo: https://github.com/magican/oceansat</br>"
     ]
    },
    {
     "cell_type": "markdown",
     "metadata": {},
     "source": [
      "First we form the ist of apps to install.</br>\n",
      ">**NB!**</br>\n",
      "One may notice that the list of apps to install is much larger than the <a href=\"#Requirements\">Requirements</a> list.</br>\n",
      "That is because we will need them in our further Lessons and they might be usefull in your scientific weekdays.</br>\n",
      "\n",
      ">Don't forget to revise the script if you don't want some packages to be installed."
     ]
    },
    {
     "cell_type": "raw",
     "metadata": {},
     "source": [
      "LIST_OF_APPS=\"\n",
      "\tbuild-essential\n",
      "\tcython\n",
      "\tgdal-bin\n",
      "\tlibgdal-dev\n",
      "\tlibgdal1-dev\n",
      "\tlibgeos-3.3.3\n",
      "\tlibgeos-dev\n",
      "\tlibgrib-api-dev\n",
      "\tlibgrib-api-tools\n",
      "\tlibgrib2c-dev\n",
      "\tlibhdf5-serial-dev\n",
      "\tlibjasper-dev\n",
      "\tlibjpeg-dev\n",
      "\tlibjpeg-turbo8-dev\n",
      "\tlibjpeg8-dev\n",
      "\tlibnetcdfc7\n",
      "\tlibnetcdf-dev\n",
      "\tlibpng12-dev\n",
      "\tlibproj-dev\n",
      "\tpsutils\n",
      "\tpyflakes\n",
      "\tpython-all-dev\n",
      "\tpython-dev\n",
      "\tpython-gdal\n",
      "\tpython-h5py\n",
      "\tpython-matplotlib\n",
      "\tpython-mpltoolkits.basemap\n",
      "\tpython-pip\n",
      "\tpython-psutil\n",
      "\tpython-pyproj\n",
      "\tpython-rope\n",
      "\tpython-scientific\n",
      "\tpython-scitools\n",
      "\tpython-scipy\n",
      "\tpython-sphinx\n",
      "\tpython-sympy\n",
      "\tsubversion\n",
      "\t\""
     ]
    },
    {
     "cell_type": "markdown",
     "metadata": {},
     "source": [
      "Second thing we do after deciding which applications to install is **updating** and forming the **Xapian index of Debian packages**.</br>\n",
      "Sometimes it crashes on **L(X)Ubuntu**, so it is a good idea to rebuild it before any massive installation, or after an upgrade.</br>\n",
      "(You probably won't need this step on classic **Ubuntu**)"
     ]
    },
    {
     "cell_type": "markdown",
     "metadata": {},
     "source": [
      ">**NB!**</br>\n",
      "One may need to run all the installation commands with **sudo**"
     ]
    },
    {
     "cell_type": "raw",
     "metadata": {},
     "source": [
      "apt-get update -qq\n",
      "apt-get install -y -q apt-xapian-index\n",
      "update-apt-xapian-index"
     ]
    },
    {
     "cell_type": "markdown",
     "metadata": {},
     "source": [
      "Now we are ready to install"
     ]
    },
    {
     "cell_type": "raw",
     "metadata": {},
     "source": [
      "apt-get install -y -q --reinstall $LIST_OF_APPS"
     ]
    },
    {
     "cell_type": "markdown",
     "metadata": {},
     "source": [
      "We would also need:</br>\n",
      "\n",
      "**PIP** - a tool for installing and managing Python packages https://pypi.python.org/pypi/pip </br>\n",
      "**virtualenv** - a tool to create isolated Python environments http://www.virtualenv.org/en/latest/ </br>\n",
      "**netCDF4** - Python/numpy interface to netCDF a format commonly used in Earth sciences to store data in a machine-independent format http://www.unidata.ucar.edu/software/netcdf/ </br>\n",
      "**scikit-image** - a collection of algorithms for image processing http://scikit-image.org/</br>\n"
     ]
    },
    {
     "cell_type": "raw",
     "metadata": {},
     "source": [
      "/usr/local/bin/pip install --upgrade pip                 # improved Python package installer\n",
      "/usr/local/bin/pip install --upgrade virtualenv          # a tool to create isolated Python environments\n",
      "/usr/local/bin/pip install --upgrade netCDF4             # Python/numpy interface to netCDF\n",
      "/usr/local/bin/pip install --upgrade scikit-image        # a collection of algorithms for image processing"
     ]
    },
    {
     "cell_type": "markdown",
     "metadata": {},
     "source": [
      ">**NB!**</br>\n",
      "Once more, you can download the **nansat_install.sh** script from the **oceansat Git** repo: https://github.com/magican/oceansat</br>"
     ]
    },
    {
     "cell_type": "heading",
     "level": 4,
     "metadata": {},
     "source": [
      "Configure the Environment"
     ]
    },
    {
     "cell_type": "markdown",
     "metadata": {},
     "source": [
      "In order to use the **Nansat** toolbox one should add its folders to the default **Python** search path.</br>\n",
      "http://docs.python.org/2/using/cmdline.html#envvar-PYTHONPATH\n",
      "\n",
      "1. Add path to the directory which contains <code>nansat</code> and <code>nansat/mappers</code> to environment variable <code>PYTHONPATH</code></br>\n",
      "(E.g. if you placed nansat in your home dir add:<code>PYTHONPATH=$PYTHONPATH:/home/user/nansat/mappers</code>)\n",
      "2. Add path to <code>nansat/pixelfunctions</code> to environment variable <code>GDAL_DRIVER_PATH</code></br>\n",
      "(E.g. <code>GDAL_DRIVER_PATH=/home/user/nansat/pixelfunctions</code>)\n",
      "3. Run <code>make</code> inside folder <code>nansat/pixelfunctions</code>\n",
      "4. For using <code>Nansat.watermask()</code> download the prepared MODIS 250M watermask product from our server and add path to the directory with these data to environment variable <code>MOD44WPATH</code></br>\n",
      "(e.g. <code>MOD44WPATH=/home/user/mod44w</code>)\n",
      "\n",
      "To do that add the follwoing lines to your **~/.bashrc**\n",
      "\n",
      "    export PYTHONPATH=$PYTHONPATH:/home/$USER/nansat\n",
      "    export PYTHONPATH=$PYTHONPATH:/home/$USER/nansat/mappers\n",
      "    export GDAL_DRIVER_PATH=/home/$USER/nansat/pixelfunctions\n",
      "export MOD44WPATH=/home/$USER/nansat/mod44w/"
     ]
    },
    {
     "cell_type": "markdown",
     "metadata": {},
     "source": [
      ">**NB!**</br>\n",
      "Don't forget to change the paths to <code>nansat/<code> and <code>mod44w/<code> if they are not in your <code>home<code> folder"
     ]
    },
    {
     "cell_type": "markdown",
     "metadata": {},
     "source": [
      "This is it. Now we proceed to installing the **IPython Notebook**"
     ]
    },
    {
     "cell_type": "heading",
     "level": 3,
     "metadata": {},
     "source": [
      "Installing IPython Notebook"
     ]
    },
    {
     "cell_type": "markdown",
     "metadata": {},
     "source": [
      "There are many hints on how to install the **IPython Notebook** in the official documentation. It is simple and has a lot of specific details.</br>\n",
      "Here we will follow the steps I did while installing it on **Ubuntu 12.10**.</br>\n",
      "And as well as with the **Nansat** you can use the bash script **ipnb.sh** in the **oceansat Git** repo to install all the packages"
     ]
    },
    {
     "cell_type": "code",
     "collapsed": false,
     "input": [],
     "language": "python",
     "metadata": {},
     "outputs": []
    },
    {
     "cell_type": "code",
     "collapsed": false,
     "input": [
      "apt-get install -y -q ipython-notebook\n",
      "apt-get install -y -q libpng-dev libjpeg8-dev libfreetype6-dev"
     ],
     "language": "python",
     "metadata": {},
     "outputs": []
    },
    {
     "cell_type": "markdown",
     "metadata": {},
     "source": [
      "We have installed **PIP** already, let us use its advantages."
     ]
    },
    {
     "cell_type": "code",
     "collapsed": false,
     "input": [
      "/usr/local/bin/pip install --upgrade pyzmq\t\t# needed for IPython\u2019s parallel computing features, qt console and notebook.\n",
      "/usr/local/bin/pip install --upgrade tornado\t# needed by the web-based notebook\n",
      "/usr/local/bin/pip install --upgrade numpy\n",
      "/usr/local/bin/pip install --upgrade matplotlib\n",
      "#/usr/local/bin/pip install --upgrade ipython\n",
      "/usr/local/bin/pip install --upgrade https://github.com/ipython/ipython/tarball/master"
     ],
     "language": "python",
     "metadata": {},
     "outputs": []
    },
    {
     "cell_type": "heading",
     "level": 2,
     "metadata": {},
     "source": [
      "Nansat Capabilities Examples"
     ]
    },
    {
     "cell_type": "code",
     "collapsed": false,
     "input": [
      "import Image # further needed to show the saved images\n",
      "\n",
      "import numpy as np\n",
      "import matplotlib.pyplot as plt\n",
      "from scipy.io import savemat\n",
      "import inspect, os\n",
      "\n",
      "from nansat import Nansat, Domain"
     ],
     "language": "python",
     "metadata": {},
     "outputs": []
    },
    {
     "cell_type": "heading",
     "level": 3,
     "metadata": {},
     "source": [
      "Setting the Input and Output file names"
     ]
    },
    {
     "cell_type": "raw",
     "metadata": {},
     "source": [
      "All the examples are shown with the image 'gcps.tif'. All the output data and images are saved in the 'tmdata' folder"
     ]
    },
    {
     "cell_type": "code",
     "collapsed": false,
     "input": [
      "# input and output file names\n",
      "iPath = os.path.dirname(os.path.abspath(inspect.getfile(inspect.currentframe())))\n",
      "iFileName = os.path.join(iPath, 'gcps.tif')\n",
      "print 'Input file: ', iFileName\n",
      "oFileName = os.path.join(iPath, 'tmpdata', 'output_')\n",
      "print 'Output file prefix: ', oFileName"
     ],
     "language": "python",
     "metadata": {},
     "outputs": []
    },
    {
     "cell_type": "heading",
     "level": 3,
     "metadata": {},
     "source": [
      "Open an input file, specify which Mapper to use and set the logging level"
     ]
    },
    {
     "cell_type": "code",
     "collapsed": false,
     "input": [
      "# Create a Nansat object <n> for futher high-level operations\n",
      "n = Nansat(iFileName, mapperName='generic', logLevel=1)"
     ],
     "language": "python",
     "metadata": {},
     "outputs": []
    },
    {
     "cell_type": "raw",
     "metadata": {},
     "source": [
      "Further we reopen the same input file without logging, not to flood.\n",
      "One can notice that we don't set the Mapper specification as well. So the Nansat chooses the appropriate Mapper itself."
     ]
    },
    {
     "cell_type": "code",
     "collapsed": false,
     "input": [
      "# Open an input file without logging\n",
      "n = Nansat(iFileName)"
     ],
     "language": "python",
     "metadata": {},
     "outputs": []
    },
    {
     "cell_type": "code",
     "collapsed": false,
     "input": [
      "# list bands and georeference of the object\n",
      "print 'Raw Nansat:', n"
     ],
     "language": "python",
     "metadata": {},
     "outputs": []
    },
    {
     "cell_type": "code",
     "collapsed": false,
     "input": [
      "# get dictionary with metadata from all bands\n",
      "print 'Bands:', n.bands()"
     ],
     "language": "python",
     "metadata": {},
     "outputs": []
    },
    {
     "cell_type": "code",
     "collapsed": false,
     "input": [
      "# get size of the object (Y and X dimensions, to follow Numpy style)\n",
      "print 'Shape:', n.shape()"
     ],
     "language": "python",
     "metadata": {},
     "outputs": []
    },
    {
     "cell_type": "code",
     "collapsed": false,
     "input": [
      "# get list with coordinates of the object corners\n",
      "print 'Corners:', n.get_corners()"
     ],
     "language": "python",
     "metadata": {},
     "outputs": []
    },
    {
     "cell_type": "code",
     "collapsed": false,
     "input": [
      "# get lists with coordinates of the object borders\n",
      "print 'Border:', n.get_border()"
     ],
     "language": "python",
     "metadata": {},
     "outputs": []
    },
    {
     "cell_type": "code",
     "collapsed": false,
     "input": [
      "# get time of the image aquisition\n",
      "print 'Time:', n.get_time()[0]"
     ],
     "language": "python",
     "metadata": {},
     "outputs": []
    },
    {
     "cell_type": "code",
     "collapsed": false,
     "input": [
      "# Get band data and do some operations\n",
      "# 1. Get data from 1st band as numpy array\n",
      "# 2. Plot the array (pyplot image is save to a PNG file)\n",
      "# 3. Save as Matlab file\n",
      "a = n[1]\n",
      "plt.imshow(a);plt.colorbar();plt.savefig(oFileName + '_imshow.png');plt.close()\n",
      "savemat(oFileName + '.mat', {'band_1': a})\n",
      "\n",
      "# open the saved image to show it\n",
      "im = Image.open(oFileName + '_imshow.png')\n",
      "plt.imshow(im)"
     ],
     "language": "python",
     "metadata": {},
     "outputs": []
    },
    {
     "cell_type": "code",
     "collapsed": false,
     "input": [
      "# make simple indexed image from 1st band with default colormap\n",
      "n.write_figure(oFileName + '.png')\n",
      "\n",
      "# open the saved image to show it\n",
      "im = Image.open(oFileName + '.png')\n",
      "plt.imshow(im)"
     ],
     "language": "python",
     "metadata": {},
     "outputs": []
    },
    {
     "cell_type": "code",
     "collapsed": false,
     "input": [
      "# make RGB image from bands 1,2,3 with brightness correction\n",
      "n.write_figure(oFileName + '_rgb.png', bands=[1,2,3], clim='hist', ratio=0.9)\n",
      "\n",
      "# open the saved image to show it\n",
      "im = Image.open(oFileName + '_rgb.png')\n",
      "plt.imshow(im)"
     ],
     "language": "python",
     "metadata": {},
     "outputs": []
    },
    {
     "cell_type": "code",
     "collapsed": false,
     "input": [
      "# make indexed image with legend\n",
      "n.write_figure(oFileName + '_legend.png', legend=True, titleString='NANSAT Tutorial', LEGEND_HEIGHT=0.3, fontSize=10)\n",
      "\n",
      "# open the saved image to show it\n",
      "im = Image.open(oFileName + '_legend.png')\n",
      "plt.imshow(im)"
     ],
     "language": "python",
     "metadata": {},
     "outputs": []
    },
    {
     "cell_type": "code",
     "collapsed": false,
     "input": [
      "# get array with watermask (landmask)\n",
      "# 1. Get Nansat object with watermask\n",
      "# 2. Get array from Nansat object. 0 - land, 1 - water\n",
      "wm = n.watermask()\n",
      "wmArray = wm[1]\n",
      "\n",
      "# write figure with land overlay (gray color) and apply brightness gamma correction\n",
      "n.write_figure(oFileName + '_land.png', clim='hist', mask_array=wmArray, mask_lut={0: [128, 128, 128]}, logarithm=True, gamma=3)\n",
      "\n",
      "# open the saved image to show it\n",
      "im = Image.open(oFileName + '_land.png')\n",
      "plt.imshow(im)"
     ],
     "language": "python",
     "metadata": {},
     "outputs": []
    },
    {
     "cell_type": "code",
     "collapsed": false,
     "input": [
      "# add logo to image to the lower left corner\n",
      "# (make sure file is in the current folder)\n",
      "n.write_figure(oFileName + '_logo.png', logoFileName='nansat_logo_s.png', logoLocation=[10, -10], logoSize=[70, 70])\n",
      "\n",
      "# open the saved image to show it\n",
      "im = Image.open(oFileName + '_logo.png')\n",
      "plt.imshow(im)"
     ],
     "language": "python",
     "metadata": {},
     "outputs": []
    },
    {
     "cell_type": "code",
     "collapsed": false,
     "input": [
      "# write figure with lat/lon grid\n",
      "# 1. Get lat/lon arrays from Nansat object (may take some time)\n",
      "# 2. Make figure with lat/lon grids\n",
      "lonGrid, latGrid = n.get_geolocation_grids()\n",
      "n.write_figure(oFileName + '_latlon.png', latGrid=latGrid, lonGrid=lonGrid, latlonGridSpacing=10, latlonLabels=10)\n",
      "\n",
      "# open the saved image to show it\n",
      "im = Image.open(oFileName + '_latlon.png')\n",
      "plt.imshow(im)"
     ],
     "language": "python",
     "metadata": {},
     "outputs": []
    },
    {
     "cell_type": "code",
     "collapsed": false,
     "input": [
      "# make small preview\n",
      "# 1. Reduce size of the Nansat object ten times\n",
      "# 2. Make simple grayscaled image with brightness correction\n",
      "# 3. Resize back to original resolution\n",
      "n.resize(0.1)\n",
      "n.write_figure(oFileName + '_preview.png', clim='hist', cmapName='gray')\n",
      "n.resize()\n",
      "\n",
      "# open the saved image to show it\n",
      "im = Image.open(oFileName + '_preview.png')\n",
      "plt.imshow(im)"
     ],
     "language": "python",
     "metadata": {},
     "outputs": []
    },
    {
     "cell_type": "code",
     "collapsed": false,
     "input": [
      "# enlarge the image with bicubic-spline interpolation\n",
      "n.resize(2, eResampleAlg=3)\n",
      "n.write_figure(oFileName + '_large.png', clim='hist', cmapName='gray')\n",
      "n.resize()\n",
      "\n",
      "# open the saved image to show it\n",
      "im = Image.open(oFileName + '_large.png')\n",
      "plt.imshow(im)"
     ],
     "language": "python",
     "metadata": {},
     "outputs": []
    },
    {
     "cell_type": "code",
     "collapsed": false,
     "input": [
      "# make KML file with image borders (to be opened in Googe Earth)\n",
      "n.write_kml(kmlFileName=oFileName + '_preview.kml')"
     ],
     "language": "python",
     "metadata": {},
     "outputs": []
    },
    {
     "cell_type": "code",
     "collapsed": false,
     "input": [
      "# make image with map of the file location\n",
      "n.write_map(oFileName + '_map.png')\n",
      "\n",
      "# open the saved image to show it\n",
      "im = Image.open(oFileName + '_map.png')\n",
      "plt.imshow(im)"
     ],
     "language": "python",
     "metadata": {},
     "outputs": []
    },
    {
     "cell_type": "code",
     "collapsed": false,
     "input": [
      "# Make image reprojected onto map of Northern Europe\n",
      "# 1. Create Domain object. It describes the desired grid of reprojected image:\n",
      "# projection, resolution, size, etc. In this case it is geographic projection;\n",
      "# -10 - 30 E, 50 - 70 W; 2000 x 2000 pixels\n",
      "# 2. Reproject the Nansat object\n",
      "# 3. Make simple image\n",
      "dLatlong = Domain(\"+proj=latlong +datum=WGS84 +ellps=WGS84 +no_defs\", \"-te 25 70 35 72 -ts 2000 2000\")\n",
      "dLatlong.write_map(oFileName + '_latlong_map.png')\n",
      "print 'Latlong Domain:', dLatlong\n",
      "n.reproject(dLatlong)\n",
      "n.write_figure(oFileName + '_pro_latlon.png')\n",
      "\n",
      "# open the saved image to show it\n",
      "im = Image.open(oFileName + '_pro_latlon.png')\n",
      "plt.imshow(im)"
     ],
     "language": "python",
     "metadata": {},
     "outputs": []
    },
    {
     "cell_type": "code",
     "collapsed": false,
     "input": [
      "# Reprojected image into stereographic projection\n",
      "# 1. Cancel previous reprojection\n",
      "# 2. Get corners of the image\n",
      "# 3. Create Domain with stereographic projection, corner coordinates and resolution 1000m\n",
      "# 4. Reproject with cubic interpolation\n",
      "# 5. Write image\n",
      "n.reproject() # 1.\n",
      "lons, lats = n.get_corners() # 2.\n",
      "meanLon = sum(lons, 0.0) / 4.\n",
      "meanLat = sum(lats, 0.0) / 4.\n",
      "srsString = \"+proj=stere +lon_0=%f +lat_0=%f +k=1 +ellps=WGS84 +datum=WGS84 +no_defs\" % (meanLon, meanLat)\n",
      "extentString = '-lle %f %f %f %f -tr 100 100' % (min(lons), min(lats), max(lons), max(lats))\n",
      "dStereo = Domain(srsString, extentString) # 3.\n",
      "dStereo.write_map(oFileName + '_stereo_map.png')\n",
      "print 'Stereo Domain:', dStereo\n",
      "n.reproject(dStereo, 2) # 4.\n",
      "n.write_figure(oFileName + '_pro_stereo.png') # 5.\n",
      "\n",
      "# open the saved image to show it\n",
      "im = Image.open(oFileName + '_pro_stereo.png')\n",
      "plt.imshow(im)"
     ],
     "language": "python",
     "metadata": {},
     "outputs": []
    },
    {
     "cell_type": "code",
     "collapsed": false,
     "input": [
      "# Reproject onto grid of another file (destination file is projected)\n",
      "n2 = Nansat('stere.tif')\n",
      "n.reproject(n2)\n",
      "n.write_figure(fileName=oFileName + '_proj_1onto2.png', bands=[1,2,3], clim='hist')\n",
      "\n",
      "# open the saved image to show it\n",
      "im = Image.open(oFileName + '_proj_1onto2.png')\n",
      "plt.imshow(im)"
     ],
     "language": "python",
     "metadata": {},
     "outputs": []
    },
    {
     "cell_type": "code",
     "collapsed": false,
     "input": [
      "# Reproject onto grid of another file (destination file is in swath projection)\n",
      "n.reproject()\n",
      "n2.reproject(n)\n",
      "n2.write_figure(fileName=oFileName + '_proj_2onto1.png', bands=[1,2,3], clim='hist')\n",
      "\n",
      "# open the saved image to show it\n",
      "im = Image.open(oFileName + '_proj_2onto1.png')\n",
      "plt.imshow(im)"
     ],
     "language": "python",
     "metadata": {},
     "outputs": []
    },
    {
     "cell_type": "code",
     "collapsed": false,
     "input": [
      "# Reproject onto grids of lat/lon\n",
      "dFromGrids = Domain(lon=lonGrid, lat=latGrid)\n",
      "n2.reproject(dFromGrids)\n",
      "n2.write_figure(fileName=oFileName + '_proj_on_grid.png', bands=[1,2,3], clim='hist')\n",
      "\n",
      "# open the saved image to show it\n",
      "im = Image.open(oFileName + '_proj_on_grid.png')\n",
      "plt.imshow(im)"
     ],
     "language": "python",
     "metadata": {},
     "outputs": []
    },
    {
     "cell_type": "code",
     "collapsed": false,
     "input": [
      "# reproject onto automatically generated domain\n",
      "dstDomainAuto = Domain(srs=\"+proj=latlong +datum=WGS84 +ellps=WGS84 +no_defs\", ds=n.raw.dataset)\n",
      "n.reproject(dstDomainAuto)\n",
      "n.write_figure(fileName=oFileName + '_proj_1auto.png', bands=[1,2,3], clim='hist')\n",
      "\n",
      "# open the saved image to show it\n",
      "im = Image.open(oFileName + '_proj_1auto.png')\n",
      "plt.imshow(im)"
     ],
     "language": "python",
     "metadata": {},
     "outputs": []
    },
    {
     "cell_type": "code",
     "collapsed": false,
     "input": [
      "# export all data into NetCDF format\n",
      "n.export(oFileName + '_0.nc')\n",
      "\n",
      "# export one band to GeoTIFF\n",
      "n.export_band(oFileName + '_2.tif', bandID=2, driver='GTiff')"
     ],
     "language": "python",
     "metadata": {},
     "outputs": []
    },
    {
     "cell_type": "code",
     "collapsed": false,
     "input": [
      "# export one band to HDF4\n",
      "n.export_band(oFileName + '_3.hdf', bandID=2, driver='HDF4Image')\n",
      "# export fulll Nansat to HDF4\n",
      "#n.export(oFileName + '_3.hdf', driver='HDF4Image')\n",
      "import gdal\n",
      "tst = gdal.Open( oFileName + '_3.hdf')\n",
      "plt.imshow(tst.GetRasterBand(1).ReadAsArray())\n",
      "# Once we're done, close properly the dataset\n",
      "tst = None"
     ],
     "language": "python",
     "metadata": {},
     "outputs": []
    },
    {
     "cell_type": "code",
     "collapsed": false,
     "input": [
      "# create new object from given domain and array\n",
      "# 1. Reproject the current object\n",
      "# 2. Get array with data\n",
      "# 2. Create new Nansat object from the given array and for given domain\n",
      "n.reproject(dStereo)\n",
      "array = n[1]\n",
      "nStereo = Nansat(domain=dStereo, array=array, parameters={'name': 'band1'})\n",
      "print 'Stereo Nansat:', nStereo"
     ],
     "language": "python",
     "metadata": {},
     "outputs": []
    },
    {
     "cell_type": "code",
     "collapsed": false,
     "input": [
      "# add band from array to existing object\n",
      "# 0. Cancel reprojection. Adding bands works only on non-reprojected data\n",
      "# 1. Get the data from the object and modify\n",
      "# 2. Add band with modified data to the object\n",
      "# 3. Check that the band is in the object\n",
      "n.reproject()\n",
      "array = n[1] * 10\n",
      "n.add_band(array=array, parameters={'name': 'new_band', 'about': 'test'})\n",
      "print 'Nansat with new band:', n\n",
      "\n",
      "# add band from another file to existing object\n",
      "n.add_band(fileName='stere.tif', bandID='L_645', parameters={'name': 'L_645_stere'})\n",
      "print 'Nansat with new band from another file:', n"
     ],
     "language": "python",
     "metadata": {},
     "outputs": []
    },
    {
     "cell_type": "code",
     "collapsed": false,
     "input": [
      "# Prepare the image for Google Earth exporting\n",
      "# reproject image into Lat/Lon WGS84 (Simple Cylindrical) projection\n",
      "# 1. Cancel previous reprojection\n",
      "# 2. Get corners of the image and the pixel resolution\n",
      "# 3. Create Domain with stereographic projection, corner coordinates 1000m\n",
      "# 4. Reproject\n",
      "n.reproject()                                                       # 1.\n",
      "lons, lats = n.get_corners()                                        # 2.\n",
      "srsString = \"+proj=latlong +datum=WGS84 +ellps=WGS84 +no_defs\"\n",
      "extentString = '-lle %f %f %f %f -ts 800 600' % (min(lons), min(lats), max(lons), max(lats))\n",
      "d = Domain(srs=srsString, ext=extentString)                         # 3.\n",
      "n.reproject(d)                                                      # 4.\n",
      "# get array with watermask (landmask)\n",
      "# it must be done after reprojection!\n",
      "# 6. Get Nansat object with watermask\n",
      "# 7. Get array from Nansat object. 0 - land, 1 - water\n",
      "wm = n.watermask()                                                  # 6.\n",
      "wmArray = wm[1]                                                     # 7.\n",
      "\n",
      "# 8. Write the projected image with transparent land mask and image background\n",
      "# transparentMask: boolean, defult = False\n",
      "# If True, the masked pixels will be transparent when saving to png\n",
      "#transparency: int\n",
      "#transparency of the image background, set for PIL in Figure.save()\n",
      "#default transparent color is [0,0,0]\n",
      "n.write_figure(fileName=oFileName + '_proj.png', bands=[1,2,3],\n",
      "               mask_array=wmArray, mask_lut={0: [128, 128, 128]},\n",
      "               clim='hist', transparency=[128, 128, 128])           # 8.\n",
      "\n",
      "# make KML file for the exported image\n",
      "n.write_kml_image(kmlFileName=oFileName + '.kml', kmlFigureName=oFileName + '_proj.png')\n",
      "\n",
      "# open the saved image to show it\n",
      "im = Image.open(oFileName + '_proj.png')\n",
      "plt.imshow(im)"
     ],
     "language": "python",
     "metadata": {},
     "outputs": []
    },
    {
     "cell_type": "code",
     "collapsed": false,
     "input": [
      "# Perform batch averaging of several files\n",
      "# 1. Create destination Nansat object with desired projection\n",
      "nMosaic = Nansat(domain=dStereo)\n",
      "# 2. Perfom averaging\n",
      "nMosaic.mosaic(['gcps.tif', 'stere.tif'], bands=['L_645', 'L_555', 'L_469'])\n",
      "# 3. Get mask of non-valid pixels\n",
      "mask = nMosaic['mask']\n",
      "# 4. Output averaged data using the mask\n",
      "nMosaic.write_figure(fileName=oFileName + '_mosaic.png', bands=['L_645', 'L_555', 'L_469'], clim='hist',\n",
      "                        mask_array=mask, mask_lut={0:[128,128,128]})\n",
      "\n",
      "# open the saved image to show it\n",
      "im = Image.open(oFileName + '_mosaic.png')\n",
      "plt.imshow(im)"
     ],
     "language": "python",
     "metadata": {},
     "outputs": []
    },
    {
     "cell_type": "code",
     "collapsed": false,
     "input": [
      "print 'Tutorial completed successfully.'\n",
      "print 'Output files are found here:\\n' + oFileName"
     ],
     "language": "python",
     "metadata": {},
     "outputs": []
    },
    {
     "cell_type": "heading",
     "level": 2,
     "metadata": {},
     "source": [
      "Summary"
     ]
    },
    {
     "cell_type": "heading",
     "level": 2,
     "metadata": {},
     "source": [
      "References"
     ]
    },
    {
     "cell_type": "markdown",
     "metadata": {},
     "source": [
      "in-depth 3-hour tutorial on IPython:</br>\n",
      "https://github.com/ipython/ipython-in-depth"
     ]
    },
    {
     "cell_type": "heading",
     "level": 2,
     "metadata": {},
     "source": [
      "Quiz Answers"
     ]
    },
    {
     "cell_type": "heading",
     "level": 2,
     "metadata": {},
     "source": [
      "Abbreviations"
     ]
    },
    {
     "cell_type": "markdown",
     "metadata": {},
     "source": [
      "**NB** - Nota bene is an Italian and Latin phrase meaning \"note well\". See wiki page: [http://en.wikipedia.org/wiki/Nota_bene](http://en.wikipedia.org/wiki/Nota_bene)"
     ]
    },
    {
     "cell_type": "code",
     "collapsed": false,
     "input": [],
     "language": "python",
     "metadata": {},
     "outputs": []
    },
    {
     "cell_type": "markdown",
     "metadata": {},
     "source": [
      "Highlighting <code>Code</code> is done with\n",
      "\n",
      "    <code>Code</code>\n"
     ]
    },
    {
     "cell_type": "code",
     "collapsed": false,
     "input": [],
     "language": "python",
     "metadata": {},
     "outputs": []
    },
    {
     "cell_type": "code",
     "collapsed": false,
     "input": [
      "%load_ext hierarchymagic"
     ],
     "language": "python",
     "metadata": {},
     "outputs": []
    },
    {
     "cell_type": "code",
     "collapsed": false,
     "input": [
      "%%dot\n",
      "digraph G {\n",
      "    label=\"Contents\";labelloc=top;\n",
      "    rankdir=\"LR\";\n",
      "    1 [shape=plaintext,style=filled,color=lightblue,label=\"Introduction\"];\n",
      "    2 [shape=plaintext,style=filled,color=lightblue,label=\"How to install\"];\n",
      "    2.1 [shape=plaintext,label=\"Installing Nansat\"];\n",
      "    2.2 [shape=plaintext,label=\"Installing IPython Notebook\"];\n",
      "    1 -> 2;\n",
      "    2 -> 2.1 -> 2.2;\n",
      "    {rank=same; 2 2.1 2.2}\n",
      "}"
     ],
     "language": "python",
     "metadata": {},
     "outputs": []
    },
    {
     "cell_type": "heading",
     "level": 2,
     "metadata": {},
     "source": [
      "h2"
     ]
    },
    {
     "cell_type": "heading",
     "level": 3,
     "metadata": {},
     "source": [
      "h3"
     ]
    },
    {
     "cell_type": "heading",
     "level": 4,
     "metadata": {},
     "source": [
      "h4"
     ]
    },
    {
     "cell_type": "heading",
     "level": 4,
     "metadata": {},
     "source": [
      "h4"
     ]
    },
    {
     "cell_type": "heading",
     "level": 2,
     "metadata": {},
     "source": [
      "h2"
     ]
    },
    {
     "cell_type": "heading",
     "level": 1,
     "metadata": {},
     "source": []
    }
   ],
   "metadata": {}
  }
 ]
}