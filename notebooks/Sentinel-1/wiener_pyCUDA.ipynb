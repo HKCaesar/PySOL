{
 "metadata": {
  "name": "",
  "signature": "sha256:eb7a3af654c8c9955e18aad25101ea684b616b525971020e51926b7bb465dd86"
 },
 "nbformat": 3,
 "nbformat_minor": 0,
 "worksheets": [
  {
   "cells": [
    {
     "cell_type": "code",
     "collapsed": false,
     "input": [
      "# WIENER pyCUDA/pyOPenCL\n",
      "\n",
      "# https://github.com/astroML/astroML/blob/b6a4e3585cd3e6987b5f8a749ccd8a2040a06ef7/astroML/filters.py\n",
      "# https://github.com/lebedov/scikits.cuda/\n",
      "# http://docs.scipy.org/doc/scipy-0.14.0/reference/tutorial/signal.html\n",
      "# https://github.com/scipy/scipy/blob/e758c482efb8829685dcf494bdf71eeca3dd77f0/scipy/signal/signaltools.py\n",
      "\n",
      "# See also LeeFilter.pyx\n",
      "# http://ipnb2.solab.rshu.ru:8888/notebooks/nansatASARexample-CMOD4Wind-Copy0.ipynb\n"
     ],
     "language": "python",
     "metadata": {},
     "outputs": []
    }
   ],
   "metadata": {}
  }
 ]
}