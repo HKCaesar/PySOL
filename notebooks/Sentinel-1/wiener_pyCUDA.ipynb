{
 "metadata": {
  "name": "",
  "signature": "sha256:c9aad82d9fd5327a44ca0e2829fbd4389a68312d5147f0d52ee17008bef339e6"
 },
 "nbformat": 3,
 "nbformat_minor": 0,
 "worksheets": [
  {
   "cells": [
    {
     "cell_type": "code",
     "collapsed": false,
     "input": [
      "# WIENER pyCUDA/pyOPenCL\n",
      "\n",
      "# https://github.com/astroML/astroML/blob/b6a4e3585cd3e6987b5f8a749ccd8a2040a06ef7/astroML/filters.py\n",
      "# https://github.com/lebedov/scikits.cuda/\n",
      "# http://docs.scipy.org/doc/scipy-0.14.0/reference/tutorial/signal.html\n",
      "# https://github.com/scipy/scipy/blob/e758c482efb8829685dcf494bdf71eeca3dd77f0/scipy/signal/signaltools.py\n",
      "\n",
      "# Median filter\n",
      "# http://wiki.tiker.net/MedianFilter\n",
      "# http://pydoc.net/Python/cphhpctoolbox/0.0.1/cphhpc.image.filter.medfilt2d/\n",
      "\n",
      "# See also LeeFilter.pyx\n",
      "# http://ipnb2.solab.rshu.ru:8888/notebooks/nansatASARexample-CMOD4Wind-Copy0.ipynb\n"
     ],
     "language": "python",
     "metadata": {},
     "outputs": []
    }
   ],
   "metadata": {}
  }
 ]
}