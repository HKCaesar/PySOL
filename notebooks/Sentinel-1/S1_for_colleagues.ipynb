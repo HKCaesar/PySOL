{
 "cells": [
  {
   "cell_type": "markdown",
   "metadata": {},
   "source": [
    "http://lance-modis.eosdis.nasa.gov/imagery/subsets/?mosaic=Arctic.2015152.terra.4km"
   ]
  },
  {
   "cell_type": "code",
   "execution_count": 12,
   "metadata": {
    "collapsed": false,
    "scrolled": true
   },
   "outputs": [],
   "source": [
    "%matplotlib inline"
   ]
  },
  {
   "cell_type": "code",
   "execution_count": 13,
   "metadata": {
    "collapsed": true,
    "scrolled": true
   },
   "outputs": [],
   "source": [
    "from numpy import asarray, zeros, reshape, double, arange, \\\n",
    "                  ma, log10, diff, mean, flipud, floor, pi, sqrt, size, fliplr, meshgrid, exp, cos, radians"
   ]
  },
  {
   "cell_type": "code",
   "execution_count": 14,
   "metadata": {
    "collapsed": false,
    "scrolled": true
   },
   "outputs": [],
   "source": [
    "from IPython.html import widgets\n",
    "# [widget for widget in dir(widgets) if widget.endswith('Widget')]"
   ]
  },
  {
   "cell_type": "code",
   "execution_count": 15,
   "metadata": {
    "collapsed": false,
    "scrolled": true
   },
   "outputs": [],
   "source": [
    "import datetime\n",
    "\n",
    "import matplotlib.pyplot as plt\n",
    "\n",
    "from matplotlib.mlab import find\n",
    "\n",
    "from PIL import Image\n",
    "\n",
    "from scipy.signal import wiener\n",
    "\n",
    "import os\n",
    "\n",
    "__author__   = 'Alexander Myasoedov'\n",
    "__email__    = 'mag@rshu.ru'\n",
    "__created__  = datetime.datetime(2014, 10, 28)\n",
    "__modified__ = datetime.datetime(2015, 6, 19)\n",
    "__version__  = \"1.0\"\n",
    "__status__   = \"Development\""
   ]
  },
  {
   "cell_type": "markdown",
   "metadata": {},
   "source": [
    "# Files to process"
   ]
  },
  {
   "cell_type": "code",
   "execution_count": 16,
   "metadata": {
    "collapsed": false,
    "scrolled": true
   },
   "outputs": [],
   "source": [
    "# Liza Polar Low 2015 June 01\n",
    "inpath = '/media/SOLabNFS2/tmp/different_SAR/sentinel-1/Liza_PL_01_June_2015/'\n",
    "fileNameList = ['S1A_EW_GRDM_1SDH_20150601T173700_20150601T173804_006183_0080D9_94AD.zip',\n",
    "                'S1A_EW_GRDM_1SDH_20150601T173804_20150601T173858_006183_0080D9_E1A6.zip',\n",
    "                'S1A_IW_GRDH_1SDV_20150601T173611_20150601T173644_006183_0080D8_B3F1.zip']\n",
    "\n",
    "# Ania_Ladoga_29_May_2015/\n",
    "inpath = '/media/SOLabNFS2/tmp/different_SAR/sentinel-1/Ania_Ladoga_29_May_2015/'\n",
    "fileNameList = ['S1A_IW_GRDH_1SDV_20150603T154002_20150603T154027_006211_0081A9_5F10.zip',\n",
    "                'S1A_IW_GRDH_1SDV_20150529T041657_20150529T041722_006131_007F51_F751.zip',\n",
    "                'S1A_EW_GRDM_1SDH_20150517T153117_20150517T153221_005963_007AED_56B0.zip']\n",
    "\n",
    "fn = fileNameList[0]\n",
    "\n",
    "# Gulf of Finland 22 June 2015\n",
    "inpath = '/media/SOLabNFS2/tmp/different_SAR/sentinel-1/'\n",
    "fn = 'S1A_IW_GRDH_1SDV_20150622T041659_20150622T041724_006481_008978_48EC.zip'\n",
    "# crop = '[600:1400,0:900]'\n",
    "\n",
    "# # Sevastopol 19 June 2015\n",
    "inpath = '/media/SOLabNFS2/tmp/different_SAR/sentinel-1/'\n",
    "fn = 'S1A_IW_GRDH_1SDV_20150619T035626_20150619T035653_006437_008838_32F1.zip'\n",
    "# crop = '[1000:2500,1500:-1]'\n",
    "\n",
    "# # Brazil/Amazon - no IWs\n",
    "# inpath = '/media/SOLabNFS2/tmp/different_SAR/sentinel-1/'\n",
    "# fn = 'S1A_IW_GRDH_1SDV_20150519T213443_20150519T213512_005996_007BA4_89FC.zip'"
   ]
  },
  {
   "cell_type": "code",
   "execution_count": 6,
   "metadata": {
    "collapsed": false
   },
   "outputs": [
    {
     "name": "stdout",
     "output_type": "stream",
     "text": [
      "S1A_EW_GRDM_1SDH_20150709T024359_20150709T024458_006728_00902A_A55B.zip\n"
     ]
    }
   ],
   "source": [
    "# Prirazlomnoe\n",
    "inpath = '/media/SOLabNFS2/tmp/different_SAR/sentinel-1/Prirazlomnoe/'\n",
    "fileNameList = [i for i in os.listdir(inpath) if i.endswith('.zip')]\n",
    "# fileNameList[0,1] - no ncep wind\n",
    "fn = fileNameList[-1]\n",
    "print fn"
   ]
  },
  {
   "cell_type": "code",
   "execution_count": 17,
   "metadata": {
    "collapsed": false,
    "scrolled": true
   },
   "outputs": [
    {
     "data": {
      "text/plain": [
       "<module 'readS1' from '/home/mag/Documents/repos/solab/PySOL/notebooks/Sentinel-1/readS1.pyc'>"
      ]
     },
     "execution_count": 17,
     "metadata": {},
     "output_type": "execute_result"
    }
   ],
   "source": [
    "from readS1 import *\n",
    "import readS1\n",
    "reload(readS1)"
   ]
  },
  {
   "cell_type": "code",
   "execution_count": 18,
   "metadata": {
    "collapsed": false,
    "scrolled": false
   },
   "outputs": [
    {
     "name": "stdout",
     "output_type": "stream",
     "text": [
      "Available polarizations: '[u'vv', u'vh']'\n",
      "Reading raw_counts: 'vv' polarization\n",
      "Reading raw_counts: 'vh' polarization\n",
      "Interpolating LUTs: 'vv' polarization\n",
      "Interpolating LUTs: 'vh' polarization\n"
     ]
    },
    {
     "name": "stderr",
     "output_type": "stream",
     "text": [
      "/usr/local/lib/python2.7/dist-packages/PIL/Image.py:2221: DecompressionBombWarning: Image size (468116906 pixels) exceeds limit of 89478485 pixels, could be decompression bomb DOS attack.\n",
      "  DecompressionBombWarning)\n"
     ]
    }
   ],
   "source": [
    "s1 = readS1.readS1(inpath=inpath, fn=fn)\n",
    "# s1.__dict__['raw_counts']"
   ]
  },
  {
   "cell_type": "code",
   "execution_count": 19,
   "metadata": {
    "collapsed": false,
    "scrolled": true
   },
   "outputs": [],
   "source": [
    "# get vars from s1 class\n",
    "for k, v in s1.__dict__.iteritems():\n",
    "    locals()[k]=v"
   ]
  },
  {
   "cell_type": "code",
   "execution_count": 22,
   "metadata": {
    "collapsed": false
   },
   "outputs": [
    {
     "name": "stdout",
     "output_type": "stream",
     "text": [
      "Scale set to: '1' \n"
     ]
    }
   ],
   "source": [
    "import distancelib\n",
    "\n",
    "# Reduce resolution to 40m\n",
    "# scale = 40/round(mean(asarray(distancelib.getPixelResolution(lats_2, lons_2, lons_2.shape, 'km'))*1e3))\n",
    "scale = 1\n",
    "\n",
    "print \"Scale set to: \\'%s\\' \" %scale"
   ]
  },
  {
   "cell_type": "code",
   "execution_count": null,
   "metadata": {
    "collapsed": false,
    "scrolled": true
   },
   "outputs": [],
   "source": [
    "sigma0w = {}\n",
    "roughness = {}\n",
    "\n",
    "for p in polarization:\n",
    "    print \"Filtering Image: \\'%s\\' polarization\" %p\n",
    "    \n",
    "    # filter the image\n",
    "    sigma0w[p] = wiener(sigma0[p][::scale,::scale], mysize=(7,7), noise=None)\n",
    "#     sigma0w[p] = sigma0[p]"
   ]
  },
  {
   "cell_type": "code",
   "execution_count": null,
   "metadata": {
    "collapsed": false,
    "scrolled": true
   },
   "outputs": [],
   "source": [
    "# S1 Pixel resolution\n",
    "# we use pxlResSAR for further GSHHS rasterizing and reprojecting data with pyresample\n",
    "\n",
    "lonlim = (lons_2[::scale,::scale].min(),lons_2[::scale,::scale].max())\n",
    "latlim = (lats_2[::scale,::scale].min(),lats_2[::scale,::scale].max())\n",
    "\n",
    "# enlarge lonlims for cropping a bit larger area for masking\n",
    "lonlimGSHHS = (lonlim[0]-1.0, lonlim[1]+1.0)\n",
    "latlimGSHHS = (latlim[0]-1.0, latlim[1]+1.0)\n",
    "\n",
    "\n",
    "# Get first guess pixel resolution\n",
    "pxlResSARm  = asarray(distancelib.getPixelResolution(lats_2[::scale,::scale], \\\n",
    "                                                     lons_2[::scale,::scale], \\\n",
    "                                                     lons_2[::scale,::scale].shape, 'km'))*1e3\n",
    "pxlResSARdeg  = asarray(distancelib.getPixelResolution(lats_2[::scale,::scale], \\\n",
    "                                                       lons_2[::scale,::scale], \\\n",
    "                                                       lons_2[::scale,::scale].shape, 'deg'))\n",
    "\n",
    "print \"S1 cell resolution, %s deg\"  % str(pxlResSARdeg)\n",
    "print \"S1 cell resolution, %s m\"  % str(pxlResSARm)"
   ]
  },
  {
   "cell_type": "code",
   "execution_count": null,
   "metadata": {
    "collapsed": false,
    "scrolled": true
   },
   "outputs": [],
   "source": [
    "from readS1 import *\n",
    "import readS1\n",
    "reload(readS1)\n",
    "\n",
    "from pyproj import Proj\n",
    "\n",
    "# import pyresample as pr\n",
    "import sys\n",
    "sys.path.append('/home/mag/Documents/repos/solab/pyresample2/')\n",
    "# sys.path.append('/home/mag/Documents/repos/solab/pyresample2/pyresample2/')\n",
    "import pyresample2 as pr\n",
    "\n",
    "# Define areas with pyresample\n",
    "swath_def = pr.geometry.SwathDefinition(lons=lons_2[::scale,::scale], lats=lats_2[::scale,::scale])\n",
    "\n",
    "area_def_4326 = swath_area_def(name='Temporal SWATH EPSG Projection 4326', proj='eqc',\n",
    "                          lonlim=lonlimGSHHS, latlim=latlimGSHHS, ellps=\"WGS84\", res=pxlResSARm)"
   ]
  },
  {
   "cell_type": "code",
   "execution_count": null,
   "metadata": {
    "collapsed": false,
    "scrolled": true
   },
   "outputs": [],
   "source": [
    "# Get the SAR pixel resolution from the area_def for further identical shapes\n",
    "up    = min(latlimGSHHS)\n",
    "down  = max(latlimGSHHS)\n",
    "left  = min(lonlimGSHHS)\n",
    "right = max(lonlimGSHHS)\n",
    "area_extent_deg = (left, down, right, up)\n",
    "\n",
    "area_extent_deg_shape = area_def_4326.shape\n",
    "\n",
    "pxlResSARdeg = asarray( (abs(area_extent_deg[2] - area_extent_deg[0]) / float(area_extent_deg_shape[1]), \\\n",
    "                abs(area_extent_deg[3] - area_extent_deg[1]) / float(area_extent_deg_shape[0])) )\n",
    "\n",
    "pxlResSARm = asarray( (area_def_4326.pixel_size_x, area_def_4326.pixel_size_y) )\n",
    "print \"S1 cell resolution, %s deg\"  % str(pxlResSARdeg)\n",
    "print \"S1 cell resolution, %s m\"  % str(pxlResSARm)\n"
   ]
  },
  {
   "cell_type": "code",
   "execution_count": null,
   "metadata": {
    "collapsed": false,
    "scrolled": true
   },
   "outputs": [],
   "source": [
    "# Apply Mask from GSHHS\n",
    "\n",
    "import gshhs_rasterize\n",
    "reload(gshhs_rasterize)\n",
    "\n",
    "# ESRI shapefile containing land polygons\n",
    "shapefile = '/media/SOLabNFS/store/auxdata/coastline/GSHHS_shp/f/GSHHS_f_L1.shp'\n",
    "\n",
    "# reproject GSHHS onto S1 grid before calculations\n",
    "print \"Rasterizing Land Mask...\"\n",
    "mask_arr_4326 = gshhs_rasterize.gshhs_rasterize_4326(lonlimGSHHS, latlimGSHHS, \\\n",
    "                                     pxlResSARdeg, area_def_4326.shape, True, \\\n",
    "                                     shapefile)"
   ]
  },
  {
   "cell_type": "code",
   "execution_count": null,
   "metadata": {
    "collapsed": false,
    "scrolled": true
   },
   "outputs": [],
   "source": [
    "mask_arr_swath, scaling, intercept = pr.kd_tree.resample_nearest(area_def_4326, mask_arr_4326, swath_def, \\\n",
    "                                             radius_of_influence=4*pxlResSARm.max(), epsilon=0.5, fill_value=None)"
   ]
  },
  {
   "cell_type": "code",
   "execution_count": null,
   "metadata": {
    "collapsed": false,
    "scrolled": true
   },
   "outputs": [],
   "source": [
    "print area_def_4326.shape, mask_arr_4326.shape\n",
    "print mask_arr_swath.shape, sigma0w[p].shape, swath_def.shape"
   ]
  },
  {
   "cell_type": "code",
   "execution_count": null,
   "metadata": {
    "collapsed": false
   },
   "outputs": [],
   "source": [
    "from scipy.signal import medfilt"
   ]
  },
  {
   "cell_type": "code",
   "execution_count": null,
   "metadata": {
    "collapsed": false,
    "scrolled": true
   },
   "outputs": [],
   "source": [
    "# Nice Image (Roughness)\n",
    "\n",
    "sigma0wAvg = {}\n",
    "roughnessNrmlzd = {}\n",
    "\n",
    "if len(polarization[0])>=2: # if 2 polarizations\n",
    "    for p in polarization:\n",
    "        print \"Nice Image: \\'%s\\' polarization\" %p\n",
    "        roughness[p] = ma.masked_where(mask_arr_swath.mask, sigma0w[p])\n",
    "        sigma0wAvg[p] = ma.min(roughness[p], axis=0)\n",
    "        roughnessNrmlzd[p] = (roughness[p]-sigma0wAvg[p])\n",
    "#         roughnessNrmlzd[p] = (roughnessNrmlzd[p] - ma.median(roughnessNrmlzd[p], axis=0))/(ma.median(roughnessNrmlzd[p], axis=0))\n",
    "        roughnessNrmlzd[p] = (roughnessNrmlzd[p])/medfilt(ma.mean(roughnessNrmlzd[p], axis=0),333)\n",
    "elif len(polarization[0])==1: # if only 1 polarization\n",
    "    p = polarization\n",
    "    print \"Nice Image: \\'%s\\' polarization\" %p\n",
    "    roughness[p] = ma.masked_where(mask_arr_swath.mask, sigma0w[p])\n",
    "    sigma0wAvg[p] = ma.min(roughness[p], axis=0)\n",
    "    roughnessNrmlzd[p] = (roughness[p]-sigma0wAvg[p])/sigma0wAvg[p]\n",
    "# plt.imshow(roughnessNrmlzd['vv'], vmin=-1, vmax=3)\n",
    "# plt.imshow(roughnessNrmlzd['vh'], vmin=-1, vmax=3)"
   ]
  },
  {
   "cell_type": "markdown",
   "metadata": {},
   "source": [
    "# Adding Model wind"
   ]
  },
  {
   "cell_type": "code",
   "execution_count": null,
   "metadata": {
    "collapsed": false,
    "scrolled": true
   },
   "outputs": [],
   "source": [
    "# Adding Model wind\n",
    "\n",
    "# import xmltodict\n",
    "\n",
    "# zf = zipfile.ZipFile(inpath+fn, 'r')\n",
    "# manifest = zf.read(fn[:-4] + '.SAFE/manifest.safe')\n",
    "# manifest = xmltodict.parse(manifest) # Parse the read document string\n",
    "# zf.close()\n",
    "\n",
    "startTime = da tetime.datetime.strptime(\\\n",
    "                              manifest['xfdu:XFDU']['metadataSection']['metadataObject'][12]\\\n",
    "                              ['metadataWrap']['xmlData']['safe:acquisitionPeriod']['safe:startTime'],\\\n",
    "                              \"%Y-%m-%dT%H:%M:%S.%f\")\n",
    "\n",
    "ncepGFSmodelWind = ncepGFSmodel(startTime, lats_2, lons_2)"
   ]
  },
  {
   "cell_type": "code",
   "execution_count": null,
   "metadata": {
    "collapsed": false,
    "scrolled": true
   },
   "outputs": [],
   "source": [
    "# Reprojecting data\n",
    "\n",
    "import distancelib\n",
    "\n",
    "# Pixel resolution\n",
    "# we use pxlResWind/pxlResSAR for further pyresample radius_of_influence and sigmas\n",
    "pxlResWind = asarray(distancelib.getPixelResolution(ncepGFSmodelWind['lats_wind'], \\\n",
    "                                                    ncepGFSmodelWind['lons_wind'], \\\n",
    "                                                    ncepGFSmodelWind['lons_wind'].shape, 'km'))\n",
    "# pxlResSAR  = asarray(distancelib.getPixelResolution(lats_2, lons_2, lons_2.shape, 'km'))*1e3\n",
    "\n",
    "# Note pxlResWind is in KM, multiply by 1e3 for meters\n",
    "print \"S1 cell resolution, %s m\"  % pxlResSARm\n",
    "print \"Wind cell resolution, %s km\" % pxlResWind"
   ]
  },
  {
   "cell_type": "code",
   "execution_count": null,
   "metadata": {
    "collapsed": true,
    "scrolled": true
   },
   "outputs": [],
   "source": [
    "from scipy.interpolate import RectSphereBivariateSpline\n",
    "\n",
    "def ncepGFSmodel2swath(lats, lons, data, lats_2, lons_2):\n",
    "\n",
    "    func = RectSphereBivariateSpline(lats, lons, data)\n",
    "    data_2 = func.ev(lats_2.ravel()*pi/180, \\\n",
    "                     lons_2.ravel()*pi/180)\\\n",
    "                     .reshape(lats_2.shape)\n",
    "    return data_2"
   ]
  },
  {
   "cell_type": "code",
   "execution_count": null,
   "metadata": {
    "collapsed": false,
    "scrolled": true
   },
   "outputs": [],
   "source": [
    "# reproject NCEP onto S1 grid before calculations\n",
    "# Using RectSphereBivariateSpline - Bivariate spline approximation over a rectangular mesh on a sphere\n",
    "# as it is much more efficiant for full resolution\n",
    "# as well as smoothes nicely the image\n",
    "\n",
    "# We don't want to work with full res wind so scaling the image for about 100m resolution\n",
    "# Adjust scale to get appropriate value\n",
    "# scale = 5\n",
    "\n",
    "lts = flipud(ncepGFSmodelWind['lats_wind'])[:,0]*pi/180\n",
    "lns = ncepGFSmodelWind['lons_wind'][0,:]*pi/180\n",
    "\n",
    "lts_2 = lats_2[::scale,::scale]\n",
    "lns_2 = lons_2[::scale,::scale]\n",
    "\n",
    "ncepGFSmodelWindSwath = {}\n",
    "ncepGFSmodelWindSwath['wind_speed'] = ncepGFSmodel2swath(lts, lns, flipud(ncepGFSmodelWind['wind_speed']), lts_2, lns_2)\n",
    "ncepGFSmodelWindSwath['wind_dir']   = ncepGFSmodel2swath(lts, lns, flipud(ncepGFSmodelWind['wind_dir']),   lts_2, lns_2)\n",
    "ncepGFSmodelWindSwath['u']   = ncepGFSmodel2swath(lts, lns, flipud(ncepGFSmodelWind['u']),   lts_2, lns_2)\n",
    "ncepGFSmodelWindSwath['v']   = ncepGFSmodel2swath(lts, lns, flipud(ncepGFSmodelWind['v']),   lts_2, lns_2)\n",
    "    \n",
    "pxlResWindSwath = asarray(distancelib.getPixelResolution(lts_2, \\\n",
    "                                                    lns_2, \\\n",
    "                                                    lns_2.shape, 'km'))\n",
    "\n",
    "print \"Interpolated Wind cell resolution, %s km\" % pxlResWindSwath\n"
   ]
  },
  {
   "cell_type": "code",
   "execution_count": null,
   "metadata": {
    "collapsed": false,
    "scrolled": true
   },
   "outputs": [],
   "source": [
    "# calculate bearing from initial lats/lons for further wind calculation\n",
    "# Taking initial values as bearing is more accurate after interpolation than vice versa\n",
    "bearing = zeros((GEOgrid['lons'].shape[0]-1,GEOgrid['lons'].shape[1]))\n",
    "\n",
    "for n in range(0,GEOgrid['lons'].shape[1]):\n",
    "    col = ([GEOgrid['lats'][:-1,n], GEOgrid['lons'][:-1,n]], [GEOgrid['lats'][1:,n], GEOgrid['lons'][1:,n]])\n",
    "    for m in range(0,GEOgrid['lons'].shape[0]-1):\n",
    "        bearing[m][n] = distancelib.bearing(asarray(col[0])[:,m], asarray(col[1])[:,m])\n",
    "\n",
    "# interpolate to raw_counts.shape\n",
    "bearing_2 = imresize(bearing, sigma0w[p].shape)"
   ]
  },
  {
   "cell_type": "code",
   "execution_count": null,
   "metadata": {
    "collapsed": true,
    "scrolled": true
   },
   "outputs": [],
   "source": [
    "def PR_Mouche(theta, phi):\n",
    "\n",
    "    A_0 = 0.00650704\n",
    "    B_0 = 0.128983\n",
    "    C_0 = 0.992839\n",
    "    A_HALF_PI = 0.00782194\n",
    "    B_HALF_PI = 0.121405\n",
    "    C_HALF_PI = 0.992839\n",
    "    A_PI = 0.00598416\n",
    "    B_PI = 0.140952\n",
    "    C_PI = 0.992885\n",
    "\n",
    "    P_0 = A_0 * exp(B_0* theta) + C_0\n",
    "    P_HALF_PI = A_HALF_PI * exp(B_HALF_PI* theta) + C_HALF_PI\n",
    "    P_PI = A_PI * exp(B_PI* theta) + C_PI\n",
    "    \n",
    "    C0 = (P_0 + P_PI + 2 * P_HALF_PI) / 4\n",
    "    C1 = (P_0 - P_PI) / 2\n",
    "    C2 = (P_0 + P_PI - 2 * P_HALF_PI) / 4\n",
    "    \n",
    "    P = C0 + C1 * cos(radians(phi)) + C2 * cos(radians(2 * phi))\n",
    "    \n",
    "    return P"
   ]
  },
  {
   "cell_type": "code",
   "execution_count": null,
   "metadata": {
    "collapsed": false,
    "scrolled": true
   },
   "outputs": [],
   "source": [
    "#NB! WINDDIR = 0 WHEN WIND BLOWS TOWARDS RADAR!\n",
    "\n",
    "p = polarization[0]\n",
    "\n",
    "wind_dir_model_swath_rel = 90 + bearing_2 - ncepGFSmodelWindSwath['wind_dir']\n",
    "\n",
    "if p == 'hh':\n",
    "    PR = PR_Mouche(incidenceAngle_2[p][::scale,::scale], wind_dir_model_swath_rel)\n",
    "    try:\n",
    "        from cmod_gpu import rcs2windOpenCl\n",
    "        wind_speed_asar = rcs2windOpenCl(sar=sigma0w[p]*PR, \\\n",
    "                                         windir=wind_dir_model_swath_rel, \\\n",
    "                                         theta=incidenceAngle_2[p][::scale,::scale])\n",
    "    except Exception:\n",
    "        from cmod_vect import rcs2windPar\n",
    "        wind_speed_asar = rcs2windPar(sigma0w[p]*PR, cmdv=5, \\\n",
    "                                      windir=wind_dir_model_swath_rel, \\\n",
    "                                      theta=incidenceAngle_2[p][::scale,::scale], nprocs=numProcs)\n",
    "elif p == 'vv':\n",
    "    try:\n",
    "        from cmod_gpu import rcs2windOpenCl\n",
    "        wind_speed_asar = rcs2windOpenCl(sar=sigma0w[p], \\\n",
    "                                         windir=wind_dir_model_swath_rel, \\\n",
    "                                         theta=incidenceAngle_2[p][::scale,::scale])\n",
    "    except Exception:\n",
    "        from cmod_vect import rcs2windPar\n",
    "        wind_speed_asar = rcs2windPar(sigma0w[p], cmdv=5, \\\n",
    "                                      windir=wind_dir_model_swath_rel, \\\n",
    "                                      theta=incidenceAngle_2[p][::scale,::scale], nprocs=numProcs)"
   ]
  },
  {
   "cell_type": "code",
   "execution_count": null,
   "metadata": {
    "collapsed": false,
    "scrolled": true
   },
   "outputs": [],
   "source": [
    "# Add mask to initial NCEP data\n",
    "area_def_ncep = pr.geometry.SwathDefinition(lons=ncepGFSmodelWind['lons_wind'], lats=ncepGFSmodelWind['lats_wind'])\n",
    "mask_arr_ncep, scaling, intercept = pr.kd_tree.resample_nearest(area_def_4326, mask_arr_4326, area_def_ncep, \\\n",
    "                                             radius_of_influence=4*pxlResWind.max(), epsilon=0.5, fill_value=None)\n",
    "ncepGFSmodelWind['wind_speed'] = ma.masked_where(mask_arr_ncep.mask, ncepGFSmodelWind['wind_speed'])\n",
    "\n",
    "# Add mask to ASAR wind and reprojected NCEP\n",
    "wind_speed_asar = ma.masked_where(mask_arr_swath.mask, wind_speed_asar)\n",
    "ncepGFSmodelWindSwath['wind_speed'] = ma.masked_where(mask_arr_swath.mask, ncepGFSmodelWindSwath['wind_speed'])"
   ]
  },
  {
   "cell_type": "code",
   "execution_count": null,
   "metadata": {
    "collapsed": false,
    "scrolled": true
   },
   "outputs": [],
   "source": [
    "plt.close('all')\n",
    "plt.figure(figsize=(16,16/3*double(sigma0w[p].shape[0])/double(sigma0w[p].shape[1])))\n",
    "plt.plot(ncepGFSmodelWindSwath['wind_speed'][600,:])\n",
    "plt.plot(wind_speed_asar[600,:])"
   ]
  },
  {
   "cell_type": "code",
   "execution_count": null,
   "metadata": {
    "collapsed": false,
    "scrolled": true
   },
   "outputs": [],
   "source": [
    "plt.close('all')\n",
    "plt.figure(figsize=(16,16/3*double(sigma0w[p].shape[0])/double(sigma0w[p].shape[1])))\n",
    "plt.plot(ncepGFSmodelWindSwath['wind_speed'][:,800])\n",
    "plt.plot(wind_speed_asar[:,800])"
   ]
  },
  {
   "cell_type": "markdown",
   "metadata": {},
   "source": [
    "## NB! Don't forget to flipud when bearing.mean() >200\n",
    "## NB! Don't forget to fliplr when bearing.mean() < 200"
   ]
  },
  {
   "cell_type": "code",
   "execution_count": null,
   "metadata": {
    "collapsed": false,
    "scrolled": true
   },
   "outputs": [],
   "source": [
    "print 'bearing = %.2f' % bearing.mean()\n",
    "\n",
    "if bearing.mean() < 200:\n",
    "    wind_speed_asar = fliplr(wind_speed_asar)\n",
    "    lats_2 = fliplr(lats_2)\n",
    "    lons_2 = fliplr(lons_2)\n",
    "    for k, v in ncepGFSmodelWindSwath.iteritems():\n",
    "        ncepGFSmodelWindSwath[k] = fliplr(v)\n",
    "    for k, v in roughnessNrmlzd.iteritems():\n",
    "        roughnessNrmlzd[k] = fliplr(v)\n",
    "    for k, v in sigma0w.iteritems():\n",
    "        sigma0w[k] = fliplr(v)\n",
    "elif bearing.mean() > 200:\n",
    "    wind_speed_asar = flipud(wind_speed_asar)\n",
    "    lats_2 = flipud(lats_2)\n",
    "    lons_2 = flipud(lons_2)\n",
    "    for k, v in ncepGFSmodelWindSwath.iteritems():\n",
    "        ncepGFSmodelWindSwath[k] = flipud(v)\n",
    "    for k, v in roughnessNrmlzd.iteritems():\n",
    "        roughnessNrmlzd[k] = flipud(v)\n",
    "    for k, v in sigma0w.iteritems():\n",
    "        sigma0w[k] = flipud(v)\n",
    "del k,v"
   ]
  },
  {
   "cell_type": "code",
   "execution_count": null,
   "metadata": {
    "collapsed": false,
    "scrolled": true
   },
   "outputs": [],
   "source": [
    "min_speed = 1\n",
    "max_speed = 13\n",
    "\n",
    "print 'bearing = %.2f' % bearing.mean()\n",
    "\n",
    "plt.close('all')\n",
    "plt.figure(figsize=(16,16/3*double(sigma0w[p].shape[0])/double(sigma0w[p].shape[1])))\n",
    "plt.subplot(131)\n",
    "plt.imshow(ncepGFSmodelWind['wind_speed'], vmin=min_speed, vmax=max_speed, interpolation=\"nearest\")\n",
    "plt.jet()\n",
    "plt.colorbar()\n",
    "plt.axis('tight')\n",
    "plt.quiver(ncepGFSmodelWind['u'], ncepGFSmodelWind['v'])\n",
    "\n",
    "X,Y = meshgrid( arange(0,roughness[p].shape[1]),arange(0,roughness[p].shape[0]) )\n",
    "U = (ncepGFSmodelWindSwath['u'])\n",
    "V = (ncepGFSmodelWindSwath['v'])\n",
    "scl = 100\n",
    "\n",
    "plt.subplot(132)\n",
    "plt.imshow((ncepGFSmodelWindSwath['wind_speed']), vmin=min_speed, vmax=max_speed)\n",
    "plt.jet()\n",
    "plt.colorbar()\n",
    "plt.axis('tight')\n",
    "plt.quiver(X[::scl,::scl], Y[::scl,::scl], U[::scl,::scl], V[::scl,::scl])\n",
    "\n",
    "\n",
    "plt.subplot(133)\n",
    "plt.imshow((wind_speed_asar), vmin=min_speed, vmax=max_speed)\n",
    "plt.jet()\n",
    "plt.colorbar()\n",
    "plt.axis('tight')\n",
    "plt.quiver(X[::scl,::scl], Y[::scl,::scl], U[::scl,::scl], V[::scl,::scl])"
   ]
  },
  {
   "cell_type": "code",
   "execution_count": null,
   "metadata": {
    "collapsed": false,
    "scrolled": true
   },
   "outputs": [],
   "source": [
    "print startTime, latlim, lonlim\n",
    "print 'http://earth.nullschool.net/#'+startTime.strftime(\"%Y/%m/%d/\")+'%.2d' %(ncepGFSmodelWind['baseHour'])+'00Z/wind/surface/level/orthographic=-327.02,60.84,3000'"
   ]
  },
  {
   "cell_type": "code",
   "execution_count": null,
   "metadata": {
    "collapsed": false,
    "scrolled": true
   },
   "outputs": [],
   "source": [
    "# %matplotlib inline\n",
    "\n",
    "def ntrctv_imshow(p = 'hh', vmi=-1., vma=1., cmap='bone', crop='[:,:]'):\n",
    "    # check if data type is dictionary and there is no wind\n",
    "    if type(data) == dict and all(k!='wind_speed' for k in data.iterkeys()):\n",
    "        plt.figure(figsize=(16,16*double(data[p].shape[0])/double(data[p].shape[1])))\n",
    "        plt.imshow(eval(\"data[p]\"+str(crop)), vmin=vmi, vmax=vma)\n",
    "    elif type(data) == dict and any(k=='wind_speed' for k in data.iterkeys()):\n",
    "        plt.figure(figsize=(16,16*double(data[p].shape[0])/double(data[p].shape[1])))\n",
    "        X,Y = meshgrid( arange(0,eval(\"data[p]\"+str(crop)).shape[1]),arange(0,eval(\"data[p]\"+str(crop)).shape[0]) )\n",
    "        U = (data['u'])\n",
    "        V = (data['v'])\n",
    "        U = eval(\"U\"+str(crop))\n",
    "        V = eval(\"V\"+str(crop))\n",
    "        scl = 100\n",
    "        plt.quiver(X[::scl,::scl], Y[::scl,::scl], U[::scl,::scl], V[::scl,::scl])\n",
    "        plt.imshow(eval(\"data[p]\"+str(crop)), vmin=vmi, vmax=vma)\n",
    "        plt.axis('tight')\n",
    "    elif type(data) != dict:\n",
    "        plt.figure(figsize=(16,16*double(data.shape[0])/double(data.shape[1])))\n",
    "        plt.imshow(eval(\"data\"+str(crop)), vmin=vmi, vmax=vma)\n",
    "    plt.colorbar()\n",
    "    plt.set_cmap(cmap)    \n"
   ]
  },
  {
   "cell_type": "markdown",
   "metadata": {},
   "source": [
    "## Interactive plotting"
   ]
  },
  {
   "cell_type": "code",
   "execution_count": null,
   "metadata": {
    "collapsed": false
   },
   "outputs": [],
   "source": [
    "data=10*log10(sigma0[p][::20,::20])\n",
    "ntrctv = widgets.interact(ntrctv_imshow, \\\n",
    "                 vmi=widgets.FloatSliderWidget(min=-35, max=5, value=-20, step=0.5), \\\n",
    "                 vma=widgets.FloatSliderWidget(min=-35, max=5, value=-5., step=0.5), \\\n",
    "                cmap = ['Greys_r', 'bone', 'RdBu_r'], crop = '[:,:]');\n",
    "# crop = '[1000:2500,1500:-1]'\n",
    "# crop = '[600:1400,0:900]' - finnGulf\n",
    "# crop = '[500:800,600:1000]' - Prirazlomnoe"
   ]
  },
  {
   "cell_type": "code",
   "execution_count": null,
   "metadata": {
    "collapsed": false,
    "scrolled": false
   },
   "outputs": [],
   "source": [
    "data=roughnessNrmlzd\n",
    "# data[] = np.where(data[p]<-1,-1,data[p])\n",
    "# data[p] = np.where(data[p]>1,1,data[p])\n",
    "ntrctv = widgets.interact(ntrctv_imshow, p = widgets.RadioButtons(description='polarization', options=data.keys()), \\\n",
    "                 vmi=widgets.FloatSliderWidget(min=-2, max=4, value=-2, step=0.5), \\\n",
    "                 vma=widgets.FloatSliderWidget(min=-2, max=4, value=4., step=0.5), \\\n",
    "                cmap = ['bone', 'RdBu_r', 'Greys_r'], crop = '[:,:]');\n",
    "# crop = '[1000:2500,1500:-1]'\n",
    "# crop = '[600:1400,0:900]' - finnGulf\n",
    "# crop = '[500:800,600:1000]' - Prirazlomnoe"
   ]
  },
  {
   "cell_type": "code",
   "execution_count": null,
   "metadata": {
    "collapsed": true
   },
   "outputs": [],
   "source": []
  },
  {
   "cell_type": "code",
   "execution_count": null,
   "metadata": {
    "collapsed": false
   },
   "outputs": [],
   "source": [
    "data=ncepGFSmodelWindSwath\n",
    "wind = wind_speed_asar\n",
    "\n",
    "ntrctv = widgets.interact(ntrctv_imshow, p = widgets.RadioButtons(description='wind speed', options=data.keys()), \\\n",
    "                 vmi=widgets.FloatSliderWidget(min=0, max=30, value=0, step=1), \\\n",
    "                 vma=widgets.FloatSliderWidget(min=0, max=30, value=5., step=1), \\\n",
    "                cmap = ['jet'], crop = '[:,:]');\n",
    "# crop = '[600:1400,0:900]'"
   ]
  },
  {
   "cell_type": "code",
   "execution_count": null,
   "metadata": {
    "collapsed": true,
    "scrolled": true
   },
   "outputs": [],
   "source": [
    "from mpl_toolkits.basemap import Basemap\n",
    "from matplotlib import cm"
   ]
  },
  {
   "cell_type": "code",
   "execution_count": null,
   "metadata": {
    "collapsed": false
   },
   "outputs": [],
   "source": [
    "# epsg 4326\n",
    "from numpy import ceil\n",
    "\n",
    "oPath = inpath\n",
    "\n",
    "data = 10*log10(sigma0w[polarization[0]])[::scale,::scale]\n",
    "\n",
    "plt.close('all')\n",
    "plt.figure(figsize=(8,8*double(data.shape[0])/data.shape[1]))\n",
    "\n",
    "# clm=(floor(data.min()), ceil(data.max()))\n",
    "clm=(-20,-5)\n",
    "\n",
    "# Lat/Lon coords of image corners\n",
    "# ll_lat = lats_2.min()\n",
    "# ur_lat = lats_2.max()\n",
    "# ll_lon = lons_2.min()\n",
    "# ur_lon = lons_2.max()\n",
    "ll_lat = 68\n",
    "ur_lat = 71\n",
    "ll_lon = 56\n",
    "ur_lon = 60\n",
    "m = Basemap(epsg=4326, llcrnrlat=ll_lat, urcrnrlat=ur_lat,\\\n",
    "            llcrnrlon=ll_lon, urcrnrlon=ur_lon, \\\n",
    "            resolution='i')\n",
    "\n",
    "# m.bluemarble()\n",
    "# m.etopo()\n",
    "\n",
    "x,y=m(lons_2[::scale,::scale],lats_2[::scale,::scale])\n",
    "# cs=m.pcolormesh(x,y,roughnessNrmlzd[polarization[0]][::scale,::scale],cmap=cm.Greys_r, vmin=-1, vmax=2)#,ps,cmap=cm.jet,extend='max')\n",
    "cs = m.pcolormesh(x,y,data)#,ps,cmap=cm.jet,extend='max')\n",
    "cs.axis='tight'\n",
    "plt.gray()\n",
    "plt.clim(clm)\n",
    "cb = plt.colorbar(cs, shrink=0.5, extend='both', \\\n",
    "                  orientation='horizontal', pad=0.1, aspect=33)\n",
    "# A working example (for any value range) with 5 ticks along the bar is:\n",
    "m0=(clm[0])                      # colorbar min value\n",
    "m5=(clm[1])                      # colorbar max value\n",
    "m1=round((1*(m5-m0)/5.0 + m0),2) # colorbar mid value 1\n",
    "m2=round((2*(m5-m0)/5.0 + m0),2) # colorbar mid value 2\n",
    "m3=round((3*(m5-m0)/5.0 + m0),2) # colorbar mid value 3\n",
    "m4=round((4*(m5-m0)/5.0 + m0),2) # colorbar mid value 4\n",
    "cb.set_ticks([m0,m1,m2,m3,m4,m5])\n",
    "cb.set_ticklabels([m0,m1,m2,m3,m4,m5])\n",
    "cb.update_ticks()\n",
    "cb.set_label('Sigma0, [dB]')\n",
    "\n",
    "# set the step of Lat/Lon to plot\n",
    "# stepLon = round((lons_2.max()-lons_2.min())/4, 0)\n",
    "# stepLat = round((lats_2.max()-lats_2.min())/4, 0)\n",
    "stepLon = 1\n",
    "stepLat = 1\n",
    "# fool proofing, so that ronded value is not 0, but 0.05 in case of small area\n",
    "if stepLat == 0: stepLat=0.05\n",
    "if stepLon == 0: stepLon=0.05\n",
    "\n",
    "# m.drawmeridians(arange(round(ll_lon,1),round(ur_lon,1), stepLon), \\\n",
    "#                 labels=[0,0,0,1], color='w', dashes=[5,5], linewidth=0.5)\n",
    "# m.drawparallels(arange(round(ll_lat,1),round(ur_lat,1), stepLat), \\\n",
    "#                 labels=[1,0,0,0], color='w', dashes=[5,5], linewidth=0.5, rotation=90)\n",
    "m.drawmeridians(arange(round(lons_2.min(),1),round(lons_2.max(),1), stepLon), \\\n",
    "                labels=[0,0,0,1], color='w', dashes=[5,5], linewidth=0.5)\n",
    "m.drawparallels(arange(round(lats_2.min(),1),round(lats_2.max(),1), stepLat), \\\n",
    "                labels=[1,0,0,0], color='w', dashes=[5,5], linewidth=0.5, rotation=90)\n",
    "m.drawcoastlines(linewidth=1,color='coral')\n",
    "# m.fillcontinents(color='coral')\n",
    "\n",
    "plt.tight_layout()\n",
    "plt.title(fn[:-39] + '_' + polarization[0])\n",
    "\n",
    "oFileName = os.path.join(oPath, fn[:-39] + '_' + polarization[0] + '_sigma0w_bm.png')\n",
    "plt.savefig(oFileName, facecolor='w', edgecolor='w', \\\n",
    "            dpi=600, bbox_inches=\"tight\", pad_inches=0.1)"
   ]
  },
  {
   "cell_type": "code",
   "execution_count": null,
   "metadata": {
    "collapsed": true,
    "scrolled": true
   },
   "outputs": [],
   "source": []
  },
  {
   "cell_type": "raw",
   "metadata": {
    "collapsed": true,
    "scrolled": true
   },
   "source": [
    "# epsg 3413\n",
    "\n",
    "plt.close('all')\n",
    "plt.figure(figsize=(16,16*double(data[p].shape[0])/double(data[p].shape[1])))\n",
    "lat_ts=70.0\n",
    "lat_0=90.0\n",
    "lon_0=-45\n",
    "\n",
    "# width=7000000.\n",
    "# height=7000000.\n",
    "# m = Basemap(width=width,height=height,resolution='l',\\\n",
    "#             projection='stere',lat_ts=lat_ts,lat_0=lat_0,lon_0=lon_0)\n",
    "\n",
    "# Lat/Lon coords of image corners\n",
    "ll_lat = lats_2.min()\n",
    "# ur_lat = lats_2.max()-4\n",
    "# ll_lon = lons_2.min()-15\n",
    "# ur_lon = lons_2.max()+10\n",
    "ur_lat = lats_2.max()\n",
    "ll_lon = lons_2.min()\n",
    "ur_lon = lons_2.max()\n",
    "cent_lat = lats_2.mean()\n",
    "cent_lon = lons_2.mean()\n",
    "m = Basemap(llcrnrlat=ll_lat, urcrnrlat=ur_lat,\\\n",
    "            llcrnrlon=ll_lon, urcrnrlon=ur_lon, \\\n",
    "            resolution='i', projection='stere', \\\n",
    "            lat_ts=lat_ts,lat_0=lat_0,lon_0=lon_0)\n",
    "\n",
    "m.bluemarble()\n",
    "\n",
    "x,y=m(lons_2[::scale,::scale],lats_2[::scale,::scale])\n",
    "CS=m.pcolormesh(x,y,roughnessNrmlzd['vv'],cmap=cm.Greys, vmin=-1, vmax=1)#,ps,cmap=cm.jet,extend='max')\n",
    "\n",
    "m.drawmeridians(arange(lonlim[0],lonlim[1],5),labels=[0,0,0,1],color='y')\n",
    "m.drawparallels(arange(0,80,5),labels=[1,0,0,0],color='y')\n",
    "m.drawcoastlines(linewidth=0.5,color='0.5')\n",
    "plt.title('Test')"
   ]
  },
  {
   "cell_type": "code",
   "execution_count": null,
   "metadata": {
    "collapsed": true,
    "scrolled": true
   },
   "outputs": [],
   "source": []
  },
  {
   "cell_type": "raw",
   "metadata": {
    "collapsed": false
   },
   "source": [
    "# Scalloping/banding in Svalbard/Barents raw_counts image for presentation\n",
    "inpath = '/media/SOLabNFS2/tmp/different_SAR/sentinel-1/Svalbard-Barents/'\n",
    "fn = 'S1A_EW_GRDM_1SDH_20141004T061501_20141004T061601_002676_002FBD_A842.zip'\n",
    "\n",
    "s1 = readS1.readS1_raw_counts(inpath=inpath, fn=fn)\n",
    "\n",
    "plt.close('all')\n",
    "oPath = '/home/mag/Documents/repos/solab/PySOL/notebooks/Sentinel-1/for_presentation/'\n",
    "oFileName = os.path.join(oPath, fn[:-39] + '_Intensity_hv')\n",
    "plt.imshow(double(s1[0]['hv'][::7,::7])**2, vmin=0, vmax=15e3)\n",
    "plt.gray()\n",
    "# plt.colorbar()\n",
    "plt.axis('tight')\n",
    "plt.savefig(oFileName, dpi=600,\n",
    "            facecolor='None',\n",
    "            bbox_inches='tight',\n",
    "            transparent=True,\n",
    "            pad_inches=0)"
   ]
  },
  {
   "cell_type": "code",
   "execution_count": null,
   "metadata": {
    "collapsed": true,
    "scrolled": true
   },
   "outputs": [],
   "source": []
  },
  {
   "cell_type": "markdown",
   "metadata": {
    "collapsed": true
   },
   "source": [
    "# Saving figures for presentation"
   ]
  },
  {
   "cell_type": "code",
   "execution_count": null,
   "metadata": {
    "collapsed": false,
    "scrolled": true
   },
   "outputs": [],
   "source": [
    "# Save images for presentation\n",
    "# oPath = '/home/mag/tmp/for_Ania/'\n",
    "oPath = inpath\n",
    "\n",
    "for p in polarization:\n",
    "    plt.close('all')\n",
    "    oFileName = os.path.join(oPath, fn[:-39] + '_' + p + '_bone_r.png')\n",
    "    plt.imshow(roughnessNrmlzd[p], vmin=-1, vmax=2, cmap=plt.cm.bone_r)\n",
    "    plt.colorbar()\n",
    "    plt.axis('tight')\n",
    "    plt.savefig(oFileName, dpi=600,\n",
    "                facecolor='None',\n",
    "                bbox_inches='tight',\n",
    "                transparent=True,\n",
    "                pad_inches=0)\n",
    "\n",
    "    plt.close('all')\n",
    "    oFileName = os.path.join(oPath, fn[:-39] + '_' + p + '_RdBu_r.png')\n",
    "    plt.imshow(roughnessNrmlzd[p], vmin=-1, vmax=2, cmap=plt.cm.RdBu_r)\n",
    "    plt.colorbar()\n",
    "    plt.axis('tight')\n",
    "    plt.savefig(oFileName, dpi=600,\n",
    "                facecolor='None',\n",
    "                bbox_inches='tight',\n",
    "                transparent=True,\n",
    "                pad_inches=0)\n",
    "\n",
    "plt.close('all')\n",
    "oFileName = os.path.join(oPath, fn[:-39] + '_' + polarization[0] + '_sigma0w.png')\n",
    "plt.imshow(10*log10(sigma0w[polarization[0]]), vmin=-20, vmax=-5)\n",
    "plt.gray()\n",
    "plt.colorbar()\n",
    "plt.axis('tight')\n",
    "plt.savefig(oFileName, dpi=600,\n",
    "            facecolor='None',\n",
    "            bbox_inches='tight',\n",
    "            transparent=True,\n",
    "            pad_inches=0)\n",
    "\n",
    "plt.close('all')\n",
    "oFileName = os.path.join(oPath, fn[:-39] + '_' + polarization[1] + '_sigma0w.png')\n",
    "plt.imshow(10*log10(sigma0w[polarization[1]]), vmin=-35, vmax=-10)\n",
    "plt.gray()\n",
    "plt.colorbar()\n",
    "plt.axis('tight')\n",
    "plt.savefig(oFileName, dpi=600,\n",
    "            facecolor='None',\n",
    "            bbox_inches='tight',\n",
    "            transparent=True,\n",
    "            pad_inches=0)"
   ]
  },
  {
   "cell_type": "code",
   "execution_count": null,
   "metadata": {
    "collapsed": false,
    "scrolled": true
   },
   "outputs": [],
   "source": [
    "p = polarization[0]\n",
    "\n",
    "min_speed = 0\n",
    "max_speed = 9\n",
    "\n",
    "plt.close('all')\n",
    "oFileName = os.path.join(oPath, fn[:-39] + '_' + p + '_wind_ncep.png')\n",
    "plt.imshow((ncepGFSmodelWind['wind_speed']), vmin=min_speed, vmax=max_speed, interpolation=\"nearest\")\n",
    "plt.jet()\n",
    "plt.colorbar()\n",
    "plt.axis('tight')\n",
    "plt.quiver((ncepGFSmodelWind['u']), (ncepGFSmodelWind['v']))\n",
    "plt.savefig(oFileName, dpi=600,\n",
    "            facecolor='None',\n",
    "            bbox_inches='tight',\n",
    "            transparent=True,\n",
    "            pad_inches=0)\n",
    "\n",
    "X,Y = meshgrid( arange(0,roughness[p].shape[1]),arange(0,roughness[p].shape[0]) )\n",
    "U = ncepGFSmodelWindSwath['u']\n",
    "V = ncepGFSmodelWindSwath['v']\n",
    "scl = 100\n",
    "\n",
    "plt.close('all')\n",
    "oFileName = os.path.join(oPath, fn[:-39] + '_' + p + '_wind_ncep_swath.png')\n",
    "plt.imshow(ncepGFSmodelWindSwath['wind_speed'], vmin=min_speed, vmax=max_speed)\n",
    "plt.jet()\n",
    "plt.colorbar()\n",
    "plt.axis('tight')\n",
    "plt.quiver(X[::scl,::scl], Y[::scl,::scl], U[::scl,::scl], V[::scl,::scl])\n",
    "plt.savefig(oFileName, dpi=600,\n",
    "            facecolor='None',\n",
    "            bbox_inches='tight',\n",
    "            transparent=True,\n",
    "            pad_inches=0)\n",
    "\n",
    "plt.close('all')\n",
    "oFileName = os.path.join(oPath, fn[:-39] + '_' + p + '_wind_S1.png')\n",
    "plt.imshow(wind_speed_asar, vmin=min_speed, vmax=max_speed)\n",
    "plt.jet()\n",
    "plt.colorbar()\n",
    "plt.axis('tight')\n",
    "plt.quiver(X[::scl,::scl], Y[::scl,::scl], U[::scl,::scl], V[::scl,::scl])\n",
    "plt.savefig(oFileName, dpi=600,\n",
    "            facecolor='None',\n",
    "            bbox_inches='tight',\n",
    "            transparent=True,\n",
    "            pad_inches=0)"
   ]
  },
  {
   "cell_type": "code",
   "execution_count": null,
   "metadata": {
    "collapsed": true,
    "scrolled": true
   },
   "outputs": [],
   "source": []
  },
  {
   "cell_type": "code",
   "execution_count": null,
   "metadata": {
    "collapsed": true,
    "scrolled": true
   },
   "outputs": [],
   "source": []
  },
  {
   "cell_type": "code",
   "execution_count": null,
   "metadata": {
    "collapsed": true,
    "scrolled": true
   },
   "outputs": [],
   "source": []
  },
  {
   "cell_type": "code",
   "execution_count": null,
   "metadata": {
    "collapsed": true
   },
   "outputs": [],
   "source": []
  },
  {
   "cell_type": "code",
   "execution_count": null,
   "metadata": {
    "collapsed": true
   },
   "outputs": [],
   "source": []
  },
  {
   "cell_type": "code",
   "execution_count": null,
   "metadata": {
    "collapsed": true
   },
   "outputs": [],
   "source": []
  },
  {
   "cell_type": "code",
   "execution_count": null,
   "metadata": {
    "collapsed": true,
    "scrolled": true
   },
   "outputs": [],
   "source": []
  },
  {
   "cell_type": "code",
   "execution_count": null,
   "metadata": {
    "collapsed": true,
    "scrolled": true
   },
   "outputs": [],
   "source": []
  },
  {
   "cell_type": "code",
   "execution_count": null,
   "metadata": {
    "collapsed": true,
    "scrolled": true
   },
   "outputs": [],
   "source": []
  },
  {
   "cell_type": "code",
   "execution_count": null,
   "metadata": {
    "collapsed": true,
    "scrolled": true
   },
   "outputs": [],
   "source": []
  },
  {
   "cell_type": "code",
   "execution_count": null,
   "metadata": {
    "collapsed": true,
    "scrolled": true
   },
   "outputs": [],
   "source": []
  },
  {
   "cell_type": "code",
   "execution_count": null,
   "metadata": {
    "collapsed": true,
    "scrolled": true
   },
   "outputs": [],
   "source": []
  },
  {
   "cell_type": "code",
   "execution_count": null,
   "metadata": {
    "collapsed": false,
    "scrolled": true
   },
   "outputs": [],
   "source": [
    "import sys\n",
    "sys.getsizeof(sigma0[p])"
   ]
  },
  {
   "cell_type": "code",
   "execution_count": null,
   "metadata": {
    "collapsed": false,
    "scrolled": true
   },
   "outputs": [],
   "source": [
    "s1 = sigma0[p]"
   ]
  },
  {
   "cell_type": "code",
   "execution_count": null,
   "metadata": {
    "collapsed": false,
    "scrolled": true
   },
   "outputs": [],
   "source": [
    "import numpy as np\n",
    "s1"
   ]
  },
  {
   "cell_type": "code",
   "execution_count": null,
   "metadata": {
    "collapsed": false,
    "scrolled": true
   },
   "outputs": [],
   "source": [
    "np.int16(s1).nbytes/1024/1024"
   ]
  },
  {
   "cell_type": "code",
   "execution_count": null,
   "metadata": {
    "collapsed": false,
    "scrolled": true
   },
   "outputs": [],
   "source": [
    "s1 = 0.5\n",
    "np.int8(s1*127)"
   ]
  },
  {
   "cell_type": "code",
   "execution_count": null,
   "metadata": {
    "collapsed": true,
    "scrolled": true
   },
   "outputs": [],
   "source": []
  },
  {
   "cell_type": "code",
   "execution_count": null,
   "metadata": {
    "collapsed": false,
    "scrolled": true
   },
   "outputs": [],
   "source": [
    "m = roughnessNrmlzd['vv']\n",
    "m = m - m.min() # Offset the image, no pixels are negative\n",
    "m = 2**16*(m+m.max())/m.max() # scale\n",
    "# m = m + 1\n",
    "# m = 2**16*(m+1)/1\n",
    "m = np.uint16(m)"
   ]
  },
  {
   "cell_type": "code",
   "execution_count": null,
   "metadata": {
    "collapsed": false,
    "scrolled": true
   },
   "outputs": [],
   "source": [
    "m.min()"
   ]
  },
  {
   "cell_type": "code",
   "execution_count": null,
   "metadata": {
    "collapsed": false,
    "scrolled": true
   },
   "outputs": [],
   "source": [
    "m.nbytes/1024/1024"
   ]
  },
  {
   "cell_type": "code",
   "execution_count": null,
   "metadata": {
    "collapsed": false,
    "scrolled": true
   },
   "outputs": [],
   "source": [
    "m.mean()"
   ]
  },
  {
   "cell_type": "code",
   "execution_count": null,
   "metadata": {
    "collapsed": false,
    "scrolled": true
   },
   "outputs": [],
   "source": [
    "m = roughnessNrmlzd['vv'][300:700,300:700]\n",
    "m = np.where(m<=-1,-0.9999,m)\n",
    "m = np.where(m>=1,0.9999,m)\n",
    "m = m - m.min() # Offset the image, no pixels are negative # 0-2\n",
    "m = 2**16*m/m.max() # scale # 65000*(m)/2\n",
    "m = np.uint16(m)\n",
    "\n",
    "plt.close('all')\n",
    "plt.figure(figsize=(32,32*double(sigma0w[p].shape[0])/double(sigma0w[p].shape[1])))\n",
    "plt.imshow(m, vmin=55*256, vmax=106*256)\n",
    "plt.colorbar()"
   ]
  },
  {
   "cell_type": "code",
   "execution_count": null,
   "metadata": {
    "collapsed": false,
    "scrolled": true
   },
   "outputs": [],
   "source": [
    "m = roughnessNrmlzd['vv'][300:700,300:700]\n",
    "m = np.where(m<=-1,-0.9999,m)\n",
    "m = np.where(m>=1,0.9999,m)\n",
    "m = m - m.min() # Offset the image, no pixels are negative # 0-2\n",
    "m = 2**8*m/m.max() # scale # 65000*(m)/2\n",
    "m = np.uint8(m)\n",
    "\n",
    "plt.close('all')\n",
    "plt.figure(figsize=(32,32*double(sigma0w[p].shape[0])/double(sigma0w[p].shape[1])))\n",
    "plt.imshow(m, vmin=55, vmax=106)\n",
    "plt.colorbar()"
   ]
  },
  {
   "cell_type": "code",
   "execution_count": null,
   "metadata": {
    "collapsed": false,
    "scrolled": true
   },
   "outputs": [],
   "source": []
  },
  {
   "cell_type": "code",
   "execution_count": null,
   "metadata": {
    "collapsed": true,
    "scrolled": true
   },
   "outputs": [],
   "source": []
  },
  {
   "cell_type": "code",
   "execution_count": null,
   "metadata": {
    "collapsed": true,
    "scrolled": true
   },
   "outputs": [],
   "source": []
  },
  {
   "cell_type": "code",
   "execution_count": null,
   "metadata": {
    "collapsed": false,
    "scrolled": true
   },
   "outputs": [],
   "source": [
    "plt.close('all')\n",
    "plt.imshow(incidenceAngle_2[p][::scale,::scale])"
   ]
  },
  {
   "cell_type": "code",
   "execution_count": null,
   "metadata": {
    "collapsed": false,
    "scrolled": true
   },
   "outputs": [],
   "source": [
    "plt.close('all')\n",
    "plt.plot(sigma0wAvg[p])\n",
    "plt.plot(sigma0w[p].mean(axis=0), 'g')"
   ]
  },
  {
   "cell_type": "code",
   "execution_count": null,
   "metadata": {
    "collapsed": false,
    "scrolled": true
   },
   "outputs": [],
   "source": [
    "plt.close('all')\n",
    "plt.figure(figsize=(16,12))\n",
    "plt.imshow(roughness[p], vmin=0, vmax=0.01)\n",
    "# plt.imshow(roughness[p], vmin=0, vmax=0.1)\n",
    "plt.gray()"
   ]
  },
  {
   "cell_type": "code",
   "execution_count": null,
   "metadata": {
    "collapsed": false,
    "scrolled": true
   },
   "outputs": [],
   "source": [
    "plt.close('all')\n",
    "plt.figure(figsize=(16,16))\n",
    "plt.imshow(roughnessNrmlzd[p], vmin=-1, vmax=1)\n",
    "plt.set_cmap('bone_r')\n",
    "# plt.set_cmap('seismic')\n",
    "# plt.set_cmap('RdBu_r')\n"
   ]
  },
  {
   "cell_type": "code",
   "execution_count": null,
   "metadata": {
    "collapsed": false,
    "scrolled": true
   },
   "outputs": [],
   "source": [
    "plt.close('all')\n",
    "plt.figure(figsize=(16,16/3*double(sigma0w[p].shape[0])/double(sigma0w[p].shape[1])))\n",
    "plt.subplot(121)\n",
    "plt.imshow(roughness[p], vmin=0, vmax=0.1)\n",
    "plt.gray()\n",
    "plt.colorbar()\n",
    "plt.title(p)\n",
    "plt.subplot(122)\n",
    "plt.imshow(roughnessNrmlzd[p], vmin=-1, vmax=1)\n",
    "plt.gray()\n",
    "plt.colorbar()\n",
    "plt.title(p + ' Nrmlzd')"
   ]
  },
  {
   "cell_type": "code",
   "execution_count": null,
   "metadata": {
    "collapsed": false,
    "scrolled": true
   },
   "outputs": [],
   "source": [
    "plt.close('all')\n",
    "plt.figure(figsize=(16,16))\n",
    "plt.imshow(roughnessNrmlzd[p], vmin=-1, vmax=1)\n",
    "# plt.set_cmap('bone_r')\n",
    "# plt.set_cmap('seismic')\n",
    "plt.set_cmap('RdBu_r')\n"
   ]
  },
  {
   "cell_type": "code",
   "execution_count": null,
   "metadata": {
    "collapsed": false,
    "scrolled": true
   },
   "outputs": [],
   "source": []
  },
  {
   "cell_type": "code",
   "execution_count": null,
   "metadata": {
    "collapsed": false,
    "scrolled": true
   },
   "outputs": [],
   "source": []
  },
  {
   "cell_type": "code",
   "execution_count": null,
   "metadata": {
    "collapsed": false,
    "scrolled": true
   },
   "outputs": [],
   "source": [
    "plt.close('all')\n",
    "plt.figure(figsize=(16,16/3*double(sigma0w[polarization[0]].shape[0])/double(sigma0w[polarization[0]].shape[1])))\n",
    "plt.subplot(131)\n",
    "plt.imshow(10*log10(sigma0w[polarization[0]]), vmin=-20, vmax=5)\n",
    "plt.gray()\n",
    "plt.colorbar()\n",
    "plt.title(polarization[0])\n",
    "plt.subplot(132)\n",
    "plt.imshow(10*log10(sigma0w[polarization[1]]), vmin=-30, vmax=5)\n",
    "plt.gray()\n",
    "plt.colorbar()\n",
    "plt.title(polarization[1])\n",
    "# plt.subplot(133)\n",
    "# plt.imshow(roughness[polarization[0]][::scale,::scale], vmin=0, vmax=roughness[polarization[0]].mean())\n",
    "# plt.gray()\n",
    "# plt.colorbar()\n",
    "# plt.title(polarization[0])"
   ]
  },
  {
   "cell_type": "code",
   "execution_count": null,
   "metadata": {
    "collapsed": false,
    "scrolled": true
   },
   "outputs": [],
   "source": []
  },
  {
   "cell_type": "code",
   "execution_count": null,
   "metadata": {
    "collapsed": false,
    "scrolled": true
   },
   "outputs": [],
   "source": [
    "# Adding Model wind\n",
    "\n",
    "startTime = datetime.datetime.strptime(\\\n",
    "                              manifest['xfdu:XFDU']['metadataSection']['metadataObject'][12]\\\n",
    "                              ['metadataWrap']['xmlData']['safe:acquisitionPeriod']['safe:startTime'],\\\n",
    "                              \"%Y-%m-%dT%H:%M:%S.%f\")\n",
    "\n",
    "ncepGFSmodelWind = ncepGFSmodel(startTime, lats_2, lons_2)"
   ]
  },
  {
   "cell_type": "code",
   "execution_count": null,
   "metadata": {
    "collapsed": false,
    "scrolled": true
   },
   "outputs": [],
   "source": [
    "plt.close('all')\n",
    "plt.figure(figsize=(16,16/3*double(sigma0w[p].shape[0])/double(sigma0w[p].shape[1])))\n",
    "plt.subplot(121)\n",
    "plt.imshow(ncepGFSmodelWind['wind_speed'])\n",
    "plt.jet()\n",
    "plt.colorbar()\n",
    "plt.subplot(122)\n",
    "plt.imshow(ncepGFSmodelWind['wind_dir'])\n",
    "plt.jet()\n",
    "plt.colorbar()\n"
   ]
  },
  {
   "cell_type": "code",
   "execution_count": null,
   "metadata": {
    "collapsed": false,
    "scrolled": true
   },
   "outputs": [],
   "source": [
    "# plt.close('all')\n",
    "# plt.figure(figsize=(16,4))\n",
    "# plt.subplot(121)\n",
    "# plt.imshow(ncepGFSmodelWind['lats_wind'])\n",
    "# plt.jet()\n",
    "# plt.colorbar()\n",
    "# plt.subplot(122)\n",
    "# plt.imshow(ncepGFSmodelWind['lons_wind'])\n",
    "# plt.jet()\n",
    "# plt.colorbar()"
   ]
  },
  {
   "cell_type": "code",
   "execution_count": null,
   "metadata": {
    "collapsed": false,
    "scrolled": true
   },
   "outputs": [],
   "source": [
    "# plt.close('all')\n",
    "# plt.plot(ncepGFSmodelWind['lons_wind'][0,:])\n",
    "# plt.plot(ncepGFSmodelWind['lats_wind'][:,0])"
   ]
  },
  {
   "cell_type": "code",
   "execution_count": null,
   "metadata": {
    "collapsed": false,
    "scrolled": true
   },
   "outputs": [],
   "source": []
  },
  {
   "cell_type": "code",
   "execution_count": null,
   "metadata": {
    "collapsed": false,
    "scrolled": true
   },
   "outputs": [],
   "source": []
  },
  {
   "cell_type": "code",
   "execution_count": null,
   "metadata": {
    "collapsed": false,
    "scrolled": true
   },
   "outputs": [],
   "source": []
  },
  {
   "cell_type": "code",
   "execution_count": null,
   "metadata": {
    "collapsed": false,
    "scrolled": true
   },
   "outputs": [],
   "source": [
    "# Reprojecting data\n",
    "\n",
    "import distancelib\n",
    "\n",
    "# Pixel resolution\n",
    "# we use pxlResWind/pxlResSAR for further pyresample radius_of_influence and sigmas\n",
    "pxlResWind = asarray(distancelib.getPixelResolution(ncepGFSmodelWind['lats_wind'], \\\n",
    "                                                    ncepGFSmodelWind['lons_wind'], \\\n",
    "                                                    ncepGFSmodelWind['lons_wind'].shape, 'km'))\n",
    "# pxlResSAR  = asarray(distancelib.getPixelResolution(lats_2, lons_2, lons_2.shape, 'km'))*1e3\n",
    "\n",
    "# Note pxlResWind is in KM, multiply by 1e3 for meters\n",
    "print \"S1 cell resolution, %s m\"  % pxlResSARm\n",
    "print \"Wind cell resolution, %s km\" % pxlResWind"
   ]
  },
  {
   "cell_type": "code",
   "execution_count": null,
   "metadata": {
    "collapsed": false,
    "scrolled": true
   },
   "outputs": [],
   "source": [
    "from scipy.interpolate import RectSphereBivariateSpline\n",
    "\n",
    "def ncepGFSmodel2swath(lats, lons, data, lats_2, lons_2):\n",
    "\n",
    "    func = RectSphereBivariateSpline(lats, lons, data)\n",
    "    data_2 = func.ev(lats_2.ravel()*pi/180, \\\n",
    "                     lons_2.ravel()*pi/180)\\\n",
    "                     .reshape(lats_2.shape)\n",
    "    return data_2\n"
   ]
  },
  {
   "cell_type": "code",
   "execution_count": null,
   "metadata": {
    "collapsed": false,
    "scrolled": true
   },
   "outputs": [],
   "source": [
    "# reproject NCEP onto S1 grid before calculations\n",
    "# Using RectSphereBivariateSpline - Bivariate spline approximation over a rectangular mesh on a sphere\n",
    "# as it is much more efficiant for full resolution\n",
    "# as well as smoothes nicely the image\n",
    "\n",
    "# We don't want to work with full res wind so scaling the image for about 100m resolution\n",
    "# Adjust scale to get appropriate value\n",
    "# scale = 5\n",
    "\n",
    "lts = flipud(ncepGFSmodelWind['lats_wind'])[:,0]*pi/180\n",
    "lns = ncepGFSmodelWind['lons_wind'][0,:]*pi/180\n",
    "data = flipud(ncepGFSmodelWind['wind_speed'])\n",
    "data2 = flipud(ncepGFSmodelWind['wind_dir'])\n",
    "\n",
    "lts_2 = lats_2[::scale,::scale]\n",
    "lns_2 = lons_2[::scale,::scale]\n",
    "\n",
    "wind_speed_model_swath = ncepGFSmodel2swath(lts, lns, data, lts_2, lns_2)\n",
    "wind_dir_model_swath   = ncepGFSmodel2swath(lts, lns, data2, lts_2, lns_2)\n",
    "\n",
    "del data, data2\n",
    "    \n",
    "pxlResWindSwath = asarray(distancelib.getPixelResolution(lts_2, \\\n",
    "                                                    lns_2, \\\n",
    "                                                    lns_2.shape, 'km'))\n",
    "print \"Interpolated Wind cell resolution, %s km\" % pxlResWindSwath\n"
   ]
  },
  {
   "cell_type": "code",
   "execution_count": null,
   "metadata": {
    "collapsed": false,
    "scrolled": true
   },
   "outputs": [],
   "source": [
    "plt.close('all')\n",
    "plt.figure(figsize=(16,16/3*double(sigma0w[polarization[0]].shape[0])/double(sigma0w[polarization[0]].shape[1])))\n",
    "plt.subplot(121)\n",
    "plt.imshow(wind_speed_model_swath[::33,::33])\n",
    "plt.jet()\n",
    "plt.colorbar()\n",
    "plt.subplot(122)\n",
    "plt.imshow(wind_dir_model_swath[::33,::33])\n",
    "plt.jet()\n",
    "plt.colorbar()"
   ]
  },
  {
   "cell_type": "code",
   "execution_count": null,
   "metadata": {
    "collapsed": false,
    "scrolled": true
   },
   "outputs": [],
   "source": []
  },
  {
   "cell_type": "code",
   "execution_count": null,
   "metadata": {
    "collapsed": false,
    "scrolled": true
   },
   "outputs": [],
   "source": [
    "# calculate bearing from initial lats/lons for further wind calculation\n",
    "# Taking initial values as bearing is more accurate after interpolation than vice versa\n",
    "bearing = zeros((GEOgrid['lons'].shape[0]-1,GEOgrid['lons'].shape[1]))\n",
    "\n",
    "for n in range(0,GEOgrid['lons'].shape[1]):\n",
    "    col = ([GEOgrid['lats'][:-1,n], GEOgrid['lons'][:-1,n]], [GEOgrid['lats'][1:,n], GEOgrid['lons'][1:,n]])\n",
    "    for m in range(0,GEOgrid['lons'].shape[0]-1):\n",
    "        bearing[m][n] = distancelib.bearing(asarray(col[0])[:,m], asarray(col[1])[:,m])\n",
    "\n",
    "# interpolate to raw_counts.shape\n",
    "bearing_2 = imresize(bearing, wind_dir_model_swath.shape)"
   ]
  },
  {
   "cell_type": "code",
   "execution_count": null,
   "metadata": {
    "collapsed": false,
    "scrolled": true
   },
   "outputs": [],
   "source": [
    "plt.close('all')\n",
    "plt.figure(figsize=(16,16/3*double(sigma0w[p].shape[0])/double(sigma0w[p].shape[1])))\n",
    "plt.imshow(bearing_2)\n",
    "plt.jet()\n",
    "plt.colorbar()"
   ]
  },
  {
   "cell_type": "code",
   "execution_count": null,
   "metadata": {
    "collapsed": false,
    "scrolled": true
   },
   "outputs": [],
   "source": [
    "# # Wind Speed\n",
    "\n",
    "# windSpeed = {}\n",
    "\n",
    "# # the C-2PO (C-band Cross-Polarized Ocean) model\n",
    "# # B. Zhang and W. Perrie, Cross-polarized synthetic aperture radar:\n",
    "# # A new potential measurement technique for hurricanes, Bull. Amer. Meteor. Soc., pp. 531-541, 2012.\n",
    "# if 'vh' in polarization:\n",
    "#     windSpeed['vh'] = (10*log10(sigma0w['vh']) + 35.652)/0.58\n",
    "# if 'hv' in polarization:\n",
    "#     windSpeed['hv'] = (10*log10(sigma0w['hv']) + 35.652)/0.58\n",
    "\n",
    "# # convert the signal measured in HH into VV polarization before using a GMF from the CMOD family\n",
    "# if 'hh' in polarization:\n",
    "#     alpha=1 # for Sentinel Toolbox alpha=1, initially it was 0.6\n",
    "#     sigma0w['hh2vv'] = sigma0w['hh']*(1+2*tan(incidenceAngle_2['hh'])**2)**2/(1+alpha*tan(incidenceAngle_2['hh'])**2)**2\n",
    "\n",
    "# plt.close('all')\n",
    "# plt.figure(figsize=(16,16/3*double(sigma0w[polarization[0]].shape[0])/double(sigma0w[polarization[0]].shape[1])))\n",
    "# plt.imshow(windSpeed['vh'][::33,::33], vmin=0, vmax=20)\n",
    "# plt.jet()\n",
    "# plt.colorbar()"
   ]
  },
  {
   "cell_type": "code",
   "execution_count": null,
   "metadata": {
    "collapsed": false,
    "scrolled": true
   },
   "outputs": [],
   "source": [
    "scale"
   ]
  },
  {
   "cell_type": "code",
   "execution_count": null,
   "metadata": {
    "collapsed": false,
    "scrolled": true
   },
   "outputs": [],
   "source": [
    "#NB! WINDDIR = 0 WHEN WIND BLOWS TOWARDS RADAR!\n",
    "wind_dir_model_swath_rel = 90 + bearing_2 - wind_dir_model_swath\n",
    "try:\n",
    "    from cmod_gpu import rcs2windOpenCl\n",
    "    wind_speed_asar = rcs2windOpenCl(sar=sigma0w[p], \\\n",
    "                                     windir=wind_dir_model_swath_rel, \\\n",
    "                                     theta=incidenceAngle_2[p][::scale,::scale])\n",
    "except Exception:\n",
    "    from cmod_vect import rcs2windPar\n",
    "    wind_speed_asar = rcs2windPar(sigma0w[p], cmdv=5, \\\n",
    "                                  windir=wind_dir_model_swath_rel, \\\n",
    "                                  theta=incidenceAngle_2[p][::scale,::scale], nprocs=numProcs)"
   ]
  },
  {
   "cell_type": "code",
   "execution_count": null,
   "metadata": {
    "collapsed": false,
    "scrolled": true
   },
   "outputs": [],
   "source": [
    "plt.close('all')\n",
    "plt.figure(figsize=(16,16/3*double(sigma0w[p].shape[0])/double(sigma0w[p].shape[1])))\n",
    "plt.plot(wind_speed_model_swath[500,:])\n",
    "plt.plot(wind_speed_asar[500,:])"
   ]
  },
  {
   "cell_type": "code",
   "execution_count": null,
   "metadata": {
    "collapsed": false,
    "scrolled": true
   },
   "outputs": [],
   "source": [
    "plt.close('all')\n",
    "plt.figure(figsize=(16,16/3*double(sigma0w[p].shape[0])/double(sigma0w[p].shape[1])))\n",
    "plt.plot(wind_speed_model_swath[:,1500])\n",
    "plt.plot(wind_speed_asar[:,1500])"
   ]
  },
  {
   "cell_type": "code",
   "execution_count": null,
   "metadata": {
    "collapsed": false,
    "scrolled": true
   },
   "outputs": [],
   "source": [
    "plt.close('all')\n",
    "plt.figure(figsize=(16,16/3*double(sigma0w[p].shape[0])/double(sigma0w[p].shape[1])))\n",
    "plt.subplot(121)\n",
    "plt.imshow(wind_speed_model_swath, vmin=3, vmax=10)\n",
    "plt.jet()\n",
    "plt.colorbar()\n",
    "plt.subplot(122)\n",
    "plt.imshow(wind_speed_asar, vmin=3, vmax=10)\n",
    "plt.jet()\n",
    "plt.colorbar()"
   ]
  },
  {
   "cell_type": "code",
   "execution_count": null,
   "metadata": {
    "collapsed": false,
    "scrolled": true
   },
   "outputs": [],
   "source": []
  },
  {
   "cell_type": "code",
   "execution_count": null,
   "metadata": {
    "collapsed": false,
    "scrolled": true
   },
   "outputs": [],
   "source": []
  },
  {
   "cell_type": "code",
   "execution_count": null,
   "metadata": {
    "collapsed": false,
    "scrolled": true
   },
   "outputs": [],
   "source": []
  },
  {
   "cell_type": "code",
   "execution_count": null,
   "metadata": {
    "collapsed": false,
    "scrolled": true
   },
   "outputs": [],
   "source": [
    "# Reprojecting data\n",
    "\n",
    "\n",
    "roughness_4326, scaling, intercept = pr.kd_tree.resample_nearest(swath_def, roughnessNrmlzd, area_def_4326, \\\n",
    "                                             radius_of_influence=4*pxlResSARm.max(), epsilon=0.5, fill_value=None)"
   ]
  },
  {
   "cell_type": "code",
   "execution_count": null,
   "metadata": {
    "collapsed": false,
    "scrolled": true
   },
   "outputs": [],
   "source": []
  },
  {
   "cell_type": "code",
   "execution_count": null,
   "metadata": {
    "collapsed": false,
    "scrolled": true
   },
   "outputs": [],
   "source": []
  },
  {
   "cell_type": "code",
   "execution_count": null,
   "metadata": {
    "collapsed": false,
    "scrolled": true
   },
   "outputs": [],
   "source": []
  },
  {
   "cell_type": "code",
   "execution_count": null,
   "metadata": {
    "collapsed": false,
    "scrolled": true
   },
   "outputs": [],
   "source": [
    "# Save png image and kml file\n",
    "\n",
    "import simplekml\n",
    "\n",
    "def create_KML_asar(area_extent, savepath):\n",
    "    kml = simplekml.Kml()\n",
    "\n",
    "    pol = kml.newpolygon(name='area_extent', visibility=1)\n",
    "    pol.tessellate = 1\n",
    "\n",
    "    pol.altitudemode = 'clampToGround'\n",
    "    pol.outerboundaryis.coords = [(area_extent[0], area_extent[1]), (area_extent[2], area_extent[3])]\n",
    "    if type(savepath) == list:\n",
    "        for _savepath in savepath:\n",
    "            kml.save(_savepath)\n",
    "    else:\n",
    "        kml.save(savepath)\n",
    "\n",
    "oPath = '/home/mag/tmp/'\n",
    "oFileName = os.path.join(oPath, fn+'.png')\n",
    "\n",
    "close('all')\n",
    "gray()\n",
    "imsave(oFileName, roughness_masked, vmin=0, vmax=2)\n",
    "create_KML_asar(area_def.area_extent, os.path.join(oPath, fn+'.kml'))"
   ]
  },
  {
   "cell_type": "code",
   "execution_count": null,
   "metadata": {
    "collapsed": false,
    "scrolled": true
   },
   "outputs": [],
   "source": [
    "# Generate tiles\n",
    "\n",
    "import gdal\n",
    "import sys\n",
    "sys.path.append('/usr/bin')\n",
    "from gdal2tiles import GDAL2Tiles\n",
    "\n",
    "def create_asar_tiles(png_filename, tiles_output_dir, proj):\n",
    "    local_argv = ['/usr/bin/gdal2tiles.py', '-p', 'raster', '-r', 'cubic',\n",
    "                  '-s', proj, png_filename, tiles_output_dir]\n",
    "    argv = gdal.GeneralCmdLineProcessor(local_argv)\n",
    "    if argv:\n",
    "        gdal2tiles = GDAL2Tiles(argv[1:])\n",
    "        gdal2tiles.process()\n",
    "\n",
    "create_KML_asar(area_def.area_extent, os.path.join(_path, fileName+'.kml'))\n",
    "\n",
    "tiles_3413_output_dir = os.path.join(oPath, 'tiles')\n",
    "png_3413_filename = oFileName\n",
    "create_asar_tiles(png_3413_filename, tiles_3413_output_dir, 'EPSG:3413')"
   ]
  },
  {
   "cell_type": "code",
   "execution_count": null,
   "metadata": {
    "collapsed": false,
    "scrolled": true
   },
   "outputs": [],
   "source": []
  },
  {
   "cell_type": "code",
   "execution_count": null,
   "metadata": {
    "collapsed": false,
    "scrolled": true
   },
   "outputs": [],
   "source": []
  },
  {
   "cell_type": "code",
   "execution_count": null,
   "metadata": {
    "collapsed": false,
    "scrolled": true
   },
   "outputs": [],
   "source": [
    "# Check the lat/lon/incidenceAngle after interpolation\n",
    "\n",
    "print diff([GEOgrid['incidenceAngle'].min(),incidenceAngle_2.min()])\n",
    "print diff([GEOgrid['incidenceAngle'].max(),incidenceAngle_2.max()])\n",
    "\n",
    "print diff([GEOgrid['lats'].min(),lats_2.min()])\n",
    "print diff([GEOgrid['lats'].max(), lats_2.max()])\n",
    "\n",
    "print diff([GEOgrid['lons'].min(), lons_2.min()])\n",
    "print diff([GEOgrid['lons'].max(), lons_2.max()])\n",
    "\n",
    "plt.close('all')\n",
    "plt.figure(figsize=(16,14))\n",
    "\n",
    "plt.subplot(321)\n",
    "plt.plot(range(0,raw_counts.shape[1]), lats_2[0,:])\n",
    "plt.plot(GEOgrid['pixel'][0,:], GEOgrid['lats'][0,:], 'r.')\n",
    "plt.hold\n",
    "plt.plot(range(0,raw_counts.shape[1]), lats_2[-1,:])\n",
    "plt.plot(GEOgrid['pixel'][-1,:], GEOgrid['lats'][-1,:], 'k.')\n",
    "\n",
    "plt.subplot(322)\n",
    "plt.plot(range(0,raw_counts.shape[0]), lats_2[:,0])\n",
    "plt.plot(GEOgrid['line'][:,0], GEOgrid['lats'][:,0], 'r.')\n",
    "plt.hold\n",
    "plt.plot(range(0,raw_counts.shape[0]), lats_2[:,-1])\n",
    "plt.plot(GEOgrid['line'][:,-1], GEOgrid['lats'][:,-1], 'k.')\n",
    "\n",
    "plt.subplot(323)\n",
    "plt.plot(range(0,raw_counts.shape[1]), incidenceAngle_2[0,:])\n",
    "plt.plot(GEOgrid['pixel'][0,:], GEOgrid['incidenceAngle'][0,:], 'r.')\n",
    "plt.hold\n",
    "plt.plot(range(0,raw_counts.shape[1]), incidenceAngle_2[-1,:])\n",
    "plt.plot(GEOgrid['pixel'][-1,:], GEOgrid['incidenceAngle'][-1,:], 'k.')\n",
    "\n",
    "plt.subplot(324)\n",
    "plt.plot(range(0,raw_counts.shape[0]), incidenceAngle_2[:,0])\n",
    "plt.plot(GEOgrid['line'][:,0], GEOgrid['incidenceAngle'][:,0], 'r.')\n",
    "plt.hold\n",
    "plt.plot(range(0,raw_counts.shape[0]), incidenceAngle_2[:,-1])\n",
    "plt.plot(GEOgrid['line'][:,-1], GEOgrid['incidenceAngle'][:,-1], 'k.')\n",
    "\n",
    "plt.subplot(325)\n",
    "plt.plot(range(0,raw_counts.shape[1]), sigmaNought_2[0,:])\n",
    "plt.plot(cLUTs['pixel'][0,::10], cLUTs['sigmaNought'][0,::10], 'r.')\n",
    "\n",
    "plt.subplot(326)\n",
    "plt.plot(range(0,raw_counts.shape[0]), sigmaNought_2[:,0])\n",
    "plt.plot(cLUTs['line'][:,0], cLUTs['sigmaNought'][:,0], 'r.')"
   ]
  },
  {
   "cell_type": "raw",
   "metadata": {},
   "source": [
    "Product:\tS1A_IW_GRDH_1SDV_20141004T155619_20141004T155644_002682_002FE5_BE58_Calib\n",
    "\n",
    "Image-X:\t10215\tpixel\n",
    "Image-Y:\t5465\tpixel\n",
    "Longitude:\t25°19'38\" E\tdegree\n",
    "Latitude:\t59°52'25\" N\tdegree\n",
    "\n",
    "BandName\tValue\tUnit\n",
    "Sigma0_VV:\t19.47602\tintensity\t\n",
    "\n",
    "latitude:\t59.87349\tdeg\n",
    "longitude:\t25.327261\tdeg\n",
    "incident_angle:\t37.08765\tdeg\n",
    "elevation_angle:\t32.87843\tdeg\n",
    "slant_range_time:\t5738716.0\tns\n"
   ]
  },
  {
   "cell_type": "code",
   "execution_count": null,
   "metadata": {
    "collapsed": false,
    "scrolled": true
   },
   "outputs": [],
   "source": [
    "lats_2[5465,10215], lons_2[5465,10215], incidenceAngle_2[p][5465,10215], sigma0[p][5465,10215]"
   ]
  },
  {
   "cell_type": "code",
   "execution_count": null,
   "metadata": {
    "collapsed": false,
    "scrolled": true
   },
   "outputs": [],
   "source": [
    "print arcsin((4.740000e+02/6.666194e+02)**2)*180/pi, incidenceAngle_2[p][0,0]\n",
    "print arcsin((4.740000e+02/5.596816e+02)**2)*180/pi, incidenceAngle_2[p][-1,-1]"
   ]
  },
  {
   "cell_type": "code",
   "execution_count": null,
   "metadata": {
    "collapsed": false,
    "scrolled": true
   },
   "outputs": [],
   "source": []
  },
  {
   "cell_type": "code",
   "execution_count": null,
   "metadata": {
    "collapsed": false,
    "scrolled": true
   },
   "outputs": [],
   "source": []
  },
  {
   "cell_type": "code",
   "execution_count": null,
   "metadata": {
    "collapsed": false,
    "scrolled": true
   },
   "outputs": [],
   "source": []
  },
  {
   "cell_type": "code",
   "execution_count": null,
   "metadata": {
    "collapsed": false,
    "scrolled": true
   },
   "outputs": [],
   "source": []
  },
  {
   "cell_type": "code",
   "execution_count": null,
   "metadata": {
    "collapsed": false,
    "scrolled": true
   },
   "outputs": [],
   "source": [
    "from osgeo import gdal\n",
    "\n",
    "ds = gdal.Open(inpath + fileLocation['s1aiwgrd' + polarization])\n",
    "ds.RasterCount"
   ]
  },
  {
   "cell_type": "code",
   "execution_count": null,
   "metadata": {
    "collapsed": false,
    "scrolled": true
   },
   "outputs": [],
   "source": [
    "ds = gdal.Open('/media/data/data/OTHER/RS2 Agulhas and Lion/RS2_SQA_1xQGSS20091224_164846_00000004/imagery_HV.tif')\n",
    "ds.RasterCount"
   ]
  },
  {
   "cell_type": "code",
   "execution_count": null,
   "metadata": {
    "collapsed": false,
    "scrolled": true
   },
   "outputs": [],
   "source": [
    "ds = gdal.Open('/media/SOLabNFS2/tmp/sentinel-1/S1A_IW_SLC__1SDV_20141003T151001_20141003T151028_002667_002F87_7088.SAFE/measurement/s1a-iw1-slc-vv-20141003t151002-20141003t151027-002667-002f87-004.tiff')\n",
    "slc = ds.ReadAsArray()\n",
    "slc.dtype\n",
    "del slc"
   ]
  },
  {
   "cell_type": "code",
   "execution_count": null,
   "metadata": {
    "collapsed": false,
    "scrolled": true
   },
   "outputs": [],
   "source": []
  },
  {
   "cell_type": "code",
   "execution_count": null,
   "metadata": {
    "collapsed": false,
    "scrolled": true
   },
   "outputs": [],
   "source": []
  },
  {
   "cell_type": "code",
   "execution_count": null,
   "metadata": {
    "collapsed": false,
    "scrolled": true
   },
   "outputs": [],
   "source": []
  },
  {
   "cell_type": "code",
   "execution_count": null,
   "metadata": {
    "collapsed": false,
    "scrolled": true
   },
   "outputs": [],
   "source": [
    "# ----------------------------------\n",
    "# from scipy.interpolate import griddata\n",
    "# from numpy import meshgrid, linspace\n",
    "\n",
    "# Slant Range, Single-Look Complex (SLC) products\n",
    "# are images in the slant range by azimuth imaging plane,\n",
    "# in the image plane of satellite data acquisition.\n",
    "# THAT MEANS that they must be interpolated more carefully using slantRangeTime and azimuthTime as in ASAR\n",
    "\n",
    "# create new grid of raw_counts shape\n",
    "# line_2, pixel_2 = meshgrid(linspace(0, lats.shape[0], raw_counts.shape[0]), linspace(0, lats.shape[1], raw_counts.shape[1]))\n",
    "# Interpolate onto a new grid\n",
    "# lats_2 = griddata((line.ravel(), pixel.ravel()), lats.ravel(), (line_2, pixel_2), method='cubic')\n",
    "# lons_2 = griddata((line.ravel(), pixel.ravel()), lons.ravel(), (line_2, pixel_2), method='cubic')\n"
   ]
  },
  {
   "cell_type": "code",
   "execution_count": null,
   "metadata": {
    "collapsed": false,
    "scrolled": true
   },
   "outputs": [],
   "source": []
  },
  {
   "cell_type": "code",
   "execution_count": null,
   "metadata": {
    "collapsed": false,
    "scrolled": true
   },
   "outputs": [],
   "source": [
    "#     # Nice Image (Roughness)\n",
    "#     if p == 'hh':\n",
    "#         ph = (2.20495, -14.3561e-2, 11.28e-4)\n",
    "#         sigma0_hh_ref = exp( ( ph[0]+incidenceAngle_2[p]*ph[1]+incidenceAngle_2[p]**2*ph[2])*log(10) )\n",
    "#         roughness[p] = sigma0w[p]/sigma0_hh_ref\n",
    "#     elif p == 'vv':\n",
    "#         pv = (2.29373, -15.393e-2, 15.1762e-4)\n",
    "#         sigma0_vv_ref = exp( ( pv[0]+incidenceAngle_2[p]*pv[1]+incidenceAngle_2[p]**2*pv[2])*log(10) )\n",
    "#         roughness[p] = sigma0w[p]/sigma0_vv_ref"
   ]
  },
  {
   "cell_type": "code",
   "execution_count": null,
   "metadata": {
    "collapsed": false,
    "scrolled": true
   },
   "outputs": [],
   "source": []
  },
  {
   "cell_type": "raw",
   "metadata": {},
   "source": [
    "USING minidom\n",
    "\n",
    "from xml.dom import minidom\n",
    "manifest = minidom.parse(inpath + \"manifest.safe\")\n",
    "for node in manifest.getElementsByTagName('dataObject'):\n",
    "    if node.getAttribute('repID') == 's1Level1ProductSchema':\n",
    "        fileLocation.append(node.childNodes[1].childNodes[1].getAttribute('href'))\n",
    "\n",
    "# open first file with minidom\n",
    "xmldoc = minidom.parse(inpath + fileLocation[0])\n",
    "\n",
    "document_file = open(inpath + fileLocation[0], \"r\") # Open a file in read-only mode\n",
    "original_doc = document_file.read() # read the file object\n",
    "document = xmltodict.parse(original_doc) # Parse the read document string\n",
    "\n",
    "# get productType/polarisation from the Annotation Data Set Records (ADSR)\n",
    "document['product']['adsHeader'].keys()\n",
    "productType = xmldoc.getElementsByTagName('productType')[0].childNodes[0].data\n",
    "polarisation = xmldoc.getElementsByTagName('polarisation')[0].childNodes[0].data\n",
    "\n",
    "# get geolocation grid elements by tag name\n",
    "latGrid = xmldoc.getElementsByTagName('latitude')\n",
    "lonGrid = xmldoc.getElementsByTagName('longitude')\n",
    "lineGrid = xmldoc.getElementsByTagName('line')\n",
    "pixelGrid = xmldoc.getElementsByTagName('pixel')\n",
    "\n",
    "# preallocate variables\n",
    "lat = zeros( ( (latGrid).length, 1) )\n",
    "lon = zeros( lat.shape )\n",
    "line = zeros( lat.shape )\n",
    "pixel = zeros( lat.shape )\n",
    "\n",
    "# read Geolocation grid points into line\n",
    "for n in range((latGrid).length):\n",
    "    lat[n] = latGrid[n].childNodes[0].data\n",
    "    lon[n] = lonGrid[n].childNodes[0].data\n",
    "    line[n] = lineGrid[n].childNodes[0].data\n",
    "    pixel[n] = pixelGrid[n].childNodes[0].data\n",
    "\n",
    "# find zero pixel to rehape to array\n",
    "ind = find(pixel == 0)\n",
    "pixel = reshape(pixel, (ind.size, latGrid.length/ind.size))\n",
    "line = reshape(line, (ind.size, latGrid.length/ind.size))\n",
    "lat = reshape(lat, (ind.size, latGrid.length/ind.size))\n",
    "lon = reshape(lon, (ind.size, latGrid.length/ind.size))\n"
   ]
  },
  {
   "cell_type": "raw",
   "metadata": {},
   "source": [
    "# USING PIL IMAGE if no AGG with large file support\n",
    "\n",
    "from matplotlib.colors import Normalize\n",
    "\n",
    "# get normalization func\n",
    "norm = Normalize(vmin=-1, vmax=+1)\n",
    "# normalize array\n",
    "imRoughness4326 = (norm(roughness_4326[p])*255).astype(np.uint8)\n",
    "# apply colormap to an array\n",
    "imRoughness4326 = (plt.cm.bone_r(imRoughness4326)*255).astype(np.uint8)\n",
    "# convert array to image\n",
    "imRoughness4326 = Image.fromarray(imRoughness4326)\n",
    "# convert to RGBA for transparency\n",
    "imRoughness4326 = imRoughness4326.convert('RGBA')\n",
    "oFileName = os.path.join(oPath+'proj/', fn[:-3]+p+'_4326_bone_r.png')\n",
    "imRoughness4326.save(oFileName)"
   ]
  },
  {
   "cell_type": "raw",
   "metadata": {},
   "source": [
    "# Using PIL to make all white pixels transparent\n",
    "datas = img.getdata()\n",
    "\n",
    "newData = []\n",
    "for item in datas:\n",
    "    if item[0] == 255 and item[1] == 255 and item[2] == 255:\n",
    "        newData.append((255, 255, 255, 0))\n",
    "    else:\n",
    "        newData.append(item)\n",
    "\n",
    "img.putdata(newData)"
   ]
  },
  {
   "cell_type": "code",
   "execution_count": null,
   "metadata": {
    "collapsed": false,
    "scrolled": true
   },
   "outputs": [],
   "source": []
  },
  {
   "cell_type": "raw",
   "metadata": {},
   "source": [
    "# Areas for download\n",
    "# (minlon, minlat, maxlon, maxlat)\n",
    "Northern Arctic   (-180, 80, 180, 90)\n",
    "Norwegian Sea     (-45, 65, 20, 80)\n",
    "Barents Sea       (20, 60, 60, 80)\n",
    "Kara Sea          (60, 65, 100, 80)\n",
    "Laptev Sea        (100, 70, 140, 80)\n",
    "East Siberian Sea (140, 70, 180, 80)\n",
    "Beaufaurt Sea     (-180, 65, -120, 80)\n",
    "West Greenland    (-120, 60, -45, 80)\n",
    "Baltic            (10, 53, 34, 65)\n",
    "Black Sea         (27, 40, 42, 48)\n",
    "\n"
   ]
  },
  {
   "cell_type": "code",
   "execution_count": null,
   "metadata": {
    "collapsed": false,
    "scrolled": true
   },
   "outputs": [],
   "source": []
  },
  {
   "cell_type": "raw",
   "metadata": {},
   "source": [
    "# find the peaks value index to split the image in several parts\n",
    "from scipy.signal import argrelextrema, argrelmax\n",
    "from scipy.signal import find_peaks_cwt\n",
    "\n",
    "noiseLutInd = noiseLut_2[p][::scale,::scale].mean(axis=0)\n",
    "noiseLutInd = argrelextrema(noiseLutInd, greater)\n",
    "print noiseLutInd\n",
    "\n",
    "noiseLutInd = argrelmax(noiseLut_2[p][::scale,::scale].mean(axis=0))\n",
    "print noiseLutInd\n",
    "\n",
    "noiseLutInd = find_peaks_cwt(noiseLut_2[p][::scale,::scale].mean(axis=0), arange(1,100))\n",
    "print noiseLutInd\n",
    "\n",
    "noiseLutInd = find_peaks_cwt(sigma0wAvg[p], arange(1,800), noise_perc=0.1)\n",
    "print noiseLutInd\n",
    "\n",
    "noiseLutInd = find_peaks_cwt(sigma0wAvg[p], arange(10,22), noise_perc=0.1)\n",
    "print noiseLutInd\n"
   ]
  }
 ],
 "metadata": {
  "kernelspec": {
   "display_name": "Python 2",
   "language": "python",
   "name": "python2"
  },
  "language_info": {
   "codemirror_mode": {
    "name": "ipython",
    "version": 2
   },
   "file_extension": ".py",
   "mimetype": "text/x-python",
   "name": "python",
   "nbconvert_exporter": "python",
   "pygments_lexer": "ipython2",
   "version": "2.7.6"
  }
 },
 "nbformat": 4,
 "nbformat_minor": 0
}
